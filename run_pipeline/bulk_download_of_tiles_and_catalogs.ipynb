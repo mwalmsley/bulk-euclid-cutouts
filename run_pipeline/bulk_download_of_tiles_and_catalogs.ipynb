{
 "cells": [
  {
   "cell_type": "code",
   "execution_count": null,
   "metadata": {},
   "outputs": [],
   "source": [
    "%load_ext autoreload\n",
    "%autoreload 2"
   ]
  },
  {
   "cell_type": "code",
   "execution_count": null,
   "metadata": {},
   "outputs": [],
   "source": [
    "import os\n",
    "\n",
    "if os.path.isdir('/media/home/team_workspaces'):\n",
    "\n",
    "    from astroquery.esa.euclid.core import EuclidClass, Euclid\n",
    "\n",
    "    # change to your username\n",
    "    Euclid.login(user='mwalms01')\n",
    "\n",
    "    repo_dir = '/media/home/team_workspaces/Galaxy-Zoo-Euclid'\n",
    "    \n",
    "else:\n",
    "    repo_dir = '/home/walml/repos/gz-euclid-datalab'"
   ]
  },
  {
   "cell_type": "code",
   "execution_count": null,
   "metadata": {},
   "outputs": [],
   "source": [
    "# !ls '/media/home/team_workspaces/Galaxy-Zoo-Euclid/data/pipeline/v2_challenge_launch/tiles'"
   ]
  },
  {
   "cell_type": "code",
   "execution_count": null,
   "metadata": {},
   "outputs": [],
   "source": [
    "# %pip install omegaconf"
   ]
  },
  {
   "cell_type": "code",
   "execution_count": null,
   "metadata": {},
   "outputs": [],
   "source": [
    "# %pip install -e {repo_dir}"
   ]
  },
  {
   "cell_type": "code",
   "execution_count": null,
   "metadata": {},
   "outputs": [],
   "source": [
    "from omegaconf import OmegaConf\n",
    "\n",
    "import bulk_download_of_tiles_and_catalogs as bd"
   ]
  },
  {
   "cell_type": "code",
   "execution_count": null,
   "metadata": {},
   "outputs": [],
   "source": [
    "cfg = OmegaConf.load(repo_dir + '/run_pipeline/v3_challenge_midaug.yaml')\n",
    "\n",
    "cfg = bd.create_folders(cfg)\n",
    "tiles = bd.get_tile_catalog(cfg)\n",
    "tiles_to_use = bd.select_tiles(cfg, tiles)\n"
   ]
  },
  {
   "cell_type": "code",
   "execution_count": null,
   "metadata": {},
   "outputs": [],
   "source": [
    "bd.download_tiles(cfg, tiles_to_use, refresh_catalogs=False)"
   ]
  }
 ],
 "metadata": {
  "language_info": {
   "name": "python"
  }
 },
 "nbformat": 4,
 "nbformat_minor": 2
}
