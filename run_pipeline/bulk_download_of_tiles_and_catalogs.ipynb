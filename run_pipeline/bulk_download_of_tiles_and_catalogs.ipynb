{
 "cells": [
  {
   "cell_type": "code",
   "execution_count": null,
   "metadata": {},
   "outputs": [],
   "source": [
    "from astroquery.esa.euclid.core import EuclidClass, Euclid\n",
    "\n",
    "# change to your username\n",
    "Euclid.login(user='mwalms01')"
   ]
  },
  {
   "cell_type": "code",
   "execution_count": null,
   "metadata": {},
   "outputs": [],
   "source": [
    "from omegaconf import OmegaConf\n",
    "\n",
    "import bulk_download_of_tiles_and_catalogs as bd"
   ]
  },
  {
   "cell_type": "code",
   "execution_count": null,
   "metadata": {},
   "outputs": [],
   "source": [
    "cfg = OmegaConf.load('/home/walml/repos/gz-euclid-datalab/run_pipeline/v2_challenge_launch.yaml')\n",
    "\n",
    "cfg = bd.create_folders(cfg)\n",
    "tiles = bd.get_tile_catalog(cfg)\n",
    "tiles = bd.select_tiles(tiles)\n",
    "bd.download_tiles(cfg, tiles, cfg.tile_dir, refresh_catalogs = False)\n"
   ]
  }
 ],
 "metadata": {
  "language_info": {
   "name": "python"
  }
 },
 "nbformat": 4,
 "nbformat_minor": 2
}
