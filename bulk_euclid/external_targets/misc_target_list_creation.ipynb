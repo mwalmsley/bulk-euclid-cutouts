{
 "cells": [
  {
   "cell_type": "code",
   "execution_count": null,
   "metadata": {},
   "outputs": [],
   "source": [
    "import pandas as pd"
   ]
  },
  {
   "cell_type": "code",
   "execution_count": null,
   "metadata": {},
   "outputs": [],
   "source": [
    "\n",
    "# external_targets should have columns\n",
    "# ['id_str', 'target_ra' (deg), 'target_dec' (deg), 'target_field_of_view' (arcsec)].\n",
    "# but it doesn't, and it has duplicates, so here's some ad hoc setup\n",
    "lrg = pd.read_csv('/media/home/my_workspace/repos/bulk-euclid-cutouts/bulk_euclid/external_targets/LRGs_4sims_all.csv')\n",
    "lrg = lrg.rename(columns={'ra': 'target_ra', 'dec': 'target_dec', 'ID': 'id_str'})\n",
    "del lrg['Unnamed: 0']\n",
    "lrg['category'] = 'lrg_master_list'\n",
    "\n",
    "# also add the false positives\n",
    "false_positives_desi = pd.read_csv('/media/home/my_workspace/repos/bulk-euclid-cutouts/bulk_euclid/external_targets/False_Positives_DESI.csv')\n",
    "false_positives_desi['category'] = 'desi_false_positive'\n",
    "\n",
    "# also add the known candidates\n",
    "known = pd.read_csv('/media/home/my_workspace/repos/bulk-euclid-cutouts/bulk_euclid/external_targets/strong_lens_for_pipeline.csv')\n",
    "known = known[known['final_classification'].isin(['A', 'B'])]  # drop the Cs, not plausible\n",
    "known['category'] = 'known_lens_candidate'\n",
    "\n",
    "# and add gzcd targets (all in EDFN)\n",
    "# gzcd = pd.read_csv('/media/home/my_workspace/repos/bulk-euclid-cutouts/bulk_euclid/external_targets/top_lenses_gzcd_target_list.csv')\n",
    "\n",
    "# external_targets = lrg\n",
    "external_targets = pd.concat([known, lrg, false_positives_desi], axis=0).reset_index(drop=True)\n",
    "\n",
    "# this is a bad idea, since gz euclid has different area hence more tiles, run separately\n",
    "# external_targets = pd.concat([gz_euclid, known, lrg, false_positives_desi], axis=0).reset_index(drop=True)\n",
    "\n",
    "\n",
    "external_targets['target_field_of_view'] = 20  # arcseconds\n",
    "\n",
    "# TODO Karina to remove these duplicates in a more sensible way\n",
    "external_targets = external_targets.drop_duplicates(subset=['id_str'], keep='first')\n",
    "external_targets.to_csv('/media/home/my_workspace/repos/bulk-euclid-cutouts/bulk_euclid/external_targets/strong_lensing_q1_master_external_target_list.csv', index=False)"
   ]
  },
  {
   "cell_type": "code",
   "execution_count": null,
   "metadata": {},
   "outputs": [],
   "source": []
  },
  {
   "cell_type": "code",
   "execution_count": null,
   "metadata": {},
   "outputs": [],
   "source": [
    "\n",
    "# gz_euclid = pd.read_csv('/media/home/my_workspace/repos/bulk-euclid-cutouts/bulk_euclid/external_targets/gz_euclid.csv')\n",
    "gz_euclid = pd.read_csv('/media/home/my_workspace/repos/bulk-euclid-cutouts/bulk_euclid/external_targets/top_lenses_gz_euclid_round_2.csv')\n",
    "# gz_euclid['category'] = 'gz_euclid'\n"
   ]
  }
 ],
 "metadata": {
  "kernelspec": {
   "display_name": "zoobot39_dev",
   "language": "python",
   "name": "python3"
  },
  "language_info": {
   "name": "python",
   "version": "3.9.0"
  }
 },
 "nbformat": 4,
 "nbformat_minor": 2
}
