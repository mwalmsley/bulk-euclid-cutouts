{
 "cells": [
  {
   "cell_type": "code",
   "execution_count": 2,
   "metadata": {},
   "outputs": [],
   "source": [
    "import pandas as pd"
   ]
  },
  {
   "cell_type": "code",
   "execution_count": 4,
   "metadata": {
    "tags": []
   },
   "outputs": [],
   "source": [
    "# tmp = pd.read_csv('/media/home/team_workspaces/Euclid-Consortium/data/strong_lensing/external_targets_pipeline/mer_catalog_random_tiles_q1_full/catalogs/_master_catalog.csv', usecols=['tile_index'])"
   ]
  },
  {
   "cell_type": "code",
   "execution_count": 5,
   "metadata": {
    "tags": []
   },
   "outputs": [
    {
     "data": {
      "text/plain": [
       "1086556"
      ]
     },
     "execution_count": 5,
     "metadata": {},
     "output_type": "execute_result"
    }
   ],
   "source": [
    "# len(tmp)"
   ]
  },
  {
   "cell_type": "code",
   "execution_count": 2,
   "metadata": {},
   "outputs": [],
   "source": [
    "\n",
    "# # external_targets should have columns\n",
    "# # ['id_str', 'target_ra' (deg), 'target_dec' (deg), 'target_field_of_view' (arcsec)].\n",
    "# # but it doesn't, and it has duplicates, so here's some ad hoc setup\n",
    "# lrg = pd.read_csv('/media/home/my_workspace/repos/bulk-euclid-cutouts/bulk_euclid/external_targets/LRGs_4sims_all.csv')\n",
    "# lrg = lrg.rename(columns={'ra': 'target_ra', 'dec': 'target_dec', 'ID': 'id_str'})\n",
    "# del lrg['Unnamed: 0']\n",
    "# lrg['category'] = 'lrg_master_list'\n",
    "\n",
    "# # also add the false positives\n",
    "# false_positives_desi = pd.read_csv('/media/home/my_workspace/repos/bulk-euclid-cutouts/bulk_euclid/external_targets/False_Positives_DESI.csv')\n",
    "# false_positives_desi['category'] = 'desi_false_positive'\n",
    "\n",
    "# # also add the known candidates\n",
    "# known = pd.read_csv('/media/home/my_workspace/repos/bulk-euclid-cutouts/bulk_euclid/external_targets/strong_lens_for_pipeline.csv')\n",
    "# known = known[known['final_classification'].isin(['A', 'B'])]  # drop the Cs, not plausible\n",
    "# known['category'] = 'known_lens_candidate'\n",
    "\n",
    "# # and add gzcd targets (all in EDFN)\n",
    "# # gzcd = pd.read_csv('/media/home/my_workspace/repos/bulk-euclid-cutouts/bulk_euclid/external_targets/top_lenses_gzcd_target_list.csv')\n",
    "\n",
    "# # external_targets = lrg\n",
    "# external_targets = pd.concat([known, lrg, false_positives_desi], axis=0).reset_index(drop=True)\n",
    "\n",
    "# # this is a bad idea, since gz euclid has different area hence more tiles, run separately\n",
    "# # external_targets = pd.concat([gz_euclid, known, lrg, false_positives_desi], axis=0).reset_index(drop=True)\n",
    "\n",
    "\n",
    "# external_targets['target_field_of_view'] = 20  # arcseconds\n",
    "\n",
    "# # TODO Karina to remove these duplicates in a more sensible way\n",
    "# external_targets = external_targets.drop_duplicates(subset=['id_str'], keep='first')\n",
    "# external_targets.to_csv('/media/home/my_workspace/repos/bulk-euclid-cutouts/bulk_euclid/external_targets/strong_lensing_q1_master_external_target_list.csv', index=False)"
   ]
  },
  {
   "cell_type": "code",
   "execution_count": 29,
   "metadata": {},
   "outputs": [],
   "source": [
    "# desi_sdss = pd.read_csv('/media/home/my_workspace/repos/bulk-euclid-cutouts/bulk_euclid/external_targets/DESI_SDSS_targets_all_minus_javier_overlap.csv')\n",
    "\n",
    "# desi_sdss['category'] = desi_sdss['label'].str.lower().str.replace('-', '_')  # to be honest label is a better word\n",
    "# desi_sdss['category'].replace('lens_cand', 'sdss_lens_candidate', inplace=True)\n",
    "# desi_sdss['category'].replace('other', 'other_not_lrg_not_lens', inplace=True)\n",
    "# desi_sdss['category'].replace('lrg_sim', 'lrg_used_for_karina_sim', inplace=True)\n",
    "# desi_sdss['category'].replace('lrg', 'lrg_not_used_for_karina_sim', inplace=True)\n",
    "# desi_sdss = desi_sdss.query('category == \"sdss_lens_candidate\"')  # new for v3, we only want the candidates\n",
    "\n",
    "# del desi_sdss['field_of_view']\n",
    "# del desi_sdss['field']\n",
    "# del desi_sdss['final_classification']\n",
    "# del desi_sdss['Unnamed: 0']\n",
    "# del desi_sdss['label']\n",
    "\n",
    "# also add the known candidates\n",
    "# known = pd.read_csv('/media/home/my_workspace/repos/bulk-euclid-cutouts/bulk_euclid/external_targets/strong_lens_for_pipeline.csv')\n",
    "# known = known[known['final_classification'].isin(['A', 'B'])]  # drop the Cs, not plausible\n",
    "# known['category'] = 'known_lens_candidate'\n",
    "\n",
    "# and add gzcd targets (all in EDFN)\n",
    "gzcd = pd.read_csv('/media/home/my_workspace/repos/bulk-euclid-cutouts/bulk_euclid/external_targets/top_lenses_gzcd_target_list.csv')\n",
    "gzcd['category'] = 'gzcd_grade_a_or_b_candidate'\n",
    "\n",
    "# also add Leon's single lens\n",
    "leon = pd.DataFrame(data=[pd.Series({'id_str': 'outside_leon_ecker_0', 'target_ra': 62.403125, 'target_dec': -48.572541, 'category': 'leon_ecker_low_z_candidate'})])\n",
    "\n",
    "# also add Javier's single lens\n",
    "javier = pd.DataFrame(data=[pd.Series({'id_str': 'outside_javier_carpio_0', 'target_ra': 61.40995834, 'target_dec': -49.3876250, 'category': 'javier_gracia_pretty_pics_candidate'})])\n",
    "\n",
    "# also add Herve's single lens\n",
    "herve = pd.DataFrame(data=[pd.Series({'id_str': 'outside_herve_dole_0', 'target_ra': 54.746431, 'target_dec': -28.228840, 'category': 'herve_dole_pretty_pics_candidate'})])\n",
    "\n",
    "# also add Teymoor's candidates not already vetted by GJ\n",
    "# force the others through, even though they were already inspected by the citizens\n",
    "teymoor = pd.DataFrame(data=[\n",
    "    pd.Series({'target_ra': 63.858, 'target_dec': -47.492}),\n",
    "    # pd.Series({'target_ra': 274.457, 'target_dec': 65.175}),  # already downloaded and vetted as part of main search\n",
    "    # pd.Series({'target_ra': 63.971, 'target_dec': -49.728}),  # already downloaded and vetted as part of main search\n",
    "    # pd.Series({'target_ra': 63.55, 'target_dec': -46.209}), # already downloaded and vetted as part of main search\n",
    "    pd.Series({'target_ra': 65.245, 'target_dec': -47.307}),\n",
    "    pd.Series({'target_ra': 273.645, 'target_dec': 65.702}),\n",
    "    pd.Series({'target_ra': 265.364, 'target_dec': 67.255}),\n",
    "    pd.Series({'target_ra': 271.984, 'target_dec': 68.721})\n",
    "])\n",
    "teymoor['category'] = 'teymoor_manual_candidate'\n",
    "teymoor['id_str'] = ['outside_teymoor_saifollahi_' + str(n) for n in range(len(teymoor))]\n",
    "\n",
    "external_targets = pd.concat([gzcd, leon, javier, herve, teymoor], axis=0).reset_index(drop=True)\n",
    "# external_targets = pd.concat([gzcd, known, desi_sdss], axis=0).reset_index(drop=True)\n",
    " # gz_euclid removed, not in Q1 by definition\n",
    "external_targets['target_field_of_view'] = 15\n"
   ]
  },
  {
   "cell_type": "code",
   "execution_count": 30,
   "metadata": {
    "tags": []
   },
   "outputs": [
    {
     "data": {
      "text/plain": [
       "Index(['id_str', 'target_ra', 'target_dec', 'target_field_of_view',\n",
       "       'category'],\n",
       "      dtype='object')"
      ]
     },
     "execution_count": 30,
     "metadata": {},
     "output_type": "execute_result"
    }
   ],
   "source": [
    "external_targets.columns"
   ]
  },
  {
   "cell_type": "code",
   "execution_count": 31,
   "metadata": {
    "tags": []
   },
   "outputs": [
    {
     "data": {
      "text/plain": [
       "gzcd_grade_a_or_b_candidate            62\n",
       "teymoor_manual_candidate                5\n",
       "leon_ecker_low_z_candidate              1\n",
       "javier_gracia_pretty_pics_candidate     1\n",
       "herve_dole_pretty_pics_candidate        1\n",
       "Name: category, dtype: int64"
      ]
     },
     "execution_count": 31,
     "metadata": {},
     "output_type": "execute_result"
    }
   ],
   "source": [
    "external_targets['category'].value_counts()"
   ]
  },
  {
   "cell_type": "code",
   "execution_count": 32,
   "metadata": {
    "tags": []
   },
   "outputs": [
    {
     "data": {
      "text/plain": [
       "0                          1019566\n",
       "1                          1047571\n",
       "2                           104832\n",
       "3                          1096283\n",
       "4                          1125746\n",
       "                  ...             \n",
       "65    outside_teymoor_saifollahi_0\n",
       "66    outside_teymoor_saifollahi_1\n",
       "67    outside_teymoor_saifollahi_2\n",
       "68    outside_teymoor_saifollahi_3\n",
       "69    outside_teymoor_saifollahi_4\n",
       "Name: id_str, Length: 70, dtype: object"
      ]
     },
     "execution_count": 32,
     "metadata": {},
     "output_type": "execute_result"
    }
   ],
   "source": [
    "external_targets['id_str']"
   ]
  },
  {
   "cell_type": "code",
   "execution_count": 33,
   "metadata": {
    "tags": []
   },
   "outputs": [],
   "source": [
    "# for q1 only\n",
    "# this now is for the CANDIDATES to be sent to GJ, not for confirmed lenses which need a full data download via the same sheet as from judges/discovery engine\n",
    "external_targets.to_csv('/media/home/my_workspace/repos/bulk-euclid-cutouts/bulk_euclid/external_targets/strong_lensing_candidates_outside_discovery_engine_q1_v1.csv', index=False)"
   ]
  },
  {
   "cell_type": "code",
   "execution_count": 6,
   "metadata": {
    "tags": []
   },
   "outputs": [],
   "source": [
    "# TODO update gz euclid lenses\n",
    "\n",
    "# gz_euclid = pd.read_csv('/media/home/my_workspace/repos/bulk-euclid-cutouts/bulk_euclid/external_targets/gz_euclid.csv')\n",
    "# gz_euclid = pd.read_csv('/media/home/my_workspace/repos/bulk-euclid-cutouts/bulk_euclid/external_targets/top_lenses_gz_euclid_round_2.csv')\n",
    "# gz_euclid['category'] = 'gz_euclid'\n",
    "\n",
    "# # Not in Q1, 60 extra tiles, sad times. Let's check data use.\n",
    "# gz_euclid = pd.read_csv('/media/home/my_workspace/repos/bulk-euclid-cutouts/bulk_euclid/external_targets/top_lenses_gz_euclid.csv')\n",
    "# gz_euclid['category'] = 'gz_euclid_grade_a_or_b_candidate'\n"
   ]
  },
  {
   "cell_type": "code",
   "execution_count": null,
   "metadata": {},
   "outputs": [],
   "source": [
    "# external_targets.to_csv('/media/home/my_workspace/repos/bulk-euclid-cutouts/bulk_euclid/external_targets/strong_lensing_master_external_target_list_outside_q1_candidates_v3.csv', index=False)"
   ]
  }
 ],
 "metadata": {
  "kernelspec": {
   "display_name": "Python 3 (ipykernel)",
   "language": "python",
   "name": "python3"
  },
  "language_info": {
   "codemirror_mode": {
    "name": "ipython",
    "version": 3
   },
   "file_extension": ".py",
   "mimetype": "text/x-python",
   "name": "python",
   "nbconvert_exporter": "python",
   "pygments_lexer": "ipython3",
   "version": "3.11.5"
  }
 },
 "nbformat": 4,
 "nbformat_minor": 4
}
