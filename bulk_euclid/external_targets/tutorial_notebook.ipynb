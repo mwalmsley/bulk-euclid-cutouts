{
 "cells": [
  {
   "cell_type": "code",
   "execution_count": 2,
   "metadata": {},
   "outputs": [],
   "source": [
    "%load_ext autoreload\n",
    "%autoreload 2"
   ]
  },
  {
   "cell_type": "code",
   "execution_count": 3,
   "metadata": {
    "tags": []
   },
   "outputs": [],
   "source": [
    "# hack the paths, no package install needed\n",
    "import sys\n",
    "import os\n",
    "repo_dir = '/media/user/repos/bulk-euclid-cutouts'\n",
    "os.path.isdir(repo_dir)\n",
    "sys.path.insert(0,repo_dir)"
   ]
  },
  {
   "cell_type": "code",
   "execution_count": 4,
   "metadata": {},
   "outputs": [
    {
     "name": "stderr",
     "output_type": "stream",
     "text": [
      "/tmp/ipykernel_928/3545559080.py:8: DeprecationWarning: \n",
      "Pyarrow will become a required dependency of pandas in the next major release of pandas (pandas 3.0),\n",
      "(to allow more performant data types, such as the Arrow string type, and better interoperability with other libraries)\n",
      "but was not found to be installed on your system.\n",
      "If this would cause problems for you,\n",
      "please provide us feedback at https://github.com/pandas-dev/pandas/issues/54466\n",
      "        \n",
      "  import pandas as pd\n"
     ]
    }
   ],
   "source": [
    "import logging\n",
    "logging.basicConfig(level=logging.INFO)\n",
    "import os\n",
    "\n",
    "import numpy as np\n",
    "import matplotlib.pyplot as plt\n",
    "from omegaconf import OmegaConf\n",
    "import pandas as pd\n",
    "\n",
    "from bulk_euclid.utils import pipeline_utils\n",
    "from bulk_euclid.external_targets import pipeline"
   ]
  },
  {
   "cell_type": "markdown",
   "metadata": {},
   "source": [
    "### Authenticate"
   ]
  },
  {
   "cell_type": "code",
   "execution_count": null,
   "metadata": {},
   "outputs": [
    {
     "name": "stderr",
     "output_type": "stream",
     "text": [
      "INFO:astroquery:Login to Euclid TAP server\n"
     ]
    },
    {
     "name": "stdout",
     "output_type": "stream",
     "text": [
      "INFO: Login to Euclid TAP server [astroquery.esa.euclid.core]\n"
     ]
    }
   ],
   "source": [
    "# type in your COSMOS credentials\n",
    "from astroquery.esa.euclid.core import Euclid\n",
    "Euclid.login()"
   ]
  },
  {
   "cell_type": "markdown",
   "metadata": {},
   "source": [
    "### Set Pipeline Options and Load External Targets"
   ]
  },
  {
   "cell_type": "code",
   "execution_count": null,
   "metadata": {},
   "outputs": [],
   "source": [
    "# you can use this config and external target list for a minimal test on six targets within one tile...\n",
    "\n",
    "cfg_dict = dict(\n",
    "    # TODO change this path to wherever you want to save everything\n",
    "    base_dir='/media/home/my_workspace/repos/bulk-euclid-cutouts/tests/test_external_targets/test_notebook_version',\n",
    "    name='external_targets_debug',\n",
    "    release_name=None, # for no specific release or e.g. 'F-006' for one release \n",
    "    release_priority=['CALBLOCK_PV-005_R2', 'CALBLOCK_PV-005_R3', 'F-003_240321', 'F-003_240612' , 'F-006'],  # use the highest-index release first, if available\n",
    "    bands=['VIS', 'NIR_Y'],\n",
    "    auxillary_products=['MERPSF','MERRMS','MERBKG'],\n",
    "    \n",
    "    # these will be filled in automatically using on base_dir\n",
    "    download_dir=None,\n",
    "    tile_dir=None,\n",
    "    cutout_dir=None,\n",
    "    fits_dir=None,\n",
    "    sanity_dir=None\n",
    "    \n",
    ")\n",
    "cfg = OmegaConf.create(cfg_dict)  # easy to access with cfg.base_dir, etc\n",
    "pipeline.create_folders(cfg)  # fill in those missing paths\n",
    "\n",
    "external_targets = pd.DataFrame([\n",
    "    {\n",
    "      'id_str': 'a',\n",
    "      'target_ra': 92.8371844681179,\n",
    "      'target_dec': -47.8868920683699,\n",
    "      'target_field_of_view': 20},\n",
    "     {\n",
    "      'id_str': 'b',\n",
    "      'target_ra': 92.836691187603,\n",
    "      'target_dec': -48.1117628801209,\n",
    "      'target_field_of_view': 20},\n",
    "     {\n",
    "      'id_str': 'd',\n",
    "      'target_ra': 92.835560566775,\n",
    "      'target_dec': -47.978437467137,\n",
    "      'target_field_of_view': 20},\n",
    "     {\n",
    "      'id_str': 'e',\n",
    "      'target_ra': 92.8351734327103,\n",
    "      'target_dec': -48.1054532354171,\n",
    "      'target_field_of_view': 20},\n",
    "     {\n",
    "      'id_str': 'f',\n",
    "      'target_ra': 92.8343976295701,\n",
    "      'target_dec': -47.9993017111107,\n",
    "      'target_field_of_view': 20}\n",
    "    \n",
    "])"
   ]
  },
  {
   "cell_type": "code",
   "execution_count": null,
   "metadata": {
    "tags": []
   },
   "outputs": [],
   "source": [
    "len(external_targets)"
   ]
  },
  {
   "cell_type": "code",
   "execution_count": null,
   "metadata": {
    "tags": []
   },
   "outputs": [],
   "source": [
    "external_targets"
   ]
  },
  {
   "cell_type": "markdown",
   "metadata": {},
   "source": [
    "### For each target, find a tile that covers it"
   ]
  },
  {
   "cell_type": "code",
   "execution_count": null,
   "metadata": {
    "tags": []
   },
   "outputs": [],
   "source": [
    "targets_with_tiles = pipeline.get_matching_tiles(cfg, external_targets)\n",
    "targets_with_tiles"
   ]
  },
  {
   "cell_type": "code",
   "execution_count": null,
   "metadata": {
    "tags": []
   },
   "outputs": [],
   "source": [
    "targets_with_tiles['release_name'].value_counts()"
   ]
  },
  {
   "cell_type": "code",
   "execution_count": null,
   "metadata": {
    "tags": []
   },
   "outputs": [],
   "source": [
    "targets_with_tiles = targets_with_tiles.sort_values('tile_index')[:1000]"
   ]
  },
  {
   "cell_type": "markdown",
   "metadata": {},
   "source": [
    "The speed of the pipeline depends on the number of tiles to download. It takes about 30 seconds per tile, per band, per product. If you request two bands and four products (as above), each tile takes about 4 minutes."
   ]
  },
  {
   "cell_type": "code",
   "execution_count": null,
   "metadata": {
    "tags": []
   },
   "outputs": [],
   "source": [
    "targets_with_tiles['tile_index'].nunique()"
   ]
  },
  {
   "cell_type": "markdown",
   "metadata": {},
   "source": [
    "### For every tile, download the flux and auxillary (PSF, RMS, BKG) data and make cutouts around each target in that tile"
   ]
  },
  {
   "cell_type": "code",
   "execution_count": null,
   "metadata": {
    "tags": []
   },
   "outputs": [],
   "source": [
    "pipeline.make_cutouts(cfg, targets_with_tiles)"
   ]
  },
  {
   "cell_type": "code",
   "execution_count": null,
   "metadata": {},
   "outputs": [],
   "source": []
  }
 ],
 "metadata": {
  "kernelspec": {
   "display_name": "EUCLID-TOOLS",
   "language": "python",
   "name": "euclid-tools"
  },
  "language_info": {
   "codemirror_mode": {
    "name": "ipython",
    "version": 3
   },
   "file_extension": ".py",
   "mimetype": "text/x-python",
   "name": "python",
   "nbconvert_exporter": "python",
   "pygments_lexer": "ipython3",
   "version": "3.9.0"
  }
 },
 "nbformat": 4,
 "nbformat_minor": 4
}
