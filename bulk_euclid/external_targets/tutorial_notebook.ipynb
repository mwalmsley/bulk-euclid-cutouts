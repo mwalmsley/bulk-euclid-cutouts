{
 "cells": [
  {
   "cell_type": "code",
   "execution_count": 94,
   "metadata": {
    "tags": []
   },
   "outputs": [
    {
     "name": "stdout",
     "output_type": "stream",
     "text": [
      "The autoreload extension is already loaded. To reload it, use:\n",
      "  %reload_ext autoreload\n"
     ]
    }
   ],
   "source": [
    "%load_ext autoreload\n",
    "%autoreload 2"
   ]
  },
  {
   "cell_type": "code",
   "execution_count": 95,
   "metadata": {
    "tags": []
   },
   "outputs": [],
   "source": [
    "# hack the paths, no package install needed\n",
    "import sys\n",
    "import os\n",
    "repo_dir = '/media/user/repos/bulk-euclid-cutouts'\n",
    "os.path.isdir(repo_dir)\n",
    "sys.path.insert(0,repo_dir)"
   ]
  },
  {
   "cell_type": "code",
   "execution_count": 96,
   "metadata": {
    "tags": []
   },
   "outputs": [],
   "source": [
    "import logging\n",
    "logging.basicConfig(level=logging.INFO)\n",
    "import os\n",
    "\n",
    "import numpy as np\n",
    "import matplotlib.pyplot as plt\n",
    "from omegaconf import OmegaConf\n",
    "import pandas as pd\n",
    "\n",
    "from bulk_euclid.external_targets import pipeline"
   ]
  },
  {
   "cell_type": "markdown",
   "metadata": {},
   "source": [
    "### Set Pipeline Options and Load External Targets"
   ]
  },
  {
   "cell_type": "code",
   "execution_count": 97,
   "metadata": {
    "tags": []
   },
   "outputs": [
    {
     "name": "stderr",
     "output_type": "stream",
     "text": [
      "INFO:root:Saving to /media/home/my_workspace/repos/bulk-euclid-cutouts/tests/test_external_targets/test_notebook_version/external_targets_debug\n"
     ]
    }
   ],
   "source": [
    "# you can use this config and external target list for a minimal test on six targets within one tile...\n",
    "\n",
    "cfg_dict = dict(\n",
    "    # TODO change this path to wherever you want to save everything\n",
    "    base_dir='/media/home/my_workspace/repos/bulk-euclid-cutouts/tests/test_external_targets/test_notebook_version',\n",
    "    name='external_targets_debug',\n",
    "\n",
    "    sas_environment='IDR', # for Q1, REG for Regression, or OTF for On-The-Fly\n",
    "    release_name=None, # for no specific release or e.g. 'F-006' for one release \n",
    "    release_priority=['CALBLOCK_PV-005_R2', 'CALBLOCK_PV-005_R3', 'F-003_240321', 'F-003_240612' , 'F-006', 'Q1_R1'],  # use the highest-index release first, if available\n",
    "    bands=['VIS', 'NIR_Y'], # bands to use, can also have NIR_J, NIR_H. Include all bands you need for cutouts.\n",
    "    auxillary_products=['MERPSF','MERRMS'],  # can also use MERBKG for background\n",
    "\n",
    "    download_method='datalabs_path',  # to use datalabs data (Q1 only) or 'sas' for download\n",
    "    delete_tiles=False,  # if 'sas', delete tiles after downloading them. No effect on when using 'datalabs_path'\n",
    "    fits_outputs=True,  # make FITS\n",
    "    jpg_outputs=['sw_mtf_vis_only', 'sw_mtf_vis_y', 'sw_arcsinh_vis_only'],  # three example processing options, see cutout_utils.py for more options. Set False for no jpg cutouts.\n",
    "    jpg_quality=95,  # jpg compression strength. lower quality is much smaller but gets 'fuzzier'. See PIL.Image docs. \n",
    "    use_fits_origin_for_jpg=True,  # orient the jpg the same way up as the FITS standard\n",
    "    overwrite_fits=False,  # if fits already exists, overwrite them with new cutouts\n",
    "    overwrite_jpg=False,  # similarly for jpg\n",
    "\n",
    "    # these will be filled in automatically using on base_dir\n",
    "    download_dir=None,\n",
    "    tile_dir=None,\n",
    "    cutout_dir=None,\n",
    "    fits_dir=None,\n",
    "    jpg_dir=None,\n",
    "    sanity_dir=None\n",
    ")\n",
    "cfg = OmegaConf.create(cfg_dict)  # easy to access with cfg.base_dir, etc\n",
    "pipeline.create_folders(cfg)  # fill in those missing paths\n",
    "\n",
    "external_targets = pd.DataFrame([\n",
    "# replace with your own dataframe, e.g. pd.read_csv('my_external_targets)\n",
    "    {\n",
    "        'id_str': 'a',\n",
    "        'target_ra': 53.562126,\n",
    "        'target_dec': -28.012906,\n",
    "        'target_field_of_view': 10,\n",
    "        'category': 'cool_strong_lens'  # any name you like, will be used for subfolders\n",
    "    },\n",
    "    {\n",
    "        'id_str': 'b',\n",
    "        'target_ra': 270.9980283,\n",
    "        'target_dec': 65.65370217,\n",
    "        'target_field_of_view': 10,\n",
    "        'category': 'cool_strong_lens' \n",
    "    }\n",
    "])"
   ]
  },
  {
   "cell_type": "code",
   "execution_count": 98,
   "metadata": {
    "tags": []
   },
   "outputs": [
    {
     "data": {
      "text/plain": [
       "['sw_mtf_vis_only', 'sw_mtf_vis_y', 'sw_arcsinh_vis_only']"
      ]
     },
     "execution_count": 98,
     "metadata": {},
     "output_type": "execute_result"
    }
   ],
   "source": [
    "cfg.jpg_outputs"
   ]
  },
  {
   "cell_type": "code",
   "execution_count": 99,
   "metadata": {
    "tags": []
   },
   "outputs": [
    {
     "data": {
      "text/plain": [
       "2"
      ]
     },
     "execution_count": 99,
     "metadata": {},
     "output_type": "execute_result"
    }
   ],
   "source": [
    "len(cfg.bands)"
   ]
  },
  {
   "cell_type": "code",
   "execution_count": 100,
   "metadata": {
    "tags": []
   },
   "outputs": [
    {
     "data": {
      "text/plain": [
       "2"
      ]
     },
     "execution_count": 100,
     "metadata": {},
     "output_type": "execute_result"
    }
   ],
   "source": [
    "len(external_targets)"
   ]
  },
  {
   "cell_type": "code",
   "execution_count": 101,
   "metadata": {
    "tags": []
   },
   "outputs": [],
   "source": [
    "assert not any(external_targets['id_str'].duplicated())"
   ]
  },
  {
   "cell_type": "code",
   "execution_count": 102,
   "metadata": {
    "tags": []
   },
   "outputs": [
    {
     "data": {
      "text/html": [
       "<div>\n",
       "<style scoped>\n",
       "    .dataframe tbody tr th:only-of-type {\n",
       "        vertical-align: middle;\n",
       "    }\n",
       "\n",
       "    .dataframe tbody tr th {\n",
       "        vertical-align: top;\n",
       "    }\n",
       "\n",
       "    .dataframe thead th {\n",
       "        text-align: right;\n",
       "    }\n",
       "</style>\n",
       "<table border=\"1\" class=\"dataframe\">\n",
       "  <thead>\n",
       "    <tr style=\"text-align: right;\">\n",
       "      <th></th>\n",
       "      <th>id_str</th>\n",
       "      <th>target_ra</th>\n",
       "      <th>target_dec</th>\n",
       "      <th>target_field_of_view</th>\n",
       "      <th>category</th>\n",
       "    </tr>\n",
       "  </thead>\n",
       "  <tbody>\n",
       "    <tr>\n",
       "      <th>0</th>\n",
       "      <td>a</td>\n",
       "      <td>53.562126</td>\n",
       "      <td>-28.012906</td>\n",
       "      <td>10</td>\n",
       "      <td>cool_strong_lens</td>\n",
       "    </tr>\n",
       "    <tr>\n",
       "      <th>1</th>\n",
       "      <td>b</td>\n",
       "      <td>270.998028</td>\n",
       "      <td>65.653702</td>\n",
       "      <td>10</td>\n",
       "      <td>cool_strong_lens</td>\n",
       "    </tr>\n",
       "  </tbody>\n",
       "</table>\n",
       "</div>"
      ],
      "text/plain": [
       "  id_str   target_ra  target_dec  target_field_of_view          category\n",
       "0      a   53.562126  -28.012906                    10  cool_strong_lens\n",
       "1      b  270.998028   65.653702                    10  cool_strong_lens"
      ]
     },
     "execution_count": 102,
     "metadata": {},
     "output_type": "execute_result"
    }
   ],
   "source": [
    "external_targets"
   ]
  },
  {
   "cell_type": "markdown",
   "metadata": {},
   "source": [
    "### Authenticate"
   ]
  },
  {
   "cell_type": "code",
   "execution_count": 103,
   "metadata": {
    "tags": []
   },
   "outputs": [
    {
     "name": "stderr",
     "output_type": "stream",
     "text": [
      "INFO:astroquery:Login to Euclid TAP server\n"
     ]
    },
    {
     "name": "stdout",
     "output_type": "stream",
     "text": [
      "INFO: Login to Euclid TAP server [astroquery.esa.euclid.core]\n"
     ]
    },
    {
     "name": "stdin",
     "output_type": "stream",
     "text": [
      "User:  mwalms01\n",
      "Password:  ········\n"
     ]
    },
    {
     "name": "stderr",
     "output_type": "stream",
     "text": [
      "INFO:astroquery:OK\n",
      "INFO:astroquery:Login to Euclid data service\n",
      "INFO:astroquery:OK\n",
      "INFO:astroquery:Login to Euclid cutout service\n"
     ]
    },
    {
     "name": "stdout",
     "output_type": "stream",
     "text": [
      "INFO: OK [astroquery.utils.tap.core]\n",
      "INFO: Login to Euclid data service [astroquery.esa.euclid.core]\n",
      "INFO: OK [astroquery.utils.tap.core]\n",
      "INFO: Login to Euclid cutout service [astroquery.esa.euclid.core]\n"
     ]
    },
    {
     "name": "stderr",
     "output_type": "stream",
     "text": [
      "INFO:astroquery:OK\n"
     ]
    },
    {
     "name": "stdout",
     "output_type": "stream",
     "text": [
      "INFO: OK [astroquery.utils.tap.core]\n"
     ]
    }
   ],
   "source": [
    "# # type in your COSMOS credentials\n",
    "# from astroquery.esa.euclid.core import EuclidClass\n",
    "# Euclid = EuclidClass(environment=cfg.sas_environment)\n",
    "# Euclid.login()\n",
    "\n",
    "# the code below is a shorthand version for the above\n",
    "# it adds Euclid to Python's globals, which saves passing it around all the time\n",
    "from bulk_euclid.utils import pipeline_utils\n",
    "pipeline_utils.login(cfg)"
   ]
  },
  {
   "cell_type": "code",
   "execution_count": null,
   "metadata": {
    "tags": []
   },
   "outputs": [],
   "source": []
  },
  {
   "cell_type": "markdown",
   "metadata": {},
   "source": [
    "### For each target, find a tile that covers it"
   ]
  },
  {
   "cell_type": "code",
   "execution_count": 104,
   "metadata": {
    "tags": []
   },
   "outputs": [
    {
     "name": "stderr",
     "output_type": "stream",
     "text": [
      "INFO:astroquery:Query finished.\n",
      "INFO:root:Found 352 query results\n",
      "INFO:root:release_name\n",
      "Q1_R1    352\n",
      "Name: count, dtype: int64\n",
      "INFO:root:Begin target/tile cross-match\n",
      "INFO:root:Matched 2 targets to 2 tiles\n",
      "INFO:root:Targets with tile matches: 2\n"
     ]
    },
    {
     "name": "stdout",
     "output_type": "stream",
     "text": [
      "INFO: Query finished. [astroquery.utils.tap.core]\n"
     ]
    },
    {
     "data": {
      "text/html": [
       "<div>\n",
       "<style scoped>\n",
       "    .dataframe tbody tr th:only-of-type {\n",
       "        vertical-align: middle;\n",
       "    }\n",
       "\n",
       "    .dataframe tbody tr th {\n",
       "        vertical-align: top;\n",
       "    }\n",
       "\n",
       "    .dataframe thead th {\n",
       "        text-align: right;\n",
       "    }\n",
       "</style>\n",
       "<table border=\"1\" class=\"dataframe\">\n",
       "  <thead>\n",
       "    <tr style=\"text-align: right;\">\n",
       "      <th></th>\n",
       "      <th>id_str</th>\n",
       "      <th>target_ra</th>\n",
       "      <th>target_dec</th>\n",
       "      <th>target_field_of_view</th>\n",
       "      <th>category</th>\n",
       "      <th>tile_index</th>\n",
       "      <th>release_name</th>\n",
       "      <th>tile_ra</th>\n",
       "      <th>tile_ra_min</th>\n",
       "      <th>tile_ra_max</th>\n",
       "      <th>tile_dec_min</th>\n",
       "      <th>tile_dec_max</th>\n",
       "      <th>tile_dec</th>\n",
       "    </tr>\n",
       "  </thead>\n",
       "  <tbody>\n",
       "    <tr>\n",
       "      <th>0</th>\n",
       "      <td>a</td>\n",
       "      <td>53.562126</td>\n",
       "      <td>-28.012906</td>\n",
       "      <td>10</td>\n",
       "      <td>cool_strong_lens</td>\n",
       "      <td>102044186</td>\n",
       "      <td>Q1_R1</td>\n",
       "      <td>53.550643</td>\n",
       "      <td>53.247877</td>\n",
       "      <td>53.853376</td>\n",
       "      <td>-28.266303</td>\n",
       "      <td>-27.733009</td>\n",
       "      <td>-28.0</td>\n",
       "    </tr>\n",
       "    <tr>\n",
       "      <th>1</th>\n",
       "      <td>b</td>\n",
       "      <td>270.998028</td>\n",
       "      <td>65.653702</td>\n",
       "      <td>10</td>\n",
       "      <td>cool_strong_lens</td>\n",
       "      <td>102158892</td>\n",
       "      <td>Q1_R1</td>\n",
       "      <td>270.930081</td>\n",
       "      <td>270.280429</td>\n",
       "      <td>271.579666</td>\n",
       "      <td>65.232018</td>\n",
       "      <td>65.765286</td>\n",
       "      <td>65.5</td>\n",
       "    </tr>\n",
       "  </tbody>\n",
       "</table>\n",
       "</div>"
      ],
      "text/plain": [
       "  id_str   target_ra  target_dec  target_field_of_view          category  \\\n",
       "0      a   53.562126  -28.012906                    10  cool_strong_lens   \n",
       "1      b  270.998028   65.653702                    10  cool_strong_lens   \n",
       "\n",
       "   tile_index release_name     tile_ra  tile_ra_min  tile_ra_max  \\\n",
       "0   102044186        Q1_R1   53.550643    53.247877    53.853376   \n",
       "1   102158892        Q1_R1  270.930081   270.280429   271.579666   \n",
       "\n",
       "   tile_dec_min  tile_dec_max  tile_dec  \n",
       "0    -28.266303    -27.733009     -28.0  \n",
       "1     65.232018     65.765286      65.5  "
      ]
     },
     "execution_count": 104,
     "metadata": {},
     "output_type": "execute_result"
    }
   ],
   "source": [
    "targets_with_tiles = pipeline.get_matching_tiles(cfg, external_targets)\n",
    "targets_with_tiles"
   ]
  },
  {
   "cell_type": "code",
   "execution_count": 105,
   "metadata": {
    "tags": []
   },
   "outputs": [
    {
     "data": {
      "text/plain": [
       "release_name\n",
       "Q1_R1    2\n",
       "Name: count, dtype: int64"
      ]
     },
     "execution_count": 105,
     "metadata": {},
     "output_type": "execute_result"
    }
   ],
   "source": [
    "targets_with_tiles['release_name'].value_counts()"
   ]
  },
  {
   "cell_type": "code",
   "execution_count": 106,
   "metadata": {
    "tags": []
   },
   "outputs": [],
   "source": [
    "targets_with_tiles = targets_with_tiles.sort_values('tile_index')[:1000]"
   ]
  },
  {
   "cell_type": "markdown",
   "metadata": {},
   "source": [
    "The speed of the pipeline depends on the number of tiles to download. It takes about 30 seconds per tile, per band, per product. If you request two bands and four products (as above), each tile takes about 4 minutes."
   ]
  },
  {
   "cell_type": "code",
   "execution_count": 107,
   "metadata": {
    "tags": []
   },
   "outputs": [
    {
     "data": {
      "text/plain": [
       "2"
      ]
     },
     "execution_count": 107,
     "metadata": {},
     "output_type": "execute_result"
    }
   ],
   "source": [
    "targets_with_tiles['tile_index'].nunique()"
   ]
  },
  {
   "cell_type": "markdown",
   "metadata": {},
   "source": [
    "### For every tile, download the flux and auxillary (PSF, RMS, BKG) data and make cutouts around each target in that tile"
   ]
  },
  {
   "cell_type": "code",
   "execution_count": 108,
   "metadata": {
    "tags": []
   },
   "outputs": [
    {
     "name": "stderr",
     "output_type": "stream",
     "text": [
      "INFO:root:Tile 102044186, 0 of 2\n",
      "INFO:astroquery:Query finished.\n",
      "INFO:root:Found 2 query results\n",
      "INFO:root:Downloading all data for tile 102044186\n"
     ]
    },
    {
     "name": "stdout",
     "output_type": "stream",
     "text": [
      "INFO: Query finished. [astroquery.utils.tap.core]\n"
     ]
    },
    {
     "name": "stderr",
     "output_type": "stream",
     "text": [
      "INFO:root:Downloaded all data for tile 102044186\n",
      "INFO:root:Loaded tile, ready to slice\n",
      "INFO:root:Cutout data sliced for band VIS\n",
      "INFO:root:Loaded tile, ready to slice\n",
      "INFO:root:Cutout data sliced for band NIR_Y\n",
      "INFO:root:Cutout data sliced for all bands, begin saving to disk\n",
      "INFO:root:Saved cutouts for all targets in tile 102044186\n",
      "INFO:root:Tile 102158892, 1 of 2\n",
      "INFO:astroquery:Query finished.\n",
      "INFO:root:Found 2 query results\n",
      "INFO:root:Downloading all data for tile 102158892\n",
      "INFO:root:Downloaded all data for tile 102158892\n"
     ]
    },
    {
     "name": "stdout",
     "output_type": "stream",
     "text": [
      "INFO: Query finished. [astroquery.utils.tap.core]\n"
     ]
    },
    {
     "name": "stderr",
     "output_type": "stream",
     "text": [
      "INFO:root:Loaded tile, ready to slice\n",
      "INFO:root:Cutout data sliced for band VIS\n",
      "INFO:root:Loaded tile, ready to slice\n",
      "INFO:root:Cutout data sliced for band NIR_Y\n",
      "INFO:root:Cutout data sliced for all bands, begin saving to disk\n",
      "INFO:root:Saved cutouts for all targets in tile 102158892\n"
     ]
    }
   ],
   "source": [
    "pipeline.make_cutouts(cfg, targets_with_tiles)"
   ]
  },
  {
   "cell_type": "code",
   "execution_count": 109,
   "metadata": {
    "tags": []
   },
   "outputs": [
    {
     "data": {
      "text/plain": [
       "['/media/home/my_workspace/repos/bulk-euclid-cutouts/tests/test_external_targets/test_notebook_version/external_targets_debug/cutouts/jpg/cool_strong_lens/sw_arcsinh_vis_only/a_sw_arcsinh_vis_only.jpg',\n",
       " '/media/home/my_workspace/repos/bulk-euclid-cutouts/tests/test_external_targets/test_notebook_version/external_targets_debug/cutouts/jpg/cool_strong_lens/sw_arcsinh_vis_only/b_sw_arcsinh_vis_only.jpg',\n",
       " '/media/home/my_workspace/repos/bulk-euclid-cutouts/tests/test_external_targets/test_notebook_version/external_targets_debug/cutouts/jpg/cool_strong_lens/sw_mtf_vis_only/a_sw_mtf_vis_only.jpg',\n",
       " '/media/home/my_workspace/repos/bulk-euclid-cutouts/tests/test_external_targets/test_notebook_version/external_targets_debug/cutouts/jpg/cool_strong_lens/sw_mtf_vis_only/b_sw_mtf_vis_only.jpg',\n",
       " '/media/home/my_workspace/repos/bulk-euclid-cutouts/tests/test_external_targets/test_notebook_version/external_targets_debug/cutouts/jpg/cool_strong_lens/sw_mtf_vis_y/a_sw_mtf_vis_y.jpg',\n",
       " '/media/home/my_workspace/repos/bulk-euclid-cutouts/tests/test_external_targets/test_notebook_version/external_targets_debug/cutouts/jpg/cool_strong_lens/sw_mtf_vis_y/b_sw_mtf_vis_y.jpg']"
      ]
     },
     "execution_count": 109,
     "metadata": {},
     "output_type": "execute_result"
    }
   ],
   "source": [
    "import glob\n",
    "from PIL import Image\n",
    "\n",
    "jpg_locs = glob.glob(os.path.join(cfg.jpg_dir, 'cool_strong_lens/*/*.jpg'))\n",
    "jpg_locs"
   ]
  },
  {
   "cell_type": "code",
   "execution_count": 110,
   "metadata": {
    "tags": []
   },
   "outputs": [
    {
     "data": {
      "text/plain": [
       "<matplotlib.image.AxesImage at 0x7f332445bee0>"
      ]
     },
     "execution_count": 110,
     "metadata": {},
     "output_type": "execute_result"
    },
    {
     "data": {
      "image/png": "[encoded data removed]",
      "text/plain": [
       "<Figure size 640x480 with 1 Axes>"
      ]
     },
     "metadata": {},
     "output_type": "display_data"
    }
   ],
   "source": [
    "loc = jpg_locs[4]  # for example\n",
    "plt.imshow(Image.open(loc))"
   ]
  },
  {
   "cell_type": "code",
   "execution_count": null,
   "metadata": {},
   "outputs": [],
   "source": []
  }
 ],
 "metadata": {
  "kernelspec": {
   "display_name": "EUCLID-TOOLS",
   "language": "python",
   "name": "euclid-tools"
  },
  "language_info": {
   "codemirror_mode": {
    "name": "ipython",
    "version": 3
   },
   "file_extension": ".py",
   "mimetype": "text/x-python",
   "name": "python",
   "nbconvert_exporter": "python",
   "pygments_lexer": "ipython3",
   "version": "3.10.15"
  }
 },
 "nbformat": 4,
 "nbformat_minor": 4
}
