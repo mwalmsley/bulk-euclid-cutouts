{
 "cells": [
  {
   "cell_type": "code",
   "execution_count": 96,
   "metadata": {
    "tags": []
   },
   "outputs": [
    {
     "name": "stdout",
     "output_type": "stream",
     "text": [
      "The autoreload extension is already loaded. To reload it, use:\n",
      "  %reload_ext autoreload\n"
     ]
    }
   ],
   "source": [
    "%load_ext autoreload\n",
    "%autoreload 2"
   ]
  },
  {
   "cell_type": "code",
   "execution_count": 97,
   "metadata": {
    "tags": []
   },
   "outputs": [],
   "source": [
    "# hack the paths, no package install needed\n",
    "import sys\n",
    "import os\n",
    "repo_dir = '/media/user/repos/bulk-euclid-cutouts'\n",
    "os.path.isdir(repo_dir)\n",
    "sys.path.insert(0,repo_dir)"
   ]
  },
  {
   "cell_type": "code",
   "execution_count": null,
   "metadata": {
    "tags": []
   },
   "outputs": [],
   "source": [
    "import logging\n",
    "logging.basicConfig(level=logging.INFO)\n",
    "import os\n",
    "\n",
    "import numpy as np\n",
    "import matplotlib.pyplot as plt\n",
    "from omegaconf import OmegaConf\n",
    "import pandas as pd\n",
    "\n",
    "from bulk_euclid.external_targets import pipeline"
   ]
  },
  {
   "cell_type": "markdown",
   "metadata": {},
   "source": [
    "### Set Pipeline Options and Load External Targets"
   ]
  },
  {
   "cell_type": "code",
   "execution_count": null,
   "metadata": {
    "tags": []
   },
   "outputs": [
    {
     "name": "stderr",
     "output_type": "stream",
     "text": [
      "INFO:root:Saving to /media/home/my_workspace/repos/bulk-euclid-cutouts/tests/test_external_targets/test_notebook_version/external_targets_debug\n"
     ]
    }
   ],
   "source": [
    "# you can use this config and external target list for a minimal test on six targets within one tile...\n",
    "\n",
    "cfg_dict = dict(\n",
    "    # TODO change this path to wherever you want to save everything\n",
    "    base_dir='/media/home/my_workspace/repos/bulk-euclid-cutouts/tests/test_external_targets/test_notebook_version',\n",
    "    name='external_targets_debug',\n",
    "\n",
    "    sas_environment='IDR', # for Q1, REG for Regression, or OTF for On-The-Fly\n",
    "    release_name=None, # for no specific release or e.g. 'F-006' for one release \n",
    "    release_priority=['CALBLOCK_PV-005_R2', 'CALBLOCK_PV-005_R3', 'F-003_240321', 'F-003_240612' , 'F-006', 'Q1_R1'],  # use the highest-index release first, if available\n",
    "    bands=['VIS', 'NIR_Y'], #  , 'NIR_J'\n",
    "    auxillary_products=['MERPSF','MERRMS'],\n",
    "\n",
    "    overwrite_fits=False,\n",
    "    download_method='datalabs_path',  # to use datalabs data (Q1 only) or 'sas' for download\n",
    "    fits_outputs=True,\n",
    "    jpg_outputs= ['sw_mtf_vis_only', 'sw_mtf_vis_y_j', 'sw_arcsinh_vis_only'],  # three example processing options, see cutout_utils.py for more options\n",
    "     \n",
    "    \n",
    "    # these will be filled in automatically using on base_dir\n",
    "    download_dir=None,\n",
    "    tile_dir=None,\n",
    "    cutout_dir=None,\n",
    "    fits_dir=None,\n",
    "    jpg_dir=None,\n",
    "    sanity_dir=None\n",
    "    \n",
    ")\n",
    "cfg = OmegaConf.create(cfg_dict)  # easy to access with cfg.base_dir, etc\n",
    "pipeline.create_folders(cfg)  # fill in those missing paths\n",
    "\n",
    "external_targets = pd.DataFrame([\n",
    "    {\n",
    "      'id_str': 'a',\n",
    "      'target_ra': 92.8371844681179,\n",
    "      'target_dec': -47.8868920683699,\n",
    "      'target_field_of_view': 20},\n",
    "     {\n",
    "      'id_str': 'b',\n",
    "      'target_ra': 92.836691187603,\n",
    "      'target_dec': -48.1117628801209,\n",
    "      'target_field_of_view': 20},\n",
    "     {\n",
    "      'id_str': 'd',\n",
    "      'target_ra': 92.835560566775,\n",
    "      'target_dec': -47.978437467137,\n",
    "      'target_field_of_view': 20},\n",
    "     {\n",
    "      'id_str': 'e',\n",
    "      'target_ra': 92.8351734327103,\n",
    "      'target_dec': -48.1054532354171,\n",
    "      'target_field_of_view': 20},\n",
    "     {\n",
    "      'id_str': 'f',\n",
    "      'target_ra': 92.8343976295701,\n",
    "      'target_dec': -47.9993017111107,\n",
    "      'target_field_of_view': 20}\n",
    "    \n",
    "])"
   ]
  },
  {
   "cell_type": "code",
   "execution_count": 109,
   "metadata": {
    "tags": []
   },
   "outputs": [
    {
     "data": {
      "text/plain": [
       "2"
      ]
     },
     "execution_count": 109,
     "metadata": {},
     "output_type": "execute_result"
    }
   ],
   "source": [
    "len(cfg.bands)"
   ]
  },
  {
   "cell_type": "code",
   "execution_count": 101,
   "metadata": {
    "tags": []
   },
   "outputs": [
    {
     "data": {
      "text/plain": [
       "5"
      ]
     },
     "execution_count": 101,
     "metadata": {},
     "output_type": "execute_result"
    }
   ],
   "source": [
    "len(external_targets)"
   ]
  },
  {
   "cell_type": "code",
   "execution_count": 102,
   "metadata": {
    "tags": []
   },
   "outputs": [],
   "source": [
    "assert not any(external_targets['id_str'].duplicated())"
   ]
  },
  {
   "cell_type": "code",
   "execution_count": 103,
   "metadata": {
    "tags": []
   },
   "outputs": [
    {
     "data": {
      "text/html": [
       "<div>\n",
       "<style scoped>\n",
       "    .dataframe tbody tr th:only-of-type {\n",
       "        vertical-align: middle;\n",
       "    }\n",
       "\n",
       "    .dataframe tbody tr th {\n",
       "        vertical-align: top;\n",
       "    }\n",
       "\n",
       "    .dataframe thead th {\n",
       "        text-align: right;\n",
       "    }\n",
       "</style>\n",
       "<table border=\"1\" class=\"dataframe\">\n",
       "  <thead>\n",
       "    <tr style=\"text-align: right;\">\n",
       "      <th></th>\n",
       "      <th>id_str</th>\n",
       "      <th>target_ra</th>\n",
       "      <th>target_dec</th>\n",
       "      <th>target_field_of_view</th>\n",
       "    </tr>\n",
       "  </thead>\n",
       "  <tbody>\n",
       "    <tr>\n",
       "      <th>0</th>\n",
       "      <td>a</td>\n",
       "      <td>92.837184</td>\n",
       "      <td>-47.886892</td>\n",
       "      <td>20</td>\n",
       "    </tr>\n",
       "    <tr>\n",
       "      <th>1</th>\n",
       "      <td>b</td>\n",
       "      <td>92.836691</td>\n",
       "      <td>-48.111763</td>\n",
       "      <td>20</td>\n",
       "    </tr>\n",
       "    <tr>\n",
       "      <th>2</th>\n",
       "      <td>d</td>\n",
       "      <td>92.835561</td>\n",
       "      <td>-47.978437</td>\n",
       "      <td>20</td>\n",
       "    </tr>\n",
       "    <tr>\n",
       "      <th>3</th>\n",
       "      <td>e</td>\n",
       "      <td>92.835173</td>\n",
       "      <td>-48.105453</td>\n",
       "      <td>20</td>\n",
       "    </tr>\n",
       "    <tr>\n",
       "      <th>4</th>\n",
       "      <td>f</td>\n",
       "      <td>92.834398</td>\n",
       "      <td>-47.999302</td>\n",
       "      <td>20</td>\n",
       "    </tr>\n",
       "  </tbody>\n",
       "</table>\n",
       "</div>"
      ],
      "text/plain": [
       "  id_str  target_ra  target_dec  target_field_of_view\n",
       "0      a  92.837184  -47.886892                    20\n",
       "1      b  92.836691  -48.111763                    20\n",
       "2      d  92.835561  -47.978437                    20\n",
       "3      e  92.835173  -48.105453                    20\n",
       "4      f  92.834398  -47.999302                    20"
      ]
     },
     "execution_count": 103,
     "metadata": {},
     "output_type": "execute_result"
    }
   ],
   "source": [
    "external_targets"
   ]
  },
  {
   "cell_type": "markdown",
   "metadata": {},
   "source": [
    "### Authenticate"
   ]
  },
  {
   "cell_type": "code",
   "execution_count": null,
   "metadata": {
    "tags": []
   },
   "outputs": [
    {
     "name": "stderr",
     "output_type": "stream",
     "text": [
      "INFO:astroquery:Login to Euclid TAP server\n"
     ]
    },
    {
     "name": "stdout",
     "output_type": "stream",
     "text": [
      "INFO: Login to Euclid TAP server [astroquery.esa.euclid.core]\n"
     ]
    },
    {
     "name": "stdout",
     "output_type": "stream",
     "text": [
      "User:  mwalms01\n",
      "Password:  ········\n"
     ]
    },
    {
     "name": "stderr",
     "output_type": "stream",
     "text": [
      "INFO:astroquery:OK\n",
      "INFO:astroquery:Login to Euclid data service\n"
     ]
    },
    {
     "name": "stdout",
     "output_type": "stream",
     "text": [
      "INFO: OK [astroquery.utils.tap.core]\n",
      "INFO: Login to Euclid data service [astroquery.esa.euclid.core]\n"
     ]
    },
    {
     "name": "stderr",
     "output_type": "stream",
     "text": [
      "INFO:astroquery:OK\n",
      "INFO:astroquery:Login to Euclid cutout service\n"
     ]
    },
    {
     "name": "stdout",
     "output_type": "stream",
     "text": [
      "INFO: OK [astroquery.utils.tap.core]\n",
      "INFO: Login to Euclid cutout service [astroquery.esa.euclid.core]\n"
     ]
    },
    {
     "name": "stderr",
     "output_type": "stream",
     "text": [
      "INFO:astroquery:OK\n"
     ]
    },
    {
     "name": "stdout",
     "output_type": "stream",
     "text": [
      "INFO: OK [astroquery.utils.tap.core]\n"
     ]
    }
   ],
   "source": [
    "# type in your COSMOS credentials\n",
    "from astroquery.esa.euclid.core import EuclidClass\n",
    "Euclid = EuclidClass(environment=cfg.sas_environment)\n",
    "Euclid.login()"
   ]
  },
  {
   "cell_type": "markdown",
   "metadata": {},
   "source": [
    "### For each target, find a tile that covers it"
   ]
  },
  {
   "cell_type": "code",
   "execution_count": 104,
   "metadata": {
    "tags": []
   },
   "outputs": [
    {
     "name": "stderr",
     "output_type": "stream",
     "text": [
      "INFO:astroquery:Query finished.\n",
      "INFO:root:Found 2514 query results\n",
      "INFO:root:Begin target/tile cross-match\n",
      "INFO:root:Matched 5 targets to 1 tiles\n",
      "INFO:root:Targets with tile matches: 5\n"
     ]
    },
    {
     "name": "stdout",
     "output_type": "stream",
     "text": [
      "INFO: Query finished. [astroquery.utils.tap.core]\n"
     ]
    },
    {
     "data": {
      "text/html": [
       "<div>\n",
       "<style scoped>\n",
       "    .dataframe tbody tr th:only-of-type {\n",
       "        vertical-align: middle;\n",
       "    }\n",
       "\n",
       "    .dataframe tbody tr th {\n",
       "        vertical-align: top;\n",
       "    }\n",
       "\n",
       "    .dataframe thead th {\n",
       "        text-align: right;\n",
       "    }\n",
       "</style>\n",
       "<table border=\"1\" class=\"dataframe\">\n",
       "  <thead>\n",
       "    <tr style=\"text-align: right;\">\n",
       "      <th></th>\n",
       "      <th>id_str</th>\n",
       "      <th>target_ra</th>\n",
       "      <th>target_dec</th>\n",
       "      <th>target_field_of_view</th>\n",
       "      <th>tile_index</th>\n",
       "      <th>release_name</th>\n",
       "    </tr>\n",
       "  </thead>\n",
       "  <tbody>\n",
       "    <tr>\n",
       "      <th>0</th>\n",
       "      <td>a</td>\n",
       "      <td>92.837184</td>\n",
       "      <td>-47.886892</td>\n",
       "      <td>20</td>\n",
       "      <td>102021539</td>\n",
       "      <td>F-006</td>\n",
       "    </tr>\n",
       "    <tr>\n",
       "      <th>1</th>\n",
       "      <td>b</td>\n",
       "      <td>92.836691</td>\n",
       "      <td>-48.111763</td>\n",
       "      <td>20</td>\n",
       "      <td>102021539</td>\n",
       "      <td>F-006</td>\n",
       "    </tr>\n",
       "    <tr>\n",
       "      <th>2</th>\n",
       "      <td>d</td>\n",
       "      <td>92.835561</td>\n",
       "      <td>-47.978437</td>\n",
       "      <td>20</td>\n",
       "      <td>102021539</td>\n",
       "      <td>F-006</td>\n",
       "    </tr>\n",
       "    <tr>\n",
       "      <th>3</th>\n",
       "      <td>e</td>\n",
       "      <td>92.835173</td>\n",
       "      <td>-48.105453</td>\n",
       "      <td>20</td>\n",
       "      <td>102021539</td>\n",
       "      <td>F-006</td>\n",
       "    </tr>\n",
       "    <tr>\n",
       "      <th>4</th>\n",
       "      <td>f</td>\n",
       "      <td>92.834398</td>\n",
       "      <td>-47.999302</td>\n",
       "      <td>20</td>\n",
       "      <td>102021539</td>\n",
       "      <td>F-006</td>\n",
       "    </tr>\n",
       "  </tbody>\n",
       "</table>\n",
       "</div>"
      ],
      "text/plain": [
       "  id_str  target_ra  target_dec  target_field_of_view  tile_index release_name\n",
       "0      a  92.837184  -47.886892                    20   102021539        F-006\n",
       "1      b  92.836691  -48.111763                    20   102021539        F-006\n",
       "2      d  92.835561  -47.978437                    20   102021539        F-006\n",
       "3      e  92.835173  -48.105453                    20   102021539        F-006\n",
       "4      f  92.834398  -47.999302                    20   102021539        F-006"
      ]
     },
     "execution_count": 104,
     "metadata": {},
     "output_type": "execute_result"
    }
   ],
   "source": [
    "targets_with_tiles = pipeline.get_matching_tiles(cfg, external_targets)\n",
    "targets_with_tiles"
   ]
  },
  {
   "cell_type": "code",
   "execution_count": 105,
   "metadata": {
    "tags": []
   },
   "outputs": [
    {
     "data": {
      "text/plain": [
       "release_name\n",
       "F-006    5\n",
       "Name: count, dtype: int64"
      ]
     },
     "execution_count": 105,
     "metadata": {},
     "output_type": "execute_result"
    }
   ],
   "source": [
    "targets_with_tiles['release_name'].value_counts()"
   ]
  },
  {
   "cell_type": "code",
   "execution_count": 106,
   "metadata": {
    "tags": []
   },
   "outputs": [],
   "source": [
    "targets_with_tiles = targets_with_tiles.sort_values('tile_index')[:1000]"
   ]
  },
  {
   "cell_type": "markdown",
   "metadata": {},
   "source": [
    "The speed of the pipeline depends on the number of tiles to download. It takes about 30 seconds per tile, per band, per product. If you request two bands and four products (as above), each tile takes about 4 minutes."
   ]
  },
  {
   "cell_type": "code",
   "execution_count": 107,
   "metadata": {
    "tags": []
   },
   "outputs": [
    {
     "data": {
      "text/plain": [
       "1"
      ]
     },
     "execution_count": 107,
     "metadata": {},
     "output_type": "execute_result"
    }
   ],
   "source": [
    "targets_with_tiles['tile_index'].nunique()"
   ]
  },
  {
   "cell_type": "markdown",
   "metadata": {},
   "source": [
    "### For every tile, download the flux and auxillary (PSF, RMS, BKG) data and make cutouts around each target in that tile"
   ]
  },
  {
   "cell_type": "code",
   "execution_count": 116,
   "metadata": {
    "tags": []
   },
   "outputs": [
    {
     "name": "stderr",
     "output_type": "stream",
     "text": [
      "INFO:root:Tile 102021539, 0 of 1\n",
      "INFO:astroquery:Query finished.\n",
      "INFO:root:Found 2 query results\n"
     ]
    },
    {
     "name": "stdout",
     "output_type": "stream",
     "text": [
      "INFO: Query finished. [astroquery.utils.tap.core]\n"
     ]
    },
    {
     "name": "stderr",
     "output_type": "stream",
     "text": [
      "INFO:root:Downloaded: {'NIR_Y': {'FLUX': '/media/home/my_workspace/repos/bulk-euclid-cutouts/tests/test_external_targets/test_notebook_version/external_targets_debug/tiles/EUC_MER_BGSUB-MOSAIC-NIR-Y_TILE102021539-677258_20240405T223525.219021Z_00.00.fits', 'MERRMS': '/media/home/my_workspace/repos/bulk-euclid-cutouts/tests/test_external_targets/test_notebook_version/external_targets_debug/tiles/EUC_MER_MOSAIC-NIR-Y-RMS_TILE102021539-F9D4BF_20240405T222015.990175Z_00.00.fits', 'MERPSF': '/media/home/my_workspace/repos/bulk-euclid-cutouts/tests/test_external_targets/test_notebook_version/external_targets_debug/tiles/EUC_MER_CATALOG-PSF-NIR-Y_TILE102021539-989050_20240406T034820.708751Z_00.00.fits'}, 'VIS': {'FLUX': '/media/home/my_workspace/repos/bulk-euclid-cutouts/tests/test_external_targets/test_notebook_version/external_targets_debug/tiles/EUC_MER_BGSUB-MOSAIC-VIS_TILE102021539-F91316_20240405T233444.877933Z_00.00.fits', 'MERPSF': '/media/home/my_workspace/repos/bulk-euclid-cutouts/tests/test_external_targets/test_notebook_version/external_targets_debug/tiles/EUC_MER_CATALOG-PSF-VIS_TILE102021539-71CC48_20240406T035102.932811Z_00.00.fits', 'MERRMS': '/media/home/my_workspace/repos/bulk-euclid-cutouts/tests/test_external_targets/test_notebook_version/external_targets_debug/tiles/EUC_MER_MOSAIC-VIS-RMS_TILE102021539-751A38_20240405T222335.805498Z_00.00.fits'}}\n",
      "INFO:root:before edge: 7792 7812, 1722 1743\n",
      "INFO:root:first: 7792 7812, 1722 1743\n",
      "INFO:root:second: 7790 7811, 1721 1742\n",
      "INFO:root:before edge: 5544 5565, 1786 1807\n",
      "INFO:root:first: 5544 5565, 1786 1807\n",
      "INFO:root:second: 5543 5564, 1784 1805\n",
      "INFO:root:before edge: 7792 7812, 1786 1807\n",
      "INFO:root:first: 7792 7812, 1786 1807\n",
      "INFO:root:second: 7790 7811, 1784 1805\n",
      "INFO:root:before edge: 5776 5797, 1806 1827\n",
      "INFO:root:first: 5776 5797, 1806 1827\n",
      "INFO:root:second: 5774 5795, 1805 1826\n",
      "INFO:root:before edge: 7792 7812, 1806 1827\n",
      "INFO:root:first: 7792 7812, 1806 1827\n",
      "INFO:root:second: 7790 7811, 1805 1826\n",
      "INFO:root:before edge: 11616 11649, 1716 1749\n",
      "INFO:root:first: 11616 11649, 1716 1749\n",
      "INFO:root:second: 11615 11648, 1716 1749\n",
      "INFO:root:before edge: 5544 5577, 1782 1815\n",
      "INFO:root:first: 5544 5577, 1782 1815\n",
      "INFO:root:second: 5543 5576, 1781 1814\n",
      "INFO:root:before edge: 10330 10363, 1782 1815\n",
      "INFO:root:first: 10330 10363, 1782 1815\n",
      "INFO:root:second: 10329 10362, 1782 1815\n",
      "INFO:root:before edge: 5776 5809, 1816 1849\n",
      "INFO:root:first: 5776 5809, 1816 1849\n",
      "INFO:root:second: 5774 5807, 1814 1847\n",
      "INFO:root:before edge: 9604 9637, 1816 1849\n",
      "INFO:root:first: 9604 9637, 1816 1849\n",
      "INFO:root:second: 9602 9635, 1814 1847\n"
     ]
    }
   ],
   "source": [
    "pipeline.make_cutouts(cfg, targets_with_tiles)"
   ]
  },
  {
   "cell_type": "code",
   "execution_count": null,
   "metadata": {},
   "outputs": [],
   "source": []
  }
 ],
 "metadata": {
  "kernelspec": {
   "display_name": "EUCLID-TOOLS",
   "language": "python",
   "name": "euclid-tools"
  },
  "language_info": {
   "codemirror_mode": {
    "name": "ipython",
    "version": 3
   },
   "file_extension": ".py",
   "mimetype": "text/x-python",
   "name": "python",
   "nbconvert_exporter": "python",
   "pygments_lexer": "ipython3",
   "version": "3.9.0"
  }
 },
 "nbformat": 4,
 "nbformat_minor": 4
}
