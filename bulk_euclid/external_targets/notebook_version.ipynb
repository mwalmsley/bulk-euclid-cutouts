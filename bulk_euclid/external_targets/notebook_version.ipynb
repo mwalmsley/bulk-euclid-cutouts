{
 "cells": [
  {
   "cell_type": "code",
   "execution_count": 393,
   "metadata": {
    "tags": []
   },
   "outputs": [
    {
     "name": "stdout",
     "output_type": "stream",
     "text": [
      "The autoreload extension is already loaded. To reload it, use:\n",
      "  %reload_ext autoreload\n"
     ]
    }
   ],
   "source": [
    "%load_ext autoreload\n",
    "%autoreload 2"
   ]
  },
  {
   "cell_type": "code",
   "execution_count": 394,
   "metadata": {
    "tags": []
   },
   "outputs": [],
   "source": [
    "# hack the paths, no package install needed\n",
    "import sys\n",
    "import os\n",
    "repo_dir = '/media/user/repos/bulk-euclid-cutouts'\n",
    "os.path.isdir(repo_dir)\n",
    "sys.path.insert(0,repo_dir)"
   ]
  },
  {
   "cell_type": "code",
   "execution_count": 395,
   "metadata": {
    "tags": []
   },
   "outputs": [],
   "source": [
    "import logging\n",
    "logging.basicConfig(level=logging.INFO, format='%(asctime)s %(message)s')\n",
    "import os\n",
    "\n",
    "import numpy as np\n",
    "import matplotlib.pyplot as plt\n",
    "from omegaconf import OmegaConf\n",
    "import pandas as pd\n",
    "\n",
    "from bulk_euclid.utils import pipeline_utils\n",
    "from bulk_euclid.external_targets import pipeline"
   ]
  },
  {
   "cell_type": "code",
   "execution_count": 396,
   "metadata": {},
   "outputs": [],
   "source": [
    "# # temp - check flux header\n",
    "# from astropy.io import fits\n",
    "# _, header = fits.getdata(\n",
    "#     '/media/home/team_workspaces/Euclid-Consortium/data/strong_lensing/external_targets_pipeline/latest/tiles/EUC_MER_BGSUB-MOSAIC-NIR-Y_TILE102159189-421F42_20240408T221858.903110Z_00.00.fits',\n",
    "#     header=True\n",
    "# )\n",
    "# header"
   ]
  },
  {
   "cell_type": "markdown",
   "metadata": {},
   "source": [
    "### Authenticate"
   ]
  },
  {
   "cell_type": "code",
   "execution_count": 397,
   "metadata": {
    "tags": []
   },
   "outputs": [
    {
     "name": "stderr",
     "output_type": "stream",
     "text": [
      "INFO:astroquery:Login to Euclid TAP server\n"
     ]
    },
    {
     "name": "stdout",
     "output_type": "stream",
     "text": [
      "INFO: Login to Euclid TAP server [astroquery.esa.euclid.core]\n"
     ]
    },
    {
     "name": "stdout",
     "output_type": "stream",
     "text": [
      "User:  mwalms01\n",
      "Password:  ········\n"
     ]
    },
    {
     "name": "stderr",
     "output_type": "stream",
     "text": [
      "INFO:astroquery:OK\n",
      "INFO:astroquery:Login to Euclid data service\n",
      "INFO:astroquery:OK\n",
      "INFO:astroquery:Login to Euclid cutout service\n"
     ]
    },
    {
     "name": "stdout",
     "output_type": "stream",
     "text": [
      "INFO: OK [astroquery.utils.tap.core]\n",
      "INFO: Login to Euclid data service [astroquery.esa.euclid.core]\n",
      "INFO: OK [astroquery.utils.tap.core]\n",
      "INFO: Login to Euclid cutout service [astroquery.esa.euclid.core]\n"
     ]
    },
    {
     "name": "stderr",
     "output_type": "stream",
     "text": [
      "INFO:astroquery:OK\n"
     ]
    },
    {
     "name": "stdout",
     "output_type": "stream",
     "text": [
      "INFO: OK [astroquery.utils.tap.core]\n"
     ]
    }
   ],
   "source": [
    "# type in your COSMOS credentials\n",
    "from astroquery.esa.euclid.core import Euclid\n",
    "Euclid.login()"
   ]
  },
  {
   "cell_type": "markdown",
   "metadata": {},
   "source": [
    "### Set Pipeline Options and Load External Targets"
   ]
  },
  {
   "cell_type": "code",
   "execution_count": 398,
   "metadata": {
    "tags": []
   },
   "outputs": [
    {
     "name": "stderr",
     "output_type": "stream",
     "text": [
      "INFO:root:Saving to /media/home/team_workspaces/Euclid-Consortium/data/strong_lensing/external_targets_pipeline/latest\n"
     ]
    },
    {
     "data": {
      "text/plain": [
       "{'base_dir': '/media/home/team_workspaces/Euclid-Consortium/data/strong_lensing/external_targets_pipeline', 'name': 'latest', 'release_name': None, 'bands': ['VIS', 'NIR_Y', 'NIR_J', 'NIR_H'], 'auxillary_products': ['MERPSF', 'MERRMS'], 'release_priority': ['CALBLOCK_PV-005_R2', 'CALBLOCK_PV-005_R3', 'F-003_240321', 'F-003_240612', 'F-006'], 'overwrite_fits': False, 'download_dir': '/media/home/team_workspaces/Euclid-Consortium/data/strong_lensing/external_targets_pipeline/latest', 'tile_dir': '/media/home/team_workspaces/Euclid-Consortium/data/strong_lensing/external_targets_pipeline/latest/tiles', 'cutout_dir': '/media/home/team_workspaces/Euclid-Consortium/data/strong_lensing/external_targets_pipeline/latest/cutouts', 'fits_dir': '/media/home/team_workspaces/Euclid-Consortium/data/strong_lensing/external_targets_pipeline/latest/cutouts/fits', 'sanity_dir': '/media/home/team_workspaces/Euclid-Consortium/data/strong_lensing/external_targets_pipeline/latest/sanity'}"
      ]
     },
     "execution_count": 398,
     "metadata": {},
     "output_type": "execute_result"
    }
   ],
   "source": [
    "# or you can use this config to run for real\n",
    "\n",
    "cfg_dict = dict(\n",
    "    base_dir='/media/home/team_workspaces/Euclid-Consortium/data/strong_lensing/external_targets_pipeline',\n",
    "    name='latest',\n",
    "    release_name=None,  # allow tiles from any release\n",
    "    bands=['VIS', 'NIR_Y', 'NIR_J', 'NIR_H'],  \n",
    "    auxillary_products=['MERPSF','MERRMS'],  # ,'MERBKG'\n",
    "    release_priority=['CALBLOCK_PV-005_R2', 'CALBLOCK_PV-005_R3', 'F-003_240321', 'F-003_240612' , 'F-006'],\n",
    "    overwrite_fits=False,\n",
    "    \n",
    "    # ignore these\n",
    "    download_dir=None,\n",
    "    tile_dir=None,\n",
    "    cutout_dir=None,\n",
    "    fits_dir=None,\n",
    "    sanity_dir=None\n",
    "    \n",
    ")\n",
    "cfg = OmegaConf.create(cfg_dict)  # easy to access with cfg.base_dir, etc\n",
    "pipeline.create_folders(cfg)  # fill in those missing paths\n"
   ]
  },
  {
   "cell_type": "code",
   "execution_count": 399,
   "metadata": {
    "tags": []
   },
   "outputs": [],
   "source": [
    "\n",
    "# TODO use your own csv, it just needs the columns specified here\n",
    "# external_targets = pd.read_csv('/media/home/my_workspace/combined_karina_strong_lens_classifications.csv', usecols=['id_str', 'target_ra', 'target_dec'])\n",
    "# external_targets['target_field_of_view'] = 20  # arcseconds\n",
    "\n",
    "lrg = pd.read_csv('/media/home/my_workspace/repos/bulk-euclid-cutouts/bulk_euclid/external_targets/LRGs_4sims_all.csv')\n",
    "lrg = lrg.rename(columns={'ra': 'target_ra', 'dec': 'target_dec', 'ID': 'id_str'})\n",
    "del lrg['Unnamed: 0']\n",
    "\n",
    "lrg['category'] = 'lrg_master_list'\n",
    "\n",
    "# also add the false positives\n",
    "false_positives_desi = pd.read_csv('/media/home/my_workspace/repos/bulk-euclid-cutouts/bulk_euclid/external_targets/False_Positives_DESI.csv')\n",
    "false_positives_desi['category'] = 'desi_false_positive'\n",
    "\n",
    "# also add the known candidates\n",
    "known = pd.read_csv('/media/home/my_workspace/repos/bulk-euclid-cutouts/bulk_euclid/external_targets/strong_lens_for_pipeline.csv')\n",
    "known = known[known['final_classification'].isin(['A', 'B'])]  # drop the Cs, not plausible\n",
    "known['category'] = 'known_lens_candidate'\n",
    "\n",
    "# external_targets = lrg\n",
    "# external_targets = pd.concat([known, lrg], axis=0).reset_index(drop=True)\n",
    "external_targets = pd.concat([known, lrg, false_positives_desi], axis=0).reset_index(drop=True)\n",
    "\n",
    "\n",
    "\n",
    "external_targets['target_field_of_view'] = 20  # arcseconds"
   ]
  },
  {
   "cell_type": "code",
   "execution_count": 400,
   "metadata": {
    "tags": []
   },
   "outputs": [
    {
     "data": {
      "text/plain": [
       "0        20\n",
       "1        20\n",
       "2        20\n",
       "3        20\n",
       "4        20\n",
       "         ..\n",
       "11150    20\n",
       "11151    20\n",
       "11152    20\n",
       "11153    20\n",
       "11154    20\n",
       "Name: target_field_of_view, Length: 11155, dtype: int64"
      ]
     },
     "execution_count": 400,
     "metadata": {},
     "output_type": "execute_result"
    }
   ],
   "source": [
    "external_targets['target_field_of_view']"
   ]
  },
  {
   "cell_type": "code",
   "execution_count": 401,
   "metadata": {
    "tags": []
   },
   "outputs": [
    {
     "data": {
      "text/plain": [
       "11155"
      ]
     },
     "execution_count": 401,
     "metadata": {},
     "output_type": "execute_result"
    }
   ],
   "source": [
    "len(external_targets)"
   ]
  },
  {
   "cell_type": "code",
   "execution_count": 402,
   "metadata": {
    "tags": []
   },
   "outputs": [
    {
     "data": {
      "text/plain": [
       "id_str                  10991\n",
       "field                      13\n",
       "target_ra               10602\n",
       "target_dec              10604\n",
       "final_classification        2\n",
       "category                    3\n",
       "vdisp                    5407\n",
       "z                        5410\n",
       "Unnamed: 0               5603\n",
       "target_field_of_view        1\n",
       "dtype: int64"
      ]
     },
     "execution_count": 402,
     "metadata": {},
     "output_type": "execute_result"
    }
   ],
   "source": [
    "external_targets.nunique()"
   ]
  },
  {
   "cell_type": "code",
   "execution_count": 403,
   "metadata": {
    "tags": []
   },
   "outputs": [],
   "source": [
    "# TODO Karina, why are these duplicated?\n",
    "external_targets = external_targets.drop_duplicates(subset=['id_str'], keep='first')"
   ]
  },
  {
   "cell_type": "code",
   "execution_count": 404,
   "metadata": {
    "tags": []
   },
   "outputs": [
    {
     "data": {
      "text/plain": [
       "10991"
      ]
     },
     "execution_count": 404,
     "metadata": {},
     "output_type": "execute_result"
    }
   ],
   "source": [
    "len(external_targets)"
   ]
  },
  {
   "cell_type": "code",
   "execution_count": 405,
   "metadata": {
    "tags": []
   },
   "outputs": [
    {
     "data": {
      "text/plain": [
       "category\n",
       "desi_false_positive     5603\n",
       "lrg_master_list         5246\n",
       "known_lens_candidate     142\n",
       "Name: count, dtype: int64"
      ]
     },
     "execution_count": 405,
     "metadata": {},
     "output_type": "execute_result"
    }
   ],
   "source": [
    "external_targets['category'].value_counts()"
   ]
  },
  {
   "cell_type": "code",
   "execution_count": 406,
   "metadata": {
    "tags": []
   },
   "outputs": [],
   "source": [
    "assert not any(external_targets['id_str'].duplicated())"
   ]
  },
  {
   "cell_type": "code",
   "execution_count": 407,
   "metadata": {
    "tags": []
   },
   "outputs": [
    {
     "data": {
      "text/html": [
       "<div>\n",
       "<style scoped>\n",
       "    .dataframe tbody tr th:only-of-type {\n",
       "        vertical-align: middle;\n",
       "    }\n",
       "\n",
       "    .dataframe tbody tr th {\n",
       "        vertical-align: top;\n",
       "    }\n",
       "\n",
       "    .dataframe thead th {\n",
       "        text-align: right;\n",
       "    }\n",
       "</style>\n",
       "<table border=\"1\" class=\"dataframe\">\n",
       "  <thead>\n",
       "    <tr style=\"text-align: right;\">\n",
       "      <th></th>\n",
       "      <th>id_str</th>\n",
       "      <th>field</th>\n",
       "      <th>target_ra</th>\n",
       "      <th>target_dec</th>\n",
       "      <th>final_classification</th>\n",
       "      <th>category</th>\n",
       "      <th>vdisp</th>\n",
       "      <th>z</th>\n",
       "      <th>Unnamed: 0</th>\n",
       "      <th>target_field_of_view</th>\n",
       "    </tr>\n",
       "  </thead>\n",
       "  <tbody>\n",
       "    <tr>\n",
       "      <th>0</th>\n",
       "      <td>EUCLJ215447.40+174003.7</td>\n",
       "      <td>Abell2390</td>\n",
       "      <td>328.697535</td>\n",
       "      <td>17.667696</td>\n",
       "      <td>A</td>\n",
       "      <td>known_lens_candidate</td>\n",
       "      <td>NaN</td>\n",
       "      <td>NaN</td>\n",
       "      <td>NaN</td>\n",
       "      <td>20</td>\n",
       "    </tr>\n",
       "    <tr>\n",
       "      <th>1</th>\n",
       "      <td>EUCLJ215405.95+181205.2</td>\n",
       "      <td>Abell2390</td>\n",
       "      <td>328.524807</td>\n",
       "      <td>18.201453</td>\n",
       "      <td>A</td>\n",
       "      <td>known_lens_candidate</td>\n",
       "      <td>NaN</td>\n",
       "      <td>NaN</td>\n",
       "      <td>NaN</td>\n",
       "      <td>20</td>\n",
       "    </tr>\n",
       "    <tr>\n",
       "      <th>2</th>\n",
       "      <td>EUCLJ002251.41-494843.9</td>\n",
       "      <td>Abell2764</td>\n",
       "      <td>5.714233</td>\n",
       "      <td>-49.812211</td>\n",
       "      <td>A</td>\n",
       "      <td>known_lens_candidate</td>\n",
       "      <td>NaN</td>\n",
       "      <td>NaN</td>\n",
       "      <td>NaN</td>\n",
       "      <td>20</td>\n",
       "    </tr>\n",
       "    <tr>\n",
       "      <th>3</th>\n",
       "      <td>EUCLJ002539.83-491515.5</td>\n",
       "      <td>Abell2764</td>\n",
       "      <td>6.415961</td>\n",
       "      <td>-49.254323</td>\n",
       "      <td>A</td>\n",
       "      <td>known_lens_candidate</td>\n",
       "      <td>NaN</td>\n",
       "      <td>NaN</td>\n",
       "      <td>NaN</td>\n",
       "      <td>20</td>\n",
       "    </tr>\n",
       "    <tr>\n",
       "      <th>4</th>\n",
       "      <td>EUCLJ002330.90-485506.4</td>\n",
       "      <td>Abell2764</td>\n",
       "      <td>5.878780</td>\n",
       "      <td>-48.918448</td>\n",
       "      <td>A</td>\n",
       "      <td>known_lens_candidate</td>\n",
       "      <td>NaN</td>\n",
       "      <td>NaN</td>\n",
       "      <td>NaN</td>\n",
       "      <td>20</td>\n",
       "    </tr>\n",
       "    <tr>\n",
       "      <th>...</th>\n",
       "      <td>...</td>\n",
       "      <td>...</td>\n",
       "      <td>...</td>\n",
       "      <td>...</td>\n",
       "      <td>...</td>\n",
       "      <td>...</td>\n",
       "      <td>...</td>\n",
       "      <td>...</td>\n",
       "      <td>...</td>\n",
       "      <td>...</td>\n",
       "    </tr>\n",
       "    <tr>\n",
       "      <th>11150</th>\n",
       "      <td>EUC_6097_DESI-sel_other</td>\n",
       "      <td>NaN</td>\n",
       "      <td>150.537346</td>\n",
       "      <td>2.669771</td>\n",
       "      <td>NaN</td>\n",
       "      <td>desi_false_positive</td>\n",
       "      <td>NaN</td>\n",
       "      <td>NaN</td>\n",
       "      <td>5598.0</td>\n",
       "      <td>20</td>\n",
       "    </tr>\n",
       "    <tr>\n",
       "      <th>11151</th>\n",
       "      <td>EUC_6103_DESI-sel_other</td>\n",
       "      <td>NaN</td>\n",
       "      <td>150.545603</td>\n",
       "      <td>2.668681</td>\n",
       "      <td>NaN</td>\n",
       "      <td>desi_false_positive</td>\n",
       "      <td>NaN</td>\n",
       "      <td>NaN</td>\n",
       "      <td>5599.0</td>\n",
       "      <td>20</td>\n",
       "    </tr>\n",
       "    <tr>\n",
       "      <th>11152</th>\n",
       "      <td>EUC_6108_DESI-sel_other</td>\n",
       "      <td>NaN</td>\n",
       "      <td>150.564119</td>\n",
       "      <td>2.640197</td>\n",
       "      <td>NaN</td>\n",
       "      <td>desi_false_positive</td>\n",
       "      <td>NaN</td>\n",
       "      <td>NaN</td>\n",
       "      <td>5600.0</td>\n",
       "      <td>20</td>\n",
       "    </tr>\n",
       "    <tr>\n",
       "      <th>11153</th>\n",
       "      <td>EUC_6122_DESI-sel_other</td>\n",
       "      <td>NaN</td>\n",
       "      <td>150.608120</td>\n",
       "      <td>2.704482</td>\n",
       "      <td>NaN</td>\n",
       "      <td>desi_false_positive</td>\n",
       "      <td>NaN</td>\n",
       "      <td>NaN</td>\n",
       "      <td>5601.0</td>\n",
       "      <td>20</td>\n",
       "    </tr>\n",
       "    <tr>\n",
       "      <th>11154</th>\n",
       "      <td>EUC_6739_DESI-sel_other</td>\n",
       "      <td>NaN</td>\n",
       "      <td>149.984650</td>\n",
       "      <td>2.883820</td>\n",
       "      <td>NaN</td>\n",
       "      <td>desi_false_positive</td>\n",
       "      <td>NaN</td>\n",
       "      <td>NaN</td>\n",
       "      <td>5602.0</td>\n",
       "      <td>20</td>\n",
       "    </tr>\n",
       "  </tbody>\n",
       "</table>\n",
       "<p>10991 rows × 10 columns</p>\n",
       "</div>"
      ],
      "text/plain": [
       "                        id_str      field   target_ra  target_dec  \\\n",
       "0      EUCLJ215447.40+174003.7  Abell2390  328.697535   17.667696   \n",
       "1      EUCLJ215405.95+181205.2  Abell2390  328.524807   18.201453   \n",
       "2      EUCLJ002251.41-494843.9  Abell2764    5.714233  -49.812211   \n",
       "3      EUCLJ002539.83-491515.5  Abell2764    6.415961  -49.254323   \n",
       "4      EUCLJ002330.90-485506.4  Abell2764    5.878780  -48.918448   \n",
       "...                        ...        ...         ...         ...   \n",
       "11150  EUC_6097_DESI-sel_other        NaN  150.537346    2.669771   \n",
       "11151  EUC_6103_DESI-sel_other        NaN  150.545603    2.668681   \n",
       "11152  EUC_6108_DESI-sel_other        NaN  150.564119    2.640197   \n",
       "11153  EUC_6122_DESI-sel_other        NaN  150.608120    2.704482   \n",
       "11154  EUC_6739_DESI-sel_other        NaN  149.984650    2.883820   \n",
       "\n",
       "      final_classification              category  vdisp   z  Unnamed: 0  \\\n",
       "0                        A  known_lens_candidate    NaN NaN         NaN   \n",
       "1                        A  known_lens_candidate    NaN NaN         NaN   \n",
       "2                        A  known_lens_candidate    NaN NaN         NaN   \n",
       "3                        A  known_lens_candidate    NaN NaN         NaN   \n",
       "4                        A  known_lens_candidate    NaN NaN         NaN   \n",
       "...                    ...                   ...    ...  ..         ...   \n",
       "11150                  NaN   desi_false_positive    NaN NaN      5598.0   \n",
       "11151                  NaN   desi_false_positive    NaN NaN      5599.0   \n",
       "11152                  NaN   desi_false_positive    NaN NaN      5600.0   \n",
       "11153                  NaN   desi_false_positive    NaN NaN      5601.0   \n",
       "11154                  NaN   desi_false_positive    NaN NaN      5602.0   \n",
       "\n",
       "       target_field_of_view  \n",
       "0                        20  \n",
       "1                        20  \n",
       "2                        20  \n",
       "3                        20  \n",
       "4                        20  \n",
       "...                     ...  \n",
       "11150                    20  \n",
       "11151                    20  \n",
       "11152                    20  \n",
       "11153                    20  \n",
       "11154                    20  \n",
       "\n",
       "[10991 rows x 10 columns]"
      ]
     },
     "execution_count": 407,
     "metadata": {},
     "output_type": "execute_result"
    }
   ],
   "source": [
    "external_targets"
   ]
  },
  {
   "cell_type": "markdown",
   "metadata": {},
   "source": [
    "### For each target, find a tile that covers it"
   ]
  },
  {
   "cell_type": "code",
   "execution_count": 408,
   "metadata": {
    "tags": []
   },
   "outputs": [
    {
     "name": "stderr",
     "output_type": "stream",
     "text": [
      "INFO:astroquery:Query finished.\n",
      "INFO:root:Found 2514 query results\n",
      "INFO:root:Begin target/tile cross-match\n"
     ]
    },
    {
     "name": "stdout",
     "output_type": "stream",
     "text": [
      "INFO: Query finished. [astroquery.utils.tap.core]\n"
     ]
    },
    {
     "name": "stderr",
     "output_type": "stream",
     "text": [
      "INFO:root:Matched 10991 targets to 193 tiles\n",
      "INFO:root:Targets with tile matches: 10834\n",
      "/media/user/repos/bulk-euclid-cutouts/bulk_euclid/external_targets/pipeline.py:179: SettingWithCopyWarning: \n",
      "A value is trying to be set on a copy of a slice from a DataFrame.\n",
      "Try using .loc[row_indexer,col_indexer] = value instead\n",
      "\n",
      "See the caveats in the documentation: https://pandas.pydata.org/pandas-docs/stable/user_guide/indexing.html#returning-a-view-versus-a-copy\n",
      "  targets_with_tiles[\"tile_index\"] = targets_with_tiles[\"tile_index\"].astype(int)\n"
     ]
    },
    {
     "data": {
      "text/html": [
       "<div>\n",
       "<style scoped>\n",
       "    .dataframe tbody tr th:only-of-type {\n",
       "        vertical-align: middle;\n",
       "    }\n",
       "\n",
       "    .dataframe tbody tr th {\n",
       "        vertical-align: top;\n",
       "    }\n",
       "\n",
       "    .dataframe thead th {\n",
       "        text-align: right;\n",
       "    }\n",
       "</style>\n",
       "<table border=\"1\" class=\"dataframe\">\n",
       "  <thead>\n",
       "    <tr style=\"text-align: right;\">\n",
       "      <th></th>\n",
       "      <th>id_str</th>\n",
       "      <th>field</th>\n",
       "      <th>target_ra</th>\n",
       "      <th>target_dec</th>\n",
       "      <th>final_classification</th>\n",
       "      <th>category</th>\n",
       "      <th>vdisp</th>\n",
       "      <th>z</th>\n",
       "      <th>Unnamed: 0</th>\n",
       "      <th>target_field_of_view</th>\n",
       "      <th>tile_index</th>\n",
       "      <th>release_name</th>\n",
       "      <th>tile_ra</th>\n",
       "      <th>tile_ra_min</th>\n",
       "      <th>tile_ra_max</th>\n",
       "      <th>tile_dec_min</th>\n",
       "      <th>tile_dec_max</th>\n",
       "      <th>tile_dec</th>\n",
       "    </tr>\n",
       "  </thead>\n",
       "  <tbody>\n",
       "    <tr>\n",
       "      <th>0</th>\n",
       "      <td>EUCLJ095929.92+021352.1</td>\n",
       "      <td>COSMOS</td>\n",
       "      <td>149.874700</td>\n",
       "      <td>2.231164</td>\n",
       "      <td>A</td>\n",
       "      <td>known_lens_candidate</td>\n",
       "      <td>NaN</td>\n",
       "      <td>NaN</td>\n",
       "      <td>NaN</td>\n",
       "      <td>20</td>\n",
       "      <td>101544256</td>\n",
       "      <td>CALBLOCK_PV-005_R2</td>\n",
       "      <td>149.841279</td>\n",
       "      <td>149.699490</td>\n",
       "      <td>149.983041</td>\n",
       "      <td>2.108355</td>\n",
       "      <td>2.391659</td>\n",
       "      <td>2.25</td>\n",
       "    </tr>\n",
       "    <tr>\n",
       "      <th>1</th>\n",
       "      <td>EUCLJ095951.04+021236.8</td>\n",
       "      <td>COSMOS</td>\n",
       "      <td>149.962680</td>\n",
       "      <td>2.210235</td>\n",
       "      <td>A</td>\n",
       "      <td>known_lens_candidate</td>\n",
       "      <td>NaN</td>\n",
       "      <td>NaN</td>\n",
       "      <td>NaN</td>\n",
       "      <td>20</td>\n",
       "      <td>101544257</td>\n",
       "      <td>CALBLOCK_PV-005_R2</td>\n",
       "      <td>150.091432</td>\n",
       "      <td>149.949642</td>\n",
       "      <td>150.233193</td>\n",
       "      <td>2.108355</td>\n",
       "      <td>2.391659</td>\n",
       "      <td>2.25</td>\n",
       "    </tr>\n",
       "    <tr>\n",
       "      <th>2</th>\n",
       "      <td>EUCLJ100056.78+021225.8</td>\n",
       "      <td>COSMOS</td>\n",
       "      <td>150.236610</td>\n",
       "      <td>2.207190</td>\n",
       "      <td>A</td>\n",
       "      <td>known_lens_candidate</td>\n",
       "      <td>NaN</td>\n",
       "      <td>NaN</td>\n",
       "      <td>NaN</td>\n",
       "      <td>20</td>\n",
       "      <td>101544258</td>\n",
       "      <td>CALBLOCK_PV-005_R2</td>\n",
       "      <td>150.341584</td>\n",
       "      <td>150.199795</td>\n",
       "      <td>150.483346</td>\n",
       "      <td>2.108355</td>\n",
       "      <td>2.391659</td>\n",
       "      <td>2.25</td>\n",
       "    </tr>\n",
       "    <tr>\n",
       "      <th>3</th>\n",
       "      <td>EUCLJ100013.92+022249.5</td>\n",
       "      <td>COSMOS</td>\n",
       "      <td>150.058040</td>\n",
       "      <td>2.380438</td>\n",
       "      <td>A</td>\n",
       "      <td>known_lens_candidate</td>\n",
       "      <td>NaN</td>\n",
       "      <td>NaN</td>\n",
       "      <td>NaN</td>\n",
       "      <td>20</td>\n",
       "      <td>101545697</td>\n",
       "      <td>CALBLOCK_PV-005_R2</td>\n",
       "      <td>150.115734</td>\n",
       "      <td>149.973917</td>\n",
       "      <td>150.257523</td>\n",
       "      <td>2.358354</td>\n",
       "      <td>2.641658</td>\n",
       "      <td>2.50</td>\n",
       "    </tr>\n",
       "    <tr>\n",
       "      <th>4</th>\n",
       "      <td>EUCLJ175032.01+633251.1</td>\n",
       "      <td>EDFN</td>\n",
       "      <td>267.633377</td>\n",
       "      <td>63.547552</td>\n",
       "      <td>A</td>\n",
       "      <td>known_lens_candidate</td>\n",
       "      <td>NaN</td>\n",
       "      <td>NaN</td>\n",
       "      <td>NaN</td>\n",
       "      <td>20</td>\n",
       "      <td>102157631</td>\n",
       "      <td>F-006</td>\n",
       "      <td>267.626746</td>\n",
       "      <td>267.023494</td>\n",
       "      <td>268.229934</td>\n",
       "      <td>63.232133</td>\n",
       "      <td>63.765406</td>\n",
       "      <td>63.50</td>\n",
       "    </tr>\n",
       "    <tr>\n",
       "      <th>...</th>\n",
       "      <td>...</td>\n",
       "      <td>...</td>\n",
       "      <td>...</td>\n",
       "      <td>...</td>\n",
       "      <td>...</td>\n",
       "      <td>...</td>\n",
       "      <td>...</td>\n",
       "      <td>...</td>\n",
       "      <td>...</td>\n",
       "      <td>...</td>\n",
       "      <td>...</td>\n",
       "      <td>...</td>\n",
       "      <td>...</td>\n",
       "      <td>...</td>\n",
       "      <td>...</td>\n",
       "      <td>...</td>\n",
       "      <td>...</td>\n",
       "      <td>...</td>\n",
       "    </tr>\n",
       "    <tr>\n",
       "      <th>10829</th>\n",
       "      <td>EUC_6097_DESI-sel_other</td>\n",
       "      <td>NaN</td>\n",
       "      <td>150.537346</td>\n",
       "      <td>2.669771</td>\n",
       "      <td>NaN</td>\n",
       "      <td>desi_false_positive</td>\n",
       "      <td>NaN</td>\n",
       "      <td>NaN</td>\n",
       "      <td>5598.0</td>\n",
       "      <td>20</td>\n",
       "      <td>101547138</td>\n",
       "      <td>CALBLOCK_PV-005_R2</td>\n",
       "      <td>150.643379</td>\n",
       "      <td>150.501533</td>\n",
       "      <td>150.785198</td>\n",
       "      <td>2.608353</td>\n",
       "      <td>2.891658</td>\n",
       "      <td>2.75</td>\n",
       "    </tr>\n",
       "    <tr>\n",
       "      <th>10830</th>\n",
       "      <td>EUC_6103_DESI-sel_other</td>\n",
       "      <td>NaN</td>\n",
       "      <td>150.545603</td>\n",
       "      <td>2.668681</td>\n",
       "      <td>NaN</td>\n",
       "      <td>desi_false_positive</td>\n",
       "      <td>NaN</td>\n",
       "      <td>NaN</td>\n",
       "      <td>5599.0</td>\n",
       "      <td>20</td>\n",
       "      <td>101547138</td>\n",
       "      <td>CALBLOCK_PV-005_R2</td>\n",
       "      <td>150.643379</td>\n",
       "      <td>150.501533</td>\n",
       "      <td>150.785198</td>\n",
       "      <td>2.608353</td>\n",
       "      <td>2.891658</td>\n",
       "      <td>2.75</td>\n",
       "    </tr>\n",
       "    <tr>\n",
       "      <th>10831</th>\n",
       "      <td>EUC_6108_DESI-sel_other</td>\n",
       "      <td>NaN</td>\n",
       "      <td>150.564119</td>\n",
       "      <td>2.640197</td>\n",
       "      <td>NaN</td>\n",
       "      <td>desi_false_positive</td>\n",
       "      <td>NaN</td>\n",
       "      <td>NaN</td>\n",
       "      <td>5600.0</td>\n",
       "      <td>20</td>\n",
       "      <td>101547138</td>\n",
       "      <td>CALBLOCK_PV-005_R2</td>\n",
       "      <td>150.643379</td>\n",
       "      <td>150.501533</td>\n",
       "      <td>150.785198</td>\n",
       "      <td>2.608353</td>\n",
       "      <td>2.891658</td>\n",
       "      <td>2.75</td>\n",
       "    </tr>\n",
       "    <tr>\n",
       "      <th>10832</th>\n",
       "      <td>EUC_6122_DESI-sel_other</td>\n",
       "      <td>NaN</td>\n",
       "      <td>150.608120</td>\n",
       "      <td>2.704482</td>\n",
       "      <td>NaN</td>\n",
       "      <td>desi_false_positive</td>\n",
       "      <td>NaN</td>\n",
       "      <td>NaN</td>\n",
       "      <td>5601.0</td>\n",
       "      <td>20</td>\n",
       "      <td>101547138</td>\n",
       "      <td>CALBLOCK_PV-005_R2</td>\n",
       "      <td>150.643379</td>\n",
       "      <td>150.501533</td>\n",
       "      <td>150.785198</td>\n",
       "      <td>2.608353</td>\n",
       "      <td>2.891658</td>\n",
       "      <td>2.75</td>\n",
       "    </tr>\n",
       "    <tr>\n",
       "      <th>10833</th>\n",
       "      <td>EUC_6739_DESI-sel_other</td>\n",
       "      <td>NaN</td>\n",
       "      <td>149.984650</td>\n",
       "      <td>2.883820</td>\n",
       "      <td>NaN</td>\n",
       "      <td>desi_false_positive</td>\n",
       "      <td>NaN</td>\n",
       "      <td>NaN</td>\n",
       "      <td>5602.0</td>\n",
       "      <td>20</td>\n",
       "      <td>101548574</td>\n",
       "      <td>CALBLOCK_PV-005_R2</td>\n",
       "      <td>149.922653</td>\n",
       "      <td>149.780774</td>\n",
       "      <td>150.064504</td>\n",
       "      <td>2.858353</td>\n",
       "      <td>3.141657</td>\n",
       "      <td>3.00</td>\n",
       "    </tr>\n",
       "  </tbody>\n",
       "</table>\n",
       "<p>10834 rows × 18 columns</p>\n",
       "</div>"
      ],
      "text/plain": [
       "                        id_str   field   target_ra  target_dec  \\\n",
       "0      EUCLJ095929.92+021352.1  COSMOS  149.874700    2.231164   \n",
       "1      EUCLJ095951.04+021236.8  COSMOS  149.962680    2.210235   \n",
       "2      EUCLJ100056.78+021225.8  COSMOS  150.236610    2.207190   \n",
       "3      EUCLJ100013.92+022249.5  COSMOS  150.058040    2.380438   \n",
       "4      EUCLJ175032.01+633251.1    EDFN  267.633377   63.547552   \n",
       "...                        ...     ...         ...         ...   \n",
       "10829  EUC_6097_DESI-sel_other     NaN  150.537346    2.669771   \n",
       "10830  EUC_6103_DESI-sel_other     NaN  150.545603    2.668681   \n",
       "10831  EUC_6108_DESI-sel_other     NaN  150.564119    2.640197   \n",
       "10832  EUC_6122_DESI-sel_other     NaN  150.608120    2.704482   \n",
       "10833  EUC_6739_DESI-sel_other     NaN  149.984650    2.883820   \n",
       "\n",
       "      final_classification              category  vdisp   z  Unnamed: 0  \\\n",
       "0                        A  known_lens_candidate    NaN NaN         NaN   \n",
       "1                        A  known_lens_candidate    NaN NaN         NaN   \n",
       "2                        A  known_lens_candidate    NaN NaN         NaN   \n",
       "3                        A  known_lens_candidate    NaN NaN         NaN   \n",
       "4                        A  known_lens_candidate    NaN NaN         NaN   \n",
       "...                    ...                   ...    ...  ..         ...   \n",
       "10829                  NaN   desi_false_positive    NaN NaN      5598.0   \n",
       "10830                  NaN   desi_false_positive    NaN NaN      5599.0   \n",
       "10831                  NaN   desi_false_positive    NaN NaN      5600.0   \n",
       "10832                  NaN   desi_false_positive    NaN NaN      5601.0   \n",
       "10833                  NaN   desi_false_positive    NaN NaN      5602.0   \n",
       "\n",
       "       target_field_of_view  tile_index        release_name     tile_ra  \\\n",
       "0                        20   101544256  CALBLOCK_PV-005_R2  149.841279   \n",
       "1                        20   101544257  CALBLOCK_PV-005_R2  150.091432   \n",
       "2                        20   101544258  CALBLOCK_PV-005_R2  150.341584   \n",
       "3                        20   101545697  CALBLOCK_PV-005_R2  150.115734   \n",
       "4                        20   102157631               F-006  267.626746   \n",
       "...                     ...         ...                 ...         ...   \n",
       "10829                    20   101547138  CALBLOCK_PV-005_R2  150.643379   \n",
       "10830                    20   101547138  CALBLOCK_PV-005_R2  150.643379   \n",
       "10831                    20   101547138  CALBLOCK_PV-005_R2  150.643379   \n",
       "10832                    20   101547138  CALBLOCK_PV-005_R2  150.643379   \n",
       "10833                    20   101548574  CALBLOCK_PV-005_R2  149.922653   \n",
       "\n",
       "       tile_ra_min  tile_ra_max  tile_dec_min  tile_dec_max  tile_dec  \n",
       "0       149.699490   149.983041      2.108355      2.391659      2.25  \n",
       "1       149.949642   150.233193      2.108355      2.391659      2.25  \n",
       "2       150.199795   150.483346      2.108355      2.391659      2.25  \n",
       "3       149.973917   150.257523      2.358354      2.641658      2.50  \n",
       "4       267.023494   268.229934     63.232133     63.765406     63.50  \n",
       "...            ...          ...           ...           ...       ...  \n",
       "10829   150.501533   150.785198      2.608353      2.891658      2.75  \n",
       "10830   150.501533   150.785198      2.608353      2.891658      2.75  \n",
       "10831   150.501533   150.785198      2.608353      2.891658      2.75  \n",
       "10832   150.501533   150.785198      2.608353      2.891658      2.75  \n",
       "10833   149.780774   150.064504      2.858353      3.141657      3.00  \n",
       "\n",
       "[10834 rows x 18 columns]"
      ]
     },
     "execution_count": 408,
     "metadata": {},
     "output_type": "execute_result"
    }
   ],
   "source": [
    "targets_with_tiles = pipeline.get_matching_tiles(cfg, external_targets)\n",
    "targets_with_tiles"
   ]
  },
  {
   "cell_type": "code",
   "execution_count": 409,
   "metadata": {
    "tags": []
   },
   "outputs": [
    {
     "data": {
      "text/plain": [
       "release_name\n",
       "F-003_240612          7684\n",
       "F-006                 2131\n",
       "CALBLOCK_PV-005_R2     812\n",
       "F-003_240321           207\n",
       "Name: count, dtype: int64"
      ]
     },
     "execution_count": 409,
     "metadata": {},
     "output_type": "execute_result"
    }
   ],
   "source": [
    "targets_with_tiles['release_name'].value_counts()"
   ]
  },
  {
   "cell_type": "code",
   "execution_count": 410,
   "metadata": {
    "tags": []
   },
   "outputs": [
    {
     "data": {
      "text/plain": [
       "category\n",
       "desi_false_positive     5602\n",
       "lrg_master_list         5151\n",
       "known_lens_candidate      81\n",
       "Name: count, dtype: int64"
      ]
     },
     "execution_count": 410,
     "metadata": {},
     "output_type": "execute_result"
    }
   ],
   "source": [
    "targets_with_tiles['category'].value_counts()"
   ]
  },
  {
   "cell_type": "code",
   "execution_count": 411,
   "metadata": {
    "tags": []
   },
   "outputs": [],
   "source": [
    "# targets_with_tiles = targets_with_tiles.sort_values('tile_index')[1000:] # [:1000]\n",
    "# targets_with_tiles = targets_with_tiles[targets_with_tiles['tile_index'] == 101544256]  # standard tile\n",
    "# targets_with_tiles = targets_with_tiles[targets_with_tiles['tile_index'] == 102158586]  # broken tile\n",
    "\n",
    "\n"
   ]
  },
  {
   "cell_type": "markdown",
   "metadata": {},
   "source": [
    "The speed of the pipeline depends on the number of tiles to download. It takes a few minutes per tile."
   ]
  },
  {
   "cell_type": "code",
   "execution_count": 412,
   "metadata": {
    "tags": []
   },
   "outputs": [
    {
     "data": {
      "text/plain": [
       "(192, 10834)"
      ]
     },
     "execution_count": 412,
     "metadata": {},
     "output_type": "execute_result"
    }
   ],
   "source": [
    "targets_with_tiles['tile_index'].nunique(), len(targets_with_tiles)"
   ]
  },
  {
   "cell_type": "code",
   "execution_count": 413,
   "metadata": {
    "tags": []
   },
   "outputs": [],
   "source": [
    "assert not any(targets_with_tiles[['target_ra', 'target_dec']].isna().any())"
   ]
  },
  {
   "cell_type": "markdown",
   "metadata": {},
   "source": [
    "### For every tile, download the flux and auxillary (PSF, RMS, BKG) data and make cutouts around each target in that tile"
   ]
  },
  {
   "cell_type": "code",
   "execution_count": null,
   "metadata": {
    "tags": []
   },
   "outputs": [
    {
     "name": "stderr",
     "output_type": "stream",
     "text": [
      "INFO:root:Tile 101544256, 0 of 192\n",
      "INFO:astroquery:Query finished.\n",
      "INFO:root:Found 4 query results\n",
      "INFO:root:Downloading all data for tile 101544256\n"
     ]
    },
    {
     "name": "stdout",
     "output_type": "stream",
     "text": [
      "INFO: Query finished. [astroquery.utils.tap.core]\n"
     ]
    },
    {
     "name": "stderr",
     "output_type": "stream",
     "text": [
      "INFO:root:Downloaded all data for tile 101544256\n",
      "INFO:root:Loaded tile, ready to slice\n",
      "INFO:root:Cutout data sliced for band VIS\n",
      "INFO:root:Loaded tile, ready to slice\n",
      "INFO:root:Cutout data sliced for band NIR_Y\n",
      "INFO:root:Loaded tile, ready to slice\n",
      "INFO:root:Cutout data sliced for band NIR_J\n",
      "INFO:root:Loaded tile, ready to slice\n",
      "INFO:root:Cutout data sliced for band NIR_H\n",
      "INFO:root:Cutout data sliced for all bands, begin saving to disk\n",
      "INFO:root:Saved cutouts for all targets in tile 101544256\n",
      "INFO:root:Tile 101544257, 1 of 192\n",
      "INFO:astroquery:Query finished.\n",
      "INFO:root:Found 4 query results\n",
      "INFO:root:Downloading all data for tile 101544257\n"
     ]
    },
    {
     "name": "stdout",
     "output_type": "stream",
     "text": [
      "INFO: Query finished. [astroquery.utils.tap.core]\n"
     ]
    },
    {
     "name": "stderr",
     "output_type": "stream",
     "text": [
      "INFO:root:Downloaded all data for tile 101544257\n",
      "INFO:root:Loaded tile, ready to slice\n",
      "INFO:root:Cutout data sliced for band VIS\n",
      "INFO:root:Loaded tile, ready to slice\n",
      "INFO:root:Cutout data sliced for band NIR_Y\n",
      "INFO:root:Loaded tile, ready to slice\n",
      "INFO:root:Cutout data sliced for band NIR_J\n",
      "INFO:root:Loaded tile, ready to slice\n",
      "INFO:root:Cutout data sliced for band NIR_H\n",
      "INFO:root:Cutout data sliced for all bands, begin saving to disk\n",
      "INFO:root:Saved cutouts for all targets in tile 101544257\n",
      "INFO:root:Tile 101544258, 2 of 192\n",
      "INFO:astroquery:Query finished.\n",
      "INFO:root:Found 4 query results\n",
      "INFO:root:Downloading all data for tile 101544258\n"
     ]
    },
    {
     "name": "stdout",
     "output_type": "stream",
     "text": [
      "INFO: Query finished. [astroquery.utils.tap.core]\n"
     ]
    },
    {
     "name": "stderr",
     "output_type": "stream",
     "text": [
      "INFO:root:Downloaded all data for tile 101544258\n",
      "INFO:root:Loaded tile, ready to slice\n",
      "INFO:root:Cutout data sliced for band VIS\n",
      "INFO:root:Loaded tile, ready to slice\n",
      "INFO:root:Cutout data sliced for band NIR_Y\n",
      "INFO:root:Loaded tile, ready to slice\n",
      "INFO:root:Cutout data sliced for band NIR_J\n",
      "INFO:root:Loaded tile, ready to slice\n",
      "INFO:root:Cutout data sliced for band NIR_H\n",
      "INFO:root:Cutout data sliced for all bands, begin saving to disk\n",
      "INFO:root:Saved cutouts for all targets in tile 101544258\n",
      "INFO:root:Tile 101545697, 3 of 192\n",
      "INFO:astroquery:Query finished.\n",
      "INFO:root:Found 4 query results\n",
      "INFO:root:Downloading all data for tile 101545697\n"
     ]
    },
    {
     "name": "stdout",
     "output_type": "stream",
     "text": [
      "INFO: Query finished. [astroquery.utils.tap.core]\n"
     ]
    },
    {
     "name": "stderr",
     "output_type": "stream",
     "text": [
      "INFO:root:Downloaded all data for tile 101545697\n",
      "INFO:root:Loaded tile, ready to slice\n",
      "INFO:root:Cutout data sliced for band VIS\n",
      "INFO:root:Loaded tile, ready to slice\n",
      "INFO:root:Cutout data sliced for band NIR_Y\n",
      "INFO:root:Loaded tile, ready to slice\n",
      "INFO:root:Cutout data sliced for band NIR_J\n",
      "INFO:root:Loaded tile, ready to slice\n",
      "INFO:root:Cutout data sliced for band NIR_H\n",
      "INFO:root:Cutout data sliced for all bands, begin saving to disk\n",
      "INFO:root:Saved cutouts for all targets in tile 101545697\n",
      "INFO:root:Tile 102157631, 4 of 192\n",
      "INFO:astroquery:Query finished.\n",
      "INFO:root:Found 9 query results\n",
      "INFO:root:Downloading all data for tile 102157631\n"
     ]
    },
    {
     "name": "stdout",
     "output_type": "stream",
     "text": [
      "INFO: Query finished. [astroquery.utils.tap.core]\n"
     ]
    },
    {
     "name": "stderr",
     "output_type": "stream",
     "text": [
      "INFO:root:Downloaded all data for tile 102157631\n",
      "INFO:root:Loaded tile, ready to slice\n",
      "INFO:root:Cutout data sliced for band VIS\n",
      "INFO:root:Loaded tile, ready to slice\n",
      "INFO:root:Cutout data sliced for band NIR_Y\n",
      "INFO:root:Loaded tile, ready to slice\n",
      "INFO:root:Cutout data sliced for band NIR_J\n",
      "INFO:root:Loaded tile, ready to slice\n",
      "INFO:root:Cutout data sliced for band NIR_H\n",
      "INFO:root:Cutout data sliced for all bands, begin saving to disk\n",
      "CRITICAL:root:Error saving cutout for target EUCLJ175032.01+633251.1\n",
      "CRITICAL:root:EUCLJ175032.01+633251.1.fits: Flux in NIR_Y data is empty, likely a SAS error\n",
      "CRITICAL:root:Error saving cutout for target EUC_11995_DESI-sel\n",
      "CRITICAL:root:EUC_11995_DESI-sel.fits: Flux in VIS data is empty, likely a SAS error\n",
      "CRITICAL:root:Error saving cutout for target EUC_12653_DESI-sel\n",
      "CRITICAL:root:EUC_12653_DESI-sel.fits: Flux in VIS data is empty, likely a SAS error\n",
      "CRITICAL:root:Error saving cutout for target EUC_12615_DESI-sel\n",
      "CRITICAL:root:EUC_12615_DESI-sel.fits: Flux in VIS data is empty, likely a SAS error\n",
      "CRITICAL:root:Error saving cutout for target EUC_12626_DESI-sel\n",
      "CRITICAL:root:EUC_12626_DESI-sel.fits: Flux in VIS data is empty, likely a SAS error\n",
      "CRITICAL:root:Error saving cutout for target EUC_12642_DESI-sel\n",
      "CRITICAL:root:EUC_12642_DESI-sel.fits: Flux in VIS data is empty, likely a SAS error\n",
      "CRITICAL:root:Error saving cutout for target EUC_11981_DESI-sel\n",
      "CRITICAL:root:EUC_11981_DESI-sel.fits: Flux in VIS data is empty, likely a SAS error\n",
      "CRITICAL:root:Error saving cutout for target EUC_12606_DESI-sel\n",
      "CRITICAL:root:EUC_12606_DESI-sel.fits: Flux in VIS data is empty, likely a SAS error\n",
      "CRITICAL:root:Error saving cutout for target EUC_12583_DESI-sel\n",
      "CRITICAL:root:EUC_12583_DESI-sel.fits: Flux in VIS data is empty, likely a SAS error\n",
      "CRITICAL:root:Error saving cutout for target EUC_11994_DESI-sel\n",
      "CRITICAL:root:EUC_11994_DESI-sel.fits: Flux in VIS data is empty, likely a SAS error\n",
      "CRITICAL:root:Error saving cutout for target EUC_11987_DESI-sel\n",
      "CRITICAL:root:EUC_11987_DESI-sel.fits: Flux in VIS data is empty, likely a SAS error\n",
      "CRITICAL:root:Error saving cutout for target EUC_11958_DESI-sel\n",
      "CRITICAL:root:EUC_11958_DESI-sel.fits: Flux in VIS data is empty, likely a SAS error\n",
      "CRITICAL:root:Error saving cutout for target EUC_12595_DESI-sel\n",
      "CRITICAL:root:EUC_12595_DESI-sel.fits: Flux in VIS data is empty, likely a SAS error\n",
      "CRITICAL:root:Error saving cutout for target EUC_12591_DESI-sel\n",
      "CRITICAL:root:EUC_12591_DESI-sel.fits: Flux in VIS data is empty, likely a SAS error\n",
      "CRITICAL:root:Error saving cutout for target EUC_12578_DESI-sel\n",
      "CRITICAL:root:EUC_12578_DESI-sel.fits: Flux in VIS data is empty, likely a SAS error\n",
      "CRITICAL:root:Error saving cutout for target EUC_11984_DESI-sel\n",
      "CRITICAL:root:EUC_11984_DESI-sel.fits: Flux in VIS data is empty, likely a SAS error\n",
      "CRITICAL:root:Error saving cutout for target EUC_11992_DESI-sel\n",
      "CRITICAL:root:EUC_11992_DESI-sel.fits: Flux in VIS data is empty, likely a SAS error\n",
      "CRITICAL:root:Error saving cutout for target EUC_12636_DESI-sel\n",
      "CRITICAL:root:EUC_12636_DESI-sel.fits: Flux in VIS data is empty, likely a SAS error\n",
      "CRITICAL:root:Error saving cutout for target EUC_12635_DESI-sel\n",
      "CRITICAL:root:EUC_12635_DESI-sel.fits: Flux in VIS data is empty, likely a SAS error\n",
      "CRITICAL:root:Error saving cutout for target EUC_12574_DESI-sel\n",
      "CRITICAL:root:EUC_12574_DESI-sel.fits: Flux in VIS data is empty, likely a SAS error\n",
      "CRITICAL:root:Error saving cutout for target EUC_12627_DESI-sel\n",
      "CRITICAL:root:EUC_12627_DESI-sel.fits: Flux in VIS data is empty, likely a SAS error\n",
      "CRITICAL:root:Error saving cutout for target EUC_11990_DESI-sel\n",
      "CRITICAL:root:EUC_11990_DESI-sel.fits: Flux in VIS data is empty, likely a SAS error\n",
      "CRITICAL:root:Error saving cutout for target EUC_12640_DESI-sel\n",
      "CRITICAL:root:EUC_12640_DESI-sel.fits: Flux in VIS data is empty, likely a SAS error\n",
      "CRITICAL:root:Error saving cutout for target EUC_11965_DESI-sel_spiral\n",
      "CRITICAL:root:EUC_11965_DESI-sel_spiral.fits: Flux in VIS data is empty, likely a SAS error\n",
      "CRITICAL:root:Error saving cutout for target EUC_11978_DESI-sel_spiral\n",
      "CRITICAL:root:EUC_11978_DESI-sel_spiral.fits: Flux in VIS data is empty, likely a SAS error\n",
      "CRITICAL:root:Error saving cutout for target EUC_11979_DESI-sel_spiral\n",
      "CRITICAL:root:EUC_11979_DESI-sel_spiral.fits: Flux in VIS data is empty, likely a SAS error\n",
      "CRITICAL:root:Error saving cutout for target EUC_11999_DESI-sel_spiral\n",
      "CRITICAL:root:EUC_11999_DESI-sel_spiral.fits: Flux in VIS data is empty, likely a SAS error\n",
      "CRITICAL:root:Error saving cutout for target EUC_12553_DESI-sel_spiral\n",
      "CRITICAL:root:EUC_12553_DESI-sel_spiral.fits: Flux in VIS data is empty, likely a SAS error\n",
      "CRITICAL:root:Error saving cutout for target EUC_12572_DESI-sel_spiral\n",
      "CRITICAL:root:EUC_12572_DESI-sel_spiral.fits: Flux in NIR_Y data is empty, likely a SAS error\n",
      "CRITICAL:root:Error saving cutout for target EUC_12575_DESI-sel_spiral\n",
      "CRITICAL:root:EUC_12575_DESI-sel_spiral.fits: Flux in VIS data is empty, likely a SAS error\n",
      "CRITICAL:root:Error saving cutout for target EUC_12579_DESI-sel_spiral\n",
      "CRITICAL:root:EUC_12579_DESI-sel_spiral.fits: Flux in VIS data is empty, likely a SAS error\n",
      "CRITICAL:root:Error saving cutout for target EUC_12603_DESI-sel_spiral\n",
      "CRITICAL:root:EUC_12603_DESI-sel_spiral.fits: Flux in VIS data is empty, likely a SAS error\n",
      "CRITICAL:root:Error saving cutout for target EUC_12604_DESI-sel_spiral\n",
      "CRITICAL:root:EUC_12604_DESI-sel_spiral.fits: Flux in VIS data is empty, likely a SAS error\n",
      "CRITICAL:root:Error saving cutout for target EUC_12607_DESI-sel_spiral\n",
      "CRITICAL:root:EUC_12607_DESI-sel_spiral.fits: Flux in NIR_Y data is empty, likely a SAS error\n",
      "CRITICAL:root:Error saving cutout for target EUC_12613_DESI-sel_spiral\n",
      "CRITICAL:root:EUC_12613_DESI-sel_spiral.fits: Flux in VIS data is empty, likely a SAS error\n",
      "CRITICAL:root:Error saving cutout for target EUC_12634_DESI-sel_spiral\n",
      "CRITICAL:root:EUC_12634_DESI-sel_spiral.fits: Flux in VIS data is empty, likely a SAS error\n",
      "CRITICAL:root:Error saving cutout for target EUC_12647_DESI-sel_spiral\n",
      "CRITICAL:root:EUC_12647_DESI-sel_spiral.fits: Flux in VIS data is empty, likely a SAS error\n",
      "CRITICAL:root:Error saving cutout for target EUC_12650_DESI-sel_spiral\n",
      "CRITICAL:root:EUC_12650_DESI-sel_spiral.fits: Flux in VIS data is empty, likely a SAS error\n",
      "CRITICAL:root:Error saving cutout for target EUC_12651_DESI-sel_spiral\n",
      "CRITICAL:root:EUC_12651_DESI-sel_spiral.fits: Flux in VIS data is empty, likely a SAS error\n",
      "CRITICAL:root:Error saving cutout for target EUC_12602_DESI-sel_merger\n",
      "CRITICAL:root:EUC_12602_DESI-sel_merger.fits: Flux in VIS data is empty, likely a SAS error\n",
      "CRITICAL:root:Error saving cutout for target EUC_12644_DESI-sel_merger\n",
      "CRITICAL:root:EUC_12644_DESI-sel_merger.fits: Flux in VIS data is empty, likely a SAS error\n",
      "CRITICAL:root:Error saving cutout for target EUC_11957_DESI-sel_other\n",
      "CRITICAL:root:EUC_11957_DESI-sel_other.fits: Flux in VIS data is empty, likely a SAS error\n",
      "CRITICAL:root:Error saving cutout for target EUC_11987_DESI-sel_other\n",
      "CRITICAL:root:EUC_11987_DESI-sel_other.fits: Flux in VIS data is empty, likely a SAS error\n",
      "CRITICAL:root:Error saving cutout for target EUC_11994_DESI-sel_other\n",
      "CRITICAL:root:EUC_11994_DESI-sel_other.fits: Flux in VIS data is empty, likely a SAS error\n",
      "CRITICAL:root:Error saving cutout for target EUC_12002_DESI-sel_other\n",
      "CRITICAL:root:EUC_12002_DESI-sel_other.fits: Flux in VIS data is empty, likely a SAS error\n",
      "CRITICAL:root:Error saving cutout for target EUC_12534_DESI-sel_other\n",
      "CRITICAL:root:EUC_12534_DESI-sel_other.fits: Flux in NIR_Y data is empty, likely a SAS error\n",
      "CRITICAL:root:Error saving cutout for target EUC_12562_DESI-sel_other\n",
      "CRITICAL:root:EUC_12562_DESI-sel_other.fits: Flux in VIS data is empty, likely a SAS error\n",
      "CRITICAL:root:Error saving cutout for target EUC_12569_DESI-sel_other\n",
      "CRITICAL:root:EUC_12569_DESI-sel_other.fits: Flux in NIR_Y data is empty, likely a SAS error\n",
      "CRITICAL:root:Error saving cutout for target EUC_12573_DESI-sel_other\n",
      "CRITICAL:root:EUC_12573_DESI-sel_other.fits: Flux in VIS data is empty, likely a SAS error\n",
      "CRITICAL:root:Error saving cutout for target EUC_12574_DESI-sel_other\n",
      "CRITICAL:root:EUC_12574_DESI-sel_other.fits: Flux in VIS data is empty, likely a SAS error\n",
      "CRITICAL:root:Error saving cutout for target EUC_12576_DESI-sel_other\n",
      "CRITICAL:root:EUC_12576_DESI-sel_other.fits: Flux in VIS data is empty, likely a SAS error\n",
      "CRITICAL:root:Error saving cutout for target EUC_12577_DESI-sel_other\n",
      "CRITICAL:root:EUC_12577_DESI-sel_other.fits: Flux in VIS data is empty, likely a SAS error\n",
      "CRITICAL:root:Error saving cutout for target EUC_12582_DESI-sel_other\n",
      "CRITICAL:root:EUC_12582_DESI-sel_other.fits: Flux in VIS data is empty, likely a SAS error\n",
      "CRITICAL:root:Error saving cutout for target EUC_12587_DESI-sel_other\n",
      "CRITICAL:root:EUC_12587_DESI-sel_other.fits: Flux in VIS data is empty, likely a SAS error\n",
      "CRITICAL:root:Error saving cutout for target EUC_12591_DESI-sel_other\n",
      "CRITICAL:root:EUC_12591_DESI-sel_other.fits: Flux in VIS data is empty, likely a SAS error\n",
      "CRITICAL:root:Error saving cutout for target EUC_12593_DESI-sel_other\n",
      "CRITICAL:root:EUC_12593_DESI-sel_other.fits: Flux in VIS data is empty, likely a SAS error\n",
      "CRITICAL:root:Error saving cutout for target EUC_12596_DESI-sel_other\n",
      "CRITICAL:root:EUC_12596_DESI-sel_other.fits: Flux in VIS data is empty, likely a SAS error\n",
      "CRITICAL:root:Error saving cutout for target EUC_12600_DESI-sel_other\n",
      "CRITICAL:root:EUC_12600_DESI-sel_other.fits: Flux in VIS data is empty, likely a SAS error\n",
      "CRITICAL:root:Error saving cutout for target EUC_12601_DESI-sel_other\n",
      "CRITICAL:root:EUC_12601_DESI-sel_other.fits: Flux in VIS data is empty, likely a SAS error\n",
      "CRITICAL:root:Error saving cutout for target EUC_12610_DESI-sel_other\n",
      "CRITICAL:root:EUC_12610_DESI-sel_other.fits: Flux in VIS data is empty, likely a SAS error\n",
      "CRITICAL:root:Error saving cutout for target EUC_12611_DESI-sel_other\n",
      "CRITICAL:root:EUC_12611_DESI-sel_other.fits: Flux in VIS data is empty, likely a SAS error\n",
      "CRITICAL:root:Error saving cutout for target EUC_12612_DESI-sel_other\n",
      "CRITICAL:root:EUC_12612_DESI-sel_other.fits: Flux in VIS data is empty, likely a SAS error\n",
      "CRITICAL:root:Error saving cutout for target EUC_12616_DESI-sel_other\n",
      "CRITICAL:root:EUC_12616_DESI-sel_other.fits: Flux in VIS data is empty, likely a SAS error\n",
      "CRITICAL:root:Error saving cutout for target EUC_12617_DESI-sel_other\n",
      "CRITICAL:root:EUC_12617_DESI-sel_other.fits: Flux in VIS data is empty, likely a SAS error\n",
      "CRITICAL:root:Error saving cutout for target EUC_12618_DESI-sel_other\n",
      "CRITICAL:root:EUC_12618_DESI-sel_other.fits: Flux in VIS data is empty, likely a SAS error\n",
      "CRITICAL:root:Error saving cutout for target EUC_12619_DESI-sel_other\n",
      "CRITICAL:root:EUC_12619_DESI-sel_other.fits: Flux in VIS data is empty, likely a SAS error\n",
      "CRITICAL:root:Error saving cutout for target EUC_12624_DESI-sel_other\n",
      "CRITICAL:root:EUC_12624_DESI-sel_other.fits: Flux in VIS data is empty, likely a SAS error\n",
      "CRITICAL:root:Error saving cutout for target EUC_12629_DESI-sel_other\n",
      "CRITICAL:root:EUC_12629_DESI-sel_other.fits: Flux in VIS data is empty, likely a SAS error\n",
      "CRITICAL:root:Error saving cutout for target EUC_12633_DESI-sel_other\n",
      "CRITICAL:root:EUC_12633_DESI-sel_other.fits: Flux in VIS data is empty, likely a SAS error\n",
      "CRITICAL:root:Error saving cutout for target EUC_12636_DESI-sel_other\n",
      "CRITICAL:root:EUC_12636_DESI-sel_other.fits: Flux in VIS data is empty, likely a SAS error\n",
      "CRITICAL:root:Error saving cutout for target EUC_12637_DESI-sel_other\n",
      "CRITICAL:root:EUC_12637_DESI-sel_other.fits: Flux in VIS data is empty, likely a SAS error\n",
      "CRITICAL:root:Error saving cutout for target EUC_12645_DESI-sel_other\n",
      "CRITICAL:root:EUC_12645_DESI-sel_other.fits: Flux in VIS data is empty, likely a SAS error\n",
      "CRITICAL:root:Error saving cutout for target EUC_12646_DESI-sel_other\n",
      "CRITICAL:root:EUC_12646_DESI-sel_other.fits: Flux in VIS data is empty, likely a SAS error\n",
      "CRITICAL:root:Error saving cutout for target EUC_12648_DESI-sel_other\n",
      "CRITICAL:root:EUC_12648_DESI-sel_other.fits: Flux in VIS data is empty, likely a SAS error\n",
      "INFO:root:Saved cutouts for all targets in tile 102157631\n",
      "INFO:root:Tile 102157955, 5 of 192\n",
      "INFO:astroquery:Query finished.\n",
      "INFO:root:Found 8 query results\n",
      "INFO:root:Downloading all data for tile 102157955\n"
     ]
    },
    {
     "name": "stdout",
     "output_type": "stream",
     "text": [
      "INFO: Query finished. [astroquery.utils.tap.core]\n"
     ]
    },
    {
     "name": "stderr",
     "output_type": "stream",
     "text": [
      "INFO:root:Downloaded all data for tile 102157955\n",
      "INFO:root:Loaded tile, ready to slice\n",
      "INFO:root:Cutout data sliced for band VIS\n",
      "INFO:root:Loaded tile, ready to slice\n",
      "INFO:root:Cutout data sliced for band NIR_Y\n",
      "INFO:root:Loaded tile, ready to slice\n",
      "INFO:root:Cutout data sliced for band NIR_J\n",
      "INFO:root:Loaded tile, ready to slice\n",
      "INFO:root:Cutout data sliced for band NIR_H\n",
      "INFO:root:Cutout data sliced for all bands, begin saving to disk\n",
      "CRITICAL:root:Error saving cutout for target EUC_13729_DESI-sel_other\n",
      "CRITICAL:root:EUC_13729_DESI-sel_other.fits: RMS in VIS data is empty, likely a SAS error\n",
      "INFO:root:Saved cutouts for all targets in tile 102157955\n",
      "INFO:root:Tile 102158274, 6 of 192\n",
      "INFO:astroquery:Query finished.\n",
      "INFO:root:Found 12 query results\n",
      "INFO:root:Downloading all data for tile 102158274\n"
     ]
    },
    {
     "name": "stdout",
     "output_type": "stream",
     "text": [
      "INFO: Query finished. [astroquery.utils.tap.core]\n"
     ]
    },
    {
     "name": "stderr",
     "output_type": "stream",
     "text": [
      "INFO:root:Downloaded all data for tile 102158274\n",
      "INFO:root:Loaded tile, ready to slice\n",
      "INFO:root:Cutout data sliced for band VIS\n",
      "INFO:root:Loaded tile, ready to slice\n",
      "INFO:root:Cutout data sliced for band NIR_Y\n",
      "INFO:root:Loaded tile, ready to slice\n",
      "INFO:root:Cutout data sliced for band NIR_J\n",
      "INFO:root:Loaded tile, ready to slice\n",
      "INFO:root:Cutout data sliced for band NIR_H\n",
      "INFO:root:Cutout data sliced for all bands, begin saving to disk\n",
      "INFO:root:Saved cutouts for all targets in tile 102158274\n",
      "INFO:root:Tile 102158275, 7 of 192\n",
      "INFO:astroquery:Query finished.\n",
      "INFO:root:Found 11 query results\n",
      "INFO:root:Downloading all data for tile 102158275\n"
     ]
    },
    {
     "name": "stdout",
     "output_type": "stream",
     "text": [
      "INFO: Query finished. [astroquery.utils.tap.core]\n"
     ]
    },
    {
     "name": "stderr",
     "output_type": "stream",
     "text": [
      "INFO:root:Downloaded all data for tile 102158275\n",
      "INFO:root:Loaded tile, ready to slice\n",
      "INFO:root:Cutout data sliced for band VIS\n",
      "INFO:root:Loaded tile, ready to slice\n",
      "INFO:root:Cutout data sliced for band NIR_Y\n",
      "INFO:root:Loaded tile, ready to slice\n",
      "INFO:root:Cutout data sliced for band NIR_J\n",
      "INFO:root:Loaded tile, ready to slice\n",
      "INFO:root:Cutout data sliced for band NIR_H\n",
      "INFO:root:Cutout data sliced for all bands, begin saving to disk\n",
      "INFO:root:Saved cutouts for all targets in tile 102158275\n",
      "INFO:root:Tile 102158583, 8 of 192\n",
      "INFO:astroquery:Query finished.\n",
      "INFO:root:Found 12 query results\n",
      "INFO:root:Downloading all data for tile 102158583\n"
     ]
    },
    {
     "name": "stdout",
     "output_type": "stream",
     "text": [
      "INFO: Query finished. [astroquery.utils.tap.core]\n"
     ]
    },
    {
     "name": "stderr",
     "output_type": "stream",
     "text": [
      "INFO:root:Downloaded all data for tile 102158583\n",
      "INFO:root:Loaded tile, ready to slice\n",
      "INFO:root:Cutout data sliced for band VIS\n",
      "INFO:root:Loaded tile, ready to slice\n",
      "INFO:root:Cutout data sliced for band NIR_Y\n",
      "INFO:root:Loaded tile, ready to slice\n",
      "INFO:root:Cutout data sliced for band NIR_J\n",
      "INFO:root:Loaded tile, ready to slice\n",
      "INFO:root:Cutout data sliced for band NIR_H\n",
      "INFO:root:Cutout data sliced for all bands, begin saving to disk\n",
      "INFO:root:Saved cutouts for all targets in tile 102158583\n",
      "INFO:root:Tile 102158586, 9 of 192\n",
      "INFO:astroquery:Query finished.\n",
      "INFO:root:Found 9 query results\n",
      "INFO:root:Downloading all data for tile 102158586\n"
     ]
    },
    {
     "name": "stdout",
     "output_type": "stream",
     "text": [
      "INFO: Query finished. [astroquery.utils.tap.core]\n"
     ]
    },
    {
     "name": "stderr",
     "output_type": "stream",
     "text": [
      "INFO:root:Downloaded all data for tile 102158586\n",
      "INFO:root:Loaded tile, ready to slice\n",
      "INFO:root:Cutout data sliced for band VIS\n",
      "INFO:root:Loaded tile, ready to slice\n",
      "INFO:root:Cutout data sliced for band NIR_Y\n",
      "INFO:root:Loaded tile, ready to slice\n",
      "INFO:root:Cutout data sliced for band NIR_J\n",
      "INFO:root:Loaded tile, ready to slice\n",
      "INFO:root:Cutout data sliced for band NIR_H\n",
      "INFO:root:Cutout data sliced for all bands, begin saving to disk\n",
      "CRITICAL:root:Error saving cutout for target EUC_15264_DESI-sel_spiral\n",
      "CRITICAL:root:EUC_15264_DESI-sel_spiral.fits: RMS in VIS data is empty, likely a SAS error\n",
      "INFO:root:Saved cutouts for all targets in tile 102158586\n",
      "INFO:root:Tile 102158891, 10 of 192\n",
      "INFO:astroquery:Query finished.\n",
      "INFO:root:Found 12 query results\n",
      "INFO:root:Downloading all data for tile 102158891\n"
     ]
    },
    {
     "name": "stdout",
     "output_type": "stream",
     "text": [
      "INFO: Query finished. [astroquery.utils.tap.core]\n"
     ]
    },
    {
     "name": "stderr",
     "output_type": "stream",
     "text": [
      "INFO:root:Downloaded all data for tile 102158891\n",
      "INFO:root:Loaded tile, ready to slice\n",
      "INFO:root:Cutout data sliced for band VIS\n",
      "INFO:root:Loaded tile, ready to slice\n",
      "INFO:root:Cutout data sliced for band NIR_Y\n",
      "INFO:root:Loaded tile, ready to slice\n",
      "INFO:root:Cutout data sliced for band NIR_J\n",
      "INFO:root:Loaded tile, ready to slice\n",
      "INFO:root:Cutout data sliced for band NIR_H\n",
      "INFO:root:Cutout data sliced for all bands, begin saving to disk\n",
      "INFO:root:Saved cutouts for all targets in tile 102158891\n",
      "INFO:root:Tile 102158587, 11 of 192\n",
      "INFO:astroquery:Query finished.\n",
      "INFO:root:Found 8 query results\n",
      "INFO:root:Downloading all data for tile 102158587\n"
     ]
    },
    {
     "name": "stdout",
     "output_type": "stream",
     "text": [
      "INFO: Query finished. [astroquery.utils.tap.core]\n"
     ]
    },
    {
     "name": "stderr",
     "output_type": "stream",
     "text": [
      "INFO:root:Downloaded all data for tile 102158587\n",
      "INFO:root:Loaded tile, ready to slice\n",
      "INFO:root:Cutout data sliced for band VIS\n",
      "INFO:root:Loaded tile, ready to slice\n",
      "INFO:root:Cutout data sliced for band NIR_Y\n",
      "INFO:root:Loaded tile, ready to slice\n",
      "INFO:root:Cutout data sliced for band NIR_J\n",
      "INFO:root:Loaded tile, ready to slice\n",
      "INFO:root:Cutout data sliced for band NIR_H\n",
      "INFO:root:Cutout data sliced for all bands, begin saving to disk\n",
      "INFO:root:Saved cutouts for all targets in tile 102158587\n",
      "INFO:root:Tile 102158894, 12 of 192\n",
      "INFO:astroquery:Query finished.\n",
      "INFO:root:Found 9 query results\n",
      "INFO:root:Downloading all data for tile 102158894\n"
     ]
    },
    {
     "name": "stdout",
     "output_type": "stream",
     "text": [
      "INFO: Query finished. [astroquery.utils.tap.core]\n"
     ]
    },
    {
     "name": "stderr",
     "output_type": "stream",
     "text": [
      "INFO:root:Downloaded all data for tile 102158894\n",
      "INFO:root:Loaded tile, ready to slice\n",
      "INFO:root:Cutout data sliced for band VIS\n",
      "INFO:root:Loaded tile, ready to slice\n",
      "INFO:root:Cutout data sliced for band NIR_Y\n",
      "INFO:root:Loaded tile, ready to slice\n",
      "INFO:root:Cutout data sliced for band NIR_J\n",
      "INFO:root:Loaded tile, ready to slice\n",
      "INFO:root:Cutout data sliced for band NIR_H\n",
      "INFO:root:Cutout data sliced for all bands, begin saving to disk\n",
      "INFO:root:Saved cutouts for all targets in tile 102158894\n",
      "INFO:root:Tile 102158888, 13 of 192\n",
      "INFO:astroquery:Query finished.\n",
      "INFO:root:Found 10 query results\n",
      "INFO:root:Downloading all data for tile 102158888\n"
     ]
    },
    {
     "name": "stdout",
     "output_type": "stream",
     "text": [
      "INFO: Query finished. [astroquery.utils.tap.core]\n"
     ]
    },
    {
     "name": "stderr",
     "output_type": "stream",
     "text": [
      "INFO:root:Downloaded all data for tile 102158888\n",
      "INFO:root:Loaded tile, ready to slice\n",
      "CRITICAL:root:Error downloading tile data and making cutouts for 102158888\n",
      "CRITICAL:root:Target 46 has negative pixel coordinates, likely a WCS error or target just outside tile: (array(-31.33649063), array(944.62218907))\n",
      "INFO:root:Tile 102158889, 14 of 192\n",
      "INFO:astroquery:Query finished.\n",
      "INFO:root:Found 12 query results\n",
      "INFO:root:Downloading all data for tile 102158889\n"
     ]
    },
    {
     "name": "stdout",
     "output_type": "stream",
     "text": [
      "INFO: Query finished. [astroquery.utils.tap.core]\n"
     ]
    },
    {
     "name": "stderr",
     "output_type": "stream",
     "text": [
      "INFO:root:Downloaded all data for tile 102158889\n",
      "INFO:root:Loaded tile, ready to slice\n",
      "INFO:root:Cutout data sliced for band VIS\n",
      "INFO:root:Loaded tile, ready to slice\n",
      "INFO:root:Cutout data sliced for band NIR_Y\n",
      "INFO:root:Loaded tile, ready to slice\n",
      "INFO:root:Cutout data sliced for band NIR_J\n",
      "INFO:root:Loaded tile, ready to slice\n",
      "INFO:root:Cutout data sliced for band NIR_H\n",
      "INFO:root:Cutout data sliced for all bands, begin saving to disk\n",
      "INFO:root:Saved cutouts for all targets in tile 102158889\n",
      "INFO:root:Tile 102159189, 15 of 192\n",
      "INFO:astroquery:Query finished.\n",
      "INFO:root:Found 9 query results\n",
      "INFO:root:Downloading all data for tile 102159189\n"
     ]
    },
    {
     "name": "stdout",
     "output_type": "stream",
     "text": [
      "INFO: Query finished. [astroquery.utils.tap.core]\n"
     ]
    },
    {
     "name": "stderr",
     "output_type": "stream",
     "text": [
      "INFO:root:Downloaded all data for tile 102159189\n",
      "INFO:root:Loaded tile, ready to slice\n",
      "INFO:root:Cutout data sliced for band VIS\n",
      "INFO:root:Loaded tile, ready to slice\n",
      "INFO:root:Cutout data sliced for band NIR_Y\n",
      "INFO:root:Loaded tile, ready to slice\n",
      "INFO:root:Cutout data sliced for band NIR_J\n",
      "INFO:root:Loaded tile, ready to slice\n",
      "INFO:root:Cutout data sliced for band NIR_H\n",
      "INFO:root:Cutout data sliced for all bands, begin saving to disk\n",
      "INFO:root:Saved cutouts for all targets in tile 102159189\n",
      "INFO:root:Tile 102159190, 16 of 192\n",
      "INFO:astroquery:Query finished.\n",
      "INFO:root:Found 12 query results\n",
      "INFO:root:Downloading all data for tile 102159190\n"
     ]
    },
    {
     "name": "stdout",
     "output_type": "stream",
     "text": [
      "INFO: Query finished. [astroquery.utils.tap.core]\n"
     ]
    },
    {
     "name": "stderr",
     "output_type": "stream",
     "text": [
      "INFO:root:Downloaded all data for tile 102159190\n",
      "INFO:root:Loaded tile, ready to slice\n",
      "INFO:root:Cutout data sliced for band VIS\n",
      "INFO:root:Loaded tile, ready to slice\n",
      "INFO:root:Cutout data sliced for band NIR_Y\n",
      "INFO:root:Loaded tile, ready to slice\n",
      "INFO:root:Cutout data sliced for band NIR_J\n",
      "INFO:root:Loaded tile, ready to slice\n",
      "INFO:root:Cutout data sliced for band NIR_H\n",
      "INFO:root:Cutout data sliced for all bands, begin saving to disk\n",
      "INFO:root:Saved cutouts for all targets in tile 102159190\n",
      "INFO:root:Tile 102159191, 17 of 192\n",
      "INFO:astroquery:Query finished.\n",
      "INFO:root:Found 10 query results\n",
      "INFO:root:Downloading all data for tile 102159191\n"
     ]
    },
    {
     "name": "stdout",
     "output_type": "stream",
     "text": [
      "INFO: Query finished. [astroquery.utils.tap.core]\n"
     ]
    },
    {
     "name": "stderr",
     "output_type": "stream",
     "text": [
      "INFO:root:Downloaded all data for tile 102159191\n",
      "INFO:root:Loaded tile, ready to slice\n",
      "INFO:root:Cutout data sliced for band VIS\n",
      "INFO:root:Loaded tile, ready to slice\n",
      "INFO:root:Cutout data sliced for band NIR_Y\n",
      "INFO:root:Loaded tile, ready to slice\n",
      "INFO:root:Cutout data sliced for band NIR_J\n",
      "INFO:root:Loaded tile, ready to slice\n",
      "INFO:root:Cutout data sliced for band NIR_H\n",
      "INFO:root:Cutout data sliced for all bands, begin saving to disk\n",
      "CRITICAL:root:Error saving cutout for target EUC_17518_DESI-sel\n",
      "CRITICAL:root:EUC_17518_DESI-sel.fits: RMS in VIS data is empty, likely a SAS error\n",
      "INFO:root:Saved cutouts for all targets in tile 102159191\n",
      "INFO:root:Tile 102159486, 18 of 192\n",
      "INFO:astroquery:Query finished.\n",
      "INFO:root:Found 9 query results\n",
      "INFO:root:Downloading all data for tile 102159486\n"
     ]
    },
    {
     "name": "stdout",
     "output_type": "stream",
     "text": [
      "INFO: Query finished. [astroquery.utils.tap.core]\n"
     ]
    },
    {
     "name": "stderr",
     "output_type": "stream",
     "text": [
      "INFO:root:Downloaded all data for tile 102159486\n",
      "INFO:root:Loaded tile, ready to slice\n",
      "INFO:root:Cutout data sliced for band VIS\n",
      "INFO:root:Loaded tile, ready to slice\n",
      "INFO:root:Cutout data sliced for band NIR_Y\n",
      "INFO:root:Loaded tile, ready to slice\n",
      "INFO:root:Cutout data sliced for band NIR_J\n",
      "INFO:root:Loaded tile, ready to slice\n",
      "INFO:root:Cutout data sliced for band NIR_H\n",
      "INFO:root:Cutout data sliced for all bands, begin saving to disk\n",
      "INFO:root:Saved cutouts for all targets in tile 102159486\n",
      "INFO:root:Tile 102159192, 19 of 192\n",
      "INFO:astroquery:Query finished.\n",
      "INFO:root:Found 9 query results\n",
      "INFO:root:Downloading all data for tile 102159192\n"
     ]
    },
    {
     "name": "stdout",
     "output_type": "stream",
     "text": [
      "INFO: Query finished. [astroquery.utils.tap.core]\n"
     ]
    },
    {
     "name": "stderr",
     "output_type": "stream",
     "text": [
      "INFO:root:Downloaded all data for tile 102159192\n",
      "INFO:root:Loaded tile, ready to slice\n",
      "INFO:root:Cutout data sliced for band VIS\n",
      "INFO:root:Loaded tile, ready to slice\n",
      "INFO:root:Cutout data sliced for band NIR_Y\n",
      "INFO:root:Loaded tile, ready to slice\n",
      "INFO:root:Cutout data sliced for band NIR_J\n",
      "INFO:root:Loaded tile, ready to slice\n",
      "INFO:root:Cutout data sliced for band NIR_H\n",
      "INFO:root:Cutout data sliced for all bands, begin saving to disk\n",
      "CRITICAL:root:Error saving cutout for target EUC_18516_DESI-sel\n",
      "CRITICAL:root:EUC_18516_DESI-sel.fits: RMS in VIS data is empty, likely a SAS error\n",
      "INFO:root:Saved cutouts for all targets in tile 102159192\n",
      "INFO:root:Tile 102159484, 20 of 192\n",
      "INFO:astroquery:Query finished.\n",
      "INFO:root:Found 9 query results\n",
      "INFO:root:Downloading all data for tile 102159484\n"
     ]
    },
    {
     "name": "stdout",
     "output_type": "stream",
     "text": [
      "INFO: Query finished. [astroquery.utils.tap.core]\n"
     ]
    },
    {
     "name": "stderr",
     "output_type": "stream",
     "text": [
      "INFO:root:Downloaded all data for tile 102159484\n",
      "INFO:root:Loaded tile, ready to slice\n",
      "INFO:root:Cutout data sliced for band VIS\n",
      "INFO:root:Loaded tile, ready to slice\n",
      "INFO:root:Cutout data sliced for band NIR_Y\n",
      "INFO:root:Loaded tile, ready to slice\n",
      "INFO:root:Cutout data sliced for band NIR_J\n",
      "INFO:root:Loaded tile, ready to slice\n",
      "INFO:root:Cutout data sliced for band NIR_H\n",
      "INFO:root:Cutout data sliced for all bands, begin saving to disk\n",
      "INFO:root:Saved cutouts for all targets in tile 102159484\n",
      "INFO:root:Tile 102159487, 21 of 192\n",
      "INFO:astroquery:Query finished.\n",
      "INFO:root:Found 11 query results\n",
      "INFO:root:Downloading all data for tile 102159487\n"
     ]
    },
    {
     "name": "stdout",
     "output_type": "stream",
     "text": [
      "INFO: Query finished. [astroquery.utils.tap.core]\n"
     ]
    },
    {
     "name": "stderr",
     "output_type": "stream",
     "text": [
      "INFO:root:Downloaded all data for tile 102159487\n",
      "INFO:root:Loaded tile, ready to slice\n",
      "INFO:root:Cutout data sliced for band VIS\n",
      "INFO:root:Loaded tile, ready to slice\n",
      "INFO:root:Cutout data sliced for band NIR_Y\n",
      "INFO:root:Loaded tile, ready to slice\n",
      "INFO:root:Cutout data sliced for band NIR_J\n",
      "INFO:root:Loaded tile, ready to slice\n",
      "INFO:root:Cutout data sliced for band NIR_H\n",
      "INFO:root:Cutout data sliced for all bands, begin saving to disk\n",
      "INFO:root:Saved cutouts for all targets in tile 102159487\n",
      "INFO:root:Tile 102159774, 22 of 192\n",
      "INFO:astroquery:Query finished.\n",
      "INFO:root:Found 12 query results\n",
      "INFO:root:Downloading all data for tile 102159774\n"
     ]
    },
    {
     "name": "stdout",
     "output_type": "stream",
     "text": [
      "INFO: Query finished. [astroquery.utils.tap.core]\n"
     ]
    },
    {
     "name": "stderr",
     "output_type": "stream",
     "text": [
      "INFO:root:Downloaded all data for tile 102159774\n",
      "INFO:root:Loaded tile, ready to slice\n",
      "INFO:root:Cutout data sliced for band VIS\n",
      "INFO:root:Loaded tile, ready to slice\n",
      "INFO:root:Cutout data sliced for band NIR_Y\n",
      "INFO:root:Loaded tile, ready to slice\n",
      "INFO:root:Cutout data sliced for band NIR_J\n",
      "INFO:root:Loaded tile, ready to slice\n",
      "INFO:root:Cutout data sliced for band NIR_H\n",
      "INFO:root:Cutout data sliced for all bands, begin saving to disk\n",
      "INFO:root:Saved cutouts for all targets in tile 102159774\n",
      "INFO:root:Tile 102159776, 23 of 192\n",
      "INFO:astroquery:Query finished.\n",
      "INFO:root:Found 9 query results\n",
      "INFO:root:Downloading all data for tile 102159776\n"
     ]
    },
    {
     "name": "stdout",
     "output_type": "stream",
     "text": [
      "INFO: Query finished. [astroquery.utils.tap.core]\n"
     ]
    },
    {
     "name": "stderr",
     "output_type": "stream",
     "text": [
      "INFO:root:Downloaded all data for tile 102159776\n",
      "INFO:root:Loaded tile, ready to slice\n",
      "INFO:root:Cutout data sliced for band VIS\n",
      "INFO:root:Loaded tile, ready to slice\n",
      "INFO:root:Cutout data sliced for band NIR_Y\n",
      "INFO:root:Loaded tile, ready to slice\n",
      "INFO:root:Cutout data sliced for band NIR_J\n",
      "INFO:root:Loaded tile, ready to slice\n",
      "INFO:root:Cutout data sliced for band NIR_H\n",
      "INFO:root:Cutout data sliced for all bands, begin saving to disk\n",
      "CRITICAL:root:Error saving cutout for target EUC_21567_DESI-sel\n",
      "CRITICAL:root:EUC_21567_DESI-sel.fits: RMS in VIS data is empty, likely a SAS error\n",
      "INFO:root:Saved cutouts for all targets in tile 102159776\n",
      "INFO:root:Tile 102160058, 24 of 192\n",
      "INFO:astroquery:Query finished.\n",
      "INFO:root:Found 8 query results\n",
      "INFO:root:Downloading all data for tile 102160058\n"
     ]
    },
    {
     "name": "stdout",
     "output_type": "stream",
     "text": [
      "INFO: Query finished. [astroquery.utils.tap.core]\n"
     ]
    },
    {
     "name": "stderr",
     "output_type": "stream",
     "text": [
      "INFO:root:Downloaded all data for tile 102160058\n",
      "INFO:root:Loaded tile, ready to slice\n",
      "INFO:root:Cutout data sliced for band VIS\n",
      "INFO:root:Loaded tile, ready to slice\n",
      "INFO:root:Cutout data sliced for band NIR_Y\n",
      "INFO:root:Loaded tile, ready to slice\n",
      "INFO:root:Cutout data sliced for band NIR_J\n",
      "INFO:root:Loaded tile, ready to slice\n",
      "INFO:root:Cutout data sliced for band NIR_H\n",
      "INFO:root:Cutout data sliced for all bands, begin saving to disk\n",
      "CRITICAL:root:Error saving cutout for target EUC_22003_DESI-sel\n",
      "CRITICAL:root:EUC_22003_DESI-sel.fits: RMS in VIS data is empty, likely a SAS error\n",
      "INFO:root:Saved cutouts for all targets in tile 102160058\n",
      "INFO:root:Tile 101542817, 25 of 192\n",
      "INFO:astroquery:Query finished.\n",
      "INFO:root:Found 4 query results\n",
      "INFO:root:Downloading all data for tile 101542817\n"
     ]
    },
    {
     "name": "stdout",
     "output_type": "stream",
     "text": [
      "INFO: Query finished. [astroquery.utils.tap.core]\n"
     ]
    },
    {
     "name": "stderr",
     "output_type": "stream",
     "text": [
      "INFO:root:Downloaded all data for tile 101542817\n",
      "INFO:root:Loaded tile, ready to slice\n",
      "INFO:root:Cutout data sliced for band VIS\n",
      "INFO:root:Loaded tile, ready to slice\n",
      "INFO:root:Cutout data sliced for band NIR_Y\n",
      "INFO:root:Loaded tile, ready to slice\n",
      "INFO:root:Cutout data sliced for band NIR_J\n",
      "INFO:root:Loaded tile, ready to slice\n",
      "INFO:root:Cutout data sliced for band NIR_H\n",
      "INFO:root:Cutout data sliced for all bands, begin saving to disk\n",
      "CRITICAL:root:Error saving cutout for target 1237651736280695294\n",
      "CRITICAL:root:1237651736280695294.fits: Flux in VIS data is empty, likely a SAS error\n",
      "CRITICAL:root:Error saving cutout for target EUC_3457_DESI-sel_spiral\n",
      "CRITICAL:root:EUC_3457_DESI-sel_spiral.fits: Flux in NIR_Y data is empty, likely a SAS error\n",
      "INFO:root:Saved cutouts for all targets in tile 101542817\n",
      "INFO:root:Tile 101545696, 26 of 192\n",
      "INFO:astroquery:Query finished.\n",
      "INFO:root:Found 4 query results\n",
      "INFO:root:Downloading all data for tile 101545696\n"
     ]
    },
    {
     "name": "stdout",
     "output_type": "stream",
     "text": [
      "INFO: Query finished. [astroquery.utils.tap.core]\n"
     ]
    },
    {
     "name": "stderr",
     "output_type": "stream",
     "text": [
      "INFO:root:Downloaded all data for tile 101545696\n",
      "INFO:root:Loaded tile, ready to slice\n",
      "INFO:root:Cutout data sliced for band VIS\n",
      "INFO:root:Loaded tile, ready to slice\n",
      "INFO:root:Cutout data sliced for band NIR_Y\n",
      "INFO:root:Loaded tile, ready to slice\n",
      "INFO:root:Cutout data sliced for band NIR_J\n",
      "INFO:root:Loaded tile, ready to slice\n",
      "INFO:root:Cutout data sliced for band NIR_H\n",
      "INFO:root:Cutout data sliced for all bands, begin saving to disk\n",
      "CRITICAL:root:Error saving cutout for target EUC_5041_DESI-sel_other\n",
      "CRITICAL:root:EUC_5041_DESI-sel_other.fits: Flux in NIR_Y data is empty, likely a SAS error\n",
      "INFO:root:Saved cutouts for all targets in tile 101545696\n",
      "INFO:root:Tile 101545699, 27 of 192\n",
      "INFO:astroquery:Query finished.\n",
      "INFO:root:Found 4 query results\n",
      "INFO:root:Downloading all data for tile 101545699\n"
     ]
    },
    {
     "name": "stdout",
     "output_type": "stream",
     "text": [
      "INFO: Query finished. [astroquery.utils.tap.core]\n"
     ]
    },
    {
     "name": "stderr",
     "output_type": "stream",
     "text": [
      "INFO:root:Downloaded all data for tile 101545699\n",
      "INFO:root:Loaded tile, ready to slice\n",
      "INFO:root:Cutout data sliced for band VIS\n",
      "INFO:root:Loaded tile, ready to slice\n",
      "INFO:root:Cutout data sliced for band NIR_Y\n",
      "INFO:root:Loaded tile, ready to slice\n",
      "INFO:root:Cutout data sliced for band NIR_J\n",
      "INFO:root:Loaded tile, ready to slice\n",
      "INFO:root:Cutout data sliced for band NIR_H\n",
      "INFO:root:Cutout data sliced for all bands, begin saving to disk\n",
      "CRITICAL:root:Error saving cutout for target 1237651754534371925\n",
      "CRITICAL:root:1237651754534371925.fits: Flux in VIS data is empty, likely a SAS error\n",
      "CRITICAL:root:Error saving cutout for target 1237651754534371957\n",
      "CRITICAL:root:1237651754534371957.fits: Flux in VIS data is empty, likely a SAS error\n",
      "CRITICAL:root:Error saving cutout for target 1237653665259126977\n",
      "CRITICAL:root:1237653665259126977.fits: Flux in VIS data is empty, likely a SAS error\n",
      "CRITICAL:root:Error saving cutout for target 1237653665259127011\n",
      "CRITICAL:root:1237653665259127011.fits: Flux in VIS data is empty, likely a SAS error\n",
      "CRITICAL:root:Error saving cutout for target 1237653665259127660\n",
      "CRITICAL:root:1237653665259127660.fits: Flux in VIS data is empty, likely a SAS error\n",
      "INFO:root:Saved cutouts for all targets in tile 101545699\n",
      "INFO:root:Tile 101547135, 28 of 192\n",
      "INFO:astroquery:Query finished.\n",
      "INFO:root:Found 4 query results\n",
      "INFO:root:Downloading all data for tile 101547135\n"
     ]
    },
    {
     "name": "stdout",
     "output_type": "stream",
     "text": [
      "INFO: Query finished. [astroquery.utils.tap.core]\n"
     ]
    },
    {
     "name": "stderr",
     "output_type": "stream",
     "text": [
      "INFO:root:Downloaded all data for tile 101547135\n",
      "INFO:root:Loaded tile, ready to slice\n",
      "INFO:root:Cutout data sliced for band VIS\n",
      "INFO:root:Loaded tile, ready to slice\n",
      "INFO:root:Cutout data sliced for band NIR_Y\n",
      "INFO:root:Loaded tile, ready to slice\n",
      "INFO:root:Cutout data sliced for band NIR_J\n",
      "INFO:root:Loaded tile, ready to slice\n",
      "INFO:root:Cutout data sliced for band NIR_H\n",
      "INFO:root:Cutout data sliced for all bands, begin saving to disk\n",
      "CRITICAL:root:Error saving cutout for target 1237653665795605166\n",
      "CRITICAL:root:1237653665795605166.fits: Flux in VIS data is empty, likely a SAS error\n",
      "CRITICAL:root:Error saving cutout for target 1237653665795670500\n",
      "CRITICAL:root:1237653665795670500.fits: Flux in VIS data is empty, likely a SAS error\n",
      "CRITICAL:root:Error saving cutout for target EUC_5883_DESI-sel_other\n",
      "CRITICAL:root:EUC_5883_DESI-sel_other.fits: Flux in NIR_Y data is empty, likely a SAS error\n",
      "INFO:root:Saved cutouts for all targets in tile 101547135\n",
      "INFO:root:Tile 101547137, 29 of 192\n",
      "INFO:astroquery:Query finished.\n",
      "INFO:root:Found 4 query results\n",
      "INFO:root:Downloading all data for tile 101547137\n"
     ]
    },
    {
     "name": "stdout",
     "output_type": "stream",
     "text": [
      "INFO: Query finished. [astroquery.utils.tap.core]\n"
     ]
    },
    {
     "name": "stderr",
     "output_type": "stream",
     "text": [
      "INFO:root:Downloaded all data for tile 101547137\n",
      "INFO:root:Loaded tile, ready to slice\n",
      "INFO:root:Cutout data sliced for band VIS\n",
      "INFO:root:Loaded tile, ready to slice\n",
      "INFO:root:Cutout data sliced for band NIR_Y\n",
      "INFO:root:Loaded tile, ready to slice\n",
      "INFO:root:Cutout data sliced for band NIR_J\n",
      "INFO:root:Loaded tile, ready to slice\n",
      "INFO:root:Cutout data sliced for band NIR_H\n",
      "INFO:root:Cutout data sliced for all bands, begin saving to disk\n",
      "CRITICAL:root:Error saving cutout for target 1237654599952892155\n",
      "CRITICAL:root:1237654599952892155.fits: Flux in VIS data is empty, likely a SAS error\n",
      "CRITICAL:root:Error saving cutout for target 1237654599952892193\n",
      "CRITICAL:root:1237654599952892193.fits: Flux in VIS data is empty, likely a SAS error\n",
      "CRITICAL:root:Error saving cutout for target EUC_6017_DESI-sel_spiral\n",
      "CRITICAL:root:EUC_6017_DESI-sel_spiral.fits: Flux in NIR_Y data is empty, likely a SAS error\n",
      "CRITICAL:root:Error saving cutout for target EUC_6076_DESI-sel_other\n",
      "CRITICAL:root:EUC_6076_DESI-sel_other.fits: Flux in NIR_Y data is empty, likely a SAS error\n",
      "CRITICAL:root:Error saving cutout for target EUC_6081_DESI-sel_other\n",
      "CRITICAL:root:EUC_6081_DESI-sel_other.fits: Flux in NIR_Y data is empty, likely a SAS error\n",
      "INFO:root:Saved cutouts for all targets in tile 101547137\n",
      "INFO:root:Tile 102157633, 30 of 192\n",
      "INFO:astroquery:Query finished.\n",
      "INFO:root:Found 10 query results\n",
      "INFO:root:Downloading all data for tile 102157633\n"
     ]
    },
    {
     "name": "stdout",
     "output_type": "stream",
     "text": [
      "INFO: Query finished. [astroquery.utils.tap.core]\n"
     ]
    },
    {
     "name": "stderr",
     "output_type": "stream",
     "text": [
      "INFO:root:Downloaded all data for tile 102157633\n",
      "INFO:root:Loaded tile, ready to slice\n",
      "INFO:root:Cutout data sliced for band VIS\n",
      "INFO:root:Loaded tile, ready to slice\n",
      "INFO:root:Cutout data sliced for band NIR_Y\n",
      "INFO:root:Loaded tile, ready to slice\n",
      "INFO:root:Cutout data sliced for band NIR_J\n",
      "INFO:root:Loaded tile, ready to slice\n",
      "INFO:root:Cutout data sliced for band NIR_H\n",
      "INFO:root:Cutout data sliced for all bands, begin saving to disk\n",
      "CRITICAL:root:Error saving cutout for target EUCLJ180007.48+631553.4\n",
      "CRITICAL:root:EUCLJ180007.48+631553.4.fits: Flux in VIS data is empty, likely a SAS error\n",
      "CRITICAL:root:Error saving cutout for target EUCLJ175730.54+632500.2\n",
      "CRITICAL:root:EUCLJ175730.54+632500.2.fits: Flux in VIS data is empty, likely a SAS error\n",
      "CRITICAL:root:Error saving cutout for target EUC_12111_DESI-sel\n",
      "CRITICAL:root:EUC_12111_DESI-sel.fits: Flux in VIS data is empty, likely a SAS error\n",
      "CRITICAL:root:Error saving cutout for target EUC_12827_DESI-sel\n",
      "CRITICAL:root:EUC_12827_DESI-sel.fits: Flux in VIS data is empty, likely a SAS error\n",
      "CRITICAL:root:Error saving cutout for target EUC_12772_DESI-sel\n",
      "CRITICAL:root:EUC_12772_DESI-sel.fits: Flux in VIS data is empty, likely a SAS error\n",
      "CRITICAL:root:Error saving cutout for target EUC_12809_DESI-sel\n",
      "CRITICAL:root:EUC_12809_DESI-sel.fits: Flux in VIS data is empty, likely a SAS error\n",
      "CRITICAL:root:Error saving cutout for target EUC_12797_DESI-sel\n",
      "CRITICAL:root:EUC_12797_DESI-sel.fits: Flux in VIS data is empty, likely a SAS error\n",
      "CRITICAL:root:Error saving cutout for target EUC_12143_DESI-sel\n",
      "CRITICAL:root:EUC_12143_DESI-sel.fits: Flux in VIS data is empty, likely a SAS error\n",
      "CRITICAL:root:Error saving cutout for target EUC_12853_DESI-sel\n",
      "CRITICAL:root:EUC_12853_DESI-sel.fits: Flux in VIS data is empty, likely a SAS error\n",
      "CRITICAL:root:Error saving cutout for target EUC_12835_DESI-sel\n",
      "CRITICAL:root:EUC_12835_DESI-sel.fits: Flux in VIS data is empty, likely a SAS error\n",
      "CRITICAL:root:Error saving cutout for target EUC_12830_DESI-sel\n",
      "CRITICAL:root:EUC_12830_DESI-sel.fits: Flux in NIR_J data is empty, likely a SAS error\n",
      "CRITICAL:root:Error saving cutout for target EUC_12184_DESI-sel\n",
      "CRITICAL:root:EUC_12184_DESI-sel.fits: Flux in VIS data is empty, likely a SAS error\n",
      "CRITICAL:root:Error saving cutout for target EUC_12200_DESI-sel\n",
      "CRITICAL:root:EUC_12200_DESI-sel.fits: Flux in VIS data is empty, likely a SAS error\n",
      "CRITICAL:root:Error saving cutout for target EUC_12164_DESI-sel\n",
      "CRITICAL:root:EUC_12164_DESI-sel.fits: Flux in VIS data is empty, likely a SAS error\n",
      "CRITICAL:root:Error saving cutout for target EUC_12152_DESI-sel\n",
      "CRITICAL:root:EUC_12152_DESI-sel.fits: Flux in VIS data is empty, likely a SAS error\n",
      "CRITICAL:root:Error saving cutout for target EUC_12225_DESI-sel\n",
      "CRITICAL:root:EUC_12225_DESI-sel.fits: Flux in VIS data is empty, likely a SAS error\n",
      "CRITICAL:root:Error saving cutout for target EUC_12211_DESI-sel\n",
      "CRITICAL:root:EUC_12211_DESI-sel.fits: Flux in VIS data is empty, likely a SAS error\n",
      "CRITICAL:root:Error saving cutout for target EUC_12183_DESI-sel\n",
      "CRITICAL:root:EUC_12183_DESI-sel.fits: Flux in VIS data is empty, likely a SAS error\n",
      "CRITICAL:root:Error saving cutout for target EUC_12170_DESI-sel\n",
      "CRITICAL:root:EUC_12170_DESI-sel.fits: Flux in VIS data is empty, likely a SAS error\n",
      "CRITICAL:root:Error saving cutout for target EUC_12146_DESI-sel\n",
      "CRITICAL:root:EUC_12146_DESI-sel.fits: Flux in VIS data is empty, likely a SAS error\n",
      "CRITICAL:root:Error saving cutout for target EUC_12140_DESI-sel\n",
      "CRITICAL:root:EUC_12140_DESI-sel.fits: Flux in VIS data is empty, likely a SAS error\n",
      "CRITICAL:root:Error saving cutout for target EUC_12223_DESI-sel\n",
      "CRITICAL:root:EUC_12223_DESI-sel.fits: Flux in VIS data is empty, likely a SAS error\n",
      "CRITICAL:root:Error saving cutout for target EUC_12209_DESI-sel\n",
      "CRITICAL:root:EUC_12209_DESI-sel.fits: Flux in VIS data is empty, likely a SAS error\n",
      "CRITICAL:root:Error saving cutout for target EUC_12171_DESI-sel\n",
      "CRITICAL:root:EUC_12171_DESI-sel.fits: Flux in VIS data is empty, likely a SAS error\n",
      "CRITICAL:root:Error saving cutout for target EUC_12771_DESI-sel\n",
      "CRITICAL:root:EUC_12771_DESI-sel.fits: Flux in VIS data is empty, likely a SAS error\n",
      "CRITICAL:root:Error saving cutout for target EUC_12165_DESI-sel\n",
      "CRITICAL:root:EUC_12165_DESI-sel.fits: Flux in VIS data is empty, likely a SAS error\n",
      "CRITICAL:root:Error saving cutout for target EUC_12160_DESI-sel\n",
      "CRITICAL:root:EUC_12160_DESI-sel.fits: Flux in VIS data is empty, likely a SAS error\n",
      "CRITICAL:root:Error saving cutout for target EUC_12114_DESI-sel\n",
      "CRITICAL:root:EUC_12114_DESI-sel.fits: Flux in VIS data is empty, likely a SAS error\n",
      "CRITICAL:root:Error saving cutout for target EUC_12156_DESI-sel\n",
      "CRITICAL:root:EUC_12156_DESI-sel.fits: Flux in VIS data is empty, likely a SAS error\n",
      "CRITICAL:root:Error saving cutout for target EUC_12810_DESI-sel\n",
      "CRITICAL:root:EUC_12810_DESI-sel.fits: Flux in VIS data is empty, likely a SAS error\n",
      "CRITICAL:root:Error saving cutout for target EUC_12870_DESI-sel\n",
      "CRITICAL:root:EUC_12870_DESI-sel.fits: Flux in VIS data is empty, likely a SAS error\n",
      "CRITICAL:root:Error saving cutout for target EUC_12121_DESI-sel_spiral\n",
      "CRITICAL:root:EUC_12121_DESI-sel_spiral.fits: Flux in VIS data is empty, likely a SAS error\n",
      "CRITICAL:root:Error saving cutout for target EUC_12124_DESI-sel_spiral\n",
      "CRITICAL:root:EUC_12124_DESI-sel_spiral.fits: Flux in VIS data is empty, likely a SAS error\n",
      "CRITICAL:root:Error saving cutout for target EUC_12125_DESI-sel_spiral\n",
      "CRITICAL:root:EUC_12125_DESI-sel_spiral.fits: Flux in VIS data is empty, likely a SAS error\n",
      "CRITICAL:root:Error saving cutout for target EUC_12128_DESI-sel_spiral\n",
      "CRITICAL:root:EUC_12128_DESI-sel_spiral.fits: Flux in VIS data is empty, likely a SAS error\n",
      "CRITICAL:root:Error saving cutout for target EUC_12133_DESI-sel_spiral\n",
      "CRITICAL:root:EUC_12133_DESI-sel_spiral.fits: Flux in VIS data is empty, likely a SAS error\n",
      "CRITICAL:root:Error saving cutout for target EUC_12137_DESI-sel_spiral\n",
      "CRITICAL:root:EUC_12137_DESI-sel_spiral.fits: Flux in VIS data is empty, likely a SAS error\n",
      "CRITICAL:root:Error saving cutout for target EUC_12155_DESI-sel_spiral\n",
      "CRITICAL:root:EUC_12155_DESI-sel_spiral.fits: Flux in VIS data is empty, likely a SAS error\n",
      "CRITICAL:root:Error saving cutout for target EUC_12161_DESI-sel_spiral\n",
      "CRITICAL:root:EUC_12161_DESI-sel_spiral.fits: Flux in VIS data is empty, likely a SAS error\n",
      "CRITICAL:root:Error saving cutout for target EUC_12167_DESI-sel_spiral\n",
      "CRITICAL:root:EUC_12167_DESI-sel_spiral.fits: Flux in VIS data is empty, likely a SAS error\n",
      "CRITICAL:root:Error saving cutout for target EUC_12175_DESI-sel_spiral\n",
      "CRITICAL:root:EUC_12175_DESI-sel_spiral.fits: Flux in VIS data is empty, likely a SAS error\n",
      "CRITICAL:root:Error saving cutout for target EUC_12178_DESI-sel_spiral\n",
      "CRITICAL:root:EUC_12178_DESI-sel_spiral.fits: Flux in VIS data is empty, likely a SAS error\n",
      "CRITICAL:root:Error saving cutout for target EUC_12186_DESI-sel_spiral\n",
      "CRITICAL:root:EUC_12186_DESI-sel_spiral.fits: Flux in VIS data is empty, likely a SAS error\n",
      "CRITICAL:root:Error saving cutout for target EUC_12196_DESI-sel_spiral\n",
      "CRITICAL:root:EUC_12196_DESI-sel_spiral.fits: Flux in VIS data is empty, likely a SAS error\n",
      "CRITICAL:root:Error saving cutout for target EUC_12204_DESI-sel_spiral\n",
      "CRITICAL:root:EUC_12204_DESI-sel_spiral.fits: Flux in VIS data is empty, likely a SAS error\n",
      "CRITICAL:root:Error saving cutout for target EUC_12213_DESI-sel_spiral\n",
      "CRITICAL:root:EUC_12213_DESI-sel_spiral.fits: Flux in VIS data is empty, likely a SAS error\n",
      "CRITICAL:root:Error saving cutout for target EUC_12774_DESI-sel_spiral\n",
      "CRITICAL:root:EUC_12774_DESI-sel_spiral.fits: Flux in VIS data is empty, likely a SAS error\n",
      "CRITICAL:root:Error saving cutout for target EUC_12781_DESI-sel_spiral\n",
      "CRITICAL:root:EUC_12781_DESI-sel_spiral.fits: Flux in VIS data is empty, likely a SAS error\n",
      "CRITICAL:root:Error saving cutout for target EUC_12783_DESI-sel_spiral\n",
      "CRITICAL:root:EUC_12783_DESI-sel_spiral.fits: Flux in VIS data is empty, likely a SAS error\n",
      "CRITICAL:root:Error saving cutout for target EUC_12795_DESI-sel_spiral\n",
      "CRITICAL:root:EUC_12795_DESI-sel_spiral.fits: Flux in VIS data is empty, likely a SAS error\n",
      "CRITICAL:root:Error saving cutout for target EUC_12798_DESI-sel_spiral\n",
      "CRITICAL:root:EUC_12798_DESI-sel_spiral.fits: Flux in VIS data is empty, likely a SAS error\n",
      "CRITICAL:root:Error saving cutout for target EUC_12806_DESI-sel_spiral\n",
      "CRITICAL:root:EUC_12806_DESI-sel_spiral.fits: Flux in VIS data is empty, likely a SAS error\n",
      "CRITICAL:root:Error saving cutout for target EUC_12811_DESI-sel_spiral\n",
      "CRITICAL:root:EUC_12811_DESI-sel_spiral.fits: Flux in VIS data is empty, likely a SAS error\n",
      "CRITICAL:root:Error saving cutout for target EUC_12818_DESI-sel_spiral\n",
      "CRITICAL:root:EUC_12818_DESI-sel_spiral.fits: Flux in VIS data is empty, likely a SAS error\n",
      "CRITICAL:root:Error saving cutout for target EUC_12819_DESI-sel_spiral\n",
      "CRITICAL:root:EUC_12819_DESI-sel_spiral.fits: Flux in VIS data is empty, likely a SAS error\n",
      "CRITICAL:root:Error saving cutout for target EUC_12821_DESI-sel_spiral\n",
      "CRITICAL:root:EUC_12821_DESI-sel_spiral.fits: Flux in VIS data is empty, likely a SAS error\n",
      "CRITICAL:root:Error saving cutout for target EUC_12832_DESI-sel_spiral\n",
      "CRITICAL:root:EUC_12832_DESI-sel_spiral.fits: Flux in VIS data is empty, likely a SAS error\n",
      "CRITICAL:root:Error saving cutout for target EUC_12841_DESI-sel_spiral\n",
      "CRITICAL:root:EUC_12841_DESI-sel_spiral.fits: Flux in VIS data is empty, likely a SAS error\n",
      "CRITICAL:root:Error saving cutout for target EUC_12845_DESI-sel_spiral\n",
      "CRITICAL:root:EUC_12845_DESI-sel_spiral.fits: Flux in VIS data is empty, likely a SAS error\n",
      "CRITICAL:root:Error saving cutout for target EUC_12846_DESI-sel_spiral\n",
      "CRITICAL:root:EUC_12846_DESI-sel_spiral.fits: Flux in VIS data is empty, likely a SAS error\n",
      "CRITICAL:root:Error saving cutout for target EUC_12852_DESI-sel_spiral\n",
      "CRITICAL:root:EUC_12852_DESI-sel_spiral.fits: Flux in VIS data is empty, likely a SAS error\n",
      "CRITICAL:root:Error saving cutout for target EUC_12856_DESI-sel_spiral\n",
      "CRITICAL:root:EUC_12856_DESI-sel_spiral.fits: Flux in VIS data is empty, likely a SAS error\n",
      "CRITICAL:root:Error saving cutout for target EUC_12857_DESI-sel_spiral\n",
      "CRITICAL:root:EUC_12857_DESI-sel_spiral.fits: Flux in NIR_J data is empty, likely a SAS error\n",
      "CRITICAL:root:Error saving cutout for target EUC_12864_DESI-sel_spiral\n",
      "CRITICAL:root:EUC_12864_DESI-sel_spiral.fits: Flux in VIS data is empty, likely a SAS error\n",
      "CRITICAL:root:Error saving cutout for target EUC_12865_DESI-sel_spiral\n",
      "CRITICAL:root:EUC_12865_DESI-sel_spiral.fits: Flux in VIS data is empty, likely a SAS error\n",
      "CRITICAL:root:Error saving cutout for target EUC_12868_DESI-sel_spiral\n",
      "CRITICAL:root:EUC_12868_DESI-sel_spiral.fits: Flux in VIS data is empty, likely a SAS error\n",
      "CRITICAL:root:Error saving cutout for target EUC_12169_DESI-sel_merger\n",
      "CRITICAL:root:EUC_12169_DESI-sel_merger.fits: Flux in VIS data is empty, likely a SAS error\n",
      "CRITICAL:root:Error saving cutout for target EUC_12222_DESI-sel_ring\n",
      "CRITICAL:root:EUC_12222_DESI-sel_ring.fits: Flux in VIS data is empty, likely a SAS error\n",
      "CRITICAL:root:Error saving cutout for target EUC_12854_DESI-sel_ring\n",
      "CRITICAL:root:EUC_12854_DESI-sel_ring.fits: Flux in VIS data is empty, likely a SAS error\n",
      "CRITICAL:root:Error saving cutout for target EUC_12114_DESI-sel_other\n",
      "CRITICAL:root:EUC_12114_DESI-sel_other.fits: Flux in VIS data is empty, likely a SAS error\n",
      "CRITICAL:root:Error saving cutout for target EUC_12115_DESI-sel_other\n",
      "CRITICAL:root:EUC_12115_DESI-sel_other.fits: Flux in VIS data is empty, likely a SAS error\n",
      "CRITICAL:root:Error saving cutout for target EUC_12122_DESI-sel_other\n",
      "CRITICAL:root:EUC_12122_DESI-sel_other.fits: Flux in VIS data is empty, likely a SAS error\n",
      "CRITICAL:root:Error saving cutout for target EUC_12129_DESI-sel_other\n",
      "CRITICAL:root:EUC_12129_DESI-sel_other.fits: Flux in VIS data is empty, likely a SAS error\n",
      "CRITICAL:root:Error saving cutout for target EUC_12130_DESI-sel_other\n",
      "CRITICAL:root:EUC_12130_DESI-sel_other.fits: Flux in VIS data is empty, likely a SAS error\n",
      "CRITICAL:root:Error saving cutout for target EUC_12132_DESI-sel_other\n",
      "CRITICAL:root:EUC_12132_DESI-sel_other.fits: Flux in VIS data is empty, likely a SAS error\n",
      "CRITICAL:root:Error saving cutout for target EUC_12135_DESI-sel_other\n",
      "CRITICAL:root:EUC_12135_DESI-sel_other.fits: Flux in VIS data is empty, likely a SAS error\n",
      "CRITICAL:root:Error saving cutout for target EUC_12142_DESI-sel_other\n",
      "CRITICAL:root:EUC_12142_DESI-sel_other.fits: Flux in VIS data is empty, likely a SAS error\n",
      "CRITICAL:root:Error saving cutout for target EUC_12146_DESI-sel_other\n",
      "CRITICAL:root:EUC_12146_DESI-sel_other.fits: Flux in VIS data is empty, likely a SAS error\n",
      "CRITICAL:root:Error saving cutout for target EUC_12148_DESI-sel_other\n",
      "CRITICAL:root:EUC_12148_DESI-sel_other.fits: Flux in VIS data is empty, likely a SAS error\n",
      "CRITICAL:root:Error saving cutout for target EUC_12149_DESI-sel_other\n",
      "CRITICAL:root:EUC_12149_DESI-sel_other.fits: Flux in VIS data is empty, likely a SAS error\n",
      "CRITICAL:root:Error saving cutout for target EUC_12160_DESI-sel_other\n",
      "CRITICAL:root:EUC_12160_DESI-sel_other.fits: Flux in VIS data is empty, likely a SAS error\n",
      "CRITICAL:root:Error saving cutout for target EUC_12165_DESI-sel_other\n",
      "CRITICAL:root:EUC_12165_DESI-sel_other.fits: Flux in VIS data is empty, likely a SAS error\n",
      "CRITICAL:root:Error saving cutout for target EUC_12171_DESI-sel_other\n",
      "CRITICAL:root:EUC_12171_DESI-sel_other.fits: Flux in VIS data is empty, likely a SAS error\n",
      "CRITICAL:root:Error saving cutout for target EUC_12177_DESI-sel_other\n",
      "CRITICAL:root:EUC_12177_DESI-sel_other.fits: Flux in VIS data is empty, likely a SAS error\n",
      "CRITICAL:root:Error saving cutout for target EUC_12187_DESI-sel_other\n",
      "CRITICAL:root:EUC_12187_DESI-sel_other.fits: Flux in VIS data is empty, likely a SAS error\n",
      "CRITICAL:root:Error saving cutout for target EUC_12188_DESI-sel_other\n",
      "CRITICAL:root:EUC_12188_DESI-sel_other.fits: Flux in VIS data is empty, likely a SAS error\n",
      "CRITICAL:root:Error saving cutout for target EUC_12189_DESI-sel_other\n",
      "CRITICAL:root:EUC_12189_DESI-sel_other.fits: Flux in VIS data is empty, likely a SAS error\n",
      "CRITICAL:root:Error saving cutout for target EUC_12203_DESI-sel_other\n",
      "CRITICAL:root:EUC_12203_DESI-sel_other.fits: Flux in VIS data is empty, likely a SAS error\n",
      "CRITICAL:root:Error saving cutout for target EUC_12205_DESI-sel_other\n",
      "CRITICAL:root:EUC_12205_DESI-sel_other.fits: Flux in VIS data is empty, likely a SAS error\n",
      "CRITICAL:root:Error saving cutout for target EUC_12209_DESI-sel_other\n",
      "CRITICAL:root:EUC_12209_DESI-sel_other.fits: Flux in VIS data is empty, likely a SAS error\n",
      "CRITICAL:root:Error saving cutout for target EUC_12210_DESI-sel_other\n",
      "CRITICAL:root:EUC_12210_DESI-sel_other.fits: Flux in VIS data is empty, likely a SAS error\n",
      "CRITICAL:root:Error saving cutout for target EUC_12219_DESI-sel_other\n",
      "CRITICAL:root:EUC_12219_DESI-sel_other.fits: Flux in VIS data is empty, likely a SAS error\n",
      "CRITICAL:root:Error saving cutout for target EUC_12226_DESI-sel_other\n",
      "CRITICAL:root:EUC_12226_DESI-sel_other.fits: Flux in VIS data is empty, likely a SAS error\n",
      "CRITICAL:root:Error saving cutout for target EUC_12773_DESI-sel_other\n",
      "CRITICAL:root:EUC_12773_DESI-sel_other.fits: Flux in VIS data is empty, likely a SAS error\n",
      "CRITICAL:root:Error saving cutout for target EUC_12776_DESI-sel_other\n",
      "CRITICAL:root:EUC_12776_DESI-sel_other.fits: Flux in VIS data is empty, likely a SAS error\n",
      "CRITICAL:root:Error saving cutout for target EUC_12780_DESI-sel_other\n",
      "CRITICAL:root:EUC_12780_DESI-sel_other.fits: Flux in VIS data is empty, likely a SAS error\n",
      "CRITICAL:root:Error saving cutout for target EUC_12782_DESI-sel_other\n",
      "CRITICAL:root:EUC_12782_DESI-sel_other.fits: Flux in VIS data is empty, likely a SAS error\n",
      "CRITICAL:root:Error saving cutout for target EUC_12792_DESI-sel_other\n",
      "CRITICAL:root:EUC_12792_DESI-sel_other.fits: Flux in VIS data is empty, likely a SAS error\n",
      "CRITICAL:root:Error saving cutout for target EUC_12796_DESI-sel_other\n",
      "CRITICAL:root:EUC_12796_DESI-sel_other.fits: Flux in VIS data is empty, likely a SAS error\n",
      "CRITICAL:root:Error saving cutout for target EUC_12799_DESI-sel_other\n",
      "CRITICAL:root:EUC_12799_DESI-sel_other.fits: Flux in VIS data is empty, likely a SAS error\n",
      "CRITICAL:root:Error saving cutout for target EUC_12800_DESI-sel_other\n",
      "CRITICAL:root:EUC_12800_DESI-sel_other.fits: Flux in NIR_J data is empty, likely a SAS error\n",
      "CRITICAL:root:Error saving cutout for target EUC_12805_DESI-sel_other\n",
      "CRITICAL:root:EUC_12805_DESI-sel_other.fits: Flux in VIS data is empty, likely a SAS error\n",
      "CRITICAL:root:Error saving cutout for target EUC_12807_DESI-sel_other\n",
      "CRITICAL:root:EUC_12807_DESI-sel_other.fits: Flux in VIS data is empty, likely a SAS error\n",
      "CRITICAL:root:Error saving cutout for target EUC_12812_DESI-sel_other\n",
      "CRITICAL:root:EUC_12812_DESI-sel_other.fits: Flux in VIS data is empty, likely a SAS error\n",
      "CRITICAL:root:Error saving cutout for target EUC_12822_DESI-sel_other\n",
      "CRITICAL:root:EUC_12822_DESI-sel_other.fits: Flux in VIS data is empty, likely a SAS error\n",
      "CRITICAL:root:Error saving cutout for target EUC_12831_DESI-sel_other\n",
      "CRITICAL:root:EUC_12831_DESI-sel_other.fits: Flux in VIS data is empty, likely a SAS error\n",
      "CRITICAL:root:Error saving cutout for target EUC_12843_DESI-sel_other\n",
      "CRITICAL:root:EUC_12843_DESI-sel_other.fits: Flux in VIS data is empty, likely a SAS error\n",
      "CRITICAL:root:Error saving cutout for target EUC_12851_DESI-sel_other\n",
      "CRITICAL:root:EUC_12851_DESI-sel_other.fits: Flux in VIS data is empty, likely a SAS error\n",
      "CRITICAL:root:Error saving cutout for target EUC_12870_DESI-sel_other\n",
      "CRITICAL:root:EUC_12870_DESI-sel_other.fits: Flux in VIS data is empty, likely a SAS error\n",
      "CRITICAL:root:Error saving cutout for target EUC_12872_DESI-sel_other\n",
      "CRITICAL:root:EUC_12872_DESI-sel_other.fits: Flux in VIS data is empty, likely a SAS error\n",
      "INFO:root:Saved cutouts for all targets in tile 102157633\n",
      "INFO:root:Tile 102157634, 31 of 192\n",
      "INFO:astroquery:Query finished.\n",
      "INFO:root:Found 10 query results\n",
      "INFO:root:Downloading all data for tile 102157634\n"
     ]
    },
    {
     "name": "stdout",
     "output_type": "stream",
     "text": [
      "INFO: Query finished. [astroquery.utils.tap.core]\n"
     ]
    },
    {
     "name": "stderr",
     "output_type": "stream",
     "text": [
      "INFO:root:Downloaded all data for tile 102157634\n",
      "INFO:root:Loaded tile, ready to slice\n",
      "INFO:root:Cutout data sliced for band VIS\n",
      "INFO:root:Loaded tile, ready to slice\n",
      "INFO:root:Cutout data sliced for band NIR_Y\n",
      "INFO:root:Loaded tile, ready to slice\n",
      "INFO:root:Cutout data sliced for band NIR_J\n",
      "INFO:root:Loaded tile, ready to slice\n",
      "INFO:root:Cutout data sliced for band NIR_H\n",
      "INFO:root:Cutout data sliced for all bands, begin saving to disk\n",
      "CRITICAL:root:Error saving cutout for target EUCLJ180330.53+631941.8\n",
      "CRITICAL:root:EUCLJ180330.53+631941.8.fits: Flux in VIS data is empty, likely a SAS error\n",
      "CRITICAL:root:Error saving cutout for target EUCLJ180239.20+632450.3\n",
      "CRITICAL:root:EUCLJ180239.20+632450.3.fits: Flux in VIS data is empty, likely a SAS error\n",
      "CRITICAL:root:Error saving cutout for target EUC_12996_DESI-sel\n",
      "CRITICAL:root:EUC_12996_DESI-sel.fits: Flux in VIS data is empty, likely a SAS error\n",
      "CRITICAL:root:Error saving cutout for target EUC_12894_DESI-sel\n",
      "CRITICAL:root:EUC_12894_DESI-sel.fits: Flux in VIS data is empty, likely a SAS error\n",
      "CRITICAL:root:Error saving cutout for target EUC_12240_DESI-sel\n",
      "CRITICAL:root:EUC_12240_DESI-sel.fits: Flux in VIS data is empty, likely a SAS error\n",
      "CRITICAL:root:Error saving cutout for target EUC_12279_DESI-sel\n",
      "CRITICAL:root:EUC_12279_DESI-sel.fits: Flux in VIS data is empty, likely a SAS error\n",
      "CRITICAL:root:Error saving cutout for target EUC_12261_DESI-sel\n",
      "CRITICAL:root:EUC_12261_DESI-sel.fits: Flux in VIS data is empty, likely a SAS error\n",
      "CRITICAL:root:Error saving cutout for target EUC_12233_DESI-sel\n",
      "CRITICAL:root:EUC_12233_DESI-sel.fits: Flux in VIS data is empty, likely a SAS error\n",
      "CRITICAL:root:Error saving cutout for target EUC_12956_DESI-sel\n",
      "CRITICAL:root:EUC_12956_DESI-sel.fits: Flux in VIS data is empty, likely a SAS error\n",
      "CRITICAL:root:Error saving cutout for target EUC_12911_DESI-sel\n",
      "CRITICAL:root:EUC_12911_DESI-sel.fits: Flux in VIS data is empty, likely a SAS error\n",
      "CRITICAL:root:Error saving cutout for target EUC_12296_DESI-sel\n",
      "CRITICAL:root:EUC_12296_DESI-sel.fits: Flux in VIS data is empty, likely a SAS error\n",
      "CRITICAL:root:Error saving cutout for target EUC_12904_DESI-sel\n",
      "CRITICAL:root:EUC_12904_DESI-sel.fits: Flux in VIS data is empty, likely a SAS error\n",
      "CRITICAL:root:Error saving cutout for target EUC_12929_DESI-sel\n",
      "CRITICAL:root:EUC_12929_DESI-sel.fits: Flux in VIS data is empty, likely a SAS error\n",
      "CRITICAL:root:Error saving cutout for target EUC_12278_DESI-sel\n",
      "CRITICAL:root:EUC_12278_DESI-sel.fits: Flux in VIS data is empty, likely a SAS error\n",
      "CRITICAL:root:Error saving cutout for target EUC_12244_DESI-sel\n",
      "CRITICAL:root:EUC_12244_DESI-sel.fits: Flux in VIS data is empty, likely a SAS error\n",
      "CRITICAL:root:Error saving cutout for target EUC_12282_DESI-sel\n",
      "CRITICAL:root:EUC_12282_DESI-sel.fits: Flux in VIS data is empty, likely a SAS error\n",
      "CRITICAL:root:Error saving cutout for target EUC_12288_DESI-sel\n",
      "CRITICAL:root:EUC_12288_DESI-sel.fits: Flux in VIS data is empty, likely a SAS error\n",
      "CRITICAL:root:Error saving cutout for target EUC_12998_DESI-sel\n",
      "CRITICAL:root:EUC_12998_DESI-sel.fits: Flux in VIS data is empty, likely a SAS error\n",
      "CRITICAL:root:Error saving cutout for target EUC_12955_DESI-sel\n",
      "CRITICAL:root:EUC_12955_DESI-sel.fits: Flux in VIS data is empty, likely a SAS error\n",
      "CRITICAL:root:Error saving cutout for target EUC_12952_DESI-sel\n",
      "CRITICAL:root:EUC_12952_DESI-sel.fits: Flux in VIS data is empty, likely a SAS error\n",
      "CRITICAL:root:Error saving cutout for target EUC_12940_DESI-sel\n",
      "CRITICAL:root:EUC_12940_DESI-sel.fits: Flux in VIS data is empty, likely a SAS error\n",
      "CRITICAL:root:Error saving cutout for target EUC_12914_DESI-sel\n",
      "CRITICAL:root:EUC_12914_DESI-sel.fits: Flux in VIS data is empty, likely a SAS error\n",
      "CRITICAL:root:Error saving cutout for target EUC_12902_DESI-sel\n",
      "CRITICAL:root:EUC_12902_DESI-sel.fits: Flux in VIS data is empty, likely a SAS error\n",
      "CRITICAL:root:Error saving cutout for target EUC_12980_DESI-sel\n",
      "CRITICAL:root:EUC_12980_DESI-sel.fits: Flux in VIS data is empty, likely a SAS error\n",
      "CRITICAL:root:Error saving cutout for target EUC_12997_DESI-sel\n",
      "CRITICAL:root:EUC_12997_DESI-sel.fits: Flux in NIR_H data is empty, likely a SAS error\n",
      "CRITICAL:root:Error saving cutout for target EUC_12319_DESI-sel\n",
      "CRITICAL:root:EUC_12319_DESI-sel.fits: Flux in VIS data is empty, likely a SAS error\n",
      "CRITICAL:root:Error saving cutout for target EUC_12325_DESI-sel\n",
      "CRITICAL:root:EUC_12325_DESI-sel.fits: Flux in VIS data is empty, likely a SAS error\n",
      "CRITICAL:root:Error saving cutout for target EUC_12352_DESI-sel\n",
      "CRITICAL:root:EUC_12352_DESI-sel.fits: Flux in VIS data is empty, likely a SAS error\n",
      "CRITICAL:root:Error saving cutout for target EUC_12942_DESI-sel\n",
      "CRITICAL:root:EUC_12942_DESI-sel.fits: Flux in VIS data is empty, likely a SAS error\n",
      "CRITICAL:root:Error saving cutout for target EUC_12943_DESI-sel\n",
      "CRITICAL:root:EUC_12943_DESI-sel.fits: Flux in VIS data is empty, likely a SAS error\n",
      "CRITICAL:root:Error saving cutout for target EUC_12982_DESI-sel\n",
      "CRITICAL:root:EUC_12982_DESI-sel.fits: Flux in VIS data is empty, likely a SAS error\n",
      "CRITICAL:root:Error saving cutout for target EUC_12241_DESI-sel_spiral\n",
      "CRITICAL:root:EUC_12241_DESI-sel_spiral.fits: Flux in VIS data is empty, likely a SAS error\n",
      "CRITICAL:root:Error saving cutout for target EUC_12242_DESI-sel_spiral\n",
      "CRITICAL:root:EUC_12242_DESI-sel_spiral.fits: Flux in VIS data is empty, likely a SAS error\n",
      "CRITICAL:root:Error saving cutout for target EUC_12253_DESI-sel_spiral\n",
      "CRITICAL:root:EUC_12253_DESI-sel_spiral.fits: Flux in VIS data is empty, likely a SAS error\n",
      "CRITICAL:root:Error saving cutout for target EUC_12255_DESI-sel_spiral\n",
      "CRITICAL:root:EUC_12255_DESI-sel_spiral.fits: Flux in VIS data is empty, likely a SAS error\n",
      "CRITICAL:root:Error saving cutout for target EUC_12264_DESI-sel_spiral\n",
      "CRITICAL:root:EUC_12264_DESI-sel_spiral.fits: Flux in VIS data is empty, likely a SAS error\n",
      "CRITICAL:root:Error saving cutout for target EUC_12266_DESI-sel_spiral\n",
      "CRITICAL:root:EUC_12266_DESI-sel_spiral.fits: Flux in VIS data is empty, likely a SAS error\n",
      "CRITICAL:root:Error saving cutout for target EUC_12268_DESI-sel_spiral\n",
      "CRITICAL:root:EUC_12268_DESI-sel_spiral.fits: Flux in VIS data is empty, likely a SAS error\n",
      "CRITICAL:root:Error saving cutout for target EUC_12272_DESI-sel_spiral\n",
      "CRITICAL:root:EUC_12272_DESI-sel_spiral.fits: Flux in VIS data is empty, likely a SAS error\n",
      "CRITICAL:root:Error saving cutout for target EUC_12280_DESI-sel_spiral\n",
      "CRITICAL:root:EUC_12280_DESI-sel_spiral.fits: Flux in VIS data is empty, likely a SAS error\n",
      "CRITICAL:root:Error saving cutout for target EUC_12293_DESI-sel_spiral\n",
      "CRITICAL:root:EUC_12293_DESI-sel_spiral.fits: Flux in VIS data is empty, likely a SAS error\n",
      "CRITICAL:root:Error saving cutout for target EUC_12300_DESI-sel_spiral\n",
      "CRITICAL:root:EUC_12300_DESI-sel_spiral.fits: Flux in VIS data is empty, likely a SAS error\n",
      "CRITICAL:root:Error saving cutout for target EUC_12313_DESI-sel_spiral\n",
      "CRITICAL:root:EUC_12313_DESI-sel_spiral.fits: Flux in VIS data is empty, likely a SAS error\n",
      "CRITICAL:root:Error saving cutout for target EUC_12318_DESI-sel_spiral\n",
      "CRITICAL:root:EUC_12318_DESI-sel_spiral.fits: Flux in VIS data is empty, likely a SAS error\n",
      "CRITICAL:root:Error saving cutout for target EUC_12327_DESI-sel_spiral\n",
      "CRITICAL:root:EUC_12327_DESI-sel_spiral.fits: Flux in VIS data is empty, likely a SAS error\n",
      "CRITICAL:root:Error saving cutout for target EUC_12875_DESI-sel_spiral\n",
      "CRITICAL:root:EUC_12875_DESI-sel_spiral.fits: Flux in VIS data is empty, likely a SAS error\n",
      "CRITICAL:root:Error saving cutout for target EUC_12882_DESI-sel_spiral\n",
      "CRITICAL:root:EUC_12882_DESI-sel_spiral.fits: Flux in VIS data is empty, likely a SAS error\n",
      "CRITICAL:root:Error saving cutout for target EUC_12885_DESI-sel_spiral\n",
      "CRITICAL:root:EUC_12885_DESI-sel_spiral.fits: Flux in VIS data is empty, likely a SAS error\n",
      "CRITICAL:root:Error saving cutout for target EUC_12891_DESI-sel_spiral\n",
      "CRITICAL:root:EUC_12891_DESI-sel_spiral.fits: Flux in NIR_H data is empty, likely a SAS error\n",
      "CRITICAL:root:Error saving cutout for target EUC_12905_DESI-sel_spiral\n",
      "CRITICAL:root:EUC_12905_DESI-sel_spiral.fits: Flux in VIS data is empty, likely a SAS error\n",
      "CRITICAL:root:Error saving cutout for target EUC_12913_DESI-sel_spiral\n",
      "CRITICAL:root:EUC_12913_DESI-sel_spiral.fits: Flux in VIS data is empty, likely a SAS error\n",
      "CRITICAL:root:Error saving cutout for target EUC_12917_DESI-sel_spiral\n",
      "CRITICAL:root:EUC_12917_DESI-sel_spiral.fits: Flux in VIS data is empty, likely a SAS error\n",
      "CRITICAL:root:Error saving cutout for target EUC_12932_DESI-sel_spiral\n",
      "CRITICAL:root:EUC_12932_DESI-sel_spiral.fits: Flux in VIS data is empty, likely a SAS error\n",
      "CRITICAL:root:Error saving cutout for target EUC_12938_DESI-sel_spiral\n",
      "CRITICAL:root:EUC_12938_DESI-sel_spiral.fits: Flux in VIS data is empty, likely a SAS error\n",
      "CRITICAL:root:Error saving cutout for target EUC_12941_DESI-sel_spiral\n",
      "CRITICAL:root:EUC_12941_DESI-sel_spiral.fits: Flux in VIS data is empty, likely a SAS error\n",
      "CRITICAL:root:Error saving cutout for target EUC_12951_DESI-sel_spiral\n",
      "CRITICAL:root:EUC_12951_DESI-sel_spiral.fits: Flux in VIS data is empty, likely a SAS error\n",
      "CRITICAL:root:Error saving cutout for target EUC_12958_DESI-sel_spiral\n",
      "CRITICAL:root:EUC_12958_DESI-sel_spiral.fits: Flux in VIS data is empty, likely a SAS error\n",
      "CRITICAL:root:Error saving cutout for target EUC_12983_DESI-sel_spiral\n",
      "CRITICAL:root:EUC_12983_DESI-sel_spiral.fits: Flux in NIR_H data is empty, likely a SAS error\n",
      "CRITICAL:root:Error saving cutout for target EUC_12985_DESI-sel_spiral\n",
      "CRITICAL:root:EUC_12985_DESI-sel_spiral.fits: Flux in VIS data is empty, likely a SAS error\n",
      "CRITICAL:root:Error saving cutout for target EUC_12999_DESI-sel_spiral\n",
      "CRITICAL:root:EUC_12999_DESI-sel_spiral.fits: Flux in VIS data is empty, likely a SAS error\n",
      "CRITICAL:root:Error saving cutout for target EUC_12880_DESI-sel_merger\n",
      "CRITICAL:root:EUC_12880_DESI-sel_merger.fits: Flux in VIS data is empty, likely a SAS error\n",
      "CRITICAL:root:Error saving cutout for target EUC_12910_DESI-sel_merger\n",
      "CRITICAL:root:EUC_12910_DESI-sel_merger.fits: Flux in VIS data is empty, likely a SAS error\n",
      "CRITICAL:root:Error saving cutout for target EUC_12230_DESI-sel_other\n",
      "CRITICAL:root:EUC_12230_DESI-sel_other.fits: Flux in VIS data is empty, likely a SAS error\n",
      "CRITICAL:root:Error saving cutout for target EUC_12232_DESI-sel_other\n",
      "CRITICAL:root:EUC_12232_DESI-sel_other.fits: Flux in VIS data is empty, likely a SAS error\n",
      "CRITICAL:root:Error saving cutout for target EUC_12239_DESI-sel_other\n",
      "CRITICAL:root:EUC_12239_DESI-sel_other.fits: Flux in VIS data is empty, likely a SAS error\n",
      "CRITICAL:root:Error saving cutout for target EUC_12258_DESI-sel_other\n",
      "CRITICAL:root:EUC_12258_DESI-sel_other.fits: Flux in VIS data is empty, likely a SAS error\n",
      "CRITICAL:root:Error saving cutout for target EUC_12260_DESI-sel_other\n",
      "CRITICAL:root:EUC_12260_DESI-sel_other.fits: Flux in VIS data is empty, likely a SAS error\n",
      "CRITICAL:root:Error saving cutout for target EUC_12263_DESI-sel_other\n",
      "CRITICAL:root:EUC_12263_DESI-sel_other.fits: Flux in VIS data is empty, likely a SAS error\n",
      "CRITICAL:root:Error saving cutout for target EUC_12277_DESI-sel_other\n",
      "CRITICAL:root:EUC_12277_DESI-sel_other.fits: Flux in VIS data is empty, likely a SAS error\n",
      "CRITICAL:root:Error saving cutout for target EUC_12278_DESI-sel_other\n",
      "CRITICAL:root:EUC_12278_DESI-sel_other.fits: Flux in VIS data is empty, likely a SAS error\n",
      "CRITICAL:root:Error saving cutout for target EUC_12282_DESI-sel_other\n",
      "CRITICAL:root:EUC_12282_DESI-sel_other.fits: Flux in VIS data is empty, likely a SAS error\n",
      "CRITICAL:root:Error saving cutout for target EUC_12288_DESI-sel_other\n",
      "CRITICAL:root:EUC_12288_DESI-sel_other.fits: Flux in VIS data is empty, likely a SAS error\n",
      "CRITICAL:root:Error saving cutout for target EUC_12302_DESI-sel_other\n",
      "CRITICAL:root:EUC_12302_DESI-sel_other.fits: Flux in VIS data is empty, likely a SAS error\n",
      "CRITICAL:root:Error saving cutout for target EUC_12322_DESI-sel_other\n",
      "CRITICAL:root:EUC_12322_DESI-sel_other.fits: Flux in VIS data is empty, likely a SAS error\n",
      "CRITICAL:root:Error saving cutout for target EUC_12334_DESI-sel_other\n",
      "CRITICAL:root:EUC_12334_DESI-sel_other.fits: Flux in VIS data is empty, likely a SAS error\n",
      "CRITICAL:root:Error saving cutout for target EUC_12335_DESI-sel_other\n",
      "CRITICAL:root:EUC_12335_DESI-sel_other.fits: Flux in VIS data is empty, likely a SAS error\n",
      "CRITICAL:root:Error saving cutout for target EUC_12341_DESI-sel_other\n",
      "CRITICAL:root:EUC_12341_DESI-sel_other.fits: Flux in VIS data is empty, likely a SAS error\n",
      "CRITICAL:root:Error saving cutout for target EUC_12354_DESI-sel_other\n",
      "CRITICAL:root:EUC_12354_DESI-sel_other.fits: Flux in VIS data is empty, likely a SAS error\n",
      "CRITICAL:root:Error saving cutout for target EUC_12356_DESI-sel_other\n",
      "CRITICAL:root:EUC_12356_DESI-sel_other.fits: Flux in VIS data is empty, likely a SAS error\n",
      "CRITICAL:root:Error saving cutout for target EUC_12881_DESI-sel_other\n",
      "CRITICAL:root:EUC_12881_DESI-sel_other.fits: Flux in VIS data is empty, likely a SAS error\n",
      "CRITICAL:root:Error saving cutout for target EUC_12883_DESI-sel_other\n",
      "CRITICAL:root:EUC_12883_DESI-sel_other.fits: Flux in VIS data is empty, likely a SAS error\n",
      "CRITICAL:root:Error saving cutout for target EUC_12887_DESI-sel_other\n",
      "CRITICAL:root:EUC_12887_DESI-sel_other.fits: Flux in VIS data is empty, likely a SAS error\n",
      "CRITICAL:root:Error saving cutout for target EUC_12899_DESI-sel_other\n",
      "CRITICAL:root:EUC_12899_DESI-sel_other.fits: Flux in VIS data is empty, likely a SAS error\n",
      "CRITICAL:root:Error saving cutout for target EUC_12904_DESI-sel_other\n",
      "CRITICAL:root:EUC_12904_DESI-sel_other.fits: Flux in VIS data is empty, likely a SAS error\n",
      "CRITICAL:root:Error saving cutout for target EUC_12919_DESI-sel_other\n",
      "CRITICAL:root:EUC_12919_DESI-sel_other.fits: Flux in VIS data is empty, likely a SAS error\n",
      "CRITICAL:root:Error saving cutout for target EUC_12921_DESI-sel_other\n",
      "CRITICAL:root:EUC_12921_DESI-sel_other.fits: Flux in VIS data is empty, likely a SAS error\n",
      "CRITICAL:root:Error saving cutout for target EUC_12927_DESI-sel_other\n",
      "CRITICAL:root:EUC_12927_DESI-sel_other.fits: Flux in NIR_H data is empty, likely a SAS error\n",
      "CRITICAL:root:Error saving cutout for target EUC_12937_DESI-sel_other\n",
      "CRITICAL:root:EUC_12937_DESI-sel_other.fits: Flux in VIS data is empty, likely a SAS error\n",
      "CRITICAL:root:Error saving cutout for target EUC_12940_DESI-sel_other\n",
      "CRITICAL:root:EUC_12940_DESI-sel_other.fits: Flux in VIS data is empty, likely a SAS error\n",
      "CRITICAL:root:Error saving cutout for target EUC_12943_DESI-sel_other\n",
      "CRITICAL:root:EUC_12943_DESI-sel_other.fits: Flux in VIS data is empty, likely a SAS error\n",
      "CRITICAL:root:Error saving cutout for target EUC_12966_DESI-sel_other\n",
      "CRITICAL:root:EUC_12966_DESI-sel_other.fits: Flux in VIS data is empty, likely a SAS error\n",
      "CRITICAL:root:Error saving cutout for target EUC_12968_DESI-sel_other\n",
      "CRITICAL:root:EUC_12968_DESI-sel_other.fits: Flux in VIS data is empty, likely a SAS error\n",
      "CRITICAL:root:Error saving cutout for target EUC_12971_DESI-sel_other\n",
      "CRITICAL:root:EUC_12971_DESI-sel_other.fits: Flux in VIS data is empty, likely a SAS error\n",
      "CRITICAL:root:Error saving cutout for target EUC_12973_DESI-sel_other\n",
      "CRITICAL:root:EUC_12973_DESI-sel_other.fits: Flux in VIS data is empty, likely a SAS error\n",
      "CRITICAL:root:Error saving cutout for target EUC_12978_DESI-sel_other\n",
      "CRITICAL:root:EUC_12978_DESI-sel_other.fits: Flux in VIS data is empty, likely a SAS error\n",
      "CRITICAL:root:Error saving cutout for target EUC_12987_DESI-sel_other\n",
      "CRITICAL:root:EUC_12987_DESI-sel_other.fits: Flux in VIS data is empty, likely a SAS error\n",
      "CRITICAL:root:Error saving cutout for target EUC_12990_DESI-sel_other\n",
      "CRITICAL:root:EUC_12990_DESI-sel_other.fits: Flux in VIS data is empty, likely a SAS error\n",
      "CRITICAL:root:Error saving cutout for target EUC_12992_DESI-sel_other\n",
      "CRITICAL:root:EUC_12992_DESI-sel_other.fits: Flux in VIS data is empty, likely a SAS error\n",
      "CRITICAL:root:Error saving cutout for target EUC_12993_DESI-sel_other\n",
      "CRITICAL:root:EUC_12993_DESI-sel_other.fits: Flux in VIS data is empty, likely a SAS error\n",
      "INFO:root:Saved cutouts for all targets in tile 102157634\n",
      "INFO:root:Tile 102157635, 32 of 192\n",
      "INFO:astroquery:Query finished.\n",
      "INFO:root:Found 10 query results\n",
      "INFO:root:Downloading all data for tile 102157635\n"
     ]
    },
    {
     "name": "stdout",
     "output_type": "stream",
     "text": [
      "INFO: Query finished. [astroquery.utils.tap.core]\n"
     ]
    },
    {
     "name": "stderr",
     "output_type": "stream",
     "text": [
      "INFO:root:Downloaded all data for tile 102157635\n",
      "INFO:root:Loaded tile, ready to slice\n",
      "INFO:root:Cutout data sliced for band VIS\n",
      "INFO:root:Loaded tile, ready to slice\n",
      "INFO:root:Cutout data sliced for band NIR_Y\n",
      "INFO:root:Loaded tile, ready to slice\n",
      "INFO:root:Cutout data sliced for band NIR_J\n",
      "INFO:root:Loaded tile, ready to slice\n",
      "INFO:root:Cutout data sliced for band NIR_H\n",
      "INFO:root:Cutout data sliced for all bands, begin saving to disk\n",
      "CRITICAL:root:Error saving cutout for target EUCLJ180855.87+632955.7\n",
      "CRITICAL:root:EUCLJ180855.87+632955.7.fits: Flux in VIS data is empty, likely a SAS error\n",
      "CRITICAL:root:Error saving cutout for target EUC_13018_DESI-sel\n",
      "CRITICAL:root:EUC_13018_DESI-sel.fits: Flux in NIR_Y data is empty, likely a SAS error\n",
      "CRITICAL:root:Error saving cutout for target EUC_13048_DESI-sel\n",
      "CRITICAL:root:EUC_13048_DESI-sel.fits: Flux in VIS data is empty, likely a SAS error\n",
      "CRITICAL:root:Error saving cutout for target EUC_13027_DESI-sel\n",
      "CRITICAL:root:EUC_13027_DESI-sel.fits: Flux in NIR_Y data is empty, likely a SAS error\n",
      "CRITICAL:root:Error saving cutout for target EUC_13083_DESI-sel\n",
      "CRITICAL:root:EUC_13083_DESI-sel.fits: Flux in VIS data is empty, likely a SAS error\n",
      "CRITICAL:root:Error saving cutout for target EUC_13684_DESI-sel\n",
      "CRITICAL:root:EUC_13684_DESI-sel.fits: Flux in NIR_Y data is empty, likely a SAS error\n",
      "CRITICAL:root:Error saving cutout for target EUC_13020_DESI-sel\n",
      "CRITICAL:root:EUC_13020_DESI-sel.fits: Flux in NIR_Y data is empty, likely a SAS error\n",
      "CRITICAL:root:Error saving cutout for target EUC_13061_DESI-sel\n",
      "CRITICAL:root:EUC_13061_DESI-sel.fits: Flux in VIS data is empty, likely a SAS error\n",
      "CRITICAL:root:Error saving cutout for target EUC_13039_DESI-sel\n",
      "CRITICAL:root:EUC_13039_DESI-sel.fits: Flux in VIS data is empty, likely a SAS error\n",
      "CRITICAL:root:Error saving cutout for target EUC_13078_DESI-sel\n",
      "CRITICAL:root:EUC_13078_DESI-sel.fits: Flux in NIR_Y data is empty, likely a SAS error\n",
      "CRITICAL:root:Error saving cutout for target EUC_13022_DESI-sel\n",
      "CRITICAL:root:EUC_13022_DESI-sel.fits: Flux in NIR_Y data is empty, likely a SAS error\n",
      "CRITICAL:root:Error saving cutout for target EUC_13080_DESI-sel\n",
      "CRITICAL:root:EUC_13080_DESI-sel.fits: Flux in NIR_H data is empty, likely a SAS error\n",
      "CRITICAL:root:Error saving cutout for target EUC_13081_DESI-sel\n",
      "CRITICAL:root:EUC_13081_DESI-sel.fits: Flux in VIS data is empty, likely a SAS error\n",
      "CRITICAL:root:Error saving cutout for target EUC_13077_DESI-sel\n",
      "CRITICAL:root:EUC_13077_DESI-sel.fits: Flux in NIR_H data is empty, likely a SAS error\n",
      "CRITICAL:root:Error saving cutout for target EUC_13026_DESI-sel\n",
      "CRITICAL:root:EUC_13026_DESI-sel.fits: Flux in NIR_Y data is empty, likely a SAS error\n",
      "CRITICAL:root:Error saving cutout for target EUC_13005_DESI-sel\n",
      "CRITICAL:root:EUC_13005_DESI-sel.fits: Flux in NIR_Y data is empty, likely a SAS error\n",
      "CRITICAL:root:Error saving cutout for target EUC_13009_DESI-sel\n",
      "CRITICAL:root:EUC_13009_DESI-sel.fits: Flux in NIR_Y data is empty, likely a SAS error\n",
      "CRITICAL:root:Error saving cutout for target EUC_13016_DESI-sel\n",
      "CRITICAL:root:EUC_13016_DESI-sel.fits: Flux in NIR_Y data is empty, likely a SAS error\n",
      "CRITICAL:root:Error saving cutout for target EUC_13002_DESI-sel\n",
      "CRITICAL:root:EUC_13002_DESI-sel.fits: Flux in NIR_Y data is empty, likely a SAS error\n",
      "CRITICAL:root:Error saving cutout for target EUC_13034_DESI-sel_spiral\n",
      "CRITICAL:root:EUC_13034_DESI-sel_spiral.fits: Flux in VIS data is empty, likely a SAS error\n",
      "CRITICAL:root:Error saving cutout for target EUC_13040_DESI-sel_spiral\n",
      "CRITICAL:root:EUC_13040_DESI-sel_spiral.fits: Flux in NIR_Y data is empty, likely a SAS error\n",
      "CRITICAL:root:Error saving cutout for target EUC_13046_DESI-sel_spiral\n",
      "CRITICAL:root:EUC_13046_DESI-sel_spiral.fits: Flux in VIS data is empty, likely a SAS error\n",
      "CRITICAL:root:Error saving cutout for target EUC_13047_DESI-sel_spiral\n",
      "CRITICAL:root:EUC_13047_DESI-sel_spiral.fits: Flux in VIS data is empty, likely a SAS error\n",
      "CRITICAL:root:Error saving cutout for target EUC_13073_DESI-sel_spiral\n",
      "CRITICAL:root:EUC_13073_DESI-sel_spiral.fits: Flux in NIR_H data is empty, likely a SAS error\n",
      "CRITICAL:root:Error saving cutout for target EUC_13681_DESI-sel_spiral\n",
      "CRITICAL:root:EUC_13681_DESI-sel_spiral.fits: Flux in NIR_H data is empty, likely a SAS error\n",
      "CRITICAL:root:Error saving cutout for target EUC_13682_DESI-sel_spiral\n",
      "CRITICAL:root:EUC_13682_DESI-sel_spiral.fits: Flux in NIR_H data is empty, likely a SAS error\n",
      "CRITICAL:root:Error saving cutout for target EUC_13041_DESI-sel_merger\n",
      "CRITICAL:root:EUC_13041_DESI-sel_merger.fits: Flux in NIR_Y data is empty, likely a SAS error\n",
      "CRITICAL:root:Error saving cutout for target EUC_12381_DESI-sel_other\n",
      "CRITICAL:root:EUC_12381_DESI-sel_other.fits: Flux in NIR_Y data is empty, likely a SAS error\n",
      "CRITICAL:root:Error saving cutout for target EUC_13000_DESI-sel_other\n",
      "CRITICAL:root:EUC_13000_DESI-sel_other.fits: Flux in NIR_Y data is empty, likely a SAS error\n",
      "CRITICAL:root:Error saving cutout for target EUC_13001_DESI-sel_other\n",
      "CRITICAL:root:EUC_13001_DESI-sel_other.fits: Flux in NIR_Y data is empty, likely a SAS error\n",
      "CRITICAL:root:Error saving cutout for target EUC_13002_DESI-sel_other\n",
      "CRITICAL:root:EUC_13002_DESI-sel_other.fits: Flux in NIR_Y data is empty, likely a SAS error\n",
      "CRITICAL:root:Error saving cutout for target EUC_13005_DESI-sel_other\n",
      "CRITICAL:root:EUC_13005_DESI-sel_other.fits: Flux in NIR_Y data is empty, likely a SAS error\n",
      "CRITICAL:root:Error saving cutout for target EUC_13009_DESI-sel_other\n",
      "CRITICAL:root:EUC_13009_DESI-sel_other.fits: Flux in NIR_Y data is empty, likely a SAS error\n",
      "CRITICAL:root:Error saving cutout for target EUC_13016_DESI-sel_other\n",
      "CRITICAL:root:EUC_13016_DESI-sel_other.fits: Flux in NIR_Y data is empty, likely a SAS error\n",
      "CRITICAL:root:Error saving cutout for target EUC_13026_DESI-sel_other\n",
      "CRITICAL:root:EUC_13026_DESI-sel_other.fits: Flux in NIR_Y data is empty, likely a SAS error\n",
      "CRITICAL:root:Error saving cutout for target EUC_13031_DESI-sel_other\n",
      "CRITICAL:root:EUC_13031_DESI-sel_other.fits: Flux in NIR_Y data is empty, likely a SAS error\n",
      "CRITICAL:root:Error saving cutout for target EUC_13035_DESI-sel_other\n",
      "CRITICAL:root:EUC_13035_DESI-sel_other.fits: Flux in VIS data is empty, likely a SAS error\n",
      "CRITICAL:root:Error saving cutout for target EUC_13036_DESI-sel_other\n",
      "CRITICAL:root:EUC_13036_DESI-sel_other.fits: Flux in NIR_Y data is empty, likely a SAS error\n",
      "CRITICAL:root:Error saving cutout for target EUC_13045_DESI-sel_other\n",
      "CRITICAL:root:EUC_13045_DESI-sel_other.fits: Flux in VIS data is empty, likely a SAS error\n",
      "CRITICAL:root:Error saving cutout for target EUC_13051_DESI-sel_other\n",
      "CRITICAL:root:EUC_13051_DESI-sel_other.fits: Flux in VIS data is empty, likely a SAS error\n",
      "CRITICAL:root:Error saving cutout for target EUC_13052_DESI-sel_other\n",
      "CRITICAL:root:EUC_13052_DESI-sel_other.fits: Flux in VIS data is empty, likely a SAS error\n",
      "CRITICAL:root:Error saving cutout for target EUC_13063_DESI-sel_other\n",
      "CRITICAL:root:EUC_13063_DESI-sel_other.fits: Flux in VIS data is empty, likely a SAS error\n",
      "CRITICAL:root:Error saving cutout for target EUC_13065_DESI-sel_other\n",
      "CRITICAL:root:EUC_13065_DESI-sel_other.fits: Flux in VIS data is empty, likely a SAS error\n",
      "CRITICAL:root:Error saving cutout for target EUC_13077_DESI-sel_other\n",
      "CRITICAL:root:EUC_13077_DESI-sel_other.fits: Flux in NIR_H data is empty, likely a SAS error\n",
      "CRITICAL:root:Error saving cutout for target EUC_13078_DESI-sel_other\n",
      "CRITICAL:root:EUC_13078_DESI-sel_other.fits: Flux in NIR_Y data is empty, likely a SAS error\n",
      "CRITICAL:root:Error saving cutout for target EUC_13083_DESI-sel_other\n",
      "CRITICAL:root:EUC_13083_DESI-sel_other.fits: Flux in VIS data is empty, likely a SAS error\n",
      "CRITICAL:root:Error saving cutout for target EUC_13087_DESI-sel_other\n",
      "CRITICAL:root:EUC_13087_DESI-sel_other.fits: Flux in NIR_Y data is empty, likely a SAS error\n",
      "CRITICAL:root:Error saving cutout for target EUC_13089_DESI-sel_other\n",
      "CRITICAL:root:EUC_13089_DESI-sel_other.fits: Flux in NIR_Y data is empty, likely a SAS error\n",
      "CRITICAL:root:Error saving cutout for target EUC_13092_DESI-sel_other\n",
      "CRITICAL:root:EUC_13092_DESI-sel_other.fits: Flux in NIR_Y data is empty, likely a SAS error\n",
      "CRITICAL:root:Error saving cutout for target EUC_13683_DESI-sel_other\n",
      "CRITICAL:root:EUC_13683_DESI-sel_other.fits: Flux in NIR_Y data is empty, likely a SAS error\n",
      "INFO:root:Saved cutouts for all targets in tile 102157635\n",
      "INFO:root:Tile 102157954, 33 of 192\n",
      "INFO:astroquery:Query finished.\n",
      "INFO:root:Found 10 query results\n",
      "INFO:root:Downloading all data for tile 102157954\n"
     ]
    },
    {
     "name": "stdout",
     "output_type": "stream",
     "text": [
      "INFO: Query finished. [astroquery.utils.tap.core]\n"
     ]
    },
    {
     "name": "stderr",
     "output_type": "stream",
     "text": [
      "INFO:root:Downloaded all data for tile 102157954\n",
      "INFO:root:Loaded tile, ready to slice\n",
      "INFO:root:Cutout data sliced for band VIS\n",
      "INFO:root:Loaded tile, ready to slice\n",
      "INFO:root:Cutout data sliced for band NIR_Y\n",
      "INFO:root:Loaded tile, ready to slice\n",
      "INFO:root:Cutout data sliced for band NIR_J\n",
      "INFO:root:Loaded tile, ready to slice\n",
      "INFO:root:Cutout data sliced for band NIR_H\n",
      "INFO:root:Cutout data sliced for all bands, begin saving to disk\n",
      "INFO:root:Saved cutouts for all targets in tile 102157954\n",
      "INFO:root:Tile 102158272, 34 of 192\n",
      "INFO:astroquery:Query finished.\n",
      "INFO:root:Found 8 query results\n",
      "INFO:root:Downloading all data for tile 102158272\n"
     ]
    },
    {
     "name": "stdout",
     "output_type": "stream",
     "text": [
      "INFO: Query finished. [astroquery.utils.tap.core]\n"
     ]
    },
    {
     "name": "stderr",
     "output_type": "stream",
     "text": [
      "INFO:root:Downloaded all data for tile 102158272\n",
      "INFO:root:Loaded tile, ready to slice\n",
      "INFO:root:Cutout data sliced for band VIS\n",
      "INFO:root:Loaded tile, ready to slice\n",
      "INFO:root:Cutout data sliced for band NIR_Y\n",
      "INFO:root:Loaded tile, ready to slice\n",
      "INFO:root:Cutout data sliced for band NIR_J\n",
      "INFO:root:Loaded tile, ready to slice\n",
      "INFO:root:Cutout data sliced for band NIR_H\n",
      "INFO:root:Cutout data sliced for all bands, begin saving to disk\n",
      "INFO:root:Saved cutouts for all targets in tile 102158272\n",
      "INFO:root:Tile 102158585, 35 of 192\n",
      "INFO:astroquery:Query finished.\n",
      "INFO:root:Found 9 query results\n",
      "INFO:root:Downloading all data for tile 102158585\n"
     ]
    },
    {
     "name": "stdout",
     "output_type": "stream",
     "text": [
      "INFO: Query finished. [astroquery.utils.tap.core]\n"
     ]
    },
    {
     "name": "stderr",
     "output_type": "stream",
     "text": [
      "INFO:root:Downloaded all data for tile 102158585\n",
      "INFO:root:Loaded tile, ready to slice\n",
      "INFO:root:Cutout data sliced for band VIS\n",
      "INFO:root:Loaded tile, ready to slice\n",
      "INFO:root:Cutout data sliced for band NIR_Y\n",
      "INFO:root:Loaded tile, ready to slice\n",
      "INFO:root:Cutout data sliced for band NIR_J\n",
      "INFO:root:Loaded tile, ready to slice\n",
      "INFO:root:Cutout data sliced for band NIR_H\n",
      "INFO:root:Cutout data sliced for all bands, begin saving to disk\n",
      "INFO:root:Saved cutouts for all targets in tile 102158585\n",
      "INFO:root:Tile 102158890, 36 of 192\n",
      "INFO:astroquery:Query finished.\n",
      "INFO:root:Found 12 query results\n",
      "INFO:root:Downloading all data for tile 102158890\n"
     ]
    },
    {
     "name": "stdout",
     "output_type": "stream",
     "text": [
      "INFO: Query finished. [astroquery.utils.tap.core]\n"
     ]
    },
    {
     "name": "stderr",
     "output_type": "stream",
     "text": [
      "INFO:root:Downloaded all data for tile 102158890\n",
      "INFO:root:Loaded tile, ready to slice\n",
      "INFO:root:Cutout data sliced for band VIS\n",
      "INFO:root:Loaded tile, ready to slice\n",
      "INFO:root:Cutout data sliced for band NIR_Y\n",
      "INFO:root:Loaded tile, ready to slice\n",
      "INFO:root:Cutout data sliced for band NIR_J\n",
      "INFO:root:Loaded tile, ready to slice\n",
      "INFO:root:Cutout data sliced for band NIR_H\n",
      "INFO:root:Cutout data sliced for all bands, begin saving to disk\n",
      "CRITICAL:root:Error saving cutout for target EUC_16694_DESI-sel_spiral\n",
      "CRITICAL:root:EUC_16694_DESI-sel_spiral.fits: RMS in VIS data is empty, likely a SAS error\n",
      "CRITICAL:root:Error saving cutout for target EUC_16593_DESI-sel_other\n",
      "CRITICAL:root:EUC_16593_DESI-sel_other.fits: RMS in VIS data is empty, likely a SAS error\n",
      "INFO:root:Saved cutouts for all targets in tile 102158890\n",
      "INFO:root:Tile 102158892, 37 of 192\n",
      "INFO:astroquery:Query finished.\n",
      "INFO:root:Found 4 query results\n",
      "INFO:root:Downloading all data for tile 102158892\n"
     ]
    },
    {
     "name": "stdout",
     "output_type": "stream",
     "text": [
      "INFO: Query finished. [astroquery.utils.tap.core]\n"
     ]
    },
    {
     "name": "stderr",
     "output_type": "stream",
     "text": [
      "INFO:root:Downloaded all data for tile 102158892\n",
      "INFO:root:Loaded tile, ready to slice\n",
      "INFO:root:Cutout data sliced for band VIS\n",
      "INFO:root:Loaded tile, ready to slice\n",
      "INFO:root:Cutout data sliced for band NIR_Y\n",
      "INFO:root:Loaded tile, ready to slice\n",
      "INFO:root:Cutout data sliced for band NIR_J\n",
      "INFO:root:Loaded tile, ready to slice\n",
      "INFO:root:Cutout data sliced for band NIR_H\n",
      "INFO:root:Cutout data sliced for all bands, begin saving to disk\n",
      "INFO:root:Saved cutouts for all targets in tile 102158892\n",
      "INFO:root:Tile 102158893, 38 of 192\n",
      "INFO:astroquery:Query finished.\n",
      "INFO:root:Found 9 query results\n",
      "INFO:root:Downloading all data for tile 102158893\n"
     ]
    },
    {
     "name": "stdout",
     "output_type": "stream",
     "text": [
      "INFO: Query finished. [astroquery.utils.tap.core]\n"
     ]
    },
    {
     "name": "stderr",
     "output_type": "stream",
     "text": [
      "INFO:root:Downloaded all data for tile 102158893\n",
      "INFO:root:Loaded tile, ready to slice\n",
      "INFO:root:Cutout data sliced for band VIS\n",
      "INFO:root:Loaded tile, ready to slice\n",
      "INFO:root:Cutout data sliced for band NIR_Y\n",
      "INFO:root:Loaded tile, ready to slice\n",
      "INFO:root:Cutout data sliced for band NIR_J\n",
      "INFO:root:Loaded tile, ready to slice\n",
      "INFO:root:Cutout data sliced for band NIR_H\n",
      "INFO:root:Cutout data sliced for all bands, begin saving to disk\n",
      "CRITICAL:root:Error saving cutout for target EUC_16972_DESI-sel\n",
      "CRITICAL:root:EUC_16972_DESI-sel.fits: RMS in VIS data is empty, likely a SAS error\n",
      "INFO:root:Saved cutouts for all targets in tile 102158893\n",
      "INFO:root:Tile 102159194, 39 of 192\n",
      "INFO:astroquery:Query finished.\n",
      "INFO:root:Found 9 query results\n",
      "INFO:root:Downloading all data for tile 102159194\n"
     ]
    },
    {
     "name": "stdout",
     "output_type": "stream",
     "text": [
      "INFO: Query finished. [astroquery.utils.tap.core]\n"
     ]
    },
    {
     "name": "stderr",
     "output_type": "stream",
     "text": [
      "INFO:root:Downloaded all data for tile 102159194\n",
      "INFO:root:Loaded tile, ready to slice\n",
      "INFO:root:Cutout data sliced for band VIS\n",
      "INFO:root:Loaded tile, ready to slice\n",
      "INFO:root:Cutout data sliced for band NIR_Y\n",
      "INFO:root:Loaded tile, ready to slice\n",
      "INFO:root:Cutout data sliced for band NIR_J\n",
      "INFO:root:Loaded tile, ready to slice\n",
      "INFO:root:Cutout data sliced for band NIR_H\n",
      "INFO:root:Cutout data sliced for all bands, begin saving to disk\n",
      "CRITICAL:root:Error saving cutout for target EUC_18760_DESI-sel\n",
      "CRITICAL:root:EUC_18760_DESI-sel.fits: RMS in VIS data is empty, likely a SAS error\n",
      "INFO:root:Saved cutouts for all targets in tile 102159194\n",
      "INFO:root:Tile 102159485, 40 of 192\n",
      "INFO:astroquery:Query finished.\n",
      "INFO:root:Found 11 query results\n"
     ]
    },
    {
     "name": "stdout",
     "output_type": "stream",
     "text": [
      "INFO: Query finished. [astroquery.utils.tap.core]\n",
      "Retrieving data.\n",
      "Data request: TAPCLIENT=ASTROQUERY&RELEASE=sedm&FILE_NAME=EUC_MER_BGSUB-MOSAIC-NIR-H_TILE102159485-3059B5_20240408T222239.144062Z_00.00.fits&RETRIEVAL_TYPE=FILE\n",
      "------>https\n",
      "host = easotf.esac.esa.int:443\n",
      "context = /sas-dd/data\n",
      "Content-type = application/x-www-form-urlencoded\n",
      "200 \n",
      "Reading...\n"
     ]
    },
    {
     "name": "stderr",
     "output_type": "stream",
     "text": [
      "INFO:root:EUC_MER_BGSUB-MOSAIC-NIR-H_TILE102159485-3059B5_20240408T222239.144062Z_00.00.fits saved at /media/home/team_workspaces/Euclid-Consortium/data/strong_lensing/external_targets_pipeline/latest/tiles/EUC_MER_BGSUB-MOSAIC-NIR-H_TILE102159485-3059B5_20240408T222239.144062Z_00.00.fits\n"
     ]
    },
    {
     "name": "stdout",
     "output_type": "stream",
     "text": [
      "Done.\n",
      "Retrieving data.\n",
      "Data request: TAPCLIENT=ASTROQUERY&RELEASE=sedm&FILE_NAME=EUC_MER_BGSUB-MOSAIC-NIR-H_TILE102159485-DD5A8B_20240707T122937.880110Z_00.00.fits&RETRIEVAL_TYPE=FILE\n",
      "------>https\n",
      "host = easotf.esac.esa.int:443\n",
      "context = /sas-dd/data\n",
      "Content-type = application/x-www-form-urlencoded\n",
      "200 \n",
      "Reading...\n"
     ]
    },
    {
     "name": "stderr",
     "output_type": "stream",
     "text": [
      "INFO:root:EUC_MER_BGSUB-MOSAIC-NIR-H_TILE102159485-DD5A8B_20240707T122937.880110Z_00.00.fits saved at /media/home/team_workspaces/Euclid-Consortium/data/strong_lensing/external_targets_pipeline/latest/tiles/EUC_MER_BGSUB-MOSAIC-NIR-H_TILE102159485-DD5A8B_20240707T122937.880110Z_00.00.fits\n"
     ]
    },
    {
     "name": "stdout",
     "output_type": "stream",
     "text": [
      "Done.\n",
      "Retrieving data.\n",
      "Data request: TAPCLIENT=ASTROQUERY&RELEASE=sedm&FILE_NAME=EUC_MER_BGSUB-MOSAIC-NIR-H_TILE102159485-130C59_20240805T202400.213431Z_00.00.fits&RETRIEVAL_TYPE=FILE\n",
      "------>https\n",
      "host = easotf.esac.esa.int:443\n",
      "context = /sas-dd/data\n",
      "Content-type = application/x-www-form-urlencoded\n",
      "200 \n",
      "Reading...\n"
     ]
    },
    {
     "name": "stderr",
     "output_type": "stream",
     "text": [
      "INFO:root:EUC_MER_BGSUB-MOSAIC-NIR-H_TILE102159485-130C59_20240805T202400.213431Z_00.00.fits saved at /media/home/team_workspaces/Euclid-Consortium/data/strong_lensing/external_targets_pipeline/latest/tiles/EUC_MER_BGSUB-MOSAIC-NIR-H_TILE102159485-130C59_20240805T202400.213431Z_00.00.fits\n",
      "INFO:root:Downloading all data for tile 102159485\n"
     ]
    },
    {
     "name": "stdout",
     "output_type": "stream",
     "text": [
      "Done.\n",
      "Retrieving data.\n",
      "Data request: TAPCLIENT=ASTROQUERY&RELEASE=sedm&FILE_NAME=EUC_MER_CATALOG-PSF-NIR-H_TILE102159485-A943B_20240409T050821.142378Z_00.00.fits&RETRIEVAL_TYPE=FILE\n",
      "------>https\n",
      "host = easotf.esac.esa.int:443\n",
      "context = /sas-dd/data\n",
      "Content-type = application/x-www-form-urlencoded\n",
      "200 \n",
      "Reading...\n"
     ]
    },
    {
     "name": "stderr",
     "output_type": "stream",
     "text": [
      "INFO:root:EUC_MER_CATALOG-PSF-NIR-H_TILE102159485-A943B_20240409T050821.142378Z_00.00.fits saved at /media/home/team_workspaces/Euclid-Consortium/data/strong_lensing/external_targets_pipeline/latest/tiles/EUC_MER_CATALOG-PSF-NIR-H_TILE102159485-A943B_20240409T050821.142378Z_00.00.fits\n"
     ]
    },
    {
     "name": "stdout",
     "output_type": "stream",
     "text": [
      "Done.\n",
      "Retrieving data.\n",
      "Data request: TAPCLIENT=ASTROQUERY&RELEASE=sedm&FILE_NAME=EUC_MER_MOSAIC-NIR-H-RMS_TILE102159485-7B8448_20240408T215222.976246Z_00.00.fits&RETRIEVAL_TYPE=FILE\n",
      "------>https\n",
      "host = easotf.esac.esa.int:443\n",
      "context = /sas-dd/data\n",
      "Content-type = application/x-www-form-urlencoded\n",
      "200 \n",
      "Reading...\n"
     ]
    },
    {
     "name": "stderr",
     "output_type": "stream",
     "text": [
      "INFO:root:EUC_MER_MOSAIC-NIR-H-RMS_TILE102159485-7B8448_20240408T215222.976246Z_00.00.fits saved at /media/home/team_workspaces/Euclid-Consortium/data/strong_lensing/external_targets_pipeline/latest/tiles/EUC_MER_MOSAIC-NIR-H-RMS_TILE102159485-7B8448_20240408T215222.976246Z_00.00.fits\n"
     ]
    },
    {
     "name": "stdout",
     "output_type": "stream",
     "text": [
      "Done.\n",
      "Retrieving data.\n",
      "Data request: TAPCLIENT=ASTROQUERY&RELEASE=sedm&FILE_NAME=EUC_MER_CATALOG-PSF-NIR-H_TILE102159485-A4DA45_20240707T183709.966453Z_00.00.fits&RETRIEVAL_TYPE=FILE\n",
      "------>https\n",
      "host = easotf.esac.esa.int:443\n",
      "context = /sas-dd/data\n",
      "Content-type = application/x-www-form-urlencoded\n",
      "200 \n",
      "Reading...\n"
     ]
    },
    {
     "name": "stderr",
     "output_type": "stream",
     "text": [
      "INFO:root:EUC_MER_CATALOG-PSF-NIR-H_TILE102159485-A4DA45_20240707T183709.966453Z_00.00.fits saved at /media/home/team_workspaces/Euclid-Consortium/data/strong_lensing/external_targets_pipeline/latest/tiles/EUC_MER_CATALOG-PSF-NIR-H_TILE102159485-A4DA45_20240707T183709.966453Z_00.00.fits\n"
     ]
    },
    {
     "name": "stdout",
     "output_type": "stream",
     "text": [
      "Done.\n",
      "Retrieving data.\n",
      "Data request: TAPCLIENT=ASTROQUERY&RELEASE=sedm&FILE_NAME=EUC_MER_MOSAIC-NIR-H-RMS_TILE102159485-FDD694_20240707T120341.945012Z_00.00.fits&RETRIEVAL_TYPE=FILE\n",
      "------>https\n",
      "host = easotf.esac.esa.int:443\n",
      "context = /sas-dd/data\n",
      "Content-type = application/x-www-form-urlencoded\n",
      "200 \n",
      "Reading...\n"
     ]
    },
    {
     "name": "stderr",
     "output_type": "stream",
     "text": [
      "INFO:root:EUC_MER_MOSAIC-NIR-H-RMS_TILE102159485-FDD694_20240707T120341.945012Z_00.00.fits saved at /media/home/team_workspaces/Euclid-Consortium/data/strong_lensing/external_targets_pipeline/latest/tiles/EUC_MER_MOSAIC-NIR-H-RMS_TILE102159485-FDD694_20240707T120341.945012Z_00.00.fits\n"
     ]
    },
    {
     "name": "stdout",
     "output_type": "stream",
     "text": [
      "Done.\n",
      "Retrieving data.\n",
      "Data request: TAPCLIENT=ASTROQUERY&RELEASE=sedm&FILE_NAME=EUC_MER_CATALOG-PSF-NIR-H_TILE102159485-DDEEDB_20240806T062358.688418Z_00.00.fits&RETRIEVAL_TYPE=FILE\n",
      "------>https\n",
      "host = easotf.esac.esa.int:443\n",
      "context = /sas-dd/data\n",
      "Content-type = application/x-www-form-urlencoded\n",
      "200 \n",
      "Reading...\n"
     ]
    },
    {
     "name": "stderr",
     "output_type": "stream",
     "text": [
      "INFO:root:EUC_MER_CATALOG-PSF-NIR-H_TILE102159485-DDEEDB_20240806T062358.688418Z_00.00.fits saved at /media/home/team_workspaces/Euclid-Consortium/data/strong_lensing/external_targets_pipeline/latest/tiles/EUC_MER_CATALOG-PSF-NIR-H_TILE102159485-DDEEDB_20240806T062358.688418Z_00.00.fits\n"
     ]
    },
    {
     "name": "stdout",
     "output_type": "stream",
     "text": [
      "Done.\n",
      "Retrieving data.\n",
      "Data request: TAPCLIENT=ASTROQUERY&RELEASE=sedm&FILE_NAME=EUC_MER_MOSAIC-NIR-H-RMS_TILE102159485-9BB424_20240805T194549.374567Z_00.00.fits&RETRIEVAL_TYPE=FILE\n",
      "------>https\n",
      "host = easotf.esac.esa.int:443\n",
      "context = /sas-dd/data\n",
      "Content-type = application/x-www-form-urlencoded\n",
      "200 \n",
      "Reading...\n"
     ]
    },
    {
     "name": "stderr",
     "output_type": "stream",
     "text": [
      "INFO:root:EUC_MER_MOSAIC-NIR-H-RMS_TILE102159485-9BB424_20240805T194549.374567Z_00.00.fits saved at /media/home/team_workspaces/Euclid-Consortium/data/strong_lensing/external_targets_pipeline/latest/tiles/EUC_MER_MOSAIC-NIR-H-RMS_TILE102159485-9BB424_20240805T194549.374567Z_00.00.fits\n",
      "INFO:root:Downloaded all data for tile 102159485\n"
     ]
    },
    {
     "name": "stdout",
     "output_type": "stream",
     "text": [
      "Done.\n"
     ]
    },
    {
     "name": "stderr",
     "output_type": "stream",
     "text": [
      "INFO:root:Loaded tile, ready to slice\n",
      "INFO:root:Cutout data sliced for band VIS\n",
      "INFO:root:Loaded tile, ready to slice\n",
      "INFO:root:Cutout data sliced for band NIR_Y\n",
      "INFO:root:Loaded tile, ready to slice\n",
      "INFO:root:Cutout data sliced for band NIR_J\n",
      "INFO:root:Loaded tile, ready to slice\n",
      "INFO:root:Cutout data sliced for band NIR_H\n",
      "INFO:root:Cutout data sliced for all bands, begin saving to disk\n",
      "INFO:root:Saved cutouts for all targets in tile 102159485\n",
      "INFO:root:Tile 102159488, 41 of 192\n",
      "INFO:astroquery:Query finished.\n",
      "INFO:root:Found 8 query results\n"
     ]
    },
    {
     "name": "stdout",
     "output_type": "stream",
     "text": [
      "INFO: Query finished. [astroquery.utils.tap.core]\n",
      "Retrieving data.\n",
      "Data request: TAPCLIENT=ASTROQUERY&RELEASE=sedm&FILE_NAME=EUC_MER_BGSUB-MOSAIC-NIR-H_TILE102159488-E81F2D_20240707T125458.745203Z_00.00.fits&RETRIEVAL_TYPE=FILE\n",
      "------>https\n",
      "host = easotf.esac.esa.int:443\n",
      "context = /sas-dd/data\n",
      "Content-type = application/x-www-form-urlencoded\n",
      "200 \n",
      "Reading...\n"
     ]
    },
    {
     "name": "stderr",
     "output_type": "stream",
     "text": [
      "INFO:root:EUC_MER_BGSUB-MOSAIC-NIR-H_TILE102159488-E81F2D_20240707T125458.745203Z_00.00.fits saved at /media/home/team_workspaces/Euclid-Consortium/data/strong_lensing/external_targets_pipeline/latest/tiles/EUC_MER_BGSUB-MOSAIC-NIR-H_TILE102159488-E81F2D_20240707T125458.745203Z_00.00.fits\n"
     ]
    },
    {
     "name": "stdout",
     "output_type": "stream",
     "text": [
      "Done.\n",
      "Retrieving data.\n",
      "Data request: TAPCLIENT=ASTROQUERY&RELEASE=sedm&FILE_NAME=EUC_MER_BGSUB-MOSAIC-NIR-H_TILE102159488-F030A1_20240408T225917.278195Z_00.00.fits&RETRIEVAL_TYPE=FILE\n",
      "------>https\n",
      "host = easotf.esac.esa.int:443\n",
      "context = /sas-dd/data\n",
      "Content-type = application/x-www-form-urlencoded\n",
      "200 \n",
      "Reading...\n",
      "Done.\n"
     ]
    },
    {
     "name": "stderr",
     "output_type": "stream",
     "text": [
      "INFO:root:EUC_MER_BGSUB-MOSAIC-NIR-H_TILE102159488-F030A1_20240408T225917.278195Z_00.00.fits saved at /media/home/team_workspaces/Euclid-Consortium/data/strong_lensing/external_targets_pipeline/latest/tiles/EUC_MER_BGSUB-MOSAIC-NIR-H_TILE102159488-F030A1_20240408T225917.278195Z_00.00.fits\n",
      "INFO:root:Downloading all data for tile 102159488\n"
     ]
    },
    {
     "name": "stdout",
     "output_type": "stream",
     "text": [
      "Retrieving data.\n",
      "Data request: TAPCLIENT=ASTROQUERY&RELEASE=sedm&FILE_NAME=EUC_MER_CATALOG-PSF-NIR-H_TILE102159488-A9F3E_20240707T190826.392333Z_00.00.fits&RETRIEVAL_TYPE=FILE\n",
      "------>https\n",
      "host = easotf.esac.esa.int:443\n",
      "context = /sas-dd/data\n",
      "Content-type = application/x-www-form-urlencoded\n",
      "200 \n",
      "Reading...\n"
     ]
    },
    {
     "name": "stderr",
     "output_type": "stream",
     "text": [
      "INFO:root:EUC_MER_CATALOG-PSF-NIR-H_TILE102159488-A9F3E_20240707T190826.392333Z_00.00.fits saved at /media/home/team_workspaces/Euclid-Consortium/data/strong_lensing/external_targets_pipeline/latest/tiles/EUC_MER_CATALOG-PSF-NIR-H_TILE102159488-A9F3E_20240707T190826.392333Z_00.00.fits\n"
     ]
    },
    {
     "name": "stdout",
     "output_type": "stream",
     "text": [
      "Done.\n",
      "Retrieving data.\n",
      "Data request: TAPCLIENT=ASTROQUERY&RELEASE=sedm&FILE_NAME=EUC_MER_MOSAIC-NIR-H-RMS_TILE102159488-9452BB_20240707T122725.076438Z_00.00.fits&RETRIEVAL_TYPE=FILE\n",
      "------>https\n",
      "host = easotf.esac.esa.int:443\n",
      "context = /sas-dd/data\n",
      "Content-type = application/x-www-form-urlencoded\n",
      "200 \n",
      "Reading...\n",
      "Done.\n"
     ]
    },
    {
     "name": "stderr",
     "output_type": "stream",
     "text": [
      "INFO:root:EUC_MER_MOSAIC-NIR-H-RMS_TILE102159488-9452BB_20240707T122725.076438Z_00.00.fits saved at /media/home/team_workspaces/Euclid-Consortium/data/strong_lensing/external_targets_pipeline/latest/tiles/EUC_MER_MOSAIC-NIR-H-RMS_TILE102159488-9452BB_20240707T122725.076438Z_00.00.fits\n"
     ]
    },
    {
     "name": "stdout",
     "output_type": "stream",
     "text": [
      "Retrieving data.\n",
      "Data request: TAPCLIENT=ASTROQUERY&RELEASE=sedm&FILE_NAME=EUC_MER_CATALOG-PSF-NIR-H_TILE102159488-636DFA_20240409T060941.903119Z_00.00.fits&RETRIEVAL_TYPE=FILE\n",
      "------>https\n",
      "host = easotf.esac.esa.int:443\n",
      "context = /sas-dd/data\n",
      "Content-type = application/x-www-form-urlencoded\n",
      "200 \n",
      "Reading...\n"
     ]
    },
    {
     "name": "stderr",
     "output_type": "stream",
     "text": [
      "INFO:root:EUC_MER_CATALOG-PSF-NIR-H_TILE102159488-636DFA_20240409T060941.903119Z_00.00.fits saved at /media/home/team_workspaces/Euclid-Consortium/data/strong_lensing/external_targets_pipeline/latest/tiles/EUC_MER_CATALOG-PSF-NIR-H_TILE102159488-636DFA_20240409T060941.903119Z_00.00.fits\n"
     ]
    },
    {
     "name": "stdout",
     "output_type": "stream",
     "text": [
      "Done.\n",
      "Retrieving data.\n",
      "Data request: TAPCLIENT=ASTROQUERY&RELEASE=sedm&FILE_NAME=EUC_MER_MOSAIC-NIR-H-RMS_TILE102159488-C74834_20240408T221509.563982Z_00.00.fits&RETRIEVAL_TYPE=FILE\n",
      "------>https\n",
      "host = easotf.esac.esa.int:443\n",
      "context = /sas-dd/data\n",
      "Content-type = application/x-www-form-urlencoded\n",
      "200 \n",
      "Reading...\n"
     ]
    },
    {
     "name": "stderr",
     "output_type": "stream",
     "text": [
      "INFO:root:EUC_MER_MOSAIC-NIR-H-RMS_TILE102159488-C74834_20240408T221509.563982Z_00.00.fits saved at /media/home/team_workspaces/Euclid-Consortium/data/strong_lensing/external_targets_pipeline/latest/tiles/EUC_MER_MOSAIC-NIR-H-RMS_TILE102159488-C74834_20240408T221509.563982Z_00.00.fits\n"
     ]
    },
    {
     "name": "stdout",
     "output_type": "stream",
     "text": [
      "Done.\n"
     ]
    },
    {
     "name": "stderr",
     "output_type": "stream",
     "text": [
      "INFO:root:Downloaded all data for tile 102159488\n",
      "INFO:root:Loaded tile, ready to slice\n",
      "INFO:root:Cutout data sliced for band VIS\n",
      "INFO:root:Loaded tile, ready to slice\n",
      "INFO:root:Cutout data sliced for band NIR_Y\n",
      "INFO:root:Loaded tile, ready to slice\n",
      "INFO:root:Cutout data sliced for band NIR_J\n",
      "INFO:root:Loaded tile, ready to slice\n",
      "INFO:root:Cutout data sliced for band NIR_H\n",
      "INFO:root:Cutout data sliced for all bands, begin saving to disk\n",
      "INFO:root:Saved cutouts for all targets in tile 102159488\n",
      "INFO:root:Tile 102159775, 42 of 192\n",
      "INFO:astroquery:Query finished.\n",
      "INFO:root:Found 8 query results\n"
     ]
    },
    {
     "name": "stdout",
     "output_type": "stream",
     "text": [
      "INFO: Query finished. [astroquery.utils.tap.core]\n",
      "Retrieving data.\n",
      "Data request: TAPCLIENT=ASTROQUERY&RELEASE=sedm&FILE_NAME=EUC_MER_BGSUB-MOSAIC-NIR-H_TILE102159775-4E06F2_20240408T233324.915254Z_00.00.fits&RETRIEVAL_TYPE=FILE\n",
      "------>https\n",
      "host = easotf.esac.esa.int:443\n",
      "context = /sas-dd/data\n",
      "Content-type = application/x-www-form-urlencoded\n",
      "200 \n",
      "Reading...\n"
     ]
    },
    {
     "name": "stderr",
     "output_type": "stream",
     "text": [
      "INFO:root:EUC_MER_BGSUB-MOSAIC-NIR-H_TILE102159775-4E06F2_20240408T233324.915254Z_00.00.fits saved at /media/home/team_workspaces/Euclid-Consortium/data/strong_lensing/external_targets_pipeline/latest/tiles/EUC_MER_BGSUB-MOSAIC-NIR-H_TILE102159775-4E06F2_20240408T233324.915254Z_00.00.fits\n"
     ]
    },
    {
     "name": "stdout",
     "output_type": "stream",
     "text": [
      "Done.\n",
      "Retrieving data.\n",
      "Data request: TAPCLIENT=ASTROQUERY&RELEASE=sedm&FILE_NAME=EUC_MER_BGSUB-MOSAIC-NIR-H_TILE102159775-19DBD1_20240707T134826.294485Z_00.00.fits&RETRIEVAL_TYPE=FILE\n",
      "------>https\n",
      "host = easotf.esac.esa.int:443\n",
      "context = /sas-dd/data\n",
      "Content-type = application/x-www-form-urlencoded\n",
      "200 \n",
      "Reading...\n"
     ]
    },
    {
     "name": "stderr",
     "output_type": "stream",
     "text": [
      "INFO:root:EUC_MER_BGSUB-MOSAIC-NIR-H_TILE102159775-19DBD1_20240707T134826.294485Z_00.00.fits saved at /media/home/team_workspaces/Euclid-Consortium/data/strong_lensing/external_targets_pipeline/latest/tiles/EUC_MER_BGSUB-MOSAIC-NIR-H_TILE102159775-19DBD1_20240707T134826.294485Z_00.00.fits\n",
      "INFO:root:Downloading all data for tile 102159775\n"
     ]
    },
    {
     "name": "stdout",
     "output_type": "stream",
     "text": [
      "Done.\n",
      "Retrieving data.\n",
      "Data request: TAPCLIENT=ASTROQUERY&RELEASE=sedm&FILE_NAME=EUC_MER_CATALOG-PSF-NIR-H_TILE102159775-C1AD8F_20240409T052630.671636Z_00.00.fits&RETRIEVAL_TYPE=FILE\n",
      "------>https\n",
      "host = easotf.esac.esa.int:443\n",
      "context = /sas-dd/data\n",
      "Content-type = application/x-www-form-urlencoded\n",
      "200 \n",
      "Reading...\n"
     ]
    },
    {
     "name": "stderr",
     "output_type": "stream",
     "text": [
      "INFO:root:EUC_MER_CATALOG-PSF-NIR-H_TILE102159775-C1AD8F_20240409T052630.671636Z_00.00.fits saved at /media/home/team_workspaces/Euclid-Consortium/data/strong_lensing/external_targets_pipeline/latest/tiles/EUC_MER_CATALOG-PSF-NIR-H_TILE102159775-C1AD8F_20240409T052630.671636Z_00.00.fits\n"
     ]
    },
    {
     "name": "stdout",
     "output_type": "stream",
     "text": [
      "Done.\n",
      "Retrieving data.\n",
      "Data request: TAPCLIENT=ASTROQUERY&RELEASE=sedm&FILE_NAME=EUC_MER_MOSAIC-NIR-H-RMS_TILE102159775-C6D8AA_20240408T230813.801385Z_00.00.fits&RETRIEVAL_TYPE=FILE\n",
      "------>https\n",
      "host = easotf.esac.esa.int:443\n",
      "context = /sas-dd/data\n",
      "Content-type = application/x-www-form-urlencoded\n",
      "200 \n",
      "Reading...\n",
      "Done.\n"
     ]
    },
    {
     "name": "stderr",
     "output_type": "stream",
     "text": [
      "INFO:root:EUC_MER_MOSAIC-NIR-H-RMS_TILE102159775-C6D8AA_20240408T230813.801385Z_00.00.fits saved at /media/home/team_workspaces/Euclid-Consortium/data/strong_lensing/external_targets_pipeline/latest/tiles/EUC_MER_MOSAIC-NIR-H-RMS_TILE102159775-C6D8AA_20240408T230813.801385Z_00.00.fits\n"
     ]
    },
    {
     "name": "stdout",
     "output_type": "stream",
     "text": [
      "Retrieving data.\n",
      "Data request: TAPCLIENT=ASTROQUERY&RELEASE=sedm&FILE_NAME=EUC_MER_CATALOG-PSF-NIR-H_TILE102159775-A38DCA_20240707T201738.009978Z_00.00.fits&RETRIEVAL_TYPE=FILE\n",
      "------>https\n",
      "host = easotf.esac.esa.int:443\n",
      "context = /sas-dd/data\n",
      "Content-type = application/x-www-form-urlencoded\n",
      "200 \n",
      "Reading...\n"
     ]
    },
    {
     "name": "stderr",
     "output_type": "stream",
     "text": [
      "INFO:root:EUC_MER_CATALOG-PSF-NIR-H_TILE102159775-A38DCA_20240707T201738.009978Z_00.00.fits saved at /media/home/team_workspaces/Euclid-Consortium/data/strong_lensing/external_targets_pipeline/latest/tiles/EUC_MER_CATALOG-PSF-NIR-H_TILE102159775-A38DCA_20240707T201738.009978Z_00.00.fits\n"
     ]
    },
    {
     "name": "stdout",
     "output_type": "stream",
     "text": [
      "Done.\n",
      "Retrieving data.\n",
      "Data request: TAPCLIENT=ASTROQUERY&RELEASE=sedm&FILE_NAME=EUC_MER_MOSAIC-NIR-H-RMS_TILE102159775-3B42F_20240707T130809.299915Z_00.00.fits&RETRIEVAL_TYPE=FILE\n",
      "------>https\n",
      "host = easotf.esac.esa.int:443\n",
      "context = /sas-dd/data\n",
      "Content-type = application/x-www-form-urlencoded\n",
      "200 \n",
      "Reading...\n"
     ]
    },
    {
     "name": "stderr",
     "output_type": "stream",
     "text": [
      "INFO:root:EUC_MER_MOSAIC-NIR-H-RMS_TILE102159775-3B42F_20240707T130809.299915Z_00.00.fits saved at /media/home/team_workspaces/Euclid-Consortium/data/strong_lensing/external_targets_pipeline/latest/tiles/EUC_MER_MOSAIC-NIR-H-RMS_TILE102159775-3B42F_20240707T130809.299915Z_00.00.fits\n"
     ]
    },
    {
     "name": "stdout",
     "output_type": "stream",
     "text": [
      "Done.\n"
     ]
    },
    {
     "name": "stderr",
     "output_type": "stream",
     "text": [
      "INFO:root:Downloaded all data for tile 102159775\n",
      "INFO:root:Loaded tile, ready to slice\n",
      "INFO:root:Cutout data sliced for band VIS\n",
      "INFO:root:Loaded tile, ready to slice\n",
      "INFO:root:Cutout data sliced for band NIR_Y\n",
      "INFO:root:Loaded tile, ready to slice\n",
      "INFO:root:Cutout data sliced for band NIR_J\n",
      "INFO:root:Loaded tile, ready to slice\n",
      "INFO:root:Cutout data sliced for band NIR_H\n",
      "INFO:root:Cutout data sliced for all bands, begin saving to disk\n",
      "CRITICAL:root:Error saving cutout for target EUC_20812_DESI-sel\n",
      "CRITICAL:root:EUC_20812_DESI-sel.fits: RMS in VIS data is empty, likely a SAS error\n",
      "CRITICAL:root:Error saving cutout for target EUC_20812_DESI-sel_other\n",
      "CRITICAL:root:EUC_20812_DESI-sel_other.fits: RMS in VIS data is empty, likely a SAS error\n",
      "INFO:root:Saved cutouts for all targets in tile 102159775\n",
      "INFO:root:Tile 101541378, 43 of 192\n",
      "INFO:astroquery:Query finished.\n",
      "INFO:root:Found 4 query results\n",
      "INFO:root:Downloading all data for tile 101541378\n"
     ]
    },
    {
     "name": "stdout",
     "output_type": "stream",
     "text": [
      "INFO: Query finished. [astroquery.utils.tap.core]\n"
     ]
    },
    {
     "name": "stderr",
     "output_type": "stream",
     "text": [
      "INFO:root:Downloaded all data for tile 101541378\n",
      "INFO:root:Loaded tile, ready to slice\n",
      "INFO:root:Cutout data sliced for band VIS\n",
      "INFO:root:Loaded tile, ready to slice\n",
      "INFO:root:Cutout data sliced for band NIR_Y\n",
      "INFO:root:Loaded tile, ready to slice\n",
      "INFO:root:Cutout data sliced for band NIR_J\n",
      "INFO:root:Loaded tile, ready to slice\n",
      "INFO:root:Cutout data sliced for band NIR_H\n",
      "INFO:root:Cutout data sliced for all bands, begin saving to disk\n",
      "CRITICAL:root:Error saving cutout for target 1237651753460432987\n",
      "CRITICAL:root:1237651753460432987.fits: Flux in VIS data is empty, likely a SAS error\n",
      "CRITICAL:root:Error saving cutout for target 1237651753460433127\n",
      "CRITICAL:root:1237651753460433127.fits: Flux in VIS data is empty, likely a SAS error\n",
      "CRITICAL:root:Error saving cutout for target 1237651753460433174\n",
      "CRITICAL:root:1237651753460433174.fits: Flux in VIS data is empty, likely a SAS error\n",
      "CRITICAL:root:Error saving cutout for target 1237651753460433468\n",
      "CRITICAL:root:1237651753460433468.fits: Flux in VIS data is empty, likely a SAS error\n",
      "CRITICAL:root:Error saving cutout for target 1237651753460433520\n",
      "CRITICAL:root:1237651753460433520.fits: Flux in VIS data is empty, likely a SAS error\n",
      "CRITICAL:root:Error saving cutout for target 1237651753460498509\n",
      "CRITICAL:root:1237651753460498509.fits: Flux in VIS data is empty, likely a SAS error\n",
      "CRITICAL:root:Error saving cutout for target 1237651753460498665\n",
      "CRITICAL:root:1237651753460498665.fits: Flux in VIS data is empty, likely a SAS error\n",
      "CRITICAL:root:Error saving cutout for target 1237651753460498772\n",
      "CRITICAL:root:1237651753460498772.fits: Flux in VIS data is empty, likely a SAS error\n",
      "CRITICAL:root:Error saving cutout for target 1237651753460498947\n",
      "CRITICAL:root:1237651753460498947.fits: Flux in VIS data is empty, likely a SAS error\n",
      "CRITICAL:root:Error saving cutout for target EUC_2718_DESI-sel_other\n",
      "CRITICAL:root:EUC_2718_DESI-sel_other.fits: Flux in NIR_J data is empty, likely a SAS error\n",
      "CRITICAL:root:Error saving cutout for target EUC_2742_DESI-sel_other\n",
      "CRITICAL:root:EUC_2742_DESI-sel_other.fits: Flux in NIR_Y data is empty, likely a SAS error\n",
      "INFO:root:Saved cutouts for all targets in tile 101541378\n",
      "INFO:root:Tile 102159773, 44 of 192\n",
      "INFO:astroquery:Query finished.\n",
      "INFO:root:Found 8 query results\n"
     ]
    },
    {
     "name": "stdout",
     "output_type": "stream",
     "text": [
      "INFO: Query finished. [astroquery.utils.tap.core]\n",
      "Retrieving data.\n",
      "Data request: TAPCLIENT=ASTROQUERY&RELEASE=sedm&FILE_NAME=EUC_MER_BGSUB-MOSAIC-NIR-H_TILE102159773-4C5615_20240707T141436.685107Z_00.00.fits&RETRIEVAL_TYPE=FILE\n",
      "------>https\n",
      "host = easotf.esac.esa.int:443\n",
      "context = /sas-dd/data\n",
      "Content-type = application/x-www-form-urlencoded\n",
      "200 \n",
      "Reading...\n"
     ]
    },
    {
     "name": "stderr",
     "output_type": "stream",
     "text": [
      "INFO:root:EUC_MER_BGSUB-MOSAIC-NIR-H_TILE102159773-4C5615_20240707T141436.685107Z_00.00.fits saved at /media/home/team_workspaces/Euclid-Consortium/data/strong_lensing/external_targets_pipeline/latest/tiles/EUC_MER_BGSUB-MOSAIC-NIR-H_TILE102159773-4C5615_20240707T141436.685107Z_00.00.fits\n"
     ]
    },
    {
     "name": "stdout",
     "output_type": "stream",
     "text": [
      "Done.\n",
      "Retrieving data.\n",
      "Data request: TAPCLIENT=ASTROQUERY&RELEASE=sedm&FILE_NAME=EUC_MER_BGSUB-MOSAIC-NIR-H_TILE102159773-A857C8_20240408T234542.146578Z_00.00.fits&RETRIEVAL_TYPE=FILE\n",
      "------>https\n",
      "host = easotf.esac.esa.int:443\n",
      "context = /sas-dd/data\n",
      "Content-type = application/x-www-form-urlencoded\n",
      "200 \n",
      "Reading...\n"
     ]
    },
    {
     "name": "stderr",
     "output_type": "stream",
     "text": [
      "INFO:root:EUC_MER_BGSUB-MOSAIC-NIR-H_TILE102159773-A857C8_20240408T234542.146578Z_00.00.fits saved at /media/home/team_workspaces/Euclid-Consortium/data/strong_lensing/external_targets_pipeline/latest/tiles/EUC_MER_BGSUB-MOSAIC-NIR-H_TILE102159773-A857C8_20240408T234542.146578Z_00.00.fits\n",
      "INFO:root:Downloading all data for tile 102159773\n"
     ]
    },
    {
     "name": "stdout",
     "output_type": "stream",
     "text": [
      "Done.\n",
      "Retrieving data.\n",
      "Data request: TAPCLIENT=ASTROQUERY&RELEASE=sedm&FILE_NAME=EUC_MER_CATALOG-PSF-NIR-H_TILE102159773-589E49_20240707T212624.681206Z_00.00.fits&RETRIEVAL_TYPE=FILE\n",
      "------>https\n",
      "host = easotf.esac.esa.int:443\n",
      "context = /sas-dd/data\n",
      "Content-type = application/x-www-form-urlencoded\n",
      "200 \n",
      "Reading...\n"
     ]
    },
    {
     "name": "stderr",
     "output_type": "stream",
     "text": [
      "INFO:root:EUC_MER_CATALOG-PSF-NIR-H_TILE102159773-589E49_20240707T212624.681206Z_00.00.fits saved at /media/home/team_workspaces/Euclid-Consortium/data/strong_lensing/external_targets_pipeline/latest/tiles/EUC_MER_CATALOG-PSF-NIR-H_TILE102159773-589E49_20240707T212624.681206Z_00.00.fits\n"
     ]
    },
    {
     "name": "stdout",
     "output_type": "stream",
     "text": [
      "Done.\n",
      "Retrieving data.\n",
      "Data request: TAPCLIENT=ASTROQUERY&RELEASE=sedm&FILE_NAME=EUC_MER_MOSAIC-NIR-H-RMS_TILE102159773-D2EC1C_20240707T134430.226296Z_00.00.fits&RETRIEVAL_TYPE=FILE\n",
      "------>https\n",
      "host = easotf.esac.esa.int:443\n",
      "context = /sas-dd/data\n",
      "Content-type = application/x-www-form-urlencoded\n",
      "200 \n",
      "Reading...\n"
     ]
    },
    {
     "name": "stderr",
     "output_type": "stream",
     "text": [
      "INFO:root:EUC_MER_MOSAIC-NIR-H-RMS_TILE102159773-D2EC1C_20240707T134430.226296Z_00.00.fits saved at /media/home/team_workspaces/Euclid-Consortium/data/strong_lensing/external_targets_pipeline/latest/tiles/EUC_MER_MOSAIC-NIR-H-RMS_TILE102159773-D2EC1C_20240707T134430.226296Z_00.00.fits\n"
     ]
    },
    {
     "name": "stdout",
     "output_type": "stream",
     "text": [
      "Done.\n",
      "Retrieving data.\n",
      "Data request: TAPCLIENT=ASTROQUERY&RELEASE=sedm&FILE_NAME=EUC_MER_CATALOG-PSF-NIR-H_TILE102159773-16009F_20240409T070204.202197Z_00.00.fits&RETRIEVAL_TYPE=FILE\n",
      "------>https\n",
      "host = easotf.esac.esa.int:443\n",
      "context = /sas-dd/data\n",
      "Content-type = application/x-www-form-urlencoded\n",
      "200 \n",
      "Reading...\n"
     ]
    },
    {
     "name": "stderr",
     "output_type": "stream",
     "text": [
      "INFO:root:EUC_MER_CATALOG-PSF-NIR-H_TILE102159773-16009F_20240409T070204.202197Z_00.00.fits saved at /media/home/team_workspaces/Euclid-Consortium/data/strong_lensing/external_targets_pipeline/latest/tiles/EUC_MER_CATALOG-PSF-NIR-H_TILE102159773-16009F_20240409T070204.202197Z_00.00.fits\n"
     ]
    },
    {
     "name": "stdout",
     "output_type": "stream",
     "text": [
      "Done.\n",
      "Retrieving data.\n",
      "Data request: TAPCLIENT=ASTROQUERY&RELEASE=sedm&FILE_NAME=EUC_MER_MOSAIC-NIR-H-RMS_TILE102159773-EA5FA1_20240408T231656.215309Z_00.00.fits&RETRIEVAL_TYPE=FILE\n",
      "------>https\n",
      "host = easotf.esac.esa.int:443\n",
      "context = /sas-dd/data\n",
      "Content-type = application/x-www-form-urlencoded\n",
      "200 \n",
      "Reading...\n"
     ]
    },
    {
     "name": "stderr",
     "output_type": "stream",
     "text": [
      "INFO:root:EUC_MER_MOSAIC-NIR-H-RMS_TILE102159773-EA5FA1_20240408T231656.215309Z_00.00.fits saved at /media/home/team_workspaces/Euclid-Consortium/data/strong_lensing/external_targets_pipeline/latest/tiles/EUC_MER_MOSAIC-NIR-H-RMS_TILE102159773-EA5FA1_20240408T231656.215309Z_00.00.fits\n"
     ]
    },
    {
     "name": "stdout",
     "output_type": "stream",
     "text": [
      "Done.\n"
     ]
    },
    {
     "name": "stderr",
     "output_type": "stream",
     "text": [
      "INFO:root:Downloaded all data for tile 102159773\n",
      "INFO:root:Loaded tile, ready to slice\n",
      "INFO:root:Cutout data sliced for band VIS\n",
      "INFO:root:Loaded tile, ready to slice\n",
      "INFO:root:Cutout data sliced for band NIR_Y\n",
      "INFO:root:Loaded tile, ready to slice\n",
      "INFO:root:Cutout data sliced for band NIR_J\n",
      "INFO:root:Loaded tile, ready to slice\n",
      "INFO:root:Cutout data sliced for band NIR_H\n",
      "INFO:root:Cutout data sliced for all bands, begin saving to disk\n",
      "INFO:root:Saved cutouts for all targets in tile 102159773\n",
      "INFO:root:Tile 101542816, 45 of 192\n",
      "INFO:astroquery:Query finished.\n",
      "INFO:root:Found 4 query results\n",
      "INFO:root:Downloading all data for tile 101542816\n"
     ]
    },
    {
     "name": "stdout",
     "output_type": "stream",
     "text": [
      "INFO: Query finished. [astroquery.utils.tap.core]\n"
     ]
    },
    {
     "name": "stderr",
     "output_type": "stream",
     "text": [
      "INFO:root:Downloaded all data for tile 101542816\n",
      "INFO:root:Loaded tile, ready to slice\n",
      "INFO:root:Cutout data sliced for band VIS\n",
      "INFO:root:Loaded tile, ready to slice\n",
      "INFO:root:Cutout data sliced for band NIR_Y\n",
      "INFO:root:Loaded tile, ready to slice\n",
      "INFO:root:Cutout data sliced for band NIR_J\n",
      "INFO:root:Loaded tile, ready to slice\n",
      "INFO:root:Cutout data sliced for band NIR_H\n",
      "INFO:root:Cutout data sliced for all bands, begin saving to disk\n",
      "CRITICAL:root:Error saving cutout for target 1237653664721863149\n",
      "CRITICAL:root:1237653664721863149.fits: Flux in VIS data is empty, likely a SAS error\n",
      "CRITICAL:root:Error saving cutout for target 1237653664721928354\n",
      "CRITICAL:root:1237653664721928354.fits: Flux in VIS data is empty, likely a SAS error\n",
      "CRITICAL:root:Error saving cutout for target EUC_3383_DESI-sel_spiral\n",
      "CRITICAL:root:EUC_3383_DESI-sel_spiral.fits: Flux in NIR_Y data is empty, likely a SAS error\n",
      "CRITICAL:root:Error saving cutout for target EUC_3409_DESI-sel_other\n",
      "CRITICAL:root:EUC_3409_DESI-sel_other.fits: Flux in NIR_Y data is empty, likely a SAS error\n",
      "INFO:root:Saved cutouts for all targets in tile 101542816\n",
      "INFO:root:Tile 102159188, 46 of 192\n",
      "INFO:astroquery:Query finished.\n",
      "INFO:root:Found 8 query results\n",
      "INFO:root:Downloading all data for tile 102159188\n"
     ]
    },
    {
     "name": "stdout",
     "output_type": "stream",
     "text": [
      "INFO: Query finished. [astroquery.utils.tap.core]\n"
     ]
    },
    {
     "name": "stderr",
     "output_type": "stream",
     "text": [
      "INFO:root:Downloaded all data for tile 102159188\n",
      "INFO:root:Loaded tile, ready to slice\n",
      "INFO:root:Cutout data sliced for band VIS\n",
      "INFO:root:Loaded tile, ready to slice\n",
      "INFO:root:Cutout data sliced for band NIR_Y\n",
      "INFO:root:Loaded tile, ready to slice\n",
      "INFO:root:Cutout data sliced for band NIR_J\n",
      "INFO:root:Loaded tile, ready to slice\n",
      "INFO:root:Cutout data sliced for band NIR_H\n",
      "INFO:root:Cutout data sliced for all bands, begin saving to disk\n",
      "INFO:root:Saved cutouts for all targets in tile 102159188\n",
      "INFO:root:Tile 102157957, 47 of 192\n",
      "INFO:astroquery:Query finished.\n",
      "INFO:root:Found 12 query results\n",
      "INFO:root:Downloading all data for tile 102157957\n"
     ]
    },
    {
     "name": "stdout",
     "output_type": "stream",
     "text": [
      "INFO: Query finished. [astroquery.utils.tap.core]\n"
     ]
    },
    {
     "name": "stderr",
     "output_type": "stream",
     "text": [
      "INFO:root:Downloaded all data for tile 102157957\n",
      "INFO:root:Loaded tile, ready to slice\n",
      "INFO:root:Cutout data sliced for band VIS\n",
      "INFO:root:Loaded tile, ready to slice\n",
      "INFO:root:Cutout data sliced for band NIR_Y\n",
      "INFO:root:Loaded tile, ready to slice\n",
      "INFO:root:Cutout data sliced for band NIR_J\n",
      "INFO:root:Loaded tile, ready to slice\n",
      "INFO:root:Cutout data sliced for band NIR_H\n",
      "INFO:root:Cutout data sliced for all bands, begin saving to disk\n",
      "INFO:root:Saved cutouts for all targets in tile 102157957\n",
      "INFO:root:Tile 102159778, 48 of 192\n",
      "INFO:astroquery:Query finished.\n",
      "INFO:root:Found 8 query results\n"
     ]
    },
    {
     "name": "stdout",
     "output_type": "stream",
     "text": [
      "INFO: Query finished. [astroquery.utils.tap.core]\n",
      "Retrieving data.\n",
      "Data request: TAPCLIENT=ASTROQUERY&RELEASE=sedm&FILE_NAME=EUC_MER_BGSUB-MOSAIC-NIR-H_TILE102159778-F4D928_20240408T215037.383420Z_00.00.fits&RETRIEVAL_TYPE=FILE\n",
      "------>https\n",
      "host = easotf.esac.esa.int:443\n",
      "context = /sas-dd/data\n",
      "Content-type = application/x-www-form-urlencoded\n",
      "200 \n",
      "Reading...\n"
     ]
    },
    {
     "name": "stderr",
     "output_type": "stream",
     "text": [
      "INFO:root:EUC_MER_BGSUB-MOSAIC-NIR-H_TILE102159778-F4D928_20240408T215037.383420Z_00.00.fits saved at /media/home/team_workspaces/Euclid-Consortium/data/strong_lensing/external_targets_pipeline/latest/tiles/EUC_MER_BGSUB-MOSAIC-NIR-H_TILE102159778-F4D928_20240408T215037.383420Z_00.00.fits\n"
     ]
    },
    {
     "name": "stdout",
     "output_type": "stream",
     "text": [
      "Done.\n",
      "Retrieving data.\n",
      "Data request: TAPCLIENT=ASTROQUERY&RELEASE=sedm&FILE_NAME=EUC_MER_BGSUB-MOSAIC-NIR-H_TILE102159778-B843A1_20240707T140015.318936Z_00.00.fits&RETRIEVAL_TYPE=FILE\n",
      "------>https\n",
      "host = easotf.esac.esa.int:443\n",
      "context = /sas-dd/data\n",
      "Content-type = application/x-www-form-urlencoded\n",
      "200 \n",
      "Reading...\n",
      "Done.\n"
     ]
    },
    {
     "name": "stderr",
     "output_type": "stream",
     "text": [
      "INFO:root:EUC_MER_BGSUB-MOSAIC-NIR-H_TILE102159778-B843A1_20240707T140015.318936Z_00.00.fits saved at /media/home/team_workspaces/Euclid-Consortium/data/strong_lensing/external_targets_pipeline/latest/tiles/EUC_MER_BGSUB-MOSAIC-NIR-H_TILE102159778-B843A1_20240707T140015.318936Z_00.00.fits\n",
      "INFO:root:Downloading all data for tile 102159778\n"
     ]
    },
    {
     "name": "stdout",
     "output_type": "stream",
     "text": [
      "Retrieving data.\n",
      "Data request: TAPCLIENT=ASTROQUERY&RELEASE=sedm&FILE_NAME=EUC_MER_CATALOG-PSF-NIR-H_TILE102159778-16169D_20240409T050715.213828Z_00.00.fits&RETRIEVAL_TYPE=FILE\n",
      "------>https\n",
      "host = easotf.esac.esa.int:443\n",
      "context = /sas-dd/data\n",
      "Content-type = application/x-www-form-urlencoded\n",
      "200 \n",
      "Reading...\n"
     ]
    },
    {
     "name": "stderr",
     "output_type": "stream",
     "text": [
      "INFO:root:EUC_MER_CATALOG-PSF-NIR-H_TILE102159778-16169D_20240409T050715.213828Z_00.00.fits saved at /media/home/team_workspaces/Euclid-Consortium/data/strong_lensing/external_targets_pipeline/latest/tiles/EUC_MER_CATALOG-PSF-NIR-H_TILE102159778-16169D_20240409T050715.213828Z_00.00.fits\n"
     ]
    },
    {
     "name": "stdout",
     "output_type": "stream",
     "text": [
      "Done.\n",
      "Retrieving data.\n",
      "Data request: TAPCLIENT=ASTROQUERY&RELEASE=sedm&FILE_NAME=EUC_MER_MOSAIC-NIR-H-RMS_TILE102159778-929085_20240408T212508.859827Z_00.00.fits&RETRIEVAL_TYPE=FILE\n",
      "------>https\n",
      "host = easotf.esac.esa.int:443\n",
      "context = /sas-dd/data\n",
      "Content-type = application/x-www-form-urlencoded\n",
      "200 \n",
      "Reading...\n"
     ]
    },
    {
     "name": "stderr",
     "output_type": "stream",
     "text": [
      "INFO:root:EUC_MER_MOSAIC-NIR-H-RMS_TILE102159778-929085_20240408T212508.859827Z_00.00.fits saved at /media/home/team_workspaces/Euclid-Consortium/data/strong_lensing/external_targets_pipeline/latest/tiles/EUC_MER_MOSAIC-NIR-H-RMS_TILE102159778-929085_20240408T212508.859827Z_00.00.fits\n"
     ]
    },
    {
     "name": "stdout",
     "output_type": "stream",
     "text": [
      "Done.\n",
      "Retrieving data.\n",
      "Data request: TAPCLIENT=ASTROQUERY&RELEASE=sedm&FILE_NAME=EUC_MER_CATALOG-PSF-NIR-H_TILE102159778-68C862_20240707T210729.042848Z_00.00.fits&RETRIEVAL_TYPE=FILE\n",
      "------>https\n",
      "host = easotf.esac.esa.int:443\n",
      "context = /sas-dd/data\n",
      "Content-type = application/x-www-form-urlencoded\n",
      "200 \n",
      "Reading...\n"
     ]
    },
    {
     "name": "stderr",
     "output_type": "stream",
     "text": [
      "INFO:root:EUC_MER_CATALOG-PSF-NIR-H_TILE102159778-68C862_20240707T210729.042848Z_00.00.fits saved at /media/home/team_workspaces/Euclid-Consortium/data/strong_lensing/external_targets_pipeline/latest/tiles/EUC_MER_CATALOG-PSF-NIR-H_TILE102159778-68C862_20240707T210729.042848Z_00.00.fits\n"
     ]
    },
    {
     "name": "stdout",
     "output_type": "stream",
     "text": [
      "Done.\n",
      "Retrieving data.\n",
      "Data request: TAPCLIENT=ASTROQUERY&RELEASE=sedm&FILE_NAME=EUC_MER_MOSAIC-NIR-H-RMS_TILE102159778-FD38A_20240707T132307.273247Z_00.00.fits&RETRIEVAL_TYPE=FILE\n",
      "------>https\n",
      "host = easotf.esac.esa.int:443\n",
      "context = /sas-dd/data\n",
      "Content-type = application/x-www-form-urlencoded\n",
      "200 \n",
      "Reading...\n",
      "Done.\n"
     ]
    },
    {
     "name": "stderr",
     "output_type": "stream",
     "text": [
      "INFO:root:EUC_MER_MOSAIC-NIR-H-RMS_TILE102159778-FD38A_20240707T132307.273247Z_00.00.fits saved at /media/home/team_workspaces/Euclid-Consortium/data/strong_lensing/external_targets_pipeline/latest/tiles/EUC_MER_MOSAIC-NIR-H-RMS_TILE102159778-FD38A_20240707T132307.273247Z_00.00.fits\n",
      "INFO:root:Downloaded all data for tile 102159778\n",
      "INFO:root:Loaded tile, ready to slice\n",
      "INFO:root:Cutout data sliced for band VIS\n",
      "INFO:root:Loaded tile, ready to slice\n",
      "INFO:root:Cutout data sliced for band NIR_Y\n",
      "INFO:root:Loaded tile, ready to slice\n",
      "INFO:root:Cutout data sliced for band NIR_J\n",
      "INFO:root:Loaded tile, ready to slice\n",
      "INFO:root:Cutout data sliced for band NIR_H\n",
      "INFO:root:Cutout data sliced for all bands, begin saving to disk\n",
      "INFO:root:Saved cutouts for all targets in tile 102159778\n",
      "INFO:root:Tile 102160059, 49 of 192\n",
      "INFO:astroquery:Query finished.\n",
      "INFO:root:Found 12 query results\n"
     ]
    },
    {
     "name": "stdout",
     "output_type": "stream",
     "text": [
      "INFO: Query finished. [astroquery.utils.tap.core]\n",
      "Retrieving data.\n",
      "Data request: TAPCLIENT=ASTROQUERY&RELEASE=sedm&FILE_NAME=EUC_MER_BGSUB-MOSAIC-NIR-H_TILE102160059-8B1F8E_20240707T130631.994755Z_00.00.fits&RETRIEVAL_TYPE=FILE\n",
      "------>https\n",
      "host = easotf.esac.esa.int:443\n",
      "context = /sas-dd/data\n",
      "Content-type = application/x-www-form-urlencoded\n",
      "200 \n",
      "Reading...\n"
     ]
    },
    {
     "name": "stderr",
     "output_type": "stream",
     "text": [
      "INFO:root:EUC_MER_BGSUB-MOSAIC-NIR-H_TILE102160059-8B1F8E_20240707T130631.994755Z_00.00.fits saved at /media/home/team_workspaces/Euclid-Consortium/data/strong_lensing/external_targets_pipeline/latest/tiles/EUC_MER_BGSUB-MOSAIC-NIR-H_TILE102160059-8B1F8E_20240707T130631.994755Z_00.00.fits\n"
     ]
    },
    {
     "name": "stdout",
     "output_type": "stream",
     "text": [
      "Done.\n",
      "Retrieving data.\n",
      "Data request: TAPCLIENT=ASTROQUERY&RELEASE=sedm&FILE_NAME=EUC_MER_BGSUB-MOSAIC-NIR-H_TILE102160059-3AD694_20240805T182538.194176Z_00.00.fits&RETRIEVAL_TYPE=FILE\n",
      "------>https\n",
      "host = easotf.esac.esa.int:443\n",
      "context = /sas-dd/data\n",
      "Content-type = application/x-www-form-urlencoded\n",
      "200 \n",
      "Reading...\n"
     ]
    },
    {
     "name": "stderr",
     "output_type": "stream",
     "text": [
      "INFO:root:EUC_MER_BGSUB-MOSAIC-NIR-H_TILE102160059-3AD694_20240805T182538.194176Z_00.00.fits saved at /media/home/team_workspaces/Euclid-Consortium/data/strong_lensing/external_targets_pipeline/latest/tiles/EUC_MER_BGSUB-MOSAIC-NIR-H_TILE102160059-3AD694_20240805T182538.194176Z_00.00.fits\n"
     ]
    },
    {
     "name": "stdout",
     "output_type": "stream",
     "text": [
      "Done.\n",
      "Retrieving data.\n",
      "Data request: TAPCLIENT=ASTROQUERY&RELEASE=sedm&FILE_NAME=EUC_MER_BGSUB-MOSAIC-NIR-H_TILE102160059-B67D30_20240408T233627.704976Z_00.00.fits&RETRIEVAL_TYPE=FILE\n",
      "------>https\n",
      "host = easotf.esac.esa.int:443\n",
      "context = /sas-dd/data\n",
      "Content-type = application/x-www-form-urlencoded\n",
      "200 \n",
      "Reading...\n"
     ]
    },
    {
     "name": "stderr",
     "output_type": "stream",
     "text": [
      "INFO:root:EUC_MER_BGSUB-MOSAIC-NIR-H_TILE102160059-B67D30_20240408T233627.704976Z_00.00.fits saved at /media/home/team_workspaces/Euclid-Consortium/data/strong_lensing/external_targets_pipeline/latest/tiles/EUC_MER_BGSUB-MOSAIC-NIR-H_TILE102160059-B67D30_20240408T233627.704976Z_00.00.fits\n",
      "INFO:root:Downloading all data for tile 102160059\n"
     ]
    },
    {
     "name": "stdout",
     "output_type": "stream",
     "text": [
      "Done.\n",
      "Retrieving data.\n",
      "Data request: TAPCLIENT=ASTROQUERY&RELEASE=sedm&FILE_NAME=EUC_MER_CATALOG-PSF-NIR-H_TILE102160059-4CC88D_20240707T200806.164991Z_00.00.fits&RETRIEVAL_TYPE=FILE\n",
      "------>https\n",
      "host = easotf.esac.esa.int:443\n",
      "context = /sas-dd/data\n",
      "Content-type = application/x-www-form-urlencoded\n",
      "200 \n",
      "Reading...\n"
     ]
    },
    {
     "name": "stderr",
     "output_type": "stream",
     "text": [
      "INFO:root:EUC_MER_CATALOG-PSF-NIR-H_TILE102160059-4CC88D_20240707T200806.164991Z_00.00.fits saved at /media/home/team_workspaces/Euclid-Consortium/data/strong_lensing/external_targets_pipeline/latest/tiles/EUC_MER_CATALOG-PSF-NIR-H_TILE102160059-4CC88D_20240707T200806.164991Z_00.00.fits\n"
     ]
    },
    {
     "name": "stdout",
     "output_type": "stream",
     "text": [
      "Done.\n",
      "Retrieving data.\n",
      "Data request: TAPCLIENT=ASTROQUERY&RELEASE=sedm&FILE_NAME=EUC_MER_MOSAIC-NIR-H-RMS_TILE102160059-3E6001_20240707T124226.913523Z_00.00.fits&RETRIEVAL_TYPE=FILE\n",
      "------>https\n",
      "host = easotf.esac.esa.int:443\n",
      "context = /sas-dd/data\n",
      "Content-type = application/x-www-form-urlencoded\n",
      "200 \n",
      "Reading...\n",
      "Done.\n"
     ]
    },
    {
     "name": "stderr",
     "output_type": "stream",
     "text": [
      "INFO:root:EUC_MER_MOSAIC-NIR-H-RMS_TILE102160059-3E6001_20240707T124226.913523Z_00.00.fits saved at /media/home/team_workspaces/Euclid-Consortium/data/strong_lensing/external_targets_pipeline/latest/tiles/EUC_MER_MOSAIC-NIR-H-RMS_TILE102160059-3E6001_20240707T124226.913523Z_00.00.fits\n"
     ]
    },
    {
     "name": "stdout",
     "output_type": "stream",
     "text": [
      "Retrieving data.\n",
      "Data request: TAPCLIENT=ASTROQUERY&RELEASE=sedm&FILE_NAME=EUC_MER_CATALOG-PSF-NIR-H_TILE102160059-24C854_20240806T040756.108172Z_00.00.fits&RETRIEVAL_TYPE=FILE\n",
      "------>https\n",
      "host = easotf.esac.esa.int:443\n",
      "context = /sas-dd/data\n",
      "Content-type = application/x-www-form-urlencoded\n",
      "200 \n",
      "Reading...\n"
     ]
    },
    {
     "name": "stderr",
     "output_type": "stream",
     "text": [
      "INFO:root:EUC_MER_CATALOG-PSF-NIR-H_TILE102160059-24C854_20240806T040756.108172Z_00.00.fits saved at /media/home/team_workspaces/Euclid-Consortium/data/strong_lensing/external_targets_pipeline/latest/tiles/EUC_MER_CATALOG-PSF-NIR-H_TILE102160059-24C854_20240806T040756.108172Z_00.00.fits\n"
     ]
    },
    {
     "name": "stdout",
     "output_type": "stream",
     "text": [
      "Done.\n",
      "Retrieving data.\n",
      "Data request: TAPCLIENT=ASTROQUERY&RELEASE=sedm&FILE_NAME=EUC_MER_MOSAIC-NIR-H-RMS_TILE102160059-661E43_20240805T180742.236458Z_00.00.fits&RETRIEVAL_TYPE=FILE\n",
      "------>https\n",
      "host = easotf.esac.esa.int:443\n",
      "context = /sas-dd/data\n",
      "Content-type = application/x-www-form-urlencoded\n",
      "200 \n",
      "Reading...\n",
      "Done.\n"
     ]
    },
    {
     "name": "stderr",
     "output_type": "stream",
     "text": [
      "INFO:root:EUC_MER_MOSAIC-NIR-H-RMS_TILE102160059-661E43_20240805T180742.236458Z_00.00.fits saved at /media/home/team_workspaces/Euclid-Consortium/data/strong_lensing/external_targets_pipeline/latest/tiles/EUC_MER_MOSAIC-NIR-H-RMS_TILE102160059-661E43_20240805T180742.236458Z_00.00.fits\n"
     ]
    },
    {
     "name": "stdout",
     "output_type": "stream",
     "text": [
      "Retrieving data.\n",
      "Data request: TAPCLIENT=ASTROQUERY&RELEASE=sedm&FILE_NAME=EUC_MER_CATALOG-PSF-NIR-H_TILE102160059-8741B5_20240409T064148.515499Z_00.00.fits&RETRIEVAL_TYPE=FILE\n",
      "------>https\n",
      "host = easotf.esac.esa.int:443\n",
      "context = /sas-dd/data\n",
      "Content-type = application/x-www-form-urlencoded\n",
      "200 \n",
      "Reading...\n"
     ]
    },
    {
     "name": "stderr",
     "output_type": "stream",
     "text": [
      "INFO:root:EUC_MER_CATALOG-PSF-NIR-H_TILE102160059-8741B5_20240409T064148.515499Z_00.00.fits saved at /media/home/team_workspaces/Euclid-Consortium/data/strong_lensing/external_targets_pipeline/latest/tiles/EUC_MER_CATALOG-PSF-NIR-H_TILE102160059-8741B5_20240409T064148.515499Z_00.00.fits\n"
     ]
    },
    {
     "name": "stdout",
     "output_type": "stream",
     "text": [
      "Done.\n",
      "Retrieving data.\n",
      "Data request: TAPCLIENT=ASTROQUERY&RELEASE=sedm&FILE_NAME=EUC_MER_MOSAIC-NIR-H-RMS_TILE102160059-8BEA6B_20240408T231356.721932Z_00.00.fits&RETRIEVAL_TYPE=FILE\n",
      "------>https\n",
      "host = easotf.esac.esa.int:443\n",
      "context = /sas-dd/data\n",
      "Content-type = application/x-www-form-urlencoded\n",
      "200 \n",
      "Reading...\n",
      "Done.\n"
     ]
    },
    {
     "name": "stderr",
     "output_type": "stream",
     "text": [
      "INFO:root:EUC_MER_MOSAIC-NIR-H-RMS_TILE102160059-8BEA6B_20240408T231356.721932Z_00.00.fits saved at /media/home/team_workspaces/Euclid-Consortium/data/strong_lensing/external_targets_pipeline/latest/tiles/EUC_MER_MOSAIC-NIR-H-RMS_TILE102160059-8BEA6B_20240408T231356.721932Z_00.00.fits\n",
      "INFO:root:Downloaded all data for tile 102160059\n",
      "INFO:root:Loaded tile, ready to slice\n",
      "INFO:root:Cutout data sliced for band VIS\n",
      "INFO:root:Loaded tile, ready to slice\n",
      "INFO:root:Cutout data sliced for band NIR_Y\n",
      "INFO:root:Loaded tile, ready to slice\n",
      "INFO:root:Cutout data sliced for band NIR_J\n",
      "INFO:root:Loaded tile, ready to slice\n",
      "INFO:root:Cutout data sliced for band NIR_H\n",
      "INFO:root:Cutout data sliced for all bands, begin saving to disk\n",
      "CRITICAL:root:Error saving cutout for target EUC_22546_DESI-sel_other\n",
      "CRITICAL:root:EUC_22546_DESI-sel_other.fits: RMS in VIS data is empty, likely a SAS error\n",
      "INFO:root:Saved cutouts for all targets in tile 102160059\n",
      "INFO:root:Tile 102157956, 50 of 192\n",
      "INFO:astroquery:Query finished.\n",
      "INFO:root:Found 4 query results\n",
      "INFO:root:Downloading all data for tile 102157956\n"
     ]
    },
    {
     "name": "stdout",
     "output_type": "stream",
     "text": [
      "INFO: Query finished. [astroquery.utils.tap.core]\n"
     ]
    },
    {
     "name": "stderr",
     "output_type": "stream",
     "text": [
      "INFO:root:Downloaded all data for tile 102157956\n",
      "INFO:root:Loaded tile, ready to slice\n",
      "INFO:root:Cutout data sliced for band VIS\n",
      "INFO:root:Loaded tile, ready to slice\n",
      "INFO:root:Cutout data sliced for band NIR_Y\n",
      "INFO:root:Loaded tile, ready to slice\n",
      "INFO:root:Cutout data sliced for band NIR_J\n",
      "INFO:root:Loaded tile, ready to slice\n",
      "INFO:root:Cutout data sliced for band NIR_H\n",
      "INFO:root:Cutout data sliced for all bands, begin saving to disk\n",
      "INFO:root:Saved cutouts for all targets in tile 102157956\n",
      "INFO:root:Tile 102159777, 51 of 192\n",
      "INFO:astroquery:Query finished.\n",
      "INFO:root:Found 9 query results\n"
     ]
    },
    {
     "name": "stdout",
     "output_type": "stream",
     "text": [
      "INFO: Query finished. [astroquery.utils.tap.core]\n",
      "Retrieving data.\n",
      "Data request: TAPCLIENT=ASTROQUERY&RELEASE=sedm&FILE_NAME=EUC_MER_BGSUB-MOSAIC-NIR-H_TILE102159777-C3D2F8_20240707T143404.967547Z_00.00.fits&RETRIEVAL_TYPE=FILE\n",
      "------>https\n",
      "host = easotf.esac.esa.int:443\n",
      "context = /sas-dd/data\n",
      "Content-type = application/x-www-form-urlencoded\n",
      "200 \n",
      "Reading...\n"
     ]
    },
    {
     "name": "stderr",
     "output_type": "stream",
     "text": [
      "INFO:root:EUC_MER_BGSUB-MOSAIC-NIR-H_TILE102159777-C3D2F8_20240707T143404.967547Z_00.00.fits saved at /media/home/team_workspaces/Euclid-Consortium/data/strong_lensing/external_targets_pipeline/latest/tiles/EUC_MER_BGSUB-MOSAIC-NIR-H_TILE102159777-C3D2F8_20240707T143404.967547Z_00.00.fits\n"
     ]
    },
    {
     "name": "stdout",
     "output_type": "stream",
     "text": [
      "Done.\n",
      "Retrieving data.\n",
      "Data request: TAPCLIENT=ASTROQUERY&RELEASE=sedm&FILE_NAME=EUC_MER_BGSUB-MOSAIC-NIR-H_TILE102159777-2235CF_20240408T223243.688366Z_00.00.fits&RETRIEVAL_TYPE=FILE\n",
      "------>https\n",
      "host = easotf.esac.esa.int:443\n",
      "context = /sas-dd/data\n",
      "Content-type = application/x-www-form-urlencoded\n",
      "200 \n",
      "Reading...\n"
     ]
    },
    {
     "name": "stderr",
     "output_type": "stream",
     "text": [
      "INFO:root:EUC_MER_BGSUB-MOSAIC-NIR-H_TILE102159777-2235CF_20240408T223243.688366Z_00.00.fits saved at /media/home/team_workspaces/Euclid-Consortium/data/strong_lensing/external_targets_pipeline/latest/tiles/EUC_MER_BGSUB-MOSAIC-NIR-H_TILE102159777-2235CF_20240408T223243.688366Z_00.00.fits\n",
      "INFO:root:Downloading all data for tile 102159777\n"
     ]
    },
    {
     "name": "stdout",
     "output_type": "stream",
     "text": [
      "Done.\n",
      "Retrieving data.\n",
      "Data request: TAPCLIENT=ASTROQUERY&RELEASE=sedm&FILE_NAME=EUC_MER_CATALOG-PSF-NIR-H_TILE102159777-5BFCFA_20240707T211420.153748Z_00.00.fits&RETRIEVAL_TYPE=FILE\n",
      "------>https\n",
      "host = easotf.esac.esa.int:443\n",
      "context = /sas-dd/data\n",
      "Content-type = application/x-www-form-urlencoded\n",
      "200 \n",
      "Reading...\n"
     ]
    },
    {
     "name": "stderr",
     "output_type": "stream",
     "text": [
      "INFO:root:EUC_MER_CATALOG-PSF-NIR-H_TILE102159777-5BFCFA_20240707T211420.153748Z_00.00.fits saved at /media/home/team_workspaces/Euclid-Consortium/data/strong_lensing/external_targets_pipeline/latest/tiles/EUC_MER_CATALOG-PSF-NIR-H_TILE102159777-5BFCFA_20240707T211420.153748Z_00.00.fits\n"
     ]
    },
    {
     "name": "stdout",
     "output_type": "stream",
     "text": [
      "Done.\n",
      "Retrieving data.\n",
      "Data request: TAPCLIENT=ASTROQUERY&RELEASE=sedm&FILE_NAME=EUC_MER_MOSAIC-NIR-H-RMS_TILE102159777-9CE1D9_20240707T141154.982546Z_00.00.fits&RETRIEVAL_TYPE=FILE\n",
      "------>https\n",
      "host = easotf.esac.esa.int:443\n",
      "context = /sas-dd/data\n",
      "Content-type = application/x-www-form-urlencoded\n",
      "200 \n",
      "Reading...\n"
     ]
    },
    {
     "name": "stderr",
     "output_type": "stream",
     "text": [
      "INFO:root:EUC_MER_MOSAIC-NIR-H-RMS_TILE102159777-9CE1D9_20240707T141154.982546Z_00.00.fits saved at /media/home/team_workspaces/Euclid-Consortium/data/strong_lensing/external_targets_pipeline/latest/tiles/EUC_MER_MOSAIC-NIR-H-RMS_TILE102159777-9CE1D9_20240707T141154.982546Z_00.00.fits\n"
     ]
    },
    {
     "name": "stdout",
     "output_type": "stream",
     "text": [
      "Done.\n",
      "Retrieving data.\n",
      "Data request: TAPCLIENT=ASTROQUERY&RELEASE=sedm&FILE_NAME=EUC_MER_CATALOG-PSF-NIR-H_TILE102159777-60BFF3_20240409T072533.271838Z_00.00.fits&RETRIEVAL_TYPE=FILE\n",
      "------>https\n",
      "host = easotf.esac.esa.int:443\n",
      "context = /sas-dd/data\n",
      "Content-type = application/x-www-form-urlencoded\n",
      "200 \n",
      "Reading...\n"
     ]
    },
    {
     "name": "stderr",
     "output_type": "stream",
     "text": [
      "INFO:root:EUC_MER_CATALOG-PSF-NIR-H_TILE102159777-60BFF3_20240409T072533.271838Z_00.00.fits saved at /media/home/team_workspaces/Euclid-Consortium/data/strong_lensing/external_targets_pipeline/latest/tiles/EUC_MER_CATALOG-PSF-NIR-H_TILE102159777-60BFF3_20240409T072533.271838Z_00.00.fits\n"
     ]
    },
    {
     "name": "stdout",
     "output_type": "stream",
     "text": [
      "Done.\n",
      "Retrieving data.\n",
      "Data request: TAPCLIENT=ASTROQUERY&RELEASE=sedm&FILE_NAME=EUC_MER_MOSAIC-NIR-H-RMS_TILE102159777-565A73_20240408T220903.926320Z_00.00.fits&RETRIEVAL_TYPE=FILE\n",
      "------>https\n",
      "host = easotf.esac.esa.int:443\n",
      "context = /sas-dd/data\n",
      "Content-type = application/x-www-form-urlencoded\n",
      "200 \n",
      "Reading...\n"
     ]
    },
    {
     "name": "stderr",
     "output_type": "stream",
     "text": [
      "INFO:root:EUC_MER_MOSAIC-NIR-H-RMS_TILE102159777-565A73_20240408T220903.926320Z_00.00.fits saved at /media/home/team_workspaces/Euclid-Consortium/data/strong_lensing/external_targets_pipeline/latest/tiles/EUC_MER_MOSAIC-NIR-H-RMS_TILE102159777-565A73_20240408T220903.926320Z_00.00.fits\n"
     ]
    },
    {
     "name": "stdout",
     "output_type": "stream",
     "text": [
      "Done.\n"
     ]
    },
    {
     "name": "stderr",
     "output_type": "stream",
     "text": [
      "INFO:root:Downloaded all data for tile 102159777\n",
      "INFO:root:Loaded tile, ready to slice\n",
      "INFO:root:Cutout data sliced for band VIS\n",
      "INFO:root:Loaded tile, ready to slice\n",
      "INFO:root:Cutout data sliced for band NIR_Y\n",
      "INFO:root:Loaded tile, ready to slice\n",
      "INFO:root:Cutout data sliced for band NIR_J\n",
      "INFO:root:Loaded tile, ready to slice\n",
      "INFO:root:Cutout data sliced for band NIR_H\n",
      "INFO:root:Cutout data sliced for all bands, begin saving to disk\n",
      "INFO:root:Saved cutouts for all targets in tile 102159777\n",
      "INFO:root:Tile 102159195, 52 of 192\n",
      "INFO:astroquery:Query finished.\n",
      "INFO:root:Found 12 query results\n",
      "INFO:root:Downloading all data for tile 102159195\n"
     ]
    },
    {
     "name": "stdout",
     "output_type": "stream",
     "text": [
      "INFO: Query finished. [astroquery.utils.tap.core]\n"
     ]
    },
    {
     "name": "stderr",
     "output_type": "stream",
     "text": [
      "INFO:root:Downloaded all data for tile 102159195\n",
      "INFO:root:Loaded tile, ready to slice\n",
      "INFO:root:Cutout data sliced for band VIS\n",
      "INFO:root:Loaded tile, ready to slice\n",
      "INFO:root:Cutout data sliced for band NIR_Y\n",
      "INFO:root:Loaded tile, ready to slice\n",
      "INFO:root:Cutout data sliced for band NIR_J\n",
      "INFO:root:Loaded tile, ready to slice\n",
      "INFO:root:Cutout data sliced for band NIR_H\n",
      "INFO:root:Cutout data sliced for all bands, begin saving to disk\n",
      "CRITICAL:root:Error saving cutout for target EUC_18932_DESI-sel\n",
      "CRITICAL:root:EUC_18932_DESI-sel.fits: RMS in VIS data is empty, likely a SAS error\n",
      "CRITICAL:root:Error saving cutout for target EUC_18048_DESI-sel\n",
      "CRITICAL:root:EUC_18048_DESI-sel.fits: RMS in VIS data is empty, likely a SAS error\n",
      "CRITICAL:root:Error saving cutout for target EUC_18051_DESI-sel_spiral\n",
      "CRITICAL:root:EUC_18051_DESI-sel_spiral.fits: RMS in VIS data is empty, likely a SAS error\n"
     ]
    }
   ],
   "source": [
    "pipeline.make_cutouts(cfg, targets_with_tiles)"
   ]
  },
  {
   "cell_type": "code",
   "execution_count": null,
   "metadata": {},
   "outputs": [],
   "source": []
  }
 ],
 "metadata": {
  "kernelspec": {
   "display_name": ".conda",
   "language": "python",
   "name": "python3"
  },
  "language_info": {
   "codemirror_mode": {
    "name": "ipython",
    "version": 3
   },
   "file_extension": ".py",
   "mimetype": "text/x-python",
   "name": "python",
   "nbconvert_exporter": "python",
   "pygments_lexer": "ipython3",
   "version": "3.9.19"
  }
 },
 "nbformat": 4,
 "nbformat_minor": 4
}
