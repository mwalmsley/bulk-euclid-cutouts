{
 "cells": [
  {
   "cell_type": "code",
   "execution_count": 7,
   "metadata": {},
   "outputs": [
    {
     "name": "stdout",
     "output_type": "stream",
     "text": [
      "The autoreload extension is already loaded. To reload it, use:\n",
      "  %reload_ext autoreload\n"
     ]
    }
   ],
   "source": [
    "%load_ext autoreload\n",
    "%autoreload 2"
   ]
  },
  {
   "cell_type": "code",
   "execution_count": 8,
   "metadata": {
    "tags": []
   },
   "outputs": [],
   "source": [
    "# hack the paths, no package install needed\n",
    "import sys\n",
    "import os\n",
    "repo_dir = '/media/user/repos/bulk-euclid-cutouts'\n",
    "os.path.isdir(repo_dir)\n",
    "sys.path.insert(0,repo_dir)"
   ]
  },
  {
   "cell_type": "code",
   "execution_count": 9,
   "metadata": {},
   "outputs": [],
   "source": [
    "import logging\n",
    "logging.basicConfig(level=logging.INFO)\n",
    "import os\n",
    "\n",
    "import numpy as np\n",
    "import matplotlib.pyplot as plt\n",
    "from omegaconf import OmegaConf\n",
    "import pandas as pd\n",
    "\n",
    "from bulk_euclid.utils import pipeline_utils\n",
    "from bulk_euclid.external_targets import pipeline"
   ]
  },
  {
   "cell_type": "markdown",
   "metadata": {},
   "source": [
    "### Authenticate"
   ]
  },
  {
   "cell_type": "code",
   "execution_count": 12,
   "metadata": {},
   "outputs": [
    {
     "name": "stderr",
     "output_type": "stream",
     "text": [
      "INFO:astroquery:Login to Euclid TAP server\n"
     ]
    },
    {
     "name": "stdout",
     "output_type": "stream",
     "text": [
      "INFO: Login to Euclid TAP server [astroquery.esa.euclid.core]\n"
     ]
    },
    {
     "name": "stdin",
     "output_type": "stream",
     "text": [
      "User:  mwalms01\n",
      "Password:  ········\n"
     ]
    },
    {
     "name": "stderr",
     "output_type": "stream",
     "text": [
      "INFO:astroquery:OK\n",
      "INFO:astroquery:Login to Euclid data service\n"
     ]
    },
    {
     "name": "stdout",
     "output_type": "stream",
     "text": [
      "INFO: OK [astroquery.utils.tap.core]\n",
      "INFO: Login to Euclid data service [astroquery.esa.euclid.core]\n"
     ]
    },
    {
     "name": "stderr",
     "output_type": "stream",
     "text": [
      "INFO:astroquery:OK\n",
      "INFO:astroquery:Login to Euclid cutout service\n"
     ]
    },
    {
     "name": "stdout",
     "output_type": "stream",
     "text": [
      "INFO: OK [astroquery.utils.tap.core]\n",
      "INFO: Login to Euclid cutout service [astroquery.esa.euclid.core]\n"
     ]
    },
    {
     "name": "stderr",
     "output_type": "stream",
     "text": [
      "INFO:astroquery:OK\n"
     ]
    },
    {
     "name": "stdout",
     "output_type": "stream",
     "text": [
      "INFO: OK [astroquery.utils.tap.core]\n"
     ]
    }
   ],
   "source": [
    "# type in your COSMOS credentials\n",
    "from astroquery.esa.euclid.core import Euclid\n",
    "Euclid.login()"
   ]
  },
  {
   "cell_type": "markdown",
   "metadata": {},
   "source": [
    "### Set Pipeline Options and Load External Targets"
   ]
  },
  {
   "cell_type": "code",
   "execution_count": 16,
   "metadata": {},
   "outputs": [
    {
     "name": "stderr",
     "output_type": "stream",
     "text": [
      "INFO:root:Saving to /media/home/my_workspace/repos/bulk-euclid-cutouts/tests/test_external_targets/test_notebook_version/external_targets_debug\n"
     ]
    }
   ],
   "source": [
    "# # you can use this config and external target list for a minimal test on six targets within one tile...\n",
    "\n",
    "# cfg_dict = dict(\n",
    "#     # TODO change this path to wherever you want to save everything\n",
    "#     base_dir='/media/home/my_workspace/repos/bulk-euclid-cutouts/tests/test_external_targets/test_notebook_version',\n",
    "#     name='external_targets_debug',\n",
    "#     release_name=None, # for no specific release or e.g. 'F-006' for one release \n",
    "#     release_priority=['CALBLOCK_PV-005_R2', 'CALBLOCK_PV-005_R3', 'F-003_240321', 'F-003_240612' , 'F-006'],\n",
    "#     bands=['VIS', 'NIR_Y'],\n",
    "#     auxillary_products=['MERPSF','MERRMS','MERBKG'],\n",
    "    \n",
    "#     # these will be filled in automatically using on base_dir\n",
    "#     download_dir=None,\n",
    "#     tile_dir=None,\n",
    "#     cutout_dir=None,\n",
    "#     fits_dir=None,\n",
    "#     sanity_dir=None\n",
    "    \n",
    "# )\n",
    "# cfg = OmegaConf.create(cfg_dict)  # easy to access with cfg.base_dir, etc\n",
    "# pipeline.create_folders(cfg)  # fill in those missing paths\n",
    "\n",
    "# external_targets = pd.DataFrame([\n",
    "#     {\n",
    "#       'id_str': 'a',\n",
    "#       'target_ra': 92.8371844681179,\n",
    "#       'target_dec': -47.8868920683699,\n",
    "#       'target_field_of_view': 20},\n",
    "#      {\n",
    "#       'id_str': 'b',\n",
    "#       'target_ra': 92.836691187603,\n",
    "#       'target_dec': -48.1117628801209,\n",
    "#       'target_field_of_view': 20},\n",
    "#      {\n",
    "#       'id_str': 'd',\n",
    "#       'target_ra': 92.835560566775,\n",
    "#       'target_dec': -47.978437467137,\n",
    "#       'target_field_of_view': 20},\n",
    "#      {\n",
    "#       'id_str': 'e',\n",
    "#       'target_ra': 92.8351734327103,\n",
    "#       'target_dec': -48.1054532354171,\n",
    "#       'target_field_of_view': 20},\n",
    "#      {\n",
    "#       'id_str': 'f',\n",
    "#       'target_ra': 92.8343976295701,\n",
    "#       'target_dec': -47.9993017111107,\n",
    "#       'target_field_of_view': 20}\n",
    "    \n",
    "# ])"
   ]
  },
  {
   "cell_type": "code",
   "execution_count": 56,
   "metadata": {
    "tags": []
   },
   "outputs": [],
   "source": [
    "release_priority = ['CALBLOCK_PV-005_R2', 'CALBLOCK_PV-005_R3', 'F-003_240321', 'F-003_240612' , 'F-006']\n",
    "# release_priority.reverse()"
   ]
  },
  {
   "cell_type": "code",
   "execution_count": 73,
   "metadata": {
    "tags": []
   },
   "outputs": [
    {
     "name": "stderr",
     "output_type": "stream",
     "text": [
      "INFO:root:Saving to /media/home/team_workspaces/Euclid-Consortium/data/strong_lensing/external_targets_pipeline/demo_lrg\n"
     ]
    },
    {
     "data": {
      "text/plain": [
       "{'base_dir': '/media/home/team_workspaces/Euclid-Consortium/data/strong_lensing/external_targets_pipeline', 'name': 'demo_lrg', 'release_name': None, 'bands': ['VIS', 'NIR_Y', 'NIR_J'], 'auxillary_products': ['MERPSF', 'MERRMS'], 'release_priority': ['CALBLOCK_PV-005_R2', 'CALBLOCK_PV-005_R3', 'F-003_240321', 'F-003_240612', 'F-006'], 'download_dir': '/media/home/team_workspaces/Euclid-Consortium/data/strong_lensing/external_targets_pipeline/demo_lrg', 'tile_dir': '/media/home/team_workspaces/Euclid-Consortium/data/strong_lensing/external_targets_pipeline/demo_lrg/tiles', 'cutout_dir': '/media/home/team_workspaces/Euclid-Consortium/data/strong_lensing/external_targets_pipeline/demo_lrg/cutouts', 'fits_dir': '/media/home/team_workspaces/Euclid-Consortium/data/strong_lensing/external_targets_pipeline/demo_lrg/cutouts/fits', 'sanity_dir': '/media/home/team_workspaces/Euclid-Consortium/data/strong_lensing/external_targets_pipeline/demo_lrg/sanity'}"
      ]
     },
     "execution_count": 73,
     "metadata": {},
     "output_type": "execute_result"
    }
   ],
   "source": [
    "# or you can use this config to run for real\n",
    "\n",
    "cfg_dict = dict(\n",
    "    base_dir='/media/home/team_workspaces/Euclid-Consortium/data/strong_lensing/external_targets_pipeline',\n",
    "    name='demo_lrg',\n",
    "    release_name=None,  # allow tiles from any release\n",
    "    bands=['VIS', 'NIR_Y', 'NIR_J'],  \n",
    "    auxillary_products=['MERPSF','MERRMS'],  # ,'MERBKG'\n",
    "    release_priority=release_priority,\n",
    "    \n",
    "    # ignore these\n",
    "    download_dir=None,\n",
    "    tile_dir=None,\n",
    "    cutout_dir=None,\n",
    "    fits_dir=None,\n",
    "    sanity_dir=None\n",
    "    \n",
    ")\n",
    "cfg = OmegaConf.create(cfg_dict)  # easy to access with cfg.base_dir, etc\n",
    "pipeline.create_folders(cfg)  # fill in those missing paths\n"
   ]
  },
  {
   "cell_type": "code",
   "execution_count": 74,
   "metadata": {
    "tags": []
   },
   "outputs": [],
   "source": [
    "\n",
    "# TODO use your own csv, it just needs the columns specified here\n",
    "# external_targets = pd.read_csv('/media/home/my_workspace/combined_karina_strong_lens_classifications.csv', usecols=['id_str', 'target_ra', 'target_dec'])\n",
    "# external_targets['target_field_of_view'] = 20  # arcseconds\n",
    "\n",
    "external_targets = pd.read_csv('/media/home/my_workspace/repos/bulk-euclid-cutouts/bulk_euclid/external_targets/LRGs_4sims_all.csv')\n",
    "external_targets = external_targets.rename(columns={'ra': 'target_ra', 'dec': 'target_dec', 'ID': 'id_str'})\n",
    "del external_targets['Unnamed: 0']\n",
    "external_targets['target_field_of_view'] = 20  # arcseconds"
   ]
  },
  {
   "cell_type": "code",
   "execution_count": 75,
   "metadata": {
    "tags": []
   },
   "outputs": [
    {
     "data": {
      "text/plain": [
       "15146"
      ]
     },
     "execution_count": 75,
     "metadata": {},
     "output_type": "execute_result"
    }
   ],
   "source": [
    "len(external_targets)"
   ]
  },
  {
   "cell_type": "code",
   "execution_count": 76,
   "metadata": {
    "tags": []
   },
   "outputs": [
    {
     "data": {
      "text/html": [
       "<div>\n",
       "<style scoped>\n",
       "    .dataframe tbody tr th:only-of-type {\n",
       "        vertical-align: middle;\n",
       "    }\n",
       "\n",
       "    .dataframe tbody tr th {\n",
       "        vertical-align: top;\n",
       "    }\n",
       "\n",
       "    .dataframe thead th {\n",
       "        text-align: right;\n",
       "    }\n",
       "</style>\n",
       "<table border=\"1\" class=\"dataframe\">\n",
       "  <thead>\n",
       "    <tr style=\"text-align: right;\">\n",
       "      <th></th>\n",
       "      <th>id_str</th>\n",
       "      <th>target_ra</th>\n",
       "      <th>target_dec</th>\n",
       "      <th>target_field_of_view</th>\n",
       "    </tr>\n",
       "  </thead>\n",
       "  <tbody>\n",
       "    <tr>\n",
       "      <th>0</th>\n",
       "      <td>EUC_15898_DESI-sel</td>\n",
       "      <td>268.870653</td>\n",
       "      <td>65.253093</td>\n",
       "      <td>20</td>\n",
       "    </tr>\n",
       "    <tr>\n",
       "      <th>1</th>\n",
       "      <td>EUC_2767_DESI-sel</td>\n",
       "      <td>150.341459</td>\n",
       "      <td>1.864402</td>\n",
       "      <td>20</td>\n",
       "    </tr>\n",
       "    <tr>\n",
       "      <th>2</th>\n",
       "      <td>EUC_2771_DESI-sel</td>\n",
       "      <td>150.364732</td>\n",
       "      <td>1.846961</td>\n",
       "      <td>20</td>\n",
       "    </tr>\n",
       "    <tr>\n",
       "      <th>3</th>\n",
       "      <td>EUC_21374_DESI-sel</td>\n",
       "      <td>267.736754</td>\n",
       "      <td>66.934327</td>\n",
       "      <td>20</td>\n",
       "    </tr>\n",
       "    <tr>\n",
       "      <th>4</th>\n",
       "      <td>EUC_17153_DESI-sel</td>\n",
       "      <td>272.923035</td>\n",
       "      <td>65.479365</td>\n",
       "      <td>20</td>\n",
       "    </tr>\n",
       "    <tr>\n",
       "      <th>...</th>\n",
       "      <td>...</td>\n",
       "      <td>...</td>\n",
       "      <td>...</td>\n",
       "      <td>...</td>\n",
       "    </tr>\n",
       "    <tr>\n",
       "      <th>15141</th>\n",
       "      <td>1237671751363723635</td>\n",
       "      <td>180.609610</td>\n",
       "      <td>68.433166</td>\n",
       "      <td>20</td>\n",
       "    </tr>\n",
       "    <tr>\n",
       "      <th>15142</th>\n",
       "      <td>1237671751363723635</td>\n",
       "      <td>180.609610</td>\n",
       "      <td>68.433166</td>\n",
       "      <td>20</td>\n",
       "    </tr>\n",
       "    <tr>\n",
       "      <th>15143</th>\n",
       "      <td>1237671751363723662</td>\n",
       "      <td>180.794080</td>\n",
       "      <td>68.441164</td>\n",
       "      <td>20</td>\n",
       "    </tr>\n",
       "    <tr>\n",
       "      <th>15144</th>\n",
       "      <td>1237671751363723662</td>\n",
       "      <td>180.794080</td>\n",
       "      <td>68.441164</td>\n",
       "      <td>20</td>\n",
       "    </tr>\n",
       "    <tr>\n",
       "      <th>15145</th>\n",
       "      <td>1237671751363723662</td>\n",
       "      <td>180.794080</td>\n",
       "      <td>68.441164</td>\n",
       "      <td>20</td>\n",
       "    </tr>\n",
       "  </tbody>\n",
       "</table>\n",
       "<p>15146 rows × 4 columns</p>\n",
       "</div>"
      ],
      "text/plain": [
       "                    id_str   target_ra  target_dec  target_field_of_view\n",
       "0       EUC_15898_DESI-sel  268.870653   65.253093                    20\n",
       "1        EUC_2767_DESI-sel  150.341459    1.864402                    20\n",
       "2        EUC_2771_DESI-sel  150.364732    1.846961                    20\n",
       "3       EUC_21374_DESI-sel  267.736754   66.934327                    20\n",
       "4       EUC_17153_DESI-sel  272.923035   65.479365                    20\n",
       "...                    ...         ...         ...                   ...\n",
       "15141  1237671751363723635  180.609610   68.433166                    20\n",
       "15142  1237671751363723635  180.609610   68.433166                    20\n",
       "15143  1237671751363723662  180.794080   68.441164                    20\n",
       "15144  1237671751363723662  180.794080   68.441164                    20\n",
       "15145  1237671751363723662  180.794080   68.441164                    20\n",
       "\n",
       "[15146 rows x 4 columns]"
      ]
     },
     "execution_count": 76,
     "metadata": {},
     "output_type": "execute_result"
    }
   ],
   "source": [
    "external_targets"
   ]
  },
  {
   "cell_type": "markdown",
   "metadata": {},
   "source": [
    "### For each target, find a tile that covers it"
   ]
  },
  {
   "cell_type": "code",
   "execution_count": 77,
   "metadata": {
    "tags": []
   },
   "outputs": [
    {
     "name": "stderr",
     "output_type": "stream",
     "text": [
      "INFO:astroquery:Query finished.\n",
      "INFO:root:Begin target/tile cross-match\n"
     ]
    },
    {
     "name": "stdout",
     "output_type": "stream",
     "text": [
      "INFO: Query finished. [astroquery.utils.tap.core]\n",
      "Found 2514  query results\n"
     ]
    },
    {
     "name": "stderr",
     "output_type": "stream",
     "text": [
      "INFO:root:Matched 15146 targets to 196 tiles\n",
      "INFO:root:Targets with tile matches: 14866\n",
      "/media/user/repos/bulk-euclid-cutouts/bulk_euclid/external_targets/pipeline.py:144: SettingWithCopyWarning: \n",
      "A value is trying to be set on a copy of a slice from a DataFrame.\n",
      "Try using .loc[row_indexer,col_indexer] = value instead\n",
      "\n",
      "See the caveats in the documentation: https://pandas.pydata.org/pandas-docs/stable/user_guide/indexing.html#returning-a-view-versus-a-copy\n",
      "  targets_with_tiles[\"tile_index\"] = targets_with_tiles[\"tile_index\"].astype(int)\n"
     ]
    },
    {
     "data": {
      "text/html": [
       "<div>\n",
       "<style scoped>\n",
       "    .dataframe tbody tr th:only-of-type {\n",
       "        vertical-align: middle;\n",
       "    }\n",
       "\n",
       "    .dataframe tbody tr th {\n",
       "        vertical-align: top;\n",
       "    }\n",
       "\n",
       "    .dataframe thead th {\n",
       "        text-align: right;\n",
       "    }\n",
       "</style>\n",
       "<table border=\"1\" class=\"dataframe\">\n",
       "  <thead>\n",
       "    <tr style=\"text-align: right;\">\n",
       "      <th></th>\n",
       "      <th>id_str</th>\n",
       "      <th>target_ra</th>\n",
       "      <th>target_dec</th>\n",
       "      <th>target_field_of_view</th>\n",
       "      <th>tile_index</th>\n",
       "      <th>release_name</th>\n",
       "    </tr>\n",
       "  </thead>\n",
       "  <tbody>\n",
       "    <tr>\n",
       "      <th>0</th>\n",
       "      <td>EUC_15898_DESI-sel</td>\n",
       "      <td>268.870653</td>\n",
       "      <td>65.253093</td>\n",
       "      <td>20</td>\n",
       "      <td>102158890</td>\n",
       "      <td>F-003_240612</td>\n",
       "    </tr>\n",
       "    <tr>\n",
       "      <th>1</th>\n",
       "      <td>EUC_2767_DESI-sel</td>\n",
       "      <td>150.341459</td>\n",
       "      <td>1.864402</td>\n",
       "      <td>20</td>\n",
       "      <td>101542818</td>\n",
       "      <td>CALBLOCK_PV-005_R2</td>\n",
       "    </tr>\n",
       "    <tr>\n",
       "      <th>2</th>\n",
       "      <td>EUC_2771_DESI-sel</td>\n",
       "      <td>150.364732</td>\n",
       "      <td>1.846961</td>\n",
       "      <td>20</td>\n",
       "      <td>101541378</td>\n",
       "      <td>CALBLOCK_PV-005_R2</td>\n",
       "    </tr>\n",
       "    <tr>\n",
       "      <th>3</th>\n",
       "      <td>EUC_21374_DESI-sel</td>\n",
       "      <td>267.736754</td>\n",
       "      <td>66.934327</td>\n",
       "      <td>20</td>\n",
       "      <td>102159774</td>\n",
       "      <td>F-003_240612</td>\n",
       "    </tr>\n",
       "    <tr>\n",
       "      <th>4</th>\n",
       "      <td>EUC_17153_DESI-sel</td>\n",
       "      <td>272.923035</td>\n",
       "      <td>65.479365</td>\n",
       "      <td>20</td>\n",
       "      <td>102158894</td>\n",
       "      <td>F-003_240612</td>\n",
       "    </tr>\n",
       "    <tr>\n",
       "      <th>...</th>\n",
       "      <td>...</td>\n",
       "      <td>...</td>\n",
       "      <td>...</td>\n",
       "      <td>...</td>\n",
       "      <td>...</td>\n",
       "      <td>...</td>\n",
       "    </tr>\n",
       "    <tr>\n",
       "      <th>14861</th>\n",
       "      <td>1237671751363723635</td>\n",
       "      <td>180.609610</td>\n",
       "      <td>68.433166</td>\n",
       "      <td>20</td>\n",
       "      <td>102160541</td>\n",
       "      <td>F-006</td>\n",
       "    </tr>\n",
       "    <tr>\n",
       "      <th>14862</th>\n",
       "      <td>1237671751363723635</td>\n",
       "      <td>180.609610</td>\n",
       "      <td>68.433166</td>\n",
       "      <td>20</td>\n",
       "      <td>102160541</td>\n",
       "      <td>F-006</td>\n",
       "    </tr>\n",
       "    <tr>\n",
       "      <th>14863</th>\n",
       "      <td>1237671751363723662</td>\n",
       "      <td>180.794080</td>\n",
       "      <td>68.441164</td>\n",
       "      <td>20</td>\n",
       "      <td>102160541</td>\n",
       "      <td>F-006</td>\n",
       "    </tr>\n",
       "    <tr>\n",
       "      <th>14864</th>\n",
       "      <td>1237671751363723662</td>\n",
       "      <td>180.794080</td>\n",
       "      <td>68.441164</td>\n",
       "      <td>20</td>\n",
       "      <td>102160541</td>\n",
       "      <td>F-006</td>\n",
       "    </tr>\n",
       "    <tr>\n",
       "      <th>14865</th>\n",
       "      <td>1237671751363723662</td>\n",
       "      <td>180.794080</td>\n",
       "      <td>68.441164</td>\n",
       "      <td>20</td>\n",
       "      <td>102160541</td>\n",
       "      <td>F-006</td>\n",
       "    </tr>\n",
       "  </tbody>\n",
       "</table>\n",
       "<p>14866 rows × 6 columns</p>\n",
       "</div>"
      ],
      "text/plain": [
       "                    id_str   target_ra  target_dec  target_field_of_view  \\\n",
       "0       EUC_15898_DESI-sel  268.870653   65.253093                    20   \n",
       "1        EUC_2767_DESI-sel  150.341459    1.864402                    20   \n",
       "2        EUC_2771_DESI-sel  150.364732    1.846961                    20   \n",
       "3       EUC_21374_DESI-sel  267.736754   66.934327                    20   \n",
       "4       EUC_17153_DESI-sel  272.923035   65.479365                    20   \n",
       "...                    ...         ...         ...                   ...   \n",
       "14861  1237671751363723635  180.609610   68.433166                    20   \n",
       "14862  1237671751363723635  180.609610   68.433166                    20   \n",
       "14863  1237671751363723662  180.794080   68.441164                    20   \n",
       "14864  1237671751363723662  180.794080   68.441164                    20   \n",
       "14865  1237671751363723662  180.794080   68.441164                    20   \n",
       "\n",
       "       tile_index        release_name  \n",
       "0       102158890        F-003_240612  \n",
       "1       101542818  CALBLOCK_PV-005_R2  \n",
       "2       101541378  CALBLOCK_PV-005_R2  \n",
       "3       102159774        F-003_240612  \n",
       "4       102158894        F-003_240612  \n",
       "...           ...                 ...  \n",
       "14861   102160541               F-006  \n",
       "14862   102160541               F-006  \n",
       "14863   102160541               F-006  \n",
       "14864   102160541               F-006  \n",
       "14865   102160541               F-006  \n",
       "\n",
       "[14866 rows x 6 columns]"
      ]
     },
     "execution_count": 77,
     "metadata": {},
     "output_type": "execute_result"
    }
   ],
   "source": [
    "targets_with_tiles = pipeline.get_matching_tiles(cfg, external_targets)\n",
    "targets_with_tiles"
   ]
  },
  {
   "cell_type": "code",
   "execution_count": 78,
   "metadata": {
    "tags": []
   },
   "outputs": [
    {
     "data": {
      "text/plain": [
       "release_name\n",
       "F-006                 10884\n",
       "F-003_240612           2758\n",
       "CALBLOCK_PV-005_R2     1172\n",
       "F-003_240321             52\n",
       "Name: count, dtype: int64"
      ]
     },
     "execution_count": 78,
     "metadata": {},
     "output_type": "execute_result"
    }
   ],
   "source": [
    "targets_with_tiles['release_name'].value_counts()"
   ]
  },
  {
   "cell_type": "code",
   "execution_count": 79,
   "metadata": {
    "tags": []
   },
   "outputs": [],
   "source": [
    "targets_with_tiles = targets_with_tiles.sort_values('tile_index')[:1000]"
   ]
  },
  {
   "cell_type": "markdown",
   "metadata": {},
   "source": [
    "The speed of the pipeline depends on the number of tiles to download. It takes a few minutes per tile."
   ]
  },
  {
   "cell_type": "code",
   "execution_count": 80,
   "metadata": {
    "tags": []
   },
   "outputs": [
    {
     "data": {
      "text/plain": [
       "19"
      ]
     },
     "execution_count": 80,
     "metadata": {},
     "output_type": "execute_result"
    }
   ],
   "source": [
    "targets_with_tiles['tile_index'].nunique()"
   ]
  },
  {
   "cell_type": "markdown",
   "metadata": {},
   "source": [
    "### For every tile, download the flux and auxillary (PSF, RMS, BKG) data and make cutouts around each target in that tile"
   ]
  },
  {
   "cell_type": "code",
   "execution_count": null,
   "metadata": {
    "tags": []
   },
   "outputs": [
    {
     "name": "stderr",
     "output_type": "stream",
     "text": [
      "INFO:root:Tile 101541377, 0 of 19\n",
      "INFO:astroquery:Query finished.\n"
     ]
    },
    {
     "name": "stdout",
     "output_type": "stream",
     "text": [
      "INFO: Query finished. [astroquery.utils.tap.core]\n",
      "Found 3  query results\n",
      "Retrieving data.\n",
      "Data request: TAPCLIENT=ASTROQUERY&RELEASE=sedm&FILE_NAME=EUC_MER_MOSAIC-NIR-J-RMS_TILE101541377-88F8C6_20240201T185157.303988Z_00.00.fits&RETRIEVAL_TYPE=FILE\n",
      "------>https\n",
      "host = easotf.esac.esa.int:443\n",
      "context = /sas-dd/data\n",
      "Content-type = application/x-www-form-urlencoded\n",
      "200 \n",
      "Reading...\n"
     ]
    },
    {
     "name": "stderr",
     "output_type": "stream",
     "text": [
      "INFO:root:EUC_MER_MOSAIC-NIR-J-RMS_TILE101541377-88F8C6_20240201T185157.303988Z_00.00.fits saved at /media/home/team_workspaces/Euclid-Consortium/data/strong_lensing/external_targets_pipeline/demo_lrg/tiles/EUC_MER_MOSAIC-NIR-J-RMS_TILE101541377-88F8C6_20240201T185157.303988Z_00.00.fits\n",
      "INFO:root:Downloaded flux+auxillary tiles: {'VIS': {'FLUX': '/media/home/team_workspaces/Euclid-Consortium/data/strong_lensing/external_targets_pipeline/demo_lrg/tiles/EUC_MER_BGSUB-MOSAIC-VIS_TILE101541377-2E186_20240201T190014.111492Z_00.00.fits', 'MERRMS': '/media/home/team_workspaces/Euclid-Consortium/data/strong_lensing/external_targets_pipeline/demo_lrg/tiles/EUC_MER_MOSAIC-VIS-RMS_TILE101541377-E3AEDE_20240201T185327.031980Z_00.00.fits', 'MERPSF': '/media/home/team_workspaces/Euclid-Consortium/data/strong_lensing/external_targets_pipeline/demo_lrg/tiles/EUC_MER_CATALOG-PSF-VIS_TILE101541377-B2B5C3_20240201T190536.758003Z_00.00.fits'}, 'NIR_Y': {'FLUX': '/media/home/team_workspaces/Euclid-Consortium/data/strong_lensing/external_targets_pipeline/demo_lrg/tiles/EUC_MER_BGSUB-MOSAIC-NIR-Y_TILE101541377-6F8891_20240201T185319.156397Z_00.00.fits', 'MERRMS': '/media/home/team_workspaces/Euclid-Consortium/data/strong_lensing/external_targets_pipeline/demo_lrg/tiles/EUC_MER_MOSAIC-NIR-Y-RMS_TILE101541377-6B4880_20240201T185125.926490Z_00.00.fits', 'MERPSF': '/media/home/team_workspaces/Euclid-Consortium/data/strong_lensing/external_targets_pipeline/demo_lrg/tiles/EUC_MER_CATALOG-PSF-NIR-Y_TILE101541377-6C3E90_20240201T190440.680905Z_00.00.fits'}, 'NIR_J': {'FLUX': '/media/home/team_workspaces/Euclid-Consortium/data/strong_lensing/external_targets_pipeline/demo_lrg/tiles/EUC_MER_BGSUB-MOSAIC-NIR-J_TILE101541377-56115E_20240201T185356.411744Z_00.00.fits', 'MERRMS': '/media/home/team_workspaces/Euclid-Consortium/data/strong_lensing/external_targets_pipeline/demo_lrg/tiles/EUC_MER_MOSAIC-NIR-J-RMS_TILE101541377-88F8C6_20240201T185157.303988Z_00.00.fits', 'MERPSF': '/media/home/team_workspaces/Euclid-Consortium/data/strong_lensing/external_targets_pipeline/demo_lrg/tiles/EUC_MER_CATALOG-PSF-NIR-J_TILE101541377-8C6D5D_20240201T190445.421918Z_00.00.fits'}}\n",
      "INFO:root:Downloaded: {'VIS': {'FLUX': '/media/home/team_workspaces/Euclid-Consortium/data/strong_lensing/external_targets_pipeline/demo_lrg/tiles/EUC_MER_BGSUB-MOSAIC-VIS_TILE101541377-2E186_20240201T190014.111492Z_00.00.fits', 'MERRMS': '/media/home/team_workspaces/Euclid-Consortium/data/strong_lensing/external_targets_pipeline/demo_lrg/tiles/EUC_MER_MOSAIC-VIS-RMS_TILE101541377-E3AEDE_20240201T185327.031980Z_00.00.fits', 'MERPSF': '/media/home/team_workspaces/Euclid-Consortium/data/strong_lensing/external_targets_pipeline/demo_lrg/tiles/EUC_MER_CATALOG-PSF-VIS_TILE101541377-B2B5C3_20240201T190536.758003Z_00.00.fits'}, 'NIR_Y': {'FLUX': '/media/home/team_workspaces/Euclid-Consortium/data/strong_lensing/external_targets_pipeline/demo_lrg/tiles/EUC_MER_BGSUB-MOSAIC-NIR-Y_TILE101541377-6F8891_20240201T185319.156397Z_00.00.fits', 'MERRMS': '/media/home/team_workspaces/Euclid-Consortium/data/strong_lensing/external_targets_pipeline/demo_lrg/tiles/EUC_MER_MOSAIC-NIR-Y-RMS_TILE101541377-6B4880_20240201T185125.926490Z_00.00.fits', 'MERPSF': '/media/home/team_workspaces/Euclid-Consortium/data/strong_lensing/external_targets_pipeline/demo_lrg/tiles/EUC_MER_CATALOG-PSF-NIR-Y_TILE101541377-6C3E90_20240201T190440.680905Z_00.00.fits'}, 'NIR_J': {'FLUX': '/media/home/team_workspaces/Euclid-Consortium/data/strong_lensing/external_targets_pipeline/demo_lrg/tiles/EUC_MER_BGSUB-MOSAIC-NIR-J_TILE101541377-56115E_20240201T185356.411744Z_00.00.fits', 'MERRMS': '/media/home/team_workspaces/Euclid-Consortium/data/strong_lensing/external_targets_pipeline/demo_lrg/tiles/EUC_MER_MOSAIC-NIR-J-RMS_TILE101541377-88F8C6_20240201T185157.303988Z_00.00.fits', 'MERPSF': '/media/home/team_workspaces/Euclid-Consortium/data/strong_lensing/external_targets_pipeline/demo_lrg/tiles/EUC_MER_CATALOG-PSF-NIR-J_TILE101541377-8C6D5D_20240201T190445.421918Z_00.00.fits'}}\n"
     ]
    },
    {
     "name": "stdout",
     "output_type": "stream",
     "text": [
      "Done.\n"
     ]
    },
    {
     "name": "stderr",
     "output_type": "stream",
     "text": [
      "WARNING: VerifyWarning: Keyword name 'EXTNAME10' is greater than 8 characters or contains characters not allowed by the FITS standard; a HIERARCH card will be created. [astropy.io.fits.card]\n",
      "WARNING:astroquery:VerifyWarning: Keyword name 'EXTNAME10' is greater than 8 characters or contains characters not allowed by the FITS standard; a HIERARCH card will be created.\n",
      "WARNING: VerifyWarning: Keyword name 'EXTNAME11' is greater than 8 characters or contains characters not allowed by the FITS standard; a HIERARCH card will be created. [astropy.io.fits.card]\n",
      "WARNING:astroquery:VerifyWarning: Keyword name 'EXTNAME11' is greater than 8 characters or contains characters not allowed by the FITS standard; a HIERARCH card will be created.\n",
      "WARNING: VerifyWarning: Card is too long, comment will be truncated. [astropy.io.fits.card]\n",
      "WARNING:astroquery:VerifyWarning: Card is too long, comment will be truncated.\n",
      "INFO:root:Tile 101541378, 1 of 19\n",
      "INFO:astroquery:Query finished.\n"
     ]
    },
    {
     "name": "stdout",
     "output_type": "stream",
     "text": [
      "INFO: Query finished. [astroquery.utils.tap.core]\n",
      "Found 3  query results\n",
      "Retrieving data.\n",
      "Data request: TAPCLIENT=ASTROQUERY&RELEASE=sedm&FILE_NAME=EUC_MER_MOSAIC-NIR-J-RMS_TILE101541378-723B15_20240201T211605.032152Z_00.00.fits&RETRIEVAL_TYPE=FILE\n",
      "------>https\n",
      "host = easotf.esac.esa.int:443\n",
      "context = /sas-dd/data\n",
      "Content-type = application/x-www-form-urlencoded\n",
      "200 \n",
      "Reading...\n"
     ]
    },
    {
     "name": "stderr",
     "output_type": "stream",
     "text": [
      "INFO:root:EUC_MER_MOSAIC-NIR-J-RMS_TILE101541378-723B15_20240201T211605.032152Z_00.00.fits saved at /media/home/team_workspaces/Euclid-Consortium/data/strong_lensing/external_targets_pipeline/demo_lrg/tiles/EUC_MER_MOSAIC-NIR-J-RMS_TILE101541378-723B15_20240201T211605.032152Z_00.00.fits\n",
      "INFO:root:Downloaded flux+auxillary tiles: {'VIS': {'FLUX': '/media/home/team_workspaces/Euclid-Consortium/data/strong_lensing/external_targets_pipeline/demo_lrg/tiles/EUC_MER_BGSUB-MOSAIC-VIS_TILE101541378-737592_20240201T222127.194874Z_00.00.fits', 'MERRMS': '/media/home/team_workspaces/Euclid-Consortium/data/strong_lensing/external_targets_pipeline/demo_lrg/tiles/EUC_MER_MOSAIC-VIS-RMS_TILE101541378-65ED95_20240201T212225.072536Z_00.00.fits', 'MERPSF': '/media/home/team_workspaces/Euclid-Consortium/data/strong_lensing/external_targets_pipeline/demo_lrg/tiles/EUC_MER_CATALOG-PSF-VIS_TILE101541378-F7549B_20240201T223446.135532Z_00.00.fits'}, 'NIR_Y': {'FLUX': '/media/home/team_workspaces/Euclid-Consortium/data/strong_lensing/external_targets_pipeline/demo_lrg/tiles/EUC_MER_BGSUB-MOSAIC-NIR-Y_TILE101541378-143B40_20240201T213700.381755Z_00.00.fits', 'MERPSF': '/media/home/team_workspaces/Euclid-Consortium/data/strong_lensing/external_targets_pipeline/demo_lrg/tiles/EUC_MER_CATALOG-PSF-NIR-Y_TILE101541378-EB7826_20240201T223205.175217Z_00.00.fits', 'MERRMS': '/media/home/team_workspaces/Euclid-Consortium/data/strong_lensing/external_targets_pipeline/demo_lrg/tiles/EUC_MER_MOSAIC-NIR-Y-RMS_TILE101541378-85C56A_20240201T211736.192485Z_00.00.fits'}, 'NIR_J': {'FLUX': '/media/home/team_workspaces/Euclid-Consortium/data/strong_lensing/external_targets_pipeline/demo_lrg/tiles/EUC_MER_BGSUB-MOSAIC-NIR-J_TILE101541378-8EE8D9_20240201T213247.321130Z_00.00.fits', 'MERRMS': '/media/home/team_workspaces/Euclid-Consortium/data/strong_lensing/external_targets_pipeline/demo_lrg/tiles/EUC_MER_MOSAIC-NIR-J-RMS_TILE101541378-723B15_20240201T211605.032152Z_00.00.fits', 'MERPSF': '/media/home/team_workspaces/Euclid-Consortium/data/strong_lensing/external_targets_pipeline/demo_lrg/tiles/EUC_MER_CATALOG-PSF-NIR-J_TILE101541378-CFCD5A_20240201T223156.565276Z_00.00.fits'}}\n",
      "INFO:root:Downloaded: {'VIS': {'FLUX': '/media/home/team_workspaces/Euclid-Consortium/data/strong_lensing/external_targets_pipeline/demo_lrg/tiles/EUC_MER_BGSUB-MOSAIC-VIS_TILE101541378-737592_20240201T222127.194874Z_00.00.fits', 'MERRMS': '/media/home/team_workspaces/Euclid-Consortium/data/strong_lensing/external_targets_pipeline/demo_lrg/tiles/EUC_MER_MOSAIC-VIS-RMS_TILE101541378-65ED95_20240201T212225.072536Z_00.00.fits', 'MERPSF': '/media/home/team_workspaces/Euclid-Consortium/data/strong_lensing/external_targets_pipeline/demo_lrg/tiles/EUC_MER_CATALOG-PSF-VIS_TILE101541378-F7549B_20240201T223446.135532Z_00.00.fits'}, 'NIR_Y': {'FLUX': '/media/home/team_workspaces/Euclid-Consortium/data/strong_lensing/external_targets_pipeline/demo_lrg/tiles/EUC_MER_BGSUB-MOSAIC-NIR-Y_TILE101541378-143B40_20240201T213700.381755Z_00.00.fits', 'MERPSF': '/media/home/team_workspaces/Euclid-Consortium/data/strong_lensing/external_targets_pipeline/demo_lrg/tiles/EUC_MER_CATALOG-PSF-NIR-Y_TILE101541378-EB7826_20240201T223205.175217Z_00.00.fits', 'MERRMS': '/media/home/team_workspaces/Euclid-Consortium/data/strong_lensing/external_targets_pipeline/demo_lrg/tiles/EUC_MER_MOSAIC-NIR-Y-RMS_TILE101541378-85C56A_20240201T211736.192485Z_00.00.fits'}, 'NIR_J': {'FLUX': '/media/home/team_workspaces/Euclid-Consortium/data/strong_lensing/external_targets_pipeline/demo_lrg/tiles/EUC_MER_BGSUB-MOSAIC-NIR-J_TILE101541378-8EE8D9_20240201T213247.321130Z_00.00.fits', 'MERRMS': '/media/home/team_workspaces/Euclid-Consortium/data/strong_lensing/external_targets_pipeline/demo_lrg/tiles/EUC_MER_MOSAIC-NIR-J-RMS_TILE101541378-723B15_20240201T211605.032152Z_00.00.fits', 'MERPSF': '/media/home/team_workspaces/Euclid-Consortium/data/strong_lensing/external_targets_pipeline/demo_lrg/tiles/EUC_MER_CATALOG-PSF-NIR-J_TILE101541378-CFCD5A_20240201T223156.565276Z_00.00.fits'}}\n"
     ]
    },
    {
     "name": "stdout",
     "output_type": "stream",
     "text": [
      "Done.\n"
     ]
    },
    {
     "name": "stderr",
     "output_type": "stream",
     "text": [
      "WARNING: VerifyWarning: Keyword name 'EXTNAME10' is greater than 8 characters or contains characters not allowed by the FITS standard; a HIERARCH card will be created. [astropy.io.fits.card]\n",
      "WARNING:astroquery:VerifyWarning: Keyword name 'EXTNAME10' is greater than 8 characters or contains characters not allowed by the FITS standard; a HIERARCH card will be created.\n",
      "WARNING: VerifyWarning: Keyword name 'EXTNAME11' is greater than 8 characters or contains characters not allowed by the FITS standard; a HIERARCH card will be created. [astropy.io.fits.card]\n",
      "WARNING:astroquery:VerifyWarning: Keyword name 'EXTNAME11' is greater than 8 characters or contains characters not allowed by the FITS standard; a HIERARCH card will be created.\n",
      "WARNING: VerifyWarning: Card is too long, comment will be truncated. [astropy.io.fits.card]\n",
      "WARNING:astroquery:VerifyWarning: Card is too long, comment will be truncated.\n",
      "INFO:root:Tile 101542815, 2 of 19\n",
      "INFO:astroquery:Query finished.\n"
     ]
    },
    {
     "name": "stdout",
     "output_type": "stream",
     "text": [
      "INFO: Query finished. [astroquery.utils.tap.core]\n",
      "Found 3  query results\n",
      "Retrieving data.\n",
      "Data request: TAPCLIENT=ASTROQUERY&RELEASE=sedm&FILE_NAME=EUC_MER_MOSAIC-NIR-J-RMS_TILE101542815-92EBCA_20240202T005838.027364Z_00.00.fits&RETRIEVAL_TYPE=FILE\n",
      "------>https\n",
      "host = easotf.esac.esa.int:443\n",
      "context = /sas-dd/data\n",
      "Content-type = application/x-www-form-urlencoded\n",
      "200 \n",
      "Reading...\n"
     ]
    },
    {
     "name": "stderr",
     "output_type": "stream",
     "text": [
      "INFO:root:EUC_MER_MOSAIC-NIR-J-RMS_TILE101542815-92EBCA_20240202T005838.027364Z_00.00.fits saved at /media/home/team_workspaces/Euclid-Consortium/data/strong_lensing/external_targets_pipeline/demo_lrg/tiles/EUC_MER_MOSAIC-NIR-J-RMS_TILE101542815-92EBCA_20240202T005838.027364Z_00.00.fits\n"
     ]
    },
    {
     "name": "stdout",
     "output_type": "stream",
     "text": [
      "Done.\n",
      "Retrieving data.\n",
      "Data request: TAPCLIENT=ASTROQUERY&RELEASE=sedm&FILE_NAME=EUC_MER_MOSAIC-VIS-RMS_TILE101542815-131AF_20240202T011958.570311Z_00.00.fits&RETRIEVAL_TYPE=FILE\n",
      "------>https\n",
      "host = easotf.esac.esa.int:443\n",
      "context = /sas-dd/data\n",
      "Content-type = application/x-www-form-urlencoded\n",
      "200 \n",
      "Reading...\n"
     ]
    },
    {
     "name": "stderr",
     "output_type": "stream",
     "text": [
      "INFO:root:EUC_MER_MOSAIC-VIS-RMS_TILE101542815-131AF_20240202T011958.570311Z_00.00.fits saved at /media/home/team_workspaces/Euclid-Consortium/data/strong_lensing/external_targets_pipeline/demo_lrg/tiles/EUC_MER_MOSAIC-VIS-RMS_TILE101542815-131AF_20240202T011958.570311Z_00.00.fits\n"
     ]
    },
    {
     "name": "stdout",
     "output_type": "stream",
     "text": [
      "Done.\n",
      "Retrieving data.\n",
      "Data request: TAPCLIENT=ASTROQUERY&RELEASE=sedm&FILE_NAME=EUC_MER_MOSAIC-NIR-Y-RMS_TILE101542815-37E4DC_20240202T010141.774826Z_00.00.fits&RETRIEVAL_TYPE=FILE\n",
      "------>https\n",
      "host = easotf.esac.esa.int:443\n",
      "context = /sas-dd/data\n",
      "Content-type = application/x-www-form-urlencoded\n",
      "200 \n",
      "Reading...\n"
     ]
    },
    {
     "name": "stderr",
     "output_type": "stream",
     "text": [
      "INFO:root:EUC_MER_MOSAIC-NIR-Y-RMS_TILE101542815-37E4DC_20240202T010141.774826Z_00.00.fits saved at /media/home/team_workspaces/Euclid-Consortium/data/strong_lensing/external_targets_pipeline/demo_lrg/tiles/EUC_MER_MOSAIC-NIR-Y-RMS_TILE101542815-37E4DC_20240202T010141.774826Z_00.00.fits\n",
      "INFO:root:Downloaded flux+auxillary tiles: {'NIR_J': {'FLUX': '/media/home/team_workspaces/Euclid-Consortium/data/strong_lensing/external_targets_pipeline/demo_lrg/tiles/EUC_MER_BGSUB-MOSAIC-NIR-J_TILE101542815-905DE7_20240202T015335.418982Z_00.00.fits', 'MERPSF': '/media/home/team_workspaces/Euclid-Consortium/data/strong_lensing/external_targets_pipeline/demo_lrg/tiles/EUC_MER_CATALOG-PSF-NIR-J_TILE101542815-F2252_20240202T034259.105872Z_00.00.fits', 'MERRMS': '/media/home/team_workspaces/Euclid-Consortium/data/strong_lensing/external_targets_pipeline/demo_lrg/tiles/EUC_MER_MOSAIC-NIR-J-RMS_TILE101542815-92EBCA_20240202T005838.027364Z_00.00.fits'}, 'VIS': {'FLUX': '/media/home/team_workspaces/Euclid-Consortium/data/strong_lensing/external_targets_pipeline/demo_lrg/tiles/EUC_MER_BGSUB-MOSAIC-VIS_TILE101542815-6EE6A8_20240202T030624.226382Z_00.00.fits', 'MERPSF': '/media/home/team_workspaces/Euclid-Consortium/data/strong_lensing/external_targets_pipeline/demo_lrg/tiles/EUC_MER_CATALOG-PSF-VIS_TILE101542815-61875A_20240202T040113.142605Z_00.00.fits', 'MERRMS': '/media/home/team_workspaces/Euclid-Consortium/data/strong_lensing/external_targets_pipeline/demo_lrg/tiles/EUC_MER_MOSAIC-VIS-RMS_TILE101542815-131AF_20240202T011958.570311Z_00.00.fits'}, 'NIR_Y': {'FLUX': '/media/home/team_workspaces/Euclid-Consortium/data/strong_lensing/external_targets_pipeline/demo_lrg/tiles/EUC_MER_BGSUB-MOSAIC-NIR-Y_TILE101542815-187C30_20240202T014913.848828Z_00.00.fits', 'MERRMS': '/media/home/team_workspaces/Euclid-Consortium/data/strong_lensing/external_targets_pipeline/demo_lrg/tiles/EUC_MER_MOSAIC-NIR-Y-RMS_TILE101542815-37E4DC_20240202T010141.774826Z_00.00.fits', 'MERPSF': '/media/home/team_workspaces/Euclid-Consortium/data/strong_lensing/external_targets_pipeline/demo_lrg/tiles/EUC_MER_CATALOG-PSF-NIR-Y_TILE101542815-416415_20240202T034333.490779Z_00.00.fits'}}\n",
      "INFO:root:Downloaded: {'NIR_J': {'FLUX': '/media/home/team_workspaces/Euclid-Consortium/data/strong_lensing/external_targets_pipeline/demo_lrg/tiles/EUC_MER_BGSUB-MOSAIC-NIR-J_TILE101542815-905DE7_20240202T015335.418982Z_00.00.fits', 'MERPSF': '/media/home/team_workspaces/Euclid-Consortium/data/strong_lensing/external_targets_pipeline/demo_lrg/tiles/EUC_MER_CATALOG-PSF-NIR-J_TILE101542815-F2252_20240202T034259.105872Z_00.00.fits', 'MERRMS': '/media/home/team_workspaces/Euclid-Consortium/data/strong_lensing/external_targets_pipeline/demo_lrg/tiles/EUC_MER_MOSAIC-NIR-J-RMS_TILE101542815-92EBCA_20240202T005838.027364Z_00.00.fits'}, 'VIS': {'FLUX': '/media/home/team_workspaces/Euclid-Consortium/data/strong_lensing/external_targets_pipeline/demo_lrg/tiles/EUC_MER_BGSUB-MOSAIC-VIS_TILE101542815-6EE6A8_20240202T030624.226382Z_00.00.fits', 'MERPSF': '/media/home/team_workspaces/Euclid-Consortium/data/strong_lensing/external_targets_pipeline/demo_lrg/tiles/EUC_MER_CATALOG-PSF-VIS_TILE101542815-61875A_20240202T040113.142605Z_00.00.fits', 'MERRMS': '/media/home/team_workspaces/Euclid-Consortium/data/strong_lensing/external_targets_pipeline/demo_lrg/tiles/EUC_MER_MOSAIC-VIS-RMS_TILE101542815-131AF_20240202T011958.570311Z_00.00.fits'}, 'NIR_Y': {'FLUX': '/media/home/team_workspaces/Euclid-Consortium/data/strong_lensing/external_targets_pipeline/demo_lrg/tiles/EUC_MER_BGSUB-MOSAIC-NIR-Y_TILE101542815-187C30_20240202T014913.848828Z_00.00.fits', 'MERRMS': '/media/home/team_workspaces/Euclid-Consortium/data/strong_lensing/external_targets_pipeline/demo_lrg/tiles/EUC_MER_MOSAIC-NIR-Y-RMS_TILE101542815-37E4DC_20240202T010141.774826Z_00.00.fits', 'MERPSF': '/media/home/team_workspaces/Euclid-Consortium/data/strong_lensing/external_targets_pipeline/demo_lrg/tiles/EUC_MER_CATALOG-PSF-NIR-Y_TILE101542815-416415_20240202T034333.490779Z_00.00.fits'}}\n"
     ]
    },
    {
     "name": "stdout",
     "output_type": "stream",
     "text": [
      "Done.\n"
     ]
    },
    {
     "name": "stderr",
     "output_type": "stream",
     "text": [
      "WARNING: VerifyWarning: Keyword name 'EXTNAME10' is greater than 8 characters or contains characters not allowed by the FITS standard; a HIERARCH card will be created. [astropy.io.fits.card]\n",
      "WARNING:astroquery:VerifyWarning: Keyword name 'EXTNAME10' is greater than 8 characters or contains characters not allowed by the FITS standard; a HIERARCH card will be created.\n",
      "WARNING: VerifyWarning: Keyword name 'EXTNAME11' is greater than 8 characters or contains characters not allowed by the FITS standard; a HIERARCH card will be created. [astropy.io.fits.card]\n",
      "WARNING:astroquery:VerifyWarning: Keyword name 'EXTNAME11' is greater than 8 characters or contains characters not allowed by the FITS standard; a HIERARCH card will be created.\n",
      "WARNING: VerifyWarning: Card is too long, comment will be truncated. [astropy.io.fits.card]\n",
      "WARNING:astroquery:VerifyWarning: Card is too long, comment will be truncated.\n",
      "INFO:root:Tile 101542816, 3 of 19\n",
      "INFO:astroquery:Query finished.\n"
     ]
    },
    {
     "name": "stdout",
     "output_type": "stream",
     "text": [
      "INFO: Query finished. [astroquery.utils.tap.core]\n",
      "Found 3  query results\n",
      "Retrieving data.\n",
      "Data request: TAPCLIENT=ASTROQUERY&RELEASE=sedm&FILE_NAME=EUC_MER_BGSUB-MOSAIC-NIR-J_TILE101542816-60E4BB_20240202T181033.472901Z_00.00.fits&RETRIEVAL_TYPE=FILE\n",
      "------>https\n",
      "host = easotf.esac.esa.int:443\n",
      "context = /sas-dd/data\n",
      "Content-type = application/x-www-form-urlencoded\n",
      "200 \n",
      "Reading...\n"
     ]
    },
    {
     "name": "stderr",
     "output_type": "stream",
     "text": [
      "INFO:root:EUC_MER_BGSUB-MOSAIC-NIR-J_TILE101542816-60E4BB_20240202T181033.472901Z_00.00.fits saved at /media/home/team_workspaces/Euclid-Consortium/data/strong_lensing/external_targets_pipeline/demo_lrg/tiles/EUC_MER_BGSUB-MOSAIC-NIR-J_TILE101542816-60E4BB_20240202T181033.472901Z_00.00.fits\n"
     ]
    },
    {
     "name": "stdout",
     "output_type": "stream",
     "text": [
      "Done.\n",
      "Retrieving data.\n",
      "Data request: TAPCLIENT=ASTROQUERY&RELEASE=sedm&FILE_NAME=EUC_MER_BGSUB-MOSAIC-VIS_TILE101542816-9D896F_20240202T214149.632762Z_00.00.fits&RETRIEVAL_TYPE=FILE\n",
      "------>https\n",
      "host = easotf.esac.esa.int:443\n",
      "context = /sas-dd/data\n",
      "Content-type = application/x-www-form-urlencoded\n",
      "200 \n",
      "Reading...\n"
     ]
    },
    {
     "name": "stderr",
     "output_type": "stream",
     "text": [
      "INFO:root:EUC_MER_BGSUB-MOSAIC-VIS_TILE101542816-9D896F_20240202T214149.632762Z_00.00.fits saved at /media/home/team_workspaces/Euclid-Consortium/data/strong_lensing/external_targets_pipeline/demo_lrg/tiles/EUC_MER_BGSUB-MOSAIC-VIS_TILE101542816-9D896F_20240202T214149.632762Z_00.00.fits\n"
     ]
    },
    {
     "name": "stdout",
     "output_type": "stream",
     "text": [
      "Done.\n",
      "Retrieving data.\n",
      "Data request: TAPCLIENT=ASTROQUERY&RELEASE=sedm&FILE_NAME=EUC_MER_BGSUB-MOSAIC-NIR-Y_TILE101542816-D8A9F1_20240202T181013.275096Z_00.00.fits&RETRIEVAL_TYPE=FILE\n",
      "------>https\n",
      "host = easotf.esac.esa.int:443\n",
      "context = /sas-dd/data\n",
      "Content-type = application/x-www-form-urlencoded\n",
      "200 \n",
      "Reading...\n"
     ]
    },
    {
     "name": "stderr",
     "output_type": "stream",
     "text": [
      "INFO:root:EUC_MER_BGSUB-MOSAIC-NIR-Y_TILE101542816-D8A9F1_20240202T181013.275096Z_00.00.fits saved at /media/home/team_workspaces/Euclid-Consortium/data/strong_lensing/external_targets_pipeline/demo_lrg/tiles/EUC_MER_BGSUB-MOSAIC-NIR-Y_TILE101542816-D8A9F1_20240202T181013.275096Z_00.00.fits\n"
     ]
    },
    {
     "name": "stdout",
     "output_type": "stream",
     "text": [
      "Done.\n",
      "Retrieving data.\n",
      "Data request: TAPCLIENT=ASTROQUERY&RELEASE=sedm&FILE_NAME=EUC_MER_MOSAIC-NIR-J-RMS_TILE101542816-32748A_20240202T045945.243937Z_00.00.fits&RETRIEVAL_TYPE=FILE\n",
      "------>https\n",
      "host = easotf.esac.esa.int:443\n",
      "context = /sas-dd/data\n",
      "Content-type = application/x-www-form-urlencoded\n",
      "200 \n",
      "Reading...\n"
     ]
    },
    {
     "name": "stderr",
     "output_type": "stream",
     "text": [
      "INFO:root:EUC_MER_MOSAIC-NIR-J-RMS_TILE101542816-32748A_20240202T045945.243937Z_00.00.fits saved at /media/home/team_workspaces/Euclid-Consortium/data/strong_lensing/external_targets_pipeline/demo_lrg/tiles/EUC_MER_MOSAIC-NIR-J-RMS_TILE101542816-32748A_20240202T045945.243937Z_00.00.fits\n"
     ]
    },
    {
     "name": "stdout",
     "output_type": "stream",
     "text": [
      "Done.\n",
      "Retrieving data.\n",
      "Data request: TAPCLIENT=ASTROQUERY&RELEASE=sedm&FILE_NAME=EUC_MER_CATALOG-PSF-NIR-J_TILE101542816-7DE492_20240202T221911.869240Z_00.00.fits&RETRIEVAL_TYPE=FILE\n",
      "------>https\n",
      "host = easotf.esac.esa.int:443\n",
      "context = /sas-dd/data\n",
      "Content-type = application/x-www-form-urlencoded\n",
      "200 \n",
      "Reading...\n"
     ]
    },
    {
     "name": "stderr",
     "output_type": "stream",
     "text": [
      "INFO:root:EUC_MER_CATALOG-PSF-NIR-J_TILE101542816-7DE492_20240202T221911.869240Z_00.00.fits saved at /media/home/team_workspaces/Euclid-Consortium/data/strong_lensing/external_targets_pipeline/demo_lrg/tiles/EUC_MER_CATALOG-PSF-NIR-J_TILE101542816-7DE492_20240202T221911.869240Z_00.00.fits\n"
     ]
    },
    {
     "name": "stdout",
     "output_type": "stream",
     "text": [
      "Done.\n",
      "Retrieving data.\n",
      "Data request: TAPCLIENT=ASTROQUERY&RELEASE=sedm&FILE_NAME=EUC_MER_CATALOG-PSF-VIS_TILE101542816-73FF22_20240202T223242.309867Z_00.00.fits&RETRIEVAL_TYPE=FILE\n",
      "------>https\n",
      "host = easotf.esac.esa.int:443\n",
      "context = /sas-dd/data\n",
      "Content-type = application/x-www-form-urlencoded\n",
      "200 \n",
      "Reading...\n"
     ]
    },
    {
     "name": "stderr",
     "output_type": "stream",
     "text": [
      "INFO:root:EUC_MER_CATALOG-PSF-VIS_TILE101542816-73FF22_20240202T223242.309867Z_00.00.fits saved at /media/home/team_workspaces/Euclid-Consortium/data/strong_lensing/external_targets_pipeline/demo_lrg/tiles/EUC_MER_CATALOG-PSF-VIS_TILE101542816-73FF22_20240202T223242.309867Z_00.00.fits\n"
     ]
    },
    {
     "name": "stdout",
     "output_type": "stream",
     "text": [
      "Done.\n",
      "Retrieving data.\n",
      "Data request: TAPCLIENT=ASTROQUERY&RELEASE=sedm&FILE_NAME=EUC_MER_MOSAIC-VIS-RMS_TILE101542816-6CA304_20240202T045220.870090Z_00.00.fits&RETRIEVAL_TYPE=FILE\n",
      "------>https\n",
      "host = easotf.esac.esa.int:443\n",
      "context = /sas-dd/data\n",
      "Content-type = application/x-www-form-urlencoded\n",
      "200 \n",
      "Reading...\n"
     ]
    },
    {
     "name": "stderr",
     "output_type": "stream",
     "text": [
      "INFO:root:EUC_MER_MOSAIC-VIS-RMS_TILE101542816-6CA304_20240202T045220.870090Z_00.00.fits saved at /media/home/team_workspaces/Euclid-Consortium/data/strong_lensing/external_targets_pipeline/demo_lrg/tiles/EUC_MER_MOSAIC-VIS-RMS_TILE101542816-6CA304_20240202T045220.870090Z_00.00.fits\n"
     ]
    },
    {
     "name": "stdout",
     "output_type": "stream",
     "text": [
      "Done.\n",
      "Retrieving data.\n",
      "Data request: TAPCLIENT=ASTROQUERY&RELEASE=sedm&FILE_NAME=EUC_MER_MOSAIC-NIR-Y-RMS_TILE101542816-50217A_20240202T050152.991686Z_00.00.fits&RETRIEVAL_TYPE=FILE\n",
      "------>https\n",
      "host = easotf.esac.esa.int:443\n",
      "context = /sas-dd/data\n",
      "Content-type = application/x-www-form-urlencoded\n",
      "200 \n",
      "Reading...\n"
     ]
    },
    {
     "name": "stderr",
     "output_type": "stream",
     "text": [
      "INFO:root:EUC_MER_MOSAIC-NIR-Y-RMS_TILE101542816-50217A_20240202T050152.991686Z_00.00.fits saved at /media/home/team_workspaces/Euclid-Consortium/data/strong_lensing/external_targets_pipeline/demo_lrg/tiles/EUC_MER_MOSAIC-NIR-Y-RMS_TILE101542816-50217A_20240202T050152.991686Z_00.00.fits\n"
     ]
    },
    {
     "name": "stdout",
     "output_type": "stream",
     "text": [
      "Done.\n",
      "Retrieving data.\n",
      "Data request: TAPCLIENT=ASTROQUERY&RELEASE=sedm&FILE_NAME=EUC_MER_CATALOG-PSF-NIR-Y_TILE101542816-FC3D4E_20240202T221903.902709Z_00.00.fits&RETRIEVAL_TYPE=FILE\n",
      "------>https\n",
      "host = easotf.esac.esa.int:443\n",
      "context = /sas-dd/data\n",
      "Content-type = application/x-www-form-urlencoded\n",
      "200 \n",
      "Reading...\n"
     ]
    },
    {
     "name": "stderr",
     "output_type": "stream",
     "text": [
      "INFO:root:EUC_MER_CATALOG-PSF-NIR-Y_TILE101542816-FC3D4E_20240202T221903.902709Z_00.00.fits saved at /media/home/team_workspaces/Euclid-Consortium/data/strong_lensing/external_targets_pipeline/demo_lrg/tiles/EUC_MER_CATALOG-PSF-NIR-Y_TILE101542816-FC3D4E_20240202T221903.902709Z_00.00.fits\n",
      "INFO:root:Downloaded flux+auxillary tiles: {'NIR_J': {'FLUX': '/media/home/team_workspaces/Euclid-Consortium/data/strong_lensing/external_targets_pipeline/demo_lrg/tiles/EUC_MER_BGSUB-MOSAIC-NIR-J_TILE101542816-60E4BB_20240202T181033.472901Z_00.00.fits', 'MERRMS': '/media/home/team_workspaces/Euclid-Consortium/data/strong_lensing/external_targets_pipeline/demo_lrg/tiles/EUC_MER_MOSAIC-NIR-J-RMS_TILE101542816-32748A_20240202T045945.243937Z_00.00.fits', 'MERPSF': '/media/home/team_workspaces/Euclid-Consortium/data/strong_lensing/external_targets_pipeline/demo_lrg/tiles/EUC_MER_CATALOG-PSF-NIR-J_TILE101542816-7DE492_20240202T221911.869240Z_00.00.fits'}, 'VIS': {'FLUX': '/media/home/team_workspaces/Euclid-Consortium/data/strong_lensing/external_targets_pipeline/demo_lrg/tiles/EUC_MER_BGSUB-MOSAIC-VIS_TILE101542816-9D896F_20240202T214149.632762Z_00.00.fits', 'MERPSF': '/media/home/team_workspaces/Euclid-Consortium/data/strong_lensing/external_targets_pipeline/demo_lrg/tiles/EUC_MER_CATALOG-PSF-VIS_TILE101542816-73FF22_20240202T223242.309867Z_00.00.fits', 'MERRMS': '/media/home/team_workspaces/Euclid-Consortium/data/strong_lensing/external_targets_pipeline/demo_lrg/tiles/EUC_MER_MOSAIC-VIS-RMS_TILE101542816-6CA304_20240202T045220.870090Z_00.00.fits'}, 'NIR_Y': {'FLUX': '/media/home/team_workspaces/Euclid-Consortium/data/strong_lensing/external_targets_pipeline/demo_lrg/tiles/EUC_MER_BGSUB-MOSAIC-NIR-Y_TILE101542816-D8A9F1_20240202T181013.275096Z_00.00.fits', 'MERRMS': '/media/home/team_workspaces/Euclid-Consortium/data/strong_lensing/external_targets_pipeline/demo_lrg/tiles/EUC_MER_MOSAIC-NIR-Y-RMS_TILE101542816-50217A_20240202T050152.991686Z_00.00.fits', 'MERPSF': '/media/home/team_workspaces/Euclid-Consortium/data/strong_lensing/external_targets_pipeline/demo_lrg/tiles/EUC_MER_CATALOG-PSF-NIR-Y_TILE101542816-FC3D4E_20240202T221903.902709Z_00.00.fits'}}\n",
      "INFO:root:Downloaded: {'NIR_J': {'FLUX': '/media/home/team_workspaces/Euclid-Consortium/data/strong_lensing/external_targets_pipeline/demo_lrg/tiles/EUC_MER_BGSUB-MOSAIC-NIR-J_TILE101542816-60E4BB_20240202T181033.472901Z_00.00.fits', 'MERRMS': '/media/home/team_workspaces/Euclid-Consortium/data/strong_lensing/external_targets_pipeline/demo_lrg/tiles/EUC_MER_MOSAIC-NIR-J-RMS_TILE101542816-32748A_20240202T045945.243937Z_00.00.fits', 'MERPSF': '/media/home/team_workspaces/Euclid-Consortium/data/strong_lensing/external_targets_pipeline/demo_lrg/tiles/EUC_MER_CATALOG-PSF-NIR-J_TILE101542816-7DE492_20240202T221911.869240Z_00.00.fits'}, 'VIS': {'FLUX': '/media/home/team_workspaces/Euclid-Consortium/data/strong_lensing/external_targets_pipeline/demo_lrg/tiles/EUC_MER_BGSUB-MOSAIC-VIS_TILE101542816-9D896F_20240202T214149.632762Z_00.00.fits', 'MERPSF': '/media/home/team_workspaces/Euclid-Consortium/data/strong_lensing/external_targets_pipeline/demo_lrg/tiles/EUC_MER_CATALOG-PSF-VIS_TILE101542816-73FF22_20240202T223242.309867Z_00.00.fits', 'MERRMS': '/media/home/team_workspaces/Euclid-Consortium/data/strong_lensing/external_targets_pipeline/demo_lrg/tiles/EUC_MER_MOSAIC-VIS-RMS_TILE101542816-6CA304_20240202T045220.870090Z_00.00.fits'}, 'NIR_Y': {'FLUX': '/media/home/team_workspaces/Euclid-Consortium/data/strong_lensing/external_targets_pipeline/demo_lrg/tiles/EUC_MER_BGSUB-MOSAIC-NIR-Y_TILE101542816-D8A9F1_20240202T181013.275096Z_00.00.fits', 'MERRMS': '/media/home/team_workspaces/Euclid-Consortium/data/strong_lensing/external_targets_pipeline/demo_lrg/tiles/EUC_MER_MOSAIC-NIR-Y-RMS_TILE101542816-50217A_20240202T050152.991686Z_00.00.fits', 'MERPSF': '/media/home/team_workspaces/Euclid-Consortium/data/strong_lensing/external_targets_pipeline/demo_lrg/tiles/EUC_MER_CATALOG-PSF-NIR-Y_TILE101542816-FC3D4E_20240202T221903.902709Z_00.00.fits'}}\n"
     ]
    },
    {
     "name": "stdout",
     "output_type": "stream",
     "text": [
      "Done.\n"
     ]
    },
    {
     "name": "stderr",
     "output_type": "stream",
     "text": [
      "WARNING: VerifyWarning: Keyword name 'EXTNAME10' is greater than 8 characters or contains characters not allowed by the FITS standard; a HIERARCH card will be created. [astropy.io.fits.card]\n",
      "WARNING:astroquery:VerifyWarning: Keyword name 'EXTNAME10' is greater than 8 characters or contains characters not allowed by the FITS standard; a HIERARCH card will be created.\n",
      "WARNING: VerifyWarning: Keyword name 'EXTNAME11' is greater than 8 characters or contains characters not allowed by the FITS standard; a HIERARCH card will be created. [astropy.io.fits.card]\n",
      "WARNING:astroquery:VerifyWarning: Keyword name 'EXTNAME11' is greater than 8 characters or contains characters not allowed by the FITS standard; a HIERARCH card will be created.\n",
      "WARNING: VerifyWarning: Card is too long, comment will be truncated. [astropy.io.fits.card]\n",
      "WARNING:astroquery:VerifyWarning: Card is too long, comment will be truncated.\n",
      "INFO:root:Tile 101542817, 4 of 19\n",
      "INFO:astroquery:Query finished.\n"
     ]
    },
    {
     "name": "stdout",
     "output_type": "stream",
     "text": [
      "INFO: Query finished. [astroquery.utils.tap.core]\n",
      "Found 3  query results\n",
      "Retrieving data.\n",
      "Data request: TAPCLIENT=ASTROQUERY&RELEASE=sedm&FILE_NAME=EUC_MER_BGSUB-MOSAIC-NIR-J_TILE101542817-D69DA9_20240202T211824.573381Z_00.00.fits&RETRIEVAL_TYPE=FILE\n",
      "------>https\n",
      "host = easotf.esac.esa.int:443\n",
      "context = /sas-dd/data\n",
      "Content-type = application/x-www-form-urlencoded\n",
      "200 \n",
      "Reading...\n"
     ]
    },
    {
     "name": "stderr",
     "output_type": "stream",
     "text": [
      "INFO:root:EUC_MER_BGSUB-MOSAIC-NIR-J_TILE101542817-D69DA9_20240202T211824.573381Z_00.00.fits saved at /media/home/team_workspaces/Euclid-Consortium/data/strong_lensing/external_targets_pipeline/demo_lrg/tiles/EUC_MER_BGSUB-MOSAIC-NIR-J_TILE101542817-D69DA9_20240202T211824.573381Z_00.00.fits\n"
     ]
    },
    {
     "name": "stdout",
     "output_type": "stream",
     "text": [
      "Done.\n",
      "Retrieving data.\n",
      "Data request: TAPCLIENT=ASTROQUERY&RELEASE=sedm&FILE_NAME=EUC_MER_BGSUB-MOSAIC-NIR-Y_TILE101542817-35BCF7_20240202T210442.395814Z_00.00.fits&RETRIEVAL_TYPE=FILE\n",
      "------>https\n",
      "host = easotf.esac.esa.int:443\n",
      "context = /sas-dd/data\n",
      "Content-type = application/x-www-form-urlencoded\n",
      "200 \n",
      "Reading...\n"
     ]
    },
    {
     "name": "stderr",
     "output_type": "stream",
     "text": [
      "INFO:root:EUC_MER_BGSUB-MOSAIC-NIR-Y_TILE101542817-35BCF7_20240202T210442.395814Z_00.00.fits saved at /media/home/team_workspaces/Euclid-Consortium/data/strong_lensing/external_targets_pipeline/demo_lrg/tiles/EUC_MER_BGSUB-MOSAIC-NIR-Y_TILE101542817-35BCF7_20240202T210442.395814Z_00.00.fits\n"
     ]
    },
    {
     "name": "stdout",
     "output_type": "stream",
     "text": [
      "Done.\n",
      "Retrieving data.\n",
      "Data request: TAPCLIENT=ASTROQUERY&RELEASE=sedm&FILE_NAME=EUC_MER_BGSUB-MOSAIC-VIS_TILE101542817-770761_20240203T003605.150183Z_00.00.fits&RETRIEVAL_TYPE=FILE\n",
      "------>https\n",
      "host = easotf.esac.esa.int:443\n",
      "context = /sas-dd/data\n",
      "Content-type = application/x-www-form-urlencoded\n",
      "200 \n",
      "Reading...\n"
     ]
    },
    {
     "name": "stderr",
     "output_type": "stream",
     "text": [
      "INFO:root:EUC_MER_BGSUB-MOSAIC-VIS_TILE101542817-770761_20240203T003605.150183Z_00.00.fits saved at /media/home/team_workspaces/Euclid-Consortium/data/strong_lensing/external_targets_pipeline/demo_lrg/tiles/EUC_MER_BGSUB-MOSAIC-VIS_TILE101542817-770761_20240203T003605.150183Z_00.00.fits\n"
     ]
    },
    {
     "name": "stdout",
     "output_type": "stream",
     "text": [
      "Done.\n",
      "Retrieving data.\n",
      "Data request: TAPCLIENT=ASTROQUERY&RELEASE=sedm&FILE_NAME=EUC_MER_MOSAIC-NIR-J-RMS_TILE101542817-2AC62B_20240202T031937.242180Z_00.00.fits&RETRIEVAL_TYPE=FILE\n",
      "------>https\n",
      "host = easotf.esac.esa.int:443\n",
      "context = /sas-dd/data\n",
      "Content-type = application/x-www-form-urlencoded\n",
      "200 \n",
      "Reading...\n"
     ]
    },
    {
     "name": "stderr",
     "output_type": "stream",
     "text": [
      "INFO:root:EUC_MER_MOSAIC-NIR-J-RMS_TILE101542817-2AC62B_20240202T031937.242180Z_00.00.fits saved at /media/home/team_workspaces/Euclid-Consortium/data/strong_lensing/external_targets_pipeline/demo_lrg/tiles/EUC_MER_MOSAIC-NIR-J-RMS_TILE101542817-2AC62B_20240202T031937.242180Z_00.00.fits\n"
     ]
    },
    {
     "name": "stdout",
     "output_type": "stream",
     "text": [
      "Done.\n",
      "Retrieving data.\n",
      "Data request: TAPCLIENT=ASTROQUERY&RELEASE=sedm&FILE_NAME=EUC_MER_CATALOG-PSF-NIR-J_TILE101542817-67E010_20240203T012443.489739Z_00.00.fits&RETRIEVAL_TYPE=FILE\n",
      "------>https\n",
      "host = easotf.esac.esa.int:443\n",
      "context = /sas-dd/data\n",
      "Content-type = application/x-www-form-urlencoded\n",
      "200 \n",
      "Reading...\n"
     ]
    },
    {
     "name": "stderr",
     "output_type": "stream",
     "text": [
      "INFO:root:EUC_MER_CATALOG-PSF-NIR-J_TILE101542817-67E010_20240203T012443.489739Z_00.00.fits saved at /media/home/team_workspaces/Euclid-Consortium/data/strong_lensing/external_targets_pipeline/demo_lrg/tiles/EUC_MER_CATALOG-PSF-NIR-J_TILE101542817-67E010_20240203T012443.489739Z_00.00.fits\n"
     ]
    },
    {
     "name": "stdout",
     "output_type": "stream",
     "text": [
      "Done.\n",
      "Retrieving data.\n",
      "Data request: TAPCLIENT=ASTROQUERY&RELEASE=sedm&FILE_NAME=EUC_MER_CATALOG-PSF-NIR-Y_TILE101542817-DEF69E_20240203T012438.115172Z_00.00.fits&RETRIEVAL_TYPE=FILE\n",
      "------>https\n",
      "host = easotf.esac.esa.int:443\n",
      "context = /sas-dd/data\n",
      "Content-type = application/x-www-form-urlencoded\n",
      "200 \n",
      "Reading...\n"
     ]
    },
    {
     "name": "stderr",
     "output_type": "stream",
     "text": [
      "INFO:root:EUC_MER_CATALOG-PSF-NIR-Y_TILE101542817-DEF69E_20240203T012438.115172Z_00.00.fits saved at /media/home/team_workspaces/Euclid-Consortium/data/strong_lensing/external_targets_pipeline/demo_lrg/tiles/EUC_MER_CATALOG-PSF-NIR-Y_TILE101542817-DEF69E_20240203T012438.115172Z_00.00.fits\n"
     ]
    },
    {
     "name": "stdout",
     "output_type": "stream",
     "text": [
      "Done.\n",
      "Retrieving data.\n",
      "Data request: TAPCLIENT=ASTROQUERY&RELEASE=sedm&FILE_NAME=EUC_MER_MOSAIC-NIR-Y-RMS_TILE101542817-C0DC0B_20240202T031918.874882Z_00.00.fits&RETRIEVAL_TYPE=FILE\n",
      "------>https\n",
      "host = easotf.esac.esa.int:443\n",
      "context = /sas-dd/data\n",
      "Content-type = application/x-www-form-urlencoded\n",
      "200 \n",
      "Reading...\n"
     ]
    },
    {
     "name": "stderr",
     "output_type": "stream",
     "text": [
      "INFO:root:EUC_MER_MOSAIC-NIR-Y-RMS_TILE101542817-C0DC0B_20240202T031918.874882Z_00.00.fits saved at /media/home/team_workspaces/Euclid-Consortium/data/strong_lensing/external_targets_pipeline/demo_lrg/tiles/EUC_MER_MOSAIC-NIR-Y-RMS_TILE101542817-C0DC0B_20240202T031918.874882Z_00.00.fits\n"
     ]
    },
    {
     "name": "stdout",
     "output_type": "stream",
     "text": [
      "Done.\n",
      "Retrieving data.\n",
      "Data request: TAPCLIENT=ASTROQUERY&RELEASE=sedm&FILE_NAME=EUC_MER_MOSAIC-VIS-RMS_TILE101542817-2CA7D5_20240202T034524.263370Z_00.00.fits&RETRIEVAL_TYPE=FILE\n",
      "------>https\n",
      "host = easotf.esac.esa.int:443\n",
      "context = /sas-dd/data\n",
      "Content-type = application/x-www-form-urlencoded\n",
      "200 \n",
      "Reading...\n"
     ]
    },
    {
     "name": "stderr",
     "output_type": "stream",
     "text": [
      "INFO:root:EUC_MER_MOSAIC-VIS-RMS_TILE101542817-2CA7D5_20240202T034524.263370Z_00.00.fits saved at /media/home/team_workspaces/Euclid-Consortium/data/strong_lensing/external_targets_pipeline/demo_lrg/tiles/EUC_MER_MOSAIC-VIS-RMS_TILE101542817-2CA7D5_20240202T034524.263370Z_00.00.fits\n"
     ]
    },
    {
     "name": "stdout",
     "output_type": "stream",
     "text": [
      "Done.\n",
      "Retrieving data.\n",
      "Data request: TAPCLIENT=ASTROQUERY&RELEASE=sedm&FILE_NAME=EUC_MER_CATALOG-PSF-VIS_TILE101542817-B5C3E_20240203T013620.063725Z_00.00.fits&RETRIEVAL_TYPE=FILE\n",
      "------>https\n",
      "host = easotf.esac.esa.int:443\n",
      "context = /sas-dd/data\n",
      "Content-type = application/x-www-form-urlencoded\n",
      "200 \n",
      "Reading...\n"
     ]
    },
    {
     "name": "stderr",
     "output_type": "stream",
     "text": [
      "INFO:root:EUC_MER_CATALOG-PSF-VIS_TILE101542817-B5C3E_20240203T013620.063725Z_00.00.fits saved at /media/home/team_workspaces/Euclid-Consortium/data/strong_lensing/external_targets_pipeline/demo_lrg/tiles/EUC_MER_CATALOG-PSF-VIS_TILE101542817-B5C3E_20240203T013620.063725Z_00.00.fits\n",
      "INFO:root:Downloaded flux+auxillary tiles: {'NIR_J': {'FLUX': '/media/home/team_workspaces/Euclid-Consortium/data/strong_lensing/external_targets_pipeline/demo_lrg/tiles/EUC_MER_BGSUB-MOSAIC-NIR-J_TILE101542817-D69DA9_20240202T211824.573381Z_00.00.fits', 'MERRMS': '/media/home/team_workspaces/Euclid-Consortium/data/strong_lensing/external_targets_pipeline/demo_lrg/tiles/EUC_MER_MOSAIC-NIR-J-RMS_TILE101542817-2AC62B_20240202T031937.242180Z_00.00.fits', 'MERPSF': '/media/home/team_workspaces/Euclid-Consortium/data/strong_lensing/external_targets_pipeline/demo_lrg/tiles/EUC_MER_CATALOG-PSF-NIR-J_TILE101542817-67E010_20240203T012443.489739Z_00.00.fits'}, 'NIR_Y': {'FLUX': '/media/home/team_workspaces/Euclid-Consortium/data/strong_lensing/external_targets_pipeline/demo_lrg/tiles/EUC_MER_BGSUB-MOSAIC-NIR-Y_TILE101542817-35BCF7_20240202T210442.395814Z_00.00.fits', 'MERPSF': '/media/home/team_workspaces/Euclid-Consortium/data/strong_lensing/external_targets_pipeline/demo_lrg/tiles/EUC_MER_CATALOG-PSF-NIR-Y_TILE101542817-DEF69E_20240203T012438.115172Z_00.00.fits', 'MERRMS': '/media/home/team_workspaces/Euclid-Consortium/data/strong_lensing/external_targets_pipeline/demo_lrg/tiles/EUC_MER_MOSAIC-NIR-Y-RMS_TILE101542817-C0DC0B_20240202T031918.874882Z_00.00.fits'}, 'VIS': {'FLUX': '/media/home/team_workspaces/Euclid-Consortium/data/strong_lensing/external_targets_pipeline/demo_lrg/tiles/EUC_MER_BGSUB-MOSAIC-VIS_TILE101542817-770761_20240203T003605.150183Z_00.00.fits', 'MERRMS': '/media/home/team_workspaces/Euclid-Consortium/data/strong_lensing/external_targets_pipeline/demo_lrg/tiles/EUC_MER_MOSAIC-VIS-RMS_TILE101542817-2CA7D5_20240202T034524.263370Z_00.00.fits', 'MERPSF': '/media/home/team_workspaces/Euclid-Consortium/data/strong_lensing/external_targets_pipeline/demo_lrg/tiles/EUC_MER_CATALOG-PSF-VIS_TILE101542817-B5C3E_20240203T013620.063725Z_00.00.fits'}}\n",
      "INFO:root:Downloaded: {'NIR_J': {'FLUX': '/media/home/team_workspaces/Euclid-Consortium/data/strong_lensing/external_targets_pipeline/demo_lrg/tiles/EUC_MER_BGSUB-MOSAIC-NIR-J_TILE101542817-D69DA9_20240202T211824.573381Z_00.00.fits', 'MERRMS': '/media/home/team_workspaces/Euclid-Consortium/data/strong_lensing/external_targets_pipeline/demo_lrg/tiles/EUC_MER_MOSAIC-NIR-J-RMS_TILE101542817-2AC62B_20240202T031937.242180Z_00.00.fits', 'MERPSF': '/media/home/team_workspaces/Euclid-Consortium/data/strong_lensing/external_targets_pipeline/demo_lrg/tiles/EUC_MER_CATALOG-PSF-NIR-J_TILE101542817-67E010_20240203T012443.489739Z_00.00.fits'}, 'NIR_Y': {'FLUX': '/media/home/team_workspaces/Euclid-Consortium/data/strong_lensing/external_targets_pipeline/demo_lrg/tiles/EUC_MER_BGSUB-MOSAIC-NIR-Y_TILE101542817-35BCF7_20240202T210442.395814Z_00.00.fits', 'MERPSF': '/media/home/team_workspaces/Euclid-Consortium/data/strong_lensing/external_targets_pipeline/demo_lrg/tiles/EUC_MER_CATALOG-PSF-NIR-Y_TILE101542817-DEF69E_20240203T012438.115172Z_00.00.fits', 'MERRMS': '/media/home/team_workspaces/Euclid-Consortium/data/strong_lensing/external_targets_pipeline/demo_lrg/tiles/EUC_MER_MOSAIC-NIR-Y-RMS_TILE101542817-C0DC0B_20240202T031918.874882Z_00.00.fits'}, 'VIS': {'FLUX': '/media/home/team_workspaces/Euclid-Consortium/data/strong_lensing/external_targets_pipeline/demo_lrg/tiles/EUC_MER_BGSUB-MOSAIC-VIS_TILE101542817-770761_20240203T003605.150183Z_00.00.fits', 'MERRMS': '/media/home/team_workspaces/Euclid-Consortium/data/strong_lensing/external_targets_pipeline/demo_lrg/tiles/EUC_MER_MOSAIC-VIS-RMS_TILE101542817-2CA7D5_20240202T034524.263370Z_00.00.fits', 'MERPSF': '/media/home/team_workspaces/Euclid-Consortium/data/strong_lensing/external_targets_pipeline/demo_lrg/tiles/EUC_MER_CATALOG-PSF-VIS_TILE101542817-B5C3E_20240203T013620.063725Z_00.00.fits'}}\n"
     ]
    },
    {
     "name": "stdout",
     "output_type": "stream",
     "text": [
      "Done.\n"
     ]
    },
    {
     "name": "stderr",
     "output_type": "stream",
     "text": [
      "WARNING: VerifyWarning: Keyword name 'EXTNAME10' is greater than 8 characters or contains characters not allowed by the FITS standard; a HIERARCH card will be created. [astropy.io.fits.card]\n",
      "WARNING:astroquery:VerifyWarning: Keyword name 'EXTNAME10' is greater than 8 characters or contains characters not allowed by the FITS standard; a HIERARCH card will be created.\n",
      "WARNING: VerifyWarning: Keyword name 'EXTNAME11' is greater than 8 characters or contains characters not allowed by the FITS standard; a HIERARCH card will be created. [astropy.io.fits.card]\n",
      "WARNING:astroquery:VerifyWarning: Keyword name 'EXTNAME11' is greater than 8 characters or contains characters not allowed by the FITS standard; a HIERARCH card will be created.\n",
      "WARNING: VerifyWarning: Card is too long, comment will be truncated. [astropy.io.fits.card]\n",
      "WARNING:astroquery:VerifyWarning: Card is too long, comment will be truncated.\n",
      "INFO:root:Tile 101542818, 5 of 19\n",
      "INFO:astroquery:Query finished.\n"
     ]
    },
    {
     "name": "stdout",
     "output_type": "stream",
     "text": [
      "INFO: Query finished. [astroquery.utils.tap.core]\n",
      "Found 3  query results\n",
      "Retrieving data.\n",
      "Data request: TAPCLIENT=ASTROQUERY&RELEASE=sedm&FILE_NAME=EUC_MER_BGSUB-MOSAIC-NIR-Y_TILE101542818-1339C2_20240202T125101.257029Z_00.00.fits&RETRIEVAL_TYPE=FILE\n",
      "------>https\n",
      "host = easotf.esac.esa.int:443\n",
      "context = /sas-dd/data\n",
      "Content-type = application/x-www-form-urlencoded\n",
      "200 \n",
      "Reading...\n"
     ]
    },
    {
     "name": "stderr",
     "output_type": "stream",
     "text": [
      "INFO:root:EUC_MER_BGSUB-MOSAIC-NIR-Y_TILE101542818-1339C2_20240202T125101.257029Z_00.00.fits saved at /media/home/team_workspaces/Euclid-Consortium/data/strong_lensing/external_targets_pipeline/demo_lrg/tiles/EUC_MER_BGSUB-MOSAIC-NIR-Y_TILE101542818-1339C2_20240202T125101.257029Z_00.00.fits\n"
     ]
    },
    {
     "name": "stdout",
     "output_type": "stream",
     "text": [
      "Done.\n",
      "Retrieving data.\n",
      "Data request: TAPCLIENT=ASTROQUERY&RELEASE=sedm&FILE_NAME=EUC_MER_BGSUB-MOSAIC-NIR-J_TILE101542818-5D38D0_20240202T130406.808569Z_00.00.fits&RETRIEVAL_TYPE=FILE\n",
      "------>https\n",
      "host = easotf.esac.esa.int:443\n",
      "context = /sas-dd/data\n",
      "Content-type = application/x-www-form-urlencoded\n",
      "200 \n",
      "Reading...\n"
     ]
    },
    {
     "name": "stderr",
     "output_type": "stream",
     "text": [
      "INFO:root:EUC_MER_BGSUB-MOSAIC-NIR-J_TILE101542818-5D38D0_20240202T130406.808569Z_00.00.fits saved at /media/home/team_workspaces/Euclid-Consortium/data/strong_lensing/external_targets_pipeline/demo_lrg/tiles/EUC_MER_BGSUB-MOSAIC-NIR-J_TILE101542818-5D38D0_20240202T130406.808569Z_00.00.fits\n"
     ]
    },
    {
     "name": "stdout",
     "output_type": "stream",
     "text": [
      "Done.\n",
      "Retrieving data.\n",
      "Data request: TAPCLIENT=ASTROQUERY&RELEASE=sedm&FILE_NAME=EUC_MER_BGSUB-MOSAIC-VIS_TILE101542818-AB13B7_20240202T141511.768020Z_00.00.fits&RETRIEVAL_TYPE=FILE\n",
      "------>https\n",
      "host = easotf.esac.esa.int:443\n",
      "context = /sas-dd/data\n",
      "Content-type = application/x-www-form-urlencoded\n",
      "200 \n",
      "Reading...\n"
     ]
    },
    {
     "name": "stderr",
     "output_type": "stream",
     "text": [
      "INFO:root:EUC_MER_BGSUB-MOSAIC-VIS_TILE101542818-AB13B7_20240202T141511.768020Z_00.00.fits saved at /media/home/team_workspaces/Euclid-Consortium/data/strong_lensing/external_targets_pipeline/demo_lrg/tiles/EUC_MER_BGSUB-MOSAIC-VIS_TILE101542818-AB13B7_20240202T141511.768020Z_00.00.fits\n"
     ]
    },
    {
     "name": "stdout",
     "output_type": "stream",
     "text": [
      "Done.\n",
      "Retrieving data.\n",
      "Data request: TAPCLIENT=ASTROQUERY&RELEASE=sedm&FILE_NAME=EUC_MER_MOSAIC-NIR-Y-RMS_TILE101542818-F94BCF_20240202T011041.987132Z_00.00.fits&RETRIEVAL_TYPE=FILE\n",
      "------>https\n",
      "host = easotf.esac.esa.int:443\n",
      "context = /sas-dd/data\n",
      "Content-type = application/x-www-form-urlencoded\n",
      "200 \n",
      "Reading...\n"
     ]
    },
    {
     "name": "stderr",
     "output_type": "stream",
     "text": [
      "INFO:root:EUC_MER_MOSAIC-NIR-Y-RMS_TILE101542818-F94BCF_20240202T011041.987132Z_00.00.fits saved at /media/home/team_workspaces/Euclid-Consortium/data/strong_lensing/external_targets_pipeline/demo_lrg/tiles/EUC_MER_MOSAIC-NIR-Y-RMS_TILE101542818-F94BCF_20240202T011041.987132Z_00.00.fits\n"
     ]
    },
    {
     "name": "stdout",
     "output_type": "stream",
     "text": [
      "Done.\n",
      "Retrieving data.\n",
      "Data request: TAPCLIENT=ASTROQUERY&RELEASE=sedm&FILE_NAME=EUC_MER_CATALOG-PSF-NIR-Y_TILE101542818-64FFED_20240202T162604.235660Z_00.00.fits&RETRIEVAL_TYPE=FILE\n",
      "------>https\n",
      "host = easotf.esac.esa.int:443\n",
      "context = /sas-dd/data\n",
      "Content-type = application/x-www-form-urlencoded\n",
      "200 \n",
      "Reading...\n"
     ]
    },
    {
     "name": "stderr",
     "output_type": "stream",
     "text": [
      "INFO:root:EUC_MER_CATALOG-PSF-NIR-Y_TILE101542818-64FFED_20240202T162604.235660Z_00.00.fits saved at /media/home/team_workspaces/Euclid-Consortium/data/strong_lensing/external_targets_pipeline/demo_lrg/tiles/EUC_MER_CATALOG-PSF-NIR-Y_TILE101542818-64FFED_20240202T162604.235660Z_00.00.fits\n"
     ]
    },
    {
     "name": "stdout",
     "output_type": "stream",
     "text": [
      "Done.\n",
      "Retrieving data.\n",
      "Data request: TAPCLIENT=ASTROQUERY&RELEASE=sedm&FILE_NAME=EUC_MER_CATALOG-PSF-NIR-J_TILE101542818-8F0462_20240202T162625.363282Z_00.00.fits&RETRIEVAL_TYPE=FILE\n",
      "------>https\n",
      "host = easotf.esac.esa.int:443\n",
      "context = /sas-dd/data\n",
      "Content-type = application/x-www-form-urlencoded\n",
      "200 \n",
      "Reading...\n"
     ]
    },
    {
     "name": "stderr",
     "output_type": "stream",
     "text": [
      "INFO:root:EUC_MER_CATALOG-PSF-NIR-J_TILE101542818-8F0462_20240202T162625.363282Z_00.00.fits saved at /media/home/team_workspaces/Euclid-Consortium/data/strong_lensing/external_targets_pipeline/demo_lrg/tiles/EUC_MER_CATALOG-PSF-NIR-J_TILE101542818-8F0462_20240202T162625.363282Z_00.00.fits\n"
     ]
    },
    {
     "name": "stdout",
     "output_type": "stream",
     "text": [
      "Done.\n",
      "Retrieving data.\n",
      "Data request: TAPCLIENT=ASTROQUERY&RELEASE=sedm&FILE_NAME=EUC_MER_MOSAIC-NIR-J-RMS_TILE101542818-BA3B10_20240202T011109.025823Z_00.00.fits&RETRIEVAL_TYPE=FILE\n",
      "------>https\n",
      "host = easotf.esac.esa.int:443\n",
      "context = /sas-dd/data\n",
      "Content-type = application/x-www-form-urlencoded\n",
      "200 \n",
      "Reading...\n"
     ]
    },
    {
     "name": "stderr",
     "output_type": "stream",
     "text": [
      "INFO:root:EUC_MER_MOSAIC-NIR-J-RMS_TILE101542818-BA3B10_20240202T011109.025823Z_00.00.fits saved at /media/home/team_workspaces/Euclid-Consortium/data/strong_lensing/external_targets_pipeline/demo_lrg/tiles/EUC_MER_MOSAIC-NIR-J-RMS_TILE101542818-BA3B10_20240202T011109.025823Z_00.00.fits\n"
     ]
    },
    {
     "name": "stdout",
     "output_type": "stream",
     "text": [
      "Done.\n",
      "Retrieving data.\n",
      "Data request: TAPCLIENT=ASTROQUERY&RELEASE=sedm&FILE_NAME=EUC_MER_CATALOG-PSF-VIS_TILE101542818-FFFFB2_20240202T164349.912510Z_00.00.fits&RETRIEVAL_TYPE=FILE\n",
      "------>https\n",
      "host = easotf.esac.esa.int:443\n",
      "context = /sas-dd/data\n",
      "Content-type = application/x-www-form-urlencoded\n",
      "200 \n",
      "Reading...\n"
     ]
    },
    {
     "name": "stderr",
     "output_type": "stream",
     "text": [
      "INFO:root:EUC_MER_CATALOG-PSF-VIS_TILE101542818-FFFFB2_20240202T164349.912510Z_00.00.fits saved at /media/home/team_workspaces/Euclid-Consortium/data/strong_lensing/external_targets_pipeline/demo_lrg/tiles/EUC_MER_CATALOG-PSF-VIS_TILE101542818-FFFFB2_20240202T164349.912510Z_00.00.fits\n"
     ]
    },
    {
     "name": "stdout",
     "output_type": "stream",
     "text": [
      "Done.\n",
      "Retrieving data.\n",
      "Data request: TAPCLIENT=ASTROQUERY&RELEASE=sedm&FILE_NAME=EUC_MER_MOSAIC-VIS-RMS_TILE101542818-5C8466_20240202T013214.909678Z_00.00.fits&RETRIEVAL_TYPE=FILE\n",
      "------>https\n",
      "host = easotf.esac.esa.int:443\n",
      "context = /sas-dd/data\n",
      "Content-type = application/x-www-form-urlencoded\n",
      "200 \n",
      "Reading...\n"
     ]
    },
    {
     "name": "stderr",
     "output_type": "stream",
     "text": [
      "INFO:root:EUC_MER_MOSAIC-VIS-RMS_TILE101542818-5C8466_20240202T013214.909678Z_00.00.fits saved at /media/home/team_workspaces/Euclid-Consortium/data/strong_lensing/external_targets_pipeline/demo_lrg/tiles/EUC_MER_MOSAIC-VIS-RMS_TILE101542818-5C8466_20240202T013214.909678Z_00.00.fits\n",
      "INFO:root:Downloaded flux+auxillary tiles: {'NIR_Y': {'FLUX': '/media/home/team_workspaces/Euclid-Consortium/data/strong_lensing/external_targets_pipeline/demo_lrg/tiles/EUC_MER_BGSUB-MOSAIC-NIR-Y_TILE101542818-1339C2_20240202T125101.257029Z_00.00.fits', 'MERRMS': '/media/home/team_workspaces/Euclid-Consortium/data/strong_lensing/external_targets_pipeline/demo_lrg/tiles/EUC_MER_MOSAIC-NIR-Y-RMS_TILE101542818-F94BCF_20240202T011041.987132Z_00.00.fits', 'MERPSF': '/media/home/team_workspaces/Euclid-Consortium/data/strong_lensing/external_targets_pipeline/demo_lrg/tiles/EUC_MER_CATALOG-PSF-NIR-Y_TILE101542818-64FFED_20240202T162604.235660Z_00.00.fits'}, 'NIR_J': {'FLUX': '/media/home/team_workspaces/Euclid-Consortium/data/strong_lensing/external_targets_pipeline/demo_lrg/tiles/EUC_MER_BGSUB-MOSAIC-NIR-J_TILE101542818-5D38D0_20240202T130406.808569Z_00.00.fits', 'MERPSF': '/media/home/team_workspaces/Euclid-Consortium/data/strong_lensing/external_targets_pipeline/demo_lrg/tiles/EUC_MER_CATALOG-PSF-NIR-J_TILE101542818-8F0462_20240202T162625.363282Z_00.00.fits', 'MERRMS': '/media/home/team_workspaces/Euclid-Consortium/data/strong_lensing/external_targets_pipeline/demo_lrg/tiles/EUC_MER_MOSAIC-NIR-J-RMS_TILE101542818-BA3B10_20240202T011109.025823Z_00.00.fits'}, 'VIS': {'FLUX': '/media/home/team_workspaces/Euclid-Consortium/data/strong_lensing/external_targets_pipeline/demo_lrg/tiles/EUC_MER_BGSUB-MOSAIC-VIS_TILE101542818-AB13B7_20240202T141511.768020Z_00.00.fits', 'MERPSF': '/media/home/team_workspaces/Euclid-Consortium/data/strong_lensing/external_targets_pipeline/demo_lrg/tiles/EUC_MER_CATALOG-PSF-VIS_TILE101542818-FFFFB2_20240202T164349.912510Z_00.00.fits', 'MERRMS': '/media/home/team_workspaces/Euclid-Consortium/data/strong_lensing/external_targets_pipeline/demo_lrg/tiles/EUC_MER_MOSAIC-VIS-RMS_TILE101542818-5C8466_20240202T013214.909678Z_00.00.fits'}}\n",
      "INFO:root:Downloaded: {'NIR_Y': {'FLUX': '/media/home/team_workspaces/Euclid-Consortium/data/strong_lensing/external_targets_pipeline/demo_lrg/tiles/EUC_MER_BGSUB-MOSAIC-NIR-Y_TILE101542818-1339C2_20240202T125101.257029Z_00.00.fits', 'MERRMS': '/media/home/team_workspaces/Euclid-Consortium/data/strong_lensing/external_targets_pipeline/demo_lrg/tiles/EUC_MER_MOSAIC-NIR-Y-RMS_TILE101542818-F94BCF_20240202T011041.987132Z_00.00.fits', 'MERPSF': '/media/home/team_workspaces/Euclid-Consortium/data/strong_lensing/external_targets_pipeline/demo_lrg/tiles/EUC_MER_CATALOG-PSF-NIR-Y_TILE101542818-64FFED_20240202T162604.235660Z_00.00.fits'}, 'NIR_J': {'FLUX': '/media/home/team_workspaces/Euclid-Consortium/data/strong_lensing/external_targets_pipeline/demo_lrg/tiles/EUC_MER_BGSUB-MOSAIC-NIR-J_TILE101542818-5D38D0_20240202T130406.808569Z_00.00.fits', 'MERPSF': '/media/home/team_workspaces/Euclid-Consortium/data/strong_lensing/external_targets_pipeline/demo_lrg/tiles/EUC_MER_CATALOG-PSF-NIR-J_TILE101542818-8F0462_20240202T162625.363282Z_00.00.fits', 'MERRMS': '/media/home/team_workspaces/Euclid-Consortium/data/strong_lensing/external_targets_pipeline/demo_lrg/tiles/EUC_MER_MOSAIC-NIR-J-RMS_TILE101542818-BA3B10_20240202T011109.025823Z_00.00.fits'}, 'VIS': {'FLUX': '/media/home/team_workspaces/Euclid-Consortium/data/strong_lensing/external_targets_pipeline/demo_lrg/tiles/EUC_MER_BGSUB-MOSAIC-VIS_TILE101542818-AB13B7_20240202T141511.768020Z_00.00.fits', 'MERPSF': '/media/home/team_workspaces/Euclid-Consortium/data/strong_lensing/external_targets_pipeline/demo_lrg/tiles/EUC_MER_CATALOG-PSF-VIS_TILE101542818-FFFFB2_20240202T164349.912510Z_00.00.fits', 'MERRMS': '/media/home/team_workspaces/Euclid-Consortium/data/strong_lensing/external_targets_pipeline/demo_lrg/tiles/EUC_MER_MOSAIC-VIS-RMS_TILE101542818-5C8466_20240202T013214.909678Z_00.00.fits'}}\n"
     ]
    },
    {
     "name": "stdout",
     "output_type": "stream",
     "text": [
      "Done.\n"
     ]
    },
    {
     "name": "stderr",
     "output_type": "stream",
     "text": [
      "WARNING: VerifyWarning: Keyword name 'EXTNAME10' is greater than 8 characters or contains characters not allowed by the FITS standard; a HIERARCH card will be created. [astropy.io.fits.card]\n",
      "WARNING:astroquery:VerifyWarning: Keyword name 'EXTNAME10' is greater than 8 characters or contains characters not allowed by the FITS standard; a HIERARCH card will be created.\n",
      "WARNING: VerifyWarning: Keyword name 'EXTNAME11' is greater than 8 characters or contains characters not allowed by the FITS standard; a HIERARCH card will be created. [astropy.io.fits.card]\n",
      "WARNING:astroquery:VerifyWarning: Keyword name 'EXTNAME11' is greater than 8 characters or contains characters not allowed by the FITS standard; a HIERARCH card will be created.\n",
      "WARNING: VerifyWarning: Card is too long, comment will be truncated. [astropy.io.fits.card]\n",
      "WARNING:astroquery:VerifyWarning: Card is too long, comment will be truncated.\n",
      "INFO:root:Tile 101542819, 6 of 19\n",
      "INFO:astroquery:Query finished.\n"
     ]
    },
    {
     "name": "stdout",
     "output_type": "stream",
     "text": [
      "INFO: Query finished. [astroquery.utils.tap.core]\n",
      "Found 3  query results\n",
      "Retrieving data.\n",
      "Data request: TAPCLIENT=ASTROQUERY&RELEASE=sedm&FILE_NAME=EUC_MER_BGSUB-MOSAIC-NIR-J_TILE101542819-A44F31_20240202T002853.274381Z_00.00.fits&RETRIEVAL_TYPE=FILE\n",
      "------>https\n",
      "host = easotf.esac.esa.int:443\n",
      "context = /sas-dd/data\n",
      "Content-type = application/x-www-form-urlencoded\n",
      "200 \n",
      "Reading...\n"
     ]
    },
    {
     "name": "stderr",
     "output_type": "stream",
     "text": [
      "INFO:root:EUC_MER_BGSUB-MOSAIC-NIR-J_TILE101542819-A44F31_20240202T002853.274381Z_00.00.fits saved at /media/home/team_workspaces/Euclid-Consortium/data/strong_lensing/external_targets_pipeline/demo_lrg/tiles/EUC_MER_BGSUB-MOSAIC-NIR-J_TILE101542819-A44F31_20240202T002853.274381Z_00.00.fits\n"
     ]
    },
    {
     "name": "stdout",
     "output_type": "stream",
     "text": [
      "Done.\n",
      "Retrieving data.\n",
      "Data request: TAPCLIENT=ASTROQUERY&RELEASE=sedm&FILE_NAME=EUC_MER_BGSUB-MOSAIC-NIR-Y_TILE101542819-3D9C48_20240202T002851.436958Z_00.00.fits&RETRIEVAL_TYPE=FILE\n",
      "------>https\n",
      "host = easotf.esac.esa.int:443\n",
      "context = /sas-dd/data\n",
      "Content-type = application/x-www-form-urlencoded\n",
      "200 \n",
      "Reading...\n"
     ]
    },
    {
     "name": "stderr",
     "output_type": "stream",
     "text": [
      "INFO:root:EUC_MER_BGSUB-MOSAIC-NIR-Y_TILE101542819-3D9C48_20240202T002851.436958Z_00.00.fits saved at /media/home/team_workspaces/Euclid-Consortium/data/strong_lensing/external_targets_pipeline/demo_lrg/tiles/EUC_MER_BGSUB-MOSAIC-NIR-Y_TILE101542819-3D9C48_20240202T002851.436958Z_00.00.fits\n"
     ]
    },
    {
     "name": "stdout",
     "output_type": "stream",
     "text": [
      "Done.\n",
      "Retrieving data.\n",
      "Data request: TAPCLIENT=ASTROQUERY&RELEASE=sedm&FILE_NAME=EUC_MER_BGSUB-MOSAIC-VIS_TILE101542819-DB6D60_20240202T004656.100936Z_00.00.fits&RETRIEVAL_TYPE=FILE\n",
      "------>https\n",
      "host = easotf.esac.esa.int:443\n",
      "context = /sas-dd/data\n",
      "Content-type = application/x-www-form-urlencoded\n",
      "200 \n",
      "Reading...\n"
     ]
    },
    {
     "name": "stderr",
     "output_type": "stream",
     "text": [
      "INFO:root:EUC_MER_BGSUB-MOSAIC-VIS_TILE101542819-DB6D60_20240202T004656.100936Z_00.00.fits saved at /media/home/team_workspaces/Euclid-Consortium/data/strong_lensing/external_targets_pipeline/demo_lrg/tiles/EUC_MER_BGSUB-MOSAIC-VIS_TILE101542819-DB6D60_20240202T004656.100936Z_00.00.fits\n"
     ]
    },
    {
     "name": "stdout",
     "output_type": "stream",
     "text": [
      "Done.\n",
      "Retrieving data.\n",
      "Data request: TAPCLIENT=ASTROQUERY&RELEASE=sedm&FILE_NAME=EUC_MER_MOSAIC-NIR-J-RMS_TILE101542819-714380_20240202T000622.807474Z_00.00.fits&RETRIEVAL_TYPE=FILE\n",
      "------>https\n",
      "host = easotf.esac.esa.int:443\n",
      "context = /sas-dd/data\n",
      "Content-type = application/x-www-form-urlencoded\n",
      "200 \n",
      "Reading...\n"
     ]
    },
    {
     "name": "stderr",
     "output_type": "stream",
     "text": [
      "INFO:root:EUC_MER_MOSAIC-NIR-J-RMS_TILE101542819-714380_20240202T000622.807474Z_00.00.fits saved at /media/home/team_workspaces/Euclid-Consortium/data/strong_lensing/external_targets_pipeline/demo_lrg/tiles/EUC_MER_MOSAIC-NIR-J-RMS_TILE101542819-714380_20240202T000622.807474Z_00.00.fits\n"
     ]
    },
    {
     "name": "stdout",
     "output_type": "stream",
     "text": [
      "Done.\n",
      "Retrieving data.\n",
      "Data request: TAPCLIENT=ASTROQUERY&RELEASE=sedm&FILE_NAME=EUC_MER_CATALOG-PSF-NIR-J_TILE101542819-BF9AAD_20240202T010549.545547Z_00.00.fits&RETRIEVAL_TYPE=FILE\n",
      "------>https\n",
      "host = easotf.esac.esa.int:443\n",
      "context = /sas-dd/data\n",
      "Content-type = application/x-www-form-urlencoded\n",
      "200 \n",
      "Reading...\n"
     ]
    },
    {
     "name": "stderr",
     "output_type": "stream",
     "text": [
      "INFO:root:EUC_MER_CATALOG-PSF-NIR-J_TILE101542819-BF9AAD_20240202T010549.545547Z_00.00.fits saved at /media/home/team_workspaces/Euclid-Consortium/data/strong_lensing/external_targets_pipeline/demo_lrg/tiles/EUC_MER_CATALOG-PSF-NIR-J_TILE101542819-BF9AAD_20240202T010549.545547Z_00.00.fits\n"
     ]
    },
    {
     "name": "stdout",
     "output_type": "stream",
     "text": [
      "Done.\n",
      "Retrieving data.\n",
      "Data request: TAPCLIENT=ASTROQUERY&RELEASE=sedm&FILE_NAME=EUC_MER_MOSAIC-NIR-Y-RMS_TILE101542819-11471B_20240202T000612.046103Z_00.00.fits&RETRIEVAL_TYPE=FILE\n",
      "------>https\n",
      "host = easotf.esac.esa.int:443\n",
      "context = /sas-dd/data\n",
      "Content-type = application/x-www-form-urlencoded\n",
      "200 \n",
      "Reading...\n"
     ]
    },
    {
     "name": "stderr",
     "output_type": "stream",
     "text": [
      "INFO:root:EUC_MER_MOSAIC-NIR-Y-RMS_TILE101542819-11471B_20240202T000612.046103Z_00.00.fits saved at /media/home/team_workspaces/Euclid-Consortium/data/strong_lensing/external_targets_pipeline/demo_lrg/tiles/EUC_MER_MOSAIC-NIR-Y-RMS_TILE101542819-11471B_20240202T000612.046103Z_00.00.fits\n"
     ]
    },
    {
     "name": "stdout",
     "output_type": "stream",
     "text": [
      "Done.\n",
      "Retrieving data.\n",
      "Data request: TAPCLIENT=ASTROQUERY&RELEASE=sedm&FILE_NAME=EUC_MER_CATALOG-PSF-NIR-Y_TILE101542819-7F55C5_20240202T010537.648626Z_00.00.fits&RETRIEVAL_TYPE=FILE\n",
      "------>https\n",
      "host = easotf.esac.esa.int:443\n",
      "context = /sas-dd/data\n",
      "Content-type = application/x-www-form-urlencoded\n",
      "200 \n",
      "Reading...\n"
     ]
    },
    {
     "name": "stderr",
     "output_type": "stream",
     "text": [
      "INFO:root:EUC_MER_CATALOG-PSF-NIR-Y_TILE101542819-7F55C5_20240202T010537.648626Z_00.00.fits saved at /media/home/team_workspaces/Euclid-Consortium/data/strong_lensing/external_targets_pipeline/demo_lrg/tiles/EUC_MER_CATALOG-PSF-NIR-Y_TILE101542819-7F55C5_20240202T010537.648626Z_00.00.fits\n"
     ]
    },
    {
     "name": "stdout",
     "output_type": "stream",
     "text": [
      "Done.\n",
      "Retrieving data.\n",
      "Data request: TAPCLIENT=ASTROQUERY&RELEASE=sedm&FILE_NAME=EUC_MER_CATALOG-PSF-VIS_TILE101542819-A4F584_20240202T010710.088822Z_00.00.fits&RETRIEVAL_TYPE=FILE\n",
      "------>https\n",
      "host = easotf.esac.esa.int:443\n",
      "context = /sas-dd/data\n",
      "Content-type = application/x-www-form-urlencoded\n"
     ]
    },
    {
     "name": "stderr",
     "output_type": "stream",
     "text": [
      "INFO:root:EUC_MER_CATALOG-PSF-VIS_TILE101542819-A4F584_20240202T010710.088822Z_00.00.fits saved at /media/home/team_workspaces/Euclid-Consortium/data/strong_lensing/external_targets_pipeline/demo_lrg/tiles/EUC_MER_CATALOG-PSF-VIS_TILE101542819-A4F584_20240202T010710.088822Z_00.00.fits\n"
     ]
    },
    {
     "name": "stdout",
     "output_type": "stream",
     "text": [
      "200 \n",
      "Reading...\n",
      "Done.\n",
      "Retrieving data.\n",
      "Data request: TAPCLIENT=ASTROQUERY&RELEASE=sedm&FILE_NAME=EUC_MER_MOSAIC-VIS-RMS_TILE101542819-7F8E6C_20240202T001123.883955Z_00.00.fits&RETRIEVAL_TYPE=FILE\n",
      "------>https\n",
      "host = easotf.esac.esa.int:443\n",
      "context = /sas-dd/data\n",
      "Content-type = application/x-www-form-urlencoded\n",
      "200 \n",
      "Reading...\n"
     ]
    },
    {
     "name": "stderr",
     "output_type": "stream",
     "text": [
      "INFO:root:EUC_MER_MOSAIC-VIS-RMS_TILE101542819-7F8E6C_20240202T001123.883955Z_00.00.fits saved at /media/home/team_workspaces/Euclid-Consortium/data/strong_lensing/external_targets_pipeline/demo_lrg/tiles/EUC_MER_MOSAIC-VIS-RMS_TILE101542819-7F8E6C_20240202T001123.883955Z_00.00.fits\n",
      "INFO:root:Downloaded flux+auxillary tiles: {'NIR_J': {'FLUX': '/media/home/team_workspaces/Euclid-Consortium/data/strong_lensing/external_targets_pipeline/demo_lrg/tiles/EUC_MER_BGSUB-MOSAIC-NIR-J_TILE101542819-A44F31_20240202T002853.274381Z_00.00.fits', 'MERRMS': '/media/home/team_workspaces/Euclid-Consortium/data/strong_lensing/external_targets_pipeline/demo_lrg/tiles/EUC_MER_MOSAIC-NIR-J-RMS_TILE101542819-714380_20240202T000622.807474Z_00.00.fits', 'MERPSF': '/media/home/team_workspaces/Euclid-Consortium/data/strong_lensing/external_targets_pipeline/demo_lrg/tiles/EUC_MER_CATALOG-PSF-NIR-J_TILE101542819-BF9AAD_20240202T010549.545547Z_00.00.fits'}, 'NIR_Y': {'FLUX': '/media/home/team_workspaces/Euclid-Consortium/data/strong_lensing/external_targets_pipeline/demo_lrg/tiles/EUC_MER_BGSUB-MOSAIC-NIR-Y_TILE101542819-3D9C48_20240202T002851.436958Z_00.00.fits', 'MERRMS': '/media/home/team_workspaces/Euclid-Consortium/data/strong_lensing/external_targets_pipeline/demo_lrg/tiles/EUC_MER_MOSAIC-NIR-Y-RMS_TILE101542819-11471B_20240202T000612.046103Z_00.00.fits', 'MERPSF': '/media/home/team_workspaces/Euclid-Consortium/data/strong_lensing/external_targets_pipeline/demo_lrg/tiles/EUC_MER_CATALOG-PSF-NIR-Y_TILE101542819-7F55C5_20240202T010537.648626Z_00.00.fits'}, 'VIS': {'FLUX': '/media/home/team_workspaces/Euclid-Consortium/data/strong_lensing/external_targets_pipeline/demo_lrg/tiles/EUC_MER_BGSUB-MOSAIC-VIS_TILE101542819-DB6D60_20240202T004656.100936Z_00.00.fits', 'MERPSF': '/media/home/team_workspaces/Euclid-Consortium/data/strong_lensing/external_targets_pipeline/demo_lrg/tiles/EUC_MER_CATALOG-PSF-VIS_TILE101542819-A4F584_20240202T010710.088822Z_00.00.fits', 'MERRMS': '/media/home/team_workspaces/Euclid-Consortium/data/strong_lensing/external_targets_pipeline/demo_lrg/tiles/EUC_MER_MOSAIC-VIS-RMS_TILE101542819-7F8E6C_20240202T001123.883955Z_00.00.fits'}}\n",
      "INFO:root:Downloaded: {'NIR_J': {'FLUX': '/media/home/team_workspaces/Euclid-Consortium/data/strong_lensing/external_targets_pipeline/demo_lrg/tiles/EUC_MER_BGSUB-MOSAIC-NIR-J_TILE101542819-A44F31_20240202T002853.274381Z_00.00.fits', 'MERRMS': '/media/home/team_workspaces/Euclid-Consortium/data/strong_lensing/external_targets_pipeline/demo_lrg/tiles/EUC_MER_MOSAIC-NIR-J-RMS_TILE101542819-714380_20240202T000622.807474Z_00.00.fits', 'MERPSF': '/media/home/team_workspaces/Euclid-Consortium/data/strong_lensing/external_targets_pipeline/demo_lrg/tiles/EUC_MER_CATALOG-PSF-NIR-J_TILE101542819-BF9AAD_20240202T010549.545547Z_00.00.fits'}, 'NIR_Y': {'FLUX': '/media/home/team_workspaces/Euclid-Consortium/data/strong_lensing/external_targets_pipeline/demo_lrg/tiles/EUC_MER_BGSUB-MOSAIC-NIR-Y_TILE101542819-3D9C48_20240202T002851.436958Z_00.00.fits', 'MERRMS': '/media/home/team_workspaces/Euclid-Consortium/data/strong_lensing/external_targets_pipeline/demo_lrg/tiles/EUC_MER_MOSAIC-NIR-Y-RMS_TILE101542819-11471B_20240202T000612.046103Z_00.00.fits', 'MERPSF': '/media/home/team_workspaces/Euclid-Consortium/data/strong_lensing/external_targets_pipeline/demo_lrg/tiles/EUC_MER_CATALOG-PSF-NIR-Y_TILE101542819-7F55C5_20240202T010537.648626Z_00.00.fits'}, 'VIS': {'FLUX': '/media/home/team_workspaces/Euclid-Consortium/data/strong_lensing/external_targets_pipeline/demo_lrg/tiles/EUC_MER_BGSUB-MOSAIC-VIS_TILE101542819-DB6D60_20240202T004656.100936Z_00.00.fits', 'MERPSF': '/media/home/team_workspaces/Euclid-Consortium/data/strong_lensing/external_targets_pipeline/demo_lrg/tiles/EUC_MER_CATALOG-PSF-VIS_TILE101542819-A4F584_20240202T010710.088822Z_00.00.fits', 'MERRMS': '/media/home/team_workspaces/Euclid-Consortium/data/strong_lensing/external_targets_pipeline/demo_lrg/tiles/EUC_MER_MOSAIC-VIS-RMS_TILE101542819-7F8E6C_20240202T001123.883955Z_00.00.fits'}}\n"
     ]
    },
    {
     "name": "stdout",
     "output_type": "stream",
     "text": [
      "Done.\n"
     ]
    },
    {
     "name": "stderr",
     "output_type": "stream",
     "text": [
      "WARNING: VerifyWarning: Keyword name 'EXTNAME10' is greater than 8 characters or contains characters not allowed by the FITS standard; a HIERARCH card will be created. [astropy.io.fits.card]\n",
      "WARNING:astroquery:VerifyWarning: Keyword name 'EXTNAME10' is greater than 8 characters or contains characters not allowed by the FITS standard; a HIERARCH card will be created.\n",
      "WARNING: VerifyWarning: Keyword name 'EXTNAME11' is greater than 8 characters or contains characters not allowed by the FITS standard; a HIERARCH card will be created. [astropy.io.fits.card]\n",
      "WARNING:astroquery:VerifyWarning: Keyword name 'EXTNAME11' is greater than 8 characters or contains characters not allowed by the FITS standard; a HIERARCH card will be created.\n",
      "WARNING: VerifyWarning: Card is too long, comment will be truncated. [astropy.io.fits.card]\n",
      "WARNING:astroquery:VerifyWarning: Card is too long, comment will be truncated.\n",
      "INFO:root:Tile 101544255, 7 of 19\n",
      "INFO:astroquery:Query finished.\n"
     ]
    },
    {
     "name": "stdout",
     "output_type": "stream",
     "text": [
      "INFO: Query finished. [astroquery.utils.tap.core]\n",
      "Found 3  query results\n",
      "Retrieving data.\n",
      "Data request: TAPCLIENT=ASTROQUERY&RELEASE=sedm&FILE_NAME=EUC_MER_BGSUB-MOSAIC-VIS_TILE101544255-6D25FA_20240202T071931.685336Z_00.00.fits&RETRIEVAL_TYPE=FILE\n",
      "------>https\n",
      "host = easotf.esac.esa.int:443\n",
      "context = /sas-dd/data\n",
      "Content-type = application/x-www-form-urlencoded\n",
      "200 \n",
      "Reading...\n"
     ]
    },
    {
     "name": "stderr",
     "output_type": "stream",
     "text": [
      "INFO:root:EUC_MER_BGSUB-MOSAIC-VIS_TILE101544255-6D25FA_20240202T071931.685336Z_00.00.fits saved at /media/home/team_workspaces/Euclid-Consortium/data/strong_lensing/external_targets_pipeline/demo_lrg/tiles/EUC_MER_BGSUB-MOSAIC-VIS_TILE101544255-6D25FA_20240202T071931.685336Z_00.00.fits\n"
     ]
    },
    {
     "name": "stdout",
     "output_type": "stream",
     "text": [
      "Done.\n",
      "Retrieving data.\n",
      "Data request: TAPCLIENT=ASTROQUERY&RELEASE=sedm&FILE_NAME=EUC_MER_BGSUB-MOSAIC-NIR-Y_TILE101544255-81A14_20240202T035059.082748Z_00.00.fits&RETRIEVAL_TYPE=FILE\n",
      "------>https\n",
      "host = easotf.esac.esa.int:443\n",
      "context = /sas-dd/data\n",
      "Content-type = application/x-www-form-urlencoded\n",
      "200 \n",
      "Reading...\n"
     ]
    },
    {
     "name": "stderr",
     "output_type": "stream",
     "text": [
      "INFO:root:EUC_MER_BGSUB-MOSAIC-NIR-Y_TILE101544255-81A14_20240202T035059.082748Z_00.00.fits saved at /media/home/team_workspaces/Euclid-Consortium/data/strong_lensing/external_targets_pipeline/demo_lrg/tiles/EUC_MER_BGSUB-MOSAIC-NIR-Y_TILE101544255-81A14_20240202T035059.082748Z_00.00.fits\n"
     ]
    },
    {
     "name": "stdout",
     "output_type": "stream",
     "text": [
      "Done.\n",
      "Retrieving data.\n",
      "Data request: TAPCLIENT=ASTROQUERY&RELEASE=sedm&FILE_NAME=EUC_MER_BGSUB-MOSAIC-NIR-J_TILE101544255-ED03CE_20240202T041939.475120Z_00.00.fits&RETRIEVAL_TYPE=FILE\n",
      "------>https\n",
      "host = easotf.esac.esa.int:443\n",
      "context = /sas-dd/data\n",
      "Content-type = application/x-www-form-urlencoded\n",
      "200 \n",
      "Reading...\n"
     ]
    },
    {
     "name": "stderr",
     "output_type": "stream",
     "text": [
      "INFO:root:EUC_MER_BGSUB-MOSAIC-NIR-J_TILE101544255-ED03CE_20240202T041939.475120Z_00.00.fits saved at /media/home/team_workspaces/Euclid-Consortium/data/strong_lensing/external_targets_pipeline/demo_lrg/tiles/EUC_MER_BGSUB-MOSAIC-NIR-J_TILE101544255-ED03CE_20240202T041939.475120Z_00.00.fits\n"
     ]
    },
    {
     "name": "stdout",
     "output_type": "stream",
     "text": [
      "Done.\n",
      "Retrieving data.\n",
      "Data request: TAPCLIENT=ASTROQUERY&RELEASE=sedm&FILE_NAME=EUC_MER_MOSAIC-VIS-RMS_TILE101544255-FA1157_20240202T024030.071285Z_00.00.fits&RETRIEVAL_TYPE=FILE\n",
      "------>https\n",
      "host = easotf.esac.esa.int:443\n",
      "context = /sas-dd/data\n",
      "Content-type = application/x-www-form-urlencoded\n",
      "200 \n",
      "Reading...\n"
     ]
    },
    {
     "name": "stderr",
     "output_type": "stream",
     "text": [
      "INFO:root:EUC_MER_MOSAIC-VIS-RMS_TILE101544255-FA1157_20240202T024030.071285Z_00.00.fits saved at /media/home/team_workspaces/Euclid-Consortium/data/strong_lensing/external_targets_pipeline/demo_lrg/tiles/EUC_MER_MOSAIC-VIS-RMS_TILE101544255-FA1157_20240202T024030.071285Z_00.00.fits\n"
     ]
    },
    {
     "name": "stdout",
     "output_type": "stream",
     "text": [
      "Done.\n",
      "Retrieving data.\n",
      "Data request: TAPCLIENT=ASTROQUERY&RELEASE=sedm&FILE_NAME=EUC_MER_CATALOG-PSF-VIS_TILE101544255-F508E2_20240202T074724.664766Z_00.00.fits&RETRIEVAL_TYPE=FILE\n",
      "------>https\n",
      "host = easotf.esac.esa.int:443\n",
      "context = /sas-dd/data\n",
      "Content-type = application/x-www-form-urlencoded\n",
      "200 \n",
      "Reading...\n"
     ]
    },
    {
     "name": "stderr",
     "output_type": "stream",
     "text": [
      "INFO:root:EUC_MER_CATALOG-PSF-VIS_TILE101544255-F508E2_20240202T074724.664766Z_00.00.fits saved at /media/home/team_workspaces/Euclid-Consortium/data/strong_lensing/external_targets_pipeline/demo_lrg/tiles/EUC_MER_CATALOG-PSF-VIS_TILE101544255-F508E2_20240202T074724.664766Z_00.00.fits\n"
     ]
    },
    {
     "name": "stdout",
     "output_type": "stream",
     "text": [
      "Done.\n",
      "Retrieving data.\n",
      "Data request: TAPCLIENT=ASTROQUERY&RELEASE=sedm&FILE_NAME=EUC_MER_CATALOG-PSF-NIR-Y_TILE101544255-2E5292_20240202T073652.302814Z_00.00.fits&RETRIEVAL_TYPE=FILE\n",
      "------>https\n",
      "host = easotf.esac.esa.int:443\n",
      "context = /sas-dd/data\n",
      "Content-type = application/x-www-form-urlencoded\n",
      "200 \n",
      "Reading...\n"
     ]
    },
    {
     "name": "stderr",
     "output_type": "stream",
     "text": [
      "INFO:root:EUC_MER_CATALOG-PSF-NIR-Y_TILE101544255-2E5292_20240202T073652.302814Z_00.00.fits saved at /media/home/team_workspaces/Euclid-Consortium/data/strong_lensing/external_targets_pipeline/demo_lrg/tiles/EUC_MER_CATALOG-PSF-NIR-Y_TILE101544255-2E5292_20240202T073652.302814Z_00.00.fits\n"
     ]
    },
    {
     "name": "stdout",
     "output_type": "stream",
     "text": [
      "Done.\n",
      "Retrieving data.\n",
      "Data request: TAPCLIENT=ASTROQUERY&RELEASE=sedm&FILE_NAME=EUC_MER_MOSAIC-NIR-Y-RMS_TILE101544255-1D0C20_20240202T021927.614168Z_00.00.fits&RETRIEVAL_TYPE=FILE\n",
      "------>https\n",
      "host = easotf.esac.esa.int:443\n",
      "context = /sas-dd/data\n",
      "Content-type = application/x-www-form-urlencoded\n",
      "200 \n",
      "Reading...\n"
     ]
    },
    {
     "name": "stderr",
     "output_type": "stream",
     "text": [
      "INFO:root:EUC_MER_MOSAIC-NIR-Y-RMS_TILE101544255-1D0C20_20240202T021927.614168Z_00.00.fits saved at /media/home/team_workspaces/Euclid-Consortium/data/strong_lensing/external_targets_pipeline/demo_lrg/tiles/EUC_MER_MOSAIC-NIR-Y-RMS_TILE101544255-1D0C20_20240202T021927.614168Z_00.00.fits\n"
     ]
    },
    {
     "name": "stdout",
     "output_type": "stream",
     "text": [
      "Done.\n",
      "Retrieving data.\n",
      "Data request: TAPCLIENT=ASTROQUERY&RELEASE=sedm&FILE_NAME=EUC_MER_CATALOG-PSF-NIR-J_TILE101544255-7587CE_20240202T073713.845088Z_00.00.fits&RETRIEVAL_TYPE=FILE\n",
      "------>https\n",
      "host = easotf.esac.esa.int:443\n",
      "context = /sas-dd/data\n",
      "Content-type = application/x-www-form-urlencoded\n",
      "200 \n",
      "Reading...\n"
     ]
    },
    {
     "name": "stderr",
     "output_type": "stream",
     "text": [
      "INFO:root:EUC_MER_CATALOG-PSF-NIR-J_TILE101544255-7587CE_20240202T073713.845088Z_00.00.fits saved at /media/home/team_workspaces/Euclid-Consortium/data/strong_lensing/external_targets_pipeline/demo_lrg/tiles/EUC_MER_CATALOG-PSF-NIR-J_TILE101544255-7587CE_20240202T073713.845088Z_00.00.fits\n"
     ]
    },
    {
     "name": "stdout",
     "output_type": "stream",
     "text": [
      "Done.\n",
      "Retrieving data.\n",
      "Data request: TAPCLIENT=ASTROQUERY&RELEASE=sedm&FILE_NAME=EUC_MER_MOSAIC-NIR-J-RMS_TILE101544255-627A9E_20240202T021942.539841Z_00.00.fits&RETRIEVAL_TYPE=FILE\n",
      "------>https\n",
      "host = easotf.esac.esa.int:443\n",
      "context = /sas-dd/data\n",
      "Content-type = application/x-www-form-urlencoded\n",
      "200 \n",
      "Reading...\n"
     ]
    },
    {
     "name": "stderr",
     "output_type": "stream",
     "text": [
      "INFO:root:EUC_MER_MOSAIC-NIR-J-RMS_TILE101544255-627A9E_20240202T021942.539841Z_00.00.fits saved at /media/home/team_workspaces/Euclid-Consortium/data/strong_lensing/external_targets_pipeline/demo_lrg/tiles/EUC_MER_MOSAIC-NIR-J-RMS_TILE101544255-627A9E_20240202T021942.539841Z_00.00.fits\n",
      "INFO:root:Downloaded flux+auxillary tiles: {'VIS': {'FLUX': '/media/home/team_workspaces/Euclid-Consortium/data/strong_lensing/external_targets_pipeline/demo_lrg/tiles/EUC_MER_BGSUB-MOSAIC-VIS_TILE101544255-6D25FA_20240202T071931.685336Z_00.00.fits', 'MERRMS': '/media/home/team_workspaces/Euclid-Consortium/data/strong_lensing/external_targets_pipeline/demo_lrg/tiles/EUC_MER_MOSAIC-VIS-RMS_TILE101544255-FA1157_20240202T024030.071285Z_00.00.fits', 'MERPSF': '/media/home/team_workspaces/Euclid-Consortium/data/strong_lensing/external_targets_pipeline/demo_lrg/tiles/EUC_MER_CATALOG-PSF-VIS_TILE101544255-F508E2_20240202T074724.664766Z_00.00.fits'}, 'NIR_Y': {'FLUX': '/media/home/team_workspaces/Euclid-Consortium/data/strong_lensing/external_targets_pipeline/demo_lrg/tiles/EUC_MER_BGSUB-MOSAIC-NIR-Y_TILE101544255-81A14_20240202T035059.082748Z_00.00.fits', 'MERPSF': '/media/home/team_workspaces/Euclid-Consortium/data/strong_lensing/external_targets_pipeline/demo_lrg/tiles/EUC_MER_CATALOG-PSF-NIR-Y_TILE101544255-2E5292_20240202T073652.302814Z_00.00.fits', 'MERRMS': '/media/home/team_workspaces/Euclid-Consortium/data/strong_lensing/external_targets_pipeline/demo_lrg/tiles/EUC_MER_MOSAIC-NIR-Y-RMS_TILE101544255-1D0C20_20240202T021927.614168Z_00.00.fits'}, 'NIR_J': {'FLUX': '/media/home/team_workspaces/Euclid-Consortium/data/strong_lensing/external_targets_pipeline/demo_lrg/tiles/EUC_MER_BGSUB-MOSAIC-NIR-J_TILE101544255-ED03CE_20240202T041939.475120Z_00.00.fits', 'MERPSF': '/media/home/team_workspaces/Euclid-Consortium/data/strong_lensing/external_targets_pipeline/demo_lrg/tiles/EUC_MER_CATALOG-PSF-NIR-J_TILE101544255-7587CE_20240202T073713.845088Z_00.00.fits', 'MERRMS': '/media/home/team_workspaces/Euclid-Consortium/data/strong_lensing/external_targets_pipeline/demo_lrg/tiles/EUC_MER_MOSAIC-NIR-J-RMS_TILE101544255-627A9E_20240202T021942.539841Z_00.00.fits'}}\n",
      "INFO:root:Downloaded: {'VIS': {'FLUX': '/media/home/team_workspaces/Euclid-Consortium/data/strong_lensing/external_targets_pipeline/demo_lrg/tiles/EUC_MER_BGSUB-MOSAIC-VIS_TILE101544255-6D25FA_20240202T071931.685336Z_00.00.fits', 'MERRMS': '/media/home/team_workspaces/Euclid-Consortium/data/strong_lensing/external_targets_pipeline/demo_lrg/tiles/EUC_MER_MOSAIC-VIS-RMS_TILE101544255-FA1157_20240202T024030.071285Z_00.00.fits', 'MERPSF': '/media/home/team_workspaces/Euclid-Consortium/data/strong_lensing/external_targets_pipeline/demo_lrg/tiles/EUC_MER_CATALOG-PSF-VIS_TILE101544255-F508E2_20240202T074724.664766Z_00.00.fits'}, 'NIR_Y': {'FLUX': '/media/home/team_workspaces/Euclid-Consortium/data/strong_lensing/external_targets_pipeline/demo_lrg/tiles/EUC_MER_BGSUB-MOSAIC-NIR-Y_TILE101544255-81A14_20240202T035059.082748Z_00.00.fits', 'MERPSF': '/media/home/team_workspaces/Euclid-Consortium/data/strong_lensing/external_targets_pipeline/demo_lrg/tiles/EUC_MER_CATALOG-PSF-NIR-Y_TILE101544255-2E5292_20240202T073652.302814Z_00.00.fits', 'MERRMS': '/media/home/team_workspaces/Euclid-Consortium/data/strong_lensing/external_targets_pipeline/demo_lrg/tiles/EUC_MER_MOSAIC-NIR-Y-RMS_TILE101544255-1D0C20_20240202T021927.614168Z_00.00.fits'}, 'NIR_J': {'FLUX': '/media/home/team_workspaces/Euclid-Consortium/data/strong_lensing/external_targets_pipeline/demo_lrg/tiles/EUC_MER_BGSUB-MOSAIC-NIR-J_TILE101544255-ED03CE_20240202T041939.475120Z_00.00.fits', 'MERPSF': '/media/home/team_workspaces/Euclid-Consortium/data/strong_lensing/external_targets_pipeline/demo_lrg/tiles/EUC_MER_CATALOG-PSF-NIR-J_TILE101544255-7587CE_20240202T073713.845088Z_00.00.fits', 'MERRMS': '/media/home/team_workspaces/Euclid-Consortium/data/strong_lensing/external_targets_pipeline/demo_lrg/tiles/EUC_MER_MOSAIC-NIR-J-RMS_TILE101544255-627A9E_20240202T021942.539841Z_00.00.fits'}}\n"
     ]
    },
    {
     "name": "stdout",
     "output_type": "stream",
     "text": [
      "Done.\n"
     ]
    },
    {
     "name": "stderr",
     "output_type": "stream",
     "text": [
      "WARNING: VerifyWarning: Keyword name 'EXTNAME10' is greater than 8 characters or contains characters not allowed by the FITS standard; a HIERARCH card will be created. [astropy.io.fits.card]\n",
      "WARNING:astroquery:VerifyWarning: Keyword name 'EXTNAME10' is greater than 8 characters or contains characters not allowed by the FITS standard; a HIERARCH card will be created.\n",
      "WARNING: VerifyWarning: Keyword name 'EXTNAME11' is greater than 8 characters or contains characters not allowed by the FITS standard; a HIERARCH card will be created. [astropy.io.fits.card]\n",
      "WARNING:astroquery:VerifyWarning: Keyword name 'EXTNAME11' is greater than 8 characters or contains characters not allowed by the FITS standard; a HIERARCH card will be created.\n",
      "WARNING: VerifyWarning: Card is too long, comment will be truncated. [astropy.io.fits.card]\n",
      "WARNING:astroquery:VerifyWarning: Card is too long, comment will be truncated.\n",
      "INFO:root:Tile 101544256, 8 of 19\n",
      "INFO:astroquery:Query finished.\n"
     ]
    },
    {
     "name": "stdout",
     "output_type": "stream",
     "text": [
      "INFO: Query finished. [astroquery.utils.tap.core]\n",
      "Found 3  query results\n",
      "Retrieving data.\n",
      "Data request: TAPCLIENT=ASTROQUERY&RELEASE=sedm&FILE_NAME=EUC_MER_BGSUB-MOSAIC-NIR-Y_TILE101544256-8DD33D_20240203T001101.427300Z_00.00.fits&RETRIEVAL_TYPE=FILE\n",
      "------>https\n",
      "host = easotf.esac.esa.int:443\n",
      "context = /sas-dd/data\n",
      "Content-type = application/x-www-form-urlencoded\n",
      "200 \n",
      "Reading...\n"
     ]
    },
    {
     "name": "stderr",
     "output_type": "stream",
     "text": [
      "INFO:root:EUC_MER_BGSUB-MOSAIC-NIR-Y_TILE101544256-8DD33D_20240203T001101.427300Z_00.00.fits saved at /media/home/team_workspaces/Euclid-Consortium/data/strong_lensing/external_targets_pipeline/demo_lrg/tiles/EUC_MER_BGSUB-MOSAIC-NIR-Y_TILE101544256-8DD33D_20240203T001101.427300Z_00.00.fits\n"
     ]
    },
    {
     "name": "stdout",
     "output_type": "stream",
     "text": [
      "Done.\n",
      "Retrieving data.\n",
      "Data request: TAPCLIENT=ASTROQUERY&RELEASE=sedm&FILE_NAME=EUC_MER_BGSUB-MOSAIC-NIR-J_TILE101544256-1961F0_20240203T000939.989862Z_00.00.fits&RETRIEVAL_TYPE=FILE\n",
      "------>https\n",
      "host = easotf.esac.esa.int:443\n",
      "context = /sas-dd/data\n",
      "Content-type = application/x-www-form-urlencoded\n",
      "200 \n",
      "Reading...\n"
     ]
    },
    {
     "name": "stderr",
     "output_type": "stream",
     "text": [
      "INFO:root:EUC_MER_BGSUB-MOSAIC-NIR-J_TILE101544256-1961F0_20240203T000939.989862Z_00.00.fits saved at /media/home/team_workspaces/Euclid-Consortium/data/strong_lensing/external_targets_pipeline/demo_lrg/tiles/EUC_MER_BGSUB-MOSAIC-NIR-J_TILE101544256-1961F0_20240203T000939.989862Z_00.00.fits\n"
     ]
    },
    {
     "name": "stdout",
     "output_type": "stream",
     "text": [
      "Done.\n",
      "Retrieving data.\n",
      "Data request: TAPCLIENT=ASTROQUERY&RELEASE=sedm&FILE_NAME=EUC_MER_BGSUB-MOSAIC-VIS_TILE101544256-F5FCD6_20240203T024726.998416Z_00.00.fits&RETRIEVAL_TYPE=FILE\n",
      "------>https\n",
      "host = easotf.esac.esa.int:443\n",
      "context = /sas-dd/data\n",
      "Content-type = application/x-www-form-urlencoded\n",
      "200 \n",
      "Reading...\n"
     ]
    },
    {
     "name": "stderr",
     "output_type": "stream",
     "text": [
      "INFO:root:EUC_MER_BGSUB-MOSAIC-VIS_TILE101544256-F5FCD6_20240203T024726.998416Z_00.00.fits saved at /media/home/team_workspaces/Euclid-Consortium/data/strong_lensing/external_targets_pipeline/demo_lrg/tiles/EUC_MER_BGSUB-MOSAIC-VIS_TILE101544256-F5FCD6_20240203T024726.998416Z_00.00.fits\n"
     ]
    },
    {
     "name": "stdout",
     "output_type": "stream",
     "text": [
      "Done.\n",
      "Retrieving data.\n",
      "Data request: TAPCLIENT=ASTROQUERY&RELEASE=sedm&FILE_NAME=EUC_MER_MOSAIC-NIR-Y-RMS_TILE101544256-7C198A_20240202T031607.226528Z_00.00.fits&RETRIEVAL_TYPE=FILE\n",
      "------>https\n",
      "host = easotf.esac.esa.int:443\n",
      "context = /sas-dd/data\n",
      "Content-type = application/x-www-form-urlencoded\n",
      "200 \n",
      "Reading...\n"
     ]
    },
    {
     "name": "stderr",
     "output_type": "stream",
     "text": [
      "INFO:root:EUC_MER_MOSAIC-NIR-Y-RMS_TILE101544256-7C198A_20240202T031607.226528Z_00.00.fits saved at /media/home/team_workspaces/Euclid-Consortium/data/strong_lensing/external_targets_pipeline/demo_lrg/tiles/EUC_MER_MOSAIC-NIR-Y-RMS_TILE101544256-7C198A_20240202T031607.226528Z_00.00.fits\n"
     ]
    },
    {
     "name": "stdout",
     "output_type": "stream",
     "text": [
      "Done.\n",
      "Retrieving data.\n",
      "Data request: TAPCLIENT=ASTROQUERY&RELEASE=sedm&FILE_NAME=EUC_MER_CATALOG-PSF-NIR-Y_TILE101544256-3C998C_20240203T033644.054612Z_00.00.fits&RETRIEVAL_TYPE=FILE\n",
      "------>https\n",
      "host = easotf.esac.esa.int:443\n",
      "context = /sas-dd/data\n",
      "Content-type = application/x-www-form-urlencoded\n",
      "200 \n",
      "Reading...\n"
     ]
    },
    {
     "name": "stderr",
     "output_type": "stream",
     "text": [
      "INFO:root:EUC_MER_CATALOG-PSF-NIR-Y_TILE101544256-3C998C_20240203T033644.054612Z_00.00.fits saved at /media/home/team_workspaces/Euclid-Consortium/data/strong_lensing/external_targets_pipeline/demo_lrg/tiles/EUC_MER_CATALOG-PSF-NIR-Y_TILE101544256-3C998C_20240203T033644.054612Z_00.00.fits\n"
     ]
    },
    {
     "name": "stdout",
     "output_type": "stream",
     "text": [
      "Done.\n",
      "Retrieving data.\n",
      "Data request: TAPCLIENT=ASTROQUERY&RELEASE=sedm&FILE_NAME=EUC_MER_MOSAIC-NIR-J-RMS_TILE101544256-2AB32D_20240202T031849.208608Z_00.00.fits&RETRIEVAL_TYPE=FILE\n",
      "------>https\n",
      "host = easotf.esac.esa.int:443\n",
      "context = /sas-dd/data\n",
      "Content-type = application/x-www-form-urlencoded\n",
      "200 \n",
      "Reading...\n",
      "Done.\n"
     ]
    },
    {
     "name": "stderr",
     "output_type": "stream",
     "text": [
      "INFO:root:EUC_MER_MOSAIC-NIR-J-RMS_TILE101544256-2AB32D_20240202T031849.208608Z_00.00.fits saved at /media/home/team_workspaces/Euclid-Consortium/data/strong_lensing/external_targets_pipeline/demo_lrg/tiles/EUC_MER_MOSAIC-NIR-J-RMS_TILE101544256-2AB32D_20240202T031849.208608Z_00.00.fits\n"
     ]
    },
    {
     "name": "stdout",
     "output_type": "stream",
     "text": [
      "Retrieving data.\n",
      "Data request: TAPCLIENT=ASTROQUERY&RELEASE=sedm&FILE_NAME=EUC_MER_CATALOG-PSF-NIR-J_TILE101544256-9D6E36_20240203T033649.646032Z_00.00.fits&RETRIEVAL_TYPE=FILE\n",
      "------>https\n",
      "host = easotf.esac.esa.int:443\n",
      "context = /sas-dd/data\n",
      "Content-type = application/x-www-form-urlencoded\n",
      "200 \n",
      "Reading...\n"
     ]
    },
    {
     "name": "stderr",
     "output_type": "stream",
     "text": [
      "INFO:root:EUC_MER_CATALOG-PSF-NIR-J_TILE101544256-9D6E36_20240203T033649.646032Z_00.00.fits saved at /media/home/team_workspaces/Euclid-Consortium/data/strong_lensing/external_targets_pipeline/demo_lrg/tiles/EUC_MER_CATALOG-PSF-NIR-J_TILE101544256-9D6E36_20240203T033649.646032Z_00.00.fits\n"
     ]
    },
    {
     "name": "stdout",
     "output_type": "stream",
     "text": [
      "Done.\n",
      "Retrieving data.\n",
      "Data request: TAPCLIENT=ASTROQUERY&RELEASE=sedm&FILE_NAME=EUC_MER_MOSAIC-VIS-RMS_TILE101544256-6F448D_20240202T034527.816558Z_00.00.fits&RETRIEVAL_TYPE=FILE\n",
      "------>https\n",
      "host = easotf.esac.esa.int:443\n",
      "context = /sas-dd/data\n",
      "Content-type = application/x-www-form-urlencoded\n",
      "200 \n",
      "Reading...\n"
     ]
    },
    {
     "name": "stderr",
     "output_type": "stream",
     "text": [
      "INFO:root:EUC_MER_MOSAIC-VIS-RMS_TILE101544256-6F448D_20240202T034527.816558Z_00.00.fits saved at /media/home/team_workspaces/Euclid-Consortium/data/strong_lensing/external_targets_pipeline/demo_lrg/tiles/EUC_MER_MOSAIC-VIS-RMS_TILE101544256-6F448D_20240202T034527.816558Z_00.00.fits\n"
     ]
    },
    {
     "name": "stdout",
     "output_type": "stream",
     "text": [
      "Done.\n",
      "Retrieving data.\n",
      "Data request: TAPCLIENT=ASTROQUERY&RELEASE=sedm&FILE_NAME=EUC_MER_CATALOG-PSF-VIS_TILE101544256-44128D_20240203T034541.169658Z_00.00.fits&RETRIEVAL_TYPE=FILE\n",
      "------>https\n",
      "host = easotf.esac.esa.int:443\n",
      "context = /sas-dd/data\n",
      "Content-type = application/x-www-form-urlencoded\n",
      "200 \n",
      "Reading...\n"
     ]
    },
    {
     "name": "stderr",
     "output_type": "stream",
     "text": [
      "INFO:root:EUC_MER_CATALOG-PSF-VIS_TILE101544256-44128D_20240203T034541.169658Z_00.00.fits saved at /media/home/team_workspaces/Euclid-Consortium/data/strong_lensing/external_targets_pipeline/demo_lrg/tiles/EUC_MER_CATALOG-PSF-VIS_TILE101544256-44128D_20240203T034541.169658Z_00.00.fits\n",
      "INFO:root:Downloaded flux+auxillary tiles: {'NIR_Y': {'FLUX': '/media/home/team_workspaces/Euclid-Consortium/data/strong_lensing/external_targets_pipeline/demo_lrg/tiles/EUC_MER_BGSUB-MOSAIC-NIR-Y_TILE101544256-8DD33D_20240203T001101.427300Z_00.00.fits', 'MERRMS': '/media/home/team_workspaces/Euclid-Consortium/data/strong_lensing/external_targets_pipeline/demo_lrg/tiles/EUC_MER_MOSAIC-NIR-Y-RMS_TILE101544256-7C198A_20240202T031607.226528Z_00.00.fits', 'MERPSF': '/media/home/team_workspaces/Euclid-Consortium/data/strong_lensing/external_targets_pipeline/demo_lrg/tiles/EUC_MER_CATALOG-PSF-NIR-Y_TILE101544256-3C998C_20240203T033644.054612Z_00.00.fits'}, 'NIR_J': {'FLUX': '/media/home/team_workspaces/Euclid-Consortium/data/strong_lensing/external_targets_pipeline/demo_lrg/tiles/EUC_MER_BGSUB-MOSAIC-NIR-J_TILE101544256-1961F0_20240203T000939.989862Z_00.00.fits', 'MERRMS': '/media/home/team_workspaces/Euclid-Consortium/data/strong_lensing/external_targets_pipeline/demo_lrg/tiles/EUC_MER_MOSAIC-NIR-J-RMS_TILE101544256-2AB32D_20240202T031849.208608Z_00.00.fits', 'MERPSF': '/media/home/team_workspaces/Euclid-Consortium/data/strong_lensing/external_targets_pipeline/demo_lrg/tiles/EUC_MER_CATALOG-PSF-NIR-J_TILE101544256-9D6E36_20240203T033649.646032Z_00.00.fits'}, 'VIS': {'FLUX': '/media/home/team_workspaces/Euclid-Consortium/data/strong_lensing/external_targets_pipeline/demo_lrg/tiles/EUC_MER_BGSUB-MOSAIC-VIS_TILE101544256-F5FCD6_20240203T024726.998416Z_00.00.fits', 'MERRMS': '/media/home/team_workspaces/Euclid-Consortium/data/strong_lensing/external_targets_pipeline/demo_lrg/tiles/EUC_MER_MOSAIC-VIS-RMS_TILE101544256-6F448D_20240202T034527.816558Z_00.00.fits', 'MERPSF': '/media/home/team_workspaces/Euclid-Consortium/data/strong_lensing/external_targets_pipeline/demo_lrg/tiles/EUC_MER_CATALOG-PSF-VIS_TILE101544256-44128D_20240203T034541.169658Z_00.00.fits'}}\n",
      "INFO:root:Downloaded: {'NIR_Y': {'FLUX': '/media/home/team_workspaces/Euclid-Consortium/data/strong_lensing/external_targets_pipeline/demo_lrg/tiles/EUC_MER_BGSUB-MOSAIC-NIR-Y_TILE101544256-8DD33D_20240203T001101.427300Z_00.00.fits', 'MERRMS': '/media/home/team_workspaces/Euclid-Consortium/data/strong_lensing/external_targets_pipeline/demo_lrg/tiles/EUC_MER_MOSAIC-NIR-Y-RMS_TILE101544256-7C198A_20240202T031607.226528Z_00.00.fits', 'MERPSF': '/media/home/team_workspaces/Euclid-Consortium/data/strong_lensing/external_targets_pipeline/demo_lrg/tiles/EUC_MER_CATALOG-PSF-NIR-Y_TILE101544256-3C998C_20240203T033644.054612Z_00.00.fits'}, 'NIR_J': {'FLUX': '/media/home/team_workspaces/Euclid-Consortium/data/strong_lensing/external_targets_pipeline/demo_lrg/tiles/EUC_MER_BGSUB-MOSAIC-NIR-J_TILE101544256-1961F0_20240203T000939.989862Z_00.00.fits', 'MERRMS': '/media/home/team_workspaces/Euclid-Consortium/data/strong_lensing/external_targets_pipeline/demo_lrg/tiles/EUC_MER_MOSAIC-NIR-J-RMS_TILE101544256-2AB32D_20240202T031849.208608Z_00.00.fits', 'MERPSF': '/media/home/team_workspaces/Euclid-Consortium/data/strong_lensing/external_targets_pipeline/demo_lrg/tiles/EUC_MER_CATALOG-PSF-NIR-J_TILE101544256-9D6E36_20240203T033649.646032Z_00.00.fits'}, 'VIS': {'FLUX': '/media/home/team_workspaces/Euclid-Consortium/data/strong_lensing/external_targets_pipeline/demo_lrg/tiles/EUC_MER_BGSUB-MOSAIC-VIS_TILE101544256-F5FCD6_20240203T024726.998416Z_00.00.fits', 'MERRMS': '/media/home/team_workspaces/Euclid-Consortium/data/strong_lensing/external_targets_pipeline/demo_lrg/tiles/EUC_MER_MOSAIC-VIS-RMS_TILE101544256-6F448D_20240202T034527.816558Z_00.00.fits', 'MERPSF': '/media/home/team_workspaces/Euclid-Consortium/data/strong_lensing/external_targets_pipeline/demo_lrg/tiles/EUC_MER_CATALOG-PSF-VIS_TILE101544256-44128D_20240203T034541.169658Z_00.00.fits'}}\n"
     ]
    },
    {
     "name": "stdout",
     "output_type": "stream",
     "text": [
      "Done.\n"
     ]
    },
    {
     "name": "stderr",
     "output_type": "stream",
     "text": [
      "WARNING: VerifyWarning: Keyword name 'EXTNAME10' is greater than 8 characters or contains characters not allowed by the FITS standard; a HIERARCH card will be created. [astropy.io.fits.card]\n",
      "WARNING:astroquery:VerifyWarning: Keyword name 'EXTNAME10' is greater than 8 characters or contains characters not allowed by the FITS standard; a HIERARCH card will be created.\n",
      "WARNING: VerifyWarning: Keyword name 'EXTNAME11' is greater than 8 characters or contains characters not allowed by the FITS standard; a HIERARCH card will be created. [astropy.io.fits.card]\n",
      "WARNING:astroquery:VerifyWarning: Keyword name 'EXTNAME11' is greater than 8 characters or contains characters not allowed by the FITS standard; a HIERARCH card will be created.\n",
      "WARNING: VerifyWarning: Card is too long, comment will be truncated. [astropy.io.fits.card]\n",
      "WARNING:astroquery:VerifyWarning: Card is too long, comment will be truncated.\n",
      "INFO:root:Tile 101544257, 9 of 19\n",
      "INFO:astroquery:Query finished.\n"
     ]
    },
    {
     "name": "stdout",
     "output_type": "stream",
     "text": [
      "INFO: Query finished. [astroquery.utils.tap.core]\n",
      "Found 3  query results\n",
      "Retrieving data.\n",
      "Data request: TAPCLIENT=ASTROQUERY&RELEASE=sedm&FILE_NAME=EUC_MER_BGSUB-MOSAIC-VIS_TILE101544257-6369BD_20240203T032415.932203Z_00.00.fits&RETRIEVAL_TYPE=FILE\n",
      "------>https\n",
      "host = easotf.esac.esa.int:443\n",
      "context = /sas-dd/data\n",
      "Content-type = application/x-www-form-urlencoded\n",
      "200 \n",
      "Reading...\n"
     ]
    },
    {
     "name": "stderr",
     "output_type": "stream",
     "text": [
      "INFO:root:EUC_MER_BGSUB-MOSAIC-VIS_TILE101544257-6369BD_20240203T032415.932203Z_00.00.fits saved at /media/home/team_workspaces/Euclid-Consortium/data/strong_lensing/external_targets_pipeline/demo_lrg/tiles/EUC_MER_BGSUB-MOSAIC-VIS_TILE101544257-6369BD_20240203T032415.932203Z_00.00.fits\n"
     ]
    },
    {
     "name": "stdout",
     "output_type": "stream",
     "text": [
      "Done.\n",
      "Retrieving data.\n",
      "Data request: TAPCLIENT=ASTROQUERY&RELEASE=sedm&FILE_NAME=EUC_MER_BGSUB-MOSAIC-NIR-J_TILE101544257-64D98D_20240203T013210.615528Z_00.00.fits&RETRIEVAL_TYPE=FILE\n",
      "------>https\n",
      "host = easotf.esac.esa.int:443\n",
      "context = /sas-dd/data\n",
      "Content-type = application/x-www-form-urlencoded\n",
      "200 \n",
      "Reading...\n"
     ]
    },
    {
     "name": "stderr",
     "output_type": "stream",
     "text": [
      "INFO:root:EUC_MER_BGSUB-MOSAIC-NIR-J_TILE101544257-64D98D_20240203T013210.615528Z_00.00.fits saved at /media/home/team_workspaces/Euclid-Consortium/data/strong_lensing/external_targets_pipeline/demo_lrg/tiles/EUC_MER_BGSUB-MOSAIC-NIR-J_TILE101544257-64D98D_20240203T013210.615528Z_00.00.fits\n"
     ]
    },
    {
     "name": "stdout",
     "output_type": "stream",
     "text": [
      "Done.\n",
      "Retrieving data.\n",
      "Data request: TAPCLIENT=ASTROQUERY&RELEASE=sedm&FILE_NAME=EUC_MER_BGSUB-MOSAIC-NIR-Y_TILE101544257-C75E6B_20240203T013429.309466Z_00.00.fits&RETRIEVAL_TYPE=FILE\n",
      "------>https\n",
      "host = easotf.esac.esa.int:443\n",
      "context = /sas-dd/data\n",
      "Content-type = application/x-www-form-urlencoded\n",
      "200 \n",
      "Reading...\n"
     ]
    },
    {
     "name": "stderr",
     "output_type": "stream",
     "text": [
      "INFO:root:EUC_MER_BGSUB-MOSAIC-NIR-Y_TILE101544257-C75E6B_20240203T013429.309466Z_00.00.fits saved at /media/home/team_workspaces/Euclid-Consortium/data/strong_lensing/external_targets_pipeline/demo_lrg/tiles/EUC_MER_BGSUB-MOSAIC-NIR-Y_TILE101544257-C75E6B_20240203T013429.309466Z_00.00.fits\n"
     ]
    },
    {
     "name": "stdout",
     "output_type": "stream",
     "text": [
      "Done.\n",
      "Retrieving data.\n",
      "Data request: TAPCLIENT=ASTROQUERY&RELEASE=sedm&FILE_NAME=EUC_MER_MOSAIC-VIS-RMS_TILE101544257-FA3319_20240202T042737.068746Z_00.00.fits&RETRIEVAL_TYPE=FILE\n",
      "------>https\n",
      "host = easotf.esac.esa.int:443\n",
      "context = /sas-dd/data\n",
      "Content-type = application/x-www-form-urlencoded\n",
      "200 \n",
      "Reading...\n"
     ]
    },
    {
     "name": "stderr",
     "output_type": "stream",
     "text": [
      "INFO:root:EUC_MER_MOSAIC-VIS-RMS_TILE101544257-FA3319_20240202T042737.068746Z_00.00.fits saved at /media/home/team_workspaces/Euclid-Consortium/data/strong_lensing/external_targets_pipeline/demo_lrg/tiles/EUC_MER_MOSAIC-VIS-RMS_TILE101544257-FA3319_20240202T042737.068746Z_00.00.fits\n"
     ]
    },
    {
     "name": "stdout",
     "output_type": "stream",
     "text": [
      "Done.\n",
      "Retrieving data.\n",
      "Data request: TAPCLIENT=ASTROQUERY&RELEASE=sedm&FILE_NAME=EUC_MER_CATALOG-PSF-VIS_TILE101544257-F0FB3B_20240203T045009.380663Z_00.00.fits&RETRIEVAL_TYPE=FILE\n",
      "------>https\n",
      "host = easotf.esac.esa.int:443\n",
      "context = /sas-dd/data\n",
      "Content-type = application/x-www-form-urlencoded\n",
      "200 \n",
      "Reading...\n"
     ]
    },
    {
     "name": "stderr",
     "output_type": "stream",
     "text": [
      "INFO:root:EUC_MER_CATALOG-PSF-VIS_TILE101544257-F0FB3B_20240203T045009.380663Z_00.00.fits saved at /media/home/team_workspaces/Euclid-Consortium/data/strong_lensing/external_targets_pipeline/demo_lrg/tiles/EUC_MER_CATALOG-PSF-VIS_TILE101544257-F0FB3B_20240203T045009.380663Z_00.00.fits\n"
     ]
    },
    {
     "name": "stdout",
     "output_type": "stream",
     "text": [
      "Done.\n",
      "Retrieving data.\n",
      "Data request: TAPCLIENT=ASTROQUERY&RELEASE=sedm&FILE_NAME=EUC_MER_CATALOG-PSF-NIR-J_TILE101544257-A1E2CB_20240203T043923.526334Z_00.00.fits&RETRIEVAL_TYPE=FILE\n",
      "------>https\n",
      "host = easotf.esac.esa.int:443\n",
      "context = /sas-dd/data\n",
      "Content-type = application/x-www-form-urlencoded\n",
      "200 \n",
      "Reading...\n"
     ]
    },
    {
     "name": "stderr",
     "output_type": "stream",
     "text": [
      "INFO:root:EUC_MER_CATALOG-PSF-NIR-J_TILE101544257-A1E2CB_20240203T043923.526334Z_00.00.fits saved at /media/home/team_workspaces/Euclid-Consortium/data/strong_lensing/external_targets_pipeline/demo_lrg/tiles/EUC_MER_CATALOG-PSF-NIR-J_TILE101544257-A1E2CB_20240203T043923.526334Z_00.00.fits\n"
     ]
    },
    {
     "name": "stdout",
     "output_type": "stream",
     "text": [
      "Done.\n",
      "Retrieving data.\n",
      "Data request: TAPCLIENT=ASTROQUERY&RELEASE=sedm&FILE_NAME=EUC_MER_MOSAIC-NIR-J-RMS_TILE101544257-C4B01_20240202T044510.847585Z_00.00.fits&RETRIEVAL_TYPE=FILE\n",
      "------>https\n",
      "host = easotf.esac.esa.int:443\n",
      "context = /sas-dd/data\n",
      "Content-type = application/x-www-form-urlencoded\n",
      "200 \n",
      "Reading...\n"
     ]
    },
    {
     "name": "stderr",
     "output_type": "stream",
     "text": [
      "INFO:root:EUC_MER_MOSAIC-NIR-J-RMS_TILE101544257-C4B01_20240202T044510.847585Z_00.00.fits saved at /media/home/team_workspaces/Euclid-Consortium/data/strong_lensing/external_targets_pipeline/demo_lrg/tiles/EUC_MER_MOSAIC-NIR-J-RMS_TILE101544257-C4B01_20240202T044510.847585Z_00.00.fits\n"
     ]
    },
    {
     "name": "stdout",
     "output_type": "stream",
     "text": [
      "Done.\n",
      "Retrieving data.\n",
      "Data request: TAPCLIENT=ASTROQUERY&RELEASE=sedm&FILE_NAME=EUC_MER_MOSAIC-NIR-Y-RMS_TILE101544257-D5A34D_20240202T044946.693411Z_00.00.fits&RETRIEVAL_TYPE=FILE\n",
      "------>https\n",
      "host = easotf.esac.esa.int:443\n",
      "context = /sas-dd/data\n",
      "Content-type = application/x-www-form-urlencoded\n",
      "200 \n",
      "Reading...\n"
     ]
    },
    {
     "name": "stderr",
     "output_type": "stream",
     "text": [
      "INFO:root:EUC_MER_MOSAIC-NIR-Y-RMS_TILE101544257-D5A34D_20240202T044946.693411Z_00.00.fits saved at /media/home/team_workspaces/Euclid-Consortium/data/strong_lensing/external_targets_pipeline/demo_lrg/tiles/EUC_MER_MOSAIC-NIR-Y-RMS_TILE101544257-D5A34D_20240202T044946.693411Z_00.00.fits\n"
     ]
    },
    {
     "name": "stdout",
     "output_type": "stream",
     "text": [
      "Done.\n",
      "Retrieving data.\n",
      "Data request: TAPCLIENT=ASTROQUERY&RELEASE=sedm&FILE_NAME=EUC_MER_CATALOG-PSF-NIR-Y_TILE101544257-2C6B30_20240203T043905.910116Z_00.00.fits&RETRIEVAL_TYPE=FILE\n",
      "------>https\n",
      "host = easotf.esac.esa.int:443\n",
      "context = /sas-dd/data\n",
      "Content-type = application/x-www-form-urlencoded\n",
      "200 \n",
      "Reading...\n"
     ]
    },
    {
     "name": "stderr",
     "output_type": "stream",
     "text": [
      "INFO:root:EUC_MER_CATALOG-PSF-NIR-Y_TILE101544257-2C6B30_20240203T043905.910116Z_00.00.fits saved at /media/home/team_workspaces/Euclid-Consortium/data/strong_lensing/external_targets_pipeline/demo_lrg/tiles/EUC_MER_CATALOG-PSF-NIR-Y_TILE101544257-2C6B30_20240203T043905.910116Z_00.00.fits\n",
      "INFO:root:Downloaded flux+auxillary tiles: {'VIS': {'FLUX': '/media/home/team_workspaces/Euclid-Consortium/data/strong_lensing/external_targets_pipeline/demo_lrg/tiles/EUC_MER_BGSUB-MOSAIC-VIS_TILE101544257-6369BD_20240203T032415.932203Z_00.00.fits', 'MERRMS': '/media/home/team_workspaces/Euclid-Consortium/data/strong_lensing/external_targets_pipeline/demo_lrg/tiles/EUC_MER_MOSAIC-VIS-RMS_TILE101544257-FA3319_20240202T042737.068746Z_00.00.fits', 'MERPSF': '/media/home/team_workspaces/Euclid-Consortium/data/strong_lensing/external_targets_pipeline/demo_lrg/tiles/EUC_MER_CATALOG-PSF-VIS_TILE101544257-F0FB3B_20240203T045009.380663Z_00.00.fits'}, 'NIR_J': {'FLUX': '/media/home/team_workspaces/Euclid-Consortium/data/strong_lensing/external_targets_pipeline/demo_lrg/tiles/EUC_MER_BGSUB-MOSAIC-NIR-J_TILE101544257-64D98D_20240203T013210.615528Z_00.00.fits', 'MERPSF': '/media/home/team_workspaces/Euclid-Consortium/data/strong_lensing/external_targets_pipeline/demo_lrg/tiles/EUC_MER_CATALOG-PSF-NIR-J_TILE101544257-A1E2CB_20240203T043923.526334Z_00.00.fits', 'MERRMS': '/media/home/team_workspaces/Euclid-Consortium/data/strong_lensing/external_targets_pipeline/demo_lrg/tiles/EUC_MER_MOSAIC-NIR-J-RMS_TILE101544257-C4B01_20240202T044510.847585Z_00.00.fits'}, 'NIR_Y': {'FLUX': '/media/home/team_workspaces/Euclid-Consortium/data/strong_lensing/external_targets_pipeline/demo_lrg/tiles/EUC_MER_BGSUB-MOSAIC-NIR-Y_TILE101544257-C75E6B_20240203T013429.309466Z_00.00.fits', 'MERRMS': '/media/home/team_workspaces/Euclid-Consortium/data/strong_lensing/external_targets_pipeline/demo_lrg/tiles/EUC_MER_MOSAIC-NIR-Y-RMS_TILE101544257-D5A34D_20240202T044946.693411Z_00.00.fits', 'MERPSF': '/media/home/team_workspaces/Euclid-Consortium/data/strong_lensing/external_targets_pipeline/demo_lrg/tiles/EUC_MER_CATALOG-PSF-NIR-Y_TILE101544257-2C6B30_20240203T043905.910116Z_00.00.fits'}}\n",
      "INFO:root:Downloaded: {'VIS': {'FLUX': '/media/home/team_workspaces/Euclid-Consortium/data/strong_lensing/external_targets_pipeline/demo_lrg/tiles/EUC_MER_BGSUB-MOSAIC-VIS_TILE101544257-6369BD_20240203T032415.932203Z_00.00.fits', 'MERRMS': '/media/home/team_workspaces/Euclid-Consortium/data/strong_lensing/external_targets_pipeline/demo_lrg/tiles/EUC_MER_MOSAIC-VIS-RMS_TILE101544257-FA3319_20240202T042737.068746Z_00.00.fits', 'MERPSF': '/media/home/team_workspaces/Euclid-Consortium/data/strong_lensing/external_targets_pipeline/demo_lrg/tiles/EUC_MER_CATALOG-PSF-VIS_TILE101544257-F0FB3B_20240203T045009.380663Z_00.00.fits'}, 'NIR_J': {'FLUX': '/media/home/team_workspaces/Euclid-Consortium/data/strong_lensing/external_targets_pipeline/demo_lrg/tiles/EUC_MER_BGSUB-MOSAIC-NIR-J_TILE101544257-64D98D_20240203T013210.615528Z_00.00.fits', 'MERPSF': '/media/home/team_workspaces/Euclid-Consortium/data/strong_lensing/external_targets_pipeline/demo_lrg/tiles/EUC_MER_CATALOG-PSF-NIR-J_TILE101544257-A1E2CB_20240203T043923.526334Z_00.00.fits', 'MERRMS': '/media/home/team_workspaces/Euclid-Consortium/data/strong_lensing/external_targets_pipeline/demo_lrg/tiles/EUC_MER_MOSAIC-NIR-J-RMS_TILE101544257-C4B01_20240202T044510.847585Z_00.00.fits'}, 'NIR_Y': {'FLUX': '/media/home/team_workspaces/Euclid-Consortium/data/strong_lensing/external_targets_pipeline/demo_lrg/tiles/EUC_MER_BGSUB-MOSAIC-NIR-Y_TILE101544257-C75E6B_20240203T013429.309466Z_00.00.fits', 'MERRMS': '/media/home/team_workspaces/Euclid-Consortium/data/strong_lensing/external_targets_pipeline/demo_lrg/tiles/EUC_MER_MOSAIC-NIR-Y-RMS_TILE101544257-D5A34D_20240202T044946.693411Z_00.00.fits', 'MERPSF': '/media/home/team_workspaces/Euclid-Consortium/data/strong_lensing/external_targets_pipeline/demo_lrg/tiles/EUC_MER_CATALOG-PSF-NIR-Y_TILE101544257-2C6B30_20240203T043905.910116Z_00.00.fits'}}\n"
     ]
    },
    {
     "name": "stdout",
     "output_type": "stream",
     "text": [
      "Done.\n"
     ]
    },
    {
     "name": "stderr",
     "output_type": "stream",
     "text": [
      "WARNING: VerifyWarning: Keyword name 'EXTNAME10' is greater than 8 characters or contains characters not allowed by the FITS standard; a HIERARCH card will be created. [astropy.io.fits.card]\n",
      "WARNING:astroquery:VerifyWarning: Keyword name 'EXTNAME10' is greater than 8 characters or contains characters not allowed by the FITS standard; a HIERARCH card will be created.\n",
      "WARNING: VerifyWarning: Keyword name 'EXTNAME11' is greater than 8 characters or contains characters not allowed by the FITS standard; a HIERARCH card will be created. [astropy.io.fits.card]\n",
      "WARNING:astroquery:VerifyWarning: Keyword name 'EXTNAME11' is greater than 8 characters or contains characters not allowed by the FITS standard; a HIERARCH card will be created.\n",
      "WARNING: VerifyWarning: Card is too long, comment will be truncated. [astropy.io.fits.card]\n",
      "WARNING:astroquery:VerifyWarning: Card is too long, comment will be truncated.\n"
     ]
    }
   ],
   "source": [
    "pipeline.make_cutouts(cfg, targets_with_tiles)"
   ]
  },
  {
   "cell_type": "code",
   "execution_count": null,
   "metadata": {},
   "outputs": [],
   "source": []
  }
 ],
 "metadata": {
  "kernelspec": {
   "display_name": "EUCLID-TOOLS",
   "language": "python",
   "name": "euclid-tools"
  },
  "language_info": {
   "codemirror_mode": {
    "name": "ipython",
    "version": 3
   },
   "file_extension": ".py",
   "mimetype": "text/x-python",
   "name": "python",
   "nbconvert_exporter": "python",
   "pygments_lexer": "ipython3",
   "version": "3.9.0"
  }
 },
 "nbformat": 4,
 "nbformat_minor": 4
}
