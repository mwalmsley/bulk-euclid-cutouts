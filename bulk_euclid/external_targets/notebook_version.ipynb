{
 "cells": [
  {
   "cell_type": "code",
   "execution_count": 1,
   "metadata": {},
   "outputs": [],
   "source": [
    "%load_ext autoreload\n",
    "%autoreload 2"
   ]
  },
  {
   "cell_type": "code",
   "execution_count": 2,
   "metadata": {},
   "outputs": [
    {
     "name": "stdout",
     "output_type": "stream",
     "text": [
      "Defaulting to user installation because normal site-packages is not writeable\n",
      "Requirement already satisfied: omegaconf in /home/mwalms01/.local/lib/python3.11/site-packages (2.3.0)\n",
      "Requirement already satisfied: antlr4-python3-runtime==4.9.* in /home/mwalms01/.local/lib/python3.11/site-packages (from omegaconf) (4.9.3)\n",
      "Requirement already satisfied: PyYAML>=5.1.0 in /opt/miniconda/lib/python3.11/site-packages (from omegaconf) (6.0.1)\n"
     ]
    }
   ],
   "source": [
    "# install a missing dependency\n",
    "!pip install omegaconf\n",
    "# restart notebook on first run\n"
   ]
  },
  {
   "cell_type": "code",
   "execution_count": 3,
   "metadata": {
    "tags": []
   },
   "outputs": [],
   "source": [
    "# hack the paths, no package install needed\n",
    "import sys\n",
    "import os\n",
    "repo_dir = '/media/user/repos/bulk-euclid-cutouts'\n",
    "os.path.isdir(repo_dir)\n",
    "sys.path.insert(0,repo_dir)"
   ]
  },
  {
   "cell_type": "code",
   "execution_count": 4,
   "metadata": {},
   "outputs": [
    {
     "name": "stderr",
     "output_type": "stream",
     "text": [
      "/tmp/ipykernel_20946/3545559080.py:8: DeprecationWarning: \n",
      "Pyarrow will become a required dependency of pandas in the next major release of pandas (pandas 3.0),\n",
      "(to allow more performant data types, such as the Arrow string type, and better interoperability with other libraries)\n",
      "but was not found to be installed on your system.\n",
      "If this would cause problems for you,\n",
      "please provide us feedback at https://github.com/pandas-dev/pandas/issues/54466\n",
      "        \n",
      "  import pandas as pd\n"
     ]
    }
   ],
   "source": [
    "import logging\n",
    "logging.basicConfig(level=logging.INFO)\n",
    "import os\n",
    "\n",
    "import numpy as np\n",
    "import matplotlib.pyplot as plt\n",
    "from omegaconf import OmegaConf\n",
    "import pandas as pd\n",
    "\n",
    "from bulk_euclid.utils import pipeline_utils\n",
    "from bulk_euclid.external_targets import pipeline"
   ]
  },
  {
   "cell_type": "markdown",
   "metadata": {},
   "source": [
    "### Authenticate"
   ]
  },
  {
   "cell_type": "code",
   "execution_count": 13,
   "metadata": {},
   "outputs": [
    {
     "name": "stderr",
     "output_type": "stream",
     "text": [
      "INFO:astroquery:Login to Euclid TAP server\n"
     ]
    },
    {
     "name": "stdout",
     "output_type": "stream",
     "text": [
      "INFO: Login to Euclid TAP server [astroquery.esa.euclid.core]\n"
     ]
    },
    {
     "name": "stdin",
     "output_type": "stream",
     "text": [
      "User:  mwalms01\n",
      "Password:  ········\n"
     ]
    },
    {
     "name": "stderr",
     "output_type": "stream",
     "text": [
      "INFO:astroquery:OK\n",
      "INFO:astroquery:Login to Euclid data service\n"
     ]
    },
    {
     "name": "stdout",
     "output_type": "stream",
     "text": [
      "INFO: OK [astroquery.utils.tap.core]\n",
      "INFO: Login to Euclid data service [astroquery.esa.euclid.core]\n"
     ]
    },
    {
     "name": "stderr",
     "output_type": "stream",
     "text": [
      "INFO:astroquery:OK\n",
      "INFO:astroquery:Login to Euclid cutout service\n"
     ]
    },
    {
     "name": "stdout",
     "output_type": "stream",
     "text": [
      "INFO: OK [astroquery.utils.tap.core]\n",
      "INFO: Login to Euclid cutout service [astroquery.esa.euclid.core]\n"
     ]
    },
    {
     "name": "stderr",
     "output_type": "stream",
     "text": [
      "INFO:astroquery:OK\n"
     ]
    },
    {
     "name": "stdout",
     "output_type": "stream",
     "text": [
      "INFO: OK [astroquery.utils.tap.core]\n"
     ]
    }
   ],
   "source": [
    "# type in your COSMOS credentials\n",
    "from astroquery.esa.euclid.core import Euclid\n",
    "Euclid.login()"
   ]
  },
  {
   "cell_type": "markdown",
   "metadata": {},
   "source": [
    "### Set Pipeline Options and Load External Targets"
   ]
  },
  {
   "cell_type": "code",
   "execution_count": 14,
   "metadata": {},
   "outputs": [],
   "source": [
    "# you can use this config and external target list for a minimal test on six targets within one tile...\n",
    "\n",
    "# cfg_dict = dict(\n",
    "#     # TODO change this path to wherever you want to save everything\n",
    "#     base_dir='/media/home/my_workspace/repos/bulk-euclid-cutouts/tests/test_external_targets/test_notebook_version',\n",
    "#     name='external_targets_debug',\n",
    "#     release_name='F-006', \n",
    "#     bands=['VIS', 'NIR_Y'],\n",
    "#     auxillary_products=['MERPSF','MERRMS','MERBKG'],\n",
    "    \n",
    "#     # these will be filled in automatically using on base_dir\n",
    "#     download_dir=None,\n",
    "#     tile_dir=None,\n",
    "#     cutout_dir=None,\n",
    "#     fits_dir=None,\n",
    "#     sanity_dir=None\n",
    "    \n",
    "# )\n",
    "# cfg = OmegaConf.create(cfg_dict)  # easy to access with cfg.base_dir, etc\n",
    "# pipeline.create_folders(cfg)  # fill in those missing paths\n",
    "\n",
    "# external_targets = pd.DataFrame([\n",
    "# {\n",
    "#   'id_str': 'a',\n",
    "#   'target_ra': 92.8371844681179,\n",
    "#   'target_dec': -47.8868920683699,\n",
    "#   'target_field_of_view': 20},\n",
    "#  {,\n",
    "#   'id_str': 'b',\n",
    "#   'target_ra': 92.836691187603,\n",
    "#   'target_dec': -48.1117628801209,\n",
    "#   'target_field_of_view': 20},\n",
    "#  {\n",
    "#   'id_str': 'd',\n",
    "#   'target_ra': 92.835560566775,\n",
    "#   'target_dec': -47.978437467137,\n",
    "#   'target_field_of_view': 20},\n",
    "#  {\n",
    "#   'id_str': 'e',\n",
    "#   'target_ra': 92.8351734327103,\n",
    "#   'target_dec': -48.1054532354171,\n",
    "#   'target_field_of_view': 20},\n",
    "#  {\n",
    "#   'id_str': 'f',\n",
    "#   'target_ra': 92.8343976295701,\n",
    "#   'target_dec': -47.9993017111107,\n",
    "#   'target_field_of_view': 20}\n",
    "# ])"
   ]
  },
  {
   "cell_type": "code",
   "execution_count": 15,
   "metadata": {
    "tags": []
   },
   "outputs": [
    {
     "name": "stderr",
     "output_type": "stream",
     "text": [
      "INFO:root:Saving to /media/home/team_workspaces/Euclid-Consortium/data/strong_lensing/external_targets_pipeline/latest\n"
     ]
    }
   ],
   "source": [
    "# or you can use this config to run for real\n",
    "\n",
    "cfg_dict = dict(\n",
    "    base_dir='/media/home/team_workspaces/Euclid-Consortium/data/strong_lensing/external_targets_pipeline',\n",
    "    name='latest',\n",
    "    release_name=None,  # allow tiles from any release\n",
    "    bands=['VIS', 'NIR_Y'],  \n",
    "    auxillary_products=['MERPSF','MERRMS','MERBKG'],\n",
    "    \n",
    "    # ignore these\n",
    "    download_dir=None,\n",
    "    tile_dir=None,\n",
    "    cutout_dir=None,\n",
    "    fits_dir=None,\n",
    "    sanity_dir=None\n",
    "    \n",
    ")\n",
    "cfg = OmegaConf.create(cfg_dict)  # easy to access with cfg.base_dir, etc\n",
    "pipeline.create_folders(cfg)  # fill in those missing paths\n",
    "\n",
    "# TODO use your own csv, it just needs the columns specified here\n",
    "external_targets = pd.read_csv('/media/home/my_workspace/combined_karina_strong_lens_classifications.csv', usecols=['id_str', 'target_ra', 'target_dec'])\n",
    "external_targets['target_field_of_view'] = 20  # arcseconds"
   ]
  },
  {
   "cell_type": "code",
   "execution_count": 16,
   "metadata": {
    "tags": []
   },
   "outputs": [
    {
     "data": {
      "text/plain": [
       "6541"
      ]
     },
     "execution_count": 16,
     "metadata": {},
     "output_type": "execute_result"
    }
   ],
   "source": [
    "len(external_targets)"
   ]
  },
  {
   "cell_type": "markdown",
   "metadata": {},
   "source": [
    "### For each target, find a tile that covers it"
   ]
  },
  {
   "cell_type": "code",
   "execution_count": 17,
   "metadata": {
    "tags": []
   },
   "outputs": [
    {
     "name": "stderr",
     "output_type": "stream",
     "text": [
      "INFO:astroquery:Query finished.\n",
      "INFO:root:Begin target/tile cross-match\n"
     ]
    },
    {
     "name": "stdout",
     "output_type": "stream",
     "text": [
      "INFO: Query finished. [astroquery.utils.tap.core]\n",
      "Found 2514  query results\n"
     ]
    },
    {
     "name": "stderr",
     "output_type": "stream",
     "text": [
      "INFO:root:Matched 6541 targets to 87 tiles\n",
      "INFO:root:Targets with tile matches: 6541\n"
     ]
    },
    {
     "data": {
      "text/html": [
       "<div>\n",
       "<style scoped>\n",
       "    .dataframe tbody tr th:only-of-type {\n",
       "        vertical-align: middle;\n",
       "    }\n",
       "\n",
       "    .dataframe tbody tr th {\n",
       "        vertical-align: top;\n",
       "    }\n",
       "\n",
       "    .dataframe thead th {\n",
       "        text-align: right;\n",
       "    }\n",
       "</style>\n",
       "<table border=\"1\" class=\"dataframe\">\n",
       "  <thead>\n",
       "    <tr style=\"text-align: right;\">\n",
       "      <th></th>\n",
       "      <th>id_str</th>\n",
       "      <th>target_ra</th>\n",
       "      <th>target_dec</th>\n",
       "      <th>target_field_of_view</th>\n",
       "      <th>tile_index</th>\n",
       "    </tr>\n",
       "  </thead>\n",
       "  <tbody>\n",
       "    <tr>\n",
       "      <th>0</th>\n",
       "      <td>EUC_0006_DESI-sel</td>\n",
       "      <td>149.829040</td>\n",
       "      <td>2.154270</td>\n",
       "      <td>20</td>\n",
       "      <td>101544256</td>\n",
       "    </tr>\n",
       "    <tr>\n",
       "      <th>1</th>\n",
       "      <td>EUC_0193_SDSS</td>\n",
       "      <td>150.013360</td>\n",
       "      <td>2.029592</td>\n",
       "      <td>20</td>\n",
       "      <td>101542817</td>\n",
       "    </tr>\n",
       "    <tr>\n",
       "      <th>2</th>\n",
       "      <td>EUC_0200_SDSS</td>\n",
       "      <td>150.250920</td>\n",
       "      <td>1.864015</td>\n",
       "      <td>20</td>\n",
       "      <td>101541378</td>\n",
       "    </tr>\n",
       "    <tr>\n",
       "      <th>3</th>\n",
       "      <td>EUC_0250_DESI-sel</td>\n",
       "      <td>149.945542</td>\n",
       "      <td>2.017199</td>\n",
       "      <td>20</td>\n",
       "      <td>101542817</td>\n",
       "    </tr>\n",
       "    <tr>\n",
       "      <th>4</th>\n",
       "      <td>EUC_0342_DESI-sel</td>\n",
       "      <td>150.438411</td>\n",
       "      <td>2.643070</td>\n",
       "      <td>20</td>\n",
       "      <td>101547137</td>\n",
       "    </tr>\n",
       "    <tr>\n",
       "      <th>...</th>\n",
       "      <td>...</td>\n",
       "      <td>...</td>\n",
       "      <td>...</td>\n",
       "      <td>...</td>\n",
       "      <td>...</td>\n",
       "    </tr>\n",
       "    <tr>\n",
       "      <th>6536</th>\n",
       "      <td>EUC_6111_DESI-sel</td>\n",
       "      <td>150.581806</td>\n",
       "      <td>2.656827</td>\n",
       "      <td>20</td>\n",
       "      <td>101547138</td>\n",
       "    </tr>\n",
       "    <tr>\n",
       "      <th>6537</th>\n",
       "      <td>EUC_6112_DESI-sel</td>\n",
       "      <td>150.582986</td>\n",
       "      <td>2.631492</td>\n",
       "      <td>20</td>\n",
       "      <td>101545699</td>\n",
       "    </tr>\n",
       "    <tr>\n",
       "      <th>6538</th>\n",
       "      <td>EUC_6119_DESI-sel</td>\n",
       "      <td>150.601048</td>\n",
       "      <td>2.664884</td>\n",
       "      <td>20</td>\n",
       "      <td>101547138</td>\n",
       "    </tr>\n",
       "    <tr>\n",
       "      <th>6539</th>\n",
       "      <td>EUC_6121_DESI-sel</td>\n",
       "      <td>150.607258</td>\n",
       "      <td>2.674481</td>\n",
       "      <td>20</td>\n",
       "      <td>101547138</td>\n",
       "    </tr>\n",
       "    <tr>\n",
       "      <th>6540</th>\n",
       "      <td>EUC_6716_DESI-sel</td>\n",
       "      <td>149.920988</td>\n",
       "      <td>2.903082</td>\n",
       "      <td>20</td>\n",
       "      <td>101548574</td>\n",
       "    </tr>\n",
       "  </tbody>\n",
       "</table>\n",
       "<p>6541 rows × 5 columns</p>\n",
       "</div>"
      ],
      "text/plain": [
       "                 id_str   target_ra  target_dec  target_field_of_view  \\\n",
       "0     EUC_0006_DESI-sel  149.829040    2.154270                    20   \n",
       "1         EUC_0193_SDSS  150.013360    2.029592                    20   \n",
       "2         EUC_0200_SDSS  150.250920    1.864015                    20   \n",
       "3     EUC_0250_DESI-sel  149.945542    2.017199                    20   \n",
       "4     EUC_0342_DESI-sel  150.438411    2.643070                    20   \n",
       "...                 ...         ...         ...                   ...   \n",
       "6536  EUC_6111_DESI-sel  150.581806    2.656827                    20   \n",
       "6537  EUC_6112_DESI-sel  150.582986    2.631492                    20   \n",
       "6538  EUC_6119_DESI-sel  150.601048    2.664884                    20   \n",
       "6539  EUC_6121_DESI-sel  150.607258    2.674481                    20   \n",
       "6540  EUC_6716_DESI-sel  149.920988    2.903082                    20   \n",
       "\n",
       "      tile_index  \n",
       "0      101544256  \n",
       "1      101542817  \n",
       "2      101541378  \n",
       "3      101542817  \n",
       "4      101547137  \n",
       "...          ...  \n",
       "6536   101547138  \n",
       "6537   101545699  \n",
       "6538   101547138  \n",
       "6539   101547138  \n",
       "6540   101548574  \n",
       "\n",
       "[6541 rows x 5 columns]"
      ]
     },
     "execution_count": 17,
     "metadata": {},
     "output_type": "execute_result"
    }
   ],
   "source": [
    "targets_with_tiles = pipeline.get_matching_tiles(cfg, external_targets)\n",
    "targets_with_tiles"
   ]
  },
  {
   "cell_type": "markdown",
   "metadata": {},
   "source": [
    "The speed of the pipeline depends on the number of tiles to download. It takes a few minutes per tile."
   ]
  },
  {
   "cell_type": "code",
   "execution_count": 18,
   "metadata": {
    "tags": []
   },
   "outputs": [
    {
     "data": {
      "text/plain": [
       "87"
      ]
     },
     "execution_count": 18,
     "metadata": {},
     "output_type": "execute_result"
    }
   ],
   "source": [
    "targets_with_tiles['tile_index'].nunique()"
   ]
  },
  {
   "cell_type": "markdown",
   "metadata": {},
   "source": [
    "### For every tile, download the flux and auxillary (PSF, RMS, BKG) data and make cutouts around each target in that tile"
   ]
  },
  {
   "cell_type": "code",
   "execution_count": null,
   "metadata": {
    "tags": []
   },
   "outputs": [
    {
     "name": "stderr",
     "output_type": "stream",
     "text": [
      "INFO:root:Tile 101544256, 0 of 87\n",
      "INFO:astroquery:Query finished.\n"
     ]
    },
    {
     "name": "stdout",
     "output_type": "stream",
     "text": [
      "INFO: Query finished. [astroquery.utils.tap.core]\n",
      "Found 2  query results\n",
      "Retrieving data.\n",
      "Data request: TAPCLIENT=ASTROQUERY&RELEASE=sedm&FILE_NAME=EUC_MER_BGSUB-MOSAIC-NIR-Y_TILE101544256-8DD33D_20240203T001101.427300Z_00.00.fits&RETRIEVAL_TYPE=FILE\n",
      "------>https\n",
      "host = easotf.esac.esa.int:443\n",
      "context = /sas-dd/data\n",
      "Content-type = application/x-www-form-urlencoded\n",
      "200 \n",
      "Reading...\n"
     ]
    },
    {
     "name": "stderr",
     "output_type": "stream",
     "text": [
      "INFO:root:EUC_MER_BGSUB-MOSAIC-NIR-Y_TILE101544256-8DD33D_20240203T001101.427300Z_00.00.fits saved at /media/home/team_workspaces/Euclid-Consortium/data/strong_lensing/external_targets_pipeline/latest/tiles/EUC_MER_BGSUB-MOSAIC-NIR-Y_TILE101544256-8DD33D_20240203T001101.427300Z_00.00.fits\n"
     ]
    },
    {
     "name": "stdout",
     "output_type": "stream",
     "text": [
      "Done.\n",
      "Retrieving data.\n",
      "Data request: TAPCLIENT=ASTROQUERY&RELEASE=sedm&FILE_NAME=EUC_MER_BGSUB-MOSAIC-VIS_TILE101544256-F5FCD6_20240203T024726.998416Z_00.00.fits&RETRIEVAL_TYPE=FILE\n",
      "------>https\n",
      "host = easotf.esac.esa.int:443\n",
      "context = /sas-dd/data\n",
      "Content-type = application/x-www-form-urlencoded\n",
      "200 \n",
      "Reading...\n"
     ]
    },
    {
     "name": "stderr",
     "output_type": "stream",
     "text": [
      "INFO:root:EUC_MER_BGSUB-MOSAIC-VIS_TILE101544256-F5FCD6_20240203T024726.998416Z_00.00.fits saved at /media/home/team_workspaces/Euclid-Consortium/data/strong_lensing/external_targets_pipeline/latest/tiles/EUC_MER_BGSUB-MOSAIC-VIS_TILE101544256-F5FCD6_20240203T024726.998416Z_00.00.fits\n"
     ]
    },
    {
     "name": "stdout",
     "output_type": "stream",
     "text": [
      "Done.\n",
      "Retrieving data.\n",
      "Data request: TAPCLIENT=ASTROQUERY&RELEASE=sedm&FILE_NAME=EUC_MER_CATALOG-PSF-NIR-Y_TILE101544256-3C998C_20240203T033644.054612Z_00.00.fits&RETRIEVAL_TYPE=FILE\n",
      "------>https\n",
      "host = easotf.esac.esa.int:443\n",
      "context = /sas-dd/data\n",
      "Content-type = application/x-www-form-urlencoded\n",
      "200 \n",
      "Reading...\n"
     ]
    },
    {
     "name": "stderr",
     "output_type": "stream",
     "text": [
      "INFO:root:EUC_MER_CATALOG-PSF-NIR-Y_TILE101544256-3C998C_20240203T033644.054612Z_00.00.fits saved at /media/home/team_workspaces/Euclid-Consortium/data/strong_lensing/external_targets_pipeline/latest/tiles/EUC_MER_CATALOG-PSF-NIR-Y_TILE101544256-3C998C_20240203T033644.054612Z_00.00.fits\n"
     ]
    },
    {
     "name": "stdout",
     "output_type": "stream",
     "text": [
      "Done.\n",
      "Retrieving data.\n",
      "Data request: TAPCLIENT=ASTROQUERY&RELEASE=sedm&FILE_NAME=EUC_MER_BGMOD-NIR-Y_TILE101544256-2FA78F_20240203T001101.427104Z_00.00.fits&RETRIEVAL_TYPE=FILE\n",
      "------>https\n",
      "host = easotf.esac.esa.int:443\n",
      "context = /sas-dd/data\n",
      "Content-type = application/x-www-form-urlencoded\n",
      "200 \n",
      "Reading...\n"
     ]
    },
    {
     "name": "stderr",
     "output_type": "stream",
     "text": [
      "INFO:root:EUC_MER_BGMOD-NIR-Y_TILE101544256-2FA78F_20240203T001101.427104Z_00.00.fits saved at /media/home/team_workspaces/Euclid-Consortium/data/strong_lensing/external_targets_pipeline/latest/tiles/EUC_MER_BGMOD-NIR-Y_TILE101544256-2FA78F_20240203T001101.427104Z_00.00.fits\n"
     ]
    },
    {
     "name": "stdout",
     "output_type": "stream",
     "text": [
      "Done.\n",
      "Retrieving data.\n",
      "Data request: TAPCLIENT=ASTROQUERY&RELEASE=sedm&FILE_NAME=EUC_MER_MOSAIC-NIR-Y-RMS_TILE101544256-7C198A_20240202T031607.226528Z_00.00.fits&RETRIEVAL_TYPE=FILE\n",
      "------>https\n",
      "host = easotf.esac.esa.int:443\n",
      "context = /sas-dd/data\n",
      "Content-type = application/x-www-form-urlencoded\n",
      "200 \n",
      "Reading...\n"
     ]
    },
    {
     "name": "stderr",
     "output_type": "stream",
     "text": [
      "INFO:root:EUC_MER_MOSAIC-NIR-Y-RMS_TILE101544256-7C198A_20240202T031607.226528Z_00.00.fits saved at /media/home/team_workspaces/Euclid-Consortium/data/strong_lensing/external_targets_pipeline/latest/tiles/EUC_MER_MOSAIC-NIR-Y-RMS_TILE101544256-7C198A_20240202T031607.226528Z_00.00.fits\n"
     ]
    },
    {
     "name": "stdout",
     "output_type": "stream",
     "text": [
      "Done.\n",
      "Retrieving data.\n",
      "Data request: TAPCLIENT=ASTROQUERY&RELEASE=sedm&FILE_NAME=EUC_MER_CATALOG-PSF-VIS_TILE101544256-44128D_20240203T034541.169658Z_00.00.fits&RETRIEVAL_TYPE=FILE\n",
      "------>https\n",
      "host = easotf.esac.esa.int:443\n",
      "context = /sas-dd/data\n",
      "Content-type = application/x-www-form-urlencoded\n",
      "200 \n",
      "Reading...\n"
     ]
    },
    {
     "name": "stderr",
     "output_type": "stream",
     "text": [
      "INFO:root:EUC_MER_CATALOG-PSF-VIS_TILE101544256-44128D_20240203T034541.169658Z_00.00.fits saved at /media/home/team_workspaces/Euclid-Consortium/data/strong_lensing/external_targets_pipeline/latest/tiles/EUC_MER_CATALOG-PSF-VIS_TILE101544256-44128D_20240203T034541.169658Z_00.00.fits\n"
     ]
    },
    {
     "name": "stdout",
     "output_type": "stream",
     "text": [
      "Done.\n",
      "Retrieving data.\n",
      "Data request: TAPCLIENT=ASTROQUERY&RELEASE=sedm&FILE_NAME=EUC_MER_MOSAIC-VIS-RMS_TILE101544256-6F448D_20240202T034527.816558Z_00.00.fits&RETRIEVAL_TYPE=FILE\n",
      "------>https\n",
      "host = easotf.esac.esa.int:443\n",
      "context = /sas-dd/data\n",
      "Content-type = application/x-www-form-urlencoded\n",
      "200 \n",
      "Reading...\n"
     ]
    },
    {
     "name": "stderr",
     "output_type": "stream",
     "text": [
      "INFO:root:EUC_MER_MOSAIC-VIS-RMS_TILE101544256-6F448D_20240202T034527.816558Z_00.00.fits saved at /media/home/team_workspaces/Euclid-Consortium/data/strong_lensing/external_targets_pipeline/latest/tiles/EUC_MER_MOSAIC-VIS-RMS_TILE101544256-6F448D_20240202T034527.816558Z_00.00.fits\n"
     ]
    },
    {
     "name": "stdout",
     "output_type": "stream",
     "text": [
      "Done.\n",
      "Retrieving data.\n",
      "Data request: TAPCLIENT=ASTROQUERY&RELEASE=sedm&FILE_NAME=EUC_MER_BGMOD-VIS_TILE101544256-E4BD79_20240203T024726.998229Z_00.00.fits&RETRIEVAL_TYPE=FILE\n",
      "------>https\n",
      "host = easotf.esac.esa.int:443\n",
      "context = /sas-dd/data\n",
      "Content-type = application/x-www-form-urlencoded\n",
      "200 \n",
      "Reading...\n"
     ]
    },
    {
     "name": "stderr",
     "output_type": "stream",
     "text": [
      "INFO:root:EUC_MER_BGMOD-VIS_TILE101544256-E4BD79_20240203T024726.998229Z_00.00.fits saved at /media/home/team_workspaces/Euclid-Consortium/data/strong_lensing/external_targets_pipeline/latest/tiles/EUC_MER_BGMOD-VIS_TILE101544256-E4BD79_20240203T024726.998229Z_00.00.fits\n",
      "INFO:root:Downloaded flux+auxillary tiles: {'NIR_Y': {'FLUX': '/media/home/team_workspaces/Euclid-Consortium/data/strong_lensing/external_targets_pipeline/latest/tiles/EUC_MER_BGSUB-MOSAIC-NIR-Y_TILE101544256-8DD33D_20240203T001101.427300Z_00.00.fits', 'MERPSF': '/media/home/team_workspaces/Euclid-Consortium/data/strong_lensing/external_targets_pipeline/latest/tiles/EUC_MER_CATALOG-PSF-NIR-Y_TILE101544256-3C998C_20240203T033644.054612Z_00.00.fits', 'MERBKG': '/media/home/team_workspaces/Euclid-Consortium/data/strong_lensing/external_targets_pipeline/latest/tiles/EUC_MER_BGMOD-NIR-Y_TILE101544256-2FA78F_20240203T001101.427104Z_00.00.fits', 'MERRMS': '/media/home/team_workspaces/Euclid-Consortium/data/strong_lensing/external_targets_pipeline/latest/tiles/EUC_MER_MOSAIC-NIR-Y-RMS_TILE101544256-7C198A_20240202T031607.226528Z_00.00.fits'}, 'VIS': {'FLUX': '/media/home/team_workspaces/Euclid-Consortium/data/strong_lensing/external_targets_pipeline/latest/tiles/EUC_MER_BGSUB-MOSAIC-VIS_TILE101544256-F5FCD6_20240203T024726.998416Z_00.00.fits', 'MERPSF': '/media/home/team_workspaces/Euclid-Consortium/data/strong_lensing/external_targets_pipeline/latest/tiles/EUC_MER_CATALOG-PSF-VIS_TILE101544256-44128D_20240203T034541.169658Z_00.00.fits', 'MERRMS': '/media/home/team_workspaces/Euclid-Consortium/data/strong_lensing/external_targets_pipeline/latest/tiles/EUC_MER_MOSAIC-VIS-RMS_TILE101544256-6F448D_20240202T034527.816558Z_00.00.fits', 'MERBKG': '/media/home/team_workspaces/Euclid-Consortium/data/strong_lensing/external_targets_pipeline/latest/tiles/EUC_MER_BGMOD-VIS_TILE101544256-E4BD79_20240203T024726.998229Z_00.00.fits'}}\n",
      "INFO:root:Downloaded: {'NIR_Y': {'FLUX': '/media/home/team_workspaces/Euclid-Consortium/data/strong_lensing/external_targets_pipeline/latest/tiles/EUC_MER_BGSUB-MOSAIC-NIR-Y_TILE101544256-8DD33D_20240203T001101.427300Z_00.00.fits', 'MERPSF': '/media/home/team_workspaces/Euclid-Consortium/data/strong_lensing/external_targets_pipeline/latest/tiles/EUC_MER_CATALOG-PSF-NIR-Y_TILE101544256-3C998C_20240203T033644.054612Z_00.00.fits', 'MERBKG': '/media/home/team_workspaces/Euclid-Consortium/data/strong_lensing/external_targets_pipeline/latest/tiles/EUC_MER_BGMOD-NIR-Y_TILE101544256-2FA78F_20240203T001101.427104Z_00.00.fits', 'MERRMS': '/media/home/team_workspaces/Euclid-Consortium/data/strong_lensing/external_targets_pipeline/latest/tiles/EUC_MER_MOSAIC-NIR-Y-RMS_TILE101544256-7C198A_20240202T031607.226528Z_00.00.fits'}, 'VIS': {'FLUX': '/media/home/team_workspaces/Euclid-Consortium/data/strong_lensing/external_targets_pipeline/latest/tiles/EUC_MER_BGSUB-MOSAIC-VIS_TILE101544256-F5FCD6_20240203T024726.998416Z_00.00.fits', 'MERPSF': '/media/home/team_workspaces/Euclid-Consortium/data/strong_lensing/external_targets_pipeline/latest/tiles/EUC_MER_CATALOG-PSF-VIS_TILE101544256-44128D_20240203T034541.169658Z_00.00.fits', 'MERRMS': '/media/home/team_workspaces/Euclid-Consortium/data/strong_lensing/external_targets_pipeline/latest/tiles/EUC_MER_MOSAIC-VIS-RMS_TILE101544256-6F448D_20240202T034527.816558Z_00.00.fits', 'MERBKG': '/media/home/team_workspaces/Euclid-Consortium/data/strong_lensing/external_targets_pipeline/latest/tiles/EUC_MER_BGMOD-VIS_TILE101544256-E4BD79_20240203T024726.998229Z_00.00.fits'}}\n"
     ]
    },
    {
     "name": "stdout",
     "output_type": "stream",
     "text": [
      "Done.\n"
     ]
    },
    {
     "name": "stderr",
     "output_type": "stream",
     "text": [
      "WARNING: VerifyWarning: Card is too long, comment will be truncated. [astropy.io.fits.card]\n",
      "WARNING:astroquery:VerifyWarning: Card is too long, comment will be truncated.\n",
      "INFO:root:Tile 101542817, 1 of 87\n",
      "INFO:astroquery:Query finished.\n"
     ]
    },
    {
     "name": "stdout",
     "output_type": "stream",
     "text": [
      "INFO: Query finished. [astroquery.utils.tap.core]\n",
      "Found 2  query results\n",
      "Retrieving data.\n",
      "Data request: TAPCLIENT=ASTROQUERY&RELEASE=sedm&FILE_NAME=EUC_MER_BGSUB-MOSAIC-NIR-Y_TILE101542817-35BCF7_20240202T210442.395814Z_00.00.fits&RETRIEVAL_TYPE=FILE\n",
      "------>https\n",
      "host = easotf.esac.esa.int:443\n",
      "context = /sas-dd/data\n",
      "Content-type = application/x-www-form-urlencoded\n",
      "200 \n",
      "Reading...\n"
     ]
    },
    {
     "name": "stderr",
     "output_type": "stream",
     "text": [
      "INFO:root:EUC_MER_BGSUB-MOSAIC-NIR-Y_TILE101542817-35BCF7_20240202T210442.395814Z_00.00.fits saved at /media/home/team_workspaces/Euclid-Consortium/data/strong_lensing/external_targets_pipeline/latest/tiles/EUC_MER_BGSUB-MOSAIC-NIR-Y_TILE101542817-35BCF7_20240202T210442.395814Z_00.00.fits\n"
     ]
    },
    {
     "name": "stdout",
     "output_type": "stream",
     "text": [
      "Done.\n",
      "Retrieving data.\n",
      "Data request: TAPCLIENT=ASTROQUERY&RELEASE=sedm&FILE_NAME=EUC_MER_BGSUB-MOSAIC-VIS_TILE101542817-770761_20240203T003605.150183Z_00.00.fits&RETRIEVAL_TYPE=FILE\n",
      "------>https\n",
      "host = easotf.esac.esa.int:443\n",
      "context = /sas-dd/data\n",
      "Content-type = application/x-www-form-urlencoded\n",
      "200 \n",
      "Reading...\n"
     ]
    },
    {
     "name": "stderr",
     "output_type": "stream",
     "text": [
      "INFO:root:EUC_MER_BGSUB-MOSAIC-VIS_TILE101542817-770761_20240203T003605.150183Z_00.00.fits saved at /media/home/team_workspaces/Euclid-Consortium/data/strong_lensing/external_targets_pipeline/latest/tiles/EUC_MER_BGSUB-MOSAIC-VIS_TILE101542817-770761_20240203T003605.150183Z_00.00.fits\n"
     ]
    },
    {
     "name": "stdout",
     "output_type": "stream",
     "text": [
      "Done.\n",
      "Retrieving data.\n",
      "Data request: TAPCLIENT=ASTROQUERY&RELEASE=sedm&FILE_NAME=EUC_MER_BGMOD-NIR-Y_TILE101542817-13863D_20240202T210442.395632Z_00.00.fits&RETRIEVAL_TYPE=FILE\n",
      "------>https\n",
      "host = easotf.esac.esa.int:443\n",
      "context = /sas-dd/data\n",
      "Content-type = application/x-www-form-urlencoded\n",
      "200 \n",
      "Reading...\n"
     ]
    },
    {
     "name": "stderr",
     "output_type": "stream",
     "text": [
      "INFO:root:EUC_MER_BGMOD-NIR-Y_TILE101542817-13863D_20240202T210442.395632Z_00.00.fits saved at /media/home/team_workspaces/Euclid-Consortium/data/strong_lensing/external_targets_pipeline/latest/tiles/EUC_MER_BGMOD-NIR-Y_TILE101542817-13863D_20240202T210442.395632Z_00.00.fits\n"
     ]
    },
    {
     "name": "stdout",
     "output_type": "stream",
     "text": [
      "Done.\n",
      "Retrieving data.\n",
      "Data request: TAPCLIENT=ASTROQUERY&RELEASE=sedm&FILE_NAME=EUC_MER_CATALOG-PSF-NIR-Y_TILE101542817-DEF69E_20240203T012438.115172Z_00.00.fits&RETRIEVAL_TYPE=FILE\n",
      "------>https\n",
      "host = easotf.esac.esa.int:443\n",
      "context = /sas-dd/data\n",
      "Content-type = application/x-www-form-urlencoded\n",
      "200 \n",
      "Reading...\n"
     ]
    },
    {
     "name": "stderr",
     "output_type": "stream",
     "text": [
      "INFO:root:EUC_MER_CATALOG-PSF-NIR-Y_TILE101542817-DEF69E_20240203T012438.115172Z_00.00.fits saved at /media/home/team_workspaces/Euclid-Consortium/data/strong_lensing/external_targets_pipeline/latest/tiles/EUC_MER_CATALOG-PSF-NIR-Y_TILE101542817-DEF69E_20240203T012438.115172Z_00.00.fits\n"
     ]
    },
    {
     "name": "stdout",
     "output_type": "stream",
     "text": [
      "Done.\n",
      "Retrieving data.\n",
      "Data request: TAPCLIENT=ASTROQUERY&RELEASE=sedm&FILE_NAME=EUC_MER_MOSAIC-NIR-Y-RMS_TILE101542817-C0DC0B_20240202T031918.874882Z_00.00.fits&RETRIEVAL_TYPE=FILE\n",
      "------>https\n",
      "host = easotf.esac.esa.int:443\n",
      "context = /sas-dd/data\n",
      "Content-type = application/x-www-form-urlencoded\n",
      "200 \n",
      "Reading...\n"
     ]
    },
    {
     "name": "stderr",
     "output_type": "stream",
     "text": [
      "INFO:root:EUC_MER_MOSAIC-NIR-Y-RMS_TILE101542817-C0DC0B_20240202T031918.874882Z_00.00.fits saved at /media/home/team_workspaces/Euclid-Consortium/data/strong_lensing/external_targets_pipeline/latest/tiles/EUC_MER_MOSAIC-NIR-Y-RMS_TILE101542817-C0DC0B_20240202T031918.874882Z_00.00.fits\n"
     ]
    },
    {
     "name": "stdout",
     "output_type": "stream",
     "text": [
      "Done.\n",
      "Retrieving data.\n",
      "Data request: TAPCLIENT=ASTROQUERY&RELEASE=sedm&FILE_NAME=EUC_MER_CATALOG-PSF-VIS_TILE101542817-B5C3E_20240203T013620.063725Z_00.00.fits&RETRIEVAL_TYPE=FILE\n",
      "------>https\n",
      "host = easotf.esac.esa.int:443\n",
      "context = /sas-dd/data\n",
      "Content-type = application/x-www-form-urlencoded\n",
      "200 \n",
      "Reading...\n"
     ]
    },
    {
     "name": "stderr",
     "output_type": "stream",
     "text": [
      "INFO:root:EUC_MER_CATALOG-PSF-VIS_TILE101542817-B5C3E_20240203T013620.063725Z_00.00.fits saved at /media/home/team_workspaces/Euclid-Consortium/data/strong_lensing/external_targets_pipeline/latest/tiles/EUC_MER_CATALOG-PSF-VIS_TILE101542817-B5C3E_20240203T013620.063725Z_00.00.fits\n"
     ]
    },
    {
     "name": "stdout",
     "output_type": "stream",
     "text": [
      "Done.\n",
      "Retrieving data.\n",
      "Data request: TAPCLIENT=ASTROQUERY&RELEASE=sedm&FILE_NAME=EUC_MER_BGMOD-VIS_TILE101542817-A2C96F_20240203T003605.149985Z_00.00.fits&RETRIEVAL_TYPE=FILE\n",
      "------>https\n",
      "host = easotf.esac.esa.int:443\n",
      "context = /sas-dd/data\n",
      "Content-type = application/x-www-form-urlencoded\n",
      "200 \n",
      "Reading...\n"
     ]
    },
    {
     "name": "stderr",
     "output_type": "stream",
     "text": [
      "INFO:root:EUC_MER_BGMOD-VIS_TILE101542817-A2C96F_20240203T003605.149985Z_00.00.fits saved at /media/home/team_workspaces/Euclid-Consortium/data/strong_lensing/external_targets_pipeline/latest/tiles/EUC_MER_BGMOD-VIS_TILE101542817-A2C96F_20240203T003605.149985Z_00.00.fits\n"
     ]
    },
    {
     "name": "stdout",
     "output_type": "stream",
     "text": [
      "Done.\n",
      "Retrieving data.\n",
      "Data request: TAPCLIENT=ASTROQUERY&RELEASE=sedm&FILE_NAME=EUC_MER_MOSAIC-VIS-RMS_TILE101542817-2CA7D5_20240202T034524.263370Z_00.00.fits&RETRIEVAL_TYPE=FILE\n",
      "------>https\n",
      "host = easotf.esac.esa.int:443\n",
      "context = /sas-dd/data\n",
      "Content-type = application/x-www-form-urlencoded\n",
      "200 \n",
      "Reading...\n"
     ]
    },
    {
     "name": "stderr",
     "output_type": "stream",
     "text": [
      "INFO:root:EUC_MER_MOSAIC-VIS-RMS_TILE101542817-2CA7D5_20240202T034524.263370Z_00.00.fits saved at /media/home/team_workspaces/Euclid-Consortium/data/strong_lensing/external_targets_pipeline/latest/tiles/EUC_MER_MOSAIC-VIS-RMS_TILE101542817-2CA7D5_20240202T034524.263370Z_00.00.fits\n",
      "INFO:root:Downloaded flux+auxillary tiles: {'NIR_Y': {'FLUX': '/media/home/team_workspaces/Euclid-Consortium/data/strong_lensing/external_targets_pipeline/latest/tiles/EUC_MER_BGSUB-MOSAIC-NIR-Y_TILE101542817-35BCF7_20240202T210442.395814Z_00.00.fits', 'MERBKG': '/media/home/team_workspaces/Euclid-Consortium/data/strong_lensing/external_targets_pipeline/latest/tiles/EUC_MER_BGMOD-NIR-Y_TILE101542817-13863D_20240202T210442.395632Z_00.00.fits', 'MERPSF': '/media/home/team_workspaces/Euclid-Consortium/data/strong_lensing/external_targets_pipeline/latest/tiles/EUC_MER_CATALOG-PSF-NIR-Y_TILE101542817-DEF69E_20240203T012438.115172Z_00.00.fits', 'MERRMS': '/media/home/team_workspaces/Euclid-Consortium/data/strong_lensing/external_targets_pipeline/latest/tiles/EUC_MER_MOSAIC-NIR-Y-RMS_TILE101542817-C0DC0B_20240202T031918.874882Z_00.00.fits'}, 'VIS': {'FLUX': '/media/home/team_workspaces/Euclid-Consortium/data/strong_lensing/external_targets_pipeline/latest/tiles/EUC_MER_BGSUB-MOSAIC-VIS_TILE101542817-770761_20240203T003605.150183Z_00.00.fits', 'MERPSF': '/media/home/team_workspaces/Euclid-Consortium/data/strong_lensing/external_targets_pipeline/latest/tiles/EUC_MER_CATALOG-PSF-VIS_TILE101542817-B5C3E_20240203T013620.063725Z_00.00.fits', 'MERBKG': '/media/home/team_workspaces/Euclid-Consortium/data/strong_lensing/external_targets_pipeline/latest/tiles/EUC_MER_BGMOD-VIS_TILE101542817-A2C96F_20240203T003605.149985Z_00.00.fits', 'MERRMS': '/media/home/team_workspaces/Euclid-Consortium/data/strong_lensing/external_targets_pipeline/latest/tiles/EUC_MER_MOSAIC-VIS-RMS_TILE101542817-2CA7D5_20240202T034524.263370Z_00.00.fits'}}\n",
      "INFO:root:Downloaded: {'NIR_Y': {'FLUX': '/media/home/team_workspaces/Euclid-Consortium/data/strong_lensing/external_targets_pipeline/latest/tiles/EUC_MER_BGSUB-MOSAIC-NIR-Y_TILE101542817-35BCF7_20240202T210442.395814Z_00.00.fits', 'MERBKG': '/media/home/team_workspaces/Euclid-Consortium/data/strong_lensing/external_targets_pipeline/latest/tiles/EUC_MER_BGMOD-NIR-Y_TILE101542817-13863D_20240202T210442.395632Z_00.00.fits', 'MERPSF': '/media/home/team_workspaces/Euclid-Consortium/data/strong_lensing/external_targets_pipeline/latest/tiles/EUC_MER_CATALOG-PSF-NIR-Y_TILE101542817-DEF69E_20240203T012438.115172Z_00.00.fits', 'MERRMS': '/media/home/team_workspaces/Euclid-Consortium/data/strong_lensing/external_targets_pipeline/latest/tiles/EUC_MER_MOSAIC-NIR-Y-RMS_TILE101542817-C0DC0B_20240202T031918.874882Z_00.00.fits'}, 'VIS': {'FLUX': '/media/home/team_workspaces/Euclid-Consortium/data/strong_lensing/external_targets_pipeline/latest/tiles/EUC_MER_BGSUB-MOSAIC-VIS_TILE101542817-770761_20240203T003605.150183Z_00.00.fits', 'MERPSF': '/media/home/team_workspaces/Euclid-Consortium/data/strong_lensing/external_targets_pipeline/latest/tiles/EUC_MER_CATALOG-PSF-VIS_TILE101542817-B5C3E_20240203T013620.063725Z_00.00.fits', 'MERBKG': '/media/home/team_workspaces/Euclid-Consortium/data/strong_lensing/external_targets_pipeline/latest/tiles/EUC_MER_BGMOD-VIS_TILE101542817-A2C96F_20240203T003605.149985Z_00.00.fits', 'MERRMS': '/media/home/team_workspaces/Euclid-Consortium/data/strong_lensing/external_targets_pipeline/latest/tiles/EUC_MER_MOSAIC-VIS-RMS_TILE101542817-2CA7D5_20240202T034524.263370Z_00.00.fits'}}\n"
     ]
    },
    {
     "name": "stdout",
     "output_type": "stream",
     "text": [
      "Done.\n"
     ]
    },
    {
     "name": "stderr",
     "output_type": "stream",
     "text": [
      "WARNING: VerifyWarning: Card is too long, comment will be truncated. [astropy.io.fits.card]\n",
      "WARNING:astroquery:VerifyWarning: Card is too long, comment will be truncated.\n",
      "INFO:root:Tile 101541378, 2 of 87\n",
      "INFO:astroquery:Query finished.\n"
     ]
    },
    {
     "name": "stdout",
     "output_type": "stream",
     "text": [
      "INFO: Query finished. [astroquery.utils.tap.core]\n",
      "Found 2  query results\n",
      "Retrieving data.\n",
      "Data request: TAPCLIENT=ASTROQUERY&RELEASE=sedm&FILE_NAME=EUC_MER_BGSUB-MOSAIC-VIS_TILE101541378-737592_20240201T222127.194874Z_00.00.fits&RETRIEVAL_TYPE=FILE\n",
      "------>https\n",
      "host = easotf.esac.esa.int:443\n",
      "context = /sas-dd/data\n",
      "Content-type = application/x-www-form-urlencoded\n",
      "200 \n",
      "Reading...\n"
     ]
    },
    {
     "name": "stderr",
     "output_type": "stream",
     "text": [
      "INFO:root:EUC_MER_BGSUB-MOSAIC-VIS_TILE101541378-737592_20240201T222127.194874Z_00.00.fits saved at /media/home/team_workspaces/Euclid-Consortium/data/strong_lensing/external_targets_pipeline/latest/tiles/EUC_MER_BGSUB-MOSAIC-VIS_TILE101541378-737592_20240201T222127.194874Z_00.00.fits\n"
     ]
    },
    {
     "name": "stdout",
     "output_type": "stream",
     "text": [
      "Done.\n",
      "Retrieving data.\n",
      "Data request: TAPCLIENT=ASTROQUERY&RELEASE=sedm&FILE_NAME=EUC_MER_BGSUB-MOSAIC-NIR-Y_TILE101541378-143B40_20240201T213700.381755Z_00.00.fits&RETRIEVAL_TYPE=FILE\n",
      "------>https\n",
      "host = easotf.esac.esa.int:443\n",
      "context = /sas-dd/data\n",
      "Content-type = application/x-www-form-urlencoded\n",
      "200 \n",
      "Reading...\n"
     ]
    },
    {
     "name": "stderr",
     "output_type": "stream",
     "text": [
      "INFO:root:EUC_MER_BGSUB-MOSAIC-NIR-Y_TILE101541378-143B40_20240201T213700.381755Z_00.00.fits saved at /media/home/team_workspaces/Euclid-Consortium/data/strong_lensing/external_targets_pipeline/latest/tiles/EUC_MER_BGSUB-MOSAIC-NIR-Y_TILE101541378-143B40_20240201T213700.381755Z_00.00.fits\n"
     ]
    },
    {
     "name": "stdout",
     "output_type": "stream",
     "text": [
      "Done.\n",
      "Retrieving data.\n",
      "Data request: TAPCLIENT=ASTROQUERY&RELEASE=sedm&FILE_NAME=EUC_MER_BGMOD-VIS_TILE101541378-4648A5_20240201T222127.194690Z_00.00.fits&RETRIEVAL_TYPE=FILE\n",
      "------>https\n",
      "host = easotf.esac.esa.int:443\n",
      "context = /sas-dd/data\n",
      "Content-type = application/x-www-form-urlencoded\n",
      "200 \n",
      "Reading...\n"
     ]
    },
    {
     "name": "stderr",
     "output_type": "stream",
     "text": [
      "INFO:root:EUC_MER_BGMOD-VIS_TILE101541378-4648A5_20240201T222127.194690Z_00.00.fits saved at /media/home/team_workspaces/Euclid-Consortium/data/strong_lensing/external_targets_pipeline/latest/tiles/EUC_MER_BGMOD-VIS_TILE101541378-4648A5_20240201T222127.194690Z_00.00.fits\n"
     ]
    },
    {
     "name": "stdout",
     "output_type": "stream",
     "text": [
      "Done.\n",
      "Retrieving data.\n",
      "Data request: TAPCLIENT=ASTROQUERY&RELEASE=sedm&FILE_NAME=EUC_MER_MOSAIC-VIS-RMS_TILE101541378-65ED95_20240201T212225.072536Z_00.00.fits&RETRIEVAL_TYPE=FILE\n",
      "------>https\n",
      "host = easotf.esac.esa.int:443\n",
      "context = /sas-dd/data\n",
      "Content-type = application/x-www-form-urlencoded\n",
      "200 \n",
      "Reading...\n"
     ]
    },
    {
     "name": "stderr",
     "output_type": "stream",
     "text": [
      "INFO:root:EUC_MER_MOSAIC-VIS-RMS_TILE101541378-65ED95_20240201T212225.072536Z_00.00.fits saved at /media/home/team_workspaces/Euclid-Consortium/data/strong_lensing/external_targets_pipeline/latest/tiles/EUC_MER_MOSAIC-VIS-RMS_TILE101541378-65ED95_20240201T212225.072536Z_00.00.fits\n"
     ]
    },
    {
     "name": "stdout",
     "output_type": "stream",
     "text": [
      "Done.\n",
      "Retrieving data.\n",
      "Data request: TAPCLIENT=ASTROQUERY&RELEASE=sedm&FILE_NAME=EUC_MER_CATALOG-PSF-VIS_TILE101541378-F7549B_20240201T223446.135532Z_00.00.fits&RETRIEVAL_TYPE=FILE\n",
      "------>https\n",
      "host = easotf.esac.esa.int:443\n",
      "context = /sas-dd/data\n",
      "Content-type = application/x-www-form-urlencoded\n",
      "200 \n",
      "Reading...\n"
     ]
    },
    {
     "name": "stderr",
     "output_type": "stream",
     "text": [
      "INFO:root:EUC_MER_CATALOG-PSF-VIS_TILE101541378-F7549B_20240201T223446.135532Z_00.00.fits saved at /media/home/team_workspaces/Euclid-Consortium/data/strong_lensing/external_targets_pipeline/latest/tiles/EUC_MER_CATALOG-PSF-VIS_TILE101541378-F7549B_20240201T223446.135532Z_00.00.fits\n"
     ]
    },
    {
     "name": "stdout",
     "output_type": "stream",
     "text": [
      "Done.\n",
      "Retrieving data.\n",
      "Data request: TAPCLIENT=ASTROQUERY&RELEASE=sedm&FILE_NAME=EUC_MER_CATALOG-PSF-NIR-Y_TILE101541378-EB7826_20240201T223205.175217Z_00.00.fits&RETRIEVAL_TYPE=FILE\n",
      "------>https\n",
      "host = easotf.esac.esa.int:443\n",
      "context = /sas-dd/data\n",
      "Content-type = application/x-www-form-urlencoded\n",
      "200 \n",
      "Reading...\n"
     ]
    },
    {
     "name": "stderr",
     "output_type": "stream",
     "text": [
      "INFO:root:EUC_MER_CATALOG-PSF-NIR-Y_TILE101541378-EB7826_20240201T223205.175217Z_00.00.fits saved at /media/home/team_workspaces/Euclid-Consortium/data/strong_lensing/external_targets_pipeline/latest/tiles/EUC_MER_CATALOG-PSF-NIR-Y_TILE101541378-EB7826_20240201T223205.175217Z_00.00.fits\n"
     ]
    },
    {
     "name": "stdout",
     "output_type": "stream",
     "text": [
      "Done.\n",
      "Retrieving data.\n",
      "Data request: TAPCLIENT=ASTROQUERY&RELEASE=sedm&FILE_NAME=EUC_MER_BGMOD-NIR-Y_TILE101541378-BDCEDE_20240201T213700.381562Z_00.00.fits&RETRIEVAL_TYPE=FILE\n",
      "------>https\n",
      "host = easotf.esac.esa.int:443\n",
      "context = /sas-dd/data\n",
      "Content-type = application/x-www-form-urlencoded\n",
      "200 \n",
      "Reading...\n"
     ]
    },
    {
     "name": "stderr",
     "output_type": "stream",
     "text": [
      "INFO:root:EUC_MER_BGMOD-NIR-Y_TILE101541378-BDCEDE_20240201T213700.381562Z_00.00.fits saved at /media/home/team_workspaces/Euclid-Consortium/data/strong_lensing/external_targets_pipeline/latest/tiles/EUC_MER_BGMOD-NIR-Y_TILE101541378-BDCEDE_20240201T213700.381562Z_00.00.fits\n"
     ]
    },
    {
     "name": "stdout",
     "output_type": "stream",
     "text": [
      "Done.\n",
      "Retrieving data.\n",
      "Data request: TAPCLIENT=ASTROQUERY&RELEASE=sedm&FILE_NAME=EUC_MER_MOSAIC-NIR-Y-RMS_TILE101541378-85C56A_20240201T211736.192485Z_00.00.fits&RETRIEVAL_TYPE=FILE\n",
      "------>https\n",
      "host = easotf.esac.esa.int:443\n",
      "context = /sas-dd/data\n",
      "Content-type = application/x-www-form-urlencoded\n",
      "200 \n",
      "Reading...\n"
     ]
    },
    {
     "name": "stderr",
     "output_type": "stream",
     "text": [
      "INFO:root:EUC_MER_MOSAIC-NIR-Y-RMS_TILE101541378-85C56A_20240201T211736.192485Z_00.00.fits saved at /media/home/team_workspaces/Euclid-Consortium/data/strong_lensing/external_targets_pipeline/latest/tiles/EUC_MER_MOSAIC-NIR-Y-RMS_TILE101541378-85C56A_20240201T211736.192485Z_00.00.fits\n",
      "INFO:root:Downloaded flux+auxillary tiles: {'VIS': {'FLUX': '/media/home/team_workspaces/Euclid-Consortium/data/strong_lensing/external_targets_pipeline/latest/tiles/EUC_MER_BGSUB-MOSAIC-VIS_TILE101541378-737592_20240201T222127.194874Z_00.00.fits', 'MERBKG': '/media/home/team_workspaces/Euclid-Consortium/data/strong_lensing/external_targets_pipeline/latest/tiles/EUC_MER_BGMOD-VIS_TILE101541378-4648A5_20240201T222127.194690Z_00.00.fits', 'MERRMS': '/media/home/team_workspaces/Euclid-Consortium/data/strong_lensing/external_targets_pipeline/latest/tiles/EUC_MER_MOSAIC-VIS-RMS_TILE101541378-65ED95_20240201T212225.072536Z_00.00.fits', 'MERPSF': '/media/home/team_workspaces/Euclid-Consortium/data/strong_lensing/external_targets_pipeline/latest/tiles/EUC_MER_CATALOG-PSF-VIS_TILE101541378-F7549B_20240201T223446.135532Z_00.00.fits'}, 'NIR_Y': {'FLUX': '/media/home/team_workspaces/Euclid-Consortium/data/strong_lensing/external_targets_pipeline/latest/tiles/EUC_MER_BGSUB-MOSAIC-NIR-Y_TILE101541378-143B40_20240201T213700.381755Z_00.00.fits', 'MERPSF': '/media/home/team_workspaces/Euclid-Consortium/data/strong_lensing/external_targets_pipeline/latest/tiles/EUC_MER_CATALOG-PSF-NIR-Y_TILE101541378-EB7826_20240201T223205.175217Z_00.00.fits', 'MERBKG': '/media/home/team_workspaces/Euclid-Consortium/data/strong_lensing/external_targets_pipeline/latest/tiles/EUC_MER_BGMOD-NIR-Y_TILE101541378-BDCEDE_20240201T213700.381562Z_00.00.fits', 'MERRMS': '/media/home/team_workspaces/Euclid-Consortium/data/strong_lensing/external_targets_pipeline/latest/tiles/EUC_MER_MOSAIC-NIR-Y-RMS_TILE101541378-85C56A_20240201T211736.192485Z_00.00.fits'}}\n",
      "INFO:root:Downloaded: {'VIS': {'FLUX': '/media/home/team_workspaces/Euclid-Consortium/data/strong_lensing/external_targets_pipeline/latest/tiles/EUC_MER_BGSUB-MOSAIC-VIS_TILE101541378-737592_20240201T222127.194874Z_00.00.fits', 'MERBKG': '/media/home/team_workspaces/Euclid-Consortium/data/strong_lensing/external_targets_pipeline/latest/tiles/EUC_MER_BGMOD-VIS_TILE101541378-4648A5_20240201T222127.194690Z_00.00.fits', 'MERRMS': '/media/home/team_workspaces/Euclid-Consortium/data/strong_lensing/external_targets_pipeline/latest/tiles/EUC_MER_MOSAIC-VIS-RMS_TILE101541378-65ED95_20240201T212225.072536Z_00.00.fits', 'MERPSF': '/media/home/team_workspaces/Euclid-Consortium/data/strong_lensing/external_targets_pipeline/latest/tiles/EUC_MER_CATALOG-PSF-VIS_TILE101541378-F7549B_20240201T223446.135532Z_00.00.fits'}, 'NIR_Y': {'FLUX': '/media/home/team_workspaces/Euclid-Consortium/data/strong_lensing/external_targets_pipeline/latest/tiles/EUC_MER_BGSUB-MOSAIC-NIR-Y_TILE101541378-143B40_20240201T213700.381755Z_00.00.fits', 'MERPSF': '/media/home/team_workspaces/Euclid-Consortium/data/strong_lensing/external_targets_pipeline/latest/tiles/EUC_MER_CATALOG-PSF-NIR-Y_TILE101541378-EB7826_20240201T223205.175217Z_00.00.fits', 'MERBKG': '/media/home/team_workspaces/Euclid-Consortium/data/strong_lensing/external_targets_pipeline/latest/tiles/EUC_MER_BGMOD-NIR-Y_TILE101541378-BDCEDE_20240201T213700.381562Z_00.00.fits', 'MERRMS': '/media/home/team_workspaces/Euclid-Consortium/data/strong_lensing/external_targets_pipeline/latest/tiles/EUC_MER_MOSAIC-NIR-Y-RMS_TILE101541378-85C56A_20240201T211736.192485Z_00.00.fits'}}\n"
     ]
    },
    {
     "name": "stdout",
     "output_type": "stream",
     "text": [
      "Done.\n"
     ]
    },
    {
     "name": "stderr",
     "output_type": "stream",
     "text": [
      "WARNING: VerifyWarning: Card is too long, comment will be truncated. [astropy.io.fits.card]\n",
      "WARNING:astroquery:VerifyWarning: Card is too long, comment will be truncated.\n",
      "INFO:root:Tile 101547137, 3 of 87\n",
      "INFO:astroquery:Query finished.\n"
     ]
    },
    {
     "name": "stdout",
     "output_type": "stream",
     "text": [
      "INFO: Query finished. [astroquery.utils.tap.core]\n",
      "Found 2  query results\n",
      "Retrieving data.\n",
      "Data request: TAPCLIENT=ASTROQUERY&RELEASE=sedm&FILE_NAME=EUC_MER_BGSUB-MOSAIC-NIR-Y_TILE101547137-A85F8_20240202T085516.801732Z_00.00.fits&RETRIEVAL_TYPE=FILE\n",
      "------>https\n",
      "host = easotf.esac.esa.int:443\n",
      "context = /sas-dd/data\n",
      "Content-type = application/x-www-form-urlencoded\n",
      "200 \n",
      "Reading...\n"
     ]
    },
    {
     "name": "stderr",
     "output_type": "stream",
     "text": [
      "INFO:root:EUC_MER_BGSUB-MOSAIC-NIR-Y_TILE101547137-A85F8_20240202T085516.801732Z_00.00.fits saved at /media/home/team_workspaces/Euclid-Consortium/data/strong_lensing/external_targets_pipeline/latest/tiles/EUC_MER_BGSUB-MOSAIC-NIR-Y_TILE101547137-A85F8_20240202T085516.801732Z_00.00.fits\n"
     ]
    },
    {
     "name": "stdout",
     "output_type": "stream",
     "text": [
      "Done.\n",
      "Retrieving data.\n",
      "Data request: TAPCLIENT=ASTROQUERY&RELEASE=sedm&FILE_NAME=EUC_MER_BGSUB-MOSAIC-VIS_TILE101547137-1B6334_20240202T122759.575056Z_00.00.fits&RETRIEVAL_TYPE=FILE\n",
      "------>https\n",
      "host = easotf.esac.esa.int:443\n",
      "context = /sas-dd/data\n",
      "Content-type = application/x-www-form-urlencoded\n",
      "200 \n",
      "Reading...\n"
     ]
    },
    {
     "name": "stderr",
     "output_type": "stream",
     "text": [
      "INFO:root:EUC_MER_BGSUB-MOSAIC-VIS_TILE101547137-1B6334_20240202T122759.575056Z_00.00.fits saved at /media/home/team_workspaces/Euclid-Consortium/data/strong_lensing/external_targets_pipeline/latest/tiles/EUC_MER_BGSUB-MOSAIC-VIS_TILE101547137-1B6334_20240202T122759.575056Z_00.00.fits\n"
     ]
    },
    {
     "name": "stdout",
     "output_type": "stream",
     "text": [
      "Done.\n",
      "Retrieving data.\n",
      "Data request: TAPCLIENT=ASTROQUERY&RELEASE=sedm&FILE_NAME=EUC_MER_BGMOD-NIR-Y_TILE101547137-E5FE88_20240202T085516.801539Z_00.00.fits&RETRIEVAL_TYPE=FILE\n",
      "------>https\n",
      "host = easotf.esac.esa.int:443\n",
      "context = /sas-dd/data\n",
      "Content-type = application/x-www-form-urlencoded\n",
      "200 \n",
      "Reading...\n"
     ]
    },
    {
     "name": "stderr",
     "output_type": "stream",
     "text": [
      "INFO:root:EUC_MER_BGMOD-NIR-Y_TILE101547137-E5FE88_20240202T085516.801539Z_00.00.fits saved at /media/home/team_workspaces/Euclid-Consortium/data/strong_lensing/external_targets_pipeline/latest/tiles/EUC_MER_BGMOD-NIR-Y_TILE101547137-E5FE88_20240202T085516.801539Z_00.00.fits\n"
     ]
    },
    {
     "name": "stdout",
     "output_type": "stream",
     "text": [
      "Done.\n",
      "Retrieving data.\n",
      "Data request: TAPCLIENT=ASTROQUERY&RELEASE=sedm&FILE_NAME=EUC_MER_CATALOG-PSF-NIR-Y_TILE101547137-C85368_20240202T132426.399887Z_00.00.fits&RETRIEVAL_TYPE=FILE\n",
      "------>https\n",
      "host = easotf.esac.esa.int:443\n",
      "context = /sas-dd/data\n",
      "Content-type = application/x-www-form-urlencoded\n",
      "200 \n",
      "Reading...\n"
     ]
    },
    {
     "name": "stderr",
     "output_type": "stream",
     "text": [
      "INFO:root:EUC_MER_CATALOG-PSF-NIR-Y_TILE101547137-C85368_20240202T132426.399887Z_00.00.fits saved at /media/home/team_workspaces/Euclid-Consortium/data/strong_lensing/external_targets_pipeline/latest/tiles/EUC_MER_CATALOG-PSF-NIR-Y_TILE101547137-C85368_20240202T132426.399887Z_00.00.fits\n"
     ]
    },
    {
     "name": "stdout",
     "output_type": "stream",
     "text": [
      "Done.\n",
      "Retrieving data.\n",
      "Data request: TAPCLIENT=ASTROQUERY&RELEASE=sedm&FILE_NAME=EUC_MER_MOSAIC-NIR-Y-RMS_TILE101547137-888B8B_20240202T040809.531263Z_00.00.fits&RETRIEVAL_TYPE=FILE\n",
      "------>https\n",
      "host = easotf.esac.esa.int:443\n",
      "context = /sas-dd/data\n",
      "Content-type = application/x-www-form-urlencoded\n",
      "200 \n",
      "Reading...\n"
     ]
    },
    {
     "name": "stderr",
     "output_type": "stream",
     "text": [
      "INFO:root:EUC_MER_MOSAIC-NIR-Y-RMS_TILE101547137-888B8B_20240202T040809.531263Z_00.00.fits saved at /media/home/team_workspaces/Euclid-Consortium/data/strong_lensing/external_targets_pipeline/latest/tiles/EUC_MER_MOSAIC-NIR-Y-RMS_TILE101547137-888B8B_20240202T040809.531263Z_00.00.fits\n"
     ]
    },
    {
     "name": "stdout",
     "output_type": "stream",
     "text": [
      "Done.\n",
      "Retrieving data.\n",
      "Data request: TAPCLIENT=ASTROQUERY&RELEASE=sedm&FILE_NAME=EUC_MER_BGMOD-VIS_TILE101547137-E5BA44_20240202T122759.574870Z_00.00.fits&RETRIEVAL_TYPE=FILE\n",
      "------>https\n",
      "host = easotf.esac.esa.int:443\n",
      "context = /sas-dd/data\n",
      "Content-type = application/x-www-form-urlencoded\n"
     ]
    }
   ],
   "source": [
    "pipeline.make_cutouts(cfg, targets_with_tiles)"
   ]
  },
  {
   "cell_type": "code",
   "execution_count": null,
   "metadata": {},
   "outputs": [],
   "source": []
  }
 ],
 "metadata": {
  "kernelspec": {
   "display_name": "EUCLID-TOOLS",
   "language": "python",
   "name": "euclid-tools"
  },
  "language_info": {
   "codemirror_mode": {
    "name": "ipython",
    "version": 3
   },
   "file_extension": ".py",
   "mimetype": "text/x-python",
   "name": "python",
   "nbconvert_exporter": "python",
   "pygments_lexer": "ipython3",
   "version": "3.9.0"
  }
 },
 "nbformat": 4,
 "nbformat_minor": 4
}
