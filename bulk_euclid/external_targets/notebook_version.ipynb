{
 "cells": [
  {
   "cell_type": "code",
   "execution_count": 1,
   "metadata": {},
   "outputs": [],
   "source": [
    "%load_ext autoreload\n",
    "%autoreload 2"
   ]
  },
  {
   "cell_type": "code",
   "execution_count": 2,
   "metadata": {},
   "outputs": [
    {
     "name": "stdout",
     "output_type": "stream",
     "text": [
      "Defaulting to user installation because normal site-packages is not writeable\n",
      "Requirement already satisfied: omegaconf in /home/mwalms01/.local/lib/python3.11/site-packages (2.3.0)\n",
      "Requirement already satisfied: antlr4-python3-runtime==4.9.* in /home/mwalms01/.local/lib/python3.11/site-packages (from omegaconf) (4.9.3)\n",
      "Requirement already satisfied: PyYAML>=5.1.0 in /opt/miniconda/lib/python3.11/site-packages (from omegaconf) (6.0.1)\n"
     ]
    }
   ],
   "source": [
    "# install a missing dependency\n",
    "!pip install omegaconf\n",
    "# restart notebook on first run\n"
   ]
  },
  {
   "cell_type": "code",
   "execution_count": 3,
   "metadata": {
    "tags": []
   },
   "outputs": [],
   "source": [
    "# hack the paths, no package install needed\n",
    "import sys\n",
    "import os\n",
    "repo_dir = '/media/user/repos/bulk-euclid-cutouts'\n",
    "os.path.isdir(repo_dir)\n",
    "sys.path.insert(0,repo_dir)"
   ]
  },
  {
   "cell_type": "code",
   "execution_count": 4,
   "metadata": {},
   "outputs": [
    {
     "name": "stderr",
     "output_type": "stream",
     "text": [
      "/tmp/ipykernel_20946/3545559080.py:8: DeprecationWarning: \n",
      "Pyarrow will become a required dependency of pandas in the next major release of pandas (pandas 3.0),\n",
      "(to allow more performant data types, such as the Arrow string type, and better interoperability with other libraries)\n",
      "but was not found to be installed on your system.\n",
      "If this would cause problems for you,\n",
      "please provide us feedback at https://github.com/pandas-dev/pandas/issues/54466\n",
      "        \n",
      "  import pandas as pd\n"
     ]
    }
   ],
   "source": [
    "import logging\n",
    "logging.basicConfig(level=logging.INFO)\n",
    "import os\n",
    "\n",
    "import numpy as np\n",
    "import matplotlib.pyplot as plt\n",
    "from omegaconf import OmegaConf\n",
    "import pandas as pd\n",
    "\n",
    "from bulk_euclid.utils import pipeline_utils\n",
    "from bulk_euclid.external_targets import pipeline"
   ]
  },
  {
   "cell_type": "markdown",
   "metadata": {},
   "source": [
    "### Authenticate"
   ]
  },
  {
   "cell_type": "code",
   "execution_count": null,
   "metadata": {},
   "outputs": [],
   "source": [
    "# type in your COSMOS credentials\n",
    "from astroquery.esa.euclid.core import Euclid\n",
    "Euclid.login()"
   ]
  },
  {
   "cell_type": "markdown",
   "metadata": {},
   "source": [
    "### Set Pipeline Options and Load External Targets"
   ]
  },
  {
   "cell_type": "code",
   "execution_count": 6,
   "metadata": {},
   "outputs": [],
   "source": [
    "# you can use this config and external target list for a minimal test on six targets within one tile...\n",
    "\n",
    "# cfg_dict = dict(\n",
    "#     # TODO change this path to wherever you want to save everything\n",
    "#     base_dir='/media/home/my_workspace/repos/bulk-euclid-cutouts/tests/test_external_targets/test_notebook_version',\n",
    "#     name='external_targets_debug',\n",
    "#     release_name='F-006', \n",
    "#     bands=['VIS', 'NIR_Y'],\n",
    "#     auxillary_products=['MERPSF','MERRMS','MERBKG'],\n",
    "    \n",
    "#     # these will be filled in automatically using on base_dir\n",
    "#     download_dir=None,\n",
    "#     tile_dir=None,\n",
    "#     cutout_dir=None,\n",
    "#     fits_dir=None,\n",
    "#     sanity_dir=None\n",
    "    \n",
    "# )\n",
    "# cfg = OmegaConf.create(cfg_dict)  # easy to access with cfg.base_dir, etc\n",
    "# pipeline.create_folders(cfg)  # fill in those missing paths\n",
    "\n",
    "# external_targets = pd.DataFrame([\n",
    "# {\n",
    "#   'id_str': 'a',\n",
    "#   'target_ra': 92.8371844681179,\n",
    "#   'target_dec': -47.8868920683699,\n",
    "#   'target_field_of_view': 20},\n",
    "#  {,\n",
    "#   'id_str': 'b',\n",
    "#   'target_ra': 92.836691187603,\n",
    "#   'target_dec': -48.1117628801209,\n",
    "#   'target_field_of_view': 20},\n",
    "#  {\n",
    "#   'id_str': 'd',\n",
    "#   'target_ra': 92.835560566775,\n",
    "#   'target_dec': -47.978437467137,\n",
    "#   'target_field_of_view': 20},\n",
    "#  {\n",
    "#   'id_str': 'e',\n",
    "#   'target_ra': 92.8351734327103,\n",
    "#   'target_dec': -48.1054532354171,\n",
    "#   'target_field_of_view': 20},\n",
    "#  {\n",
    "#   'id_str': 'f',\n",
    "#   'target_ra': 92.8343976295701,\n",
    "#   'target_dec': -47.9993017111107,\n",
    "#   'target_field_of_view': 20}\n",
    "# ])"
   ]
  },
  {
   "cell_type": "code",
   "execution_count": 7,
   "metadata": {
    "tags": []
   },
   "outputs": [
    {
     "name": "stderr",
     "output_type": "stream",
     "text": [
      "INFO:root:Saving to /media/home/team_workspaces/Euclid-Consortium/data/strong_lensing/external_targets_pipeline/latest\n"
     ]
    }
   ],
   "source": [
    "# or you can use this config to run for real\n",
    "\n",
    "cfg_dict = dict(\n",
    "    base_dir='/media/home/team_workspaces/Euclid-Consortium/data/strong_lensing/external_targets_pipeline',\n",
    "    name='latest',\n",
    "    release_name=None,  # allow tiles from any release\n",
    "    bands=['VIS', 'NIR_Y'],  \n",
    "    auxillary_products=['MERPSF','MERRMS','MERBKG'],\n",
    "    \n",
    "    # ignore these\n",
    "    download_dir=None,\n",
    "    tile_dir=None,\n",
    "    cutout_dir=None,\n",
    "    fits_dir=None,\n",
    "    sanity_dir=None\n",
    "    \n",
    ")\n",
    "cfg = OmegaConf.create(cfg_dict)  # easy to access with cfg.base_dir, etc\n",
    "pipeline.create_folders(cfg)  # fill in those missing paths\n",
    "\n",
    "# TODO use your own csv, it just needs the columns specified here\n",
    "external_targets = pd.read_csv('/media/home/my_workspace/combined_karina_strong_lens_classifications.csv', usecols=['id_str', 'target_ra', 'target_dec'])\n",
    "external_targets['target_field_of_view'] = 20  # arcseconds"
   ]
  },
  {
   "cell_type": "code",
   "execution_count": 8,
   "metadata": {
    "tags": []
   },
   "outputs": [
    {
     "data": {
      "text/plain": [
       "6541"
      ]
     },
     "execution_count": 8,
     "metadata": {},
     "output_type": "execute_result"
    }
   ],
   "source": [
    "len(external_targets)"
   ]
  },
  {
   "cell_type": "markdown",
   "metadata": {},
   "source": [
    "### For each target, find a tile that covers it"
   ]
  },
  {
   "cell_type": "code",
   "execution_count": 9,
   "metadata": {
    "tags": []
   },
   "outputs": [
    {
     "name": "stderr",
     "output_type": "stream",
     "text": [
      "INFO:astroquery:Query finished.\n",
      "INFO:root:Begin target/tile cross-match\n"
     ]
    },
    {
     "name": "stdout",
     "output_type": "stream",
     "text": [
      "INFO: Query finished. [astroquery.utils.tap.core]\n",
      "Found 2514  query results\n"
     ]
    },
    {
     "name": "stderr",
     "output_type": "stream",
     "text": [
      "INFO:root:Matched 6541 targets to 87 tiles\n",
      "INFO:root:Targets with tile matches: 6541\n"
     ]
    },
    {
     "data": {
      "text/html": [
       "<div>\n",
       "<style scoped>\n",
       "    .dataframe tbody tr th:only-of-type {\n",
       "        vertical-align: middle;\n",
       "    }\n",
       "\n",
       "    .dataframe tbody tr th {\n",
       "        vertical-align: top;\n",
       "    }\n",
       "\n",
       "    .dataframe thead th {\n",
       "        text-align: right;\n",
       "    }\n",
       "</style>\n",
       "<table border=\"1\" class=\"dataframe\">\n",
       "  <thead>\n",
       "    <tr style=\"text-align: right;\">\n",
       "      <th></th>\n",
       "      <th>id_str</th>\n",
       "      <th>target_ra</th>\n",
       "      <th>target_dec</th>\n",
       "      <th>target_field_of_view</th>\n",
       "      <th>tile_index</th>\n",
       "    </tr>\n",
       "  </thead>\n",
       "  <tbody>\n",
       "    <tr>\n",
       "      <th>0</th>\n",
       "      <td>EUC_0006_DESI-sel</td>\n",
       "      <td>149.829040</td>\n",
       "      <td>2.154270</td>\n",
       "      <td>20</td>\n",
       "      <td>101544256</td>\n",
       "    </tr>\n",
       "    <tr>\n",
       "      <th>1</th>\n",
       "      <td>EUC_0193_SDSS</td>\n",
       "      <td>150.013360</td>\n",
       "      <td>2.029592</td>\n",
       "      <td>20</td>\n",
       "      <td>101542817</td>\n",
       "    </tr>\n",
       "    <tr>\n",
       "      <th>2</th>\n",
       "      <td>EUC_0200_SDSS</td>\n",
       "      <td>150.250920</td>\n",
       "      <td>1.864015</td>\n",
       "      <td>20</td>\n",
       "      <td>101541378</td>\n",
       "    </tr>\n",
       "    <tr>\n",
       "      <th>3</th>\n",
       "      <td>EUC_0250_DESI-sel</td>\n",
       "      <td>149.945542</td>\n",
       "      <td>2.017199</td>\n",
       "      <td>20</td>\n",
       "      <td>101542817</td>\n",
       "    </tr>\n",
       "    <tr>\n",
       "      <th>4</th>\n",
       "      <td>EUC_0342_DESI-sel</td>\n",
       "      <td>150.438411</td>\n",
       "      <td>2.643070</td>\n",
       "      <td>20</td>\n",
       "      <td>101547137</td>\n",
       "    </tr>\n",
       "    <tr>\n",
       "      <th>...</th>\n",
       "      <td>...</td>\n",
       "      <td>...</td>\n",
       "      <td>...</td>\n",
       "      <td>...</td>\n",
       "      <td>...</td>\n",
       "    </tr>\n",
       "    <tr>\n",
       "      <th>6536</th>\n",
       "      <td>EUC_6111_DESI-sel</td>\n",
       "      <td>150.581806</td>\n",
       "      <td>2.656827</td>\n",
       "      <td>20</td>\n",
       "      <td>101547138</td>\n",
       "    </tr>\n",
       "    <tr>\n",
       "      <th>6537</th>\n",
       "      <td>EUC_6112_DESI-sel</td>\n",
       "      <td>150.582986</td>\n",
       "      <td>2.631492</td>\n",
       "      <td>20</td>\n",
       "      <td>101545699</td>\n",
       "    </tr>\n",
       "    <tr>\n",
       "      <th>6538</th>\n",
       "      <td>EUC_6119_DESI-sel</td>\n",
       "      <td>150.601048</td>\n",
       "      <td>2.664884</td>\n",
       "      <td>20</td>\n",
       "      <td>101547138</td>\n",
       "    </tr>\n",
       "    <tr>\n",
       "      <th>6539</th>\n",
       "      <td>EUC_6121_DESI-sel</td>\n",
       "      <td>150.607258</td>\n",
       "      <td>2.674481</td>\n",
       "      <td>20</td>\n",
       "      <td>101547138</td>\n",
       "    </tr>\n",
       "    <tr>\n",
       "      <th>6540</th>\n",
       "      <td>EUC_6716_DESI-sel</td>\n",
       "      <td>149.920988</td>\n",
       "      <td>2.903082</td>\n",
       "      <td>20</td>\n",
       "      <td>101548574</td>\n",
       "    </tr>\n",
       "  </tbody>\n",
       "</table>\n",
       "<p>6541 rows × 5 columns</p>\n",
       "</div>"
      ],
      "text/plain": [
       "                 id_str   target_ra  target_dec  target_field_of_view  \\\n",
       "0     EUC_0006_DESI-sel  149.829040    2.154270                    20   \n",
       "1         EUC_0193_SDSS  150.013360    2.029592                    20   \n",
       "2         EUC_0200_SDSS  150.250920    1.864015                    20   \n",
       "3     EUC_0250_DESI-sel  149.945542    2.017199                    20   \n",
       "4     EUC_0342_DESI-sel  150.438411    2.643070                    20   \n",
       "...                 ...         ...         ...                   ...   \n",
       "6536  EUC_6111_DESI-sel  150.581806    2.656827                    20   \n",
       "6537  EUC_6112_DESI-sel  150.582986    2.631492                    20   \n",
       "6538  EUC_6119_DESI-sel  150.601048    2.664884                    20   \n",
       "6539  EUC_6121_DESI-sel  150.607258    2.674481                    20   \n",
       "6540  EUC_6716_DESI-sel  149.920988    2.903082                    20   \n",
       "\n",
       "      tile_index  \n",
       "0      101544256  \n",
       "1      101542817  \n",
       "2      101541378  \n",
       "3      101542817  \n",
       "4      101547137  \n",
       "...          ...  \n",
       "6536   101547138  \n",
       "6537   101545699  \n",
       "6538   101547138  \n",
       "6539   101547138  \n",
       "6540   101548574  \n",
       "\n",
       "[6541 rows x 5 columns]"
      ]
     },
     "execution_count": 9,
     "metadata": {},
     "output_type": "execute_result"
    }
   ],
   "source": [
    "targets_with_tiles = pipeline.get_matching_tiles(cfg, external_targets)\n",
    "targets_with_tiles"
   ]
  },
  {
   "cell_type": "markdown",
   "metadata": {},
   "source": [
    "The speed of the pipeline depends on the number of tiles to download. It takes a few minutes per tile."
   ]
  },
  {
   "cell_type": "code",
   "execution_count": 10,
   "metadata": {
    "tags": []
   },
   "outputs": [
    {
     "data": {
      "text/plain": [
       "87"
      ]
     },
     "execution_count": 10,
     "metadata": {},
     "output_type": "execute_result"
    }
   ],
   "source": [
    "targets_with_tiles['tile_index'].nunique()"
   ]
  },
  {
   "cell_type": "markdown",
   "metadata": {},
   "source": [
    "### For every tile, download the flux and auxillary (PSF, RMS, BKG) data and make cutouts around each target in that tile"
   ]
  },
  {
   "cell_type": "code",
   "execution_count": 11,
   "metadata": {
    "tags": []
   },
   "outputs": [
    {
     "name": "stderr",
     "output_type": "stream",
     "text": [
      "INFO:root:Tile 101544256, 0 of 87\n",
      "INFO:astroquery:Query finished.\n",
      "ERROR: Cannot retrieve products for file_name EUC_MER_BGSUB-MOSAIC-NIR-Y_TILE101544256-8DD33D_20240203T001101.427300Z_00.00.fits or product_id None: \n",
      " Address not found. If you are requesting a product, please check you are logged in [astroquery.esa.euclid.core]\n",
      "ERROR:astroquery:Cannot retrieve products for file_name EUC_MER_BGSUB-MOSAIC-NIR-Y_TILE101544256-8DD33D_20240203T001101.427300Z_00.00.fits or product_id None: \n",
      " Address not found. If you are requesting a product, please check you are logged in\n"
     ]
    },
    {
     "name": "stdout",
     "output_type": "stream",
     "text": [
      "INFO: Query finished. [astroquery.utils.tap.core]\n",
      "Found 2  query results\n",
      "Retrieving data.\n",
      "Data request: TAPCLIENT=ASTROQUERY&RELEASE=sedm&FILE_NAME=EUC_MER_BGSUB-MOSAIC-NIR-Y_TILE101544256-8DD33D_20240203T001101.427300Z_00.00.fits&RETRIEVAL_TYPE=FILE\n",
      "------>https\n",
      "host = easotf.esac.esa.int:443\n",
      "context = /sas-dd/data\n",
      "Content-type = application/x-www-form-urlencoded\n",
      "404 \n",
      "ERROR: 404: \n",
      "404 Error 404:\n",
      "No products found\n"
     ]
    },
    {
     "ename": "TypeError",
     "evalue": "'NoneType' object is not subscriptable",
     "output_type": "error",
     "traceback": [
      "\u001b[0;31m---------------------------------------------------------------------------\u001b[0m",
      "\u001b[0;31mTypeError\u001b[0m                                 Traceback (most recent call last)",
      "Cell \u001b[0;32mIn[11], line 1\u001b[0m\n\u001b[0;32m----> 1\u001b[0m \u001b[43mpipeline\u001b[49m\u001b[38;5;241;43m.\u001b[39;49m\u001b[43mmake_cutouts\u001b[49m\u001b[43m(\u001b[49m\u001b[43mcfg\u001b[49m\u001b[43m,\u001b[49m\u001b[43m \u001b[49m\u001b[43mtargets_with_tiles\u001b[49m\u001b[43m)\u001b[49m\n",
      "File \u001b[0;32m/media/user/repos/bulk-euclid-cutouts/bulk_euclid/external_targets/pipeline.py:148\u001b[0m, in \u001b[0;36mmake_cutouts\u001b[0;34m(cfg, targets_with_tiles)\u001b[0m\n\u001b[1;32m    146\u001b[0m logging\u001b[38;5;241m.\u001b[39minfo(\u001b[38;5;124mf\u001b[39m\u001b[38;5;124m'\u001b[39m\u001b[38;5;124mTile \u001b[39m\u001b[38;5;132;01m{\u001b[39;00mtile_index\u001b[38;5;132;01m}\u001b[39;00m\u001b[38;5;124m, \u001b[39m\u001b[38;5;132;01m{\u001b[39;00mtile_n\u001b[38;5;132;01m}\u001b[39;00m\u001b[38;5;124m of \u001b[39m\u001b[38;5;132;01m{\u001b[39;00m\u001b[38;5;28mlen\u001b[39m(unique_tiles)\u001b[38;5;132;01m}\u001b[39;00m\u001b[38;5;124m'\u001b[39m)\n\u001b[1;32m    147\u001b[0m \u001b[38;5;28;01mtry\u001b[39;00m:\n\u001b[0;32m--> 148\u001b[0m     dict_of_locs \u001b[38;5;241m=\u001b[39m \u001b[43mdownload_all_data_at_tile_index\u001b[49m\u001b[43m(\u001b[49m\u001b[43mcfg\u001b[49m\u001b[43m,\u001b[49m\u001b[43m \u001b[49m\u001b[43mtile_index\u001b[49m\u001b[43m)\u001b[49m\n\u001b[1;32m    149\u001b[0m     logging\u001b[38;5;241m.\u001b[39minfo(\u001b[38;5;124mf\u001b[39m\u001b[38;5;124m\"\u001b[39m\u001b[38;5;124mDownloaded: \u001b[39m\u001b[38;5;132;01m{\u001b[39;00mdict_of_locs\u001b[38;5;132;01m}\u001b[39;00m\u001b[38;5;124m\"\u001b[39m)\n\u001b[1;32m    150\u001b[0m \u001b[38;5;28;01mexcept\u001b[39;00m \u001b[38;5;167;01mAssertionError\u001b[39;00m \u001b[38;5;28;01mas\u001b[39;00m e:\n",
      "File \u001b[0;32m/media/user/repos/bulk-euclid-cutouts/bulk_euclid/external_targets/pipeline.py:199\u001b[0m, in \u001b[0;36mdownload_all_data_at_tile_index\u001b[0;34m(cfg, tile_index)\u001b[0m\n\u001b[1;32m    195\u001b[0m flux_tile_metadata \u001b[38;5;241m=\u001b[39m pipeline_utils\u001b[38;5;241m.\u001b[39mget_tiles_in_survey(\n\u001b[1;32m    196\u001b[0m     tile_index\u001b[38;5;241m=\u001b[39mtile_index, bands\u001b[38;5;241m=\u001b[39mcfg\u001b[38;5;241m.\u001b[39mbands, release_name\u001b[38;5;241m=\u001b[39mcfg\u001b[38;5;241m.\u001b[39mrelease_name\n\u001b[1;32m    197\u001b[0m )\n\u001b[1;32m    198\u001b[0m \u001b[38;5;66;03m# download all the flux tiles with that index\u001b[39;00m\n\u001b[0;32m--> 199\u001b[0m flux_tile_metadata \u001b[38;5;241m=\u001b[39m \u001b[43mpipeline_utils\u001b[49m\u001b[38;5;241;43m.\u001b[39;49m\u001b[43msave_euclid_products\u001b[49m\u001b[43m(\u001b[49m\n\u001b[1;32m    200\u001b[0m \u001b[43m    \u001b[49m\u001b[43mflux_tile_metadata\u001b[49m\u001b[43m,\u001b[49m\u001b[43m \u001b[49m\u001b[43mdownload_dir\u001b[49m\u001b[38;5;241;43m=\u001b[39;49m\u001b[43mcfg\u001b[49m\u001b[38;5;241;43m.\u001b[39;49m\u001b[43mtile_dir\u001b[49m\n\u001b[1;32m    201\u001b[0m \u001b[43m\u001b[49m\u001b[43m)\u001b[49m\n\u001b[1;32m    203\u001b[0m dict_of_locs \u001b[38;5;241m=\u001b[39m {}\n\u001b[1;32m    205\u001b[0m \u001b[38;5;66;03m# download all auxillary data for that tile\u001b[39;00m\n",
      "File \u001b[0;32m/media/user/repos/bulk-euclid-cutouts/bulk_euclid/utils/pipeline_utils.py:257\u001b[0m, in \u001b[0;36msave_euclid_products\u001b[0;34m(df, download_dir)\u001b[0m\n\u001b[1;32m    255\u001b[0m \u001b[38;5;28;01mdef\u001b[39;00m \u001b[38;5;21msave_euclid_products\u001b[39m(df: pd\u001b[38;5;241m.\u001b[39mDataFrame, download_dir: \u001b[38;5;28mstr\u001b[39m):\n\u001b[1;32m    256\u001b[0m     \u001b[38;5;66;03m# adds file_loc to downloaded path\u001b[39;00m\n\u001b[0;32m--> 257\u001b[0m     df[\u001b[38;5;124m'\u001b[39m\u001b[38;5;124mfile_loc\u001b[39m\u001b[38;5;124m'\u001b[39m] \u001b[38;5;241m=\u001b[39m \u001b[43mdf\u001b[49m\u001b[43m[\u001b[49m\u001b[38;5;124;43m'\u001b[39;49m\u001b[38;5;124;43mfile_name\u001b[39;49m\u001b[38;5;124;43m'\u001b[39;49m\u001b[43m]\u001b[49m\u001b[38;5;241;43m.\u001b[39;49m\u001b[43mapply\u001b[49m\u001b[43m(\u001b[49m\u001b[38;5;28;43;01mlambda\u001b[39;49;00m\u001b[43m \u001b[49m\u001b[43mx\u001b[49m\u001b[43m:\u001b[49m\u001b[43m \u001b[49m\u001b[43msave_euclid_product\u001b[49m\u001b[43m(\u001b[49m\u001b[43mx\u001b[49m\u001b[43m,\u001b[49m\u001b[43m \u001b[49m\u001b[43mdownload_dir\u001b[49m\u001b[43m)\u001b[49m\u001b[43m)\u001b[49m\n\u001b[1;32m    258\u001b[0m     \u001b[38;5;28;01mreturn\u001b[39;00m df\n",
      "File \u001b[0;32m/opt/miniconda/envs/euclid-tools/lib/python3.9/site-packages/pandas/core/series.py:4897\u001b[0m, in \u001b[0;36mSeries.apply\u001b[0;34m(self, func, convert_dtype, args, by_row, **kwargs)\u001b[0m\n\u001b[1;32m   4769\u001b[0m \u001b[38;5;28;01mdef\u001b[39;00m \u001b[38;5;21mapply\u001b[39m(\n\u001b[1;32m   4770\u001b[0m     \u001b[38;5;28mself\u001b[39m,\n\u001b[1;32m   4771\u001b[0m     func: AggFuncType,\n\u001b[0;32m   (...)\u001b[0m\n\u001b[1;32m   4776\u001b[0m     \u001b[38;5;241m*\u001b[39m\u001b[38;5;241m*\u001b[39mkwargs,\n\u001b[1;32m   4777\u001b[0m ) \u001b[38;5;241m-\u001b[39m\u001b[38;5;241m>\u001b[39m DataFrame \u001b[38;5;241m|\u001b[39m Series:\n\u001b[1;32m   4778\u001b[0m \u001b[38;5;250m    \u001b[39m\u001b[38;5;124;03m\"\"\"\u001b[39;00m\n\u001b[1;32m   4779\u001b[0m \u001b[38;5;124;03m    Invoke function on values of Series.\u001b[39;00m\n\u001b[1;32m   4780\u001b[0m \n\u001b[0;32m   (...)\u001b[0m\n\u001b[1;32m   4895\u001b[0m \u001b[38;5;124;03m    dtype: float64\u001b[39;00m\n\u001b[1;32m   4896\u001b[0m \u001b[38;5;124;03m    \"\"\"\u001b[39;00m\n\u001b[0;32m-> 4897\u001b[0m     \u001b[38;5;28;01mreturn\u001b[39;00m \u001b[43mSeriesApply\u001b[49m\u001b[43m(\u001b[49m\n\u001b[1;32m   4898\u001b[0m \u001b[43m        \u001b[49m\u001b[38;5;28;43mself\u001b[39;49m\u001b[43m,\u001b[49m\n\u001b[1;32m   4899\u001b[0m \u001b[43m        \u001b[49m\u001b[43mfunc\u001b[49m\u001b[43m,\u001b[49m\n\u001b[1;32m   4900\u001b[0m \u001b[43m        \u001b[49m\u001b[43mconvert_dtype\u001b[49m\u001b[38;5;241;43m=\u001b[39;49m\u001b[43mconvert_dtype\u001b[49m\u001b[43m,\u001b[49m\n\u001b[1;32m   4901\u001b[0m \u001b[43m        \u001b[49m\u001b[43mby_row\u001b[49m\u001b[38;5;241;43m=\u001b[39;49m\u001b[43mby_row\u001b[49m\u001b[43m,\u001b[49m\n\u001b[1;32m   4902\u001b[0m \u001b[43m        \u001b[49m\u001b[43margs\u001b[49m\u001b[38;5;241;43m=\u001b[39;49m\u001b[43margs\u001b[49m\u001b[43m,\u001b[49m\n\u001b[1;32m   4903\u001b[0m \u001b[43m        \u001b[49m\u001b[43mkwargs\u001b[49m\u001b[38;5;241;43m=\u001b[39;49m\u001b[43mkwargs\u001b[49m\u001b[43m,\u001b[49m\n\u001b[1;32m   4904\u001b[0m \u001b[43m    \u001b[49m\u001b[43m)\u001b[49m\u001b[38;5;241;43m.\u001b[39;49m\u001b[43mapply\u001b[49m\u001b[43m(\u001b[49m\u001b[43m)\u001b[49m\n",
      "File \u001b[0;32m/opt/miniconda/envs/euclid-tools/lib/python3.9/site-packages/pandas/core/apply.py:1427\u001b[0m, in \u001b[0;36mSeriesApply.apply\u001b[0;34m(self)\u001b[0m\n\u001b[1;32m   1424\u001b[0m     \u001b[38;5;28;01mreturn\u001b[39;00m \u001b[38;5;28mself\u001b[39m\u001b[38;5;241m.\u001b[39mapply_compat()\n\u001b[1;32m   1426\u001b[0m \u001b[38;5;66;03m# self.func is Callable\u001b[39;00m\n\u001b[0;32m-> 1427\u001b[0m \u001b[38;5;28;01mreturn\u001b[39;00m \u001b[38;5;28;43mself\u001b[39;49m\u001b[38;5;241;43m.\u001b[39;49m\u001b[43mapply_standard\u001b[49m\u001b[43m(\u001b[49m\u001b[43m)\u001b[49m\n",
      "File \u001b[0;32m/opt/miniconda/envs/euclid-tools/lib/python3.9/site-packages/pandas/core/apply.py:1507\u001b[0m, in \u001b[0;36mSeriesApply.apply_standard\u001b[0;34m(self)\u001b[0m\n\u001b[1;32m   1501\u001b[0m \u001b[38;5;66;03m# row-wise access\u001b[39;00m\n\u001b[1;32m   1502\u001b[0m \u001b[38;5;66;03m# apply doesn't have a `na_action` keyword and for backward compat reasons\u001b[39;00m\n\u001b[1;32m   1503\u001b[0m \u001b[38;5;66;03m# we need to give `na_action=\"ignore\"` for categorical data.\u001b[39;00m\n\u001b[1;32m   1504\u001b[0m \u001b[38;5;66;03m# TODO: remove the `na_action=\"ignore\"` when that default has been changed in\u001b[39;00m\n\u001b[1;32m   1505\u001b[0m \u001b[38;5;66;03m#  Categorical (GH51645).\u001b[39;00m\n\u001b[1;32m   1506\u001b[0m action \u001b[38;5;241m=\u001b[39m \u001b[38;5;124m\"\u001b[39m\u001b[38;5;124mignore\u001b[39m\u001b[38;5;124m\"\u001b[39m \u001b[38;5;28;01mif\u001b[39;00m \u001b[38;5;28misinstance\u001b[39m(obj\u001b[38;5;241m.\u001b[39mdtype, CategoricalDtype) \u001b[38;5;28;01melse\u001b[39;00m \u001b[38;5;28;01mNone\u001b[39;00m\n\u001b[0;32m-> 1507\u001b[0m mapped \u001b[38;5;241m=\u001b[39m \u001b[43mobj\u001b[49m\u001b[38;5;241;43m.\u001b[39;49m\u001b[43m_map_values\u001b[49m\u001b[43m(\u001b[49m\n\u001b[1;32m   1508\u001b[0m \u001b[43m    \u001b[49m\u001b[43mmapper\u001b[49m\u001b[38;5;241;43m=\u001b[39;49m\u001b[43mcurried\u001b[49m\u001b[43m,\u001b[49m\u001b[43m \u001b[49m\u001b[43mna_action\u001b[49m\u001b[38;5;241;43m=\u001b[39;49m\u001b[43maction\u001b[49m\u001b[43m,\u001b[49m\u001b[43m \u001b[49m\u001b[43mconvert\u001b[49m\u001b[38;5;241;43m=\u001b[39;49m\u001b[38;5;28;43mself\u001b[39;49m\u001b[38;5;241;43m.\u001b[39;49m\u001b[43mconvert_dtype\u001b[49m\n\u001b[1;32m   1509\u001b[0m \u001b[43m\u001b[49m\u001b[43m)\u001b[49m\n\u001b[1;32m   1511\u001b[0m \u001b[38;5;28;01mif\u001b[39;00m \u001b[38;5;28mlen\u001b[39m(mapped) \u001b[38;5;129;01mand\u001b[39;00m \u001b[38;5;28misinstance\u001b[39m(mapped[\u001b[38;5;241m0\u001b[39m], ABCSeries):\n\u001b[1;32m   1512\u001b[0m     \u001b[38;5;66;03m# GH#43986 Need to do list(mapped) in order to get treated as nested\u001b[39;00m\n\u001b[1;32m   1513\u001b[0m     \u001b[38;5;66;03m#  See also GH#25959 regarding EA support\u001b[39;00m\n\u001b[1;32m   1514\u001b[0m     \u001b[38;5;28;01mreturn\u001b[39;00m obj\u001b[38;5;241m.\u001b[39m_constructor_expanddim(\u001b[38;5;28mlist\u001b[39m(mapped), index\u001b[38;5;241m=\u001b[39mobj\u001b[38;5;241m.\u001b[39mindex)\n",
      "File \u001b[0;32m/opt/miniconda/envs/euclid-tools/lib/python3.9/site-packages/pandas/core/base.py:921\u001b[0m, in \u001b[0;36mIndexOpsMixin._map_values\u001b[0;34m(self, mapper, na_action, convert)\u001b[0m\n\u001b[1;32m    918\u001b[0m \u001b[38;5;28;01mif\u001b[39;00m \u001b[38;5;28misinstance\u001b[39m(arr, ExtensionArray):\n\u001b[1;32m    919\u001b[0m     \u001b[38;5;28;01mreturn\u001b[39;00m arr\u001b[38;5;241m.\u001b[39mmap(mapper, na_action\u001b[38;5;241m=\u001b[39mna_action)\n\u001b[0;32m--> 921\u001b[0m \u001b[38;5;28;01mreturn\u001b[39;00m \u001b[43malgorithms\u001b[49m\u001b[38;5;241;43m.\u001b[39;49m\u001b[43mmap_array\u001b[49m\u001b[43m(\u001b[49m\u001b[43marr\u001b[49m\u001b[43m,\u001b[49m\u001b[43m \u001b[49m\u001b[43mmapper\u001b[49m\u001b[43m,\u001b[49m\u001b[43m \u001b[49m\u001b[43mna_action\u001b[49m\u001b[38;5;241;43m=\u001b[39;49m\u001b[43mna_action\u001b[49m\u001b[43m,\u001b[49m\u001b[43m \u001b[49m\u001b[43mconvert\u001b[49m\u001b[38;5;241;43m=\u001b[39;49m\u001b[43mconvert\u001b[49m\u001b[43m)\u001b[49m\n",
      "File \u001b[0;32m/opt/miniconda/envs/euclid-tools/lib/python3.9/site-packages/pandas/core/algorithms.py:1743\u001b[0m, in \u001b[0;36mmap_array\u001b[0;34m(arr, mapper, na_action, convert)\u001b[0m\n\u001b[1;32m   1741\u001b[0m values \u001b[38;5;241m=\u001b[39m arr\u001b[38;5;241m.\u001b[39mastype(\u001b[38;5;28mobject\u001b[39m, copy\u001b[38;5;241m=\u001b[39m\u001b[38;5;28;01mFalse\u001b[39;00m)\n\u001b[1;32m   1742\u001b[0m \u001b[38;5;28;01mif\u001b[39;00m na_action \u001b[38;5;129;01mis\u001b[39;00m \u001b[38;5;28;01mNone\u001b[39;00m:\n\u001b[0;32m-> 1743\u001b[0m     \u001b[38;5;28;01mreturn\u001b[39;00m \u001b[43mlib\u001b[49m\u001b[38;5;241;43m.\u001b[39;49m\u001b[43mmap_infer\u001b[49m\u001b[43m(\u001b[49m\u001b[43mvalues\u001b[49m\u001b[43m,\u001b[49m\u001b[43m \u001b[49m\u001b[43mmapper\u001b[49m\u001b[43m,\u001b[49m\u001b[43m \u001b[49m\u001b[43mconvert\u001b[49m\u001b[38;5;241;43m=\u001b[39;49m\u001b[43mconvert\u001b[49m\u001b[43m)\u001b[49m\n\u001b[1;32m   1744\u001b[0m \u001b[38;5;28;01melse\u001b[39;00m:\n\u001b[1;32m   1745\u001b[0m     \u001b[38;5;28;01mreturn\u001b[39;00m lib\u001b[38;5;241m.\u001b[39mmap_infer_mask(\n\u001b[1;32m   1746\u001b[0m         values, mapper, mask\u001b[38;5;241m=\u001b[39misna(values)\u001b[38;5;241m.\u001b[39mview(np\u001b[38;5;241m.\u001b[39muint8), convert\u001b[38;5;241m=\u001b[39mconvert\n\u001b[1;32m   1747\u001b[0m     )\n",
      "File \u001b[0;32mlib.pyx:2972\u001b[0m, in \u001b[0;36mpandas._libs.lib.map_infer\u001b[0;34m()\u001b[0m\n",
      "File \u001b[0;32m/media/user/repos/bulk-euclid-cutouts/bulk_euclid/utils/pipeline_utils.py:257\u001b[0m, in \u001b[0;36msave_euclid_products.<locals>.<lambda>\u001b[0;34m(x)\u001b[0m\n\u001b[1;32m    255\u001b[0m \u001b[38;5;28;01mdef\u001b[39;00m \u001b[38;5;21msave_euclid_products\u001b[39m(df: pd\u001b[38;5;241m.\u001b[39mDataFrame, download_dir: \u001b[38;5;28mstr\u001b[39m):\n\u001b[1;32m    256\u001b[0m     \u001b[38;5;66;03m# adds file_loc to downloaded path\u001b[39;00m\n\u001b[0;32m--> 257\u001b[0m     df[\u001b[38;5;124m'\u001b[39m\u001b[38;5;124mfile_loc\u001b[39m\u001b[38;5;124m'\u001b[39m] \u001b[38;5;241m=\u001b[39m df[\u001b[38;5;124m'\u001b[39m\u001b[38;5;124mfile_name\u001b[39m\u001b[38;5;124m'\u001b[39m]\u001b[38;5;241m.\u001b[39mapply(\u001b[38;5;28;01mlambda\u001b[39;00m x: \u001b[43msave_euclid_product\u001b[49m\u001b[43m(\u001b[49m\u001b[43mx\u001b[49m\u001b[43m,\u001b[49m\u001b[43m \u001b[49m\u001b[43mdownload_dir\u001b[49m\u001b[43m)\u001b[49m)\n\u001b[1;32m    258\u001b[0m     \u001b[38;5;28;01mreturn\u001b[39;00m df\n",
      "File \u001b[0;32m/media/user/repos/bulk-euclid-cutouts/bulk_euclid/utils/pipeline_utils.py:264\u001b[0m, in \u001b[0;36msave_euclid_product\u001b[0;34m(product_filename, download_dir)\u001b[0m\n\u001b[1;32m    262\u001b[0m output_loc \u001b[38;5;241m=\u001b[39m os\u001b[38;5;241m.\u001b[39mpath\u001b[38;5;241m.\u001b[39mjoin(download_dir, product_filename)\n\u001b[1;32m    263\u001b[0m \u001b[38;5;28;01mif\u001b[39;00m \u001b[38;5;129;01mnot\u001b[39;00m os\u001b[38;5;241m.\u001b[39mpath\u001b[38;5;241m.\u001b[39misfile(output_loc):\n\u001b[0;32m--> 264\u001b[0m     downloaded_path \u001b[38;5;241m=\u001b[39m \u001b[43mEuclid\u001b[49m\u001b[38;5;241;43m.\u001b[39;49m\u001b[43mget_product\u001b[49m\u001b[43m(\u001b[49m\u001b[43mfile_name\u001b[49m\u001b[38;5;241;43m=\u001b[39;49m\u001b[43mproduct_filename\u001b[49m\u001b[43m,\u001b[49m\u001b[43m \u001b[49m\u001b[43moutput_file\u001b[49m\u001b[38;5;241;43m=\u001b[39;49m\u001b[43moutput_loc\u001b[49m\u001b[43m)\u001b[49m\u001b[43m[\u001b[49m\u001b[38;5;241;43m0\u001b[39;49m\u001b[43m]\u001b[49m  \u001b[38;5;66;03m# 0 as one product\u001b[39;00m\n\u001b[1;32m    265\u001b[0m     logging\u001b[38;5;241m.\u001b[39minfo(\u001b[38;5;124mf\u001b[39m\u001b[38;5;124m'\u001b[39m\u001b[38;5;132;01m{\u001b[39;00mproduct_filename\u001b[38;5;132;01m}\u001b[39;00m\u001b[38;5;124m saved at \u001b[39m\u001b[38;5;132;01m{\u001b[39;00mdownloaded_path\u001b[38;5;132;01m}\u001b[39;00m\u001b[38;5;124m'\u001b[39m)\n\u001b[1;32m    266\u001b[0m \u001b[38;5;28;01mreturn\u001b[39;00m output_loc\n",
      "\u001b[0;31mTypeError\u001b[0m: 'NoneType' object is not subscriptable"
     ]
    }
   ],
   "source": [
    "pipeline.make_cutouts(cfg, targets_with_tiles)"
   ]
  },
  {
   "cell_type": "code",
   "execution_count": null,
   "metadata": {},
   "outputs": [],
   "source": []
  }
 ],
 "metadata": {
  "kernelspec": {
   "display_name": "EUCLID-TOOLS",
   "language": "python",
   "name": "euclid-tools"
  },
  "language_info": {
   "codemirror_mode": {
    "name": "ipython",
    "version": 3
   },
   "file_extension": ".py",
   "mimetype": "text/x-python",
   "name": "python",
   "nbconvert_exporter": "python",
   "pygments_lexer": "ipython3",
   "version": "3.9.0"
  }
 },
 "nbformat": 4,
 "nbformat_minor": 4
}
