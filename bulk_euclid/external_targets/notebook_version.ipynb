{
 "cells": [
  {
   "cell_type": "code",
   "execution_count": 34,
   "metadata": {},
   "outputs": [
    {
     "name": "stdout",
     "output_type": "stream",
     "text": [
      "The autoreload extension is already loaded. To reload it, use:\n",
      "  %reload_ext autoreload\n"
     ]
    }
   ],
   "source": [
    "%load_ext autoreload\n",
    "%autoreload 2"
   ]
  },
  {
   "cell_type": "code",
   "execution_count": 35,
   "metadata": {
    "tags": []
   },
   "outputs": [],
   "source": [
    "import sys\n",
    "import os\n",
    "repo_dir = '/media/user/repos/bulk-euclid-cutouts'\n",
    "os.path.isdir(repo_dir)\n",
    "sys.path.insert(0,repo_dir)"
   ]
  },
  {
   "cell_type": "code",
   "execution_count": 36,
   "metadata": {},
   "outputs": [],
   "source": [
    "import logging\n",
    "import warnings\n",
    "import os\n",
    "\n",
    "from omegaconf import OmegaConf\n",
    "import pandas as pd\n",
    "from sklearn.neighbors import KDTree\n",
    "from astropy.io import fits\n",
    "from astropy.coordinates import SkyCoord\n",
    "from astropy.wcs import WCS\n",
    "from astropy.nddata import Cutout2D\n",
    "import astropy.units as u\n",
    "from astropy.table import Table\n",
    "from astropy.io.fits.verify import VerifyWarning\n",
    "\n",
    "from bulk_euclid.utils import pipeline_utils\n",
    "from bulk_euclid.external_targets import pipeline"
   ]
  },
  {
   "cell_type": "code",
   "execution_count": 37,
   "metadata": {},
   "outputs": [
    {
     "name": "stdout",
     "output_type": "stream",
     "text": [
      "INFO: Login to Euclid TAP server [astroquery.esa.euclid.core]\n"
     ]
    },
    {
     "name": "stdin",
     "output_type": "stream",
     "text": [
      "User:  mwalms01\n",
      "Password:  ········\n"
     ]
    },
    {
     "name": "stdout",
     "output_type": "stream",
     "text": [
      "INFO: OK [astroquery.utils.tap.core]\n",
      "INFO: Login to Euclid data service [astroquery.esa.euclid.core]\n",
      "INFO: OK [astroquery.utils.tap.core]\n",
      "INFO: Login to Euclid cutout service [astroquery.esa.euclid.core]\n",
      "INFO: OK [astroquery.utils.tap.core]\n"
     ]
    }
   ],
   "source": [
    "from astroquery.esa.euclid.core import Euclid\n",
    "Euclid.login()"
   ]
  },
  {
   "cell_type": "code",
   "execution_count": 64,
   "metadata": {},
   "outputs": [],
   "source": [
    "cfg_dict = dict(\n",
    "    # TODO change this path\n",
    "    base_dir='/media/home/my_workspace/repos/bulk-euclid-cutouts/tests/test_external_targets/test_notebook_version',\n",
    "    name='external_targets_debug',\n",
    "    release_name='F-006',\n",
    "    bands=['VIS', 'NIR_Y'],\n",
    "    auxillary_products=['MERPSF','MERRMS','MERBKG'],\n",
    "    \n",
    "    # these will be filled in automatically using on base_dir\n",
    "    download_dir=None,\n",
    "    tile_dir=None,\n",
    "    cutout_dir=None,\n",
    "    fits_dir=None,\n",
    "    sanity_dir=None\n",
    "    \n",
    ")\n",
    "cfg = OmegaConf.create(cfg_dict)  # easy to access with cfg.base_dir, etc"
   ]
  },
  {
   "cell_type": "code",
   "execution_count": 65,
   "metadata": {
    "tags": []
   },
   "outputs": [],
   "source": [
    "# !ls /media/home/my_workspace/repos/bulk-euclid-cutouts/tests/test_external_targets/test_notebook_version"
   ]
  },
  {
   "cell_type": "code",
   "execution_count": 66,
   "metadata": {
    "tags": []
   },
   "outputs": [
    {
     "data": {
      "text/plain": [
       "{'base_dir': '/media/home/my_workspace/repos/bulk-euclid-cutouts/tests/test_external_targets/test_notebook_version', 'name': 'external_targets_debug', 'release_name': 'F-006', 'bands': ['VIS', 'NIR_Y'], 'auxillary_products': ['MERPSF', 'MERRMS', 'MERBKG'], 'download_dir': '/media/home/my_workspace/repos/bulk-euclid-cutouts/tests/test_external_targets/test_notebook_version/external_targets_debug', 'tile_dir': '/media/home/my_workspace/repos/bulk-euclid-cutouts/tests/test_external_targets/test_notebook_version/external_targets_debug/tiles', 'cutout_dir': '/media/home/my_workspace/repos/bulk-euclid-cutouts/tests/test_external_targets/test_notebook_version/external_targets_debug/cutouts', 'fits_dir': '/media/home/my_workspace/repos/bulk-euclid-cutouts/tests/test_external_targets/test_notebook_version/external_targets_debug/cutouts/fits', 'sanity_dir': '/media/home/my_workspace/repos/bulk-euclid-cutouts/tests/test_external_targets/test_notebook_version/external_targets_debug/sanity'}"
      ]
     },
     "execution_count": 66,
     "metadata": {},
     "output_type": "execute_result"
    }
   ],
   "source": [
    "pipeline.create_folders(cfg)  # now they are filled in"
   ]
  },
  {
   "cell_type": "code",
   "execution_count": 39,
   "metadata": {},
   "outputs": [
    {
     "data": {
      "text/html": [
       "<div>\n",
       "<style scoped>\n",
       "    .dataframe tbody tr th:only-of-type {\n",
       "        vertical-align: middle;\n",
       "    }\n",
       "\n",
       "    .dataframe tbody tr th {\n",
       "        vertical-align: top;\n",
       "    }\n",
       "\n",
       "    .dataframe thead th {\n",
       "        text-align: right;\n",
       "    }\n",
       "</style>\n",
       "<table border=\"1\" class=\"dataframe\">\n",
       "  <thead>\n",
       "    <tr style=\"text-align: right;\">\n",
       "      <th></th>\n",
       "      <th>id_str</th>\n",
       "      <th>target_ra</th>\n",
       "      <th>target_dec</th>\n",
       "      <th>target_field_of_view</th>\n",
       "    </tr>\n",
       "  </thead>\n",
       "  <tbody>\n",
       "    <tr>\n",
       "      <th>0</th>\n",
       "      <td>a</td>\n",
       "      <td>92.837184</td>\n",
       "      <td>-47.886892</td>\n",
       "      <td>100</td>\n",
       "    </tr>\n",
       "    <tr>\n",
       "      <th>1</th>\n",
       "      <td>b</td>\n",
       "      <td>92.836691</td>\n",
       "      <td>-48.111763</td>\n",
       "      <td>100</td>\n",
       "    </tr>\n",
       "    <tr>\n",
       "      <th>2</th>\n",
       "      <td>c</td>\n",
       "      <td>92.835639</td>\n",
       "      <td>-48.187139</td>\n",
       "      <td>100</td>\n",
       "    </tr>\n",
       "    <tr>\n",
       "      <th>3</th>\n",
       "      <td>d</td>\n",
       "      <td>92.835561</td>\n",
       "      <td>-47.978437</td>\n",
       "      <td>100</td>\n",
       "    </tr>\n",
       "    <tr>\n",
       "      <th>4</th>\n",
       "      <td>e</td>\n",
       "      <td>92.835173</td>\n",
       "      <td>-48.105453</td>\n",
       "      <td>100</td>\n",
       "    </tr>\n",
       "  </tbody>\n",
       "</table>\n",
       "</div>"
      ],
      "text/plain": [
       "  id_str  target_ra  target_dec  target_field_of_view\n",
       "0      a  92.837184  -47.886892                   100\n",
       "1      b  92.836691  -48.111763                   100\n",
       "2      c  92.835639  -48.187139                   100\n",
       "3      d  92.835561  -47.978437                   100\n",
       "4      e  92.835173  -48.105453                   100"
      ]
     },
     "execution_count": 39,
     "metadata": {},
     "output_type": "execute_result"
    }
   ],
   "source": [
    "external_targets = pd.read_csv('/media/user/repos/bulk-euclid-cutouts/tests/data/102021539_mer_catalog.csv')\n",
    "external_targets.head()"
   ]
  },
  {
   "cell_type": "code",
   "execution_count": 43,
   "metadata": {},
   "outputs": [
    {
     "name": "stderr",
     "output_type": "stream",
     "text": [
      "INFO:astroquery:Query finished.\n"
     ]
    },
    {
     "name": "stdout",
     "output_type": "stream",
     "text": [
      "INFO: Query finished. [astroquery.utils.tap.core]\n",
      "Found 1957  query results\n"
     ]
    },
    {
     "data": {
      "text/html": [
       "<div>\n",
       "<style scoped>\n",
       "    .dataframe tbody tr th:only-of-type {\n",
       "        vertical-align: middle;\n",
       "    }\n",
       "\n",
       "    .dataframe tbody tr th {\n",
       "        vertical-align: top;\n",
       "    }\n",
       "\n",
       "    .dataframe thead th {\n",
       "        text-align: right;\n",
       "    }\n",
       "</style>\n",
       "<table border=\"1\" class=\"dataframe\">\n",
       "  <thead>\n",
       "    <tr style=\"text-align: right;\">\n",
       "      <th></th>\n",
       "      <th>tile_index</th>\n",
       "      <th>id_str</th>\n",
       "      <th>target_ra</th>\n",
       "      <th>target_dec</th>\n",
       "      <th>target_field_of_view</th>\n",
       "    </tr>\n",
       "  </thead>\n",
       "  <tbody>\n",
       "    <tr>\n",
       "      <th>0</th>\n",
       "      <td>102021539</td>\n",
       "      <td>a</td>\n",
       "      <td>92.837184</td>\n",
       "      <td>-47.886892</td>\n",
       "      <td>100</td>\n",
       "    </tr>\n",
       "    <tr>\n",
       "      <th>1</th>\n",
       "      <td>102021539</td>\n",
       "      <td>b</td>\n",
       "      <td>92.836691</td>\n",
       "      <td>-48.111763</td>\n",
       "      <td>100</td>\n",
       "    </tr>\n",
       "    <tr>\n",
       "      <th>3</th>\n",
       "      <td>102021539</td>\n",
       "      <td>d</td>\n",
       "      <td>92.835561</td>\n",
       "      <td>-47.978437</td>\n",
       "      <td>100</td>\n",
       "    </tr>\n",
       "    <tr>\n",
       "      <th>4</th>\n",
       "      <td>102021539</td>\n",
       "      <td>e</td>\n",
       "      <td>92.835173</td>\n",
       "      <td>-48.105453</td>\n",
       "      <td>100</td>\n",
       "    </tr>\n",
       "    <tr>\n",
       "      <th>5</th>\n",
       "      <td>102021539</td>\n",
       "      <td>f</td>\n",
       "      <td>92.834398</td>\n",
       "      <td>-47.999302</td>\n",
       "      <td>100</td>\n",
       "    </tr>\n",
       "  </tbody>\n",
       "</table>\n",
       "</div>"
      ],
      "text/plain": [
       "   tile_index id_str  target_ra  target_dec  target_field_of_view\n",
       "0   102021539      a  92.837184  -47.886892                   100\n",
       "1   102021539      b  92.836691  -48.111763                   100\n",
       "3   102021539      d  92.835561  -47.978437                   100\n",
       "4   102021539      e  92.835173  -48.105453                   100\n",
       "5   102021539      f  92.834398  -47.999302                   100"
      ]
     },
     "execution_count": 43,
     "metadata": {},
     "output_type": "execute_result"
    }
   ],
   "source": [
    "targets_with_tiles = pipeline.get_matching_tiles(cfg, external_targets)\n",
    "targets_with_tiles"
   ]
  },
  {
   "cell_type": "code",
   "execution_count": 70,
   "metadata": {
    "tags": []
   },
   "outputs": [
    {
     "data": {
      "text/plain": [
       "[{'tile_index': 102021539,\n",
       "  'id_str': 'a',\n",
       "  'target_ra': 92.8371844681179,\n",
       "  'target_dec': -47.8868920683699,\n",
       "  'target_field_of_view': 100},\n",
       " {'tile_index': 102021539,\n",
       "  'id_str': 'b',\n",
       "  'target_ra': 92.836691187603,\n",
       "  'target_dec': -48.1117628801209,\n",
       "  'target_field_of_view': 100},\n",
       " {'tile_index': 102021539,\n",
       "  'id_str': 'd',\n",
       "  'target_ra': 92.835560566775,\n",
       "  'target_dec': -47.978437467137,\n",
       "  'target_field_of_view': 100},\n",
       " {'tile_index': 102021539,\n",
       "  'id_str': 'e',\n",
       "  'target_ra': 92.8351734327103,\n",
       "  'target_dec': -48.1054532354171,\n",
       "  'target_field_of_view': 100},\n",
       " {'tile_index': 102021539,\n",
       "  'id_str': 'f',\n",
       "  'target_ra': 92.8343976295701,\n",
       "  'target_dec': -47.9993017111107,\n",
       "  'target_field_of_view': 100}]"
      ]
     },
     "execution_count": 70,
     "metadata": {},
     "output_type": "execute_result"
    }
   ],
   "source": [
    "# targets_with_tiles.to_dict(orient='records')"
   ]
  },
  {
   "cell_type": "code",
   "execution_count": null,
   "metadata": {},
   "outputs": [],
   "source": []
  },
  {
   "cell_type": "code",
   "execution_count": 68,
   "metadata": {
    "tags": []
   },
   "outputs": [
    {
     "name": "stderr",
     "output_type": "stream",
     "text": [
      "INFO:astroquery:Query finished.\n"
     ]
    },
    {
     "name": "stdout",
     "output_type": "stream",
     "text": [
      "INFO: Query finished. [astroquery.utils.tap.core]\n",
      "Found 2  query results\n"
     ]
    }
   ],
   "source": [
    "pipeline.make_cutouts(cfg, targets_with_tiles)"
   ]
  },
  {
   "cell_type": "code",
   "execution_count": null,
   "metadata": {},
   "outputs": [],
   "source": []
  }
 ],
 "metadata": {
  "kernelspec": {
   "display_name": "EUCLID-TOOLS",
   "language": "python",
   "name": "euclid-tools"
  },
  "language_info": {
   "codemirror_mode": {
    "name": "ipython",
    "version": 3
   },
   "file_extension": ".py",
   "mimetype": "text/x-python",
   "name": "python",
   "nbconvert_exporter": "python",
   "pygments_lexer": "ipython3",
   "version": "3.9.0"
  }
 },
 "nbformat": 4,
 "nbformat_minor": 4
}
