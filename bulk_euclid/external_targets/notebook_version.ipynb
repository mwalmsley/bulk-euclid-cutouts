{
 "cells": [
  {
   "cell_type": "code",
   "execution_count": 1,
   "metadata": {
    "tags": []
   },
   "outputs": [],
   "source": [
    "%load_ext autoreload\n",
    "%autoreload 2"
   ]
  },
  {
   "cell_type": "code",
   "execution_count": 2,
   "metadata": {
    "tags": []
   },
   "outputs": [],
   "source": [
    "# hack the paths, no package install needed\n",
    "import sys\n",
    "import os\n",
    "repo_dir = '/media/user/repos/bulk-euclid-cutouts'\n",
    "os.path.isdir(repo_dir)\n",
    "sys.path.insert(0,repo_dir)"
   ]
  },
  {
   "cell_type": "code",
   "execution_count": 3,
   "metadata": {
    "tags": []
   },
   "outputs": [
    {
     "name": "stderr",
     "output_type": "stream",
     "text": [
      "INFO:matplotlib.font_manager:generated new fontManager\n",
      "/tmp/ipykernel_336/3545559080.py:8: DeprecationWarning: \n",
      "Pyarrow will become a required dependency of pandas in the next major release of pandas (pandas 3.0),\n",
      "(to allow more performant data types, such as the Arrow string type, and better interoperability with other libraries)\n",
      "but was not found to be installed on your system.\n",
      "If this would cause problems for you,\n",
      "please provide us feedback at https://github.com/pandas-dev/pandas/issues/54466\n",
      "        \n",
      "  import pandas as pd\n"
     ]
    }
   ],
   "source": [
    "import logging\n",
    "logging.basicConfig(level=logging.INFO)\n",
    "import os\n",
    "\n",
    "import numpy as np\n",
    "import matplotlib.pyplot as plt\n",
    "from omegaconf import OmegaConf\n",
    "import pandas as pd\n",
    "\n",
    "from bulk_euclid.utils import pipeline_utils\n",
    "from bulk_euclid.external_targets import pipeline"
   ]
  },
  {
   "cell_type": "markdown",
   "metadata": {},
   "source": [
    "### Authenticate"
   ]
  },
  {
   "cell_type": "code",
   "execution_count": 9,
   "metadata": {
    "tags": []
   },
   "outputs": [
    {
     "name": "stderr",
     "output_type": "stream",
     "text": [
      "INFO:astroquery:Login to Euclid TAP server\n"
     ]
    },
    {
     "name": "stdout",
     "output_type": "stream",
     "text": [
      "INFO: Login to Euclid TAP server [astroquery.esa.euclid.core]\n"
     ]
    },
    {
     "name": "stdin",
     "output_type": "stream",
     "text": [
      "User:  mwalms01\n",
      "Password:  ········\n"
     ]
    },
    {
     "name": "stderr",
     "output_type": "stream",
     "text": [
      "INFO:astroquery:OK\n",
      "INFO:astroquery:Login to Euclid data service\n",
      "INFO:astroquery:OK\n",
      "INFO:astroquery:Login to Euclid cutout service\n"
     ]
    },
    {
     "name": "stdout",
     "output_type": "stream",
     "text": [
      "INFO: OK [astroquery.utils.tap.core]\n",
      "INFO: Login to Euclid data service [astroquery.esa.euclid.core]\n",
      "INFO: OK [astroquery.utils.tap.core]\n",
      "INFO: Login to Euclid cutout service [astroquery.esa.euclid.core]\n"
     ]
    },
    {
     "name": "stderr",
     "output_type": "stream",
     "text": [
      "INFO:astroquery:OK\n"
     ]
    },
    {
     "name": "stdout",
     "output_type": "stream",
     "text": [
      "INFO: OK [astroquery.utils.tap.core]\n"
     ]
    }
   ],
   "source": [
    "# type in your COSMOS credentials\n",
    "from astroquery.esa.euclid.core import Euclid\n",
    "Euclid.login()"
   ]
  },
  {
   "cell_type": "markdown",
   "metadata": {},
   "source": [
    "### Set Pipeline Options and Load External Targets"
   ]
  },
  {
   "cell_type": "code",
   "execution_count": 5,
   "metadata": {
    "tags": []
   },
   "outputs": [
    {
     "name": "stderr",
     "output_type": "stream",
     "text": [
      "INFO:root:Saving to /media/home/team_workspaces/Euclid-Consortium/data/strong_lensing/external_targets_pipeline/latest\n"
     ]
    },
    {
     "data": {
      "text/plain": [
       "{'base_dir': '/media/home/team_workspaces/Euclid-Consortium/data/strong_lensing/external_targets_pipeline', 'name': 'latest', 'release_name': None, 'bands': ['VIS', 'NIR_Y', 'NIR_J'], 'auxillary_products': ['MERPSF', 'MERRMS'], 'release_priority': ['CALBLOCK_PV-005_R2', 'CALBLOCK_PV-005_R3', 'F-003_240321', 'F-003_240612', 'F-006'], 'download_dir': '/media/home/team_workspaces/Euclid-Consortium/data/strong_lensing/external_targets_pipeline/latest', 'tile_dir': '/media/home/team_workspaces/Euclid-Consortium/data/strong_lensing/external_targets_pipeline/latest/tiles', 'cutout_dir': '/media/home/team_workspaces/Euclid-Consortium/data/strong_lensing/external_targets_pipeline/latest/cutouts', 'fits_dir': '/media/home/team_workspaces/Euclid-Consortium/data/strong_lensing/external_targets_pipeline/latest/cutouts/fits', 'sanity_dir': '/media/home/team_workspaces/Euclid-Consortium/data/strong_lensing/external_targets_pipeline/latest/sanity'}"
      ]
     },
     "execution_count": 5,
     "metadata": {},
     "output_type": "execute_result"
    }
   ],
   "source": [
    "# or you can use this config to run for real\n",
    "\n",
    "cfg_dict = dict(\n",
    "    base_dir='/media/home/team_workspaces/Euclid-Consortium/data/strong_lensing/external_targets_pipeline',\n",
    "    name='latest',\n",
    "    release_name=None,  # allow tiles from any release\n",
    "    bands=['VIS', 'NIR_Y', 'NIR_J'],  \n",
    "    auxillary_products=['MERPSF','MERRMS'],  # ,'MERBKG'\n",
    "    release_priority=['CALBLOCK_PV-005_R2', 'CALBLOCK_PV-005_R3', 'F-003_240321', 'F-003_240612' , 'F-006'],\n",
    "    \n",
    "    # ignore these\n",
    "    download_dir=None,\n",
    "    tile_dir=None,\n",
    "    cutout_dir=None,\n",
    "    fits_dir=None,\n",
    "    sanity_dir=None\n",
    "    \n",
    ")\n",
    "cfg = OmegaConf.create(cfg_dict)  # easy to access with cfg.base_dir, etc\n",
    "pipeline.create_folders(cfg)  # fill in those missing paths\n"
   ]
  },
  {
   "cell_type": "code",
   "execution_count": 10,
   "metadata": {
    "tags": []
   },
   "outputs": [],
   "source": [
    "\n",
    "# TODO use your own csv, it just needs the columns specified here\n",
    "# external_targets = pd.read_csv('/media/home/my_workspace/combined_karina_strong_lens_classifications.csv', usecols=['id_str', 'target_ra', 'target_dec'])\n",
    "# external_targets['target_field_of_view'] = 20  # arcseconds\n",
    "\n",
    "external_targets = pd.read_csv('/media/home/my_workspace/repos/bulk-euclid-cutouts/bulk_euclid/external_targets/LRGs_4sims_all.csv')\n",
    "external_targets = external_targets.rename(columns={'ra': 'target_ra', 'dec': 'target_dec', 'ID': 'id_str'})\n",
    "del external_targets['Unnamed: 0']\n",
    "external_targets['target_field_of_view'] = 20  # arcseconds"
   ]
  },
  {
   "cell_type": "code",
   "execution_count": 12,
   "metadata": {
    "tags": []
   },
   "outputs": [
    {
     "data": {
      "text/plain": [
       "5410"
      ]
     },
     "execution_count": 12,
     "metadata": {},
     "output_type": "execute_result"
    }
   ],
   "source": [
    "len(external_targets)"
   ]
  },
  {
   "cell_type": "code",
   "execution_count": 11,
   "metadata": {
    "tags": []
   },
   "outputs": [
    {
     "data": {
      "text/plain": [
       "id_str                  5246\n",
       "target_ra               5239\n",
       "target_dec              5241\n",
       "vdisp                   5407\n",
       "z                       5410\n",
       "target_field_of_view       1\n",
       "dtype: int64"
      ]
     },
     "execution_count": 11,
     "metadata": {},
     "output_type": "execute_result"
    }
   ],
   "source": [
    "external_targets.nunique()"
   ]
  },
  {
   "cell_type": "code",
   "execution_count": 13,
   "metadata": {
    "tags": []
   },
   "outputs": [],
   "source": [
    "# TODO Karina, why are these duplicated?\n",
    "external_targets = external_targets.drop_duplicates(subset=['id_str'], keep='first')"
   ]
  },
  {
   "cell_type": "code",
   "execution_count": 14,
   "metadata": {
    "tags": []
   },
   "outputs": [
    {
     "data": {
      "text/plain": [
       "5246"
      ]
     },
     "execution_count": 14,
     "metadata": {},
     "output_type": "execute_result"
    }
   ],
   "source": [
    "len(external_targets)"
   ]
  },
  {
   "cell_type": "code",
   "execution_count": 15,
   "metadata": {
    "tags": []
   },
   "outputs": [],
   "source": [
    "assert not any(external_targets['id_str'].duplicated())"
   ]
  },
  {
   "cell_type": "code",
   "execution_count": 16,
   "metadata": {
    "tags": []
   },
   "outputs": [
    {
     "data": {
      "text/html": [
       "<div>\n",
       "<style scoped>\n",
       "    .dataframe tbody tr th:only-of-type {\n",
       "        vertical-align: middle;\n",
       "    }\n",
       "\n",
       "    .dataframe tbody tr th {\n",
       "        vertical-align: top;\n",
       "    }\n",
       "\n",
       "    .dataframe thead th {\n",
       "        text-align: right;\n",
       "    }\n",
       "</style>\n",
       "<table border=\"1\" class=\"dataframe\">\n",
       "  <thead>\n",
       "    <tr style=\"text-align: right;\">\n",
       "      <th></th>\n",
       "      <th>id_str</th>\n",
       "      <th>target_ra</th>\n",
       "      <th>target_dec</th>\n",
       "      <th>vdisp</th>\n",
       "      <th>z</th>\n",
       "      <th>target_field_of_view</th>\n",
       "    </tr>\n",
       "  </thead>\n",
       "  <tbody>\n",
       "    <tr>\n",
       "      <th>0</th>\n",
       "      <td>EUC_15898_DESI-sel</td>\n",
       "      <td>268.870653</td>\n",
       "      <td>65.253093</td>\n",
       "      <td>238.68835</td>\n",
       "      <td>0.587760</td>\n",
       "      <td>20</td>\n",
       "    </tr>\n",
       "    <tr>\n",
       "      <th>1</th>\n",
       "      <td>EUC_2767_DESI-sel</td>\n",
       "      <td>150.341459</td>\n",
       "      <td>1.864402</td>\n",
       "      <td>212.48692</td>\n",
       "      <td>0.971600</td>\n",
       "      <td>20</td>\n",
       "    </tr>\n",
       "    <tr>\n",
       "      <th>2</th>\n",
       "      <td>EUC_2771_DESI-sel</td>\n",
       "      <td>150.364732</td>\n",
       "      <td>1.846961</td>\n",
       "      <td>273.08682</td>\n",
       "      <td>0.973256</td>\n",
       "      <td>20</td>\n",
       "    </tr>\n",
       "    <tr>\n",
       "      <th>3</th>\n",
       "      <td>EUC_21374_DESI-sel</td>\n",
       "      <td>267.736754</td>\n",
       "      <td>66.934327</td>\n",
       "      <td>189.43880</td>\n",
       "      <td>0.882198</td>\n",
       "      <td>20</td>\n",
       "    </tr>\n",
       "    <tr>\n",
       "      <th>4</th>\n",
       "      <td>EUC_17153_DESI-sel</td>\n",
       "      <td>272.923035</td>\n",
       "      <td>65.479365</td>\n",
       "      <td>278.98535</td>\n",
       "      <td>0.790216</td>\n",
       "      <td>20</td>\n",
       "    </tr>\n",
       "    <tr>\n",
       "      <th>...</th>\n",
       "      <td>...</td>\n",
       "      <td>...</td>\n",
       "      <td>...</td>\n",
       "      <td>...</td>\n",
       "      <td>...</td>\n",
       "      <td>...</td>\n",
       "    </tr>\n",
       "    <tr>\n",
       "      <th>5405</th>\n",
       "      <td>1237658609296933558</td>\n",
       "      <td>183.553030</td>\n",
       "      <td>68.557539</td>\n",
       "      <td>232.60570</td>\n",
       "      <td>0.540458</td>\n",
       "      <td>20</td>\n",
       "    </tr>\n",
       "    <tr>\n",
       "      <th>5406</th>\n",
       "      <td>1237658609296999171</td>\n",
       "      <td>183.020430</td>\n",
       "      <td>68.733176</td>\n",
       "      <td>383.99590</td>\n",
       "      <td>0.642441</td>\n",
       "      <td>20</td>\n",
       "    </tr>\n",
       "    <tr>\n",
       "      <th>5407</th>\n",
       "      <td>1237658609833870020</td>\n",
       "      <td>181.954280</td>\n",
       "      <td>68.700344</td>\n",
       "      <td>305.64170</td>\n",
       "      <td>0.520235</td>\n",
       "      <td>20</td>\n",
       "    </tr>\n",
       "    <tr>\n",
       "      <th>5408</th>\n",
       "      <td>1237671751363723635</td>\n",
       "      <td>180.609610</td>\n",
       "      <td>68.433166</td>\n",
       "      <td>231.08930</td>\n",
       "      <td>0.628734</td>\n",
       "      <td>20</td>\n",
       "    </tr>\n",
       "    <tr>\n",
       "      <th>5409</th>\n",
       "      <td>1237671751363723662</td>\n",
       "      <td>180.794080</td>\n",
       "      <td>68.441164</td>\n",
       "      <td>228.26530</td>\n",
       "      <td>0.397273</td>\n",
       "      <td>20</td>\n",
       "    </tr>\n",
       "  </tbody>\n",
       "</table>\n",
       "<p>5246 rows × 6 columns</p>\n",
       "</div>"
      ],
      "text/plain": [
       "                   id_str   target_ra  target_dec      vdisp         z  \\\n",
       "0      EUC_15898_DESI-sel  268.870653   65.253093  238.68835  0.587760   \n",
       "1       EUC_2767_DESI-sel  150.341459    1.864402  212.48692  0.971600   \n",
       "2       EUC_2771_DESI-sel  150.364732    1.846961  273.08682  0.973256   \n",
       "3      EUC_21374_DESI-sel  267.736754   66.934327  189.43880  0.882198   \n",
       "4      EUC_17153_DESI-sel  272.923035   65.479365  278.98535  0.790216   \n",
       "...                   ...         ...         ...        ...       ...   \n",
       "5405  1237658609296933558  183.553030   68.557539  232.60570  0.540458   \n",
       "5406  1237658609296999171  183.020430   68.733176  383.99590  0.642441   \n",
       "5407  1237658609833870020  181.954280   68.700344  305.64170  0.520235   \n",
       "5408  1237671751363723635  180.609610   68.433166  231.08930  0.628734   \n",
       "5409  1237671751363723662  180.794080   68.441164  228.26530  0.397273   \n",
       "\n",
       "      target_field_of_view  \n",
       "0                       20  \n",
       "1                       20  \n",
       "2                       20  \n",
       "3                       20  \n",
       "4                       20  \n",
       "...                    ...  \n",
       "5405                    20  \n",
       "5406                    20  \n",
       "5407                    20  \n",
       "5408                    20  \n",
       "5409                    20  \n",
       "\n",
       "[5246 rows x 6 columns]"
      ]
     },
     "execution_count": 16,
     "metadata": {},
     "output_type": "execute_result"
    }
   ],
   "source": [
    "external_targets"
   ]
  },
  {
   "cell_type": "markdown",
   "metadata": {},
   "source": [
    "### For each target, find a tile that covers it"
   ]
  },
  {
   "cell_type": "code",
   "execution_count": 17,
   "metadata": {
    "tags": []
   },
   "outputs": [
    {
     "name": "stderr",
     "output_type": "stream",
     "text": [
      "INFO:astroquery:Query finished.\n",
      "INFO:root:Found 2514 query results\n",
      "INFO:root:Begin target/tile cross-match\n"
     ]
    },
    {
     "name": "stdout",
     "output_type": "stream",
     "text": [
      "INFO: Query finished. [astroquery.utils.tap.core]\n"
     ]
    },
    {
     "name": "stderr",
     "output_type": "stream",
     "text": [
      "INFO:root:Matched 5246 targets to 194 tiles\n",
      "INFO:root:Targets with tile matches: 5177\n",
      "/media/user/repos/bulk-euclid-cutouts/bulk_euclid/external_targets/pipeline.py:144: SettingWithCopyWarning: \n",
      "A value is trying to be set on a copy of a slice from a DataFrame.\n",
      "Try using .loc[row_indexer,col_indexer] = value instead\n",
      "\n",
      "See the caveats in the documentation: https://pandas.pydata.org/pandas-docs/stable/user_guide/indexing.html#returning-a-view-versus-a-copy\n",
      "  targets_with_tiles[\"tile_index\"] = targets_with_tiles[\"tile_index\"].astype(int)\n"
     ]
    },
    {
     "data": {
      "text/html": [
       "<div>\n",
       "<style scoped>\n",
       "    .dataframe tbody tr th:only-of-type {\n",
       "        vertical-align: middle;\n",
       "    }\n",
       "\n",
       "    .dataframe tbody tr th {\n",
       "        vertical-align: top;\n",
       "    }\n",
       "\n",
       "    .dataframe thead th {\n",
       "        text-align: right;\n",
       "    }\n",
       "</style>\n",
       "<table border=\"1\" class=\"dataframe\">\n",
       "  <thead>\n",
       "    <tr style=\"text-align: right;\">\n",
       "      <th></th>\n",
       "      <th>id_str</th>\n",
       "      <th>target_ra</th>\n",
       "      <th>target_dec</th>\n",
       "      <th>vdisp</th>\n",
       "      <th>z</th>\n",
       "      <th>target_field_of_view</th>\n",
       "      <th>tile_index</th>\n",
       "      <th>release_name</th>\n",
       "    </tr>\n",
       "  </thead>\n",
       "  <tbody>\n",
       "    <tr>\n",
       "      <th>0</th>\n",
       "      <td>EUC_15898_DESI-sel</td>\n",
       "      <td>268.870653</td>\n",
       "      <td>65.253093</td>\n",
       "      <td>238.68835</td>\n",
       "      <td>0.587760</td>\n",
       "      <td>20</td>\n",
       "      <td>102158890</td>\n",
       "      <td>F-003_240612</td>\n",
       "    </tr>\n",
       "    <tr>\n",
       "      <th>1</th>\n",
       "      <td>EUC_2767_DESI-sel</td>\n",
       "      <td>150.341459</td>\n",
       "      <td>1.864402</td>\n",
       "      <td>212.48692</td>\n",
       "      <td>0.971600</td>\n",
       "      <td>20</td>\n",
       "      <td>101542818</td>\n",
       "      <td>CALBLOCK_PV-005_R2</td>\n",
       "    </tr>\n",
       "    <tr>\n",
       "      <th>2</th>\n",
       "      <td>EUC_2771_DESI-sel</td>\n",
       "      <td>150.364732</td>\n",
       "      <td>1.846961</td>\n",
       "      <td>273.08682</td>\n",
       "      <td>0.973256</td>\n",
       "      <td>20</td>\n",
       "      <td>101541378</td>\n",
       "      <td>CALBLOCK_PV-005_R2</td>\n",
       "    </tr>\n",
       "    <tr>\n",
       "      <th>3</th>\n",
       "      <td>EUC_21374_DESI-sel</td>\n",
       "      <td>267.736754</td>\n",
       "      <td>66.934327</td>\n",
       "      <td>189.43880</td>\n",
       "      <td>0.882198</td>\n",
       "      <td>20</td>\n",
       "      <td>102159774</td>\n",
       "      <td>F-003_240612</td>\n",
       "    </tr>\n",
       "    <tr>\n",
       "      <th>4</th>\n",
       "      <td>EUC_17153_DESI-sel</td>\n",
       "      <td>272.923035</td>\n",
       "      <td>65.479365</td>\n",
       "      <td>278.98535</td>\n",
       "      <td>0.790216</td>\n",
       "      <td>20</td>\n",
       "      <td>102158894</td>\n",
       "      <td>F-003_240612</td>\n",
       "    </tr>\n",
       "    <tr>\n",
       "      <th>...</th>\n",
       "      <td>...</td>\n",
       "      <td>...</td>\n",
       "      <td>...</td>\n",
       "      <td>...</td>\n",
       "      <td>...</td>\n",
       "      <td>...</td>\n",
       "      <td>...</td>\n",
       "      <td>...</td>\n",
       "    </tr>\n",
       "    <tr>\n",
       "      <th>5172</th>\n",
       "      <td>1237658609296933558</td>\n",
       "      <td>183.553030</td>\n",
       "      <td>68.557539</td>\n",
       "      <td>232.60570</td>\n",
       "      <td>0.540458</td>\n",
       "      <td>20</td>\n",
       "      <td>102160544</td>\n",
       "      <td>F-006</td>\n",
       "    </tr>\n",
       "    <tr>\n",
       "      <th>5173</th>\n",
       "      <td>1237658609296999171</td>\n",
       "      <td>183.020430</td>\n",
       "      <td>68.733176</td>\n",
       "      <td>383.99590</td>\n",
       "      <td>0.642441</td>\n",
       "      <td>20</td>\n",
       "      <td>102160810</td>\n",
       "      <td>F-006</td>\n",
       "    </tr>\n",
       "    <tr>\n",
       "      <th>5174</th>\n",
       "      <td>1237658609833870020</td>\n",
       "      <td>181.954280</td>\n",
       "      <td>68.700344</td>\n",
       "      <td>305.64170</td>\n",
       "      <td>0.520235</td>\n",
       "      <td>20</td>\n",
       "      <td>102160810</td>\n",
       "      <td>F-006</td>\n",
       "    </tr>\n",
       "    <tr>\n",
       "      <th>5175</th>\n",
       "      <td>1237671751363723635</td>\n",
       "      <td>180.609610</td>\n",
       "      <td>68.433166</td>\n",
       "      <td>231.08930</td>\n",
       "      <td>0.628734</td>\n",
       "      <td>20</td>\n",
       "      <td>102160541</td>\n",
       "      <td>F-006</td>\n",
       "    </tr>\n",
       "    <tr>\n",
       "      <th>5176</th>\n",
       "      <td>1237671751363723662</td>\n",
       "      <td>180.794080</td>\n",
       "      <td>68.441164</td>\n",
       "      <td>228.26530</td>\n",
       "      <td>0.397273</td>\n",
       "      <td>20</td>\n",
       "      <td>102160541</td>\n",
       "      <td>F-006</td>\n",
       "    </tr>\n",
       "  </tbody>\n",
       "</table>\n",
       "<p>5177 rows × 8 columns</p>\n",
       "</div>"
      ],
      "text/plain": [
       "                   id_str   target_ra  target_dec      vdisp         z  \\\n",
       "0      EUC_15898_DESI-sel  268.870653   65.253093  238.68835  0.587760   \n",
       "1       EUC_2767_DESI-sel  150.341459    1.864402  212.48692  0.971600   \n",
       "2       EUC_2771_DESI-sel  150.364732    1.846961  273.08682  0.973256   \n",
       "3      EUC_21374_DESI-sel  267.736754   66.934327  189.43880  0.882198   \n",
       "4      EUC_17153_DESI-sel  272.923035   65.479365  278.98535  0.790216   \n",
       "...                   ...         ...         ...        ...       ...   \n",
       "5172  1237658609296933558  183.553030   68.557539  232.60570  0.540458   \n",
       "5173  1237658609296999171  183.020430   68.733176  383.99590  0.642441   \n",
       "5174  1237658609833870020  181.954280   68.700344  305.64170  0.520235   \n",
       "5175  1237671751363723635  180.609610   68.433166  231.08930  0.628734   \n",
       "5176  1237671751363723662  180.794080   68.441164  228.26530  0.397273   \n",
       "\n",
       "      target_field_of_view  tile_index        release_name  \n",
       "0                       20   102158890        F-003_240612  \n",
       "1                       20   101542818  CALBLOCK_PV-005_R2  \n",
       "2                       20   101541378  CALBLOCK_PV-005_R2  \n",
       "3                       20   102159774        F-003_240612  \n",
       "4                       20   102158894        F-003_240612  \n",
       "...                    ...         ...                 ...  \n",
       "5172                    20   102160544               F-006  \n",
       "5173                    20   102160810               F-006  \n",
       "5174                    20   102160810               F-006  \n",
       "5175                    20   102160541               F-006  \n",
       "5176                    20   102160541               F-006  \n",
       "\n",
       "[5177 rows x 8 columns]"
      ]
     },
     "execution_count": 17,
     "metadata": {},
     "output_type": "execute_result"
    }
   ],
   "source": [
    "targets_with_tiles = pipeline.get_matching_tiles(cfg, external_targets)\n",
    "targets_with_tiles"
   ]
  },
  {
   "cell_type": "code",
   "execution_count": 18,
   "metadata": {
    "tags": []
   },
   "outputs": [
    {
     "data": {
      "text/plain": [
       "release_name\n",
       "F-003_240612          2758\n",
       "F-006                 2004\n",
       "CALBLOCK_PV-005_R2     363\n",
       "F-003_240321            52\n",
       "Name: count, dtype: int64"
      ]
     },
     "execution_count": 18,
     "metadata": {},
     "output_type": "execute_result"
    }
   ],
   "source": [
    "targets_with_tiles['release_name'].value_counts()"
   ]
  },
  {
   "cell_type": "code",
   "execution_count": 19,
   "metadata": {
    "tags": []
   },
   "outputs": [],
   "source": [
    "targets_with_tiles = targets_with_tiles.sort_values('tile_index') # [:1000]"
   ]
  },
  {
   "cell_type": "markdown",
   "metadata": {},
   "source": [
    "The speed of the pipeline depends on the number of tiles to download. It takes a few minutes per tile."
   ]
  },
  {
   "cell_type": "code",
   "execution_count": 20,
   "metadata": {
    "tags": []
   },
   "outputs": [
    {
     "data": {
      "text/plain": [
       "(193, 5177)"
      ]
     },
     "execution_count": 20,
     "metadata": {},
     "output_type": "execute_result"
    }
   ],
   "source": [
    "targets_with_tiles['tile_index'].nunique(), len(targets_with_tiles)"
   ]
  },
  {
   "cell_type": "markdown",
   "metadata": {},
   "source": [
    "### For every tile, download the flux and auxillary (PSF, RMS, BKG) data and make cutouts around each target in that tile"
   ]
  },
  {
   "cell_type": "code",
   "execution_count": null,
   "metadata": {
    "tags": []
   },
   "outputs": [
    {
     "name": "stderr",
     "output_type": "stream",
     "text": [
      "INFO:root:Tile 101541377, 0 of 193\n",
      "INFO:astroquery:Query finished.\n",
      "INFO:root:Found 3 query results\n"
     ]
    },
    {
     "name": "stdout",
     "output_type": "stream",
     "text": [
      "INFO: Query finished. [astroquery.utils.tap.core]\n"
     ]
    },
    {
     "name": "stderr",
     "output_type": "stream",
     "text": [
      "INFO:root:Downloaded: {'VIS': {'FLUX': '/media/home/team_workspaces/Euclid-Consortium/data/strong_lensing/external_targets_pipeline/latest/tiles/EUC_MER_BGSUB-MOSAIC-VIS_TILE101541377-2E186_20240201T190014.111492Z_00.00.fits', 'MERPSF': '/media/home/team_workspaces/Euclid-Consortium/data/strong_lensing/external_targets_pipeline/latest/tiles/EUC_MER_CATALOG-PSF-VIS_TILE101541377-B2B5C3_20240201T190536.758003Z_00.00.fits', 'MERRMS': '/media/home/team_workspaces/Euclid-Consortium/data/strong_lensing/external_targets_pipeline/latest/tiles/EUC_MER_MOSAIC-VIS-RMS_TILE101541377-E3AEDE_20240201T185327.031980Z_00.00.fits'}, 'NIR_Y': {'FLUX': '/media/home/team_workspaces/Euclid-Consortium/data/strong_lensing/external_targets_pipeline/latest/tiles/EUC_MER_BGSUB-MOSAIC-NIR-Y_TILE101541377-6F8891_20240201T185319.156397Z_00.00.fits', 'MERRMS': '/media/home/team_workspaces/Euclid-Consortium/data/strong_lensing/external_targets_pipeline/latest/tiles/EUC_MER_MOSAIC-NIR-Y-RMS_TILE101541377-6B4880_20240201T185125.926490Z_00.00.fits', 'MERPSF': '/media/home/team_workspaces/Euclid-Consortium/data/strong_lensing/external_targets_pipeline/latest/tiles/EUC_MER_CATALOG-PSF-NIR-Y_TILE101541377-6C3E90_20240201T190440.680905Z_00.00.fits'}, 'NIR_J': {'FLUX': '/media/home/team_workspaces/Euclid-Consortium/data/strong_lensing/external_targets_pipeline/latest/tiles/EUC_MER_BGSUB-MOSAIC-NIR-J_TILE101541377-56115E_20240201T185356.411744Z_00.00.fits', 'MERPSF': '/media/home/team_workspaces/Euclid-Consortium/data/strong_lensing/external_targets_pipeline/latest/tiles/EUC_MER_CATALOG-PSF-NIR-J_TILE101541377-8C6D5D_20240201T190445.421918Z_00.00.fits', 'MERRMS': '/media/home/team_workspaces/Euclid-Consortium/data/strong_lensing/external_targets_pipeline/latest/tiles/EUC_MER_MOSAIC-NIR-J-RMS_TILE101541377-88F8C6_20240201T185157.303988Z_00.00.fits'}}\n",
      "CRITICAL:root:Error saving cutout for target 1237651753460367781\n",
      "CRITICAL:root:1237651753460367781.fits: Flux in VIS data is empty, likely a SAS error\n",
      "CRITICAL:root:Error saving cutout for target 1237651736280760687\n",
      "CRITICAL:root:1237651736280760687.fits: Flux in VIS data is empty, likely a SAS error\n",
      "CRITICAL:root:Error saving cutout for target 1237651753460302053\n",
      "CRITICAL:root:1237651753460302053.fits: Flux in VIS data is empty, likely a SAS error\n",
      "CRITICAL:root:Error saving cutout for target 1237651753460367440\n",
      "CRITICAL:root:1237651753460367440.fits: Flux in VIS data is empty, likely a SAS error\n",
      "CRITICAL:root:Error saving cutout for target EUC_2694_DESI-sel\n",
      "CRITICAL:root:EUC_2694_DESI-sel.fits: Flux in NIR_Y data is empty, likely a SAS error\n",
      "INFO:root:Tile 101541378, 1 of 193\n",
      "INFO:astroquery:Query finished.\n",
      "INFO:root:Found 3 query results\n"
     ]
    },
    {
     "name": "stdout",
     "output_type": "stream",
     "text": [
      "INFO: Query finished. [astroquery.utils.tap.core]\n"
     ]
    },
    {
     "name": "stderr",
     "output_type": "stream",
     "text": [
      "INFO:root:Downloaded: {'VIS': {'FLUX': '/media/home/team_workspaces/Euclid-Consortium/data/strong_lensing/external_targets_pipeline/latest/tiles/EUC_MER_BGSUB-MOSAIC-VIS_TILE101541378-737592_20240201T222127.194874Z_00.00.fits', 'MERRMS': '/media/home/team_workspaces/Euclid-Consortium/data/strong_lensing/external_targets_pipeline/latest/tiles/EUC_MER_MOSAIC-VIS-RMS_TILE101541378-65ED95_20240201T212225.072536Z_00.00.fits', 'MERPSF': '/media/home/team_workspaces/Euclid-Consortium/data/strong_lensing/external_targets_pipeline/latest/tiles/EUC_MER_CATALOG-PSF-VIS_TILE101541378-F7549B_20240201T223446.135532Z_00.00.fits'}, 'NIR_Y': {'FLUX': '/media/home/team_workspaces/Euclid-Consortium/data/strong_lensing/external_targets_pipeline/latest/tiles/EUC_MER_BGSUB-MOSAIC-NIR-Y_TILE101541378-143B40_20240201T213700.381755Z_00.00.fits', 'MERPSF': '/media/home/team_workspaces/Euclid-Consortium/data/strong_lensing/external_targets_pipeline/latest/tiles/EUC_MER_CATALOG-PSF-NIR-Y_TILE101541378-EB7826_20240201T223205.175217Z_00.00.fits', 'MERRMS': '/media/home/team_workspaces/Euclid-Consortium/data/strong_lensing/external_targets_pipeline/latest/tiles/EUC_MER_MOSAIC-NIR-Y-RMS_TILE101541378-85C56A_20240201T211736.192485Z_00.00.fits'}, 'NIR_J': {'FLUX': '/media/home/team_workspaces/Euclid-Consortium/data/strong_lensing/external_targets_pipeline/latest/tiles/EUC_MER_BGSUB-MOSAIC-NIR-J_TILE101541378-8EE8D9_20240201T213247.321130Z_00.00.fits', 'MERRMS': '/media/home/team_workspaces/Euclid-Consortium/data/strong_lensing/external_targets_pipeline/latest/tiles/EUC_MER_MOSAIC-NIR-J-RMS_TILE101541378-723B15_20240201T211605.032152Z_00.00.fits', 'MERPSF': '/media/home/team_workspaces/Euclid-Consortium/data/strong_lensing/external_targets_pipeline/latest/tiles/EUC_MER_CATALOG-PSF-NIR-J_TILE101541378-CFCD5A_20240201T223156.565276Z_00.00.fits'}}\n",
      "CRITICAL:root:Error saving cutout for target 1237651753460498947\n",
      "CRITICAL:root:1237651753460498947.fits: Flux in VIS data is empty, likely a SAS error\n",
      "CRITICAL:root:Error saving cutout for target 1237651753460433520\n",
      "CRITICAL:root:1237651753460433520.fits: Flux in VIS data is empty, likely a SAS error\n",
      "CRITICAL:root:Error saving cutout for target 1237651753460498665\n",
      "CRITICAL:root:1237651753460498665.fits: Flux in VIS data is empty, likely a SAS error\n",
      "CRITICAL:root:Error saving cutout for target 1237651753460432987\n",
      "CRITICAL:root:1237651753460432987.fits: Flux in VIS data is empty, likely a SAS error\n",
      "CRITICAL:root:Error saving cutout for target 1237651753460433127\n",
      "CRITICAL:root:1237651753460433127.fits: Flux in VIS data is empty, likely a SAS error\n",
      "CRITICAL:root:Error saving cutout for target 1237651753460433174\n",
      "CRITICAL:root:1237651753460433174.fits: Flux in VIS data is empty, likely a SAS error\n",
      "CRITICAL:root:Error saving cutout for target 1237651753460498509\n",
      "CRITICAL:root:1237651753460498509.fits: Flux in VIS data is empty, likely a SAS error\n",
      "CRITICAL:root:Error saving cutout for target 1237651753460498772\n",
      "CRITICAL:root:1237651753460498772.fits: Flux in VIS data is empty, likely a SAS error\n",
      "CRITICAL:root:Error saving cutout for target 1237651753460433468\n",
      "CRITICAL:root:1237651753460433468.fits: Flux in VIS data is empty, likely a SAS error\n",
      "INFO:root:Tile 101542815, 2 of 193\n",
      "INFO:astroquery:Query finished.\n",
      "INFO:root:Found 3 query results\n"
     ]
    },
    {
     "name": "stdout",
     "output_type": "stream",
     "text": [
      "INFO: Query finished. [astroquery.utils.tap.core]\n"
     ]
    },
    {
     "name": "stderr",
     "output_type": "stream",
     "text": [
      "INFO:root:Downloaded: {'NIR_J': {'FLUX': '/media/home/team_workspaces/Euclid-Consortium/data/strong_lensing/external_targets_pipeline/latest/tiles/EUC_MER_BGSUB-MOSAIC-NIR-J_TILE101542815-905DE7_20240202T015335.418982Z_00.00.fits', 'MERRMS': '/media/home/team_workspaces/Euclid-Consortium/data/strong_lensing/external_targets_pipeline/latest/tiles/EUC_MER_MOSAIC-NIR-J-RMS_TILE101542815-92EBCA_20240202T005838.027364Z_00.00.fits', 'MERPSF': '/media/home/team_workspaces/Euclid-Consortium/data/strong_lensing/external_targets_pipeline/latest/tiles/EUC_MER_CATALOG-PSF-NIR-J_TILE101542815-F2252_20240202T034259.105872Z_00.00.fits'}, 'VIS': {'FLUX': '/media/home/team_workspaces/Euclid-Consortium/data/strong_lensing/external_targets_pipeline/latest/tiles/EUC_MER_BGSUB-MOSAIC-VIS_TILE101542815-6EE6A8_20240202T030624.226382Z_00.00.fits', 'MERRMS': '/media/home/team_workspaces/Euclid-Consortium/data/strong_lensing/external_targets_pipeline/latest/tiles/EUC_MER_MOSAIC-VIS-RMS_TILE101542815-131AF_20240202T011958.570311Z_00.00.fits', 'MERPSF': '/media/home/team_workspaces/Euclid-Consortium/data/strong_lensing/external_targets_pipeline/latest/tiles/EUC_MER_CATALOG-PSF-VIS_TILE101542815-61875A_20240202T040113.142605Z_00.00.fits'}, 'NIR_Y': {'FLUX': '/media/home/team_workspaces/Euclid-Consortium/data/strong_lensing/external_targets_pipeline/latest/tiles/EUC_MER_BGSUB-MOSAIC-NIR-Y_TILE101542815-187C30_20240202T014913.848828Z_00.00.fits', 'MERPSF': '/media/home/team_workspaces/Euclid-Consortium/data/strong_lensing/external_targets_pipeline/latest/tiles/EUC_MER_CATALOG-PSF-NIR-Y_TILE101542815-416415_20240202T034333.490779Z_00.00.fits', 'MERRMS': '/media/home/team_workspaces/Euclid-Consortium/data/strong_lensing/external_targets_pipeline/latest/tiles/EUC_MER_MOSAIC-NIR-Y-RMS_TILE101542815-37E4DC_20240202T010141.774826Z_00.00.fits'}}\n",
      "CRITICAL:root:Error saving cutout for target 1237653664721732214\n",
      "CRITICAL:root:1237653664721732214.fits: Flux in VIS data is empty, likely a SAS error\n",
      "CRITICAL:root:Error saving cutout for target 1237653664721732401\n",
      "CRITICAL:root:1237653664721732401.fits: Flux in VIS data is empty, likely a SAS error\n",
      "CRITICAL:root:Error saving cutout for target 1237653664721732439\n",
      "CRITICAL:root:1237653664721732439.fits: Flux in VIS data is empty, likely a SAS error\n",
      "CRITICAL:root:Error saving cutout for target 1237653664721797547\n",
      "CRITICAL:root:1237653664721797547.fits: Flux in VIS data is empty, likely a SAS error\n",
      "INFO:root:Tile 101542816, 3 of 193\n",
      "INFO:astroquery:Query finished.\n",
      "INFO:root:Found 3 query results\n"
     ]
    },
    {
     "name": "stdout",
     "output_type": "stream",
     "text": [
      "INFO: Query finished. [astroquery.utils.tap.core]\n"
     ]
    },
    {
     "name": "stderr",
     "output_type": "stream",
     "text": [
      "INFO:root:Downloaded: {'NIR_J': {'FLUX': '/media/home/team_workspaces/Euclid-Consortium/data/strong_lensing/external_targets_pipeline/latest/tiles/EUC_MER_BGSUB-MOSAIC-NIR-J_TILE101542816-60E4BB_20240202T181033.472901Z_00.00.fits', 'MERRMS': '/media/home/team_workspaces/Euclid-Consortium/data/strong_lensing/external_targets_pipeline/latest/tiles/EUC_MER_MOSAIC-NIR-J-RMS_TILE101542816-32748A_20240202T045945.243937Z_00.00.fits', 'MERPSF': '/media/home/team_workspaces/Euclid-Consortium/data/strong_lensing/external_targets_pipeline/latest/tiles/EUC_MER_CATALOG-PSF-NIR-J_TILE101542816-7DE492_20240202T221911.869240Z_00.00.fits'}, 'VIS': {'FLUX': '/media/home/team_workspaces/Euclid-Consortium/data/strong_lensing/external_targets_pipeline/latest/tiles/EUC_MER_BGSUB-MOSAIC-VIS_TILE101542816-9D896F_20240202T214149.632762Z_00.00.fits', 'MERPSF': '/media/home/team_workspaces/Euclid-Consortium/data/strong_lensing/external_targets_pipeline/latest/tiles/EUC_MER_CATALOG-PSF-VIS_TILE101542816-73FF22_20240202T223242.309867Z_00.00.fits', 'MERRMS': '/media/home/team_workspaces/Euclid-Consortium/data/strong_lensing/external_targets_pipeline/latest/tiles/EUC_MER_MOSAIC-VIS-RMS_TILE101542816-6CA304_20240202T045220.870090Z_00.00.fits'}, 'NIR_Y': {'FLUX': '/media/home/team_workspaces/Euclid-Consortium/data/strong_lensing/external_targets_pipeline/latest/tiles/EUC_MER_BGSUB-MOSAIC-NIR-Y_TILE101542816-D8A9F1_20240202T181013.275096Z_00.00.fits', 'MERRMS': '/media/home/team_workspaces/Euclid-Consortium/data/strong_lensing/external_targets_pipeline/latest/tiles/EUC_MER_MOSAIC-NIR-Y-RMS_TILE101542816-50217A_20240202T050152.991686Z_00.00.fits', 'MERPSF': '/media/home/team_workspaces/Euclid-Consortium/data/strong_lensing/external_targets_pipeline/latest/tiles/EUC_MER_CATALOG-PSF-NIR-Y_TILE101542816-FC3D4E_20240202T221903.902709Z_00.00.fits'}}\n",
      "CRITICAL:root:Error saving cutout for target 1237653664721928354\n",
      "CRITICAL:root:1237653664721928354.fits: Flux in VIS data is empty, likely a SAS error\n",
      "CRITICAL:root:Error saving cutout for target 1237653664721863149\n",
      "CRITICAL:root:1237653664721863149.fits: Flux in VIS data is empty, likely a SAS error\n",
      "INFO:root:Tile 101542817, 4 of 193\n",
      "INFO:astroquery:Query finished.\n",
      "INFO:root:Found 3 query results\n"
     ]
    },
    {
     "name": "stdout",
     "output_type": "stream",
     "text": [
      "INFO: Query finished. [astroquery.utils.tap.core]\n"
     ]
    },
    {
     "name": "stderr",
     "output_type": "stream",
     "text": [
      "INFO:root:Downloaded: {'NIR_J': {'FLUX': '/media/home/team_workspaces/Euclid-Consortium/data/strong_lensing/external_targets_pipeline/latest/tiles/EUC_MER_BGSUB-MOSAIC-NIR-J_TILE101542817-D69DA9_20240202T211824.573381Z_00.00.fits', 'MERRMS': '/media/home/team_workspaces/Euclid-Consortium/data/strong_lensing/external_targets_pipeline/latest/tiles/EUC_MER_MOSAIC-NIR-J-RMS_TILE101542817-2AC62B_20240202T031937.242180Z_00.00.fits', 'MERPSF': '/media/home/team_workspaces/Euclid-Consortium/data/strong_lensing/external_targets_pipeline/latest/tiles/EUC_MER_CATALOG-PSF-NIR-J_TILE101542817-67E010_20240203T012443.489739Z_00.00.fits'}, 'NIR_Y': {'FLUX': '/media/home/team_workspaces/Euclid-Consortium/data/strong_lensing/external_targets_pipeline/latest/tiles/EUC_MER_BGSUB-MOSAIC-NIR-Y_TILE101542817-35BCF7_20240202T210442.395814Z_00.00.fits', 'MERPSF': '/media/home/team_workspaces/Euclid-Consortium/data/strong_lensing/external_targets_pipeline/latest/tiles/EUC_MER_CATALOG-PSF-NIR-Y_TILE101542817-DEF69E_20240203T012438.115172Z_00.00.fits', 'MERRMS': '/media/home/team_workspaces/Euclid-Consortium/data/strong_lensing/external_targets_pipeline/latest/tiles/EUC_MER_MOSAIC-NIR-Y-RMS_TILE101542817-C0DC0B_20240202T031918.874882Z_00.00.fits'}, 'VIS': {'FLUX': '/media/home/team_workspaces/Euclid-Consortium/data/strong_lensing/external_targets_pipeline/latest/tiles/EUC_MER_BGSUB-MOSAIC-VIS_TILE101542817-770761_20240203T003605.150183Z_00.00.fits', 'MERPSF': '/media/home/team_workspaces/Euclid-Consortium/data/strong_lensing/external_targets_pipeline/latest/tiles/EUC_MER_CATALOG-PSF-VIS_TILE101542817-B5C3E_20240203T013620.063725Z_00.00.fits', 'MERRMS': '/media/home/team_workspaces/Euclid-Consortium/data/strong_lensing/external_targets_pipeline/latest/tiles/EUC_MER_MOSAIC-VIS-RMS_TILE101542817-2CA7D5_20240202T034524.263370Z_00.00.fits'}}\n",
      "CRITICAL:root:Error saving cutout for target 1237651736280695294\n",
      "CRITICAL:root:1237651736280695294.fits: Flux in VIS data is empty, likely a SAS error\n",
      "INFO:root:Tile 101542818, 5 of 193\n",
      "INFO:astroquery:Query finished.\n",
      "INFO:root:Found 3 query results\n"
     ]
    },
    {
     "name": "stdout",
     "output_type": "stream",
     "text": [
      "INFO: Query finished. [astroquery.utils.tap.core]\n"
     ]
    },
    {
     "name": "stderr",
     "output_type": "stream",
     "text": [
      "INFO:root:Downloaded: {'NIR_Y': {'FLUX': '/media/home/team_workspaces/Euclid-Consortium/data/strong_lensing/external_targets_pipeline/latest/tiles/EUC_MER_BGSUB-MOSAIC-NIR-Y_TILE101542818-1339C2_20240202T125101.257029Z_00.00.fits', 'MERRMS': '/media/home/team_workspaces/Euclid-Consortium/data/strong_lensing/external_targets_pipeline/latest/tiles/EUC_MER_MOSAIC-NIR-Y-RMS_TILE101542818-F94BCF_20240202T011041.987132Z_00.00.fits', 'MERPSF': '/media/home/team_workspaces/Euclid-Consortium/data/strong_lensing/external_targets_pipeline/latest/tiles/EUC_MER_CATALOG-PSF-NIR-Y_TILE101542818-64FFED_20240202T162604.235660Z_00.00.fits'}, 'NIR_J': {'FLUX': '/media/home/team_workspaces/Euclid-Consortium/data/strong_lensing/external_targets_pipeline/latest/tiles/EUC_MER_BGSUB-MOSAIC-NIR-J_TILE101542818-5D38D0_20240202T130406.808569Z_00.00.fits', 'MERPSF': '/media/home/team_workspaces/Euclid-Consortium/data/strong_lensing/external_targets_pipeline/latest/tiles/EUC_MER_CATALOG-PSF-NIR-J_TILE101542818-8F0462_20240202T162625.363282Z_00.00.fits', 'MERRMS': '/media/home/team_workspaces/Euclid-Consortium/data/strong_lensing/external_targets_pipeline/latest/tiles/EUC_MER_MOSAIC-NIR-J-RMS_TILE101542818-BA3B10_20240202T011109.025823Z_00.00.fits'}, 'VIS': {'FLUX': '/media/home/team_workspaces/Euclid-Consortium/data/strong_lensing/external_targets_pipeline/latest/tiles/EUC_MER_BGSUB-MOSAIC-VIS_TILE101542818-AB13B7_20240202T141511.768020Z_00.00.fits', 'MERRMS': '/media/home/team_workspaces/Euclid-Consortium/data/strong_lensing/external_targets_pipeline/latest/tiles/EUC_MER_MOSAIC-VIS-RMS_TILE101542818-5C8466_20240202T013214.909678Z_00.00.fits', 'MERPSF': '/media/home/team_workspaces/Euclid-Consortium/data/strong_lensing/external_targets_pipeline/latest/tiles/EUC_MER_CATALOG-PSF-VIS_TILE101542818-FFFFB2_20240202T164349.912510Z_00.00.fits'}}\n",
      "INFO:root:Tile 101542819, 6 of 193\n",
      "INFO:astroquery:Query finished.\n",
      "INFO:root:Found 3 query results\n"
     ]
    },
    {
     "name": "stdout",
     "output_type": "stream",
     "text": [
      "INFO: Query finished. [astroquery.utils.tap.core]\n"
     ]
    },
    {
     "name": "stderr",
     "output_type": "stream",
     "text": [
      "INFO:root:Downloaded: {'NIR_J': {'FLUX': '/media/home/team_workspaces/Euclid-Consortium/data/strong_lensing/external_targets_pipeline/latest/tiles/EUC_MER_BGSUB-MOSAIC-NIR-J_TILE101542819-A44F31_20240202T002853.274381Z_00.00.fits', 'MERRMS': '/media/home/team_workspaces/Euclid-Consortium/data/strong_lensing/external_targets_pipeline/latest/tiles/EUC_MER_MOSAIC-NIR-J-RMS_TILE101542819-714380_20240202T000622.807474Z_00.00.fits', 'MERPSF': '/media/home/team_workspaces/Euclid-Consortium/data/strong_lensing/external_targets_pipeline/latest/tiles/EUC_MER_CATALOG-PSF-NIR-J_TILE101542819-BF9AAD_20240202T010549.545547Z_00.00.fits'}, 'NIR_Y': {'FLUX': '/media/home/team_workspaces/Euclid-Consortium/data/strong_lensing/external_targets_pipeline/latest/tiles/EUC_MER_BGSUB-MOSAIC-NIR-Y_TILE101542819-3D9C48_20240202T002851.436958Z_00.00.fits', 'MERRMS': '/media/home/team_workspaces/Euclid-Consortium/data/strong_lensing/external_targets_pipeline/latest/tiles/EUC_MER_MOSAIC-NIR-Y-RMS_TILE101542819-11471B_20240202T000612.046103Z_00.00.fits', 'MERPSF': '/media/home/team_workspaces/Euclid-Consortium/data/strong_lensing/external_targets_pipeline/latest/tiles/EUC_MER_CATALOG-PSF-NIR-Y_TILE101542819-7F55C5_20240202T010537.648626Z_00.00.fits'}, 'VIS': {'FLUX': '/media/home/team_workspaces/Euclid-Consortium/data/strong_lensing/external_targets_pipeline/latest/tiles/EUC_MER_BGSUB-MOSAIC-VIS_TILE101542819-DB6D60_20240202T004656.100936Z_00.00.fits', 'MERPSF': '/media/home/team_workspaces/Euclid-Consortium/data/strong_lensing/external_targets_pipeline/latest/tiles/EUC_MER_CATALOG-PSF-VIS_TILE101542819-A4F584_20240202T010710.088822Z_00.00.fits', 'MERRMS': '/media/home/team_workspaces/Euclid-Consortium/data/strong_lensing/external_targets_pipeline/latest/tiles/EUC_MER_MOSAIC-VIS-RMS_TILE101542819-7F8E6C_20240202T001123.883955Z_00.00.fits'}}\n",
      "CRITICAL:root:Error saving cutout for target 1237651753997500570\n",
      "CRITICAL:root:1237651753997500570.fits: Flux in VIS data is empty, likely a SAS error\n",
      "CRITICAL:root:Error saving cutout for target 1237653664722256181\n",
      "CRITICAL:root:1237653664722256181.fits: Flux in VIS data is empty, likely a SAS error\n",
      "CRITICAL:root:Error saving cutout for target 1237653664722191162\n",
      "CRITICAL:root:1237653664722191162.fits: Flux in VIS data is empty, likely a SAS error\n",
      "CRITICAL:root:Error saving cutout for target 1237653664722191094\n",
      "CRITICAL:root:1237653664722191094.fits: Flux in VIS data is empty, likely a SAS error\n",
      "CRITICAL:root:Error saving cutout for target 1237653664722256583\n",
      "CRITICAL:root:1237653664722256583.fits: Flux in VIS data is empty, likely a SAS error\n",
      "CRITICAL:root:Error saving cutout for target 1237653664722256601\n",
      "CRITICAL:root:1237653664722256601.fits: Flux in VIS data is empty, likely a SAS error\n",
      "CRITICAL:root:Error saving cutout for target 1237653664722256257\n",
      "CRITICAL:root:1237653664722256257.fits: Flux in VIS data is empty, likely a SAS error\n",
      "INFO:root:Tile 101544255, 7 of 193\n",
      "INFO:astroquery:Query finished.\n",
      "INFO:root:Found 3 query results\n"
     ]
    },
    {
     "name": "stdout",
     "output_type": "stream",
     "text": [
      "INFO: Query finished. [astroquery.utils.tap.core]\n"
     ]
    },
    {
     "name": "stderr",
     "output_type": "stream",
     "text": [
      "INFO:root:Downloaded: {'VIS': {'FLUX': '/media/home/team_workspaces/Euclid-Consortium/data/strong_lensing/external_targets_pipeline/latest/tiles/EUC_MER_BGSUB-MOSAIC-VIS_TILE101544255-6D25FA_20240202T071931.685336Z_00.00.fits', 'MERPSF': '/media/home/team_workspaces/Euclid-Consortium/data/strong_lensing/external_targets_pipeline/latest/tiles/EUC_MER_CATALOG-PSF-VIS_TILE101544255-F508E2_20240202T074724.664766Z_00.00.fits', 'MERRMS': '/media/home/team_workspaces/Euclid-Consortium/data/strong_lensing/external_targets_pipeline/latest/tiles/EUC_MER_MOSAIC-VIS-RMS_TILE101544255-FA1157_20240202T024030.071285Z_00.00.fits'}, 'NIR_Y': {'FLUX': '/media/home/team_workspaces/Euclid-Consortium/data/strong_lensing/external_targets_pipeline/latest/tiles/EUC_MER_BGSUB-MOSAIC-NIR-Y_TILE101544255-81A14_20240202T035059.082748Z_00.00.fits', 'MERPSF': '/media/home/team_workspaces/Euclid-Consortium/data/strong_lensing/external_targets_pipeline/latest/tiles/EUC_MER_CATALOG-PSF-NIR-Y_TILE101544255-2E5292_20240202T073652.302814Z_00.00.fits', 'MERRMS': '/media/home/team_workspaces/Euclid-Consortium/data/strong_lensing/external_targets_pipeline/latest/tiles/EUC_MER_MOSAIC-NIR-Y-RMS_TILE101544255-1D0C20_20240202T021927.614168Z_00.00.fits'}, 'NIR_J': {'FLUX': '/media/home/team_workspaces/Euclid-Consortium/data/strong_lensing/external_targets_pipeline/latest/tiles/EUC_MER_BGSUB-MOSAIC-NIR-J_TILE101544255-ED03CE_20240202T041939.475120Z_00.00.fits', 'MERPSF': '/media/home/team_workspaces/Euclid-Consortium/data/strong_lensing/external_targets_pipeline/latest/tiles/EUC_MER_CATALOG-PSF-NIR-J_TILE101544255-7587CE_20240202T073713.845088Z_00.00.fits', 'MERRMS': '/media/home/team_workspaces/Euclid-Consortium/data/strong_lensing/external_targets_pipeline/latest/tiles/EUC_MER_MOSAIC-NIR-J-RMS_TILE101544255-627A9E_20240202T021942.539841Z_00.00.fits'}}\n",
      "CRITICAL:root:Error saving cutout for target 1237651753997041930\n",
      "CRITICAL:root:1237651753997041930.fits: Flux in VIS data is empty, likely a SAS error\n",
      "CRITICAL:root:Error saving cutout for target 1237653665258734154\n",
      "CRITICAL:root:1237653665258734154.fits: Flux in NIR_Y data is empty, likely a SAS error\n",
      "CRITICAL:root:Error saving cutout for target 1237653665258733778\n",
      "CRITICAL:root:1237653665258733778.fits: Flux in VIS data is empty, likely a SAS error\n",
      "CRITICAL:root:Error saving cutout for target 1237653665258668641\n",
      "CRITICAL:root:1237653665258668641.fits: Flux in VIS data is empty, likely a SAS error\n",
      "INFO:root:Tile 101544256, 8 of 193\n",
      "INFO:astroquery:Query finished.\n",
      "INFO:root:Found 3 query results\n"
     ]
    },
    {
     "name": "stdout",
     "output_type": "stream",
     "text": [
      "INFO: Query finished. [astroquery.utils.tap.core]\n"
     ]
    },
    {
     "name": "stderr",
     "output_type": "stream",
     "text": [
      "INFO:root:Downloaded: {'NIR_Y': {'FLUX': '/media/home/team_workspaces/Euclid-Consortium/data/strong_lensing/external_targets_pipeline/latest/tiles/EUC_MER_BGSUB-MOSAIC-NIR-Y_TILE101544256-8DD33D_20240203T001101.427300Z_00.00.fits', 'MERPSF': '/media/home/team_workspaces/Euclid-Consortium/data/strong_lensing/external_targets_pipeline/latest/tiles/EUC_MER_CATALOG-PSF-NIR-Y_TILE101544256-3C998C_20240203T033644.054612Z_00.00.fits', 'MERRMS': '/media/home/team_workspaces/Euclid-Consortium/data/strong_lensing/external_targets_pipeline/latest/tiles/EUC_MER_MOSAIC-NIR-Y-RMS_TILE101544256-7C198A_20240202T031607.226528Z_00.00.fits'}, 'NIR_J': {'FLUX': '/media/home/team_workspaces/Euclid-Consortium/data/strong_lensing/external_targets_pipeline/latest/tiles/EUC_MER_BGSUB-MOSAIC-NIR-J_TILE101544256-1961F0_20240203T000939.989862Z_00.00.fits', 'MERRMS': '/media/home/team_workspaces/Euclid-Consortium/data/strong_lensing/external_targets_pipeline/latest/tiles/EUC_MER_MOSAIC-NIR-J-RMS_TILE101544256-2AB32D_20240202T031849.208608Z_00.00.fits', 'MERPSF': '/media/home/team_workspaces/Euclid-Consortium/data/strong_lensing/external_targets_pipeline/latest/tiles/EUC_MER_CATALOG-PSF-NIR-J_TILE101544256-9D6E36_20240203T033649.646032Z_00.00.fits'}, 'VIS': {'FLUX': '/media/home/team_workspaces/Euclid-Consortium/data/strong_lensing/external_targets_pipeline/latest/tiles/EUC_MER_BGSUB-MOSAIC-VIS_TILE101544256-F5FCD6_20240203T024726.998416Z_00.00.fits', 'MERRMS': '/media/home/team_workspaces/Euclid-Consortium/data/strong_lensing/external_targets_pipeline/latest/tiles/EUC_MER_MOSAIC-VIS-RMS_TILE101544256-6F448D_20240202T034527.816558Z_00.00.fits', 'MERPSF': '/media/home/team_workspaces/Euclid-Consortium/data/strong_lensing/external_targets_pipeline/latest/tiles/EUC_MER_CATALOG-PSF-VIS_TILE101544256-44128D_20240203T034541.169658Z_00.00.fits'}}\n"
     ]
    }
   ],
   "source": [
    "pipeline.make_cutouts(cfg, targets_with_tiles)"
   ]
  },
  {
   "cell_type": "code",
   "execution_count": null,
   "metadata": {},
   "outputs": [],
   "source": []
  }
 ],
 "metadata": {
  "kernelspec": {
   "display_name": "EUCLID-TOOLS",
   "language": "python",
   "name": "euclid-tools"
  },
  "language_info": {
   "codemirror_mode": {
    "name": "ipython",
    "version": 3
   },
   "file_extension": ".py",
   "mimetype": "text/x-python",
   "name": "python",
   "nbconvert_exporter": "python",
   "pygments_lexer": "ipython3",
   "version": "3.9.0"
  }
 },
 "nbformat": 4,
 "nbformat_minor": 4
}
