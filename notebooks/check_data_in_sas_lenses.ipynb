{
 "cells": [
  {
   "cell_type": "code",
   "execution_count": 1,
   "id": "a4d81a55-d58e-49da-a552-b9a532754e5e",
   "metadata": {
    "tags": []
   },
   "outputs": [],
   "source": [
    "%load_ext autoreload\n",
    "%autoreload 2"
   ]
  },
  {
   "cell_type": "code",
   "execution_count": 2,
   "id": "4f2f3514-c0d8-4f20-bf1f-7dd8c3f403cc",
   "metadata": {
    "tags": []
   },
   "outputs": [
    {
     "name": "stderr",
     "output_type": "stream",
     "text": [
      "/tmp/ipykernel_226/3496465029.py:9: DeprecationWarning: \n",
      "Pyarrow will become a required dependency of pandas in the next major release of pandas (pandas 3.0),\n",
      "(to allow more performant data types, such as the Arrow string type, and better interoperability with other libraries)\n",
      "but was not found to be installed on your system.\n",
      "If this would cause problems for you,\n",
      "please provide us feedback at https://github.com/pandas-dev/pandas/issues/54466\n",
      "        \n",
      "  import pandas as pd\n"
     ]
    }
   ],
   "source": [
    "from astroquery.esa.euclid.core import EuclidClass, Euclid\n",
    "import astropy.units as u\n",
    "from astropy.coordinates import SkyCoord\n",
    "from astropy.nddata.utils import Cutout2D\n",
    "from multiprocessing.pool import ThreadPool\n",
    "from astropy import wcs\n",
    "from astropy.io import fits\n",
    "import numpy as np\n",
    "import pandas as pd\n",
    "#import sep\n",
    "import glob\n",
    "import os\n",
    "\n",
    "from PIL import Image\n",
    "import matplotlib.pyplot as plt\n",
    "from matplotlib.patches import Ellipse\n",
    "from astropy.table import Table\n",
    "from astropy.visualization import astropy_mpl_style, ImageNormalize, ZScaleInterval, PercentileInterval, AsinhStretch, SqrtStretch, SquaredStretch\n",
    "plt.style.use(astropy_mpl_style)\n",
    "pd.set_option('display.max_colwidth', 0) #to show full column content (no wrapping and no dots)"
   ]
  },
  {
   "cell_type": "code",
   "execution_count": 3,
   "id": "8ccbb8b3-a70c-47cc-a775-81c991f08d3b",
   "metadata": {
    "tags": []
   },
   "outputs": [],
   "source": [
    "import sys\n",
    "repo_dir = '/media/user/repos/bulk-euclid-cutouts'\n",
    "os.path.isdir(repo_dir)\n",
    "sys.path.insert(0,repo_dir)"
   ]
  },
  {
   "cell_type": "code",
   "execution_count": 4,
   "id": "a3bb80b5-d855-43d1-8abd-355775ec366f",
   "metadata": {
    "tags": []
   },
   "outputs": [],
   "source": [
    "from bulk_euclid.utils import morphology_utils_ou_mer, cutout_utils, pipeline_utils\n"
   ]
  },
  {
   "cell_type": "code",
   "execution_count": 5,
   "id": "a94697dc-850f-4f1b-bd49-d7b111765d25",
   "metadata": {
    "tags": []
   },
   "outputs": [
    {
     "name": "stdout",
     "output_type": "stream",
     "text": [
      "INFO: Login to Euclid TAP server [astroquery.esa.euclid.core]\n"
     ]
    },
    {
     "name": "stdin",
     "output_type": "stream",
     "text": [
      "Password:  ········\n"
     ]
    },
    {
     "name": "stdout",
     "output_type": "stream",
     "text": [
      "INFO: OK [astroquery.utils.tap.core]\n",
      "INFO: Login to Euclid data service [astroquery.esa.euclid.core]\n",
      "INFO: OK [astroquery.utils.tap.core]\n",
      "INFO: Login to Euclid cutout service [astroquery.esa.euclid.core]\n",
      "INFO: OK [astroquery.utils.tap.core]\n"
     ]
    }
   ],
   "source": [
    "# change to your username|\n",
    "Euclid.login(user='mwalms01')"
   ]
  },
  {
   "cell_type": "code",
   "execution_count": 24,
   "id": "384b5d0e-3922-44fa-91d6-b91748a7d5fb",
   "metadata": {
    "tags": []
   },
   "outputs": [
    {
     "data": {
      "text/plain": [
       "2000"
      ]
     },
     "execution_count": 24,
     "metadata": {},
     "output_type": "execute_result"
    }
   ],
   "source": [
    "query_str = \"\"\"\n",
    "            SELECT *\n",
    "            FROM catalogue.mer_catalogue\n",
    "            WHERE segmentation_area > 100000\n",
    "            ORDER BY segmentation_area DESC\n",
    "            \"\"\"\n",
    "job = Euclid.launch_job(query_str)\n",
    "len(job.results)"
   ]
  },
  {
   "cell_type": "code",
   "execution_count": 8,
   "id": "49f23e09-29a2-479c-be8b-5651f52588df",
   "metadata": {
    "tags": []
   },
   "outputs": [
    {
     "data": {
      "text/plain": [
       "0       102017805201885\n",
       "1       102025559161992\n",
       "2       102020580158829\n",
       "3       102030405086077\n",
       "4       102020554034848\n",
       "             ...       \n",
       "1995    102028752050015\n",
       "1996    102020582031443\n",
       "1997    102032688076116\n",
       "1998    102025036067050\n",
       "1999    102041101028172\n",
       "Name: segmentation_map_id, Length: 2000, dtype: int64"
      ]
     },
     "execution_count": 8,
     "metadata": {},
     "output_type": "execute_result"
    }
   ],
   "source": [
    "# job.results.to_pandas().columns.values\n",
    "# job.results.to_pandas()['segmentation_map_id']"
   ]
  },
  {
   "cell_type": "markdown",
   "id": "ac2462d5-ca8d-4bb0-ba19-944d42517576",
   "metadata": {},
   "source": [
    "job = Euclid.launch_job_async(query_str, verbose=False, background=False) ## What tiles do we have?"
   ]
  },
  {
   "cell_type": "code",
   "execution_count": 32,
   "id": "350c0eca-a8d7-44a0-9ce6-9c627ce3caeb",
   "metadata": {
    "tags": []
   },
   "outputs": [
    {
     "name": "stdout",
     "output_type": "stream",
     "text": [
      "INFO: Query finished. [astroquery.utils.tap.core]\n"
     ]
    }
   ],
   "source": [
    "query_str = \"\"\"SELECT * FROM sedm.mosaic_product \n",
    "    WHERE (product_type='DpdMerBksMosaic')\n",
    "    AND (filter_name='VIS')\n",
    "\"\"\"\n",
    "job = Euclid.launch_job_async(query_str, verbose=False, background=False) \n"
   ]
  },
  {
   "cell_type": "code",
   "execution_count": 33,
   "id": "ae28514e-3b5b-448a-b6b4-82bbd3c6594b",
   "metadata": {
    "tags": []
   },
   "outputs": [
    {
     "data": {
      "text/plain": [
       "release_name        instrument_name\n",
       "F-006               VIS                1916\n",
       "CALBLOCK_PV-005_R3  VIS                276 \n",
       "F-003_240612        VIS                113 \n",
       "F-003_240321        VIS                101 \n",
       "CALBLOCK_PV-005_R2  VIS                22  \n",
       "Name: count, dtype: int64"
      ]
     },
     "execution_count": 33,
     "metadata": {},
     "output_type": "execute_result"
    }
   ],
   "source": [
    "job.results.to_pandas()[['release_name', 'instrument_name']].value_counts()"
   ]
  },
  {
   "cell_type": "code",
   "execution_count": 72,
   "id": "436deb30-b31e-4db4-ac2f-24a1695e1e28",
   "metadata": {
    "tags": []
   },
   "outputs": [
    {
     "name": "stdout",
     "output_type": "stream",
     "text": [
      "INFO: Query finished. [astroquery.utils.tap.core]\n",
      "Found 2130  query results\n"
     ]
    },
    {
     "data": {
      "text/plain": [
       "0       102010567\n",
       "1       102010568\n",
       "2       102010569\n",
       "3       102010923\n",
       "4       102010924\n",
       "          ...    \n",
       "2125    102165182\n",
       "2126    102165183\n",
       "2127    102165188\n",
       "2128    102165193\n",
       "2129    102165194\n",
       "Name: tile_index, Length: 2130, dtype: int64"
      ]
     },
     "execution_count": 72,
     "metadata": {},
     "output_type": "execute_result"
    }
   ],
   "source": [
    "# currently only south and wide have any data\n",
    "\n",
    "\n",
    "# survey = edf_south\n",
    "# survey = edf_fornax\n",
    "# survey = edf_north\n",
    "survey = pipeline_utils.WIDE\n",
    "\n",
    "tiles = pipeline_utils.get_tiles_in_survey(survey, bands='VIS')\n",
    "tiles['tile_index']\n"
   ]
  },
  {
   "cell_type": "code",
   "execution_count": 73,
   "id": "aa1149c0-8f39-4659-8621-d4213728d5b8",
   "metadata": {
    "tags": []
   },
   "outputs": [
    {
     "data": {
      "text/plain": [
       "instrument_name\n",
       "VIS    2130\n",
       "Name: count, dtype: int64"
      ]
     },
     "execution_count": 73,
     "metadata": {},
     "output_type": "execute_result"
    }
   ],
   "source": [
    "tiles['instrument_name'].value_counts()"
   ]
  },
  {
   "cell_type": "code",
   "execution_count": 74,
   "id": "e23b8bce-50ae-4655-8897-94ba4331a303",
   "metadata": {
    "tags": []
   },
   "outputs": [
    {
     "data": {
      "text/plain": [
       "release_name\n",
       "F-006           1916\n",
       "F-003_240612    113 \n",
       "F-003_240321    101 \n",
       "Name: count, dtype: int64"
      ]
     },
     "execution_count": 74,
     "metadata": {},
     "output_type": "execute_result"
    }
   ],
   "source": [
    "tiles['release_name'].value_counts()"
   ]
  },
  {
   "cell_type": "code",
   "execution_count": 75,
   "id": "fdb2b3e3-7c0b-44aa-a08e-d460dae36807",
   "metadata": {
    "tags": []
   },
   "outputs": [
    {
     "data": {
      "text/plain": [
       "filter_name\n",
       "VIS    2130\n",
       "Name: count, dtype: int64"
      ]
     },
     "execution_count": 75,
     "metadata": {},
     "output_type": "execute_result"
    }
   ],
   "source": [
    "tiles['filter_name'].value_counts()"
   ]
  },
  {
   "cell_type": "code",
   "execution_count": 76,
   "id": "21134ec0-f1cb-4fb1-a185-822962c0b7dd",
   "metadata": {
    "tags": []
   },
   "outputs": [
    {
     "ename": "FileNotFoundError",
     "evalue": "[Errno 2] No such file or directory: '/media/home/team_workspaces/Galaxy-Zoo-Euclid/data/tiling_fields_from_mer/field_deep_sub_14_overview.fits'",
     "output_type": "error",
     "traceback": [
      "\u001b[0;31m---------------------------------------------------------------------------\u001b[0m",
      "\u001b[0;31mFileNotFoundError\u001b[0m                         Traceback (most recent call last)",
      "Cell \u001b[0;32mIn[76], line 2\u001b[0m\n\u001b[1;32m      1\u001b[0m \u001b[38;5;66;03m# wide_tiling = Table.read('tiling_fields_from_mer/field_all_sky_overview.fits')\u001b[39;00m\n\u001b[0;32m----> 2\u001b[0m deep_south_tiling \u001b[38;5;241m=\u001b[39m \u001b[43mTable\u001b[49m\u001b[38;5;241;43m.\u001b[39;49m\u001b[43mread\u001b[49m\u001b[43m(\u001b[49m\u001b[38;5;124;43m'\u001b[39;49m\u001b[38;5;124;43m/media/home/team_workspaces/Galaxy-Zoo-Euclid/data/tiling_fields_from_mer/field_deep_sub_14_overview.fits\u001b[39;49m\u001b[38;5;124;43m'\u001b[39;49m\u001b[43m)\u001b[49m\n\u001b[1;32m      3\u001b[0m deep_fornax_tiling \u001b[38;5;241m=\u001b[39m Table\u001b[38;5;241m.\u001b[39mread(\u001b[38;5;124m'\u001b[39m\u001b[38;5;124m/media/home/team_workspaces/Galaxy-Zoo-Euclid/data/tiling_fields_from_mer/field_deep_sub_002_overview.fits\u001b[39m\u001b[38;5;124m'\u001b[39m)\n\u001b[1;32m      4\u001b[0m deep_north_tiling \u001b[38;5;241m=\u001b[39m Table\u001b[38;5;241m.\u001b[39mread(\u001b[38;5;124m'\u001b[39m\u001b[38;5;124m/media/home/team_workspaces/Galaxy-Zoo-Euclid/data/tiling_fields_from_mer/field_deep_sub_003_overview.fits\u001b[39m\u001b[38;5;124m'\u001b[39m)\n",
      "File \u001b[0;32m/opt/miniconda/envs/euclid-tools/lib/python3.9/site-packages/astropy/table/connect.py:62\u001b[0m, in \u001b[0;36mTableRead.__call__\u001b[0;34m(self, *args, **kwargs)\u001b[0m\n\u001b[1;32m     59\u001b[0m units \u001b[38;5;241m=\u001b[39m kwargs\u001b[38;5;241m.\u001b[39mpop(\u001b[38;5;124m\"\u001b[39m\u001b[38;5;124munits\u001b[39m\u001b[38;5;124m\"\u001b[39m, \u001b[38;5;28;01mNone\u001b[39;00m)\n\u001b[1;32m     60\u001b[0m descriptions \u001b[38;5;241m=\u001b[39m kwargs\u001b[38;5;241m.\u001b[39mpop(\u001b[38;5;124m\"\u001b[39m\u001b[38;5;124mdescriptions\u001b[39m\u001b[38;5;124m\"\u001b[39m, \u001b[38;5;28;01mNone\u001b[39;00m)\n\u001b[0;32m---> 62\u001b[0m out \u001b[38;5;241m=\u001b[39m \u001b[38;5;28;43mself\u001b[39;49m\u001b[38;5;241;43m.\u001b[39;49m\u001b[43mregistry\u001b[49m\u001b[38;5;241;43m.\u001b[39;49m\u001b[43mread\u001b[49m\u001b[43m(\u001b[49m\u001b[38;5;28;43mcls\u001b[39;49m\u001b[43m,\u001b[49m\u001b[43m \u001b[49m\u001b[38;5;241;43m*\u001b[39;49m\u001b[43margs\u001b[49m\u001b[43m,\u001b[49m\u001b[43m \u001b[49m\u001b[38;5;241;43m*\u001b[39;49m\u001b[38;5;241;43m*\u001b[39;49m\u001b[43mkwargs\u001b[49m\u001b[43m)\u001b[49m\n\u001b[1;32m     64\u001b[0m \u001b[38;5;66;03m# For some readers (e.g., ascii.ecsv), the returned `out` class is not\u001b[39;00m\n\u001b[1;32m     65\u001b[0m \u001b[38;5;66;03m# guaranteed to be the same as the desired output `cls`.  If so,\u001b[39;00m\n\u001b[1;32m     66\u001b[0m \u001b[38;5;66;03m# try coercing to desired class without copying (io.registry.read\u001b[39;00m\n\u001b[1;32m     67\u001b[0m \u001b[38;5;66;03m# would normally do a copy).  The normal case here is swapping\u001b[39;00m\n\u001b[1;32m     68\u001b[0m \u001b[38;5;66;03m# Table <=> QTable.\u001b[39;00m\n\u001b[1;32m     69\u001b[0m \u001b[38;5;28;01mif\u001b[39;00m \u001b[38;5;28mcls\u001b[39m \u001b[38;5;129;01mis\u001b[39;00m \u001b[38;5;129;01mnot\u001b[39;00m out\u001b[38;5;241m.\u001b[39m\u001b[38;5;18m__class__\u001b[39m:\n",
      "File \u001b[0;32m/opt/miniconda/envs/euclid-tools/lib/python3.9/site-packages/astropy/io/registry/core.py:203\u001b[0m, in \u001b[0;36mUnifiedInputRegistry.read\u001b[0;34m(self, cls, format, cache, *args, **kwargs)\u001b[0m\n\u001b[1;32m    199\u001b[0m \u001b[38;5;28;01mtry\u001b[39;00m:\n\u001b[1;32m    200\u001b[0m     ctx \u001b[38;5;241m=\u001b[39m get_readable_fileobj(\n\u001b[1;32m    201\u001b[0m         args[\u001b[38;5;241m0\u001b[39m], encoding\u001b[38;5;241m=\u001b[39m\u001b[38;5;124m\"\u001b[39m\u001b[38;5;124mbinary\u001b[39m\u001b[38;5;124m\"\u001b[39m, cache\u001b[38;5;241m=\u001b[39mcache\n\u001b[1;32m    202\u001b[0m     )\n\u001b[0;32m--> 203\u001b[0m     fileobj \u001b[38;5;241m=\u001b[39m \u001b[43mctx\u001b[49m\u001b[38;5;241;43m.\u001b[39;49m\u001b[38;5;21;43m__enter__\u001b[39;49m\u001b[43m(\u001b[49m\u001b[43m)\u001b[49m\n\u001b[1;32m    204\u001b[0m \u001b[38;5;28;01mexcept\u001b[39;00m \u001b[38;5;167;01mOSError\u001b[39;00m:\n\u001b[1;32m    205\u001b[0m     \u001b[38;5;28;01mraise\u001b[39;00m\n",
      "File \u001b[0;32m/opt/miniconda/envs/euclid-tools/lib/python3.9/contextlib.py:117\u001b[0m, in \u001b[0;36m_GeneratorContextManager.__enter__\u001b[0;34m(self)\u001b[0m\n\u001b[1;32m    115\u001b[0m \u001b[38;5;28;01mdel\u001b[39;00m \u001b[38;5;28mself\u001b[39m\u001b[38;5;241m.\u001b[39margs, \u001b[38;5;28mself\u001b[39m\u001b[38;5;241m.\u001b[39mkwds, \u001b[38;5;28mself\u001b[39m\u001b[38;5;241m.\u001b[39mfunc\n\u001b[1;32m    116\u001b[0m \u001b[38;5;28;01mtry\u001b[39;00m:\n\u001b[0;32m--> 117\u001b[0m     \u001b[38;5;28;01mreturn\u001b[39;00m \u001b[38;5;28;43mnext\u001b[39;49m\u001b[43m(\u001b[49m\u001b[38;5;28;43mself\u001b[39;49m\u001b[38;5;241;43m.\u001b[39;49m\u001b[43mgen\u001b[49m\u001b[43m)\u001b[49m\n\u001b[1;32m    118\u001b[0m \u001b[38;5;28;01mexcept\u001b[39;00m \u001b[38;5;167;01mStopIteration\u001b[39;00m:\n\u001b[1;32m    119\u001b[0m     \u001b[38;5;28;01mraise\u001b[39;00m \u001b[38;5;167;01mRuntimeError\u001b[39;00m(\u001b[38;5;124m\"\u001b[39m\u001b[38;5;124mgenerator didn\u001b[39m\u001b[38;5;124m'\u001b[39m\u001b[38;5;124mt yield\u001b[39m\u001b[38;5;124m\"\u001b[39m) \u001b[38;5;28;01mfrom\u001b[39;00m \u001b[38;5;28;01mNone\u001b[39;00m\n",
      "File \u001b[0;32m/opt/miniconda/envs/euclid-tools/lib/python3.9/site-packages/astropy/utils/data.py:353\u001b[0m, in \u001b[0;36mget_readable_fileobj\u001b[0;34m(name_or_obj, encoding, cache, show_progress, remote_timeout, sources, http_headers, use_fsspec, fsspec_kwargs, close_files)\u001b[0m\n\u001b[1;32m    344\u001b[0m \u001b[38;5;28;01mif\u001b[39;00m is_url:\n\u001b[1;32m    345\u001b[0m     name_or_obj \u001b[38;5;241m=\u001b[39m download_file(\n\u001b[1;32m    346\u001b[0m         name_or_obj,\n\u001b[1;32m    347\u001b[0m         cache\u001b[38;5;241m=\u001b[39mcache,\n\u001b[0;32m   (...)\u001b[0m\n\u001b[1;32m    351\u001b[0m         http_headers\u001b[38;5;241m=\u001b[39mhttp_headers,\n\u001b[1;32m    352\u001b[0m     )\n\u001b[0;32m--> 353\u001b[0m fileobj \u001b[38;5;241m=\u001b[39m \u001b[43mio\u001b[49m\u001b[38;5;241;43m.\u001b[39;49m\u001b[43mFileIO\u001b[49m\u001b[43m(\u001b[49m\u001b[43mname_or_obj\u001b[49m\u001b[43m,\u001b[49m\u001b[43m \u001b[49m\u001b[38;5;124;43m\"\u001b[39;49m\u001b[38;5;124;43mr\u001b[39;49m\u001b[38;5;124;43m\"\u001b[39;49m\u001b[43m)\u001b[49m\n\u001b[1;32m    354\u001b[0m \u001b[38;5;28;01mif\u001b[39;00m is_url \u001b[38;5;129;01mand\u001b[39;00m \u001b[38;5;129;01mnot\u001b[39;00m cache:\n\u001b[1;32m    355\u001b[0m     delete_fds\u001b[38;5;241m.\u001b[39mappend(fileobj)\n",
      "\u001b[0;31mFileNotFoundError\u001b[0m: [Errno 2] No such file or directory: '/media/home/team_workspaces/Galaxy-Zoo-Euclid/data/tiling_fields_from_mer/field_deep_sub_14_overview.fits'"
     ]
    }
   ],
   "source": [
    "# wide_tiling = Table.read('tiling_fields_from_mer/field_all_sky_overview.fits')\n",
    "deep_south_tiling = Table.read('/media/home/team_workspaces/Galaxy-Zoo-Euclid/data/tiling_fields_from_mer/field_deep_sub_14_overview.fits')\n",
    "deep_fornax_tiling = Table.read('/media/home/team_workspaces/Galaxy-Zoo-Euclid/data/tiling_fields_from_mer/field_deep_sub_002_overview.fits')\n",
    "deep_north_tiling = Table.read('/media/home/team_workspaces/Galaxy-Zoo-Euclid/data/tiling_fields_from_mer/field_deep_sub_003_overview.fits')\n",
    "deep_south_tiling.columns"
   ]
  },
  {
   "cell_type": "code",
   "execution_count": 77,
   "id": "676c3cda-c2bc-4144-baff-c5a90a9d30cd",
   "metadata": {
    "tags": []
   },
   "outputs": [
    {
     "ename": "NameError",
     "evalue": "name 'deep_south_tiling' is not defined",
     "output_type": "error",
     "traceback": [
      "\u001b[0;31m---------------------------------------------------------------------------\u001b[0m",
      "\u001b[0;31mNameError\u001b[0m                                 Traceback (most recent call last)",
      "Cell \u001b[0;32mIn[77], line 2\u001b[0m\n\u001b[1;32m      1\u001b[0m plt\u001b[38;5;241m.\u001b[39mscatter(tiles[\u001b[38;5;124m'\u001b[39m\u001b[38;5;124mra\u001b[39m\u001b[38;5;124m'\u001b[39m], tiles[\u001b[38;5;124m'\u001b[39m\u001b[38;5;124mdec\u001b[39m\u001b[38;5;124m'\u001b[39m], s\u001b[38;5;241m=\u001b[39m\u001b[38;5;241m1.\u001b[39m)\n\u001b[0;32m----> 2\u001b[0m plt\u001b[38;5;241m.\u001b[39mscatter(\u001b[43mdeep_south_tiling\u001b[49m[\u001b[38;5;124m'\u001b[39m\u001b[38;5;124mRA\u001b[39m\u001b[38;5;124m'\u001b[39m], deep_south_tiling[\u001b[38;5;124m'\u001b[39m\u001b[38;5;124mDec\u001b[39m\u001b[38;5;124m'\u001b[39m], s\u001b[38;5;241m=\u001b[39m\u001b[38;5;241m1.\u001b[39m, alpha\u001b[38;5;241m=\u001b[39m\u001b[38;5;241m.1\u001b[39m)\n\u001b[1;32m      3\u001b[0m plt\u001b[38;5;241m.\u001b[39mscatter(deep_north_tiling[\u001b[38;5;124m'\u001b[39m\u001b[38;5;124mRA\u001b[39m\u001b[38;5;124m'\u001b[39m], deep_north_tiling[\u001b[38;5;124m'\u001b[39m\u001b[38;5;124mDec\u001b[39m\u001b[38;5;124m'\u001b[39m], s\u001b[38;5;241m=\u001b[39m\u001b[38;5;241m1.\u001b[39m, alpha\u001b[38;5;241m=\u001b[39m\u001b[38;5;241m.1\u001b[39m)\n\u001b[1;32m      4\u001b[0m \u001b[38;5;66;03m# plt.scatter(deep_fornax_tiling['RA'], deep_fornax_tiling['Dec'], s=1., alpha=.1)\u001b[39;00m\n\u001b[1;32m      5\u001b[0m \u001b[38;5;66;03m# plt.scatter(karina_df['target_ra'], karina_df['target_dec'], s=1., alpha=.1)\u001b[39;00m\n",
      "\u001b[0;31mNameError\u001b[0m: name 'deep_south_tiling' is not defined"
     ]
    },
    {
     "data": {
      "image/png": "[encoded data removed]",
      "text/plain": [
       "<Figure size 800x600 with 1 Axes>"
      ]
     },
     "metadata": {},
     "output_type": "display_data"
    }
   ],
   "source": [
    "plt.scatter(tiles['ra'], tiles['dec'], s=1.)\n",
    "plt.scatter(deep_south_tiling['RA'], deep_south_tiling['Dec'], s=1., alpha=.1)\n",
    "plt.scatter(deep_north_tiling['RA'], deep_north_tiling['Dec'], s=1., alpha=.1)\n",
    "# plt.scatter(deep_fornax_tiling['RA'], deep_fornax_tiling['Dec'], s=1., alpha=.1)\n",
    "# plt.scatter(karina_df['target_ra'], karina_df['target_dec'], s=1., alpha=.1)\n",
    "plt.xlabel('Right Ascension')\n",
    "plt.ylabel('Declination')\n",
    "\n",
    "\n",
    "# https://matplotlib.org/stable/gallery/text_labels_and_annotations/custom_legends.html\n",
    "# https://matplotlib.org/stable/gallery/color/color_cycle_default.html\n",
    "\n",
    "from matplotlib.lines import Line2D\n",
    "from matplotlib.patches import Patch\n",
    "\n",
    "prop_cycle = plt.rcParams['axes.prop_cycle']\n",
    "colors = prop_cycle.by_key()['color']\n",
    "\n",
    "markersize = 7\n",
    "legend_elements = [\n",
    "    Line2D([0], [0],linestyle='', marker='o', color=colors[0], markerfacecolor=colors[0], markersize=markersize, label=f'SAS i={survey.name} ({len(tiles)} VIS tiles)'),\n",
    "    Line2D([0], [0], linestyle='', marker='o', color=colors[1], markerfacecolor=colors[1], markersize=markersize, label='Planned Deep South'),\n",
    "    Line2D([0], [0], linestyle='', marker='o', color=colors[2], markerfacecolor=colors[2], markersize=markersize, label='Planned Deep North'),\n",
    "    # Line2D([0], [0], linestyle='', marker='o', color=colors[3], markerfacecolor=colors[3], markersize=markersize, label='Planned Deep Fornax'),\n",
    "    # Line2D([0], [0], linestyle='', marker='o', color=colors[4], markerfacecolor=colors[4], markersize=markersize, label='Karina')\n",
    "]\n",
    "\n",
    "plt.legend(handles=legend_elements)\n"
   ]
  },
  {
   "cell_type": "code",
   "execution_count": 11,
   "id": "d3ce26ae-5351-4a13-a38a-d598a6716f5f",
   "metadata": {},
   "outputs": [],
   "source": [
    "# karina_df = pd.read_csv('combined_karina_strong_lens_classifications.csv', usecols=['id_str', 'target_ra', 'target_dec'])"
   ]
  },
  {
   "cell_type": "code",
   "execution_count": 12,
   "id": "a9768a7c-fd36-4924-8f22-fa8a58d829fa",
   "metadata": {},
   "outputs": [
    {
     "data": {
      "text/plain": [
       "<matplotlib.legend.Legend at 0x7fd02cc29700>"
      ]
     },
     "execution_count": 12,
     "metadata": {},
     "output_type": "execute_result"
    },
    {
     "data": {
      "image/png": "[encoded data removed]",
      "text/plain": [
       "<Figure size 800x600 with 1 Axes>"
      ]
     },
     "metadata": {},
     "output_type": "display_data"
    }
   ],
   "source": [
    "plt.scatter(tiles['ra'], tiles['dec'], s=4., label=f'SAS {survey.name}')\n",
    "plt.scatter(deep_north_tiling['RA'], deep_north_tiling['Dec'], s=1., color='r', alpha=.5, label='Deep North Plan')\n",
    "# plt.scatter(karina_df['target_ra'], karina_df['target_dec'], s=1., alpha=.1, label='Karina')\n",
    "plt.xlabel('Right Ascension')\n",
    "plt.ylabel('Declination')\n",
    "plt.xlim([250, 300])\n",
    "plt.ylim([60, 70])\n",
    "plt.legend()"
   ]
  },
  {
   "cell_type": "markdown",
   "id": "6df16c04-08b7-4ec2-a765-a6968ecfa173",
   "metadata": {},
   "source": [
    "## What sources do we have in the MER catalogue?"
   ]
  },
  {
   "cell_type": "code",
   "execution_count": 13,
   "id": "29f7a284-52c0-43a1-bd03-24236f7b0c5f",
   "metadata": {},
   "outputs": [],
   "source": [
    "# safe_tiles = vis_tiles.query('ra > 270').query('ra < 280').query('dec > 62.1').query('dec < 70').sort_values(['dec', 'ra'], ascending=False)[['tile_index', 'ra', 'dec']][:14]"
   ]
  },
  {
   "cell_type": "code",
   "execution_count": 14,
   "id": "391d2947-6983-4289-b8fc-1d6d7f9f481f",
   "metadata": {
    "tags": []
   },
   "outputs": [],
   "source": [
    "# plt.scatter(safe_tiles['ra'], safe_tiles['dec'], s=4., label='SAS')\n",
    "# plt.scatter(deep_north_tiling['RA'], deep_north_tiling['Dec'], s=1., color='r', alpha=.5, label='Deep North Plan')\n",
    "# plt.xlabel('Right Ascension')\n",
    "# plt.ylabel('Declination')\n",
    "# plt.xlim([250, 300])\n",
    "# plt.ylim([60, 70])\n",
    "# plt.legend()"
   ]
  },
  {
   "cell_type": "code",
   "execution_count": 15,
   "id": "1211544f-101a-4ba3-b450-bfd5fb81c406",
   "metadata": {
    "tags": []
   },
   "outputs": [
    {
     "name": "stdout",
     "output_type": "stream",
     "text": [
      "INFO: Query finished. [astroquery.utils.tap.core]\n"
     ]
    },
    {
     "data": {
      "text/plain": [
       "287151"
      ]
     },
     "execution_count": 15,
     "metadata": {},
     "output_type": "execute_result"
    }
   ],
   "source": [
    "query_str = \"\"\"\n",
    "            SELECT right_ascension, declination\n",
    "            FROM catalogue.mer_catalogue\n",
    "            WHERE segmentation_area > 10000\n",
    "            ORDER BY segmentation_area DESC\n",
    "            \"\"\"\n",
    "job = Euclid.launch_job_async(query_str, background=False)\n",
    "len(job.results)"
   ]
  },
  {
   "cell_type": "code",
   "execution_count": 16,
   "id": "5160e2c9-b7fe-4b29-9be5-eae376781af7",
   "metadata": {
    "tags": []
   },
   "outputs": [],
   "source": [
    "mer_df = job.results\n",
    "# for now it seems all sources are only in this box of sky"
   ]
  },
  {
   "cell_type": "code",
   "execution_count": 17,
   "id": "96fdedb6-f977-4f0f-8f61-e816c16d4442",
   "metadata": {
    "tags": []
   },
   "outputs": [
    {
     "data": {
      "text/plain": [
       "<matplotlib.legend.Legend at 0x7fd02ca39e20>"
      ]
     },
     "execution_count": 17,
     "metadata": {},
     "output_type": "execute_result"
    },
    {
     "data": {
      "image/png": "[encoded data removed]",
      "text/plain": [
       "<Figure size 800x600 with 1 Axes>"
      ]
     },
     "metadata": {},
     "output_type": "display_data"
    }
   ],
   "source": [
    "# ra_limits = [mer_df['right_ascension'].min(), mer_df['right_ascension'].max()]\n",
    "# dec_limits = [mer_df['declination'].min(), mer_df['declination'].max()]\n",
    "\n",
    "plt.scatter(mer_df['right_ascension'], mer_df['declination'], s=1., label='Sources')\n",
    "plt.scatter(tiles['ra'], tiles['dec'], s=2., color='r', label='Tile centers')\n",
    "plt.xlabel('Right Ascension')\n",
    "plt.ylabel('Declination')\n",
    "# plt.xlim(ra_limits)\n",
    "# plt.ylim(dec_limits)\n",
    "plt.legend()\n",
    "# unlike the tiles, which are in SAS (albeit wrongly indexed), the MER catalogs are only available in SAS for a small corner of the Wide survey"
   ]
  },
  {
   "cell_type": "markdown",
   "id": "59137c23-6467-4657-8be1-3b360a87901a",
   "metadata": {},
   "source": [
    "## Get tiles specifically in that area"
   ]
  },
  {
   "cell_type": "code",
   "execution_count": 18,
   "id": "aa948744-10a7-415c-a7c3-1af69f86c836",
   "metadata": {
    "tags": []
   },
   "outputs": [
    {
     "ename": "NameError",
     "evalue": "name 'ra_limits' is not defined",
     "output_type": "error",
     "traceback": [
      "\u001b[0;31m---------------------------------------------------------------------------\u001b[0m",
      "\u001b[0;31mNameError\u001b[0m                                 Traceback (most recent call last)",
      "Cell \u001b[0;32mIn[18], line 1\u001b[0m\n\u001b[0;32m----> 1\u001b[0m tiles_with_sources \u001b[38;5;241m=\u001b[39m pipeline_utils\u001b[38;5;241m.\u001b[39mget_tiles_in_survey(survey, bands\u001b[38;5;241m=\u001b[39m\u001b[38;5;124m'\u001b[39m\u001b[38;5;124mVIS\u001b[39m\u001b[38;5;124m'\u001b[39m, ra_limits\u001b[38;5;241m=\u001b[39m\u001b[43mra_limits\u001b[49m, dec_limits\u001b[38;5;241m=\u001b[39mdec_limits)\n\u001b[1;32m      2\u001b[0m \u001b[38;5;28mlen\u001b[39m(tiles_with_sources)\n",
      "\u001b[0;31mNameError\u001b[0m: name 'ra_limits' is not defined"
     ]
    }
   ],
   "source": [
    "tiles_with_sources = pipeline_utils.get_tiles_in_survey(survey, bands='VIS', ra_limits=ra_limits, dec_limits=dec_limits)\n",
    "len(tiles_with_sources)"
   ]
  },
  {
   "cell_type": "code",
   "execution_count": null,
   "id": "9c6ada64-1a9b-43fa-ba5a-e3997e3ac640",
   "metadata": {
    "tags": []
   },
   "outputs": [],
   "source": [
    "plt.scatter(tiles_with_sources['ra'], tiles_with_sources['dec'], s=2., color='r', label='Tile centers')\n",
    "plt.xlabel('Right Ascension')\n",
    "plt.ylabel('Declination')"
   ]
  },
  {
   "cell_type": "code",
   "execution_count": null,
   "id": "fb8e1d40-f589-4838-baa4-297cb1712d66",
   "metadata": {},
   "outputs": [],
   "source": [
    "# TODO save these (without VIS filter) and in another notebook, download for making cutouts"
   ]
  },
  {
   "cell_type": "code",
   "execution_count": null,
   "id": "e7c69cd3-4d19-424c-8195-d18b54803aff",
   "metadata": {},
   "outputs": [],
   "source": []
  },
  {
   "cell_type": "markdown",
   "id": "92b6bb16-73d3-4876-89a2-bcc7eaf8255b",
   "metadata": {},
   "source": [
    "## Count sources under various filters"
   ]
  },
  {
   "cell_type": "code",
   "execution_count": null,
   "id": "ef48503c-c76b-4ccf-a774-66edd511986a",
   "metadata": {
    "tags": []
   },
   "outputs": [],
   "source": [
    "# help(Euclid.launch_job_async)"
   ]
  },
  {
   "cell_type": "code",
   "execution_count": null,
   "id": "ec92c9a2-a344-4b55-8ae3-910a7c6dbc39",
   "metadata": {
    "tags": []
   },
   "outputs": [],
   "source": [
    "# rand_fraction = 0.01\n",
    "\n",
    "# ,'point_like_flag','point_like_prob'\n",
    "# 'binary_flag','blended_prob','deblended_flag',\n",
    "# 'det_quality_flag',\n",
    "# 'flag_vis','flag_y'\n",
    "\n",
    "# query_str = f\"\"\"\n",
    "#             SELECT TOP 10 * \n",
    "#             FROM catalogue.mer_catalogue\n",
    "#             WHERE segmentation_area > 100\n",
    "#             AND gaia_id IS NULL\n",
    "#             AND RAND() < {rand_fraction}\n",
    "#             \"\"\"\n",
    "# job = Euclid.launch_job(query_str)\n",
    "# job.results.columns"
   ]
  },
  {
   "cell_type": "code",
   "execution_count": 7,
   "id": "330a0fec-0c74-4901-bd39-955e640bc8ac",
   "metadata": {
    "tags": []
   },
   "outputs": [],
   "source": [
    "rand_fraction = 0.01\n",
    "\n",
    "query_str = f\"\"\"\n",
    "            SELECT right_ascension, declination, segmentation_area, flux_segmentation, object_id, spurious_prob, vis_det, det_quality_flag, flag_vis, flag_y, flux_g_ext_decam_aper, flux_i_ext_decam_aper, flux_r_ext_decam_aper\n",
    "            FROM catalogue.mer_catalogue\n",
    "            WHERE gaia_id IS NULL\n",
    "            AND vis_det=1\n",
    "            AND spurious_prob < 0.2\n",
    "            AND (segmentation_area > 1200 OR (segmentation_area > 200 AND flux_segmentation > 22.90867652))\n",
    "            AND RAND() < {rand_fraction}\n",
    "            \"\"\"\n",
    "\n",
    "job = Euclid.launch_job_async(query_str, background=False, dump_to_file=True, output_file='latest_gz_euclid_candidates.csv', output_format='csv')"
   ]
  },
  {
   "cell_type": "code",
   "execution_count": 8,
   "id": "55b403d3-82db-48dc-95a7-b682d5cff423",
   "metadata": {
    "tags": []
   },
   "outputs": [],
   "source": [
    "rand_fraction = 0.01\n",
    "\n",
    "query_str = f\"\"\"\n",
    "            SELECT right_ascension, declination, segmentation_area, flux_segmentation, object_id, spurious_prob, vis_det, det_quality_flag, flag_vis, flag_y, flux_g_ext_decam_aper, flux_i_ext_decam_aper, flux_r_ext_decam_aper\n",
    "            FROM catalogue.mer_catalogue\n",
    "            WHERE segmentation_area > 100\n",
    "            AND gaia_id IS NULL\n",
    "            AND vis_det=1\n",
    "            AND spurious_prob < 0.2\n",
    "            AND RAND() < {rand_fraction}\n",
    "            \"\"\"\n",
    "\n",
    "job = Euclid.launch_job_async(query_str, background=False, dump_to_file=True, output_file='latest_all_sources.csv', output_format='csv')"
   ]
  },
  {
   "cell_type": "code",
   "execution_count": 9,
   "id": "bc02cd6b-9b77-4738-8db1-ce8b12f33c2a",
   "metadata": {
    "tags": []
   },
   "outputs": [
    {
     "data": {
      "text/plain": [
       "(8317, 831700)"
      ]
     },
     "execution_count": 9,
     "metadata": {},
     "output_type": "execute_result"
    }
   ],
   "source": [
    "gz = pd.read_csv('latest_gz_euclid_candidates.csv')\n",
    "len(gz), int(len(gz) / rand_fraction)\n"
   ]
  },
  {
   "cell_type": "code",
   "execution_count": 10,
   "id": "41f5c257-73d9-457b-b742-8bc03cf1db20",
   "metadata": {
    "tags": []
   },
   "outputs": [
    {
     "data": {
      "text/plain": [
       "(180645, 18064500)"
      ]
     },
     "execution_count": 10,
     "metadata": {},
     "output_type": "execute_result"
    }
   ],
   "source": [
    "\n",
    "df = pd.read_csv('latest_all_sources.csv')\n",
    "len(df), int(len(df) / rand_fraction)"
   ]
  },
  {
   "cell_type": "code",
   "execution_count": 11,
   "id": "feadcc01-0928-400a-b9a3-7e21701f6f76",
   "metadata": {
    "tags": []
   },
   "outputs": [
    {
     "data": {
      "text/plain": [
       "Text(0, 0.5, 'Declination')"
      ]
     },
     "execution_count": 11,
     "metadata": {},
     "output_type": "execute_result"
    },
    {
     "data": {
      "image/png": "[encoded data removed]",
      "text/plain": [
       "<Figure size 800x600 with 1 Axes>"
      ]
     },
     "metadata": {},
     "output_type": "display_data"
    }
   ],
   "source": [
    "plt.scatter(df['right_ascension'], df['declination'], s=1., label='Candidate Cutouts')\n",
    "plt.xlabel('Right Ascension')\n",
    "plt.ylabel('Declination')"
   ]
  },
  {
   "cell_type": "code",
   "execution_count": null,
   "id": "93e5dd7b-476d-44f1-9f53-022976ea49af",
   "metadata": {},
   "outputs": [],
   "source": []
  },
  {
   "cell_type": "code",
   "execution_count": 12,
   "id": "e04b16fe-83c6-4e31-9ce8-2db96166b987",
   "metadata": {
    "tags": []
   },
   "outputs": [],
   "source": [
    "# df['g_minus_i_mag'] = 2.5 * np.log10(df['flux_g_ext_decam_aper']/df['flux_i_ext_decam_aper'])\n",
    "# df['g_minus_r_mag'] = 2.5 * np.log10(df['flux_g_ext_decam_aper']/df['flux_r_ext_decam_aper'])\n"
   ]
  },
  {
   "cell_type": "code",
   "execution_count": 13,
   "id": "c5fc7b86-8b51-4d86-981b-51bd5bfce6f7",
   "metadata": {
    "tags": []
   },
   "outputs": [
    {
     "name": "stderr",
     "output_type": "stream",
     "text": [
      "/opt/miniconda/envs/euclid-tools/lib/python3.9/site-packages/pandas/core/arraylike.py:399: RuntimeWarning: invalid value encountered in log10\n",
      "  result = getattr(ufunc, method)(*inputs, **kwargs)\n",
      "/opt/miniconda/envs/euclid-tools/lib/python3.9/site-packages/pandas/core/arraylike.py:399: RuntimeWarning: invalid value encountered in log10\n",
      "  result = getattr(ufunc, method)(*inputs, **kwargs)\n",
      "/opt/miniconda/envs/euclid-tools/lib/python3.9/site-packages/pandas/core/arraylike.py:399: RuntimeWarning: invalid value encountered in log10\n",
      "  result = getattr(ufunc, method)(*inputs, **kwargs)\n",
      "/opt/miniconda/envs/euclid-tools/lib/python3.9/site-packages/pandas/core/arraylike.py:399: RuntimeWarning: invalid value encountered in log10\n",
      "  result = getattr(ufunc, method)(*inputs, **kwargs)\n",
      "/opt/miniconda/envs/euclid-tools/lib/python3.9/site-packages/pandas/core/arraylike.py:399: RuntimeWarning: invalid value encountered in log10\n",
      "  result = getattr(ufunc, method)(*inputs, **kwargs)\n",
      "/opt/miniconda/envs/euclid-tools/lib/python3.9/site-packages/pandas/core/arraylike.py:399: RuntimeWarning: invalid value encountered in log10\n",
      "  result = getattr(ufunc, method)(*inputs, **kwargs)\n"
     ]
    }
   ],
   "source": []
  },
  {
   "cell_type": "code",
   "execution_count": 14,
   "id": "7f54ef2b-4404-4bc5-8b29-1753333b96e7",
   "metadata": {
    "tags": []
   },
   "outputs": [],
   "source": []
  },
  {
   "cell_type": "code",
   "execution_count": 22,
   "id": "514b910b-1327-4a2e-b846-14d478cc1182",
   "metadata": {
    "tags": []
   },
   "outputs": [
    {
     "name": "stdout",
     "output_type": "stream",
     "text": [
      "5 0.01\n",
      "1.8 0.19054607179632474\n",
      "3 0.06309573444801933\n",
      "0.6 0.5754399373371569\n"
     ]
    }
   ],
   "source": []
  },
  {
   "cell_type": "code",
   "execution_count": 23,
   "id": "c66a7022-64f8-4e4e-82ee-fb0294544072",
   "metadata": {
    "tags": []
   },
   "outputs": [],
   "source": [
    " # -2.5log10(FLUX_H_APER / FLUX_g_APER) = lim\n",
    "# -lim/2.5 = log10(...)\n",
    "# h flux / g flux = 10**-x/2.5\n",
    "\n"
   ]
  },
  {
   "cell_type": "code",
   "execution_count": 15,
   "id": "21a2fcb5-e70a-43b0-9042-ebec30cbd3a0",
   "metadata": {
    "tags": []
   },
   "outputs": [
    {
     "name": "stdout",
     "output_type": "stream",
     "text": [
      "22.5 3.630780547701008\n",
      "18 229.08676527677702\n",
      "18.2 190.54607179632464\n",
      "20 36.307805477010085\n",
      "23.5 1.4454397707459257\n",
      "18.2 190.54607179632464\n"
     ]
    }
   ],
   "source": []
  },
  {
   "cell_type": "code",
   "execution_count": 16,
   "id": "f49a77e4-7438-4c29-8105-d261742076dd",
   "metadata": {
    "tags": []
   },
   "outputs": [
    {
     "name": "stdout",
     "output_type": "stream",
     "text": [
      "0.24317307426167345 0.9815106977774087 0.7980901768662293 0.22290680616679123 0.6082814359655678\n",
      "0.07989703562235323\n"
     ]
    }
   ],
   "source": [
    "lens = apply_strong_lens_cut(df)"
   ]
  },
  {
   "cell_type": "code",
   "execution_count": 17,
   "id": "6ac1033b-140d-48ae-9ddd-473ea0fa73a3",
   "metadata": {
    "tags": []
   },
   "outputs": [
    {
     "data": {
      "text/plain": [
       "0.15991131434906117"
      ]
     },
     "execution_count": 17,
     "metadata": {},
     "output_type": "execute_result"
    }
   ],
   "source": [
    "(lens['segmentation_area'] > 1200).mean()"
   ]
  },
  {
   "cell_type": "code",
   "execution_count": 18,
   "id": "f21561d1-0440-4c18-b607-97e224b323d5",
   "metadata": {
    "tags": []
   },
   "outputs": [
    {
     "data": {
      "text/plain": [
       "0.17259059100672072"
      ]
     },
     "execution_count": 18,
     "metadata": {},
     "output_type": "execute_result"
    }
   ],
   "source": [
    "((lens['segmentation_area'] > 1200) | ((lens['segmentation_area'] > 200) & (lens['mag_segmentation'] < 20.5))).mean()\n",
    "# about 15% of those sources will be large or bright enough to qualify for Zoobot morphology predictions\n",
    "# so as expected most lenses are much smaller/fainter than Zoobot GZ labels are designed for\n",
    "# could be a problem for filtering to smooth galaxies, depends how well Zoobot etc performs"
   ]
  },
  {
   "cell_type": "code",
   "execution_count": 19,
   "id": "d92b0ef3-64ac-4449-9422-a79adb1863b5",
   "metadata": {
    "tags": []
   },
   "outputs": [
    {
     "name": "stdout",
     "output_type": "stream",
     "text": [
      "0.9199230491763857 0.9309847300709391 0.9436094745701575 0.3305278345557292 0.7626548034146928\n",
      "0.3046771672478057\n"
     ]
    }
   ],
   "source": [
    "gz_lens = apply_strong_lens_cut(gz)"
   ]
  },
  {
   "cell_type": "code",
   "execution_count": 20,
   "id": "b57d8081-f67b-4f13-b73c-d16cea0f9a8d",
   "metadata": {
    "tags": []
   },
   "outputs": [
    {
     "ename": "NameError",
     "evalue": "name 'good_all' is not defined",
     "output_type": "error",
     "traceback": [
      "\u001b[0;31m---------------------------------------------------------------------------\u001b[0m",
      "\u001b[0;31mNameError\u001b[0m                                 Traceback (most recent call last)",
      "Cell \u001b[0;32mIn[20], line 1\u001b[0m\n\u001b[0;32m----> 1\u001b[0m \u001b[38;5;28mlen\u001b[39m(df[\u001b[43mgood_all\u001b[49m]), \u001b[38;5;28mint\u001b[39m(\u001b[38;5;28mlen\u001b[39m(df[good_all]) \u001b[38;5;241m/\u001b[39m rand_fraction)\n",
      "\u001b[0;31mNameError\u001b[0m: name 'good_all' is not defined"
     ]
    }
   ],
   "source": [
    "len(df[good_all]), int(len(df[good_all]) / rand_fraction)"
   ]
  },
  {
   "cell_type": "code",
   "execution_count": null,
   "id": "98775177-7fb9-44be-b424-c5aee4310ab1",
   "metadata": {
    "tags": []
   },
   "outputs": [],
   "source": []
  },
  {
   "cell_type": "code",
   "execution_count": null,
   "id": "248d43f6-0f16-4ce5-8558-40aaeea83051",
   "metadata": {
    "tags": []
   },
   "outputs": [],
   "source": [
    "plt.scatter(df[good_all]['right_ascension'], df[good_all]['declination'], s=1., label='Candidate Cutouts')\n",
    "plt.xlabel('Right Ascension')\n",
    "plt.ylabel('Declination')"
   ]
  },
  {
   "cell_type": "code",
   "execution_count": 71,
   "id": "e3f0c20c-7da5-47dc-8f2d-145034028342",
   "metadata": {
    "tags": []
   },
   "outputs": [
    {
     "ename": "ModuleNotFoundError",
     "evalue": "No module named 'astropy.coords'",
     "output_type": "error",
     "traceback": [
      "\u001b[0;31m---------------------------------------------------------------------------\u001b[0m",
      "\u001b[0;31mModuleNotFoundError\u001b[0m                       Traceback (most recent call last)",
      "Cell \u001b[0;32mIn[71], line 2\u001b[0m\n\u001b[1;32m      1\u001b[0m \u001b[38;5;28;01mimport\u001b[39;00m \u001b[38;5;21;01mastropy\u001b[39;00m\n\u001b[0;32m----> 2\u001b[0m \u001b[38;5;28;01mfrom\u001b[39;00m \u001b[38;5;21;01mastropy\u001b[39;00m\u001b[38;5;21;01m.\u001b[39;00m\u001b[38;5;21;01mcoords\u001b[39;00m \u001b[38;5;28;01mimport\u001b[39;00m SkyCoord\n",
      "\u001b[0;31mModuleNotFoundError\u001b[0m: No module named 'astropy.coords'"
     ]
    }
   ],
   "source": [
    "import astropy\n",
    "from astropy.coords import SkyCoord"
   ]
  },
  {
   "cell_type": "code",
   "execution_count": 70,
   "id": "f79fae3d-011e-4866-9c66-7f9800285c8e",
   "metadata": {
    "tags": []
   },
   "outputs": [],
   "source": [
    "# plt.scatter(df['right_ascension'], df['declination'])"
   ]
  },
  {
   "cell_type": "code",
   "execution_count": null,
   "id": "4de9ff18-7ce5-4942-a217-dfcd55562eaf",
   "metadata": {
    "tags": []
   },
   "outputs": [],
   "source": [
    "# df['spurious_prob'].hist(bins=100)"
   ]
  },
  {
   "cell_type": "code",
   "execution_count": null,
   "id": "b8569b4b-2e7d-4b4a-a2e9-4640ca28d33c",
   "metadata": {},
   "outputs": [],
   "source": []
  },
  {
   "cell_type": "markdown",
   "id": "58e726ac-2843-4f12-be58-c0057128d38f",
   "metadata": {},
   "source": [
    "\"the fluxes in MER catalogues are microJy, therefore you don’t need any zeropoint, but only the conversion mag = -2.5*log10(flux[muJy])+23.9\"\n"
   ]
  },
  {
   "cell_type": "code",
   "execution_count": null,
   "id": "dab296ad-6bcd-41b3-bf4f-9fffe2406c9b",
   "metadata": {
    "tags": []
   },
   "outputs": [],
   "source": [
    "df['mag_segmentation'] = -2.5 * np.log10(df['flux_segmentation']) + 23.9"
   ]
  },
  {
   "cell_type": "code",
   "execution_count": null,
   "id": "a4ce6e46-0d30-47a2-b626-1b50896b3844",
   "metadata": {
    "tags": []
   },
   "outputs": [],
   "source": [
    "\n",
    "fig, ax = plt.subplots()\n",
    "ax.scatter(df['mag_segmentation'], df['segmentation_area'], alpha=.1, s=1.)\n",
    "ax.set_yscale('log')\n",
    "plt.xlabel('VIS Mag')\n",
    "plt.ylabel('Segmentation area (VIS pixels)')\n",
    "x_min = 18\n",
    "x_max = 22\n",
    "y_min = 10**2\n",
    "y_max = 10**5\n",
    "ax.set_xlim([x_min, x_max])\n",
    "ax.set_ylim([y_min, y_max])\n",
    "ax.hlines(1200, 20.5, x_max, linestyle='-', alpha=.7, color='r', label='Area=1200px')\n",
    "# ax.hlines(800, x_min, 20.5, linestyle='-', alpha=.7, color='r', label='Area=800px')\n",
    "# ax.hlines(1500, x_min, x_max, linestyle='--', alpha=.5, color='g', label='Area=1500px')\n",
    "# ax.hlines(2000, x_min, x_max, linestyle='--', alpha=.5, color='orange', label='Area=2000px')\n",
    "# ax.vlines(20, y_min, y_max, linestyle='--', alpha=.7, color='k', label='VIS=20')\n",
    "ax.vlines(20.5, y_min, 1200, linestyle='-', alpha=.7, color='g', label='VIS=20.5')\n",
    "\n",
    "\n",
    "alpha = .05\n",
    "# color = '#00979D'\n",
    "color = 'r'\n",
    "select_x = np.linspace(x_min, x_max)\n",
    "# select_x_low = select_x[select_x < 20.5]\n",
    "# select_x_high = np.concatenate([select_x_low[-1].reshape(1), select_x[select_x >= 20.5]])\n",
    "\n",
    "# ax.fill_between(select_x, np.where(select_x < 20.5, x_min, 1200), y_max, color=color, alpha=alpha)\n",
    "select_x = np.linspace(20.5, x_max)\n",
    "ax.fill_between(select_x, y_min, 1200, color=color, alpha=alpha)\n",
    "ax.text(19.1, 400, 'Complete to VIS=20.5')\n",
    "ax.text(20.1, 5000, 'Includes faint extended galaxies')\n",
    "# ax.text(20.1, 5000, 'Dropped', color='r')\n",
    "\n",
    "plt.legend(loc='upper right')"
   ]
  },
  {
   "cell_type": "code",
   "execution_count": null,
   "id": "3eb6f4b9-fa5e-405a-bce4-e524c5a58025",
   "metadata": {
    "tags": []
   },
   "outputs": [],
   "source": [
    "len(df)"
   ]
  },
  {
   "cell_type": "code",
   "execution_count": null,
   "id": "9e4b5426-fdcc-4296-8cf1-a1cbd5d96d6d",
   "metadata": {
    "tags": []
   },
   "outputs": [],
   "source": [
    "df.query('segmentation_area > 1200')['flag_vis']"
   ]
  },
  {
   "cell_type": "code",
   "execution_count": null,
   "id": "10eb4566-31c2-4b96-b8f4-8bb06c97e9f9",
   "metadata": {
    "tags": []
   },
   "outputs": [],
   "source": [
    "df['flag_vis_binary'] = df['flag_vis'].apply(lambda x: \"{0:b}\".format(x))"
   ]
  },
  {
   "cell_type": "code",
   "execution_count": null,
   "id": "fa82507f-f322-44a1-a6c3-54d62db92eb3",
   "metadata": {
    "tags": []
   },
   "outputs": [],
   "source": [
    "df['flag_vis_contaminated'] = df['flag_vis'].apply(lambda x: x // 2)\n",
    "df['flag_vis_contaminated'].value_counts()"
   ]
  },
  {
   "cell_type": "code",
   "execution_count": null,
   "id": "cae0a6f5-e254-4e4d-91cf-2c9aa18152a8",
   "metadata": {
    "tags": []
   },
   "outputs": [],
   "source": [
    "df.query('segmentation_area > 1200')['flag_vis_binary']"
   ]
  },
  {
   "cell_type": "code",
   "execution_count": null,
   "id": "4f0e6369-d711-4cd2-a911-6a33e3bbe125",
   "metadata": {
    "tags": []
   },
   "outputs": [],
   "source": [
    "df['flag_vis_contaminated'] = df['flag_vis_binary'].apply(lambda x: (x[0] == '1'))\n",
    "df['flag_vis_contaminated'].value_counts()"
   ]
  },
  {
   "cell_type": "code",
   "execution_count": null,
   "id": "bb86b535-6f7f-4a1d-8e71-d9e2065c6682",
   "metadata": {
    "tags": []
   },
   "outputs": [],
   "source": [
    "df['flag_vis_blended'] = df['flag_vis_binary'].apply(lambda x: (x[1] == '1') if len(x) > 1 else False)\n",
    "df['flag_vis_blended'].value_counts()"
   ]
  },
  {
   "cell_type": "code",
   "execution_count": null,
   "id": "0a28454c-fe73-4848-84ef-2032efcedf53",
   "metadata": {
    "tags": []
   },
   "outputs": [],
   "source": [
    "df['flag_vis_saturated'] = df['flag_vis_binary'].apply(lambda x: (x[2] == '1') if len(x) > 2 else False)\n",
    "df['flag_vis_saturated'].value_counts()"
   ]
  },
  {
   "cell_type": "code",
   "execution_count": null,
   "id": "7e7d849c-bd9c-484e-9a27-5585fd9511c2",
   "metadata": {
    "tags": []
   },
   "outputs": [],
   "source": [
    "df['flag_vis_border'] = df['flag_vis_binary'].apply(lambda x: (x[3] == '1') if len(x) > 3 else False)\n",
    "df['flag_vis_border'].value_counts()"
   ]
  },
  {
   "cell_type": "code",
   "execution_count": null,
   "id": "3a67f977-6e66-46eb-b38a-996deb4077ae",
   "metadata": {},
   "outputs": [],
   "source": [
    "\"\"\"\n",
    "Bit Set\n",
    "Description\n",
    "1\n",
    "Source contaminated by closer neighbors or has bad pixels\n",
    "2\n",
    "Source blended with another one (must comply with PARENT_ID ≠ -1)\n",
    "3\n",
    "Source saturated\n",
    "4\n",
    "Source close to a border\n",
    "\n",
    "\"\"\""
   ]
  },
  {
   "cell_type": "code",
   "execution_count": null,
   "id": "8032ffa2-724d-4226-b79a-5fdcbd33bb49",
   "metadata": {
    "tags": []
   },
   "outputs": [],
   "source": [
    "df.query('segmentation_area > 1200')['flag_vis_binary'].value_counts()\n",
    "# TODO https://docs.google.com/document/d/16EDD-tvAj5VpKOnD_fsCw6ujixO9gPu8oK_egbWs4hk/edit"
   ]
  },
  {
   "cell_type": "code",
   "execution_count": null,
   "id": "dad2f7ed-9f73-44d8-bf0f-64980bbb9e7e",
   "metadata": {
    "tags": []
   },
   "outputs": [],
   "source": [
    "len(df.query('segmentation_area > 1200').query('mag_segmentation < 24')) / rand_fraction"
   ]
  },
  {
   "cell_type": "code",
   "execution_count": null,
   "id": "882f2ae9-51a6-47b5-8a06-0d121e273d2f",
   "metadata": {
    "tags": []
   },
   "outputs": [],
   "source": [
    "len(df.query('segmentation_area > 1500').query('mag_segmentation < 24')) / rand_fraction"
   ]
  },
  {
   "cell_type": "code",
   "execution_count": null,
   "id": "4a6031b3-42a4-4998-ba61-b45395e011fe",
   "metadata": {
    "tags": []
   },
   "outputs": [],
   "source": [
    "len(df.query('segmentation_area > 2000').query('mag_segmentation < 24')) / rand_fraction"
   ]
  },
  {
   "cell_type": "code",
   "execution_count": null,
   "id": "fecbf17d-9cdb-45c2-a8b4-79146cb0f3cd",
   "metadata": {
    "tags": []
   },
   "outputs": [],
   "source": [
    "len(df.query('segmentation_area > 1200').query('mag_segmentation < 24').query('spurious_prob < 0.2')) / rand_fraction"
   ]
  },
  {
   "cell_type": "code",
   "execution_count": null,
   "id": "44b06f88-0029-4e18-a831-ffb30db7ddb6",
   "metadata": {
    "tags": []
   },
   "outputs": [],
   "source": [
    "len(df.query('segmentation_area > 1200')) / rand_fraction, len(df.query('segmentation_area > 2000')) / rand_fraction, len(df)/rand_fraction\n",
    "# about 1M galaxies above 1200, about 500k above 2000, out of 29M (above 100 i.e. 10 pixels across)"
   ]
  },
  {
   "cell_type": "code",
   "execution_count": null,
   "id": "9f5267e8-2289-4408-a098-cd37a0a10d92",
   "metadata": {
    "tags": []
   },
   "outputs": [],
   "source": [
    "35 ** 2, 45 ** 2"
   ]
  },
  {
   "cell_type": "code",
   "execution_count": null,
   "id": "3a1dc54c-264c-458b-a6c9-7555677c3e81",
   "metadata": {
    "tags": []
   },
   "outputs": [],
   "source": [
    "len(df.query('segmentation_area > 2000').query('segmentation_area < 10000')) / rand_fraction"
   ]
  },
  {
   "cell_type": "code",
   "execution_count": null,
   "id": "94ee445c-a5e5-42ef-86a6-094f2b75c97b",
   "metadata": {
    "tags": []
   },
   "outputs": [],
   "source": [
    "vis_data = fits.getdata('testing/EUC_MER_BGSUB-MOSAIC-VIS_TILE102010567-EE51A8_20240306T053728.760996Z_00.00.fits')\n",
    "vis_data.size  # pixels per tile"
   ]
  },
  {
   "cell_type": "code",
   "execution_count": null,
   "id": "f8d9aace-af12-426b-8e02-c7035d5d5f62",
   "metadata": {
    "tags": []
   },
   "outputs": [],
   "source": [
    "total_survey_pixels = vis_data.size * len(tiles)  # ignoring overlaps\n",
    "total_survey_pixels"
   ]
  },
  {
   "cell_type": "code",
   "execution_count": null,
   "id": "a446c868-8ec4-4d61-8996-689c10c6848b",
   "metadata": {
    "tags": []
   },
   "outputs": [],
   "source": []
  },
  {
   "cell_type": "code",
   "execution_count": null,
   "id": "20cd3ae5-72ad-4150-80cf-bea6155132ac",
   "metadata": {
    "tags": []
   },
   "outputs": [],
   "source": [
    "galaxy_pixels = df['segmentation_area'].sum()\n",
    "our_galaxy_pixels = df.query('segmentation_area > 1200')['segmentation_area'].sum() \n",
    "our_galaxy_pixels / galaxy_pixels"
   ]
  },
  {
   "cell_type": "code",
   "execution_count": null,
   "id": "5542a230-a15b-4c19-9a2a-d9d3e2acce70",
   "metadata": {
    "tags": []
   },
   "outputs": [],
   "source": [
    "galaxy_pixels / total_survey_pixels  # about 3% of the sky, ignoring corners"
   ]
  },
  {
   "cell_type": "code",
   "execution_count": null,
   "id": "cda30181-7e63-42a6-9200-22726e6645cc",
   "metadata": {
    "tags": []
   },
   "outputs": [],
   "source": [
    "# Ac = pi r ** 2  As = (2r) ** 2\n",
    "\n",
    "# np.sqrt(Ac / pi) = np.sqrt(As)/2\n",
    "\n",
    "# 4Ac / pi = As\n",
    "\n",
    "# 4Ac = As * pi\n",
    "\n",
    "# As = 4/pi Ac\n",
    "\n",
    "# 4/pi factor different\n",
    "\n",
    "galaxy_pixels * (4/np.pi) / total_survey_pixels"
   ]
  },
  {
   "cell_type": "code",
   "execution_count": null,
   "id": "952292bd-24c3-486c-abf0-4044a4c0ae07",
   "metadata": {
    "tags": []
   },
   "outputs": [],
   "source": [
    "(len(tiles) * 30 / 60)"
   ]
  },
  {
   "cell_type": "code",
   "execution_count": null,
   "id": "6949102a-9a34-4cd6-af50-dc0b4a6cfd4b",
   "metadata": {
    "tags": []
   },
   "outputs": [],
   "source": [
    "len(tiles) * 30 * 30 / (60*60)"
   ]
  },
  {
   "cell_type": "code",
   "execution_count": null,
   "id": "f5b0154f-876c-4317-b4e7-39a41e7b54d8",
   "metadata": {},
   "outputs": [],
   "source": []
  }
 ],
 "metadata": {
  "kernelspec": {
   "display_name": "EUCLID-TOOLS",
   "language": "python",
   "name": "euclid-tools"
  },
  "language_info": {
   "codemirror_mode": {
    "name": "ipython",
    "version": 3
   },
   "file_extension": ".py",
   "mimetype": "text/x-python",
   "name": "python",
   "nbconvert_exporter": "python",
   "pygments_lexer": "ipython3",
   "version": "3.9.0"
  }
 },
 "nbformat": 4,
 "nbformat_minor": 5
}
