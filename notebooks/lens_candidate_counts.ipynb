{
 "cells": [
  {
   "cell_type": "code",
   "execution_count": 1,
   "id": "96b8dd85-75fa-4b99-911c-1a74d85d8b69",
   "metadata": {
    "tags": []
   },
   "outputs": [],
   "source": [
    "%load_ext autoreload\n",
    "%autoreload 2"
   ]
  },
  {
   "cell_type": "code",
   "execution_count": 2,
   "id": "8ea40f92-59ac-4eb2-9ca7-3c5f9dcf2018",
   "metadata": {
    "tags": []
   },
   "outputs": [
    {
     "name": "stderr",
     "output_type": "stream",
     "text": [
      "/tmp/ipykernel_363/3496465029.py:9: DeprecationWarning: \n",
      "Pyarrow will become a required dependency of pandas in the next major release of pandas (pandas 3.0),\n",
      "(to allow more performant data types, such as the Arrow string type, and better interoperability with other libraries)\n",
      "but was not found to be installed on your system.\n",
      "If this would cause problems for you,\n",
      "please provide us feedback at https://github.com/pandas-dev/pandas/issues/54466\n",
      "        \n",
      "  import pandas as pd\n"
     ]
    }
   ],
   "source": [
    "from astroquery.esa.euclid.core import EuclidClass, Euclid\n",
    "import astropy.units as u\n",
    "from astropy.coordinates import SkyCoord\n",
    "from astropy.nddata.utils import Cutout2D\n",
    "from multiprocessing.pool import ThreadPool\n",
    "from astropy import wcs\n",
    "from astropy.io import fits\n",
    "import numpy as np\n",
    "import pandas as pd\n",
    "#import sep\n",
    "import glob\n",
    "import os\n",
    "\n",
    "from PIL import Image\n",
    "import matplotlib.pyplot as plt\n",
    "from matplotlib.patches import Ellipse\n",
    "from astropy.table import Table\n",
    "from astropy.visualization import astropy_mpl_style, ImageNormalize, ZScaleInterval, PercentileInterval, AsinhStretch, SqrtStretch, SquaredStretch\n",
    "plt.style.use(astropy_mpl_style)\n",
    "pd.set_option('display.max_colwidth', 0) #to show full column content (no wrapping and no dots)"
   ]
  },
  {
   "cell_type": "code",
   "execution_count": 17,
   "id": "7670903b-0086-40bf-9f86-d81e1ab61d19",
   "metadata": {
    "tags": []
   },
   "outputs": [
    {
     "name": "stdout",
     "output_type": "stream",
     "text": [
      "INFO: Login to Euclid TAP server [astroquery.esa.euclid.core]\n"
     ]
    },
    {
     "name": "stdout",
     "output_type": "stream",
     "text": [
      "Password:  ········\n"
     ]
    },
    {
     "name": "stdout",
     "output_type": "stream",
     "text": [
      "INFO: OK [astroquery.utils.tap.core]\n",
      "INFO: Login to Euclid data service [astroquery.esa.euclid.core]\n",
      "INFO: OK [astroquery.utils.tap.core]\n",
      "INFO: Login to Euclid cutout service [astroquery.esa.euclid.core]\n",
      "INFO: OK [astroquery.utils.tap.core]\n"
     ]
    }
   ],
   "source": [
    "# change to your username|\n",
    "Euclid.login(user='mwalms01')"
   ]
  },
  {
   "cell_type": "code",
   "execution_count": 33,
   "id": "76278a79-bcfb-408a-be89-ff1fdd50fe47",
   "metadata": {
    "tags": []
   },
   "outputs": [],
   "source": [
    "rand_fraction = 0.05\n",
    "\n",
    "query_str = f\"\"\"\n",
    "            SELECT right_ascension, declination, object_id, segmentation_map_id, segmentation_area, flux_segmentation, spurious_prob, vis_det, det_quality_flag, flag_vis, flag_y, flux_g_ext_decam_aper, flux_i_ext_decam_aper, flux_r_ext_decam_aper\n",
    "            FROM catalogue.mer_catalogue\n",
    "            WHERE segmentation_area > 100\n",
    "            AND gaia_id IS NULL\n",
    "            AND vis_det=1\n",
    "            AND spurious_prob < 0.2\n",
    "            AND declination < 0\n",
    "            AND RAND() < {rand_fraction}\n",
    "            \"\"\"\n",
    "\n",
    "job = Euclid.launch_job_async(query_str, background=False, dump_to_file=True, output_file='latest_all_southern_sources.csv', output_format='csv')"
   ]
  },
  {
   "cell_type": "code",
   "execution_count": 34,
   "id": "1b3028bc-830f-48a6-88d5-9004dca3e3a7",
   "metadata": {
    "tags": []
   },
   "outputs": [
    {
     "data": {
      "text/plain": [
       "(901915, 18038300)"
      ]
     },
     "execution_count": 34,
     "metadata": {},
     "output_type": "execute_result"
    }
   ],
   "source": [
    "\n",
    "df = pd.read_csv('latest_all_southern_sources.csv')\n",
    "len(df), int(len(df) / rand_fraction)"
   ]
  },
  {
   "cell_type": "code",
   "execution_count": 35,
   "id": "b34ae403-c776-49b4-a65e-1dee4defaac3",
   "metadata": {
    "tags": []
   },
   "outputs": [],
   "source": [
    "df['tile_index'] = df['segmentation_map_id'].apply(lambda x: str(x)[:10])"
   ]
  },
  {
   "cell_type": "code",
   "execution_count": 36,
   "id": "50cfbcb3-e60b-4ed4-8e38-43bade87dfbf",
   "metadata": {
    "tags": []
   },
   "outputs": [
    {
     "data": {
      "image/png": "[encoded data removed]",
      "text/plain": [
       "<Figure size 800x600 with 1 Axes>"
      ]
     },
     "metadata": {},
     "output_type": "display_data"
    }
   ],
   "source": [
    "_ = plt.hist(df['tile_index'].value_counts().values)"
   ]
  },
  {
   "cell_type": "code",
   "execution_count": 47,
   "id": "96cd1d7c-134a-4538-b00d-e7b529fb70fe",
   "metadata": {
    "tags": []
   },
   "outputs": [
    {
     "data": {
      "text/plain": [
       "1390"
      ]
     },
     "execution_count": 47,
     "metadata": {},
     "output_type": "execute_result"
    }
   ],
   "source": [
    "len(df['tile_index'].unique())"
   ]
  },
  {
   "cell_type": "code",
   "execution_count": 44,
   "id": "49f054d3-75bc-4f08-b8b4-a594f415269c",
   "metadata": {
    "tags": []
   },
   "outputs": [
    {
     "data": {
      "text/plain": [
       "1390"
      ]
     },
     "execution_count": 44,
     "metadata": {},
     "output_type": "execute_result"
    }
   ],
   "source": [
    "good_tiles = list((df['tile_index'].value_counts() > 600).index)\n",
    "len(good_tiles)"
   ]
  },
  {
   "cell_type": "code",
   "execution_count": 45,
   "id": "e7ba0083-308a-4ca6-a84b-687ae8f003a2",
   "metadata": {
    "tags": []
   },
   "outputs": [],
   "source": [
    "df = df[df['tile_index'].isin(good_tiles)]"
   ]
  },
  {
   "cell_type": "code",
   "execution_count": 46,
   "id": "8f79b70b-facc-4277-b012-04c1aed7ef9c",
   "metadata": {
    "tags": []
   },
   "outputs": [
    {
     "data": {
      "text/plain": [
       "901915"
      ]
     },
     "execution_count": 46,
     "metadata": {},
     "output_type": "execute_result"
    }
   ],
   "source": [
    "len(df)"
   ]
  },
  {
   "cell_type": "code",
   "execution_count": 48,
   "id": "1b7ed75e-007b-4800-aaed-d12a6990200b",
   "metadata": {
    "tags": []
   },
   "outputs": [
    {
     "name": "stderr",
     "output_type": "stream",
     "text": [
      "/opt/miniconda/envs/euclid-tools/lib/python3.9/site-packages/pandas/core/arraylike.py:399: RuntimeWarning: invalid value encountered in log10\n",
      "  result = getattr(ufunc, method)(*inputs, **kwargs)\n",
      "/opt/miniconda/envs/euclid-tools/lib/python3.9/site-packages/pandas/core/arraylike.py:399: RuntimeWarning: invalid value encountered in log10\n",
      "  result = getattr(ufunc, method)(*inputs, **kwargs)\n",
      "/opt/miniconda/envs/euclid-tools/lib/python3.9/site-packages/pandas/core/arraylike.py:399: RuntimeWarning: invalid value encountered in log10\n",
      "  result = getattr(ufunc, method)(*inputs, **kwargs)\n"
     ]
    }
   ],
   "source": [
    "\n",
    "def flux_to_mag(flux):\n",
    "    return -2.5 * np.log10(flux) + 23.9\n",
    "\n",
    "def mag_to_flux(mag):\n",
    "    return 10 ** ((mag - 23.9)/-2.5)\n",
    "\n",
    "def add_mag_photometry(df):\n",
    "    df = df.copy()\n",
    "    df['g_mag'] = flux_to_mag(df['flux_g_ext_decam_aper'])\n",
    "    df['i_mag'] = flux_to_mag(df['flux_i_ext_decam_aper'])\n",
    "    df['r_mag'] = flux_to_mag(df['flux_r_ext_decam_aper'])\n",
    "\n",
    "    df['g_minus_i_mag'] = df['g_mag'] - df['i_mag']\n",
    "    df['g_minus_r_mag'] = df['g_mag'] - df['r_mag']\n",
    "    \n",
    "    df['mag_segmentation'] = -2.5 * np.log10(df['flux_segmentation']) + 23.9\n",
    "    return df\n",
    "\n",
    "df = add_mag_photometry(df)\n",
    "# gz = add_mag_photometry(gz)\n"
   ]
  },
  {
   "cell_type": "code",
   "execution_count": 49,
   "id": "94248d53-0c34-4d0f-98ed-0f8fa9afaccc",
   "metadata": {
    "tags": []
   },
   "outputs": [],
   "source": [
    "def apply_strong_lens_cut(df):\n",
    "    good_r = (df['r_mag'] < 22.5) & (df['r_mag'] > 18)\n",
    "    good_g = df['g_mag'] > 20\n",
    "    good_i = (df['i_mag'] < 23.5) & (df['i_mag'] > 18.2)\n",
    "    good_gi = (df['g_minus_i_mag'] < 5) & (df['g_minus_i_mag'] > 1.8)\n",
    "    good_gr = (df['g_minus_r_mag'] < 3) & (df['g_minus_r_mag'] > 0.6)\n",
    "\n",
    "    print(good_r.mean(), good_g.mean(), good_i.mean(), good_gi.mean(), good_gr.mean())\n",
    "    \n",
    "    good_all = good_r & good_g & good_i & good_gi & good_gr\n",
    "    print(good_all.mean())\n",
    "    \n",
    "    return df[good_all]"
   ]
  },
  {
   "cell_type": "code",
   "execution_count": 50,
   "id": "69cd1c02-b059-4e7e-b481-7419615f7e68",
   "metadata": {},
   "outputs": [],
   "source": [
    "# def color_mag_lim_to_color_flux_lim(mag_lim):\n",
    "#     return 10 ** (-mag_lim / 2.5)\n",
    "    \n",
    "\n",
    "# for lim in (5, 1.8, 3, 0.6):\n",
    "#     print(lim, color_mag_lim_to_color_flux_lim(lim))"
   ]
  },
  {
   "cell_type": "code",
   "execution_count": 51,
   "id": "0e09332e-b485-43f5-9307-a628e4415d4c",
   "metadata": {},
   "outputs": [],
   "source": [
    "# # need to convert these limits to flux\n",
    "# for lim in (22.5, 18, 18.2, 20, 23.5, 18.2):\n",
    "#     print(lim, mag_to_flux(lim))"
   ]
  },
  {
   "cell_type": "code",
   "execution_count": 52,
   "id": "1468bf0f-b4cd-43c1-8055-72a64ebe40c9",
   "metadata": {
    "tags": []
   },
   "outputs": [
    {
     "name": "stdout",
     "output_type": "stream",
     "text": [
      "0.24070006597074003 0.9807664802115499 0.796741378067778 0.2214975912364247 0.6066469678406502\n",
      "0.0789741827112311\n"
     ]
    }
   ],
   "source": [
    "maybe_lens = apply_strong_lens_cut(df)"
   ]
  },
  {
   "cell_type": "code",
   "execution_count": 53,
   "id": "c1ed260f-cfda-4bee-9c18-09d311f2840e",
   "metadata": {
    "tags": []
   },
   "outputs": [
    {
     "data": {
      "text/plain": [
       "0.0789741827112311"
      ]
     },
     "execution_count": 53,
     "metadata": {},
     "output_type": "execute_result"
    }
   ],
   "source": [
    "len(maybe_lens)/len(df)  # after also applying the QA cuts"
   ]
  },
  {
   "cell_type": "code",
   "execution_count": 59,
   "id": "87177deb-1f96-48d5-a0a6-492e9b46ae33",
   "metadata": {
    "tags": []
   },
   "outputs": [
    {
     "data": {
      "text/plain": [
       "12977.194244604316"
      ]
     },
     "execution_count": 59,
     "metadata": {},
     "output_type": "execute_result"
    }
   ],
   "source": [
    "galaxies_per_tile = len(df)/len(df['tile_index'].unique()) / rand_fraction\n",
    "galaxies_per_tile"
   ]
  },
  {
   "cell_type": "code",
   "execution_count": null,
   "id": "9ecdbb91-2016-4d26-aa95-4d330d158dba",
   "metadata": {
    "tags": []
   },
   "outputs": [],
   "source": [
    "# tiles are 30x30 arcminutes (core area) i.e. 0.5 x 0.5 degrees\n",
    "# so area of 0.25 deg squared\n",
    "# q1 is 50 sq deg so 50 / 0.25 = about 200 tiles"
   ]
  },
  {
   "cell_type": "code",
   "execution_count": 60,
   "id": "8870cf92-3928-4e52-8ea5-490f7f0fa096",
   "metadata": {
    "tags": []
   },
   "outputs": [
    {
     "data": {
      "text/plain": [
       "2595438.848920863"
      ]
     },
     "execution_count": 60,
     "metadata": {},
     "output_type": "execute_result"
    }
   ],
   "source": [
    "galaxies_per_tile * 200 "
   ]
  },
  {
   "cell_type": "code",
   "execution_count": null,
   "id": "f4e88037-c5bf-43ea-ab02-016666018636",
   "metadata": {},
   "outputs": [],
   "source": []
  }
 ],
 "metadata": {
  "kernelspec": {
   "display_name": "EUCLID-TOOLS",
   "language": "python",
   "name": "euclid-tools"
  },
  "language_info": {
   "codemirror_mode": {
    "name": "ipython",
    "version": 3
   },
   "file_extension": ".py",
   "mimetype": "text/x-python",
   "name": "python",
   "nbconvert_exporter": "python",
   "pygments_lexer": "ipython3",
   "version": "3.9.0"
  }
 },
 "nbformat": 4,
 "nbformat_minor": 5
}
