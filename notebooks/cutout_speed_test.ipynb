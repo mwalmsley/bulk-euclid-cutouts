{
 "cells": [
  {
   "cell_type": "code",
   "execution_count": 1,
   "id": "426a1516-0508-4087-a40f-5f7703d54193",
   "metadata": {
    "tags": []
   },
   "outputs": [],
   "source": [
    "%load_ext autoreload\n",
    "%autoreload 2"
   ]
  },
  {
   "cell_type": "code",
   "execution_count": 13,
   "id": "22f2156e-4550-4564-b243-c4bd60169421",
   "metadata": {
    "tags": []
   },
   "outputs": [],
   "source": [
    "import pandas as pd\n",
    "import os\n",
    "import glob"
   ]
  },
  {
   "cell_type": "code",
   "execution_count": 3,
   "id": "abcfdeff-bd8e-4632-bc40-5285d891a65f",
   "metadata": {
    "tags": []
   },
   "outputs": [],
   "source": [
    "import morphology_utils\n",
    "import cutout_utils\n",
    "import pipeline_utils"
   ]
  },
  {
   "cell_type": "code",
   "execution_count": 4,
   "id": "6b983a1a-022a-4cf4-a399-b4a1f042b2d8",
   "metadata": {
    "tags": []
   },
   "outputs": [],
   "source": [
    "base_catalog_dir = '/media/home/team_workspaces/Galaxy-Zoo-Euclid/data/pipeline/v2_challenge_launch/catalogs'\n",
    "master_catalog = pd.read_csv(base_catalog_dir + '/_master_catalog.csv')"
   ]
  },
  {
   "cell_type": "code",
   "execution_count": 9,
   "id": "8584db46-56bf-42f7-a0f9-6e15c1d2f91b",
   "metadata": {
    "tags": []
   },
   "outputs": [],
   "source": [
    "tile_index = 102033246\n",
    "tile_galaxies = master_catalog.query(f'tile_index == {tile_index}')\n",
    "vis_loc = tile_galaxies['vis_tile'].iloc[0]\n",
    "nisp_loc = tile_galaxies['y_tile'].iloc[0]"
   ]
  },
  {
   "cell_type": "code",
   "execution_count": 14,
   "id": "e992ffb1-c3a0-40ac-85bf-4257a4ce85bf",
   "metadata": {
    "tags": []
   },
   "outputs": [
    {
     "name": "stderr",
     "output_type": "stream",
     "text": [
      "/tmp/ipykernel_477/73204124.py:3: SettingWithCopyWarning: \n",
      "A value is trying to be set on a copy of a slice from a DataFrame.\n",
      "Try using .loc[row_indexer,col_indexer] = value instead\n",
      "\n",
      "See the caveats in the documentation: https://pandas.pydata.org/pandas-docs/stable/user_guide/indexing.html#returning-a-view-versus-a-copy\n",
      "  tile_galaxies[cutout_col] = tile_galaxies[cutout_col].apply(lambda x: cutout_folder + '/' + str(tile_index) + '/' + os.path.basename(x))\n"
     ]
    }
   ],
   "source": [
    "cutout_folder = '/media/home/team_workspaces/Galaxy-Zoo-Euclid/tmp/cutout_speed_test'\n",
    "for cutout_col in ['jpg_loc_composite', 'jpg_loc_vis_only', 'jpg_loc_vis_lsb']:\n",
    "    tile_galaxies[cutout_col] = tile_galaxies[cutout_col].apply(lambda x: cutout_folder + '/' + str(tile_index) + '/' + os.path.basename(x))"
   ]
  },
  {
   "cell_type": "code",
   "execution_count": 16,
   "id": "72cc0d14-2c42-4b11-a109-3fd8708bdee1",
   "metadata": {
    "tags": []
   },
   "outputs": [
    {
     "data": {
      "text/plain": [
       "'/media/home/team_workspaces/Galaxy-Zoo-Euclid/tmp/cutout_speed_test/102033246/102033246_NEG699884533372563867_vis_only.jpg'"
      ]
     },
     "execution_count": 16,
     "metadata": {},
     "output_type": "execute_result"
    }
   ],
   "source": [
    "tile_galaxies[cutout_col].iloc[0]"
   ]
  },
  {
   "cell_type": "code",
   "execution_count": 38,
   "id": "0448d5f0-0372-4633-9702-ff84835aa0da",
   "metadata": {
    "tags": []
   },
   "outputs": [
    {
     "name": "stdout",
     "output_type": "stream",
     "text": [
      "loading tile\n",
      "tile loaded\n",
      "galaxy 0 of 660\n",
      "galaxy 100 of 660\n",
      "galaxy 200 of 660\n",
      "galaxy 300 of 660\n",
      "galaxy 400 of 660\n",
      "galaxy 500 of 660\n",
      "galaxy 600 of 660\n",
      "         5651179 function calls (5520344 primitive calls) in 15.898 seconds\n",
      "\n",
      "   Ordered by: internal time\n",
      "   List reduced from 950 to 50 due to restriction <50>\n",
      "\n",
      "   ncalls  tottime  percall  cumtime  percall filename:lineno(function)\n",
      "        2    9.006    4.503    9.006    4.503 {built-in method numpy.fromfile}\n",
      "     1984    1.462    0.001    1.462    0.001 {built-in method io.open}\n",
      "     1980    0.677    0.000    0.677    0.000 {method 'close' of '_io.BufferedRandom' objects}\n",
      "     3963    0.319    0.000    0.319    0.000 {built-in method posix.stat}\n",
      "     1980    0.307    0.000    0.781    0.000 /media/team_workspaces/Galaxy-Zoo-Euclid/morphology_utils.py:153(adjust_dynamic_range)\n",
      "     2640    0.228    0.000    0.228    0.000 {method 'partition' of 'numpy.ndarray' objects}\n",
      "1011826/1010506    0.123    0.000    0.194    0.000 {built-in method builtins.isinstance}\n",
      "    45540    0.122    0.000    0.122    0.000 {method 'reduce' of 'numpy.ufunc' objects}\n",
      "90426/52804    0.105    0.000    1.023    0.000 {built-in method numpy.core._multiarray_umath.implement_array_function}\n",
      "     1980    0.102    0.000    0.102    0.000 {method 'encode_to_file' of 'ImagingEncoder' objects}\n",
      "      660    0.087    0.000    0.298    0.000 /media/team_workspaces/Galaxy-Zoo-Euclid/cutout_utils.py:57(gordon_scaling)\n",
      "     9900    0.059    0.000    0.103    0.000 /opt/miniconda/envs/euclid-tools/lib/python3.9/site-packages/pandas/core/dtypes/cast.py:1157(maybe_infer_to_datetimelike)\n",
      "231669/206589    0.057    0.000    0.441    0.000 {built-in method builtins.getattr}\n",
      "     2640    0.057    0.000    0.910    0.000 /opt/miniconda/envs/euclid-tools/lib/python3.9/site-packages/pandas/core/indexing.py:2214(_setitem_with_indexer_missing)\n",
      "    20461    0.055    0.000    0.133    0.000 /opt/miniconda/envs/euclid-tools/lib/python3.9/site-packages/pandas/core/indexes/base.py:3774(get_loc)\n",
      "     5940    0.048    0.000    0.048    0.000 /opt/miniconda/envs/euclid-tools/lib/python3.9/site-packages/numpy/core/_methods.py:108(_clip_dep_invoke_with_casting)\n",
      "     5940    0.046    0.000    0.380    0.000 /opt/miniconda/envs/euclid-tools/lib/python3.9/site-packages/pandas/core/series.py:388(__init__)\n",
      "    11220    0.044    0.000    0.236    0.000 /opt/miniconda/envs/euclid-tools/lib/python3.9/site-packages/pandas/core/construction.py:517(sanitize_array)\n",
      "     1320    0.044    0.000    0.153    0.000 /opt/miniconda/envs/euclid-tools/lib/python3.9/site-packages/astropy/wcs/wcsapi/fitswcs.py:368(_get_components_and_classes)\n",
      "     3300    0.042    0.000    0.169    0.000 /media/team_workspaces/Galaxy-Zoo-Euclid/morphology_utils.py:160(to_uint8)\n",
      "    29040    0.039    0.000    0.068    0.000 /opt/miniconda/envs/euclid-tools/lib/python3.9/site-packages/astropy/coordinates/baseframe.py:895(get_representation_component_names)\n",
      "    23100    0.038    0.000    0.136    0.000 /opt/miniconda/envs/euclid-tools/lib/python3.9/site-packages/numpy/core/fromnumeric.py:69(_wrapreduction)\n",
      "        1    0.037    0.037   15.898   15.898 /media/team_workspaces/Galaxy-Zoo-Euclid/pipeline_utils.py:258(save_cutouts)\n",
      "    11880    0.036    0.000    0.062    0.000 /opt/miniconda/envs/euclid-tools/lib/python3.9/site-packages/numpy/core/_methods.py:93(_clip_dep_is_scalar_nan)\n",
      "     5280    0.035    0.000    0.234    0.000 /opt/miniconda/envs/euclid-tools/lib/python3.9/site-packages/pandas/core/indexes/base.py:475(__new__)\n",
      "     1320    0.035    0.000    0.035    0.000 /media/team_workspaces/Galaxy-Zoo-Euclid/cutout_utils.py:89(get_alpha)\n",
      "     2640    0.031    0.000    0.032    0.000 /opt/miniconda/envs/euclid-tools/lib/python3.9/site-packages/numpy/lib/function_base.py:4559(_lerp)\n",
      "243874/200289    0.031    0.000    0.041    0.000 {built-in method builtins.len}\n",
      "    23760    0.030    0.000    0.065    0.000 {built-in method numpy.array}\n",
      "     2640    0.029    0.000    0.469    0.000 /opt/miniconda/envs/euclid-tools/lib/python3.9/site-packages/numpy/lib/function_base.py:4682(_quantile)\n",
      "     6600    0.029    0.000    0.042    0.000 /opt/miniconda/envs/euclid-tools/lib/python3.9/site-packages/pandas/core/indexes/base.py:2744(inferred_type)\n",
      "    11880    0.027    0.000    0.083    0.000 /opt/miniconda/envs/euclid-tools/lib/python3.9/site-packages/astropy/units/core.py:1096(_to)\n",
      "22440/11880    0.027    0.000    0.329    0.000 /opt/miniconda/envs/euclid-tools/lib/python3.9/site-packages/astropy/coordinates/sky_coordinate.py:867(__getattr__)\n",
      "     2640    0.026    0.000    0.097    0.000 /opt/miniconda/envs/euclid-tools/lib/python3.9/site-packages/astropy/coordinates/angles.py:351(_wrap_at)\n",
      "     2640    0.025    0.000    0.064    0.000 /opt/miniconda/envs/euclid-tools/lib/python3.9/site-packages/numpy/lib/function_base.py:5250(insert)\n",
      "     1320    0.024    0.000    0.063    0.000 /opt/miniconda/envs/euclid-tools/lib/python3.9/site-packages/pandas/core/strings/object_array.py:46(_str_map)\n",
      "     3960    0.023    0.000    0.039    0.000 /opt/miniconda/envs/euclid-tools/lib/python3.9/site-packages/pandas/core/indexes/base.py:3952(_get_indexer)\n",
      "     1320    0.023    0.000    0.058    0.000 /opt/miniconda/envs/euclid-tools/lib/python3.9/site-packages/astropy/wcs/utils.py:61(_wcs_to_celestial_frame_builtin)\n",
      "    28380    0.023    0.000    0.059    0.000 /opt/miniconda/envs/euclid-tools/lib/python3.9/site-packages/astropy/units/core.py:2009(__call__)\n",
      "    37626    0.023    0.000    9.041    0.000 /opt/miniconda/envs/euclid-tools/lib/python3.9/site-packages/astropy/utils/decorators.py:832(__get__)\n",
      "    13201    0.022    0.000    0.334    0.000 /opt/miniconda/envs/euclid-tools/lib/python3.9/site-packages/pandas/core/series.py:1085(__getitem__)\n",
      "40260/38940    0.022    0.000    0.023    0.000 {built-in method numpy.asarray}\n",
      "     2640    0.022    0.000    0.049    0.000 /opt/miniconda/envs/euclid-tools/lib/python3.9/site-packages/numpy/lib/function_base.py:4647(_get_indexes)\n",
      "     1320    0.021    0.000    0.125    0.000 /media/team_workspaces/Galaxy-Zoo-Euclid/morphology_utils.py:83(get_cutout_mosaic_coordinates)\n",
      "     8582    0.020    0.000    0.026    0.000 /opt/miniconda/envs/euclid-tools/lib/python3.9/site-packages/pandas/core/indexes/base.py:649(_simple_new)\n",
      "93132/82572    0.019    0.000    0.272    0.000 {built-in method builtins.hasattr}\n",
      "    77880    0.019    0.000    0.046    0.000 /opt/miniconda/envs/euclid-tools/lib/python3.9/site-packages/pandas/core/dtypes/generic.py:42(_instancecheck)\n",
      "    16500    0.019    0.000    0.067    0.000 /opt/miniconda/envs/euclid-tools/lib/python3.9/site-packages/numpy/core/numeric.py:290(full)\n",
      "     5940    0.019    0.000    0.046    0.000 /opt/miniconda/envs/euclid-tools/lib/python3.9/site-packages/pandas/core/common.py:231(asarray_tuplesafe)\n",
      "    77880    0.019    0.000    0.026    0.000 /opt/miniconda/envs/euclid-tools/lib/python3.9/site-packages/pandas/core/dtypes/generic.py:37(_check)\n",
      "\n",
      "\n"
     ]
    }
   ],
   "source": [
    "import cProfile, pstats\n",
    "\n",
    "with cProfile.Profile() as pr:\n",
    "    pipeline_utils.save_cutouts(vis_loc, nisp_loc, tile_galaxies, overwrite=True)\n",
    "\n",
    "    pstats.Stats(pr).sort_stats(pstats.SortKey.TIME).print_stats(50)\n",
    "\n",
    "# 0.575 with 50\n",
    "# 29.812 with 100"
   ]
  },
  {
   "cell_type": "code",
   "execution_count": 33,
   "id": "e8b0edeb-ea29-4d3c-981f-5a8ade899b07",
   "metadata": {
    "tags": []
   },
   "outputs": [
    {
     "data": {
      "text/plain": [
       "<enum 'SortKey'>"
      ]
     },
     "execution_count": 33,
     "metadata": {},
     "output_type": "execute_result"
    }
   ],
   "source": [
    "pstats.SortKey."
   ]
  },
  {
   "cell_type": "code",
   "execution_count": null,
   "id": "a7bbd252-e78a-415f-9c89-e2de7d8186c8",
   "metadata": {},
   "outputs": [],
   "source": []
  }
 ],
 "metadata": {
  "kernelspec": {
   "display_name": "Python 3 (ipykernel)",
   "language": "python",
   "name": "python3"
  },
  "language_info": {
   "codemirror_mode": {
    "name": "ipython",
    "version": 3
   },
   "file_extension": ".py",
   "mimetype": "text/x-python",
   "name": "python",
   "nbconvert_exporter": "python",
   "pygments_lexer": "ipython3",
   "version": "3.11.5"
  }
 },
 "nbformat": 4,
 "nbformat_minor": 5
}
