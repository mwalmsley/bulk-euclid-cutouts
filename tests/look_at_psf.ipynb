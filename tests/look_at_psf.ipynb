{
 "cells": [
  {
   "cell_type": "code",
   "execution_count": null,
   "id": "a8fa1515-0cae-4492-b75b-c270f259796a",
   "metadata": {},
   "outputs": [],
   "source": [
    "from astropy.io import fits"
   ]
  },
  {
   "cell_type": "code",
   "execution_count": null,
   "id": "2f410c9e-722e-45f7-95c2-3652d74a4819",
   "metadata": {},
   "outputs": [],
   "source": [
    "tile_loc = '/media/home/team_workspaces/Galaxy-Zoo-Euclid/data/pipeline_runs/remote_debug/tiles/EUC_MER_BGSUB-MOSAIC-VIS_TILE102021539-F91316_20240405T233444.877933Z_00.00.fits'"
   ]
  },
  {
   "cell_type": "code",
   "execution_count": null,
   "id": "2d89ed2a-eeb3-412a-96d1-5d01778e484b",
   "metadata": {},
   "outputs": [],
   "source": [
    "fits.open(tile_loc)"
   ]
  },
  {
   "cell_type": "code",
   "execution_count": null,
   "id": "f9ff0326-126e-4cc9-8171-bea5defe0bc2",
   "metadata": {},
   "outputs": [],
   "source": [
    "fits.getdata(tile_loc)"
   ]
  },
  {
   "cell_type": "code",
   "execution_count": null,
   "id": "50037dc6-23a7-4ca9-8e92-927cc654f872",
   "metadata": {},
   "outputs": [],
   "source": [
    "# No other data, so no PSF here\n",
    "\n",
    "# PSF was originally under this data product\n",
    "# DpdMerBksMosaic\n",
    "# https://euclid.roe.ac.uk/issues/22495\n",
    "# but in SAS it is not\n",
    "\n",
    "# manually poking around, it is actually under sedm.aux_mosaic"
   ]
  },
  {
   "cell_type": "code",
   "execution_count": null,
   "id": "1641237c-dce3-447e-9c71-4440cb34087d",
   "metadata": {},
   "outputs": [],
   "source": [
    "from astroquery.esa.euclid.core import Euclid\n",
    "# two line file, username and password\n",
    "# do not commit or put in any team workspace, obviously...\n",
    "Euclid.login(credentials_file='/media/user/_credentials/euclid_login.txt')"
   ]
  },
  {
   "cell_type": "code",
   "execution_count": null,
   "id": "5b15ce8d-203e-475f-b33f-a220ba7382d8",
   "metadata": {},
   "outputs": [],
   "source": [
    "    query_str = f\"\"\"\n",
    "        SELECT * FROM sedm.aux_mosaic \n",
    "        WHERE (product_type_sas='MERPSF')\n",
    "        AND (mosaic_product_oid=1438)\n",
    "        \"\"\"\n",
    "    job = Euclid.launch_job_async(query_str, verbose=False, background=False) \n",
    "    assert job is not None, 'Query failed with: \\n' + query_str\n",
    "    df_psf = job.get_results().to_pandas()"
   ]
  },
  {
   "cell_type": "code",
   "execution_count": null,
   "id": "7981be3a-ff50-4297-8a84-623a743a1f33",
   "metadata": {},
   "outputs": [],
   "source": []
  },
  {
   "cell_type": "code",
   "execution_count": 1,
   "id": "79b6c4ac-2abf-4da9-ac33-4a9dbde7e9bb",
   "metadata": {
    "tags": []
   },
   "outputs": [],
   "source": [
    "from astropy.io import fits"
   ]
  },
  {
   "cell_type": "code",
   "execution_count": 2,
   "id": "91fa252d-6ce2-4178-aa61-1ba08d49faec",
   "metadata": {
    "tags": []
   },
   "outputs": [],
   "source": []
  },
  {
   "cell_type": "code",
   "execution_count": 3,
   "id": "03316d63-4ac6-4509-8463-69b86292edc0",
   "metadata": {
    "tags": []
   },
   "outputs": [
    {
     "data": {
      "text/plain": [
       "[<astropy.io.fits.hdu.image.PrimaryHDU object at 0x7f545a1b0760>]"
      ]
     },
     "execution_count": 3,
     "metadata": {},
     "output_type": "execute_result"
    }
   ],
   "source": []
  },
  {
   "cell_type": "code",
   "execution_count": 4,
   "id": "a1b417c6-123d-4106-84f1-b0483301529a",
   "metadata": {},
   "outputs": [
    {
     "data": {
      "text/plain": [
       "array([[ 0.00217012, -0.00298822, -0.00266482, ...,  0.00205332,\n",
       "         0.00237424,  0.00053189],\n",
       "       [ 0.00096305,  0.00064872,  0.00019174, ...,  0.00042276,\n",
       "         0.00543503,  0.00245586],\n",
       "       [ 0.00092425,  0.00276194, -0.00041444, ...,  0.00192536,\n",
       "         0.01117192,  0.00637266],\n",
       "       ...,\n",
       "       [-0.00067974,  0.00013628,  0.0004127 , ...,  0.00527447,\n",
       "         0.00363898, -0.00170511],\n",
       "       [-0.00229512, -0.00093901,  0.00036935, ...,  0.00340656,\n",
       "         0.000568  , -0.00067064],\n",
       "       [ 0.00084896,  0.00160399, -0.00228888, ...,  0.00074724,\n",
       "        -0.00152757,  0.00242576]], dtype=float32)"
      ]
     },
     "execution_count": 4,
     "metadata": {},
     "output_type": "execute_result"
    }
   ],
   "source": []
  },
  {
   "cell_type": "code",
   "execution_count": 5,
   "id": "5c22b4de-0a32-441f-a395-84ebc1397aea",
   "metadata": {
    "tags": []
   },
   "outputs": [],
   "source": []
  },
  {
   "cell_type": "code",
   "execution_count": 6,
   "id": "63a13e0d-bfe6-4892-86a7-cd3de327922b",
   "metadata": {
    "tags": []
   },
   "outputs": [
    {
     "name": "stdout",
     "output_type": "stream",
     "text": [
      "INFO: Login to Euclid TAP server [astroquery.esa.euclid.core]\n",
      "INFO: OK [astroquery.utils.tap.core]\n",
      "INFO: Login to Euclid data service [astroquery.esa.euclid.core]\n",
      "INFO: OK [astroquery.utils.tap.core]\n",
      "INFO: Login to Euclid cutout service [astroquery.esa.euclid.core]\n",
      "INFO: OK [astroquery.utils.tap.core]\n"
     ]
    }
   ],
   "source": []
  },
  {
   "cell_type": "code",
   "execution_count": 7,
   "id": "9965de83-1389-4d34-8af7-0aafba838a87",
   "metadata": {
    "tags": []
   },
   "outputs": [
    {
     "name": "stdout",
     "output_type": "stream",
     "text": [
      "INFO: Query finished. [astroquery.utils.tap.core]\n"
     ]
    }
   ],
   "source": []
  },
  {
   "cell_type": "code",
   "execution_count": 8,
   "id": "858385c0-76bd-4d0b-87b3-5d348f3d3b9a",
   "metadata": {
    "tags": []
   },
   "outputs": [
    {
     "data": {
      "text/html": [
       "<div>\n",
       "<style scoped>\n",
       "    .dataframe tbody tr th:only-of-type {\n",
       "        vertical-align: middle;\n",
       "    }\n",
       "\n",
       "    .dataframe tbody tr th {\n",
       "        vertical-align: top;\n",
       "    }\n",
       "\n",
       "    .dataframe thead th {\n",
       "        text-align: right;\n",
       "    }\n",
       "</style>\n",
       "<table border=\"1\" class=\"dataframe\">\n",
       "  <thead>\n",
       "    <tr style=\"text-align: right;\">\n",
       "      <th></th>\n",
       "      <th>aux_mosaic_oid</th>\n",
       "      <th>checksum</th>\n",
       "      <th>file_name</th>\n",
       "      <th>file_path</th>\n",
       "      <th>mosaic_product_oid</th>\n",
       "      <th>product_type_sas</th>\n",
       "      <th>stype</th>\n",
       "      <th>to_be_published</th>\n",
       "    </tr>\n",
       "  </thead>\n",
       "  <tbody>\n",
       "    <tr>\n",
       "      <th>0</th>\n",
       "      <td>6420</td>\n",
       "      <td>10b516a87defac5e0acba2a97617974c</td>\n",
       "      <td>EUC_MER_CATALOG-PSF-VIS_TILE101159484-B0797F_2...</td>\n",
       "      <td>/data_03/repository_otf/MER/101159484/VIS</td>\n",
       "      <td>1438</td>\n",
       "      <td>MERPSF</td>\n",
       "      <td>PSF</td>\n",
       "      <td>1</td>\n",
       "    </tr>\n",
       "  </tbody>\n",
       "</table>\n",
       "</div>"
      ],
      "text/plain": [
       "   aux_mosaic_oid                          checksum  \\\n",
       "0            6420  10b516a87defac5e0acba2a97617974c   \n",
       "\n",
       "                                           file_name  \\\n",
       "0  EUC_MER_CATALOG-PSF-VIS_TILE101159484-B0797F_2...   \n",
       "\n",
       "                                   file_path  mosaic_product_oid  \\\n",
       "0  /data_03/repository_otf/MER/101159484/VIS                1438   \n",
       "\n",
       "  product_type_sas stype  to_be_published  \n",
       "0           MERPSF   PSF                1  "
      ]
     },
     "execution_count": 8,
     "metadata": {},
     "output_type": "execute_result"
    }
   ],
   "source": [
    "df_psf"
   ]
  },
  {
   "cell_type": "code",
   "execution_count": 9,
   "id": "2f296c56-e1c1-4fe7-8bc7-2b0aded6c2e5",
   "metadata": {
    "tags": []
   },
   "outputs": [
    {
     "name": "stdout",
     "output_type": "stream",
     "text": [
      "INFO: Query finished. [astroquery.utils.tap.core]\n"
     ]
    }
   ],
   "source": [
    "    query_str = f\"\"\"\n",
    "        SELECT * FROM sedm.mosaic_product \n",
    "        WHERE (mosaic_product_oid=1438)\n",
    "        \"\"\"\n",
    "    job = Euclid.launch_job_async(query_str, verbose=False, background=False) \n",
    "    assert job is not None, 'Query failed with: \\n' + query_str\n",
    "    df_tile = job.get_results().to_pandas()"
   ]
  },
  {
   "cell_type": "code",
   "execution_count": 10,
   "id": "5f58bf80-1879-4702-a037-a17fe0e5e971",
   "metadata": {
    "tags": []
   },
   "outputs": [
    {
     "data": {
      "text/html": [
       "<div>\n",
       "<style scoped>\n",
       "    .dataframe tbody tr th:only-of-type {\n",
       "        vertical-align: middle;\n",
       "    }\n",
       "\n",
       "    .dataframe tbody tr th {\n",
       "        vertical-align: top;\n",
       "    }\n",
       "\n",
       "    .dataframe thead th {\n",
       "        text-align: right;\n",
       "    }\n",
       "</style>\n",
       "<table border=\"1\" class=\"dataframe\">\n",
       "  <thead>\n",
       "    <tr style=\"text-align: right;\">\n",
       "      <th></th>\n",
       "      <th>category</th>\n",
       "      <th>checksum</th>\n",
       "      <th>creation_date</th>\n",
       "      <th>crpix1</th>\n",
       "      <th>crpix2</th>\n",
       "      <th>crval1</th>\n",
       "      <th>crval2</th>\n",
       "      <th>data_release_oid</th>\n",
       "      <th>data_size</th>\n",
       "      <th>dec</th>\n",
       "      <th>...</th>\n",
       "      <th>ra</th>\n",
       "      <th>release_date</th>\n",
       "      <th>release_name</th>\n",
       "      <th>second_type</th>\n",
       "      <th>stc_s</th>\n",
       "      <th>technique</th>\n",
       "      <th>tile_index</th>\n",
       "      <th>to_be_published</th>\n",
       "      <th>zero_point</th>\n",
       "      <th>zero_point_error</th>\n",
       "    </tr>\n",
       "  </thead>\n",
       "  <tbody>\n",
       "    <tr>\n",
       "      <th>0</th>\n",
       "      <td>SCIENCE</td>\n",
       "      <td>aff9f976cc1ba4b0975871a0245b8a60</td>\n",
       "      <td>2024-01-14T01:53:17.263</td>\n",
       "      <td>9600.0</td>\n",
       "      <td>9600.0</td>\n",
       "      <td>266.757377</td>\n",
       "      <td>66.5</td>\n",
       "      <td>6</td>\n",
       "      <td>-32.0</td>\n",
       "      <td>66.5</td>\n",
       "      <td>...</td>\n",
       "      <td>266.757377</td>\n",
       "      <td>&lt;NA&gt;</td>\n",
       "      <td>CALBLOCK_PV-005_R3</td>\n",
       "      <td>SKY</td>\n",
       "      <td>Polygon J2000 267.4189548598171 66.23195419911...</td>\n",
       "      <td>IMAGE</td>\n",
       "      <td>101159484</td>\n",
       "      <td>1</td>\n",
       "      <td>24.4</td>\n",
       "      <td>0.1</td>\n",
       "    </tr>\n",
       "  </tbody>\n",
       "</table>\n",
       "<p>1 rows × 31 columns</p>\n",
       "</div>"
      ],
      "text/plain": [
       "  category                          checksum            creation_date  crpix1  \\\n",
       "0  SCIENCE  aff9f976cc1ba4b0975871a0245b8a60  2024-01-14T01:53:17.263  9600.0   \n",
       "\n",
       "   crpix2      crval1  crval2  data_release_oid  data_size   dec  ...  \\\n",
       "0  9600.0  266.757377    66.5                 6      -32.0  66.5  ...   \n",
       "\n",
       "           ra release_date        release_name second_type  \\\n",
       "0  266.757377         <NA>  CALBLOCK_PV-005_R3         SKY   \n",
       "\n",
       "                                               stc_s technique  tile_index  \\\n",
       "0  Polygon J2000 267.4189548598171 66.23195419911...     IMAGE   101159484   \n",
       "\n",
       "  to_be_published zero_point  zero_point_error  \n",
       "0               1       24.4               0.1  \n",
       "\n",
       "[1 rows x 31 columns]"
      ]
     },
     "execution_count": 10,
     "metadata": {},
     "output_type": "execute_result"
    }
   ],
   "source": [
    "df_tile"
   ]
  },
  {
   "cell_type": "code",
   "execution_count": null,
   "id": "55e72d3e-9538-43b5-930e-b1ac38dcf766",
   "metadata": {
    "tags": []
   },
   "outputs": [],
   "source": []
  },
  {
   "cell_type": "code",
   "execution_count": 11,
   "id": "77234880-7e1a-4bf6-b665-d8f10d7ece1c",
   "metadata": {
    "tags": []
   },
   "outputs": [
    {
     "name": "stdout",
     "output_type": "stream",
     "text": [
      "Retrieving data.\n",
      "Data request: TAPCLIENT=ASTROQUERY&RELEASE=sedm&FILE_NAME=EUC_MER_CATALOG-PSF-VIS_TILE101159484-B0797F_20240113T083926.969140Z_00.00.fits&RETRIEVAL_TYPE=FILE\n",
      "------>https\n",
      "host = easotf.esac.esa.int:443\n",
      "context = /sas-dd/data\n",
      "Content-type = application/x-www-form-urlencoded\n",
      "200 \n",
      "Reading...\n",
      "Done.\n"
     ]
    },
    {
     "data": {
      "text/plain": [
       "'temp_psf.fits'"
      ]
     },
     "execution_count": 11,
     "metadata": {},
     "output_type": "execute_result"
    }
   ],
   "source": [
    "Euclid.get_product(file_name=df_psf['file_name'].squeeze(), output_file='temp_psf.fits')[0]"
   ]
  },
  {
   "cell_type": "code",
   "execution_count": 15,
   "id": "508fa18d-652f-40a0-9181-a66265610061",
   "metadata": {
    "tags": []
   },
   "outputs": [],
   "source": [
    "psf_data = fits.open('/media/home/my_workspace/repos/bulk-euclid-cutouts/tests/temp_psf.fits')\n"
   ]
  },
  {
   "cell_type": "code",
   "execution_count": 16,
   "id": "120180a1-b4d8-40d4-995e-fb1b9a0761de",
   "metadata": {
    "tags": []
   },
   "outputs": [
    {
     "data": {
      "text/plain": [
       "XTENSION= 'IMAGE   '           / Image extension                                \n",
       "BITPIX  =                  -32 / array data type                                \n",
       "NAXIS   =                    2 / number of array dimensions                     \n",
       "NAXIS1  =                 7258                                                  \n",
       "NAXIS2  =                 7258                                                  \n",
       "PCOUNT  =                    0 / number of parameters                           \n",
       "GCOUNT  =                    1 / number of groups                               \n",
       "EQUINOX =        2000.00000000 / Mean equinox                                   \n",
       "RADESYS = 'ICRS    '           / Astrometric system                             \n",
       "CTYPE1  = 'RA---TAN'           / WCS projection type for this axis              \n",
       "CUNIT1  = 'deg     '           / Axis unit                                      \n",
       "CRVAL1  =   2.667573769098E+02 / World coordinate on this axis                  \n",
       "CRPIX1  =                 9600 / Reference pixel on this axis                   \n",
       "CD1_1   =  -2.777777777778E-05 / Linear projection matrix                       \n",
       "CD1_2   =   0.000000000000E+00 / Linear projection matrix                       \n",
       "CTYPE2  = 'DEC--TAN'           / WCS projection type for this axis              \n",
       "CUNIT2  = 'deg     '           / Axis unit                                      \n",
       "CRVAL2  =   6.650000000000E+01 / World coordinate on this axis                  \n",
       "CRPIX2  =                 9600 / Reference pixel on this axis                   \n",
       "CD2_1   =   0.000000000000E+00 / Linear projection matrix                       \n",
       "CD2_2   =   2.777777777778E-05 / Linear projection matrix                       \n",
       "EXPTIME =   1.033452000000E+04 / Maximum equivalent exposure time (s)           \n",
       "GAIN    =   8.362738957293E+00 / Maximum equivalent gain (e-/ADU)               \n",
       "SATURATE=   4.753295607734E+04 / Saturation Level (ADU)                         \n",
       "COMMENT                                                                         \n",
       "SOFTNAME= 'SWarp   '           / The software that processed those data         \n",
       "SOFTVERS= '2.41.5  '           / Version of the software                        \n",
       "SOFTDATE= '2015-01-29'         / Release date of the software                   \n",
       "SOFTAUTH= '2010-2012 IAP/CNRS/UPMC' / Maintainer of the software                \n",
       "SOFTINST= 'IAP  http://www.iap.fr' / Institute                                  \n",
       "COMMENT                                                                         \n",
       "AUTHOR  = 'ecprod  '           / Who ran the software                           \n",
       "ORIGIN  = 'ccwslurm0340'       / Where it was done                              \n",
       "DATE    = '2024-01-13T08:27:30' / When it was started (GMT)                     \n",
       "COMBINET= 'MEDIAN  '           / COMBINE_TYPE config parameter for SWarp        \n",
       "COMMENT                                                                         \n",
       "COMMENT  Propagated FITS keywords                                               \n",
       "STMPSIZE=                   19 / The PSF stamp size in pixel units              \n",
       "COMMENT                                                                         \n",
       "COMMENT  Axis-dependent config parameters                                       \n",
       "RESAMPT1= 'BILINEAR'           / RESAMPLING_TYPE config parameter               \n",
       "CENTERT1= 'ALL     '           / CENTER_TYPE config parameter                   \n",
       "PSCALET1= 'MEDIAN  '           / PIXELSCALE_TYPE config parameter               \n",
       "RESAMPT2= 'BILINEAR'           / RESAMPLING_TYPE config parameter               \n",
       "CENTERT2= 'ALL     '           / CENTER_TYPE config parameter                   \n",
       "PSCALET2= 'MEDIAN  '           / PIXELSCALE_TYPE config parameter               \n",
       "EXTNAME = 'PSF image'          / The MER catalog-PSF image                      \n",
       "FWHM    =   0.1966345838352492 / The central PSF stamp FWHM value in arcseconds "
      ]
     },
     "execution_count": 16,
     "metadata": {},
     "output_type": "execute_result"
    }
   ],
   "source": [
    "psf_data[1].header"
   ]
  },
  {
   "cell_type": "code",
   "execution_count": 17,
   "id": "4b2ae852-0ecc-4ef6-b79a-624892c52d7f",
   "metadata": {
    "tags": []
   },
   "outputs": [
    {
     "data": {
      "text/plain": [
       "19"
      ]
     },
     "execution_count": 17,
     "metadata": {},
     "output_type": "execute_result"
    }
   ],
   "source": [
    "stamp_size = psf_data[1].header['STMPSIZE']\n",
    "stamp_size"
   ]
  },
  {
   "cell_type": "code",
   "execution_count": 18,
   "id": "00b0f848-05ef-43cc-95c6-46f84a2e185c",
   "metadata": {
    "tags": []
   },
   "outputs": [
    {
     "data": {
      "text/plain": [
       "<matplotlib.image.AxesImage at 0x7f532d388a30>"
      ]
     },
     "execution_count": 18,
     "metadata": {},
     "output_type": "execute_result"
    },
    {
     "data": {
      "image/png": "[encoded data removed]",
      "text/plain": [
       "<Figure size 640x480 with 1 Axes>"
      ]
     },
     "metadata": {},
     "output_type": "display_data"
    }
   ],
   "source": [
    "import matplotlib.pyplot as plt\n",
    "\n",
    "\n",
    "psf_data[1].data.shape\n",
    "\n",
    "# - an image with PSF cutouts of selected objects arranged next to each other. The stamp pixel size can be found in the header keyword STMPSIZE (e.g. 19 for VIS, 33 for NIR).\n",
    "plt.imshow(psf_data[1].data[stamp_size*3:stamp_size*4, stamp_size*3:stamp_size*4])  # first of many"
   ]
  },
  {
   "cell_type": "code",
   "execution_count": 20,
   "id": "b6dffa05-e3ef-423f-821a-ed287cd66d34",
   "metadata": {
    "tags": []
   },
   "outputs": [
    {
     "data": {
      "text/plain": [
       "<matplotlib.image.AxesImage at 0x7f5320100430>"
      ]
     },
     "execution_count": 20,
     "metadata": {},
     "output_type": "execute_result"
    },
    {
     "data": {
      "image/png": "[encoded data removed]",
      "text/plain": [
       "<Figure size 640x480 with 1 Axes>"
      ]
     },
     "metadata": {},
     "output_type": "display_data"
    }
   ],
   "source": [
    "plt.imshow(psf_data[1].data[:stamp_size, :stamp_size])  # first of many"
   ]
  },
  {
   "cell_type": "code",
   "execution_count": 19,
   "id": "0d84b85c-75e4-4326-9552-bd1bc87ba77e",
   "metadata": {
    "tags": []
   },
   "outputs": [
    {
     "data": {
      "text/html": [
       "<div><i>Table length=145793</i>\n",
       "<table id=\"table139995238663840\" class=\"table-striped table-bordered table-condensed\">\n",
       "<thead><tr><th>x_center</th><th>y_center</th><th>x</th><th>y</th><th>RA</th><th>Dec</th><th>FWHM</th></tr></thead>\n",
       "<thead><tr><th>float64</th><th>float64</th><th>float64</th><th>float64</th><th>float64</th><th>float64</th><th>float64</th></tr></thead>\n",
       "<tr><td>10.0</td><td>10.0</td><td>10957.0</td><td>1.0</td><td>266.66384629397515</td><td>66.23333487891352</td><td>0.15000386847581637</td></tr>\n",
       "<tr><td>29.0</td><td>10.0</td><td>16898.0</td><td>1.0</td><td>266.2543780117045</td><td>66.23254866078325</td><td>0.16688382446148647</td></tr>\n",
       "<tr><td>48.0</td><td>10.0</td><td>5110.0</td><td>1.0</td><td>267.06684540961635</td><td>66.23305477652738</td><td>0.16444399162903878</td></tr>\n",
       "<tr><td>67.0</td><td>10.0</td><td>11161.0</td><td>1.0</td><td>266.64978571644735</td><td>66.23332577679547</td><td>0.15433082303640008</td></tr>\n",
       "<tr><td>86.0</td><td>10.0</td><td>882.0</td><td>1.0</td><td>267.3582396517485</td><td>66.23220092979258</td><td>0.16648614788676352</td></tr>\n",
       "<tr><td>105.0</td><td>10.0</td><td>2150.0</td><td>1.0</td><td>267.27085152462195</td><td>66.23251438542701</td><td>0.16924574094399233</td></tr>\n",
       "<tr><td>124.0</td><td>10.0</td><td>5956.0</td><td>1.0</td><td>267.00853658831477</td><td>66.23315999584239</td><td>0.1622016526862737</td></tr>\n",
       "<tr><td>143.0</td><td>10.0</td><td>7027.0</td><td>1.0</td><td>266.9347193709385</td><td>66.23326180669997</td><td>0.15702495949149176</td></tr>\n",
       "<tr><td>162.0</td><td>10.0</td><td>6830.0</td><td>146.0</td><td>266.9483279239938</td><td>66.23727338166304</td><td>0.20545268807253203</td></tr>\n",
       "<tr><td>181.0</td><td>10.0</td><td>7179.0</td><td>143.0</td><td>266.92426906837943</td><td>66.23721775712251</td><td>0.20167508507224927</td></tr>\n",
       "<tr><td>...</td><td>...</td><td>...</td><td>...</td><td>...</td><td>...</td><td>...</td></tr>\n",
       "<tr><td>4589.0</td><td>7249.0</td><td>10436.0</td><td>19086.0</td><td>266.69851669106987</td><td>66.76348718185393</td><td>0.20649723285731728</td></tr>\n",
       "<tr><td>4608.0</td><td>7249.0</td><td>14154.0</td><td>19094.0</td><td>266.4367439566615</td><td>66.76339512053725</td><td>0.21244462819526005</td></tr>\n",
       "<tr><td>4627.0</td><td>7249.0</td><td>17752.0</td><td>19100.0</td><td>266.18342931146725</td><td>66.76284485203546</td><td>0.1934357248666419</td></tr>\n",
       "<tr><td>4646.0</td><td>7249.0</td><td>788.0</td><td>19123.0</td><td>267.37780488073446</td><td>66.7633081136164</td><td>0.199176821432725</td></tr>\n",
       "<tr><td>4665.0</td><td>7249.0</td><td>756.0</td><td>19130.0</td><td>267.3800626448684</td><td>66.76349368219797</td><td>0.20201258362765542</td></tr>\n",
       "<tr><td>4684.0</td><td>7249.0</td><td>778.0</td><td>19163.0</td><td>267.3785368960286</td><td>66.76441637048684</td><td>0.20944580399200508</td></tr>\n",
       "<tr><td>4703.0</td><td>7249.0</td><td>723.0</td><td>19179.0</td><td>267.38242042825937</td><td>66.76484551251919</td><td>0.2165772340601432</td></tr>\n",
       "<tr><td>4722.0</td><td>7249.0</td><td>7847.0</td><td>19152.0</td><td>266.88080934397163</td><td>66.765283239816</td><td>0.21415766475548512</td></tr>\n",
       "<tr><td>4741.0</td><td>7249.0</td><td>8465.0</td><td>19144.0</td><td>266.83729400938347</td><td>66.76508901494476</td><td>0.20062905601051298</td></tr>\n",
       "<tr><td>4760.0</td><td>7249.0</td><td>11011.0</td><td>19195.0</td><td>266.6580205492785</td><td>66.76649462809438</td><td>0.21282885508758193</td></tr>\n",
       "</table></div>"
      ],
      "text/plain": [
       "<Table length=145793>\n",
       "x_center y_center    x    ...        Dec                FWHM       \n",
       "float64  float64  float64 ...      float64            float64      \n",
       "-------- -------- ------- ... ----------------- -------------------\n",
       "    10.0     10.0 10957.0 ... 66.23333487891352 0.15000386847581637\n",
       "    29.0     10.0 16898.0 ... 66.23254866078325 0.16688382446148647\n",
       "    48.0     10.0  5110.0 ... 66.23305477652738 0.16444399162903878\n",
       "    67.0     10.0 11161.0 ... 66.23332577679547 0.15433082303640008\n",
       "    86.0     10.0   882.0 ... 66.23220092979258 0.16648614788676352\n",
       "   105.0     10.0  2150.0 ... 66.23251438542701 0.16924574094399233\n",
       "   124.0     10.0  5956.0 ... 66.23315999584239  0.1622016526862737\n",
       "   143.0     10.0  7027.0 ... 66.23326180669997 0.15702495949149176\n",
       "   162.0     10.0  6830.0 ... 66.23727338166304 0.20545268807253203\n",
       "   181.0     10.0  7179.0 ... 66.23721775712251 0.20167508507224927\n",
       "     ...      ...     ... ...               ...                 ...\n",
       "  4589.0   7249.0 10436.0 ... 66.76348718185393 0.20649723285731728\n",
       "  4608.0   7249.0 14154.0 ... 66.76339512053725 0.21244462819526005\n",
       "  4627.0   7249.0 17752.0 ... 66.76284485203546  0.1934357248666419\n",
       "  4646.0   7249.0   788.0 ...  66.7633081136164   0.199176821432725\n",
       "  4665.0   7249.0   756.0 ... 66.76349368219797 0.20201258362765542\n",
       "  4684.0   7249.0   778.0 ... 66.76441637048684 0.20944580399200508\n",
       "  4703.0   7249.0   723.0 ... 66.76484551251919  0.2165772340601432\n",
       "  4722.0   7249.0  7847.0 ...   66.765283239816 0.21415766475548512\n",
       "  4741.0   7249.0  8465.0 ... 66.76508901494476 0.20062905601051298\n",
       "  4760.0   7249.0 11011.0 ... 66.76649462809438 0.21282885508758193"
      ]
     },
     "execution_count": 19,
     "metadata": {},
     "output_type": "execute_result"
    }
   ],
   "source": [
    "from astropy.table import Table\n",
    "\n",
    "# - a table giving the match between the PSF cutout center position (columns x_center and y_center) on the PSF grid image and the coordinate in pixels (columns x and y) or on the sky (Ra, Dec) on the MER tile data.\n",
    "Table.read(psf_data[2])"
   ]
  },
  {
   "cell_type": "code",
   "execution_count": null,
   "id": "619acd3e-27c1-41b7-bee6-fd0da0205db4",
   "metadata": {
    "tags": []
   },
   "outputs": [],
   "source": [
    "# from sklearn.neighbors import KDTree"
   ]
  },
  {
   "cell_type": "code",
   "execution_count": null,
   "id": "4d6d428e-53cf-4840-996d-01d711be01c0",
   "metadata": {},
   "outputs": [],
   "source": []
  },
  {
   "cell_type": "code",
   "execution_count": 18,
   "id": "a1d2934b-eae5-487c-b9e2-3c9fa56043b2",
   "metadata": {
    "tags": []
   },
   "outputs": [
    {
     "name": "stdout",
     "output_type": "stream",
     "text": [
      "Retrieving data.\n",
      "Data request: TAPCLIENT=ASTROQUERY&RELEASE=sedm&FILE_NAME=EUC_MER_GRID-PSF-VIS_TILE101159484-88FF12_20240112T223553.693625Z_00.00.fits&RETRIEVAL_TYPE=FILE\n",
      "------>https\n",
      "host = easotf.esac.esa.int:443\n",
      "context = /sas-dd/data\n",
      "Content-type = application/x-www-form-urlencoded\n",
      "200 \n",
      "Reading...\n",
      "Done.\n"
     ]
    },
    {
     "data": {
      "text/plain": [
       "'temp_grid_psf.fits'"
      ]
     },
     "execution_count": 18,
     "metadata": {},
     "output_type": "execute_result"
    }
   ],
   "source": [
    "grid_psf_loc = 'EUC_MER_GRID-PSF-VIS_TILE101159484-88FF12_20240112T223553.693625Z_00.00.fits'\n",
    "Euclid.get_product(file_name=grid_psf_loc, output_file='temp_grid_psf.fits')[0]"
   ]
  },
  {
   "cell_type": "code",
   "execution_count": 19,
   "id": "3d383de1-9c2e-4cbf-9292-f1577622f2d1",
   "metadata": {
    "tags": []
   },
   "outputs": [],
   "source": [
    "grid_psf = fits.open('temp_grid_psf.fits')"
   ]
  },
  {
   "cell_type": "code",
   "execution_count": 20,
   "id": "d619644c-2d11-4574-8fe8-0ee08992c8b4",
   "metadata": {
    "tags": []
   },
   "outputs": [
    {
     "data": {
      "text/plain": [
       "(19200, 19200)"
      ]
     },
     "execution_count": 20,
     "metadata": {},
     "output_type": "execute_result"
    }
   ],
   "source": [
    "grid_psf[1].data.shape"
   ]
  },
  {
   "cell_type": "code",
   "execution_count": 21,
   "id": "c59cad65-7951-41a4-a1c3-099a25253814",
   "metadata": {
    "tags": []
   },
   "outputs": [
    {
     "data": {
      "text/plain": [
       "<matplotlib.image.AxesImage at 0x7fd6c1208700>"
      ]
     },
     "execution_count": 21,
     "metadata": {},
     "output_type": "execute_result"
    },
    {
     "data": {
      "image/png": "[encoded data removed]",
      "text/plain": [
       "<Figure size 640x480 with 1 Axes>"
      ]
     },
     "metadata": {},
     "output_type": "display_data"
    }
   ],
   "source": [
    "plt.imshow(grid_psf[1].data[40:80, 40:80])"
   ]
  },
  {
   "cell_type": "code",
   "execution_count": 22,
   "id": "c9242f6e-d7a5-4f88-a848-8f674b0a8b1b",
   "metadata": {
    "tags": []
   },
   "outputs": [
    {
     "data": {
      "text/html": [
       "<div><i>Table length=25593</i>\n",
       "<table id=\"table140560339773856\" class=\"table-striped table-bordered table-condensed\">\n",
       "<thead><tr><th>x</th><th>y</th><th>FWHM</th></tr></thead>\n",
       "<thead><tr><th>float64</th><th>float64</th><th>float64</th></tr></thead>\n",
       "<tr><td>61.0</td><td>61.0</td><td>0.20323053483078765</td></tr>\n",
       "<tr><td>61.0</td><td>181.0</td><td>0.19668212489402</td></tr>\n",
       "<tr><td>61.0</td><td>301.0</td><td>0.21544412354195713</td></tr>\n",
       "<tr><td>61.0</td><td>421.0</td><td>0.20648502188808124</td></tr>\n",
       "<tr><td>61.0</td><td>541.0</td><td>0.20496775479335524</td></tr>\n",
       "<tr><td>61.0</td><td>661.0</td><td>0.21033831387592153</td></tr>\n",
       "<tr><td>61.0</td><td>781.0</td><td>0.20819955789418243</td></tr>\n",
       "<tr><td>61.0</td><td>901.0</td><td>0.2006635661498068</td></tr>\n",
       "<tr><td>61.0</td><td>1021.0</td><td>0.20396432294693714</td></tr>\n",
       "<tr><td>61.0</td><td>1141.0</td><td>0.19476207745232268</td></tr>\n",
       "<tr><td>...</td><td>...</td><td>...</td></tr>\n",
       "<tr><td>19141.0</td><td>18061.0</td><td>0.2016012478342495</td></tr>\n",
       "<tr><td>19141.0</td><td>18181.0</td><td>0.20404551713255975</td></tr>\n",
       "<tr><td>19141.0</td><td>18301.0</td><td>0.19988283552714137</td></tr>\n",
       "<tr><td>19141.0</td><td>18421.0</td><td>0.20624470827340066</td></tr>\n",
       "<tr><td>19141.0</td><td>18541.0</td><td>0.1727136439713873</td></tr>\n",
       "<tr><td>19141.0</td><td>18661.0</td><td>0.18017606810947664</td></tr>\n",
       "<tr><td>19141.0</td><td>18781.0</td><td>0.19204242263822238</td></tr>\n",
       "<tr><td>19141.0</td><td>18901.0</td><td>0.2007278283539261</td></tr>\n",
       "<tr><td>19141.0</td><td>19021.0</td><td>0.19602472795730316</td></tr>\n",
       "<tr><td>19141.0</td><td>19141.0</td><td>0.20254239867608298</td></tr>\n",
       "</table></div>"
      ],
      "text/plain": [
       "<Table length=25593>\n",
       "   x       y            FWHM       \n",
       "float64 float64       float64      \n",
       "------- ------- -------------------\n",
       "   61.0    61.0 0.20323053483078765\n",
       "   61.0   181.0    0.19668212489402\n",
       "   61.0   301.0 0.21544412354195713\n",
       "   61.0   421.0 0.20648502188808124\n",
       "   61.0   541.0 0.20496775479335524\n",
       "   61.0   661.0 0.21033831387592153\n",
       "   61.0   781.0 0.20819955789418243\n",
       "   61.0   901.0  0.2006635661498068\n",
       "   61.0  1021.0 0.20396432294693714\n",
       "   61.0  1141.0 0.19476207745232268\n",
       "    ...     ...                 ...\n",
       "19141.0 18061.0  0.2016012478342495\n",
       "19141.0 18181.0 0.20404551713255975\n",
       "19141.0 18301.0 0.19988283552714137\n",
       "19141.0 18421.0 0.20624470827340066\n",
       "19141.0 18541.0  0.1727136439713873\n",
       "19141.0 18661.0 0.18017606810947664\n",
       "19141.0 18781.0 0.19204242263822238\n",
       "19141.0 18901.0  0.2007278283539261\n",
       "19141.0 19021.0 0.19602472795730316\n",
       "19141.0 19141.0 0.20254239867608298"
      ]
     },
     "execution_count": 22,
     "metadata": {},
     "output_type": "execute_result"
    }
   ],
   "source": [
    "from astropy.table import Table\n",
    "\n",
    "# - a table giving the match between the PSF cutout center position (columns x_center and y_center) on the PSF grid image and the coordinate in pixels (columns x and y) or on the sky (Ra, Dec) on the MER tile data.\n",
    "Table.read(grid_psf[2])"
   ]
  },
  {
   "cell_type": "code",
   "execution_count": 23,
   "id": "5a94fd4b-7df4-46ea-9ba8-312eb7465dff",
   "metadata": {},
   "outputs": [],
   "source": [
    "# find closest match between target and PSF catalog (ignoring edges?)\n",
    "# get center of that closest PSF\n",
    "# slice out the PSF with stamp size, save"
   ]
  }
 ],
 "metadata": {
  "kernelspec": {
   "display_name": "EUCLID-TOOLS",
   "language": "python",
   "name": "euclid-tools"
  },
  "language_info": {
   "codemirror_mode": {
    "name": "ipython",
    "version": 3
   },
   "file_extension": ".py",
   "mimetype": "text/x-python",
   "name": "python",
   "nbconvert_exporter": "python",
   "pygments_lexer": "ipython3",
   "version": "3.9.0"
  }
 },
 "nbformat": 4,
 "nbformat_minor": 5
}
