{
 "cells": [
  {
   "cell_type": "code",
   "execution_count": 77,
   "metadata": {},
   "outputs": [
    {
     "name": "stdout",
     "output_type": "stream",
     "text": [
      "The autoreload extension is already loaded. To reload it, use:\n",
      "  %reload_ext autoreload\n"
     ]
    }
   ],
   "source": [
    "%load_ext autoreload\n",
    "%autoreload 2"
   ]
  },
  {
   "cell_type": "code",
   "execution_count": 78,
   "metadata": {},
   "outputs": [
    {
     "name": "stdout",
     "output_type": "stream",
     "text": [
      "Defaulting to user installation because normal site-packages is not writeable\n",
      "Requirement already satisfied: omegaconf in /home/mwalms01/.local/lib/python3.11/site-packages (2.3.0)\n",
      "Requirement already satisfied: antlr4-python3-runtime==4.9.* in /home/mwalms01/.local/lib/python3.11/site-packages (from omegaconf) (4.9.3)\n",
      "Requirement already satisfied: PyYAML>=5.1.0 in /opt/miniconda/lib/python3.11/site-packages (from omegaconf) (6.0.1)\n"
     ]
    }
   ],
   "source": [
    "!pip install omegaconf"
   ]
  },
  {
   "cell_type": "code",
   "execution_count": 79,
   "metadata": {
    "tags": []
   },
   "outputs": [],
   "source": [
    "import sys\n",
    "import os\n",
    "repo_dir = '/media/user/repos/bulk-euclid-cutouts'\n",
    "os.path.isdir(repo_dir)\n",
    "sys.path.insert(0,repo_dir)"
   ]
  },
  {
   "cell_type": "code",
   "execution_count": 80,
   "metadata": {},
   "outputs": [],
   "source": [
    "import logging\n",
    "logging.basicConfig(level=logging.INFO)\n",
    "\n",
    "from omegaconf import OmegaConf\n",
    "import pandas as pd\n",
    "\n",
    "from bulk_euclid.utils import pipeline_utils\n",
    "from bulk_euclid.external_targets import pipeline"
   ]
  },
  {
   "cell_type": "code",
   "execution_count": 81,
   "metadata": {},
   "outputs": [
    {
     "name": "stderr",
     "output_type": "stream",
     "text": [
      "INFO:astroquery:Login to Euclid TAP server\n"
     ]
    },
    {
     "name": "stdout",
     "output_type": "stream",
     "text": [
      "INFO: Login to Euclid TAP server [astroquery.esa.euclid.core]\n"
     ]
    },
    {
     "name": "stdin",
     "output_type": "stream",
     "text": [
      "User:  mwalms01\n",
      "Password:  ········\n"
     ]
    },
    {
     "name": "stderr",
     "output_type": "stream",
     "text": [
      "INFO:astroquery:OK\n",
      "INFO:astroquery:Login to Euclid data service\n",
      "INFO:astroquery:OK\n",
      "INFO:astroquery:Login to Euclid cutout service\n"
     ]
    },
    {
     "name": "stdout",
     "output_type": "stream",
     "text": [
      "INFO: OK [astroquery.utils.tap.core]\n",
      "INFO: Login to Euclid data service [astroquery.esa.euclid.core]\n",
      "INFO: OK [astroquery.utils.tap.core]\n",
      "INFO: Login to Euclid cutout service [astroquery.esa.euclid.core]\n"
     ]
    },
    {
     "name": "stderr",
     "output_type": "stream",
     "text": [
      "INFO:astroquery:OK\n"
     ]
    },
    {
     "name": "stdout",
     "output_type": "stream",
     "text": [
      "INFO: OK [astroquery.utils.tap.core]\n"
     ]
    }
   ],
   "source": [
    "from astroquery.esa.euclid.core import Euclid\n",
    "Euclid.login()"
   ]
  },
  {
   "cell_type": "code",
   "execution_count": 82,
   "metadata": {},
   "outputs": [],
   "source": [
    "# configuration: what to download\n",
    "cfg_dict = dict(\n",
    "    tile_dir='/media/user/repos/bulk-euclid-cutouts/tests/test_downloading',\n",
    "    release_name='F-006',\n",
    "    bands=['VIS', 'NIR_Y'],\n",
    "    auxillary_products=['MERPSF', 'MERRMS', 'MERBKG']\n",
    ")\n",
    "cfg = OmegaConf.create(cfg_dict)  # easy to access with cfg.base_dir, etc"
   ]
  },
  {
   "cell_type": "code",
   "execution_count": 83,
   "metadata": {},
   "outputs": [],
   "source": [
    "tile_index = 102021539  # in the full pipeline, we iterate through each tile index, so it isn't part of cfg"
   ]
  },
  {
   "cell_type": "code",
   "execution_count": 84,
   "metadata": {},
   "outputs": [
    {
     "name": "stderr",
     "output_type": "stream",
     "text": [
      "INFO:astroquery:Query finished.\n"
     ]
    },
    {
     "name": "stdout",
     "output_type": "stream",
     "text": [
      "INFO: Query finished. [astroquery.utils.tap.core]\n",
      "Found 2  query results\n"
     ]
    },
    {
     "data": {
      "text/html": [
       "<div>\n",
       "<style scoped>\n",
       "    .dataframe tbody tr th:only-of-type {\n",
       "        vertical-align: middle;\n",
       "    }\n",
       "\n",
       "    .dataframe tbody tr th {\n",
       "        vertical-align: top;\n",
       "    }\n",
       "\n",
       "    .dataframe thead th {\n",
       "        text-align: right;\n",
       "    }\n",
       "</style>\n",
       "<table border=\"1\" class=\"dataframe\">\n",
       "  <thead>\n",
       "    <tr style=\"text-align: right;\">\n",
       "      <th></th>\n",
       "      <th>category</th>\n",
       "      <th>checksum</th>\n",
       "      <th>creation_date</th>\n",
       "      <th>crpix1</th>\n",
       "      <th>crpix2</th>\n",
       "      <th>crval1</th>\n",
       "      <th>crval2</th>\n",
       "      <th>data_release_oid</th>\n",
       "      <th>data_size</th>\n",
       "      <th>dec</th>\n",
       "      <th>...</th>\n",
       "      <th>ra</th>\n",
       "      <th>release_date</th>\n",
       "      <th>release_name</th>\n",
       "      <th>second_type</th>\n",
       "      <th>stc_s</th>\n",
       "      <th>technique</th>\n",
       "      <th>tile_index</th>\n",
       "      <th>to_be_published</th>\n",
       "      <th>zero_point</th>\n",
       "      <th>zero_point_error</th>\n",
       "    </tr>\n",
       "  </thead>\n",
       "  <tbody>\n",
       "    <tr>\n",
       "      <th>0</th>\n",
       "      <td>SCIENCE</td>\n",
       "      <td>cd0274bbfee8095dfea81d0943240651</td>\n",
       "      <td>2024-04-06T12:31:47.458</td>\n",
       "      <td>9600.0</td>\n",
       "      <td>9600.0</td>\n",
       "      <td>92.511702</td>\n",
       "      <td>-48.0</td>\n",
       "      <td>9</td>\n",
       "      <td>-32.0</td>\n",
       "      <td>-48.0</td>\n",
       "      <td>...</td>\n",
       "      <td>92.511702</td>\n",
       "      <td>&lt;NA&gt;</td>\n",
       "      <td>F-006</td>\n",
       "      <td>SKY</td>\n",
       "      <td>Polygon J2000 92.91225140887455 -48.2659414530...</td>\n",
       "      <td>IMAGE</td>\n",
       "      <td>102021539</td>\n",
       "      <td>1</td>\n",
       "      <td>29.8</td>\n",
       "      <td>0.1</td>\n",
       "    </tr>\n",
       "    <tr>\n",
       "      <th>1</th>\n",
       "      <td>SCIENCE</td>\n",
       "      <td>8c04a2f6402477d88a04b8f98e1e2337</td>\n",
       "      <td>2024-04-06T12:07:04.858</td>\n",
       "      <td>9600.0</td>\n",
       "      <td>9600.0</td>\n",
       "      <td>92.511702</td>\n",
       "      <td>-48.0</td>\n",
       "      <td>9</td>\n",
       "      <td>-32.0</td>\n",
       "      <td>-48.0</td>\n",
       "      <td>...</td>\n",
       "      <td>92.511702</td>\n",
       "      <td>&lt;NA&gt;</td>\n",
       "      <td>F-006</td>\n",
       "      <td>SKY</td>\n",
       "      <td>Polygon J2000 92.91225140887455 -48.2659414530...</td>\n",
       "      <td>IMAGE</td>\n",
       "      <td>102021539</td>\n",
       "      <td>1</td>\n",
       "      <td>24.6</td>\n",
       "      <td>0.1</td>\n",
       "    </tr>\n",
       "  </tbody>\n",
       "</table>\n",
       "<p>2 rows × 31 columns</p>\n",
       "</div>"
      ],
      "text/plain": [
       "  category                          checksum            creation_date  crpix1  \\\n",
       "0  SCIENCE  cd0274bbfee8095dfea81d0943240651  2024-04-06T12:31:47.458  9600.0   \n",
       "1  SCIENCE  8c04a2f6402477d88a04b8f98e1e2337  2024-04-06T12:07:04.858  9600.0   \n",
       "\n",
       "   crpix2     crval1  crval2  data_release_oid  data_size   dec  ...  \\\n",
       "0  9600.0  92.511702   -48.0                 9      -32.0 -48.0  ...   \n",
       "1  9600.0  92.511702   -48.0                 9      -32.0 -48.0  ...   \n",
       "\n",
       "          ra release_date release_name second_type  \\\n",
       "0  92.511702         <NA>        F-006         SKY   \n",
       "1  92.511702         <NA>        F-006         SKY   \n",
       "\n",
       "                                               stc_s technique  tile_index  \\\n",
       "0  Polygon J2000 92.91225140887455 -48.2659414530...     IMAGE   102021539   \n",
       "1  Polygon J2000 92.91225140887455 -48.2659414530...     IMAGE   102021539   \n",
       "\n",
       "  to_be_published zero_point  zero_point_error  \n",
       "0               1       29.8               0.1  \n",
       "1               1       24.6               0.1  \n",
       "\n",
       "[2 rows x 31 columns]"
      ]
     },
     "execution_count": 84,
     "metadata": {},
     "output_type": "execute_result"
    }
   ],
   "source": [
    "flux_tile_metadata = pipeline_utils.get_tiles_in_survey(tile_index=tile_index, bands=cfg.bands, release_name=cfg.release_name)\n",
    "flux_tile_metadata"
   ]
  },
  {
   "cell_type": "code",
   "execution_count": 85,
   "metadata": {},
   "outputs": [
    {
     "data": {
      "text/html": [
       "<div>\n",
       "<style scoped>\n",
       "    .dataframe tbody tr th:only-of-type {\n",
       "        vertical-align: middle;\n",
       "    }\n",
       "\n",
       "    .dataframe tbody tr th {\n",
       "        vertical-align: top;\n",
       "    }\n",
       "\n",
       "    .dataframe thead th {\n",
       "        text-align: right;\n",
       "    }\n",
       "</style>\n",
       "<table border=\"1\" class=\"dataframe\">\n",
       "  <thead>\n",
       "    <tr style=\"text-align: right;\">\n",
       "      <th></th>\n",
       "      <th>aux_mosaic_oid</th>\n",
       "      <th>checksum</th>\n",
       "      <th>file_name</th>\n",
       "      <th>file_path</th>\n",
       "      <th>mosaic_product_oid</th>\n",
       "      <th>product_type_sas</th>\n",
       "      <th>stype</th>\n",
       "      <th>to_be_published</th>\n",
       "    </tr>\n",
       "  </thead>\n",
       "  <tbody>\n",
       "    <tr>\n",
       "      <th>0</th>\n",
       "      <td>44741</td>\n",
       "      <td>57e84f6d45aec9a82a2d81afa90d2049</td>\n",
       "      <td>EUC_MER_BGMOD-VIS_TILE102021539-8FE24F_2024040...</td>\n",
       "      <td>/data_staging_otf/repository_otf/F-006/MER/102...</td>\n",
       "      <td>9965</td>\n",
       "      <td>MERBKG</td>\n",
       "      <td>BKG</td>\n",
       "      <td>1</td>\n",
       "    </tr>\n",
       "    <tr>\n",
       "      <th>1</th>\n",
       "      <td>44744</td>\n",
       "      <td>789b3736bb3b50dd520fcfd1b5c7493f</td>\n",
       "      <td>EUC_MER_MOSAIC-VIS-RMS_TILE102021539-751A38_20...</td>\n",
       "      <td>/data_staging_otf/repository_otf/F-006/MER/102...</td>\n",
       "      <td>9965</td>\n",
       "      <td>MERRMS</td>\n",
       "      <td>RMS</td>\n",
       "      <td>1</td>\n",
       "    </tr>\n",
       "    <tr>\n",
       "      <th>2</th>\n",
       "      <td>44743</td>\n",
       "      <td>69309f1fd9f15dd2da69c926095e0e92</td>\n",
       "      <td>EUC_MER_CATALOG-PSF-VIS_TILE102021539-71CC48_2...</td>\n",
       "      <td>/data_staging_otf/repository_otf/F-006/MER/102...</td>\n",
       "      <td>9965</td>\n",
       "      <td>MERPSF</td>\n",
       "      <td>PSF</td>\n",
       "      <td>1</td>\n",
       "    </tr>\n",
       "  </tbody>\n",
       "</table>\n",
       "</div>"
      ],
      "text/plain": [
       "   aux_mosaic_oid                          checksum  \\\n",
       "0           44741  57e84f6d45aec9a82a2d81afa90d2049   \n",
       "1           44744  789b3736bb3b50dd520fcfd1b5c7493f   \n",
       "2           44743  69309f1fd9f15dd2da69c926095e0e92   \n",
       "\n",
       "                                           file_name  \\\n",
       "0  EUC_MER_BGMOD-VIS_TILE102021539-8FE24F_2024040...   \n",
       "1  EUC_MER_MOSAIC-VIS-RMS_TILE102021539-751A38_20...   \n",
       "2  EUC_MER_CATALOG-PSF-VIS_TILE102021539-71CC48_2...   \n",
       "\n",
       "                                           file_path  mosaic_product_oid  \\\n",
       "0  /data_staging_otf/repository_otf/F-006/MER/102...                9965   \n",
       "1  /data_staging_otf/repository_otf/F-006/MER/102...                9965   \n",
       "2  /data_staging_otf/repository_otf/F-006/MER/102...                9965   \n",
       "\n",
       "  product_type_sas stype  to_be_published  \n",
       "0           MERBKG   BKG                1  \n",
       "1           MERRMS   RMS                1  \n",
       "2           MERPSF   PSF                1  "
      ]
     },
     "execution_count": 85,
     "metadata": {},
     "output_type": "execute_result"
    }
   ],
   "source": [
    "flux_tile = flux_tile_metadata.iloc[1]\n",
    "auxillary_tile_metadata = pipeline_utils.get_auxillary_tiles(flux_tile['mosaic_product_oid']) \n",
    "auxillary_tile_metadata"
   ]
  },
  {
   "cell_type": "code",
   "execution_count": 86,
   "metadata": {
    "tags": []
   },
   "outputs": [
    {
     "name": "stderr",
     "output_type": "stream",
     "text": [
      "INFO:astroquery:Query finished.\n",
      "INFO:root:Downloaded flux+auxillary tiles: {'NIR_Y': {'FLUX': '/media/user/repos/bulk-euclid-cutouts/tests/test_downloading/EUC_MER_BGSUB-MOSAIC-NIR-Y_TILE102021539-677258_20240405T223525.219021Z_00.00.fits', 'MERBKG': '/media/user/repos/bulk-euclid-cutouts/tests/test_downloading/EUC_MER_BGMOD-NIR-Y_TILE102021539-F630D_20240405T223525.218832Z_00.00.fits', 'MERPSF': '/media/user/repos/bulk-euclid-cutouts/tests/test_downloading/EUC_MER_CATALOG-PSF-NIR-Y_TILE102021539-989050_20240406T034820.708751Z_00.00.fits', 'MERRMS': '/media/user/repos/bulk-euclid-cutouts/tests/test_downloading/EUC_MER_MOSAIC-NIR-Y-RMS_TILE102021539-F9D4BF_20240405T222015.990175Z_00.00.fits'}, 'VIS': {'FLUX': '/media/user/repos/bulk-euclid-cutouts/tests/test_downloading/EUC_MER_BGSUB-MOSAIC-VIS_TILE102021539-F91316_20240405T233444.877933Z_00.00.fits', 'MERBKG': '/media/user/repos/bulk-euclid-cutouts/tests/test_downloading/EUC_MER_BGMOD-VIS_TILE102021539-8FE24F_20240405T233444.877721Z_00.00.fits', 'MERPSF': '/media/user/repos/bulk-euclid-cutouts/tests/test_downloading/EUC_MER_CATALOG-PSF-VIS_TILE102021539-71CC48_20240406T035102.932811Z_00.00.fits', 'MERRMS': '/media/user/repos/bulk-euclid-cutouts/tests/test_downloading/EUC_MER_MOSAIC-VIS-RMS_TILE102021539-751A38_20240405T222335.805498Z_00.00.fits'}}\n"
     ]
    },
    {
     "name": "stdout",
     "output_type": "stream",
     "text": [
      "INFO: Query finished. [astroquery.utils.tap.core]\n",
      "Found 2  query results\n"
     ]
    },
    {
     "data": {
      "text/plain": [
       "{'NIR_Y': {'FLUX': '/media/user/repos/bulk-euclid-cutouts/tests/test_downloading/EUC_MER_BGSUB-MOSAIC-NIR-Y_TILE102021539-677258_20240405T223525.219021Z_00.00.fits',\n",
       "  'MERBKG': '/media/user/repos/bulk-euclid-cutouts/tests/test_downloading/EUC_MER_BGMOD-NIR-Y_TILE102021539-F630D_20240405T223525.218832Z_00.00.fits',\n",
       "  'MERPSF': '/media/user/repos/bulk-euclid-cutouts/tests/test_downloading/EUC_MER_CATALOG-PSF-NIR-Y_TILE102021539-989050_20240406T034820.708751Z_00.00.fits',\n",
       "  'MERRMS': '/media/user/repos/bulk-euclid-cutouts/tests/test_downloading/EUC_MER_MOSAIC-NIR-Y-RMS_TILE102021539-F9D4BF_20240405T222015.990175Z_00.00.fits'},\n",
       " 'VIS': {'FLUX': '/media/user/repos/bulk-euclid-cutouts/tests/test_downloading/EUC_MER_BGSUB-MOSAIC-VIS_TILE102021539-F91316_20240405T233444.877933Z_00.00.fits',\n",
       "  'MERBKG': '/media/user/repos/bulk-euclid-cutouts/tests/test_downloading/EUC_MER_BGMOD-VIS_TILE102021539-8FE24F_20240405T233444.877721Z_00.00.fits',\n",
       "  'MERPSF': '/media/user/repos/bulk-euclid-cutouts/tests/test_downloading/EUC_MER_CATALOG-PSF-VIS_TILE102021539-71CC48_20240406T035102.932811Z_00.00.fits',\n",
       "  'MERRMS': '/media/user/repos/bulk-euclid-cutouts/tests/test_downloading/EUC_MER_MOSAIC-VIS-RMS_TILE102021539-751A38_20240405T222335.805498Z_00.00.fits'}}"
      ]
     },
     "execution_count": 86,
     "metadata": {},
     "output_type": "execute_result"
    }
   ],
   "source": [
    "dict_of_locs = pipeline.download_all_data_at_tile_index(cfg, tile_index)\n",
    "dict_of_locs"
   ]
  },
  {
   "cell_type": "code",
   "execution_count": null,
   "metadata": {},
   "outputs": [],
   "source": []
  }
 ],
 "metadata": {
  "kernelspec": {
   "display_name": "EUCLID-TOOLS",
   "language": "python",
   "name": "euclid-tools"
  },
  "language_info": {
   "codemirror_mode": {
    "name": "ipython",
    "version": 3
   },
   "file_extension": ".py",
   "mimetype": "text/x-python",
   "name": "python",
   "nbconvert_exporter": "python",
   "pygments_lexer": "ipython3",
   "version": "3.9.0"
  }
 },
 "nbformat": 4,
 "nbformat_minor": 4
}
