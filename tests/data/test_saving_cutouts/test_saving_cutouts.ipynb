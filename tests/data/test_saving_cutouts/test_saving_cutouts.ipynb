{
 "cells": [
  {
   "cell_type": "code",
   "execution_count": null,
   "metadata": {},
   "outputs": [],
   "source": [
    "%load_ext autoreload\n",
    "%autoreload 2"
   ]
  },
  {
   "cell_type": "code",
   "execution_count": null,
   "metadata": {},
   "outputs": [],
   "source": [
    "import sys\n",
    "import os\n",
    "repo_dir = '/media/user/repos/bulk-euclid-cutouts'\n",
    "os.path.isdir(repo_dir)\n",
    "sys.path.insert(0,repo_dir)"
   ]
  },
  {
   "cell_type": "code",
   "execution_count": null,
   "metadata": {},
   "outputs": [],
   "source": [
    "import logging\n",
    "import warnings\n",
    "import os\n",
    "\n",
    "from bulk_euclid.utils import pipeline_utils\n",
    "from bulk_euclid.external_targets import pipeline"
   ]
  },
  {
   "cell_type": "code",
   "execution_count": null,
   "metadata": {},
   "outputs": [],
   "source": [
    "from astroquery.esa.euclid.core import Euclid\n",
    "Euclid.login()"
   ]
  },
  {
   "cell_type": "code",
   "execution_count": null,
   "metadata": {},
   "outputs": [],
   "source": [
    "cfg = {}  # not currently used\n",
    "\n",
    "tile_index = 102021539\n",
    "\n",
    "targets_at_that_index = [\n",
    "{'tile_index': 102021539,\n",
    "  'id_str': 'a',\n",
    "  'target_ra': 92.8371844681179,\n",
    "  'target_dec': -47.8868920683699,\n",
    "  'target_field_of_view': 100},\n",
    " {'tile_index': 102021539,\n",
    "  'id_str': 'b',\n",
    "  'target_ra': 92.836691187603,\n",
    "  'target_dec': -48.1117628801209,\n",
    "  'target_field_of_view': 100},\n",
    " {'tile_index': 102021539,\n",
    "  'id_str': 'd',\n",
    "  'target_ra': 92.835560566775,\n",
    "  'target_dec': -47.978437467137,\n",
    "  'target_field_of_view': 100},\n",
    " {'tile_index': 102021539,\n",
    "  'id_str': 'e',\n",
    "  'target_ra': 92.8351734327103,\n",
    "  'target_dec': -48.1054532354171,\n",
    "  'target_field_of_view': 100},\n",
    " {'tile_index': 102021539,\n",
    "  'id_str': 'f',\n",
    "  'target_ra': 92.8343976295701,\n",
    "  'target_dec': -47.9993017111107,\n",
    "  'target_field_of_view': 100}\n",
    "]\n",
    "\n",
    "dict_of_locs = {\n",
    "    'NIR_Y': {\n",
    "        'FLUX': '/media/user/repos/bulk_euclid_cutouts/tests/test_downloading/EUC_MER_BGSUB-MOSAIC-NIR-Y_TILE102021539-677258_20240405T223525.219021Z_00.00.fits',\n",
    "        'MERPSF': '/media/user/repos/bulk_euclid_cutouts/tests/test_downloading/EUC_MER_CATALOG-PSF-NIR-Y_TILE102021539-989050_20240406T034820.708751Z_00.00.fits',\n",
    "        'MERBKG': '/media/user/repos/bulk_euclid_cutouts/tests/test_downloading/EUC_MER_BGMOD-NIR-Y_TILE102021539-F630D_20240405T223525.218832Z_00.00.fits',\n",
    "        'MERRMS': '/media/user/repos/bulk_euclid_cutouts/tests/test_downloading/EUC_MER_MOSAIC-NIR-Y-RMS_TILE102021539-F9D4BF_20240405T222015.990175Z_00.00.fits'\n",
    "    },\n",
    "    'VIS': {\n",
    "        'FLUX': '/media/user/repos/bulk_euclid_cutouts/tests/test_downloading/EUC_MER_BGSUB-MOSAIC-VIS_TILE102021539-F91316_20240405T233444.877933Z_00.00.fits',\n",
    "        'MERPSF': '/media/user/repos/bulk_euclid_cutouts/tests/test_downloading/EUC_MER_CATALOG-PSF-VIS_TILE102021539-71CC48_20240406T035102.932811Z_00.00.fits',\n",
    "        'MERBKG': '/media/user/repos/bulk_euclid_cutouts/tests/test_downloading/EUC_MER_BGMOD-VIS_TILE102021539-8FE24F_20240405T233444.877721Z_00.00.fits',\n",
    "        'MERRMS': '/media/user/repos/bulk_euclid_cutouts/tests/test_downloading/EUC_MER_MOSAIC-VIS-RMS_TILE102021539-751A38_20240405T222335.805498Z_00.00.fits'\n",
    "    }\n",
    "}\n",
    "\n"
   ]
  },
  {
   "cell_type": "code",
   "execution_count": null,
   "metadata": {},
   "outputs": [],
   "source": [
    "dict_of_locs_for_band = dict_of_locs['VIS']\n",
    "pipeline.get_cutout_data_for_band(cfg, dict_of_locs_for_band, targets_at_that_index)"
   ]
  },
  {
   "cell_type": "code",
   "execution_count": null,
   "metadata": {},
   "outputs": [],
   "source": [
    "pipeline.save_cutouts_for_all_targets_in_that_tile(cfg, dict_of_locs, targets_at_that_index)"
   ]
  }
 ],
 "metadata": {
  "kernelspec": {
   "display_name": ".conda",
   "language": "python",
   "name": "python3"
  },
  "language_info": {
   "name": "python",
   "version": "3.9.19"
  }
 },
 "nbformat": 4,
 "nbformat_minor": 2
}
