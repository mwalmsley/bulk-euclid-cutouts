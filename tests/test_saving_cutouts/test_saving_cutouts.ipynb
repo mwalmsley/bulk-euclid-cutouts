{
 "cells": [
  {
   "cell_type": "code",
   "execution_count": 32,
   "metadata": {},
   "outputs": [
    {
     "name": "stdout",
     "output_type": "stream",
     "text": [
      "The autoreload extension is already loaded. To reload it, use:\n",
      "  %reload_ext autoreload\n"
     ]
    }
   ],
   "source": [
    "%load_ext autoreload\n",
    "%autoreload 2"
   ]
  },
  {
   "cell_type": "code",
   "execution_count": 33,
   "metadata": {},
   "outputs": [],
   "source": [
    "import sys\n",
    "import os\n",
    "repo_dir = '/media/user/repos/bulk-euclid-cutouts'\n",
    "os.path.isdir(repo_dir)\n",
    "sys.path.insert(0,repo_dir)"
   ]
  },
  {
   "cell_type": "code",
   "execution_count": 34,
   "metadata": {},
   "outputs": [],
   "source": [
    "import logging\n",
    "import warnings\n",
    "import os\n",
    "\n",
    "import pandas as pd\n",
    "from omegaconf import OmegaConf\n",
    "\n",
    "from bulk_euclid.utils import pipeline_utils\n",
    "from bulk_euclid.external_targets import pipeline"
   ]
  },
  {
   "cell_type": "code",
   "execution_count": 35,
   "metadata": {},
   "outputs": [
    {
     "name": "stderr",
     "output_type": "stream",
     "text": [
      "INFO:astroquery:Login to Euclid TAP server\n"
     ]
    },
    {
     "name": "stdout",
     "output_type": "stream",
     "text": [
      "INFO: Login to Euclid TAP server [astroquery.esa.euclid.core]\n"
     ]
    },
    {
     "name": "stdin",
     "output_type": "stream",
     "text": [
      "User:  mwalms01\n",
      "Password:  ········\n"
     ]
    },
    {
     "name": "stderr",
     "output_type": "stream",
     "text": [
      "INFO:astroquery:OK\n",
      "INFO:astroquery:Login to Euclid data service\n"
     ]
    },
    {
     "name": "stdout",
     "output_type": "stream",
     "text": [
      "INFO: OK [astroquery.utils.tap.core]\n",
      "INFO: Login to Euclid data service [astroquery.esa.euclid.core]\n"
     ]
    },
    {
     "name": "stderr",
     "output_type": "stream",
     "text": [
      "INFO:astroquery:OK\n",
      "INFO:astroquery:Login to Euclid cutout service\n"
     ]
    },
    {
     "name": "stdout",
     "output_type": "stream",
     "text": [
      "INFO: OK [astroquery.utils.tap.core]\n",
      "INFO: Login to Euclid cutout service [astroquery.esa.euclid.core]\n"
     ]
    },
    {
     "name": "stderr",
     "output_type": "stream",
     "text": [
      "INFO:astroquery:OK\n"
     ]
    },
    {
     "name": "stdout",
     "output_type": "stream",
     "text": [
      "INFO: OK [astroquery.utils.tap.core]\n"
     ]
    }
   ],
   "source": [
    "from astroquery.esa.euclid.core import Euclid\n",
    "Euclid.login()"
   ]
  },
  {
   "cell_type": "code",
   "execution_count": 41,
   "metadata": {},
   "outputs": [],
   "source": [
    "# configuration: what to download\n",
    "cfg_dict = dict(\n",
    "    fits_dir='/media/user/repos/bulk-euclid-cutouts/tests/test_saving_cutouts/fits',\n",
    "    bands=['VIS', 'NIR_Y'],\n",
    "    auxillary_products=['MERPSF', 'MERRMS', 'MERBKG']\n",
    ")\n",
    "cfg = OmegaConf.create(cfg_dict)  # easy to access with cfg.base_dir, etc\n",
    "\n",
    "tile_index = 102021539\n",
    "\n",
    "targets_at_that_index = pd.DataFrame([\n",
    "{'tile_index': 102021539,\n",
    "  'id_str': 'a',\n",
    "  'target_ra': 92.8371844681179,\n",
    "  'target_dec': -47.8868920683699,\n",
    "  'target_field_of_view': 20},\n",
    " {'tile_index': 102021539,\n",
    "  'id_str': 'b',\n",
    "  'target_ra': 92.836691187603,\n",
    "  'target_dec': -48.1117628801209,\n",
    "  'target_field_of_view': 20},\n",
    " {'tile_index': 102021539,\n",
    "  'id_str': 'd',\n",
    "  'target_ra': 92.835560566775,\n",
    "  'target_dec': -47.978437467137,\n",
    "  'target_field_of_view': 20},\n",
    " {'tile_index': 102021539,\n",
    "  'id_str': 'e',\n",
    "  'target_ra': 92.8351734327103,\n",
    "  'target_dec': -48.1054532354171,\n",
    "  'target_field_of_view': 20},\n",
    " {'tile_index': 102021539,\n",
    "  'id_str': 'f',\n",
    "  'target_ra': 92.8343976295701,\n",
    "  'target_dec': -47.9993017111107,\n",
    "  'target_field_of_view': 20}\n",
    "])\n",
    "\n",
    "dict_of_locs = {'NIR_Y': {'FLUX': '/media/user/repos/bulk-euclid-cutouts/tests/test_downloading/EUC_MER_BGSUB-MOSAIC-NIR-Y_TILE102021539-677258_20240405T223525.219021Z_00.00.fits',\n",
    "  'MERRMS': '/media/user/repos/bulk-euclid-cutouts/tests/test_downloading/EUC_MER_MOSAIC-NIR-Y-RMS_TILE102021539-F9D4BF_20240405T222015.990175Z_00.00.fits',\n",
    "  'MERPSF': '/media/user/repos/bulk-euclid-cutouts/tests/test_downloading/EUC_MER_CATALOG-PSF-NIR-Y_TILE102021539-989050_20240406T034820.708751Z_00.00.fits',\n",
    "  'MERBKG': '/media/user/repos/bulk-euclid-cutouts/tests/test_downloading/EUC_MER_BGMOD-NIR-Y_TILE102021539-F630D_20240405T223525.218832Z_00.00.fits'},\n",
    " 'VIS': {'FLUX': '/media/user/repos/bulk-euclid-cutouts/tests/test_downloading/EUC_MER_BGSUB-MOSAIC-VIS_TILE102021539-F91316_20240405T233444.877933Z_00.00.fits',\n",
    "  'MERPSF': '/media/user/repos/bulk-euclid-cutouts/tests/test_downloading/EUC_MER_CATALOG-PSF-VIS_TILE102021539-71CC48_20240406T035102.932811Z_00.00.fits',\n",
    "  'MERBKG': '/media/user/repos/bulk-euclid-cutouts/tests/test_downloading/EUC_MER_BGMOD-VIS_TILE102021539-8FE24F_20240405T233444.877721Z_00.00.fits',\n",
    "  'MERRMS': '/media/user/repos/bulk-euclid-cutouts/tests/test_downloading/EUC_MER_MOSAIC-VIS-RMS_TILE102021539-751A38_20240405T222335.805498Z_00.00.fits'}}\n",
    "\n"
   ]
  },
  {
   "cell_type": "code",
   "execution_count": 42,
   "metadata": {},
   "outputs": [
    {
     "data": {
      "text/plain": [
       "[{'FLUX': <astropy.nddata.utils.Cutout2D at 0x7fc9ade0d4f0>,\n",
       "  'MERRMS': <astropy.nddata.utils.Cutout2D at 0x7fc9ade0d220>,\n",
       "  'MERBKG': <astropy.nddata.utils.Cutout2D at 0x7fc9ade0de80>,\n",
       "  'MERPSF': <astropy.nddata.utils.Cutout2D at 0x7fc9ade0da00>},\n",
       " {'FLUX': <astropy.nddata.utils.Cutout2D at 0x7fc9ade0deb0>,\n",
       "  'MERRMS': <astropy.nddata.utils.Cutout2D at 0x7fc9ade0d1f0>,\n",
       "  'MERBKG': <astropy.nddata.utils.Cutout2D at 0x7fc9ade0de50>,\n",
       "  'MERPSF': <astropy.nddata.utils.Cutout2D at 0x7fc9ade0d850>},\n",
       " {'FLUX': <astropy.nddata.utils.Cutout2D at 0x7fc9ade0d7c0>,\n",
       "  'MERRMS': <astropy.nddata.utils.Cutout2D at 0x7fc9ade0ddc0>,\n",
       "  'MERBKG': <astropy.nddata.utils.Cutout2D at 0x7fc9ade0d550>,\n",
       "  'MERPSF': <astropy.nddata.utils.Cutout2D at 0x7fc9ade0d6d0>},\n",
       " {'FLUX': <astropy.nddata.utils.Cutout2D at 0x7fc9ade0d5b0>,\n",
       "  'MERRMS': <astropy.nddata.utils.Cutout2D at 0x7fc9c458f5e0>,\n",
       "  'MERBKG': <astropy.nddata.utils.Cutout2D at 0x7fc9c458f3d0>,\n",
       "  'MERPSF': <astropy.nddata.utils.Cutout2D at 0x7fc9ade0db20>},\n",
       " {'FLUX': <astropy.nddata.utils.Cutout2D at 0x7fc9c458f610>,\n",
       "  'MERRMS': <astropy.nddata.utils.Cutout2D at 0x7fc9c44cc6a0>,\n",
       "  'MERBKG': <astropy.nddata.utils.Cutout2D at 0x7fc9c44ccb80>,\n",
       "  'MERPSF': <astropy.nddata.utils.Cutout2D at 0x7fc9c46168b0>}]"
      ]
     },
     "execution_count": 42,
     "metadata": {},
     "output_type": "execute_result"
    }
   ],
   "source": [
    "dict_of_locs_for_band = dict_of_locs['VIS']\n",
    "pipeline.get_cutout_data_for_band(cfg, dict_of_locs_for_band, targets_at_that_index)"
   ]
  },
  {
   "cell_type": "code",
   "execution_count": 43,
   "metadata": {
    "tags": []
   },
   "outputs": [
    {
     "name": "stderr",
     "output_type": "stream",
     "text": [
      "WARNING: VerifyWarning: Card is too long, comment will be truncated. [astropy.io.fits.card]\n",
      "WARNING:astroquery:VerifyWarning: Card is too long, comment will be truncated.\n"
     ]
    }
   ],
   "source": [
    "pipeline.save_cutouts_for_all_targets_in_that_tile(cfg, dict_of_locs, targets_at_that_index)"
   ]
  },
  {
   "cell_type": "code",
   "execution_count": null,
   "metadata": {},
   "outputs": [],
   "source": []
  },
  {
   "cell_type": "code",
   "execution_count": null,
   "metadata": {},
   "outputs": [],
   "source": []
  },
  {
   "cell_type": "code",
   "execution_count": null,
   "metadata": {},
   "outputs": [],
   "source": []
  },
  {
   "cell_type": "code",
   "execution_count": null,
   "metadata": {},
   "outputs": [],
   "source": []
  },
  {
   "cell_type": "code",
   "execution_count": null,
   "metadata": {},
   "outputs": [],
   "source": []
  },
  {
   "cell_type": "code",
   "execution_count": null,
   "metadata": {},
   "outputs": [],
   "source": []
  }
 ],
 "metadata": {
  "kernelspec": {
   "display_name": "EUCLID-TOOLS",
   "language": "python",
   "name": "euclid-tools"
  },
  "language_info": {
   "codemirror_mode": {
    "name": "ipython",
    "version": 3
   },
   "file_extension": ".py",
   "mimetype": "text/x-python",
   "name": "python",
   "nbconvert_exporter": "python",
   "pygments_lexer": "ipython3",
   "version": "3.9.0"
  }
 },
 "nbformat": 4,
 "nbformat_minor": 4
}
